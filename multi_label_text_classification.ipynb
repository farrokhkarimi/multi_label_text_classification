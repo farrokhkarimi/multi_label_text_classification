{
  "nbformat": 4,
  "nbformat_minor": 0,
  "metadata": {
    "colab": {
      "provenance": [],
      "toc_visible": true,
      "include_colab_link": true
    },
    "kernelspec": {
      "name": "python3",
      "display_name": "Python 3"
    },
    "language_info": {
      "name": "python"
    },
    "accelerator": "GPU",
    "gpuClass": "standard"
  },
  "cells": [
    {
      "cell_type": "markdown",
      "metadata": {
        "id": "view-in-github",
        "colab_type": "text"
      },
      "source": [
        "<a href=\"https://colab.research.google.com/github/rzninvo/multi_label_text_classification/blob/main/multi_label_text_classification.ipynb\" target=\"_parent\"><img src=\"https://colab.research.google.com/assets/colab-badge.svg\" alt=\"Open In Colab\"/></a>"
      ]
    },
    {
      "cell_type": "markdown",
      "source": [
        "# Multi-label text classification\n",
        "\n",
        "**Author:** [Farrokh Karimi](https://farrokhkarimi.github.io/)  \n",
        "**Editor:** [Roham Zendehdel](https://github.com/rzninvo/)  \n",
        "**Description:** In this notebook, we want to classify the Ronash dataset into 20 categories. The original code has a accuracy of 81.9% and an average loss of 0.775. I'll be attempting to try different models and tune the hyperparameters to reach a better accuracy and loss. "
      ],
      "metadata": {
        "id": "Bij91pNWQOR5"
      }
    },
    {
      "cell_type": "markdown",
      "source": [
        "## Initialization\n",
        "We download the dataset and import the library requirements."
      ],
      "metadata": {
        "id": "VDDeUtDQA9Hy"
      }
    },
    {
      "cell_type": "code",
      "source": [
        "import matplotlib.pyplot as plt\n",
        "import numpy as np\n",
        "import pandas as pd\n",
        "import re\n",
        "import tensorflow as tf\n",
        "\n",
        "from collections import Counter\n",
        "from sklearn.model_selection import train_test_split\n",
        "from tensorflow.keras import layers"
      ],
      "metadata": {
        "id": "sL739kMAEsU9"
      },
      "execution_count": 1,
      "outputs": []
    },
    {
      "cell_type": "code",
      "source": [
        "# downloading Data from the Google Drive link\n",
        "!gdown 1Yq3XTnACkvaIiNlhX09Zth55nOau7jQy"
      ],
      "metadata": {
        "colab": {
          "base_uri": "https://localhost:8080/"
        },
        "id": "SHa9m3aLEbyP",
        "outputId": "9ebe0878-3aa0-46cb-e091-ee6821eb04d8"
      },
      "execution_count": 2,
      "outputs": [
        {
          "output_type": "stream",
          "name": "stdout",
          "text": [
            "Downloading...\n",
            "From: https://drive.google.com/uc?id=1Yq3XTnACkvaIiNlhX09Zth55nOau7jQy\n",
            "To: /content/Ronash_DS_Assignment.csv\n",
            "\r  0% 0.00/1.05M [00:00<?, ?B/s]\r100% 1.05M/1.05M [00:00<00:00, 134MB/s]\n"
          ]
        }
      ]
    },
    {
      "cell_type": "code",
      "source": [
        "ls"
      ],
      "metadata": {
        "colab": {
          "base_uri": "https://localhost:8080/"
        },
        "id": "6QpBuoWrC5QS",
        "outputId": "2909611a-7f4e-40c0-cfb3-b603404c528a"
      },
      "execution_count": 3,
      "outputs": [
        {
          "output_type": "stream",
          "name": "stdout",
          "text": [
            "Ronash_DS_Assignment.csv  \u001b[0m\u001b[01;34msample_data\u001b[0m/\n"
          ]
        }
      ]
    },
    {
      "cell_type": "markdown",
      "source": [
        "As we can see, the Ronash dataset has been succesfully downloaded."
      ],
      "metadata": {
        "id": "asOzBqCmBMpd"
      }
    },
    {
      "cell_type": "code",
      "source": [
        "# reading the csv file as a dataframe\n",
        "df = pd.read_csv('Ronash_DS_Assignment.csv')\n",
        "df"
      ],
      "metadata": {
        "colab": {
          "base_uri": "https://localhost:8080/",
          "height": 467
        },
        "id": "722bMOmzF4_H",
        "outputId": "3cdb4b36-c32f-4ddc-96b7-1e15a6af7dbf"
      },
      "execution_count": 4,
      "outputs": [
        {
          "output_type": "execute_result",
          "data": {
            "text/plain": [
              "         product_id                                              title  \\\n",
              "0     3937721221199    Fidele Super Premium Adult Large Breed Dog Food   \n",
              "1     7353058033889                    Foldable Pet Toys Linen Storage   \n",
              "2     6594773549129                                     Bok Dok Diaper   \n",
              "3     4802008318014                              Tastybone Toy Chicken   \n",
              "4     1779705151539                Leather Leash Tab - Short Dog Leash   \n",
              "...             ...                                                ...   \n",
              "5265  4637089464407                              Candylab MOO Milk Van   \n",
              "5266  4996632444987  Truck - Modern Era Vehicles -- Red, White -  S...   \n",
              "5267  5528541003927  Car Sticker Flags Decal American Flag Sticker for   \n",
              "5268  1395163889730          Lazer Helmets Bayamo Pit Bull - Full Face   \n",
              "5269  3535679324240                             Deutz Agrotron Tractor   \n",
              "\n",
              "                 vendor                                               tags  \\\n",
              "0                Fidele  ['Adult', 'Bangalore', 'Chennai', 'Chicken', '...   \n",
              "1             Cap Point                                                 []   \n",
              "2             Pets Home  ['Brand_Pet Arabia', 'Category_Pets Home', 'Ca...   \n",
              "3             TastyBone                                                 []   \n",
              "4            Mighty Paw                 ['Leash', 'Leash Tab', 'Training']   \n",
              "...                 ...                                                ...   \n",
              "5265           Candylab  ['3 Years +', 'candylab', 'Discount Products',...   \n",
              "5266   Woodland Scenics  ['HO Scale', 'ho-scale-items', 'vehicles', 'wo...   \n",
              "5267        Cyan Selene                                          ['Other']   \n",
              "5268  OPEN BOX BARGAINS  ['65061090', 'Antiscratch Pinlock Ready Visor'...   \n",
              "5269               Siku  ['$0 to $25', 'diecast-models', 'gift-finder',...   \n",
              "\n",
              "                    category  \n",
              "0     Animals & Pet Supplies  \n",
              "1     Animals & Pet Supplies  \n",
              "2     Animals & Pet Supplies  \n",
              "3     Animals & Pet Supplies  \n",
              "4     Animals & Pet Supplies  \n",
              "...                      ...  \n",
              "5265        Vehicles & Parts  \n",
              "5266        Vehicles & Parts  \n",
              "5267        Vehicles & Parts  \n",
              "5268        Vehicles & Parts  \n",
              "5269        Vehicles & Parts  \n",
              "\n",
              "[5270 rows x 5 columns]"
            ],
            "text/html": [
              "\n",
              "  <div id=\"df-b3d2130c-5d34-41af-aae7-5f0c4504e39e\">\n",
              "    <div class=\"colab-df-container\">\n",
              "      <div>\n",
              "<style scoped>\n",
              "    .dataframe tbody tr th:only-of-type {\n",
              "        vertical-align: middle;\n",
              "    }\n",
              "\n",
              "    .dataframe tbody tr th {\n",
              "        vertical-align: top;\n",
              "    }\n",
              "\n",
              "    .dataframe thead th {\n",
              "        text-align: right;\n",
              "    }\n",
              "</style>\n",
              "<table border=\"1\" class=\"dataframe\">\n",
              "  <thead>\n",
              "    <tr style=\"text-align: right;\">\n",
              "      <th></th>\n",
              "      <th>product_id</th>\n",
              "      <th>title</th>\n",
              "      <th>vendor</th>\n",
              "      <th>tags</th>\n",
              "      <th>category</th>\n",
              "    </tr>\n",
              "  </thead>\n",
              "  <tbody>\n",
              "    <tr>\n",
              "      <th>0</th>\n",
              "      <td>3937721221199</td>\n",
              "      <td>Fidele Super Premium Adult Large Breed Dog Food</td>\n",
              "      <td>Fidele</td>\n",
              "      <td>['Adult', 'Bangalore', 'Chennai', 'Chicken', '...</td>\n",
              "      <td>Animals &amp; Pet Supplies</td>\n",
              "    </tr>\n",
              "    <tr>\n",
              "      <th>1</th>\n",
              "      <td>7353058033889</td>\n",
              "      <td>Foldable Pet Toys Linen Storage</td>\n",
              "      <td>Cap Point</td>\n",
              "      <td>[]</td>\n",
              "      <td>Animals &amp; Pet Supplies</td>\n",
              "    </tr>\n",
              "    <tr>\n",
              "      <th>2</th>\n",
              "      <td>6594773549129</td>\n",
              "      <td>Bok Dok Diaper</td>\n",
              "      <td>Pets Home</td>\n",
              "      <td>['Brand_Pet Arabia', 'Category_Pets Home', 'Ca...</td>\n",
              "      <td>Animals &amp; Pet Supplies</td>\n",
              "    </tr>\n",
              "    <tr>\n",
              "      <th>3</th>\n",
              "      <td>4802008318014</td>\n",
              "      <td>Tastybone Toy Chicken</td>\n",
              "      <td>TastyBone</td>\n",
              "      <td>[]</td>\n",
              "      <td>Animals &amp; Pet Supplies</td>\n",
              "    </tr>\n",
              "    <tr>\n",
              "      <th>4</th>\n",
              "      <td>1779705151539</td>\n",
              "      <td>Leather Leash Tab - Short Dog Leash</td>\n",
              "      <td>Mighty Paw</td>\n",
              "      <td>['Leash', 'Leash Tab', 'Training']</td>\n",
              "      <td>Animals &amp; Pet Supplies</td>\n",
              "    </tr>\n",
              "    <tr>\n",
              "      <th>...</th>\n",
              "      <td>...</td>\n",
              "      <td>...</td>\n",
              "      <td>...</td>\n",
              "      <td>...</td>\n",
              "      <td>...</td>\n",
              "    </tr>\n",
              "    <tr>\n",
              "      <th>5265</th>\n",
              "      <td>4637089464407</td>\n",
              "      <td>Candylab MOO Milk Van</td>\n",
              "      <td>Candylab</td>\n",
              "      <td>['3 Years +', 'candylab', 'Discount Products',...</td>\n",
              "      <td>Vehicles &amp; Parts</td>\n",
              "    </tr>\n",
              "    <tr>\n",
              "      <th>5266</th>\n",
              "      <td>4996632444987</td>\n",
              "      <td>Truck - Modern Era Vehicles -- Red, White -  S...</td>\n",
              "      <td>Woodland Scenics</td>\n",
              "      <td>['HO Scale', 'ho-scale-items', 'vehicles', 'wo...</td>\n",
              "      <td>Vehicles &amp; Parts</td>\n",
              "    </tr>\n",
              "    <tr>\n",
              "      <th>5267</th>\n",
              "      <td>5528541003927</td>\n",
              "      <td>Car Sticker Flags Decal American Flag Sticker for</td>\n",
              "      <td>Cyan Selene</td>\n",
              "      <td>['Other']</td>\n",
              "      <td>Vehicles &amp; Parts</td>\n",
              "    </tr>\n",
              "    <tr>\n",
              "      <th>5268</th>\n",
              "      <td>1395163889730</td>\n",
              "      <td>Lazer Helmets Bayamo Pit Bull - Full Face</td>\n",
              "      <td>OPEN BOX BARGAINS</td>\n",
              "      <td>['65061090', 'Antiscratch Pinlock Ready Visor'...</td>\n",
              "      <td>Vehicles &amp; Parts</td>\n",
              "    </tr>\n",
              "    <tr>\n",
              "      <th>5269</th>\n",
              "      <td>3535679324240</td>\n",
              "      <td>Deutz Agrotron Tractor</td>\n",
              "      <td>Siku</td>\n",
              "      <td>['$0 to $25', 'diecast-models', 'gift-finder',...</td>\n",
              "      <td>Vehicles &amp; Parts</td>\n",
              "    </tr>\n",
              "  </tbody>\n",
              "</table>\n",
              "<p>5270 rows × 5 columns</p>\n",
              "</div>\n",
              "      <button class=\"colab-df-convert\" onclick=\"convertToInteractive('df-b3d2130c-5d34-41af-aae7-5f0c4504e39e')\"\n",
              "              title=\"Convert this dataframe to an interactive table.\"\n",
              "              style=\"display:none;\">\n",
              "        \n",
              "  <svg xmlns=\"http://www.w3.org/2000/svg\" height=\"24px\"viewBox=\"0 0 24 24\"\n",
              "       width=\"24px\">\n",
              "    <path d=\"M0 0h24v24H0V0z\" fill=\"none\"/>\n",
              "    <path d=\"M18.56 5.44l.94 2.06.94-2.06 2.06-.94-2.06-.94-.94-2.06-.94 2.06-2.06.94zm-11 1L8.5 8.5l.94-2.06 2.06-.94-2.06-.94L8.5 2.5l-.94 2.06-2.06.94zm10 10l.94 2.06.94-2.06 2.06-.94-2.06-.94-.94-2.06-.94 2.06-2.06.94z\"/><path d=\"M17.41 7.96l-1.37-1.37c-.4-.4-.92-.59-1.43-.59-.52 0-1.04.2-1.43.59L10.3 9.45l-7.72 7.72c-.78.78-.78 2.05 0 2.83L4 21.41c.39.39.9.59 1.41.59.51 0 1.02-.2 1.41-.59l7.78-7.78 2.81-2.81c.8-.78.8-2.07 0-2.86zM5.41 20L4 18.59l7.72-7.72 1.47 1.35L5.41 20z\"/>\n",
              "  </svg>\n",
              "      </button>\n",
              "      \n",
              "  <style>\n",
              "    .colab-df-container {\n",
              "      display:flex;\n",
              "      flex-wrap:wrap;\n",
              "      gap: 12px;\n",
              "    }\n",
              "\n",
              "    .colab-df-convert {\n",
              "      background-color: #E8F0FE;\n",
              "      border: none;\n",
              "      border-radius: 50%;\n",
              "      cursor: pointer;\n",
              "      display: none;\n",
              "      fill: #1967D2;\n",
              "      height: 32px;\n",
              "      padding: 0 0 0 0;\n",
              "      width: 32px;\n",
              "    }\n",
              "\n",
              "    .colab-df-convert:hover {\n",
              "      background-color: #E2EBFA;\n",
              "      box-shadow: 0px 1px 2px rgba(60, 64, 67, 0.3), 0px 1px 3px 1px rgba(60, 64, 67, 0.15);\n",
              "      fill: #174EA6;\n",
              "    }\n",
              "\n",
              "    [theme=dark] .colab-df-convert {\n",
              "      background-color: #3B4455;\n",
              "      fill: #D2E3FC;\n",
              "    }\n",
              "\n",
              "    [theme=dark] .colab-df-convert:hover {\n",
              "      background-color: #434B5C;\n",
              "      box-shadow: 0px 1px 3px 1px rgba(0, 0, 0, 0.15);\n",
              "      filter: drop-shadow(0px 1px 2px rgba(0, 0, 0, 0.3));\n",
              "      fill: #FFFFFF;\n",
              "    }\n",
              "  </style>\n",
              "\n",
              "      <script>\n",
              "        const buttonEl =\n",
              "          document.querySelector('#df-b3d2130c-5d34-41af-aae7-5f0c4504e39e button.colab-df-convert');\n",
              "        buttonEl.style.display =\n",
              "          google.colab.kernel.accessAllowed ? 'block' : 'none';\n",
              "\n",
              "        async function convertToInteractive(key) {\n",
              "          const element = document.querySelector('#df-b3d2130c-5d34-41af-aae7-5f0c4504e39e');\n",
              "          const dataTable =\n",
              "            await google.colab.kernel.invokeFunction('convertToInteractive',\n",
              "                                                     [key], {});\n",
              "          if (!dataTable) return;\n",
              "\n",
              "          const docLinkHtml = 'Like what you see? Visit the ' +\n",
              "            '<a target=\"_blank\" href=https://colab.research.google.com/notebooks/data_table.ipynb>data table notebook</a>'\n",
              "            + ' to learn more about interactive tables.';\n",
              "          element.innerHTML = '';\n",
              "          dataTable['output_type'] = 'display_data';\n",
              "          await google.colab.output.renderOutput(dataTable, element);\n",
              "          const docLink = document.createElement('div');\n",
              "          docLink.innerHTML = docLinkHtml;\n",
              "          element.appendChild(docLink);\n",
              "        }\n",
              "      </script>\n",
              "    </div>\n",
              "  </div>\n",
              "  "
            ]
          },
          "metadata": {},
          "execution_count": 4
        }
      ]
    },
    {
      "cell_type": "code",
      "source": [
        "# counting the number of each label\n",
        "df['category'].value_counts()"
      ],
      "metadata": {
        "colab": {
          "base_uri": "https://localhost:8080/"
        },
        "id": "6E1ZDXyPlr6y",
        "outputId": "d4067bf0-de11-450b-e118-a2d365a63f20"
      },
      "execution_count": 5,
      "outputs": [
        {
          "output_type": "execute_result",
          "data": {
            "text/plain": [
              "Apparel & Accessories        1000\n",
              "Animals & Pet Supplies        500\n",
              "Food, Beverages & Tobacco     400\n",
              "Sporting Goods                400\n",
              "Luggage & Bags                400\n",
              "Home & Garden                 400\n",
              "Health & Beauty               400\n",
              "Media                         300\n",
              "Toys & Games                  300\n",
              "Furniture                     200\n",
              "Baby & Toddler                200\n",
              "Arts & Entertainment          200\n",
              "Electronics                   100\n",
              "Business & Industrial         100\n",
              "Office Supplies               100\n",
              "Vehicles & Parts              100\n",
              "Hardware                       50\n",
              "Cameras & Optics               50\n",
              "Software                       50\n",
              "Religious & Ceremonial         20\n",
              "Name: category, dtype: int64"
            ]
          },
          "metadata": {},
          "execution_count": 5
        }
      ]
    },
    {
      "cell_type": "code",
      "source": [
        "# counting how many indices are duplicated in each column\n",
        "print(f\"There are {sum(df['title'].duplicated())} duplicate title.\")\n",
        "print(f\"There are {sum(df['vendor'].duplicated())} duplicate vondor.\")\n",
        "print(f\"There are {sum(df['tags'].duplicated())} duplicate tags.\")"
      ],
      "metadata": {
        "colab": {
          "base_uri": "https://localhost:8080/"
        },
        "id": "Un_ggKoLUAEf",
        "outputId": "3ee75b3c-4c20-45fc-da59-956b29675d9b"
      },
      "execution_count": 6,
      "outputs": [
        {
          "output_type": "stream",
          "name": "stdout",
          "text": [
            "There are 0 duplicate title.\n",
            "There are 1256 duplicate vondor.\n",
            "There are 716 duplicate tags.\n"
          ]
        }
      ]
    },
    {
      "cell_type": "code",
      "source": [
        "# counting the number of Nan samples\n",
        "df.isnull().values.sum()"
      ],
      "metadata": {
        "colab": {
          "base_uri": "https://localhost:8080/"
        },
        "id": "VD95efZwCRYT",
        "outputId": "4e5775d7-5928-425e-999c-48092d1c5281"
      },
      "execution_count": 7,
      "outputs": [
        {
          "output_type": "execute_result",
          "data": {
            "text/plain": [
              "3"
            ]
          },
          "metadata": {},
          "execution_count": 7
        }
      ]
    },
    {
      "cell_type": "markdown",
      "source": [
        "There are just 3 Nan samples in the dataset so we can ignore them."
      ],
      "metadata": {
        "id": "rhPJQuDEb8oN"
      }
    },
    {
      "cell_type": "markdown",
      "source": [
        "## Data Preprocessing\n",
        "Preprocessing is an important step in machine learning. In text classification we need to tokenize and vectozire our senteces so that our model can understand relations between the words in a sentece.\n",
        "\n",
        "NLP data preprocessing refers to the set of techniques used to clean, transform, and prepare raw textual data for analysis using natural language processing (NLP) techniques. The preprocessing step is crucial in NLP since textual data often contains noise, inconsistencies, and ambiguity that can affect the performance of NLP algorithms.\n",
        "\n",
        "Some common NLP data preprocessing techniques include:\n",
        "\n",
        "\n",
        "1.   Tokenization: This involves splitting a sentence into individual words, which can then be analyzed separately. Tokenization is the first step in NLP and is essential for many other techniques, such as stemming and lemmatization.\n",
        "2.   Stop word removal: Stop words are common words that do not carry significant meaning, such as \"the,\" \"a,\" and \"an.\" Removing these words can reduce the size of the dataset and improve the accuracy of NLP models\n",
        "3.   Text normalization: This involves standardizing the text by converting all characters to lowercase, removing punctuation, and handling special characters and emojis.\n",
        "\n",
        "Overall, NLP data preprocessing plays a critical role in preparing textual data for analysis using NLP techniques. Effective preprocessing can improve the accuracy and performance of NLP models and enable a wide range of applications, such as sentiment analysis, machine translation, and chatbots.\n",
        "\n"
      ],
      "metadata": {
        "id": "yTGvOwQzBa7j"
      }
    },
    {
      "cell_type": "markdown",
      "source": [
        "### Tokenizing and Standardizing\n",
        "Tokenize and standardizing the sentences. Also filtering the words based on a predefined regex. "
      ],
      "metadata": {
        "id": "Sw0kyrAVDDZB"
      }
    },
    {
      "cell_type": "code",
      "source": [
        "# the function for extracting and standardizing the sentences\n",
        "def text_extraction(dfi):\n",
        "  # in this function, we concatenate text feature parts of the data as a sentence\n",
        "  sentence = ' '.join([dfi['title'], str(dfi['vendor']), dfi['tags']])\n",
        "  # Remove punctuations\n",
        "  sentence = re.sub('[^a-zA-Z0-9$.]', ' ', sentence)\n",
        "  # Single character removal\n",
        "  sentence = re.sub(r\"\\s+[a-zA-Z]\\s+\", ' ', sentence)\n",
        "  # Removing multiple spaces\n",
        "  sentence = re.sub(r'\\s+', ' ', sentence)\n",
        "  # Changint to lowercase\n",
        "  sentence = sentence.lower()\n",
        "  return sentence\n",
        "\n",
        "# printing 10 sample sentences\n",
        "for i in range(10):\n",
        "  print(text_extraction(df.iloc[i]))"
      ],
      "metadata": {
        "colab": {
          "base_uri": "https://localhost:8080/"
        },
        "id": "aH9UzP7-__P2",
        "outputId": "8c29ac81-4b9e-42cb-bfb2-c86a036ac61e"
      },
      "execution_count": 8,
      "outputs": [
        {
          "output_type": "stream",
          "name": "stdout",
          "text": [
            "fidele super premium adult large breed dog food fidele adult bangalore chennai chicken doberman dog dry foods fidele german shepherd golden retriever great dane highpriority imported labrador less than 1000 less than 2000 less than 500 mastiff orange pet nutrition \n",
            "foldable pet toys linen storage cap point \n",
            "bok dok diaper pets home brand pet arabia category pets home category small pets supplies type pet home type pet supplies \n",
            "tastybone toy chicken tastybone \n",
            "leather leash tab short dog leash mighty paw leash leash tab training \n",
            "pridebites texas guitar dog toy pride bites brand pridebites toy type plush \n",
            "burns sensitive pork potato burns 10 25 25 50 50 75 adult burns coat dog food food delivery jansale18 natural nonsale19 sensitive size 12kg size 2kg size 6kg skin \n",
            "bully sticks dog toy adog.co bully sticks dog chew toys dog toys \n",
            "kazoo tough giraffe dog toy kazoo brand kazoo june2021 kazoo material plush plush \n",
            "orgo dog biscuits fresh milk petku brand orgo category dogs dogs lifestage all lifestages orgo price rp 0 to rp 100.000 subcategory treats treats \n"
          ]
        }
      ]
    },
    {
      "cell_type": "code",
      "source": [
        "# creating the dataset\n",
        "dataset = pd.DataFrame(columns=['text', 'label'])\n",
        "for i in range(len(df)):\n",
        "  dataset = dataset.append({'text':text_extraction(df.iloc[i]), 'label':df.iloc[i]['category']}, ignore_index = True)\n",
        "\n",
        "# creating integer labels for multiclass training\n",
        "dataset['label_int'] = pd.Categorical(dataset['label']).codes\n",
        "dataset"
      ],
      "metadata": {
        "colab": {
          "base_uri": "https://localhost:8080/",
          "height": 423
        },
        "id": "7x4WG7NC9Xz3",
        "outputId": "1597a7cf-e7c9-4d71-d4b1-6bf068bdda1e"
      },
      "execution_count": 9,
      "outputs": [
        {
          "output_type": "execute_result",
          "data": {
            "text/plain": [
              "                                                   text  \\\n",
              "0     fidele super premium adult large breed dog foo...   \n",
              "1            foldable pet toys linen storage cap point    \n",
              "2     bok dok diaper pets home brand pet arabia cate...   \n",
              "3                      tastybone toy chicken tastybone    \n",
              "4     leather leash tab short dog leash mighty paw l...   \n",
              "...                                                 ...   \n",
              "5265  candylab moo milk van candylab 3 years candyla...   \n",
              "5266  truck modern era vehicles red white scale ho w...   \n",
              "5267  car sticker flags decal american flag sticker ...   \n",
              "5268  lazer helmets bayamo pit bull full face open b...   \n",
              "5269  deutz agrotron tractor siku $0 to $25 diecast ...   \n",
              "\n",
              "                       label  label_int  \n",
              "0     Animals & Pet Supplies          0  \n",
              "1     Animals & Pet Supplies          0  \n",
              "2     Animals & Pet Supplies          0  \n",
              "3     Animals & Pet Supplies          0  \n",
              "4     Animals & Pet Supplies          0  \n",
              "...                      ...        ...  \n",
              "5265        Vehicles & Parts         19  \n",
              "5266        Vehicles & Parts         19  \n",
              "5267        Vehicles & Parts         19  \n",
              "5268        Vehicles & Parts         19  \n",
              "5269        Vehicles & Parts         19  \n",
              "\n",
              "[5270 rows x 3 columns]"
            ],
            "text/html": [
              "\n",
              "  <div id=\"df-254ef254-5c17-49cd-8f0c-eaf6d0c270ac\">\n",
              "    <div class=\"colab-df-container\">\n",
              "      <div>\n",
              "<style scoped>\n",
              "    .dataframe tbody tr th:only-of-type {\n",
              "        vertical-align: middle;\n",
              "    }\n",
              "\n",
              "    .dataframe tbody tr th {\n",
              "        vertical-align: top;\n",
              "    }\n",
              "\n",
              "    .dataframe thead th {\n",
              "        text-align: right;\n",
              "    }\n",
              "</style>\n",
              "<table border=\"1\" class=\"dataframe\">\n",
              "  <thead>\n",
              "    <tr style=\"text-align: right;\">\n",
              "      <th></th>\n",
              "      <th>text</th>\n",
              "      <th>label</th>\n",
              "      <th>label_int</th>\n",
              "    </tr>\n",
              "  </thead>\n",
              "  <tbody>\n",
              "    <tr>\n",
              "      <th>0</th>\n",
              "      <td>fidele super premium adult large breed dog foo...</td>\n",
              "      <td>Animals &amp; Pet Supplies</td>\n",
              "      <td>0</td>\n",
              "    </tr>\n",
              "    <tr>\n",
              "      <th>1</th>\n",
              "      <td>foldable pet toys linen storage cap point</td>\n",
              "      <td>Animals &amp; Pet Supplies</td>\n",
              "      <td>0</td>\n",
              "    </tr>\n",
              "    <tr>\n",
              "      <th>2</th>\n",
              "      <td>bok dok diaper pets home brand pet arabia cate...</td>\n",
              "      <td>Animals &amp; Pet Supplies</td>\n",
              "      <td>0</td>\n",
              "    </tr>\n",
              "    <tr>\n",
              "      <th>3</th>\n",
              "      <td>tastybone toy chicken tastybone</td>\n",
              "      <td>Animals &amp; Pet Supplies</td>\n",
              "      <td>0</td>\n",
              "    </tr>\n",
              "    <tr>\n",
              "      <th>4</th>\n",
              "      <td>leather leash tab short dog leash mighty paw l...</td>\n",
              "      <td>Animals &amp; Pet Supplies</td>\n",
              "      <td>0</td>\n",
              "    </tr>\n",
              "    <tr>\n",
              "      <th>...</th>\n",
              "      <td>...</td>\n",
              "      <td>...</td>\n",
              "      <td>...</td>\n",
              "    </tr>\n",
              "    <tr>\n",
              "      <th>5265</th>\n",
              "      <td>candylab moo milk van candylab 3 years candyla...</td>\n",
              "      <td>Vehicles &amp; Parts</td>\n",
              "      <td>19</td>\n",
              "    </tr>\n",
              "    <tr>\n",
              "      <th>5266</th>\n",
              "      <td>truck modern era vehicles red white scale ho w...</td>\n",
              "      <td>Vehicles &amp; Parts</td>\n",
              "      <td>19</td>\n",
              "    </tr>\n",
              "    <tr>\n",
              "      <th>5267</th>\n",
              "      <td>car sticker flags decal american flag sticker ...</td>\n",
              "      <td>Vehicles &amp; Parts</td>\n",
              "      <td>19</td>\n",
              "    </tr>\n",
              "    <tr>\n",
              "      <th>5268</th>\n",
              "      <td>lazer helmets bayamo pit bull full face open b...</td>\n",
              "      <td>Vehicles &amp; Parts</td>\n",
              "      <td>19</td>\n",
              "    </tr>\n",
              "    <tr>\n",
              "      <th>5269</th>\n",
              "      <td>deutz agrotron tractor siku $0 to $25 diecast ...</td>\n",
              "      <td>Vehicles &amp; Parts</td>\n",
              "      <td>19</td>\n",
              "    </tr>\n",
              "  </tbody>\n",
              "</table>\n",
              "<p>5270 rows × 3 columns</p>\n",
              "</div>\n",
              "      <button class=\"colab-df-convert\" onclick=\"convertToInteractive('df-254ef254-5c17-49cd-8f0c-eaf6d0c270ac')\"\n",
              "              title=\"Convert this dataframe to an interactive table.\"\n",
              "              style=\"display:none;\">\n",
              "        \n",
              "  <svg xmlns=\"http://www.w3.org/2000/svg\" height=\"24px\"viewBox=\"0 0 24 24\"\n",
              "       width=\"24px\">\n",
              "    <path d=\"M0 0h24v24H0V0z\" fill=\"none\"/>\n",
              "    <path d=\"M18.56 5.44l.94 2.06.94-2.06 2.06-.94-2.06-.94-.94-2.06-.94 2.06-2.06.94zm-11 1L8.5 8.5l.94-2.06 2.06-.94-2.06-.94L8.5 2.5l-.94 2.06-2.06.94zm10 10l.94 2.06.94-2.06 2.06-.94-2.06-.94-.94-2.06-.94 2.06-2.06.94z\"/><path d=\"M17.41 7.96l-1.37-1.37c-.4-.4-.92-.59-1.43-.59-.52 0-1.04.2-1.43.59L10.3 9.45l-7.72 7.72c-.78.78-.78 2.05 0 2.83L4 21.41c.39.39.9.59 1.41.59.51 0 1.02-.2 1.41-.59l7.78-7.78 2.81-2.81c.8-.78.8-2.07 0-2.86zM5.41 20L4 18.59l7.72-7.72 1.47 1.35L5.41 20z\"/>\n",
              "  </svg>\n",
              "      </button>\n",
              "      \n",
              "  <style>\n",
              "    .colab-df-container {\n",
              "      display:flex;\n",
              "      flex-wrap:wrap;\n",
              "      gap: 12px;\n",
              "    }\n",
              "\n",
              "    .colab-df-convert {\n",
              "      background-color: #E8F0FE;\n",
              "      border: none;\n",
              "      border-radius: 50%;\n",
              "      cursor: pointer;\n",
              "      display: none;\n",
              "      fill: #1967D2;\n",
              "      height: 32px;\n",
              "      padding: 0 0 0 0;\n",
              "      width: 32px;\n",
              "    }\n",
              "\n",
              "    .colab-df-convert:hover {\n",
              "      background-color: #E2EBFA;\n",
              "      box-shadow: 0px 1px 2px rgba(60, 64, 67, 0.3), 0px 1px 3px 1px rgba(60, 64, 67, 0.15);\n",
              "      fill: #174EA6;\n",
              "    }\n",
              "\n",
              "    [theme=dark] .colab-df-convert {\n",
              "      background-color: #3B4455;\n",
              "      fill: #D2E3FC;\n",
              "    }\n",
              "\n",
              "    [theme=dark] .colab-df-convert:hover {\n",
              "      background-color: #434B5C;\n",
              "      box-shadow: 0px 1px 3px 1px rgba(0, 0, 0, 0.15);\n",
              "      filter: drop-shadow(0px 1px 2px rgba(0, 0, 0, 0.3));\n",
              "      fill: #FFFFFF;\n",
              "    }\n",
              "  </style>\n",
              "\n",
              "      <script>\n",
              "        const buttonEl =\n",
              "          document.querySelector('#df-254ef254-5c17-49cd-8f0c-eaf6d0c270ac button.colab-df-convert');\n",
              "        buttonEl.style.display =\n",
              "          google.colab.kernel.accessAllowed ? 'block' : 'none';\n",
              "\n",
              "        async function convertToInteractive(key) {\n",
              "          const element = document.querySelector('#df-254ef254-5c17-49cd-8f0c-eaf6d0c270ac');\n",
              "          const dataTable =\n",
              "            await google.colab.kernel.invokeFunction('convertToInteractive',\n",
              "                                                     [key], {});\n",
              "          if (!dataTable) return;\n",
              "\n",
              "          const docLinkHtml = 'Like what you see? Visit the ' +\n",
              "            '<a target=\"_blank\" href=https://colab.research.google.com/notebooks/data_table.ipynb>data table notebook</a>'\n",
              "            + ' to learn more about interactive tables.';\n",
              "          element.innerHTML = '';\n",
              "          dataTable['output_type'] = 'display_data';\n",
              "          await google.colab.output.renderOutput(dataTable, element);\n",
              "          const docLink = document.createElement('div');\n",
              "          docLink.innerHTML = docLinkHtml;\n",
              "          element.appendChild(docLink);\n",
              "        }\n",
              "      </script>\n",
              "    </div>\n",
              "  </div>\n",
              "  "
            ]
          },
          "metadata": {},
          "execution_count": 9
        }
      ]
    },
    {
      "cell_type": "code",
      "source": [
        "# extracting the names of the labels\n",
        "labels_names = list(Counter(dataset['label']).keys())\n",
        "labels_names"
      ],
      "metadata": {
        "colab": {
          "base_uri": "https://localhost:8080/"
        },
        "id": "9uHdTY3p9Xfr",
        "outputId": "d83980e0-0fed-4e79-8565-642c979e39e0"
      },
      "execution_count": 10,
      "outputs": [
        {
          "output_type": "execute_result",
          "data": {
            "text/plain": [
              "['Animals & Pet Supplies',\n",
              " 'Apparel & Accessories',\n",
              " 'Arts & Entertainment',\n",
              " 'Baby & Toddler',\n",
              " 'Business & Industrial',\n",
              " 'Cameras & Optics',\n",
              " 'Electronics',\n",
              " 'Food, Beverages & Tobacco',\n",
              " 'Furniture',\n",
              " 'Hardware',\n",
              " 'Health & Beauty',\n",
              " 'Home & Garden',\n",
              " 'Luggage & Bags',\n",
              " 'Media',\n",
              " 'Office Supplies',\n",
              " 'Religious & Ceremonial',\n",
              " 'Software',\n",
              " 'Sporting Goods',\n",
              " 'Toys & Games',\n",
              " 'Vehicles & Parts']"
            ]
          },
          "metadata": {},
          "execution_count": 10
        }
      ]
    },
    {
      "cell_type": "code",
      "source": [
        "# printing each integer label and its corresponding name label\n",
        "for i, label in enumerate(labels_names):\n",
        "  print(\"Label\", i, \"corresponds to\", label)"
      ],
      "metadata": {
        "colab": {
          "base_uri": "https://localhost:8080/"
        },
        "id": "QXCgd6QTC_k6",
        "outputId": "e28182c5-8409-4b1e-e877-6c9d33cf6614"
      },
      "execution_count": 11,
      "outputs": [
        {
          "output_type": "stream",
          "name": "stdout",
          "text": [
            "Label 0 corresponds to Animals & Pet Supplies\n",
            "Label 1 corresponds to Apparel & Accessories\n",
            "Label 2 corresponds to Arts & Entertainment\n",
            "Label 3 corresponds to Baby & Toddler\n",
            "Label 4 corresponds to Business & Industrial\n",
            "Label 5 corresponds to Cameras & Optics\n",
            "Label 6 corresponds to Electronics\n",
            "Label 7 corresponds to Food, Beverages & Tobacco\n",
            "Label 8 corresponds to Furniture\n",
            "Label 9 corresponds to Hardware\n",
            "Label 10 corresponds to Health & Beauty\n",
            "Label 11 corresponds to Home & Garden\n",
            "Label 12 corresponds to Luggage & Bags\n",
            "Label 13 corresponds to Media\n",
            "Label 14 corresponds to Office Supplies\n",
            "Label 15 corresponds to Religious & Ceremonial\n",
            "Label 16 corresponds to Software\n",
            "Label 17 corresponds to Sporting Goods\n",
            "Label 18 corresponds to Toys & Games\n",
            "Label 19 corresponds to Vehicles & Parts\n"
          ]
        }
      ]
    },
    {
      "cell_type": "markdown",
      "source": [
        "### Data sampling\n",
        "After standardizing the dataset, It's time to **split** the dataset into train dataset and test datasets. The selected ratio of data is 80% of the dataset for training and 20% of the dataset is for testing and validation. 50% of the testing dataset is for validation and the rest is for testing our model."
      ],
      "metadata": {
        "id": "jQMCY52NB6MP"
      }
    },
    {
      "cell_type": "code",
      "source": [
        "# splitting dataset to train, validation, and test dataframes\n",
        "train_df, test_df= train_test_split(dataset, test_size=0.2, random_state=42)\n",
        "val_df = test_df.sample(frac=0.5)\n",
        "test_df.drop(val_df.index, inplace=True)\n",
        "\n",
        "print(f\"Number of samples in training set: {len(train_df)}\")\n",
        "print(f\"Number of samples in validation set: {len(val_df)}\")\n",
        "print(f\"Number of samples in test set: {len(test_df)}\")\n",
        "\n",
        "# extracting texts and labels from dataframes\n",
        "train_texts = train_df['text']\n",
        "train_labels = train_df['label_int']\n",
        "val_texts = val_df['text']\n",
        "val_labels = val_df['label_int']\n",
        "test_texts = test_df['text']\n",
        "test_labels = test_df['label_int']"
      ],
      "metadata": {
        "colab": {
          "base_uri": "https://localhost:8080/"
        },
        "id": "bWd2Rfp69X8g",
        "outputId": "e710dd0b-a1e5-42a2-b101-0cfb2bb361ee"
      },
      "execution_count": 12,
      "outputs": [
        {
          "output_type": "stream",
          "name": "stdout",
          "text": [
            "Number of samples in training set: 4216\n",
            "Number of samples in validation set: 527\n",
            "Number of samples in test set: 527\n"
          ]
        }
      ]
    },
    {
      "cell_type": "markdown",
      "source": [
        "### Batching\n",
        "Batching in machine learning refers to the process of dividing a dataset into smaller groups or batches to be processed by a model. Rather than training or evaluating on the entire dataset at once, the data is split into smaller subsets that are processed in parallel or sequentially.\n",
        "\n",
        "Batching is commonly used in training deep learning models, especially for tasks such as image recognition or natural language processing, where the datasets can be very large. By splitting the dataset into batches, it reduces the memory requirements of the model, making it possible to process larger datasets that might otherwise exceed the memory limitations of the hardware.\n",
        "\n",
        "Batching also helps to speed up the training process by allowing the model to process the dataset in parallel. This can significantly reduce the time required to train the model and allows for more iterations of training and evaluation to be performed in a given amount of time.\n",
        "\n",
        "We need to split our datasets into 32 sized batches."
      ],
      "metadata": {
        "id": "jxBSPdbkCfJ3"
      }
    },
    {
      "cell_type": "code",
      "source": [
        "# creating data generators with batch size 32\n",
        "batch_size = 32\n",
        "raw_train_batch = tf.data.Dataset.from_tensor_slices((train_texts, train_labels)).batch(batch_size)\n",
        "raw_val_batch = tf.data.Dataset.from_tensor_slices((val_texts, val_labels)).batch(batch_size)\n",
        "raw_test_batch = tf.data.Dataset.from_tensor_slices((test_texts, test_labels)).batch(batch_size)\n",
        "\n",
        "# printing texts and labels of a batch of raw train\n",
        "for text, label in raw_train_batch.take(1):\n",
        "  print('Texts: {}'.format(text))\n",
        "  print('labels: {}'.format(label))"
      ],
      "metadata": {
        "colab": {
          "base_uri": "https://localhost:8080/"
        },
        "id": "C4kA4X60zkC3",
        "outputId": "fce9a826-39c6-4a6c-cdcc-7f6b65b58c75"
      },
      "execution_count": 13,
      "outputs": [
        {
          "output_type": "stream",
          "name": "stdout",
          "text": [
            "Texts: [b'housie tambola game by brands with foldable reusable tickets snooplay 13 17 year olds 18 years above 251 500 8 12 year olds age no bar all time favourite below 1000 below 400 below 500 best selling board games creative games gifts customer favourites diwali family friends night family games friends family nights geek gifts for boys gifts for friends gifts for girls gifts for kids gifts for parents googleshopping nerd or geek new new collection outdoor games party accessories party essentials party freak party games party games for grown ups party games for kids premium unique new toys '\n",
            " b'foldable waterproof raised dog bed dogiti '\n",
            " b'quadrello di bufala cheese cut wrapped by igourmet category cheese cut cheeses milk type buffalo nutrition full set origin italy shipping perishable texture semi soft type stinky and washed rind wholesale cheese collection '\n",
            " b'quay vip pink navy to pink lens quay accessories new summer sunglasses '\n",
            " b'seachem multitest ammonia seachem '\n",
            " b'smart electric cat teasing toy pet clever cat toys cats rr track catproducts rr track cattoys '\n",
            " b'petroleum mixture sign the sign shed black text chemical chemical signs flammable signs general hazard portrait yellow bg '\n",
            " b'scott kingery andrew mccutchen philadelphia phillies ring the bell dual bobblehead foco data athlete andrew mccutchen data athlete scott kingery data city philadelphia data edition exclusive data filter collection no data filter discount yes data league mlb data region pennsylvania data sub category1 bobbleheads data team philadelphia phillies '\n",
            " b'diy personalised dreamcatcher activity kit sea animal doxbox store '\n",
            " b'dainty corduroy bow in lilac sweet first love bow corduroy headband purple spo disabled wos '\n",
            " b'new bts stylish backpack the pocket store '\n",
            " b'planet bike big buck fat front planet bike bicycle fenders bike accessories bikes fenders front fenders full price planet bike unisex '\n",
            " b'ms. better trans canada bitters enterprises jesemi inc. betters canada ms trans '\n",
            " b'drawstring backpack pink zig zag yoobi 10 15 2020 primedaydeal accessories all bags flair back to school backpacks bags bf2019 book bag book bags bookbag bookbags newyear pink pink zig zag sale summer2020 supplybundle zig zags '\n",
            " b'pineapple mini food speaker magnum brands add on birthday gift girl music pos speaker '\n",
            " b'interactive iq treat ball toy for dogs cats cj feeder waterer pet supplies '\n",
            " b'whisper of lord ganesha tarot deck u.s. games '\n",
            " b'handcrafted aasha cuff bracelet colorful cuff bracelet made with wooden beads wrapped with recycled sari fabrics. aasha bracelet comfy fair trade handcrafted handmade jewelry '\n",
            " b'idrop belik facial anti aging wrinkle ultrasonic face massager toothbrush attachment idrop anti aging anti wrinkle electric massager face massage facial massager health health beauty health fitness health care healthcare healthy healthy massager massage massager new ultrasonic '\n",
            " b'wood nativity puzzle mud pie one coas 10760023 baby children christmas gift god jesus kid religion toy '\n",
            " b'p.l.a.y. zoomierex fantastug sea foam dog toy p.l.a.y. brand p.l.a.y. summer collection toy type fetch toy type floating toy type rubber toy type tug twr '\n",
            " b'wallis simpson signed autobiography paul fraser collectibles autographs '\n",
            " b'imperial earring daya jewelry brass flower gold imperial spo default spo disabled spo enabled star tribal '\n",
            " b'armadillo nest charcoal armadillo alfresco armadillo door mats down to earth floor homeware homeware rugs mats labour weekend living modern boho rug rugs mats '\n",
            " b'millie pillow foreside pillows textiles '\n",
            " b'jelly brush aprilskin.us all '\n",
            " b'alarm you re little bitch blue blue blue crew cute exclude feed agegroup adult feed cl0 regularprice womens sassy funny words inappropriate cute profanity swear words exclude rude crude feed color blue feed cond new feed gender feed gender female feed gpc 209 funny inappropriate print profanity red regularprice rude crude sassy socks swear words womens words '\n",
            " b'boutique de paris lashes4today glamorous lashes luxury '\n",
            " b'dog pakiet dnp pc skin support pick me pets brand dolina noteci category pet supplies type dog food '\n",
            " b'plaza weekend diaper bag 7am label final sale addswatchrow adult age adult category diaper bags category weekenders color black color grey diaper diaper diaper ba dipper style plaza bag voyage '\n",
            " b'water sterling silver necklace wear the peace 925 sterling silver all products necklaces new arrivals '\n",
            " b'bain ultra violet rastase adha2020 adjusted assaad back in stock items bahaa black friday 2020 enabled blond absolu blondabsolu ramadan21 btpcat main 132768825422 btpcat other 132768825422 elian dada fadia el mendelek for colored blond hair hair care haircare summerfiesta sale jan 4 2021 price increase july 28th updated july increase ker aprist1st 2021 increase ker august 2021 price increase ker march 1st 2021 price increase ker priceincrease june1st 2021 kerastase ramadan21 rastase loolia2y mahmoud al zarif michel zeytoun non solar october 1st 2020 price increase or or reviews ppd price decrease 16th september 2021 ppd price decrease sept 2021 ppd price increase october1st 2021 ppd pricedecrease midseptember2021 ppd priceincrease 12th october 2021 price updated shampoos shant tawetian shop all stockcount 31 03 2021 weekend summerfiesta sale ']\n",
            "labels: [18  0  7  1  0  0  4  2  0  1 12 17  7 12 18  0 15  1 10 18  0  2  1 11\n",
            "  2  9  1 10  0 12  1 10]\n"
          ]
        }
      ]
    },
    {
      "cell_type": "code",
      "source": [
        "# counting how many words are there in the whole texts of the dataset\n",
        "num_of_words = 0\n",
        "for i in dataset['text']: num_of_words += len(i.split())\n",
        "\n",
        "print(num_of_words)"
      ],
      "metadata": {
        "colab": {
          "base_uri": "https://localhost:8080/"
        },
        "id": "P2QpUriFrsU_",
        "outputId": "b2b40048-6022-4843-b0f8-8ab74da489aa"
      },
      "execution_count": 14,
      "outputs": [
        {
          "output_type": "stream",
          "name": "stdout",
          "text": [
            "112572\n"
          ]
        }
      ]
    },
    {
      "cell_type": "markdown",
      "source": [
        "There are about 112000 words in the texts.\n",
        "\n"
      ],
      "metadata": {
        "id": "wfw3CqfZsWyT"
      }
    },
    {
      "cell_type": "code",
      "source": [
        "# counting max sequence length and how many non-repetitive words are there in the whole texts of the dataset\n",
        "l = []\n",
        "max_seq_length = 0\n",
        "for i in dataset['text']:\n",
        "  length = len(i.split())\n",
        "  if length > max_seq_length: max_seq_length = length\n",
        "  for j in i.split():\n",
        "    if j not in l: l.append(j)\n",
        "\n",
        "print(max_seq_length)\n",
        "print(len(l))"
      ],
      "metadata": {
        "colab": {
          "base_uri": "https://localhost:8080/"
        },
        "id": "2ufQzaF9ncqZ",
        "outputId": "c3675e18-2328-4ab7-f4de-f958ffa2c888"
      },
      "execution_count": 132,
      "outputs": [
        {
          "output_type": "stream",
          "name": "stdout",
          "text": [
            "309\n",
            "18933\n"
          ]
        }
      ]
    },
    {
      "cell_type": "markdown",
      "source": [
        "Maximum sequence length is 309 and There are about 19000 non-repetitive words in the whole dataset texts. So we set max word features to 10000 and sequence length to 350. \n",
        "    \n",
        "**Edits:** Original code had set the maximum features to 10000. I'll be using the entire features with a maximum length of 310"
      ],
      "metadata": {
        "id": "cGGf8rQorkSR"
      }
    },
    {
      "cell_type": "markdown",
      "source": [
        "### Vectorizing the datasets\n",
        "Each sentece has a word vector with a length of 350. Each unique word is mapped to a number between 0 and 10000\n",
        "\n",
        "Text vectorization is the process of converting text data into numerical vectors that can be used as input to machine learning algorithms. The goal of text vectorization is to represent text data in a way that captures its meaning and allows algorithms to process it effectively.   \n",
        "   \n",
        "Overall, text vectorization is a critical component of many NLP applications and is essential for effectively processing and analyzing large volumes of textual data."
      ],
      "metadata": {
        "id": "pom3gtdCD1wY"
      }
    },
    {
      "cell_type": "code",
      "source": [
        "# setting the text vectorization layer with 20000 words and 350 sequence length\n",
        "max_features = 10000\n",
        "sequence_length = 350\n",
        "\n",
        "vectorize_layer = layers.TextVectorization(\n",
        "    max_tokens=max_features,\n",
        "    output_mode='int',\n",
        "    output_sequence_length=sequence_length)\n",
        "\n",
        "# fitting the state of the preprocessing layer to the train set. This will cause the model to build an index of strings to integers.\n",
        "vectorize_layer.adapt(train_texts)\n",
        "\n",
        "# defining the vectorize text function\n",
        "def vectorize_text(text, label):\n",
        "  text = tf.expand_dims(text, -1)\n",
        "  return vectorize_layer(text), label\n",
        "\n",
        "# retrieving a sample from a batch of texts and labels from the train set\n",
        "text_batch, label_batch = next(iter(raw_train_batch))\n",
        "first_review, first_label = text_batch[0], label_batch[0]\n",
        "print(\"Review\", first_review)\n",
        "print(\"Label\", first_label)\n",
        "print(\"Vectorized text\", vectorize_text(first_review, first_label))"
      ],
      "metadata": {
        "colab": {
          "base_uri": "https://localhost:8080/"
        },
        "id": "Ey2QJjO97T9P",
        "outputId": "e7d70f47-ea43-4ec2-f198-bff957164358"
      },
      "execution_count": 133,
      "outputs": [
        {
          "output_type": "stream",
          "name": "stdout",
          "text": [
            "Review tf.Tensor(b'housie tambola game by brands with foldable reusable tickets snooplay 13 17 year olds 18 years above 251 500 8 12 year olds age no bar all time favourite below 1000 below 400 below 500 best selling board games creative games gifts customer favourites diwali family friends night family games friends family nights geek gifts for boys gifts for friends gifts for girls gifts for kids gifts for parents googleshopping nerd or geek new new collection outdoor games party accessories party essentials party freak party games party games for grown ups party games for kids premium unique new toys ', shape=(), dtype=string)\n",
            "Label tf.Tensor(18, shape=(), dtype=int8)\n",
            "Vectorized text (<tf.Tensor: shape=(1, 350), dtype=int64, numpy=\n",
            "array([[   1, 9229,  192,   23,  343,   51, 1546, 2392, 9089, 9635,  740,\n",
            "        1609,  275, 2882,  372,   69,  959,    1,  134,  109,   89,  275,\n",
            "        2882,   35,   55,  381,   16,  480, 7346,  783,  181,  783,  961,\n",
            "         783,  134,   79, 2792,  104,   57, 1195,   57,   53, 3072,    1,\n",
            "        5047,  237, 1078,  716,  237,   57, 1078,  237, 6529, 4896,   53,\n",
            "          13,  334,   53,   13, 1078,   53,   13,  179,   53,   13,   62,\n",
            "          53,   13, 3473,    1,    1,  303, 4896,    3,    3,    8,  157,\n",
            "          57,  250,   17,  250,  316,  250, 7261,  250,   57,  250,   57,\n",
            "          13, 1904, 5674,  250,   57,   13,   62,  360,  632,    3,    6,\n",
            "           0,    0,    0,    0,    0,    0,    0,    0,    0,    0,    0,\n",
            "           0,    0,    0,    0,    0,    0,    0,    0,    0,    0,    0,\n",
            "           0,    0,    0,    0,    0,    0,    0,    0,    0,    0,    0,\n",
            "           0,    0,    0,    0,    0,    0,    0,    0,    0,    0,    0,\n",
            "           0,    0,    0,    0,    0,    0,    0,    0,    0,    0,    0,\n",
            "           0,    0,    0,    0,    0,    0,    0,    0,    0,    0,    0,\n",
            "           0,    0,    0,    0,    0,    0,    0,    0,    0,    0,    0,\n",
            "           0,    0,    0,    0,    0,    0,    0,    0,    0,    0,    0,\n",
            "           0,    0,    0,    0,    0,    0,    0,    0,    0,    0,    0,\n",
            "           0,    0,    0,    0,    0,    0,    0,    0,    0,    0,    0,\n",
            "           0,    0,    0,    0,    0,    0,    0,    0,    0,    0,    0,\n",
            "           0,    0,    0,    0,    0,    0,    0,    0,    0,    0,    0,\n",
            "           0,    0,    0,    0,    0,    0,    0,    0,    0,    0,    0,\n",
            "           0,    0,    0,    0,    0,    0,    0,    0,    0,    0,    0,\n",
            "           0,    0,    0,    0,    0,    0,    0,    0,    0,    0,    0,\n",
            "           0,    0,    0,    0,    0,    0,    0,    0,    0,    0,    0,\n",
            "           0,    0,    0,    0,    0,    0,    0,    0,    0,    0,    0,\n",
            "           0,    0,    0,    0,    0,    0,    0,    0,    0,    0,    0,\n",
            "           0,    0,    0,    0,    0,    0,    0,    0,    0,    0,    0,\n",
            "           0,    0,    0,    0,    0,    0,    0,    0,    0,    0,    0,\n",
            "           0,    0,    0,    0,    0,    0,    0,    0,    0,    0,    0,\n",
            "           0,    0,    0,    0,    0,    0,    0,    0,    0,    0,    0,\n",
            "           0,    0,    0,    0,    0,    0,    0,    0,    0]])>, <tf.Tensor: shape=(), dtype=int8, numpy=18>)\n"
          ]
        }
      ]
    },
    {
      "cell_type": "code",
      "source": [
        "# getting corresponding word of each integer \n",
        "print(\"1401 ---> \",vectorize_layer.get_vocabulary()[1401])\n",
        "print(\" 313 ---> \",vectorize_layer.get_vocabulary()[313])\n",
        "print('Vocabulary size: {}'.format(len(vectorize_layer.get_vocabulary())))"
      ],
      "metadata": {
        "colab": {
          "base_uri": "https://localhost:8080/"
        },
        "id": "X84dkB768GSx",
        "outputId": "6dd5aa68-c23c-4f92-c304-85c9505fc2d9"
      },
      "execution_count": 134,
      "outputs": [
        {
          "output_type": "stream",
          "name": "stdout",
          "text": [
            "1401 --->  heel\n",
            " 313 --->  is\n",
            "Vocabulary size: 10000\n"
          ]
        }
      ]
    },
    {
      "cell_type": "markdown",
      "source": [
        "Caching and vectorizing the datasets"
      ],
      "metadata": {
        "id": "RhRVXTpIXKM9"
      }
    },
    {
      "cell_type": "code",
      "source": [
        "# creating train, val, and test vectorized dataset and prefetching them\n",
        "train_ds = raw_train_batch.map(vectorize_text)\n",
        "val_ds = raw_val_batch.map(vectorize_text)\n",
        "test_ds = raw_test_batch.map(vectorize_text)\n",
        "\n",
        "AUTOTUNE = tf.data.AUTOTUNE\n",
        "\n",
        "train_ds = train_ds.cache().prefetch(buffer_size=AUTOTUNE)\n",
        "val_ds = val_ds.cache().prefetch(buffer_size=AUTOTUNE)\n",
        "test_ds = test_ds.cache().prefetch(buffer_size=AUTOTUNE)"
      ],
      "metadata": {
        "id": "DiW717GQ_77D"
      },
      "execution_count": 135,
      "outputs": []
    },
    {
      "cell_type": "markdown",
      "source": [
        "##Building the Model\n",
        "In this section we'll build our text classifier model which has a **text embedding layer**.\n",
        "\n",
        "Text embedding is a technique used in natural language processing (NLP) to represent words, phrases, or entire documents as dense vectors of numerical values. The idea behind text embedding is to capture the meaning of textual data in a way that is computationally efficient and allows algorithms to make sense of the relationships between different pieces of text.\n",
        "\n",
        "The resulting embedding vectors are typically of fixed dimensionality and can be used as input to machine learning algorithms for various tasks such as text classification, sentiment analysis, and information retrieval. By representing text as vectors, NLP models can operate on them as continuous mathematical objects and easily capture complex relationships between words and phrases."
      ],
      "metadata": {
        "id": "S_kOCHQWEBc9"
      }
    },
    {
      "cell_type": "code",
      "source": [
        "# model configuration\n",
        "embedding_dim = 32\n",
        "num_of_labels = 20\n",
        "vocab_size = len(vectorize_layer.get_vocabulary())\n",
        "\n",
        "model = tf.keras.Sequential([\n",
        "  layers.Embedding(vocab_size + 1, embedding_dim),\n",
        "  layers.Dropout(0.2),\n",
        "  layers.GlobalAveragePooling1D(),\n",
        "  layers.Dropout(0.2),\n",
        "  layers.Dense(num_of_labels)])\n",
        "\n",
        "model.summary()"
      ],
      "metadata": {
        "colab": {
          "base_uri": "https://localhost:8080/"
        },
        "id": "BBHmGG_SAWhp",
        "outputId": "b4e93aa9-7d67-4bf5-cadc-5b26e841dcc0"
      },
      "execution_count": 136,
      "outputs": [
        {
          "output_type": "stream",
          "name": "stdout",
          "text": [
            "Model: \"sequential_12\"\n",
            "_________________________________________________________________\n",
            " Layer (type)                Output Shape              Param #   \n",
            "=================================================================\n",
            " embedding_11 (Embedding)    (None, None, 32)          320032    \n",
            "                                                                 \n",
            " dropout_20 (Dropout)        (None, None, 32)          0         \n",
            "                                                                 \n",
            " global_average_pooling1d_13  (None, 32)               0         \n",
            "  (GlobalAveragePooling1D)                                       \n",
            "                                                                 \n",
            " dropout_21 (Dropout)        (None, 32)                0         \n",
            "                                                                 \n",
            " dense_22 (Dense)            (None, 20)                660       \n",
            "                                                                 \n",
            "=================================================================\n",
            "Total params: 320,692\n",
            "Trainable params: 320,692\n",
            "Non-trainable params: 0\n",
            "_________________________________________________________________\n"
          ]
        }
      ]
    },
    {
      "cell_type": "markdown",
      "source": [
        "Compiling our model. Initializing the model with random weights."
      ],
      "metadata": {
        "id": "j1FJGOkcXS1z"
      }
    },
    {
      "cell_type": "code",
      "source": [
        "# model compilation\n",
        "model.compile(optimizer='adam',\n",
        "              loss=tf.keras.losses.SparseCategoricalCrossentropy(from_logits=True),\n",
        "              metrics=['accuracy'])"
      ],
      "metadata": {
        "id": "uL6c-YGfAwLz"
      },
      "execution_count": 137,
      "outputs": []
    },
    {
      "cell_type": "markdown",
      "source": [
        "## Training the Model\n",
        "Fitting the model on our database and getting the results."
      ],
      "metadata": {
        "id": "zCo1pNx9XdZe"
      }
    },
    {
      "cell_type": "code",
      "source": [
        "# training the model\n",
        "epochs = 500\n",
        "\n",
        "callback = tf.keras.callbacks.EarlyStopping(monitor='val_loss',\n",
        "                                            patience=5,\n",
        "                                            verbose=1)\n",
        "\n",
        "history = model.fit(train_ds,\n",
        "                    validation_data=val_ds,\n",
        "                    epochs=epochs,\n",
        "                    callbacks=[callback])"
      ],
      "metadata": {
        "colab": {
          "base_uri": "https://localhost:8080/"
        },
        "id": "CIfmPA3SvX4d",
        "outputId": "94c3e93e-865a-494b-da37-3a2cb2ffab85"
      },
      "execution_count": 138,
      "outputs": [
        {
          "output_type": "stream",
          "name": "stdout",
          "text": [
            "Epoch 1/500\n",
            "132/132 [==============================] - 17s 124ms/step - loss: 2.9052 - accuracy: 0.1592 - val_loss: 2.7852 - val_accuracy: 0.1935\n",
            "Epoch 2/500\n",
            "132/132 [==============================] - 1s 4ms/step - loss: 2.7111 - accuracy: 0.1881 - val_loss: 2.6847 - val_accuracy: 0.1935\n",
            "Epoch 3/500\n",
            "132/132 [==============================] - 1s 4ms/step - loss: 2.6768 - accuracy: 0.1881 - val_loss: 2.6725 - val_accuracy: 0.1935\n",
            "Epoch 4/500\n",
            "132/132 [==============================] - 1s 4ms/step - loss: 2.6697 - accuracy: 0.1881 - val_loss: 2.6656 - val_accuracy: 0.1935\n",
            "Epoch 5/500\n",
            "132/132 [==============================] - 1s 4ms/step - loss: 2.6626 - accuracy: 0.1881 - val_loss: 2.6593 - val_accuracy: 0.1935\n",
            "Epoch 6/500\n",
            "132/132 [==============================] - 1s 4ms/step - loss: 2.6547 - accuracy: 0.1881 - val_loss: 2.6532 - val_accuracy: 0.1935\n",
            "Epoch 7/500\n",
            "132/132 [==============================] - 1s 4ms/step - loss: 2.6449 - accuracy: 0.1883 - val_loss: 2.6461 - val_accuracy: 0.1935\n",
            "Epoch 8/500\n",
            "132/132 [==============================] - 1s 4ms/step - loss: 2.6405 - accuracy: 0.1883 - val_loss: 2.6395 - val_accuracy: 0.1935\n",
            "Epoch 9/500\n",
            "132/132 [==============================] - 1s 4ms/step - loss: 2.6310 - accuracy: 0.1883 - val_loss: 2.6317 - val_accuracy: 0.1935\n",
            "Epoch 10/500\n",
            "132/132 [==============================] - 1s 4ms/step - loss: 2.6235 - accuracy: 0.1895 - val_loss: 2.6227 - val_accuracy: 0.1954\n",
            "Epoch 11/500\n",
            "132/132 [==============================] - 1s 4ms/step - loss: 2.6104 - accuracy: 0.1895 - val_loss: 2.6131 - val_accuracy: 0.1954\n",
            "Epoch 12/500\n",
            "132/132 [==============================] - 1s 4ms/step - loss: 2.5974 - accuracy: 0.1917 - val_loss: 2.6019 - val_accuracy: 0.1954\n",
            "Epoch 13/500\n",
            "132/132 [==============================] - 1s 5ms/step - loss: 2.5859 - accuracy: 0.1952 - val_loss: 2.5905 - val_accuracy: 0.1992\n",
            "Epoch 14/500\n",
            "132/132 [==============================] - 1s 6ms/step - loss: 2.5709 - accuracy: 0.1969 - val_loss: 2.5770 - val_accuracy: 0.1992\n",
            "Epoch 15/500\n",
            "132/132 [==============================] - 1s 4ms/step - loss: 2.5579 - accuracy: 0.2026 - val_loss: 2.5623 - val_accuracy: 0.2011\n",
            "Epoch 16/500\n",
            "132/132 [==============================] - 1s 4ms/step - loss: 2.5352 - accuracy: 0.2102 - val_loss: 2.5468 - val_accuracy: 0.2087\n",
            "Epoch 17/500\n",
            "132/132 [==============================] - 1s 4ms/step - loss: 2.5190 - accuracy: 0.2170 - val_loss: 2.5293 - val_accuracy: 0.2201\n",
            "Epoch 18/500\n",
            "132/132 [==============================] - 1s 4ms/step - loss: 2.5002 - accuracy: 0.2244 - val_loss: 2.5107 - val_accuracy: 0.2277\n",
            "Epoch 19/500\n",
            "132/132 [==============================] - 1s 4ms/step - loss: 2.4744 - accuracy: 0.2308 - val_loss: 2.4922 - val_accuracy: 0.2315\n",
            "Epoch 20/500\n",
            "132/132 [==============================] - 1s 4ms/step - loss: 2.4534 - accuracy: 0.2415 - val_loss: 2.4714 - val_accuracy: 0.2391\n",
            "Epoch 21/500\n",
            "132/132 [==============================] - 1s 4ms/step - loss: 2.4243 - accuracy: 0.2498 - val_loss: 2.4488 - val_accuracy: 0.2486\n",
            "Epoch 22/500\n",
            "132/132 [==============================] - 1s 4ms/step - loss: 2.3998 - accuracy: 0.2597 - val_loss: 2.4242 - val_accuracy: 0.2562\n",
            "Epoch 23/500\n",
            "132/132 [==============================] - 1s 4ms/step - loss: 2.3714 - accuracy: 0.2685 - val_loss: 2.4001 - val_accuracy: 0.2676\n",
            "Epoch 24/500\n",
            "132/132 [==============================] - 1s 4ms/step - loss: 2.3446 - accuracy: 0.2789 - val_loss: 2.3763 - val_accuracy: 0.2732\n",
            "Epoch 25/500\n",
            "132/132 [==============================] - 1s 4ms/step - loss: 2.3127 - accuracy: 0.2915 - val_loss: 2.3501 - val_accuracy: 0.2884\n",
            "Epoch 26/500\n",
            "132/132 [==============================] - 1s 4ms/step - loss: 2.2815 - accuracy: 0.2984 - val_loss: 2.3234 - val_accuracy: 0.2979\n",
            "Epoch 27/500\n",
            "132/132 [==============================] - 1s 4ms/step - loss: 2.2502 - accuracy: 0.3195 - val_loss: 2.2956 - val_accuracy: 0.3055\n",
            "Epoch 28/500\n",
            "132/132 [==============================] - 0s 4ms/step - loss: 2.2164 - accuracy: 0.3363 - val_loss: 2.2680 - val_accuracy: 0.3188\n",
            "Epoch 29/500\n",
            "132/132 [==============================] - 1s 4ms/step - loss: 2.1829 - accuracy: 0.3484 - val_loss: 2.2373 - val_accuracy: 0.3264\n",
            "Epoch 30/500\n",
            "132/132 [==============================] - 1s 4ms/step - loss: 2.1467 - accuracy: 0.3631 - val_loss: 2.2091 - val_accuracy: 0.3302\n",
            "Epoch 31/500\n",
            "132/132 [==============================] - 1s 4ms/step - loss: 2.1129 - accuracy: 0.3812 - val_loss: 2.1766 - val_accuracy: 0.3529\n",
            "Epoch 32/500\n",
            "132/132 [==============================] - 1s 4ms/step - loss: 2.0717 - accuracy: 0.4042 - val_loss: 2.1461 - val_accuracy: 0.3662\n",
            "Epoch 33/500\n",
            "132/132 [==============================] - 1s 6ms/step - loss: 2.0362 - accuracy: 0.4296 - val_loss: 2.1151 - val_accuracy: 0.3776\n",
            "Epoch 34/500\n",
            "132/132 [==============================] - 1s 6ms/step - loss: 2.0023 - accuracy: 0.4431 - val_loss: 2.0842 - val_accuracy: 0.3852\n",
            "Epoch 35/500\n",
            "132/132 [==============================] - 1s 4ms/step - loss: 1.9663 - accuracy: 0.4618 - val_loss: 2.0529 - val_accuracy: 0.3985\n",
            "Epoch 36/500\n",
            "132/132 [==============================] - 1s 4ms/step - loss: 1.9230 - accuracy: 0.4934 - val_loss: 2.0208 - val_accuracy: 0.4137\n",
            "Epoch 37/500\n",
            "132/132 [==============================] - 1s 4ms/step - loss: 1.8863 - accuracy: 0.5242 - val_loss: 1.9884 - val_accuracy: 0.4288\n",
            "Epoch 38/500\n",
            "132/132 [==============================] - 1s 4ms/step - loss: 1.8420 - accuracy: 0.5384 - val_loss: 1.9576 - val_accuracy: 0.4516\n",
            "Epoch 39/500\n",
            "132/132 [==============================] - 1s 4ms/step - loss: 1.8106 - accuracy: 0.5591 - val_loss: 1.9243 - val_accuracy: 0.4668\n",
            "Epoch 40/500\n",
            "132/132 [==============================] - 1s 4ms/step - loss: 1.7691 - accuracy: 0.5852 - val_loss: 1.8939 - val_accuracy: 0.4896\n",
            "Epoch 41/500\n",
            "132/132 [==============================] - 1s 4ms/step - loss: 1.7290 - accuracy: 0.6044 - val_loss: 1.8641 - val_accuracy: 0.5047\n",
            "Epoch 42/500\n",
            "132/132 [==============================] - 1s 4ms/step - loss: 1.6893 - accuracy: 0.6195 - val_loss: 1.8325 - val_accuracy: 0.5218\n",
            "Epoch 43/500\n",
            "132/132 [==============================] - 1s 4ms/step - loss: 1.6533 - accuracy: 0.6435 - val_loss: 1.8033 - val_accuracy: 0.5541\n",
            "Epoch 44/500\n",
            "132/132 [==============================] - 1s 4ms/step - loss: 1.6140 - accuracy: 0.6589 - val_loss: 1.7728 - val_accuracy: 0.5541\n",
            "Epoch 45/500\n",
            "132/132 [==============================] - 1s 4ms/step - loss: 1.5790 - accuracy: 0.6739 - val_loss: 1.7438 - val_accuracy: 0.5617\n",
            "Epoch 46/500\n",
            "132/132 [==============================] - 1s 4ms/step - loss: 1.5380 - accuracy: 0.6879 - val_loss: 1.7146 - val_accuracy: 0.5712\n",
            "Epoch 47/500\n",
            "132/132 [==============================] - 1s 4ms/step - loss: 1.5048 - accuracy: 0.7071 - val_loss: 1.6883 - val_accuracy: 0.5769\n",
            "Epoch 48/500\n",
            "132/132 [==============================] - 1s 4ms/step - loss: 1.4664 - accuracy: 0.7204 - val_loss: 1.6603 - val_accuracy: 0.5882\n",
            "Epoch 49/500\n",
            "132/132 [==============================] - 1s 4ms/step - loss: 1.4336 - accuracy: 0.7313 - val_loss: 1.6311 - val_accuracy: 0.5977\n",
            "Epoch 50/500\n",
            "132/132 [==============================] - 1s 4ms/step - loss: 1.4013 - accuracy: 0.7431 - val_loss: 1.6040 - val_accuracy: 0.6129\n",
            "Epoch 51/500\n",
            "132/132 [==============================] - 1s 4ms/step - loss: 1.3633 - accuracy: 0.7531 - val_loss: 1.5820 - val_accuracy: 0.6186\n",
            "Epoch 52/500\n",
            "132/132 [==============================] - 1s 6ms/step - loss: 1.3263 - accuracy: 0.7593 - val_loss: 1.5541 - val_accuracy: 0.6338\n",
            "Epoch 53/500\n",
            "132/132 [==============================] - 1s 6ms/step - loss: 1.2993 - accuracy: 0.7647 - val_loss: 1.5293 - val_accuracy: 0.6490\n",
            "Epoch 54/500\n",
            "132/132 [==============================] - 1s 4ms/step - loss: 1.2668 - accuracy: 0.7768 - val_loss: 1.5071 - val_accuracy: 0.6546\n",
            "Epoch 55/500\n",
            "132/132 [==============================] - 1s 4ms/step - loss: 1.2329 - accuracy: 0.7858 - val_loss: 1.4828 - val_accuracy: 0.6584\n",
            "Epoch 56/500\n",
            "132/132 [==============================] - 1s 4ms/step - loss: 1.2047 - accuracy: 0.7891 - val_loss: 1.4596 - val_accuracy: 0.6755\n",
            "Epoch 57/500\n",
            "132/132 [==============================] - 1s 4ms/step - loss: 1.1732 - accuracy: 0.8022 - val_loss: 1.4393 - val_accuracy: 0.6755\n",
            "Epoch 58/500\n",
            "132/132 [==============================] - 1s 4ms/step - loss: 1.1478 - accuracy: 0.8050 - val_loss: 1.4163 - val_accuracy: 0.6812\n",
            "Epoch 59/500\n",
            "132/132 [==============================] - 1s 4ms/step - loss: 1.1190 - accuracy: 0.8102 - val_loss: 1.3953 - val_accuracy: 0.6850\n",
            "Epoch 60/500\n",
            "132/132 [==============================] - 1s 4ms/step - loss: 1.0881 - accuracy: 0.8181 - val_loss: 1.3740 - val_accuracy: 0.7002\n",
            "Epoch 61/500\n",
            "132/132 [==============================] - 1s 4ms/step - loss: 1.0648 - accuracy: 0.8164 - val_loss: 1.3553 - val_accuracy: 0.7135\n",
            "Epoch 62/500\n",
            "132/132 [==============================] - 1s 4ms/step - loss: 1.0373 - accuracy: 0.8264 - val_loss: 1.3364 - val_accuracy: 0.7059\n",
            "Epoch 63/500\n",
            "132/132 [==============================] - 1s 4ms/step - loss: 1.0123 - accuracy: 0.8318 - val_loss: 1.3195 - val_accuracy: 0.7135\n",
            "Epoch 64/500\n",
            "132/132 [==============================] - 1s 4ms/step - loss: 0.9917 - accuracy: 0.8297 - val_loss: 1.3000 - val_accuracy: 0.7211\n",
            "Epoch 65/500\n",
            "132/132 [==============================] - 1s 4ms/step - loss: 0.9634 - accuracy: 0.8392 - val_loss: 1.2867 - val_accuracy: 0.7211\n",
            "Epoch 66/500\n",
            "132/132 [==============================] - 0s 4ms/step - loss: 0.9422 - accuracy: 0.8475 - val_loss: 1.2669 - val_accuracy: 0.7306\n",
            "Epoch 67/500\n",
            "132/132 [==============================] - 1s 4ms/step - loss: 0.9141 - accuracy: 0.8454 - val_loss: 1.2525 - val_accuracy: 0.7287\n",
            "Epoch 68/500\n",
            "132/132 [==============================] - 1s 4ms/step - loss: 0.8983 - accuracy: 0.8508 - val_loss: 1.2356 - val_accuracy: 0.7343\n",
            "Epoch 69/500\n",
            "132/132 [==============================] - 1s 4ms/step - loss: 0.8721 - accuracy: 0.8551 - val_loss: 1.2232 - val_accuracy: 0.7343\n",
            "Epoch 70/500\n",
            "132/132 [==============================] - 1s 4ms/step - loss: 0.8556 - accuracy: 0.8603 - val_loss: 1.2076 - val_accuracy: 0.7381\n",
            "Epoch 71/500\n",
            "132/132 [==============================] - 1s 4ms/step - loss: 0.8348 - accuracy: 0.8648 - val_loss: 1.1929 - val_accuracy: 0.7400\n",
            "Epoch 72/500\n",
            "132/132 [==============================] - 1s 5ms/step - loss: 0.8186 - accuracy: 0.8650 - val_loss: 1.1792 - val_accuracy: 0.7457\n",
            "Epoch 73/500\n",
            "132/132 [==============================] - 1s 6ms/step - loss: 0.7959 - accuracy: 0.8676 - val_loss: 1.1682 - val_accuracy: 0.7419\n",
            "Epoch 74/500\n",
            "132/132 [==============================] - 1s 4ms/step - loss: 0.7797 - accuracy: 0.8676 - val_loss: 1.1549 - val_accuracy: 0.7457\n",
            "Epoch 75/500\n",
            "132/132 [==============================] - 1s 4ms/step - loss: 0.7620 - accuracy: 0.8757 - val_loss: 1.1435 - val_accuracy: 0.7457\n",
            "Epoch 76/500\n",
            "132/132 [==============================] - 1s 4ms/step - loss: 0.7443 - accuracy: 0.8743 - val_loss: 1.1317 - val_accuracy: 0.7457\n",
            "Epoch 77/500\n",
            "132/132 [==============================] - 1s 4ms/step - loss: 0.7249 - accuracy: 0.8805 - val_loss: 1.1211 - val_accuracy: 0.7495\n",
            "Epoch 78/500\n",
            "132/132 [==============================] - 1s 4ms/step - loss: 0.7090 - accuracy: 0.8826 - val_loss: 1.1106 - val_accuracy: 0.7495\n",
            "Epoch 79/500\n",
            "132/132 [==============================] - 0s 4ms/step - loss: 0.6938 - accuracy: 0.8852 - val_loss: 1.1013 - val_accuracy: 0.7495\n",
            "Epoch 80/500\n",
            "132/132 [==============================] - 1s 4ms/step - loss: 0.6776 - accuracy: 0.8907 - val_loss: 1.0900 - val_accuracy: 0.7533\n",
            "Epoch 81/500\n",
            "132/132 [==============================] - 1s 4ms/step - loss: 0.6616 - accuracy: 0.8880 - val_loss: 1.0817 - val_accuracy: 0.7571\n",
            "Epoch 82/500\n",
            "132/132 [==============================] - 1s 4ms/step - loss: 0.6498 - accuracy: 0.8902 - val_loss: 1.0730 - val_accuracy: 0.7571\n",
            "Epoch 83/500\n",
            "132/132 [==============================] - 1s 4ms/step - loss: 0.6358 - accuracy: 0.8978 - val_loss: 1.0633 - val_accuracy: 0.7609\n",
            "Epoch 84/500\n",
            "132/132 [==============================] - 1s 4ms/step - loss: 0.6194 - accuracy: 0.8985 - val_loss: 1.0548 - val_accuracy: 0.7590\n",
            "Epoch 85/500\n",
            "132/132 [==============================] - 1s 4ms/step - loss: 0.6062 - accuracy: 0.9011 - val_loss: 1.0449 - val_accuracy: 0.7609\n",
            "Epoch 86/500\n",
            "132/132 [==============================] - 1s 4ms/step - loss: 0.5940 - accuracy: 0.9037 - val_loss: 1.0414 - val_accuracy: 0.7628\n",
            "Epoch 87/500\n",
            "132/132 [==============================] - 1s 4ms/step - loss: 0.5838 - accuracy: 0.9051 - val_loss: 1.0321 - val_accuracy: 0.7609\n",
            "Epoch 88/500\n",
            "132/132 [==============================] - 1s 4ms/step - loss: 0.5677 - accuracy: 0.9058 - val_loss: 1.0249 - val_accuracy: 0.7609\n",
            "Epoch 89/500\n",
            "132/132 [==============================] - 1s 4ms/step - loss: 0.5583 - accuracy: 0.9089 - val_loss: 1.0167 - val_accuracy: 0.7590\n",
            "Epoch 90/500\n",
            "132/132 [==============================] - 1s 4ms/step - loss: 0.5477 - accuracy: 0.9156 - val_loss: 1.0099 - val_accuracy: 0.7628\n",
            "Epoch 91/500\n",
            "132/132 [==============================] - 1s 4ms/step - loss: 0.5359 - accuracy: 0.9130 - val_loss: 1.0054 - val_accuracy: 0.7609\n",
            "Epoch 92/500\n",
            "132/132 [==============================] - 1s 5ms/step - loss: 0.5225 - accuracy: 0.9158 - val_loss: 0.9966 - val_accuracy: 0.7628\n",
            "Epoch 93/500\n",
            "132/132 [==============================] - 1s 6ms/step - loss: 0.5100 - accuracy: 0.9191 - val_loss: 0.9904 - val_accuracy: 0.7647\n",
            "Epoch 94/500\n",
            "132/132 [==============================] - 1s 4ms/step - loss: 0.5003 - accuracy: 0.9203 - val_loss: 0.9855 - val_accuracy: 0.7685\n",
            "Epoch 95/500\n",
            "132/132 [==============================] - 1s 4ms/step - loss: 0.4937 - accuracy: 0.9205 - val_loss: 0.9808 - val_accuracy: 0.7666\n",
            "Epoch 96/500\n",
            "132/132 [==============================] - 1s 4ms/step - loss: 0.4821 - accuracy: 0.9224 - val_loss: 0.9722 - val_accuracy: 0.7723\n",
            "Epoch 97/500\n",
            "132/132 [==============================] - 1s 4ms/step - loss: 0.4723 - accuracy: 0.9274 - val_loss: 0.9695 - val_accuracy: 0.7666\n",
            "Epoch 98/500\n",
            "132/132 [==============================] - 1s 4ms/step - loss: 0.4630 - accuracy: 0.9239 - val_loss: 0.9620 - val_accuracy: 0.7723\n",
            "Epoch 99/500\n",
            "132/132 [==============================] - 1s 4ms/step - loss: 0.4511 - accuracy: 0.9269 - val_loss: 0.9586 - val_accuracy: 0.7799\n",
            "Epoch 100/500\n",
            "132/132 [==============================] - 1s 4ms/step - loss: 0.4426 - accuracy: 0.9305 - val_loss: 0.9538 - val_accuracy: 0.7799\n",
            "Epoch 101/500\n",
            "132/132 [==============================] - 1s 4ms/step - loss: 0.4346 - accuracy: 0.9312 - val_loss: 0.9490 - val_accuracy: 0.7856\n",
            "Epoch 102/500\n",
            "132/132 [==============================] - 1s 4ms/step - loss: 0.4259 - accuracy: 0.9329 - val_loss: 0.9456 - val_accuracy: 0.7780\n",
            "Epoch 103/500\n",
            "132/132 [==============================] - 1s 4ms/step - loss: 0.4152 - accuracy: 0.9343 - val_loss: 0.9406 - val_accuracy: 0.7856\n",
            "Epoch 104/500\n",
            "132/132 [==============================] - 1s 4ms/step - loss: 0.4065 - accuracy: 0.9333 - val_loss: 0.9348 - val_accuracy: 0.7818\n",
            "Epoch 105/500\n",
            "132/132 [==============================] - 1s 4ms/step - loss: 0.4023 - accuracy: 0.9381 - val_loss: 0.9308 - val_accuracy: 0.7856\n",
            "Epoch 106/500\n",
            "132/132 [==============================] - 1s 4ms/step - loss: 0.3935 - accuracy: 0.9379 - val_loss: 0.9292 - val_accuracy: 0.7894\n",
            "Epoch 107/500\n",
            "132/132 [==============================] - 1s 4ms/step - loss: 0.3890 - accuracy: 0.9402 - val_loss: 0.9233 - val_accuracy: 0.7837\n",
            "Epoch 108/500\n",
            "132/132 [==============================] - 1s 4ms/step - loss: 0.3756 - accuracy: 0.9407 - val_loss: 0.9197 - val_accuracy: 0.7894\n",
            "Epoch 109/500\n",
            "132/132 [==============================] - 1s 4ms/step - loss: 0.3688 - accuracy: 0.9438 - val_loss: 0.9178 - val_accuracy: 0.7894\n",
            "Epoch 110/500\n",
            "132/132 [==============================] - 1s 4ms/step - loss: 0.3647 - accuracy: 0.9443 - val_loss: 0.9142 - val_accuracy: 0.7856\n",
            "Epoch 111/500\n",
            "132/132 [==============================] - 1s 4ms/step - loss: 0.3557 - accuracy: 0.9457 - val_loss: 0.9095 - val_accuracy: 0.7894\n",
            "Epoch 112/500\n",
            "132/132 [==============================] - 1s 6ms/step - loss: 0.3473 - accuracy: 0.9481 - val_loss: 0.9076 - val_accuracy: 0.7894\n",
            "Epoch 113/500\n",
            "132/132 [==============================] - 1s 6ms/step - loss: 0.3420 - accuracy: 0.9466 - val_loss: 0.9048 - val_accuracy: 0.7875\n",
            "Epoch 114/500\n",
            "132/132 [==============================] - 1s 4ms/step - loss: 0.3344 - accuracy: 0.9490 - val_loss: 0.9007 - val_accuracy: 0.7913\n",
            "Epoch 115/500\n",
            "132/132 [==============================] - 1s 4ms/step - loss: 0.3294 - accuracy: 0.9495 - val_loss: 0.8998 - val_accuracy: 0.7856\n",
            "Epoch 116/500\n",
            "132/132 [==============================] - 1s 4ms/step - loss: 0.3229 - accuracy: 0.9514 - val_loss: 0.8947 - val_accuracy: 0.7989\n",
            "Epoch 117/500\n",
            "132/132 [==============================] - 1s 4ms/step - loss: 0.3168 - accuracy: 0.9523 - val_loss: 0.8963 - val_accuracy: 0.7913\n",
            "Epoch 118/500\n",
            "132/132 [==============================] - 1s 4ms/step - loss: 0.3074 - accuracy: 0.9537 - val_loss: 0.8882 - val_accuracy: 0.7913\n",
            "Epoch 119/500\n",
            "132/132 [==============================] - 1s 4ms/step - loss: 0.3042 - accuracy: 0.9564 - val_loss: 0.8887 - val_accuracy: 0.7989\n",
            "Epoch 120/500\n",
            "132/132 [==============================] - 1s 4ms/step - loss: 0.2973 - accuracy: 0.9566 - val_loss: 0.8843 - val_accuracy: 0.7951\n",
            "Epoch 121/500\n",
            "132/132 [==============================] - 1s 4ms/step - loss: 0.2927 - accuracy: 0.9585 - val_loss: 0.8841 - val_accuracy: 0.7951\n",
            "Epoch 122/500\n",
            "132/132 [==============================] - 1s 4ms/step - loss: 0.2860 - accuracy: 0.9547 - val_loss: 0.8792 - val_accuracy: 0.7989\n",
            "Epoch 123/500\n",
            "132/132 [==============================] - 1s 4ms/step - loss: 0.2803 - accuracy: 0.9594 - val_loss: 0.8782 - val_accuracy: 0.7989\n",
            "Epoch 124/500\n",
            "132/132 [==============================] - 1s 4ms/step - loss: 0.2721 - accuracy: 0.9620 - val_loss: 0.8773 - val_accuracy: 0.7989\n",
            "Epoch 125/500\n",
            "132/132 [==============================] - 1s 4ms/step - loss: 0.2692 - accuracy: 0.9642 - val_loss: 0.8741 - val_accuracy: 0.8027\n",
            "Epoch 126/500\n",
            "132/132 [==============================] - 1s 4ms/step - loss: 0.2632 - accuracy: 0.9647 - val_loss: 0.8703 - val_accuracy: 0.8027\n",
            "Epoch 127/500\n",
            "132/132 [==============================] - 1s 4ms/step - loss: 0.2585 - accuracy: 0.9625 - val_loss: 0.8687 - val_accuracy: 0.8027\n",
            "Epoch 128/500\n",
            "132/132 [==============================] - 1s 4ms/step - loss: 0.2562 - accuracy: 0.9666 - val_loss: 0.8666 - val_accuracy: 0.8027\n",
            "Epoch 129/500\n",
            "132/132 [==============================] - 1s 4ms/step - loss: 0.2515 - accuracy: 0.9651 - val_loss: 0.8639 - val_accuracy: 0.8027\n",
            "Epoch 130/500\n",
            "132/132 [==============================] - 1s 4ms/step - loss: 0.2409 - accuracy: 0.9687 - val_loss: 0.8624 - val_accuracy: 0.8027\n",
            "Epoch 131/500\n",
            "132/132 [==============================] - 1s 5ms/step - loss: 0.2406 - accuracy: 0.9670 - val_loss: 0.8612 - val_accuracy: 0.8065\n",
            "Epoch 132/500\n",
            "132/132 [==============================] - 1s 6ms/step - loss: 0.2368 - accuracy: 0.9689 - val_loss: 0.8629 - val_accuracy: 0.8046\n",
            "Epoch 133/500\n",
            "132/132 [==============================] - 1s 6ms/step - loss: 0.2311 - accuracy: 0.9708 - val_loss: 0.8571 - val_accuracy: 0.8083\n",
            "Epoch 134/500\n",
            "132/132 [==============================] - 1s 4ms/step - loss: 0.2280 - accuracy: 0.9713 - val_loss: 0.8568 - val_accuracy: 0.8027\n",
            "Epoch 135/500\n",
            "132/132 [==============================] - 1s 4ms/step - loss: 0.2195 - accuracy: 0.9701 - val_loss: 0.8548 - val_accuracy: 0.8027\n",
            "Epoch 136/500\n",
            "132/132 [==============================] - 1s 4ms/step - loss: 0.2177 - accuracy: 0.9718 - val_loss: 0.8574 - val_accuracy: 0.8008\n",
            "Epoch 137/500\n",
            "132/132 [==============================] - 1s 4ms/step - loss: 0.2139 - accuracy: 0.9730 - val_loss: 0.8540 - val_accuracy: 0.8027\n",
            "Epoch 138/500\n",
            "132/132 [==============================] - 1s 4ms/step - loss: 0.2090 - accuracy: 0.9744 - val_loss: 0.8529 - val_accuracy: 0.8046\n",
            "Epoch 139/500\n",
            "132/132 [==============================] - 1s 4ms/step - loss: 0.2052 - accuracy: 0.9734 - val_loss: 0.8550 - val_accuracy: 0.8027\n",
            "Epoch 140/500\n",
            "132/132 [==============================] - 1s 4ms/step - loss: 0.2010 - accuracy: 0.9753 - val_loss: 0.8523 - val_accuracy: 0.8027\n",
            "Epoch 141/500\n",
            "132/132 [==============================] - 1s 4ms/step - loss: 0.1968 - accuracy: 0.9760 - val_loss: 0.8490 - val_accuracy: 0.8065\n",
            "Epoch 142/500\n",
            "132/132 [==============================] - 1s 4ms/step - loss: 0.1928 - accuracy: 0.9775 - val_loss: 0.8479 - val_accuracy: 0.8083\n",
            "Epoch 143/500\n",
            "132/132 [==============================] - 1s 4ms/step - loss: 0.1911 - accuracy: 0.9801 - val_loss: 0.8475 - val_accuracy: 0.8027\n",
            "Epoch 144/500\n",
            "132/132 [==============================] - 1s 4ms/step - loss: 0.1870 - accuracy: 0.9794 - val_loss: 0.8452 - val_accuracy: 0.8046\n",
            "Epoch 145/500\n",
            "132/132 [==============================] - 1s 4ms/step - loss: 0.1850 - accuracy: 0.9798 - val_loss: 0.8453 - val_accuracy: 0.8065\n",
            "Epoch 146/500\n",
            "132/132 [==============================] - 1s 4ms/step - loss: 0.1786 - accuracy: 0.9801 - val_loss: 0.8421 - val_accuracy: 0.8083\n",
            "Epoch 147/500\n",
            "132/132 [==============================] - 1s 4ms/step - loss: 0.1751 - accuracy: 0.9801 - val_loss: 0.8423 - val_accuracy: 0.8046\n",
            "Epoch 148/500\n",
            "132/132 [==============================] - 1s 4ms/step - loss: 0.1686 - accuracy: 0.9824 - val_loss: 0.8464 - val_accuracy: 0.8065\n",
            "Epoch 149/500\n",
            "132/132 [==============================] - 1s 4ms/step - loss: 0.1693 - accuracy: 0.9817 - val_loss: 0.8425 - val_accuracy: 0.8102\n",
            "Epoch 150/500\n",
            "132/132 [==============================] - 1s 4ms/step - loss: 0.1669 - accuracy: 0.9824 - val_loss: 0.8395 - val_accuracy: 0.8046\n",
            "Epoch 151/500\n",
            "132/132 [==============================] - 1s 5ms/step - loss: 0.1634 - accuracy: 0.9815 - val_loss: 0.8429 - val_accuracy: 0.8083\n",
            "Epoch 152/500\n",
            "132/132 [==============================] - 1s 6ms/step - loss: 0.1602 - accuracy: 0.9813 - val_loss: 0.8411 - val_accuracy: 0.8046\n",
            "Epoch 153/500\n",
            "132/132 [==============================] - 1s 5ms/step - loss: 0.1540 - accuracy: 0.9843 - val_loss: 0.8397 - val_accuracy: 0.8102\n",
            "Epoch 154/500\n",
            "132/132 [==============================] - 1s 4ms/step - loss: 0.1546 - accuracy: 0.9824 - val_loss: 0.8382 - val_accuracy: 0.8083\n",
            "Epoch 155/500\n",
            "132/132 [==============================] - 1s 4ms/step - loss: 0.1504 - accuracy: 0.9836 - val_loss: 0.8375 - val_accuracy: 0.8121\n",
            "Epoch 156/500\n",
            "132/132 [==============================] - 1s 4ms/step - loss: 0.1466 - accuracy: 0.9836 - val_loss: 0.8358 - val_accuracy: 0.8102\n",
            "Epoch 157/500\n",
            "132/132 [==============================] - 1s 4ms/step - loss: 0.1421 - accuracy: 0.9870 - val_loss: 0.8391 - val_accuracy: 0.8102\n",
            "Epoch 158/500\n",
            "132/132 [==============================] - 1s 4ms/step - loss: 0.1442 - accuracy: 0.9872 - val_loss: 0.8351 - val_accuracy: 0.8121\n",
            "Epoch 159/500\n",
            "132/132 [==============================] - 1s 4ms/step - loss: 0.1386 - accuracy: 0.9853 - val_loss: 0.8342 - val_accuracy: 0.8140\n",
            "Epoch 160/500\n",
            "132/132 [==============================] - 1s 4ms/step - loss: 0.1368 - accuracy: 0.9867 - val_loss: 0.8334 - val_accuracy: 0.8121\n",
            "Epoch 161/500\n",
            "132/132 [==============================] - 1s 4ms/step - loss: 0.1339 - accuracy: 0.9862 - val_loss: 0.8325 - val_accuracy: 0.8102\n",
            "Epoch 162/500\n",
            "132/132 [==============================] - 1s 4ms/step - loss: 0.1306 - accuracy: 0.9841 - val_loss: 0.8362 - val_accuracy: 0.8140\n",
            "Epoch 163/500\n",
            "132/132 [==============================] - 1s 4ms/step - loss: 0.1291 - accuracy: 0.9851 - val_loss: 0.8332 - val_accuracy: 0.8159\n",
            "Epoch 164/500\n",
            "132/132 [==============================] - 1s 4ms/step - loss: 0.1274 - accuracy: 0.9865 - val_loss: 0.8320 - val_accuracy: 0.8121\n",
            "Epoch 165/500\n",
            "132/132 [==============================] - 1s 4ms/step - loss: 0.1232 - accuracy: 0.9884 - val_loss: 0.8377 - val_accuracy: 0.8121\n",
            "Epoch 166/500\n",
            "132/132 [==============================] - 1s 4ms/step - loss: 0.1230 - accuracy: 0.9865 - val_loss: 0.8326 - val_accuracy: 0.8140\n",
            "Epoch 167/500\n",
            "132/132 [==============================] - 1s 4ms/step - loss: 0.1181 - accuracy: 0.9891 - val_loss: 0.8371 - val_accuracy: 0.8121\n",
            "Epoch 168/500\n",
            "132/132 [==============================] - 1s 4ms/step - loss: 0.1191 - accuracy: 0.9877 - val_loss: 0.8383 - val_accuracy: 0.8140\n",
            "Epoch 169/500\n",
            "132/132 [==============================] - 1s 4ms/step - loss: 0.1154 - accuracy: 0.9877 - val_loss: 0.8324 - val_accuracy: 0.8121\n",
            "Epoch 169: early stopping\n"
          ]
        }
      ]
    },
    {
      "cell_type": "markdown",
      "source": [
        "## Testing Our Model\n",
        "We attempt to test our trained model with the test dataset. The accuracy for our model is 83.5% and the loss is 0.69.\n"
      ],
      "metadata": {
        "id": "MlfDPkORXvqW"
      }
    },
    {
      "cell_type": "code",
      "source": [
        "# printing loss and accuracy of the model on the test set\n",
        "loss, accuracy = model.evaluate(test_ds)\n",
        "print(\"Loss: \", loss)\n",
        "print(\"Accuracy: \", accuracy)"
      ],
      "metadata": {
        "colab": {
          "base_uri": "https://localhost:8080/"
        },
        "id": "FksY9EwwHDkd",
        "outputId": "5e9f8794-8b3d-4f6b-88c9-3069a1077a78"
      },
      "execution_count": 139,
      "outputs": [
        {
          "output_type": "stream",
          "name": "stdout",
          "text": [
            "17/17 [==============================] - 0s 3ms/step - loss: 0.7750 - accuracy: 0.8197\n",
            "Loss:  0.7750128507614136\n",
            "Accuracy:  0.8197343349456787\n"
          ]
        }
      ]
    },
    {
      "cell_type": "markdown",
      "source": [
        "## Visualization\n",
        "Visualizing the train results over all epochs.\n",
        "\n",
        "Visualization in machine learning refers to the use of graphical or visual representations of data to help understand, analyze, and communicate the results of machine learning models. Visualization can be used throughout the entire machine learning workflow, from data exploration and preprocessing to model training, evaluation, and inference.\n",
        "\n",
        "Visualization is a powerful tool in machine learning, as it can help data scientists and machine learning engineers to communicate results and insights to stakeholders who may not have a technical background. It can also be used to identify errors or biases in the data and model, and to generate new ideas for feature engineering or model optimization. Overall, visualization plays a crucial role in the machine learning workflow and can help to improve the accuracy, interpretability, and impact of machine learning models."
      ],
      "metadata": {
        "id": "KXdZkhnTYDuD"
      }
    },
    {
      "cell_type": "code",
      "source": [
        "# extracting the history of training and its keys\n",
        "history_dict = history.history\n",
        "history_dict.keys()"
      ],
      "metadata": {
        "colab": {
          "base_uri": "https://localhost:8080/"
        },
        "id": "cPdyDruxHIv1",
        "outputId": "a31e8f71-e931-41ef-a852-dc8ccaff5356"
      },
      "execution_count": 140,
      "outputs": [
        {
          "output_type": "execute_result",
          "data": {
            "text/plain": [
              "dict_keys(['loss', 'accuracy', 'val_loss', 'val_accuracy'])"
            ]
          },
          "metadata": {},
          "execution_count": 140
        }
      ]
    },
    {
      "cell_type": "code",
      "source": [
        "acc = history_dict['accuracy']\n",
        "val_acc = history_dict['val_accuracy']\n",
        "loss = history_dict['loss']\n",
        "val_loss = history_dict['val_loss']\n",
        "\n",
        "epochs = range(1, len(acc) + 1)"
      ],
      "metadata": {
        "id": "shbF_xRlHDqZ"
      },
      "execution_count": 141,
      "outputs": []
    },
    {
      "cell_type": "code",
      "source": [
        "# ploting of loss\n",
        "plt.plot(epochs, loss, 'b', label='Training loss')\n",
        "plt.plot(epochs, val_loss, 'r', label='Validation loss')\n",
        "plt.title('Training and validation loss')\n",
        "plt.xlabel('Epochs')\n",
        "plt.ylabel('Loss')\n",
        "plt.legend()\n",
        "plt.show()"
      ],
      "metadata": {
        "colab": {
          "base_uri": "https://localhost:8080/",
          "height": 295
        },
        "id": "iLsoTgHGP7Oq",
        "outputId": "43edc5f0-ef25-447d-aeb1-585db6551ace"
      },
      "execution_count": 142,
      "outputs": [
        {
          "output_type": "display_data",
          "data": {
            "text/plain": [
              "<Figure size 432x288 with 1 Axes>"
            ],
            "image/png": "[encoded data removed]"
          },
          "metadata": {
            "needs_background": "light"
          }
        }
      ]
    },
    {
      "cell_type": "code",
      "source": [
        "# plotting of accuracy\n",
        "plt.plot(epochs, acc, 'b', label='Training acc')\n",
        "plt.plot(epochs, val_acc, 'r', label='Validation acc')\n",
        "plt.title('Training and validation accuracy')\n",
        "plt.xlabel('Epochs')\n",
        "plt.ylabel('Accuracy')\n",
        "plt.legend(loc='lower right')\n",
        "plt.show()"
      ],
      "metadata": {
        "colab": {
          "base_uri": "https://localhost:8080/",
          "height": 295
        },
        "id": "1uWqq-CtP-Lq",
        "outputId": "3aeac5f1-ff76-4a2c-f726-2d1b06d0ded5"
      },
      "execution_count": 143,
      "outputs": [
        {
          "output_type": "display_data",
          "data": {
            "text/plain": [
              "<Figure size 432x288 with 1 Axes>"
            ],
            "image/png": "[encoded data removed]"
          },
          "metadata": {
            "needs_background": "light"
          }
        }
      ]
    },
    {
      "cell_type": "markdown",
      "source": [
        "## Inference\n",
        "Inference in machine learning refers to the process of using a trained model to make predictions or decisions on new, unseen data. In other words, it is the process of applying a trained model to a real-world problem by inputting new data and obtaining a predicted output.\n",
        "\n",
        "During the inference stage, the trained model takes in the new input data and produces a corresponding output. This output could be a classification label, a probability distribution, a regression value, or any other kind of prediction that the model is trained to make.\n",
        "\n",
        "Inference is a critical part of the machine learning workflow since it is the stage where the trained model is put to use in the real world. It is also the stage where the performance of the model is evaluated, as the predictions made by the model can be compared to the actual ground truth values."
      ],
      "metadata": {
        "id": "ubNvPm-jYtat"
      }
    },
    {
      "cell_type": "code",
      "source": [
        "# creating the probability model for testing\n",
        "probability_model = tf.keras.Sequential([model, tf.keras.layers.Softmax()])\n",
        "\n",
        "# predicting test samples\n",
        "predictions = probability_model.predict(raw_test_batch.map(vectorize_text))"
      ],
      "metadata": {
        "id": "YQj61lIMvX-Y",
        "colab": {
          "base_uri": "https://localhost:8080/"
        },
        "outputId": "b39edabd-203b-4812-f01f-5c4941ef2a3c"
      },
      "execution_count": 144,
      "outputs": [
        {
          "output_type": "stream",
          "name": "stdout",
          "text": [
            "17/17 [==============================] - 0s 3ms/step\n"
          ]
        }
      ]
    },
    {
      "cell_type": "code",
      "source": [
        "# showing the first test sample result label\n",
        "np.argmax(predictions[0])"
      ],
      "metadata": {
        "colab": {
          "base_uri": "https://localhost:8080/"
        },
        "id": "5cbhBKR7NYPQ",
        "outputId": "9b2e57b1-cb2c-4951-ac40-046a90608d4f"
      },
      "execution_count": 145,
      "outputs": [
        {
          "output_type": "execute_result",
          "data": {
            "text/plain": [
              "0"
            ]
          },
          "metadata": {},
          "execution_count": 145
        }
      ]
    },
    {
      "cell_type": "code",
      "source": [
        "# showing the true label of the first test sample\n",
        "test_df.iloc[0]"
      ],
      "metadata": {
        "colab": {
          "base_uri": "https://localhost:8080/"
        },
        "id": "aNsnTWVuu3xj",
        "outputId": "c7337d07-0b37-4cfd-8eea-eb74fd115d04"
      },
      "execution_count": 146,
      "outputs": [
        {
          "output_type": "execute_result",
          "data": {
            "text/plain": [
              "text         kazoo tough giraffe dog toy kazoo brand kazoo ...\n",
              "label                                   Animals & Pet Supplies\n",
              "label_int                                                    0\n",
              "Name: 8, dtype: object"
            ]
          },
          "metadata": {},
          "execution_count": 146
        }
      ]
    },
    {
      "cell_type": "markdown",
      "source": [
        "**Author:** https://farrokhkarimi.github.io/"
      ],
      "metadata": {
        "id": "CSw7kwIQipyc"
      }
    },
    {
      "cell_type": "markdown",
      "source": [
        "# Hyperparameter tuning  \n",
        "Hyperparameter tuning involves testing various combinations of hyperparameters and evaluating their performance on a validation set to identify the best set of hyperparameters that maximizes the model's accuracy or other performance metric.\n",
        "\n",
        "There are several methods for hyperparameter tuning, including:\n",
        "\n",
        "\n",
        "1.   Grid search: This method involves specifying a grid of possible hyperparameter values and evaluating the performance of the model on all combinations of hyperparameters in the grid.\n",
        "2.   Random search: This method involves randomly sampling hyperparameters from a specified range or distribution and evaluating the performance of the model on these random samples.\n",
        "3.   Bayesian optimization: This method uses probabilistic models to estimate the performance of different hyperparameter combinations and select the most promising combinations to evaluate.\n",
        "4.   Genetic algorithms: This method uses evolutionary algorithms to search for optimal hyperparameters by mimicking natural selection and genetic variation.\n",
        "\n",
        "In this section, I will be testing different hyperparameters using `Keras RandomSearch`.\n",
        "\n",
        "**Author:** [Roham Zendehdel Nobari](https://github.com/rzninvo\\)"
      ],
      "metadata": {
        "id": "3FCqbIdv1oB7"
      }
    },
    {
      "cell_type": "code",
      "source": [
        "#Clearing Keras data on RAM.\n",
        "tf.keras.backend.clear_session()"
      ],
      "metadata": {
        "id": "ju2JTm4d6LpZ"
      },
      "execution_count": 15,
      "outputs": []
    },
    {
      "cell_type": "markdown",
      "source": [
        "Installing `keras-tuner`"
      ],
      "metadata": {
        "id": "M5ly7yN3eryE"
      }
    },
    {
      "cell_type": "code",
      "source": [
        "pip install keras-tuner --upgrade"
      ],
      "metadata": {
        "id": "BRGkbXd5eu0U",
        "outputId": "783868d9-d85f-49c3-9ff9-07fe5c898340",
        "colab": {
          "base_uri": "https://localhost:8080/"
        }
      },
      "execution_count": 16,
      "outputs": [
        {
          "output_type": "stream",
          "name": "stdout",
          "text": [
            "Looking in indexes: https://pypi.org/simple, https://us-python.pkg.dev/colab-wheels/public/simple/\n",
            "Collecting keras-tuner\n",
            "  Downloading keras_tuner-1.3.0-py3-none-any.whl (167 kB)\n",
            "\u001b[2K     \u001b[90m━━━━━━━━━━━━━━━━━━━━━━━━━━━━━━━━━━━━━━\u001b[0m \u001b[32m167.3/167.3 KB\u001b[0m \u001b[31m15.9 MB/s\u001b[0m eta \u001b[36m0:00:00\u001b[0m\n",
            "\u001b[?25hRequirement already satisfied: requests in /usr/local/lib/python3.8/dist-packages (from keras-tuner) (2.25.1)\n",
            "Requirement already satisfied: ipython in /usr/local/lib/python3.8/dist-packages (from keras-tuner) (7.9.0)\n",
            "Requirement already satisfied: packaging in /usr/local/lib/python3.8/dist-packages (from keras-tuner) (23.0)\n",
            "Collecting kt-legacy\n",
            "  Downloading kt_legacy-1.0.4-py3-none-any.whl (9.6 kB)\n",
            "Requirement already satisfied: tensorflow>=2.0 in /usr/local/lib/python3.8/dist-packages (from keras-tuner) (2.11.0)\n",
            "Requirement already satisfied: six>=1.12.0 in /usr/local/lib/python3.8/dist-packages (from tensorflow>=2.0->keras-tuner) (1.15.0)\n",
            "Requirement already satisfied: typing-extensions>=3.6.6 in /usr/local/lib/python3.8/dist-packages (from tensorflow>=2.0->keras-tuner) (4.5.0)\n",
            "Requirement already satisfied: tensorboard<2.12,>=2.11 in /usr/local/lib/python3.8/dist-packages (from tensorflow>=2.0->keras-tuner) (2.11.2)\n",
            "Requirement already satisfied: libclang>=13.0.0 in /usr/local/lib/python3.8/dist-packages (from tensorflow>=2.0->keras-tuner) (15.0.6.1)\n",
            "Requirement already satisfied: absl-py>=1.0.0 in /usr/local/lib/python3.8/dist-packages (from tensorflow>=2.0->keras-tuner) (1.4.0)\n",
            "Requirement already satisfied: protobuf<3.20,>=3.9.2 in /usr/local/lib/python3.8/dist-packages (from tensorflow>=2.0->keras-tuner) (3.19.6)\n",
            "Requirement already satisfied: opt-einsum>=2.3.2 in /usr/local/lib/python3.8/dist-packages (from tensorflow>=2.0->keras-tuner) (3.3.0)\n",
            "Requirement already satisfied: keras<2.12,>=2.11.0 in /usr/local/lib/python3.8/dist-packages (from tensorflow>=2.0->keras-tuner) (2.11.0)\n",
            "Requirement already satisfied: tensorflow-io-gcs-filesystem>=0.23.1 in /usr/local/lib/python3.8/dist-packages (from tensorflow>=2.0->keras-tuner) (0.30.0)\n",
            "Requirement already satisfied: tensorflow-estimator<2.12,>=2.11.0 in /usr/local/lib/python3.8/dist-packages (from tensorflow>=2.0->keras-tuner) (2.11.0)\n",
            "Requirement already satisfied: wrapt>=1.11.0 in /usr/local/lib/python3.8/dist-packages (from tensorflow>=2.0->keras-tuner) (1.14.1)\n",
            "Requirement already satisfied: gast<=0.4.0,>=0.2.1 in /usr/local/lib/python3.8/dist-packages (from tensorflow>=2.0->keras-tuner) (0.4.0)\n",
            "Requirement already satisfied: google-pasta>=0.1.1 in /usr/local/lib/python3.8/dist-packages (from tensorflow>=2.0->keras-tuner) (0.2.0)\n",
            "Requirement already satisfied: h5py>=2.9.0 in /usr/local/lib/python3.8/dist-packages (from tensorflow>=2.0->keras-tuner) (3.1.0)\n",
            "Requirement already satisfied: setuptools in /usr/local/lib/python3.8/dist-packages (from tensorflow>=2.0->keras-tuner) (57.4.0)\n",
            "Requirement already satisfied: termcolor>=1.1.0 in /usr/local/lib/python3.8/dist-packages (from tensorflow>=2.0->keras-tuner) (2.2.0)\n",
            "Requirement already satisfied: numpy>=1.20 in /usr/local/lib/python3.8/dist-packages (from tensorflow>=2.0->keras-tuner) (1.22.4)\n",
            "Requirement already satisfied: grpcio<2.0,>=1.24.3 in /usr/local/lib/python3.8/dist-packages (from tensorflow>=2.0->keras-tuner) (1.51.1)\n",
            "Requirement already satisfied: flatbuffers>=2.0 in /usr/local/lib/python3.8/dist-packages (from tensorflow>=2.0->keras-tuner) (23.1.21)\n",
            "Requirement already satisfied: astunparse>=1.6.0 in /usr/local/lib/python3.8/dist-packages (from tensorflow>=2.0->keras-tuner) (1.6.3)\n",
            "Requirement already satisfied: decorator in /usr/local/lib/python3.8/dist-packages (from ipython->keras-tuner) (4.4.2)\n",
            "Requirement already satisfied: prompt-toolkit<2.1.0,>=2.0.0 in /usr/local/lib/python3.8/dist-packages (from ipython->keras-tuner) (2.0.10)\n",
            "Collecting jedi>=0.10\n",
            "  Downloading jedi-0.18.2-py2.py3-none-any.whl (1.6 MB)\n",
            "\u001b[2K     \u001b[90m━━━━━━━━━━━━━━━━━━━━━━━━━━━━━━━━━━━━━━━━\u001b[0m \u001b[32m1.6/1.6 MB\u001b[0m \u001b[31m78.0 MB/s\u001b[0m eta \u001b[36m0:00:00\u001b[0m\n",
            "\u001b[?25hRequirement already satisfied: pickleshare in /usr/local/lib/python3.8/dist-packages (from ipython->keras-tuner) (0.7.5)\n",
            "Requirement already satisfied: pexpect in /usr/local/lib/python3.8/dist-packages (from ipython->keras-tuner) (4.8.0)\n",
            "Requirement already satisfied: pygments in /usr/local/lib/python3.8/dist-packages (from ipython->keras-tuner) (2.6.1)\n",
            "Requirement already satisfied: traitlets>=4.2 in /usr/local/lib/python3.8/dist-packages (from ipython->keras-tuner) (5.7.1)\n",
            "Requirement already satisfied: backcall in /usr/local/lib/python3.8/dist-packages (from ipython->keras-tuner) (0.2.0)\n",
            "Requirement already satisfied: chardet<5,>=3.0.2 in /usr/local/lib/python3.8/dist-packages (from requests->keras-tuner) (4.0.0)\n",
            "Requirement already satisfied: certifi>=2017.4.17 in /usr/local/lib/python3.8/dist-packages (from requests->keras-tuner) (2022.12.7)\n",
            "Requirement already satisfied: urllib3<1.27,>=1.21.1 in /usr/local/lib/python3.8/dist-packages (from requests->keras-tuner) (1.24.3)\n",
            "Requirement already satisfied: idna<3,>=2.5 in /usr/local/lib/python3.8/dist-packages (from requests->keras-tuner) (2.10)\n",
            "Requirement already satisfied: wheel<1.0,>=0.23.0 in /usr/local/lib/python3.8/dist-packages (from astunparse>=1.6.0->tensorflow>=2.0->keras-tuner) (0.38.4)\n",
            "Requirement already satisfied: parso<0.9.0,>=0.8.0 in /usr/local/lib/python3.8/dist-packages (from jedi>=0.10->ipython->keras-tuner) (0.8.3)\n",
            "Requirement already satisfied: wcwidth in /usr/local/lib/python3.8/dist-packages (from prompt-toolkit<2.1.0,>=2.0.0->ipython->keras-tuner) (0.2.6)\n",
            "Requirement already satisfied: werkzeug>=1.0.1 in /usr/local/lib/python3.8/dist-packages (from tensorboard<2.12,>=2.11->tensorflow>=2.0->keras-tuner) (1.0.1)\n",
            "Requirement already satisfied: google-auth<3,>=1.6.3 in /usr/local/lib/python3.8/dist-packages (from tensorboard<2.12,>=2.11->tensorflow>=2.0->keras-tuner) (2.16.1)\n",
            "Requirement already satisfied: tensorboard-data-server<0.7.0,>=0.6.0 in /usr/local/lib/python3.8/dist-packages (from tensorboard<2.12,>=2.11->tensorflow>=2.0->keras-tuner) (0.6.1)\n",
            "Requirement already satisfied: tensorboard-plugin-wit>=1.6.0 in /usr/local/lib/python3.8/dist-packages (from tensorboard<2.12,>=2.11->tensorflow>=2.0->keras-tuner) (1.8.1)\n",
            "Requirement already satisfied: google-auth-oauthlib<0.5,>=0.4.1 in /usr/local/lib/python3.8/dist-packages (from tensorboard<2.12,>=2.11->tensorflow>=2.0->keras-tuner) (0.4.6)\n",
            "Requirement already satisfied: markdown>=2.6.8 in /usr/local/lib/python3.8/dist-packages (from tensorboard<2.12,>=2.11->tensorflow>=2.0->keras-tuner) (3.4.1)\n",
            "Requirement already satisfied: ptyprocess>=0.5 in /usr/local/lib/python3.8/dist-packages (from pexpect->ipython->keras-tuner) (0.7.0)\n",
            "Requirement already satisfied: rsa<5,>=3.1.4 in /usr/local/lib/python3.8/dist-packages (from google-auth<3,>=1.6.3->tensorboard<2.12,>=2.11->tensorflow>=2.0->keras-tuner) (4.9)\n",
            "Requirement already satisfied: cachetools<6.0,>=2.0.0 in /usr/local/lib/python3.8/dist-packages (from google-auth<3,>=1.6.3->tensorboard<2.12,>=2.11->tensorflow>=2.0->keras-tuner) (5.3.0)\n",
            "Requirement already satisfied: pyasn1-modules>=0.2.1 in /usr/local/lib/python3.8/dist-packages (from google-auth<3,>=1.6.3->tensorboard<2.12,>=2.11->tensorflow>=2.0->keras-tuner) (0.2.8)\n",
            "Requirement already satisfied: requests-oauthlib>=0.7.0 in /usr/local/lib/python3.8/dist-packages (from google-auth-oauthlib<0.5,>=0.4.1->tensorboard<2.12,>=2.11->tensorflow>=2.0->keras-tuner) (1.3.1)\n",
            "Requirement already satisfied: importlib-metadata>=4.4 in /usr/local/lib/python3.8/dist-packages (from markdown>=2.6.8->tensorboard<2.12,>=2.11->tensorflow>=2.0->keras-tuner) (6.0.0)\n",
            "Requirement already satisfied: zipp>=0.5 in /usr/local/lib/python3.8/dist-packages (from importlib-metadata>=4.4->markdown>=2.6.8->tensorboard<2.12,>=2.11->tensorflow>=2.0->keras-tuner) (3.14.0)\n",
            "Requirement already satisfied: pyasn1<0.5.0,>=0.4.6 in /usr/local/lib/python3.8/dist-packages (from pyasn1-modules>=0.2.1->google-auth<3,>=1.6.3->tensorboard<2.12,>=2.11->tensorflow>=2.0->keras-tuner) (0.4.8)\n",
            "Requirement already satisfied: oauthlib>=3.0.0 in /usr/local/lib/python3.8/dist-packages (from requests-oauthlib>=0.7.0->google-auth-oauthlib<0.5,>=0.4.1->tensorboard<2.12,>=2.11->tensorflow>=2.0->keras-tuner) (3.2.2)\n",
            "Installing collected packages: kt-legacy, jedi, keras-tuner\n",
            "Successfully installed jedi-0.18.2 keras-tuner-1.3.0 kt-legacy-1.0.4\n"
          ]
        }
      ]
    },
    {
      "cell_type": "markdown",
      "source": [
        "## Basic Changes"
      ],
      "metadata": {
        "id": "ksnnA_l626wh"
      }
    },
    {
      "cell_type": "markdown",
      "source": [
        "Creating a function for spliting train and test datasets with arbitrary percentages."
      ],
      "metadata": {
        "id": "KZgzLmZxDA-4"
      }
    },
    {
      "cell_type": "code",
      "source": [
        "def split_train_test_datasets(dataset, test_size, val_frac):\n",
        "  # splitting dataset to train, validation, and test dataframes\n",
        "  train_df, test_df= train_test_split(dataset, test_size= test_size, random_state=42)\n",
        "  val_df = test_df.sample(frac= val_frac)\n",
        "  test_df.drop(val_df.index, inplace=True)\n",
        "\n",
        "  print(f\"Number of samples in training set: {len(train_df)}\")\n",
        "  print(f\"Number of samples in validation set: {len(val_df)}\")\n",
        "  print(f\"Number of samples in test set: {len(test_df)}\")\n",
        "\n",
        "  # extracting texts and labels from dataframes\n",
        "  train_texts = train_df['text']\n",
        "  train_labels = train_df['label_int']\n",
        "  val_texts = val_df['text']\n",
        "  val_labels = val_df['label_int']\n",
        "  test_texts = test_df['text']\n",
        "  test_labels = test_df['label_int']\n",
        "\n",
        "  return {'train_texts': train_texts, 'train_labels': train_labels, 'val_texts': val_texts, 'val_labels': val_labels, 'test_texts': test_texts, 'test_labels': test_labels}"
      ],
      "metadata": {
        "id": "hpH8hAQTBM_S"
      },
      "execution_count": 17,
      "outputs": []
    },
    {
      "cell_type": "markdown",
      "source": [
        "Making the batch size tunable."
      ],
      "metadata": {
        "id": "f27WwbtFEWlm"
      }
    },
    {
      "cell_type": "code",
      "source": [
        "def create_dataset_batches(batch_size, dataset_dict):\n",
        "  train_texts = dataset_dict['train_texts']\n",
        "  train_labels = dataset_dict['train_labels']\n",
        "  val_texts = dataset_dict['val_texts']\n",
        "  val_labels = dataset_dict['val_labels']\n",
        "  test_texts = dataset_dict['test_texts']\n",
        "  test_labels = dataset_dict['test_labels']\n",
        "\n",
        "  raw_train_batch = tf.data.Dataset.from_tensor_slices((train_texts, train_labels)).batch(batch_size)\n",
        "  raw_val_batch = tf.data.Dataset.from_tensor_slices((val_texts, val_labels)).batch(batch_size)\n",
        "  raw_test_batch = tf.data.Dataset.from_tensor_slices((test_texts, test_labels)).batch(batch_size)\n",
        "\n",
        "  return {'raw_train_batch': raw_train_batch, 'raw_val_batch': raw_val_batch, 'raw_test_batch': raw_test_batch}"
      ],
      "metadata": {
        "id": "QrGNo_xYDy-1"
      },
      "execution_count": 18,
      "outputs": []
    },
    {
      "cell_type": "markdown",
      "source": [
        "Making the parameters of our vectorizer tunable by implementing a method for vectorizing the dataset."
      ],
      "metadata": {
        "id": "g1S0EJ5y5ZjU"
      }
    },
    {
      "cell_type": "code",
      "source": [
        "# setting the text vectorization layer with \"max_features\" words and a maximum \"sequence length\"\n",
        "def create_vectorizer(max_features, sequence_length, train_texts):\n",
        "  vectorize_layer = layers.TextVectorization(\n",
        "      max_tokens=max_features,\n",
        "      output_mode='int',\n",
        "      output_sequence_length=sequence_length\n",
        "  )\n",
        "\n",
        "  # fitting the state of the preprocessing layer to the train set. This will cause the model to build an index of strings to integers.\n",
        "  vectorize_layer.adapt(train_texts)\n",
        "\n",
        "  return vectorize_layer"
      ],
      "metadata": {
        "id": "5SGCWjnu1na_"
      },
      "execution_count": 19,
      "outputs": []
    },
    {
      "cell_type": "code",
      "source": [
        "#Assembling all the vectorizing functions together and vectorizing the dataset with tunable parameters\n",
        "def vectorize_dataset(max_features, sequence_length, train_texts, raw_dataset_batch_dict):\n",
        "\n",
        "  raw_train_batch = raw_dataset_batch_dict['raw_train_batch']\n",
        "  raw_val_batch = raw_dataset_batch_dict['raw_val_batch']\n",
        "  raw_test_batch = raw_dataset_batch_dict['raw_test_batch']\n",
        "\n",
        "  #Creating the vectorizer\n",
        "  vectorize_layer = create_vectorizer(max_features, sequence_length, train_texts)\n",
        "\n",
        "  def vectorize_text(text, label):\n",
        "    text = tf.expand_dims(text, -1)\n",
        "    return vectorize_layer(text), label\n",
        "\n",
        "  train_ds = raw_train_batch.map(vectorize_text)\n",
        "  val_ds = raw_val_batch.map(vectorize_text)\n",
        "  test_ds = raw_test_batch.map(vectorize_text)\n",
        "\n",
        "  AUTOTUNE = tf.data.AUTOTUNE\n",
        "\n",
        "  train_ds = train_ds.cache().prefetch(buffer_size=AUTOTUNE)\n",
        "  val_ds = val_ds.cache().prefetch(buffer_size=AUTOTUNE)\n",
        "  test_ds = test_ds.cache().prefetch(buffer_size=AUTOTUNE)\n",
        "\n",
        "  return {'train_ds': train_ds, 'val_ds': val_ds, 'test_ds': test_ds}"
      ],
      "metadata": {
        "id": "yMhRTCZ8E_S6"
      },
      "execution_count": 23,
      "outputs": []
    },
    {
      "cell_type": "markdown",
      "source": [
        "I'll simplify the task of visualizing and testing the created model for clean code purposes."
      ],
      "metadata": {
        "id": "voMHofNzzDf0"
      }
    },
    {
      "cell_type": "code",
      "source": [
        "def evaluate_and_visualize(model, test_ds, history):\n",
        "  loss, accuracy = model.evaluate(test_ds)\n",
        "  print(\"Model Loss: \", loss)\n",
        "  print(\"Model Accuracy: \", accuracy)\n",
        "\n",
        "  # extracting the history of training and its keys\n",
        "  history_dict = history.history\n",
        "  history_dict.keys()\n",
        "\n",
        "  acc = history_dict['accuracy']\n",
        "  val_acc = history_dict['val_accuracy']\n",
        "  loss = history_dict['loss']\n",
        "  val_loss = history_dict['val_loss']\n",
        "\n",
        "  epochs = range(1, len(acc) + 1)\n",
        "\n",
        "  # ploting of loss\n",
        "  plt.plot(epochs, loss, 'b', label='Training loss')\n",
        "  plt.plot(epochs, val_loss, 'r', label='Validation loss')\n",
        "  plt.title('Training and validation loss')\n",
        "  plt.xlabel('Epochs')\n",
        "  plt.ylabel('Loss')\n",
        "  plt.legend()\n",
        "  plt.show()\n",
        "\n",
        "  # plotting of accuracy\n",
        "  plt.plot(epochs, acc, 'b', label='Training acc')\n",
        "  plt.plot(epochs, val_acc, 'r', label='Validation acc')\n",
        "  plt.title('Training and validation accuracy')\n",
        "  plt.xlabel('Epochs')\n",
        "  plt.ylabel('Accuracy')\n",
        "  plt.legend(loc='lower right')\n",
        "  plt.show()"
      ],
      "metadata": {
        "id": "eMVbrfs3y5Gf"
      },
      "execution_count": 48,
      "outputs": []
    },
    {
      "cell_type": "markdown",
      "source": [
        "## Building the Tunable Model\n",
        "In this section I'll assemble all the functions into a  HyperModel class containing build and fit methods with tunable parameters.\n",
        "\n"
      ],
      "metadata": {
        "id": "Q_gLXCNkIUqC"
      }
    },
    {
      "cell_type": "code",
      "source": [
        "from tensorflow import keras\n",
        "import keras_tuner\n",
        "\n",
        "#Untunable parameters\n",
        "num_of_labels = 20\n",
        "val_frac = 0.5\n",
        "test_size = 0.2\n",
        "\n",
        "#Defining the HyperModel class\n",
        "class MyHyperModel(keras_tuner.HyperModel):\n",
        "    #Defining the build method which builds and compiles a model with tunable hyperparameters.\n",
        "\n",
        "    def build(self, hp):\n",
        "      #Model hyperparameters\n",
        "      dropout_rate1 = hp.Float('dropout_rate1', min_value=0.1, max_value=0.5, step=0.05)\n",
        "      dropout_rate2 = hp.Float('dropout_rate2', min_value=0.1, max_value=0.5, step=0.05)\n",
        "      embedding_dim = hp.Int('embedding_dim', min_value=32, max_value=256, step=8)\n",
        "      model_optimizer = hp.Choice('optimizer', ['Adam'], default='Adam') #Tested SGD and RMSprop. Didn't get good results!\n",
        "      learn_rate = hp.Choice('learn_rate', [0.001, 0.01, 0.1, 0.2, 0.3], default=0.001)\n",
        "      #momentum = hp.Choice('momentum', [0.0, 0.2, 0.4, 0.6, 0.8, 0.9], default=0.0)\n",
        "      '''if model_optimizer in ['SGD', 'RMSprop']:\n",
        "        optimizer = getattr(tf.keras.optimizers, model_optimizer)(learning_rate=learn_rate, momentum=momentum)\n",
        "      else:'''\n",
        "      optimizer = getattr(tf.keras.optimizers, model_optimizer)(learning_rate=learn_rate)\n",
        "      #Preprocessing hyperparameters\n",
        "      batch_size = hp.Int('batch_size', min_value=32, max_value=128, step=16)\n",
        "      max_features = hp.Int('max_features', min_value=19000, max_value=20000, step=1000)\n",
        "      sequence_length = hp.Choice('sequence_length', [310, 350], default=310)\n",
        "      \n",
        "      model = keras.Sequential([\n",
        "        layers.Embedding(max_features + 1, embedding_dim),\n",
        "        layers.Dropout(dropout_rate1),\n",
        "        layers.GlobalAveragePooling1D(),\n",
        "        layers.Dropout(dropout_rate2),\n",
        "        layers.Dense(num_of_labels)])\n",
        "\n",
        "      model.compile(optimizer=model_optimizer,\n",
        "                    loss=tf.keras.losses.SparseCategoricalCrossentropy(from_logits=True),\n",
        "                    metrics=['accuracy'])\n",
        "      return model\n",
        "\n",
        "    #Defining the fit method for preprocessing the dataset with tunable parameters and fitting it to the model\n",
        "    def fit(self, hp, model, dataset, validation_data=None, **kwargs):\n",
        "      #Preprocessing hyperparameters\n",
        "      batch_size = hp.get('batch_size')\n",
        "      max_features = hp.get('max_features')\n",
        "      sequence_length = hp.get('sequence_length')\n",
        "\n",
        "      #Preprocessing the data\n",
        "      dataset_dict = split_train_test_datasets(dataset, test_size, val_frac)\n",
        "      raw_dataset_batch_dict = create_dataset_batches(batch_size, dataset_dict)\n",
        "      final_ds = vectorize_dataset(max_features, sequence_length, dataset_dict['train_texts'], raw_dataset_batch_dict)\n",
        "\n",
        "      return model.fit(\n",
        "          final_ds['train_ds'],\n",
        "          validation_data=final_ds['val_ds'],\n",
        "          **kwargs,\n",
        "      )"
      ],
      "metadata": {
        "id": "PzrwQ2OhIed-"
      },
      "execution_count": 21,
      "outputs": []
    },
    {
      "cell_type": "markdown",
      "source": [
        "Optimizer Selector Function"
      ],
      "metadata": {
        "id": "Rh_xbaxpmBnZ"
      }
    },
    {
      "cell_type": "markdown",
      "source": [
        "## Starting RandomSearch\n",
        "Building the tuner and starting our Random Search\n",
        "   \n",
        "   \n",
        "Random search tuning is a hyperparameter tuning technique used in machine learning to find the best combination of hyperparameters for a given model. Hyperparameters are parameters that are set prior to training and cannot be learned from the data, such as learning rate, number of hidden layers, or regularization strength.\n",
        "\n",
        "Random search tuning involves randomly sampling hyperparameters from a given search space, which defines the range of values that each hyperparameter can take. The hyperparameters are then used to train the model, and the performance of the model is evaluated using a validation set. This process is repeated several times with different random combinations of hyperparameters, and the combination that yields the best validation performance is selected as the final set of hyperparameters.\n",
        "\n",
        "Random search tuning has several advantages over other hyperparameter tuning methods, such as grid search.\n",
        "1.    It allows for a more efficient exploration of the hyperparameter space, as it does not require a complete search of all possible hyperparameter combinations.\n",
        "2.   It can handle a large number of hyperparameters and complex search spaces. \n",
        "3.   It can be easily parallelized, as each random combination of hyperparameters can be trained and evaluated independently.\n",
        "\n",
        "However, one potential disadvantage of random search tuning is that it can be less effective when the hyperparameter space is highly correlated or when the number of hyperparameters is very small. In such cases, other hyperparameter tuning techniques, such as **Bayesian optimization or Grid Search**, may be more effective"
      ],
      "metadata": {
        "id": "hj1Z5Psqdi3v"
      }
    },
    {
      "cell_type": "code",
      "source": [
        "tuner = keras_tuner.RandomSearch(\n",
        "    MyHyperModel(),\n",
        "    objective=\"val_accuracy\",\n",
        "    max_trials=70,\n",
        "    overwrite=True,\n",
        "    directory=\"my_projects\",\n",
        "    project_name=\"tune_hypermodel\",\n",
        ")\n",
        "\n",
        "callback = tf.keras.callbacks.EarlyStopping(monitor='val_loss',\n",
        "                                            patience=5,\n",
        "                                            verbose=1)\n",
        "\n",
        "tuner.search(dataset, epochs=500, callbacks=[callback])"
      ],
      "metadata": {
        "id": "tH_Q71EwbBFT",
        "outputId": "3662cbc2-36be-4c24-9a9d-7a89cf018394",
        "colab": {
          "base_uri": "https://localhost:8080/"
        }
      },
      "execution_count": 22,
      "outputs": [
        {
          "output_type": "stream",
          "name": "stdout",
          "text": [
            "Trial 70 Complete [00h 02m 13s]\n",
            "val_accuracy: 0.840607225894928\n",
            "\n",
            "Best val_accuracy So Far: 0.8690702319145203\n",
            "Total elapsed time: 01h 56m 03s\n"
          ]
        }
      ]
    },
    {
      "cell_type": "markdown",
      "source": [
        "## Getting Search Results\n",
        "Getting a summary from our Random Search tuner."
      ],
      "metadata": {
        "id": "ZZJHKxqori4b"
      }
    },
    {
      "cell_type": "code",
      "source": [
        "tuner.results_summary()"
      ],
      "metadata": {
        "id": "RonEKw7dSQDt",
        "outputId": "61e363db-df2c-4bb0-d1a6-1276f78c5a21",
        "colab": {
          "base_uri": "https://localhost:8080/"
        }
      },
      "execution_count": 25,
      "outputs": [
        {
          "output_type": "stream",
          "name": "stdout",
          "text": [
            "Results summary\n",
            "Results in my_projects/tune_hypermodel\n",
            "Showing 10 best trials\n",
            "<keras_tuner.engine.objective.Objective object at 0x7f079f73ab80>\n",
            "Trial summary\n",
            "Hyperparameters:\n",
            "dropout_rate1: 0.1\n",
            "dropout_rate2: 0.30000000000000004\n",
            "embedding_dim: 112\n",
            "optimizer: Adam\n",
            "learn_rate: 0.1\n",
            "batch_size: 64\n",
            "max_features: 20000\n",
            "sequence_length: 310\n",
            "Score: 0.8690702319145203\n",
            "Trial summary\n",
            "Hyperparameters:\n",
            "dropout_rate1: 0.5\n",
            "dropout_rate2: 0.35\n",
            "embedding_dim: 144\n",
            "optimizer: Adam\n",
            "learn_rate: 0.01\n",
            "batch_size: 48\n",
            "max_features: 20000\n",
            "sequence_length: 310\n",
            "Score: 0.8671726584434509\n",
            "Trial summary\n",
            "Hyperparameters:\n",
            "dropout_rate1: 0.5\n",
            "dropout_rate2: 0.15000000000000002\n",
            "embedding_dim: 88\n",
            "optimizer: Adam\n",
            "learn_rate: 0.01\n",
            "batch_size: 112\n",
            "max_features: 19000\n",
            "sequence_length: 350\n",
            "Score: 0.8576850295066833\n",
            "Trial summary\n",
            "Hyperparameters:\n",
            "dropout_rate1: 0.1\n",
            "dropout_rate2: 0.35\n",
            "embedding_dim: 248\n",
            "optimizer: Adam\n",
            "learn_rate: 0.001\n",
            "batch_size: 32\n",
            "max_features: 19000\n",
            "sequence_length: 350\n",
            "Score: 0.8519924283027649\n",
            "Trial summary\n",
            "Hyperparameters:\n",
            "dropout_rate1: 0.2\n",
            "dropout_rate2: 0.35\n",
            "embedding_dim: 224\n",
            "optimizer: Adam\n",
            "learn_rate: 0.2\n",
            "batch_size: 32\n",
            "max_features: 20000\n",
            "sequence_length: 350\n",
            "Score: 0.8500948548316956\n",
            "Trial summary\n",
            "Hyperparameters:\n",
            "dropout_rate1: 0.5\n",
            "dropout_rate2: 0.1\n",
            "embedding_dim: 144\n",
            "optimizer: Adam\n",
            "learn_rate: 0.1\n",
            "batch_size: 96\n",
            "max_features: 19000\n",
            "sequence_length: 310\n",
            "Score: 0.848197340965271\n",
            "Trial summary\n",
            "Hyperparameters:\n",
            "dropout_rate1: 0.45000000000000007\n",
            "dropout_rate2: 0.25\n",
            "embedding_dim: 72\n",
            "optimizer: Adam\n",
            "learn_rate: 0.1\n",
            "batch_size: 96\n",
            "max_features: 19000\n",
            "sequence_length: 350\n",
            "Score: 0.848197340965271\n",
            "Trial summary\n",
            "Hyperparameters:\n",
            "dropout_rate1: 0.1\n",
            "dropout_rate2: 0.25\n",
            "embedding_dim: 240\n",
            "optimizer: Adam\n",
            "learn_rate: 0.01\n",
            "batch_size: 48\n",
            "max_features: 20000\n",
            "sequence_length: 350\n",
            "Score: 0.8462998270988464\n",
            "Trial summary\n",
            "Hyperparameters:\n",
            "dropout_rate1: 0.2\n",
            "dropout_rate2: 0.5\n",
            "embedding_dim: 240\n",
            "optimizer: Adam\n",
            "learn_rate: 0.01\n",
            "batch_size: 64\n",
            "max_features: 20000\n",
            "sequence_length: 310\n",
            "Score: 0.8444022536277771\n",
            "Trial summary\n",
            "Hyperparameters:\n",
            "dropout_rate1: 0.4\n",
            "dropout_rate2: 0.25\n",
            "embedding_dim: 152\n",
            "optimizer: Adam\n",
            "learn_rate: 0.001\n",
            "batch_size: 96\n",
            "max_features: 19000\n",
            "sequence_length: 350\n",
            "Score: 0.8425047397613525\n"
          ]
        }
      ]
    },
    {
      "cell_type": "markdown",
      "source": [
        "Getting the best model"
      ],
      "metadata": {
        "id": "4gokbXDb5NSS"
      }
    },
    {
      "cell_type": "code",
      "source": [
        "models = tuner.get_best_models(num_models=1)\n",
        "models[0].summary()"
      ],
      "metadata": {
        "id": "N9atqnS2vbJC",
        "outputId": "84d49c20-e62f-4cde-fde0-e76e4c904cfd",
        "colab": {
          "base_uri": "https://localhost:8080/"
        }
      },
      "execution_count": 67,
      "outputs": [
        {
          "output_type": "stream",
          "name": "stdout",
          "text": [
            "Model: \"sequential\"\n",
            "_________________________________________________________________\n",
            " Layer (type)                Output Shape              Param #   \n",
            "=================================================================\n",
            " embedding (Embedding)       (None, None, 112)         2240112   \n",
            "                                                                 \n",
            " dropout (Dropout)           (None, None, 112)         0         \n",
            "                                                                 \n",
            " global_average_pooling1d (G  (None, 112)              0         \n",
            " lobalAveragePooling1D)                                          \n",
            "                                                                 \n",
            " dropout_1 (Dropout)         (None, 112)               0         \n",
            "                                                                 \n",
            " dense (Dense)               (None, 20)                2260      \n",
            "                                                                 \n",
            "=================================================================\n",
            "Total params: 2,242,372\n",
            "Trainable params: 2,242,372\n",
            "Non-trainable params: 0\n",
            "_________________________________________________________________\n"
          ]
        },
        {
          "output_type": "stream",
          "name": "stderr",
          "text": [
            "WARNING:tensorflow:Detecting that an object or model or tf.train.Checkpoint is being deleted with unrestored values. See the following logs for the specific values in question. To silence these warnings, use `status.expect_partial()`. See https://www.tensorflow.org/api_docs/python/tf/train/Checkpoint#restorefor details about the status object returned by the restore function.\n",
            "WARNING:tensorflow:Value in checkpoint could not be found in the restored object: (root).optimizer._variables.1\n",
            "WARNING:tensorflow:Value in checkpoint could not be found in the restored object: (root).optimizer._variables.2\n",
            "WARNING:tensorflow:Value in checkpoint could not be found in the restored object: (root).optimizer._variables.3\n",
            "WARNING:tensorflow:Value in checkpoint could not be found in the restored object: (root).optimizer._variables.4\n",
            "WARNING:tensorflow:Value in checkpoint could not be found in the restored object: (root).optimizer._variables.5\n",
            "WARNING:tensorflow:Value in checkpoint could not be found in the restored object: (root).optimizer._variables.6\n",
            "WARNING:tensorflow:Detecting that an object or model or tf.train.Checkpoint is being deleted with unrestored values. See the following logs for the specific values in question. To silence these warnings, use `status.expect_partial()`. See https://www.tensorflow.org/api_docs/python/tf/train/Checkpoint#restorefor details about the status object returned by the restore function.\n",
            "WARNING:tensorflow:Value in checkpoint could not be found in the restored object: (root).optimizer._variables.1\n",
            "WARNING:tensorflow:Value in checkpoint could not be found in the restored object: (root).optimizer._variables.2\n",
            "WARNING:tensorflow:Value in checkpoint could not be found in the restored object: (root).optimizer._variables.3\n",
            "WARNING:tensorflow:Value in checkpoint could not be found in the restored object: (root).optimizer._variables.4\n",
            "WARNING:tensorflow:Value in checkpoint could not be found in the restored object: (root).optimizer._variables.5\n",
            "WARNING:tensorflow:Value in checkpoint could not be found in the restored object: (root).optimizer._variables.6\n"
          ]
        }
      ]
    },
    {
      "cell_type": "code",
      "source": [
        "# Get the top 2 hyperparameters.\n",
        "best_hps = tuner.get_best_hyperparameters(5)\n",
        "# Printing the best hp.\n",
        "best_hps[0].values"
      ],
      "metadata": {
        "id": "d-4Kfe5TwQsS",
        "outputId": "3172e31f-1087-4092-e865-f1011251efab",
        "colab": {
          "base_uri": "https://localhost:8080/"
        }
      },
      "execution_count": 31,
      "outputs": [
        {
          "output_type": "execute_result",
          "data": {
            "text/plain": [
              "{'dropout_rate1': 0.1,\n",
              " 'dropout_rate2': 0.30000000000000004,\n",
              " 'embedding_dim': 112,\n",
              " 'optimizer': 'Adam',\n",
              " 'learn_rate': 0.1,\n",
              " 'batch_size': 64,\n",
              " 'max_features': 20000,\n",
              " 'sequence_length': 310}"
            ]
          },
          "metadata": {},
          "execution_count": 31
        }
      ]
    },
    {
      "cell_type": "markdown",
      "source": [
        "## Building and Training the Best Model"
      ],
      "metadata": {
        "id": "43PCH_gp8NPF"
      }
    },
    {
      "cell_type": "markdown",
      "source": [
        "Rebuilding the dataset with the best hyperparameters."
      ],
      "metadata": {
        "id": "PrMta3Ai7pN6"
      }
    },
    {
      "cell_type": "code",
      "source": [
        "dataset_dict = split_train_test_datasets(dataset, test_size, val_frac)\n",
        "raw_dataset_batch_dict = create_dataset_batches(best_hps[0].values['batch_size'], dataset_dict)\n",
        "final_ds = vectorize_dataset(best_hps[0].values['max_features'], best_hps[0].values['sequence_length'], dataset_dict['train_texts'], raw_dataset_batch_dict)"
      ],
      "metadata": {
        "id": "tF3K59F1x5aJ",
        "outputId": "428daf1a-0410-44a9-b393-3e28cab29099",
        "colab": {
          "base_uri": "https://localhost:8080/"
        }
      },
      "execution_count": 63,
      "outputs": [
        {
          "output_type": "stream",
          "name": "stdout",
          "text": [
            "Number of samples in training set: 4216\n",
            "Number of samples in validation set: 527\n",
            "Number of samples in test set: 527\n"
          ]
        }
      ]
    },
    {
      "cell_type": "markdown",
      "source": [
        "Building the best model."
      ],
      "metadata": {
        "id": "A6ogxrDx77Vw"
      }
    },
    {
      "cell_type": "code",
      "source": [
        "model_t = tuner.hypermodel.build(best_hps[0])"
      ],
      "metadata": {
        "id": "ynX20oU36nGC"
      },
      "execution_count": 71,
      "outputs": []
    },
    {
      "cell_type": "code",
      "source": [
        "epochs = 500\n",
        "\n",
        "callback = tf.keras.callbacks.EarlyStopping(monitor='val_loss',\n",
        "                                            patience=5,\n",
        "                                            verbose=1)\n",
        "\n",
        "train_ds_concatenated = final_ds['train_ds'].concatenate(final_ds['val_ds'])\n",
        "\n",
        "history = model_t.fit(train_ds_concatenated,\n",
        "                        validation_data=final_ds['test_ds'], \n",
        "                        epochs=epochs,\n",
        "                        callbacks=[callback])"
      ],
      "metadata": {
        "id": "XfdFlpL16_aV",
        "outputId": "b9b399c7-3d49-41e6-921a-dbc286ec2868",
        "colab": {
          "base_uri": "https://localhost:8080/"
        }
      },
      "execution_count": 72,
      "outputs": [
        {
          "output_type": "stream",
          "name": "stdout",
          "text": [
            "Epoch 1/500\n",
            "75/75 [==============================] - 8s 101ms/step - loss: 2.8736 - accuracy: 0.1697 - val_loss: 2.7388 - val_accuracy: 0.1917\n",
            "Epoch 2/500\n",
            "75/75 [==============================] - 0s 5ms/step - loss: 2.6947 - accuracy: 0.1895 - val_loss: 2.6670 - val_accuracy: 0.1917\n",
            "Epoch 3/500\n",
            "75/75 [==============================] - 0s 5ms/step - loss: 2.6670 - accuracy: 0.1895 - val_loss: 2.6526 - val_accuracy: 0.1917\n",
            "Epoch 4/500\n",
            "75/75 [==============================] - 0s 5ms/step - loss: 2.6546 - accuracy: 0.1895 - val_loss: 2.6414 - val_accuracy: 0.1917\n",
            "Epoch 5/500\n",
            "75/75 [==============================] - 0s 4ms/step - loss: 2.6425 - accuracy: 0.1895 - val_loss: 2.6308 - val_accuracy: 0.1917\n",
            "Epoch 6/500\n",
            "75/75 [==============================] - 0s 5ms/step - loss: 2.6307 - accuracy: 0.1900 - val_loss: 2.6177 - val_accuracy: 0.1917\n",
            "Epoch 7/500\n",
            "75/75 [==============================] - 0s 4ms/step - loss: 2.6155 - accuracy: 0.1902 - val_loss: 2.6034 - val_accuracy: 0.1935\n",
            "Epoch 8/500\n",
            "75/75 [==============================] - 0s 4ms/step - loss: 2.5981 - accuracy: 0.1914 - val_loss: 2.5854 - val_accuracy: 0.1973\n",
            "Epoch 9/500\n",
            "75/75 [==============================] - 0s 4ms/step - loss: 2.5703 - accuracy: 0.1944 - val_loss: 2.5650 - val_accuracy: 0.1992\n",
            "Epoch 10/500\n",
            "75/75 [==============================] - 0s 4ms/step - loss: 2.5478 - accuracy: 0.2022 - val_loss: 2.5410 - val_accuracy: 0.2011\n",
            "Epoch 11/500\n",
            "75/75 [==============================] - 0s 4ms/step - loss: 2.5168 - accuracy: 0.2119 - val_loss: 2.5140 - val_accuracy: 0.2030\n",
            "Epoch 12/500\n",
            "75/75 [==============================] - 0s 4ms/step - loss: 2.4840 - accuracy: 0.2237 - val_loss: 2.4833 - val_accuracy: 0.2201\n",
            "Epoch 13/500\n",
            "75/75 [==============================] - 0s 4ms/step - loss: 2.4459 - accuracy: 0.2387 - val_loss: 2.4511 - val_accuracy: 0.2296\n",
            "Epoch 14/500\n",
            "75/75 [==============================] - 0s 4ms/step - loss: 2.4064 - accuracy: 0.2545 - val_loss: 2.4147 - val_accuracy: 0.2562\n",
            "Epoch 15/500\n",
            "75/75 [==============================] - 0s 4ms/step - loss: 2.3650 - accuracy: 0.2724 - val_loss: 2.3775 - val_accuracy: 0.2751\n",
            "Epoch 16/500\n",
            "75/75 [==============================] - 0s 4ms/step - loss: 2.3203 - accuracy: 0.2897 - val_loss: 2.3380 - val_accuracy: 0.2960\n",
            "Epoch 17/500\n",
            "75/75 [==============================] - 0s 4ms/step - loss: 2.2715 - accuracy: 0.3160 - val_loss: 2.2965 - val_accuracy: 0.3112\n",
            "Epoch 18/500\n",
            "75/75 [==============================] - 0s 5ms/step - loss: 2.2205 - accuracy: 0.3451 - val_loss: 2.2544 - val_accuracy: 0.3283\n",
            "Epoch 19/500\n",
            "75/75 [==============================] - 0s 4ms/step - loss: 2.1711 - accuracy: 0.3688 - val_loss: 2.2098 - val_accuracy: 0.3378\n",
            "Epoch 20/500\n",
            "75/75 [==============================] - 1s 7ms/step - loss: 2.1138 - accuracy: 0.4075 - val_loss: 2.1681 - val_accuracy: 0.3681\n",
            "Epoch 21/500\n",
            "75/75 [==============================] - 1s 7ms/step - loss: 2.0656 - accuracy: 0.4388 - val_loss: 2.1236 - val_accuracy: 0.3890\n",
            "Epoch 22/500\n",
            "75/75 [==============================] - 1s 7ms/step - loss: 2.0102 - accuracy: 0.4687 - val_loss: 2.0811 - val_accuracy: 0.4099\n",
            "Epoch 23/500\n",
            "75/75 [==============================] - 0s 4ms/step - loss: 1.9582 - accuracy: 0.5028 - val_loss: 2.0380 - val_accuracy: 0.4307\n",
            "Epoch 24/500\n",
            "75/75 [==============================] - 0s 4ms/step - loss: 1.9051 - accuracy: 0.5343 - val_loss: 1.9934 - val_accuracy: 0.4573\n",
            "Epoch 25/500\n",
            "75/75 [==============================] - 0s 4ms/step - loss: 1.8454 - accuracy: 0.5726 - val_loss: 1.9516 - val_accuracy: 0.4839\n",
            "Epoch 26/500\n",
            "75/75 [==============================] - 0s 4ms/step - loss: 1.7939 - accuracy: 0.5918 - val_loss: 1.9090 - val_accuracy: 0.5028\n",
            "Epoch 27/500\n",
            "75/75 [==============================] - 0s 4ms/step - loss: 1.7396 - accuracy: 0.6270 - val_loss: 1.8666 - val_accuracy: 0.5275\n",
            "Epoch 28/500\n",
            "75/75 [==============================] - 0s 4ms/step - loss: 1.6845 - accuracy: 0.6452 - val_loss: 1.8256 - val_accuracy: 0.5408\n",
            "Epoch 29/500\n",
            "75/75 [==============================] - 0s 4ms/step - loss: 1.6374 - accuracy: 0.6719 - val_loss: 1.7860 - val_accuracy: 0.5769\n",
            "Epoch 30/500\n",
            "75/75 [==============================] - 0s 4ms/step - loss: 1.5891 - accuracy: 0.6928 - val_loss: 1.7480 - val_accuracy: 0.5882\n",
            "Epoch 31/500\n",
            "75/75 [==============================] - 0s 4ms/step - loss: 1.5392 - accuracy: 0.7101 - val_loss: 1.7088 - val_accuracy: 0.6072\n",
            "Epoch 32/500\n",
            "75/75 [==============================] - 0s 4ms/step - loss: 1.4908 - accuracy: 0.7276 - val_loss: 1.6720 - val_accuracy: 0.6186\n",
            "Epoch 33/500\n",
            "75/75 [==============================] - 0s 4ms/step - loss: 1.4392 - accuracy: 0.7411 - val_loss: 1.6362 - val_accuracy: 0.6300\n",
            "Epoch 34/500\n",
            "75/75 [==============================] - 0s 4ms/step - loss: 1.3976 - accuracy: 0.7611 - val_loss: 1.6014 - val_accuracy: 0.6452\n",
            "Epoch 35/500\n",
            "75/75 [==============================] - 0s 4ms/step - loss: 1.3493 - accuracy: 0.7698 - val_loss: 1.5676 - val_accuracy: 0.6528\n",
            "Epoch 36/500\n",
            "75/75 [==============================] - 0s 4ms/step - loss: 1.3086 - accuracy: 0.7797 - val_loss: 1.5344 - val_accuracy: 0.6641\n",
            "Epoch 37/500\n",
            "75/75 [==============================] - 0s 4ms/step - loss: 1.2643 - accuracy: 0.7900 - val_loss: 1.5026 - val_accuracy: 0.6793\n",
            "Epoch 38/500\n",
            "75/75 [==============================] - 0s 4ms/step - loss: 1.2242 - accuracy: 0.8060 - val_loss: 1.4726 - val_accuracy: 0.6983\n",
            "Epoch 39/500\n",
            "75/75 [==============================] - 0s 4ms/step - loss: 1.1800 - accuracy: 0.8128 - val_loss: 1.4428 - val_accuracy: 0.6964\n",
            "Epoch 40/500\n",
            "75/75 [==============================] - 0s 5ms/step - loss: 1.1455 - accuracy: 0.8185 - val_loss: 1.4136 - val_accuracy: 0.7192\n",
            "Epoch 41/500\n",
            "75/75 [==============================] - 0s 4ms/step - loss: 1.1066 - accuracy: 0.8250 - val_loss: 1.3875 - val_accuracy: 0.7154\n",
            "Epoch 42/500\n",
            "75/75 [==============================] - 0s 4ms/step - loss: 1.0724 - accuracy: 0.8296 - val_loss: 1.3611 - val_accuracy: 0.7211\n",
            "Epoch 43/500\n",
            "75/75 [==============================] - 0s 5ms/step - loss: 1.0350 - accuracy: 0.8402 - val_loss: 1.3358 - val_accuracy: 0.7287\n",
            "Epoch 44/500\n",
            "75/75 [==============================] - 0s 5ms/step - loss: 1.0017 - accuracy: 0.8471 - val_loss: 1.3111 - val_accuracy: 0.7306\n",
            "Epoch 45/500\n",
            "75/75 [==============================] - 0s 5ms/step - loss: 0.9690 - accuracy: 0.8541 - val_loss: 1.2877 - val_accuracy: 0.7362\n",
            "Epoch 46/500\n",
            "75/75 [==============================] - 0s 5ms/step - loss: 0.9361 - accuracy: 0.8598 - val_loss: 1.2656 - val_accuracy: 0.7400\n",
            "Epoch 47/500\n",
            "75/75 [==============================] - 0s 4ms/step - loss: 0.9062 - accuracy: 0.8615 - val_loss: 1.2445 - val_accuracy: 0.7419\n",
            "Epoch 48/500\n",
            "75/75 [==============================] - 0s 6ms/step - loss: 0.8793 - accuracy: 0.8644 - val_loss: 1.2235 - val_accuracy: 0.7419\n",
            "Epoch 49/500\n",
            "75/75 [==============================] - 0s 7ms/step - loss: 0.8508 - accuracy: 0.8697 - val_loss: 1.2043 - val_accuracy: 0.7533\n",
            "Epoch 50/500\n",
            "75/75 [==============================] - 0s 6ms/step - loss: 0.8228 - accuracy: 0.8775 - val_loss: 1.1839 - val_accuracy: 0.7571\n",
            "Epoch 51/500\n",
            "75/75 [==============================] - 1s 7ms/step - loss: 0.7951 - accuracy: 0.8809 - val_loss: 1.1666 - val_accuracy: 0.7590\n",
            "Epoch 52/500\n",
            "75/75 [==============================] - 0s 5ms/step - loss: 0.7721 - accuracy: 0.8832 - val_loss: 1.1498 - val_accuracy: 0.7609\n",
            "Epoch 53/500\n",
            "75/75 [==============================] - 0s 4ms/step - loss: 0.7470 - accuracy: 0.8906 - val_loss: 1.1320 - val_accuracy: 0.7628\n",
            "Epoch 54/500\n",
            "75/75 [==============================] - 0s 5ms/step - loss: 0.7233 - accuracy: 0.8929 - val_loss: 1.1148 - val_accuracy: 0.7666\n",
            "Epoch 55/500\n",
            "75/75 [==============================] - 0s 4ms/step - loss: 0.6998 - accuracy: 0.9003 - val_loss: 1.1003 - val_accuracy: 0.7704\n",
            "Epoch 56/500\n",
            "75/75 [==============================] - 0s 4ms/step - loss: 0.6802 - accuracy: 0.8999 - val_loss: 1.0870 - val_accuracy: 0.7704\n",
            "Epoch 57/500\n",
            "75/75 [==============================] - 0s 4ms/step - loss: 0.6570 - accuracy: 0.9060 - val_loss: 1.0711 - val_accuracy: 0.7799\n",
            "Epoch 58/500\n",
            "75/75 [==============================] - 0s 4ms/step - loss: 0.6368 - accuracy: 0.9093 - val_loss: 1.0556 - val_accuracy: 0.7780\n",
            "Epoch 59/500\n",
            "75/75 [==============================] - 0s 4ms/step - loss: 0.6170 - accuracy: 0.9127 - val_loss: 1.0433 - val_accuracy: 0.7856\n",
            "Epoch 60/500\n",
            "75/75 [==============================] - 0s 4ms/step - loss: 0.5992 - accuracy: 0.9159 - val_loss: 1.0313 - val_accuracy: 0.7856\n",
            "Epoch 61/500\n",
            "75/75 [==============================] - 0s 4ms/step - loss: 0.5793 - accuracy: 0.9174 - val_loss: 1.0172 - val_accuracy: 0.7875\n",
            "Epoch 62/500\n",
            "75/75 [==============================] - 0s 4ms/step - loss: 0.5604 - accuracy: 0.9199 - val_loss: 1.0064 - val_accuracy: 0.7856\n",
            "Epoch 63/500\n",
            "75/75 [==============================] - 0s 4ms/step - loss: 0.5462 - accuracy: 0.9273 - val_loss: 0.9954 - val_accuracy: 0.7913\n",
            "Epoch 64/500\n",
            "75/75 [==============================] - 0s 4ms/step - loss: 0.5286 - accuracy: 0.9277 - val_loss: 0.9834 - val_accuracy: 0.7989\n",
            "Epoch 65/500\n",
            "75/75 [==============================] - 0s 4ms/step - loss: 0.5120 - accuracy: 0.9313 - val_loss: 0.9723 - val_accuracy: 0.8008\n",
            "Epoch 66/500\n",
            "75/75 [==============================] - 0s 4ms/step - loss: 0.4953 - accuracy: 0.9357 - val_loss: 0.9616 - val_accuracy: 0.8102\n",
            "Epoch 67/500\n",
            "75/75 [==============================] - 0s 4ms/step - loss: 0.4789 - accuracy: 0.9378 - val_loss: 0.9515 - val_accuracy: 0.8140\n",
            "Epoch 68/500\n",
            "75/75 [==============================] - 0s 4ms/step - loss: 0.4657 - accuracy: 0.9382 - val_loss: 0.9417 - val_accuracy: 0.8159\n",
            "Epoch 69/500\n",
            "75/75 [==============================] - 0s 4ms/step - loss: 0.4509 - accuracy: 0.9420 - val_loss: 0.9328 - val_accuracy: 0.8140\n",
            "Epoch 70/500\n",
            "75/75 [==============================] - 0s 4ms/step - loss: 0.4361 - accuracy: 0.9460 - val_loss: 0.9237 - val_accuracy: 0.8197\n",
            "Epoch 71/500\n",
            "75/75 [==============================] - 0s 4ms/step - loss: 0.4212 - accuracy: 0.9483 - val_loss: 0.9162 - val_accuracy: 0.8159\n",
            "Epoch 72/500\n",
            "75/75 [==============================] - 0s 4ms/step - loss: 0.4128 - accuracy: 0.9488 - val_loss: 0.9061 - val_accuracy: 0.8178\n",
            "Epoch 73/500\n",
            "75/75 [==============================] - 0s 4ms/step - loss: 0.4006 - accuracy: 0.9513 - val_loss: 0.8988 - val_accuracy: 0.8140\n",
            "Epoch 74/500\n",
            "75/75 [==============================] - 1s 7ms/step - loss: 0.3865 - accuracy: 0.9540 - val_loss: 0.8920 - val_accuracy: 0.8159\n",
            "Epoch 75/500\n",
            "75/75 [==============================] - 0s 6ms/step - loss: 0.3746 - accuracy: 0.9568 - val_loss: 0.8841 - val_accuracy: 0.8140\n",
            "Epoch 76/500\n",
            "75/75 [==============================] - 0s 7ms/step - loss: 0.3630 - accuracy: 0.9578 - val_loss: 0.8761 - val_accuracy: 0.8159\n",
            "Epoch 77/500\n",
            "75/75 [==============================] - 0s 7ms/step - loss: 0.3505 - accuracy: 0.9589 - val_loss: 0.8687 - val_accuracy: 0.8197\n",
            "Epoch 78/500\n",
            "75/75 [==============================] - 0s 5ms/step - loss: 0.3432 - accuracy: 0.9599 - val_loss: 0.8614 - val_accuracy: 0.8178\n",
            "Epoch 79/500\n",
            "75/75 [==============================] - 0s 5ms/step - loss: 0.3317 - accuracy: 0.9627 - val_loss: 0.8559 - val_accuracy: 0.8178\n",
            "Epoch 80/500\n",
            "75/75 [==============================] - 0s 5ms/step - loss: 0.3205 - accuracy: 0.9652 - val_loss: 0.8499 - val_accuracy: 0.8178\n",
            "Epoch 81/500\n",
            "75/75 [==============================] - 0s 5ms/step - loss: 0.3122 - accuracy: 0.9671 - val_loss: 0.8434 - val_accuracy: 0.8159\n",
            "Epoch 82/500\n",
            "75/75 [==============================] - 0s 5ms/step - loss: 0.3028 - accuracy: 0.9675 - val_loss: 0.8373 - val_accuracy: 0.8216\n",
            "Epoch 83/500\n",
            "75/75 [==============================] - 0s 4ms/step - loss: 0.2913 - accuracy: 0.9707 - val_loss: 0.8308 - val_accuracy: 0.8235\n",
            "Epoch 84/500\n",
            "75/75 [==============================] - 0s 4ms/step - loss: 0.2823 - accuracy: 0.9713 - val_loss: 0.8279 - val_accuracy: 0.8197\n",
            "Epoch 85/500\n",
            "75/75 [==============================] - 0s 4ms/step - loss: 0.2759 - accuracy: 0.9724 - val_loss: 0.8218 - val_accuracy: 0.8216\n",
            "Epoch 86/500\n",
            "75/75 [==============================] - 0s 4ms/step - loss: 0.2681 - accuracy: 0.9741 - val_loss: 0.8157 - val_accuracy: 0.8197\n",
            "Epoch 87/500\n",
            "75/75 [==============================] - 0s 4ms/step - loss: 0.2584 - accuracy: 0.9751 - val_loss: 0.8100 - val_accuracy: 0.8216\n",
            "Epoch 88/500\n",
            "75/75 [==============================] - 0s 4ms/step - loss: 0.2527 - accuracy: 0.9736 - val_loss: 0.8074 - val_accuracy: 0.8197\n",
            "Epoch 89/500\n",
            "75/75 [==============================] - 0s 4ms/step - loss: 0.2427 - accuracy: 0.9777 - val_loss: 0.8018 - val_accuracy: 0.8216\n",
            "Epoch 90/500\n",
            "75/75 [==============================] - 0s 4ms/step - loss: 0.2351 - accuracy: 0.9783 - val_loss: 0.7972 - val_accuracy: 0.8235\n",
            "Epoch 91/500\n",
            "75/75 [==============================] - 0s 4ms/step - loss: 0.2266 - accuracy: 0.9798 - val_loss: 0.7936 - val_accuracy: 0.8273\n",
            "Epoch 92/500\n",
            "75/75 [==============================] - 0s 4ms/step - loss: 0.2222 - accuracy: 0.9804 - val_loss: 0.7897 - val_accuracy: 0.8216\n",
            "Epoch 93/500\n",
            "75/75 [==============================] - 0s 4ms/step - loss: 0.2141 - accuracy: 0.9814 - val_loss: 0.7862 - val_accuracy: 0.8254\n",
            "Epoch 94/500\n",
            "75/75 [==============================] - 0s 4ms/step - loss: 0.2077 - accuracy: 0.9831 - val_loss: 0.7810 - val_accuracy: 0.8254\n",
            "Epoch 95/500\n",
            "75/75 [==============================] - 0s 4ms/step - loss: 0.2008 - accuracy: 0.9821 - val_loss: 0.7776 - val_accuracy: 0.8292\n",
            "Epoch 96/500\n",
            "75/75 [==============================] - 0s 4ms/step - loss: 0.1948 - accuracy: 0.9836 - val_loss: 0.7739 - val_accuracy: 0.8292\n",
            "Epoch 97/500\n",
            "75/75 [==============================] - 0s 4ms/step - loss: 0.1894 - accuracy: 0.9869 - val_loss: 0.7693 - val_accuracy: 0.8273\n",
            "Epoch 98/500\n",
            "75/75 [==============================] - 0s 4ms/step - loss: 0.1846 - accuracy: 0.9846 - val_loss: 0.7663 - val_accuracy: 0.8311\n",
            "Epoch 99/500\n",
            "75/75 [==============================] - 0s 6ms/step - loss: 0.1779 - accuracy: 0.9867 - val_loss: 0.7618 - val_accuracy: 0.8330\n",
            "Epoch 100/500\n",
            "75/75 [==============================] - 0s 6ms/step - loss: 0.1723 - accuracy: 0.9861 - val_loss: 0.7597 - val_accuracy: 0.8292\n",
            "Epoch 101/500\n",
            "75/75 [==============================] - 1s 7ms/step - loss: 0.1668 - accuracy: 0.9867 - val_loss: 0.7580 - val_accuracy: 0.8330\n",
            "Epoch 102/500\n",
            "75/75 [==============================] - 1s 7ms/step - loss: 0.1609 - accuracy: 0.9884 - val_loss: 0.7557 - val_accuracy: 0.8311\n",
            "Epoch 103/500\n",
            "75/75 [==============================] - 0s 5ms/step - loss: 0.1559 - accuracy: 0.9878 - val_loss: 0.7523 - val_accuracy: 0.8330\n",
            "Epoch 104/500\n",
            "75/75 [==============================] - 0s 4ms/step - loss: 0.1519 - accuracy: 0.9899 - val_loss: 0.7488 - val_accuracy: 0.8311\n",
            "Epoch 105/500\n",
            "75/75 [==============================] - 0s 4ms/step - loss: 0.1469 - accuracy: 0.9892 - val_loss: 0.7446 - val_accuracy: 0.8330\n",
            "Epoch 106/500\n",
            "75/75 [==============================] - 0s 4ms/step - loss: 0.1417 - accuracy: 0.9907 - val_loss: 0.7430 - val_accuracy: 0.8349\n",
            "Epoch 107/500\n",
            "75/75 [==============================] - 0s 5ms/step - loss: 0.1363 - accuracy: 0.9909 - val_loss: 0.7401 - val_accuracy: 0.8349\n",
            "Epoch 108/500\n",
            "75/75 [==============================] - 0s 5ms/step - loss: 0.1334 - accuracy: 0.9905 - val_loss: 0.7384 - val_accuracy: 0.8387\n",
            "Epoch 109/500\n",
            "75/75 [==============================] - 0s 5ms/step - loss: 0.1284 - accuracy: 0.9918 - val_loss: 0.7388 - val_accuracy: 0.8368\n",
            "Epoch 110/500\n",
            "75/75 [==============================] - 0s 4ms/step - loss: 0.1251 - accuracy: 0.9918 - val_loss: 0.7344 - val_accuracy: 0.8368\n",
            "Epoch 111/500\n",
            "75/75 [==============================] - 0s 5ms/step - loss: 0.1211 - accuracy: 0.9924 - val_loss: 0.7328 - val_accuracy: 0.8368\n",
            "Epoch 112/500\n",
            "75/75 [==============================] - 0s 4ms/step - loss: 0.1182 - accuracy: 0.9928 - val_loss: 0.7306 - val_accuracy: 0.8387\n",
            "Epoch 113/500\n",
            "75/75 [==============================] - 0s 4ms/step - loss: 0.1147 - accuracy: 0.9935 - val_loss: 0.7288 - val_accuracy: 0.8406\n",
            "Epoch 114/500\n",
            "75/75 [==============================] - 0s 4ms/step - loss: 0.1111 - accuracy: 0.9924 - val_loss: 0.7277 - val_accuracy: 0.8406\n",
            "Epoch 115/500\n",
            "75/75 [==============================] - 0s 5ms/step - loss: 0.1059 - accuracy: 0.9928 - val_loss: 0.7272 - val_accuracy: 0.8368\n",
            "Epoch 116/500\n",
            "75/75 [==============================] - 0s 4ms/step - loss: 0.1042 - accuracy: 0.9930 - val_loss: 0.7227 - val_accuracy: 0.8406\n",
            "Epoch 117/500\n",
            "75/75 [==============================] - 0s 4ms/step - loss: 0.1010 - accuracy: 0.9945 - val_loss: 0.7217 - val_accuracy: 0.8425\n",
            "Epoch 118/500\n",
            "75/75 [==============================] - 0s 4ms/step - loss: 0.0964 - accuracy: 0.9956 - val_loss: 0.7215 - val_accuracy: 0.8387\n",
            "Epoch 119/500\n",
            "75/75 [==============================] - 0s 5ms/step - loss: 0.0944 - accuracy: 0.9947 - val_loss: 0.7189 - val_accuracy: 0.8406\n",
            "Epoch 120/500\n",
            "75/75 [==============================] - 0s 5ms/step - loss: 0.0905 - accuracy: 0.9960 - val_loss: 0.7185 - val_accuracy: 0.8349\n",
            "Epoch 121/500\n",
            "75/75 [==============================] - 0s 4ms/step - loss: 0.0885 - accuracy: 0.9949 - val_loss: 0.7172 - val_accuracy: 0.8425\n",
            "Epoch 122/500\n",
            "75/75 [==============================] - 0s 5ms/step - loss: 0.0845 - accuracy: 0.9956 - val_loss: 0.7170 - val_accuracy: 0.8425\n",
            "Epoch 123/500\n",
            "75/75 [==============================] - 0s 4ms/step - loss: 0.0823 - accuracy: 0.9962 - val_loss: 0.7146 - val_accuracy: 0.8387\n",
            "Epoch 124/500\n",
            "75/75 [==============================] - 0s 4ms/step - loss: 0.0802 - accuracy: 0.9960 - val_loss: 0.7113 - val_accuracy: 0.8406\n",
            "Epoch 125/500\n",
            "75/75 [==============================] - 1s 8ms/step - loss: 0.0776 - accuracy: 0.9962 - val_loss: 0.7103 - val_accuracy: 0.8368\n",
            "Epoch 126/500\n",
            "75/75 [==============================] - 0s 6ms/step - loss: 0.0756 - accuracy: 0.9956 - val_loss: 0.7077 - val_accuracy: 0.8444\n",
            "Epoch 127/500\n",
            "75/75 [==============================] - 0s 7ms/step - loss: 0.0730 - accuracy: 0.9964 - val_loss: 0.7107 - val_accuracy: 0.8406\n",
            "Epoch 128/500\n",
            "75/75 [==============================] - 0s 6ms/step - loss: 0.0705 - accuracy: 0.9970 - val_loss: 0.7070 - val_accuracy: 0.8349\n",
            "Epoch 129/500\n",
            "75/75 [==============================] - 0s 6ms/step - loss: 0.0692 - accuracy: 0.9966 - val_loss: 0.7058 - val_accuracy: 0.8387\n",
            "Epoch 130/500\n",
            "75/75 [==============================] - 0s 5ms/step - loss: 0.0671 - accuracy: 0.9968 - val_loss: 0.7046 - val_accuracy: 0.8425\n",
            "Epoch 131/500\n",
            "75/75 [==============================] - 0s 4ms/step - loss: 0.0640 - accuracy: 0.9981 - val_loss: 0.7092 - val_accuracy: 0.8387\n",
            "Epoch 132/500\n",
            "75/75 [==============================] - 0s 5ms/step - loss: 0.0624 - accuracy: 0.9979 - val_loss: 0.7058 - val_accuracy: 0.8387\n",
            "Epoch 133/500\n",
            "75/75 [==============================] - 0s 5ms/step - loss: 0.0603 - accuracy: 0.9981 - val_loss: 0.7065 - val_accuracy: 0.8406\n",
            "Epoch 134/500\n",
            "75/75 [==============================] - 0s 4ms/step - loss: 0.0582 - accuracy: 0.9983 - val_loss: 0.7024 - val_accuracy: 0.8425\n",
            "Epoch 135/500\n",
            "75/75 [==============================] - 0s 5ms/step - loss: 0.0570 - accuracy: 0.9983 - val_loss: 0.7036 - val_accuracy: 0.8406\n",
            "Epoch 136/500\n",
            "75/75 [==============================] - 0s 4ms/step - loss: 0.0549 - accuracy: 0.9987 - val_loss: 0.7015 - val_accuracy: 0.8406\n",
            "Epoch 137/500\n",
            "75/75 [==============================] - 0s 4ms/step - loss: 0.0529 - accuracy: 0.9977 - val_loss: 0.7020 - val_accuracy: 0.8387\n",
            "Epoch 138/500\n",
            "75/75 [==============================] - 0s 4ms/step - loss: 0.0518 - accuracy: 0.9983 - val_loss: 0.7009 - val_accuracy: 0.8406\n",
            "Epoch 139/500\n",
            "75/75 [==============================] - 0s 4ms/step - loss: 0.0499 - accuracy: 0.9985 - val_loss: 0.7029 - val_accuracy: 0.8349\n",
            "Epoch 140/500\n",
            "75/75 [==============================] - 0s 5ms/step - loss: 0.0485 - accuracy: 0.9989 - val_loss: 0.7002 - val_accuracy: 0.8387\n",
            "Epoch 141/500\n",
            "75/75 [==============================] - 0s 4ms/step - loss: 0.0470 - accuracy: 0.9985 - val_loss: 0.6988 - val_accuracy: 0.8387\n",
            "Epoch 142/500\n",
            "75/75 [==============================] - 0s 4ms/step - loss: 0.0454 - accuracy: 0.9987 - val_loss: 0.7026 - val_accuracy: 0.8387\n",
            "Epoch 143/500\n",
            "75/75 [==============================] - 0s 4ms/step - loss: 0.0439 - accuracy: 0.9989 - val_loss: 0.7013 - val_accuracy: 0.8368\n",
            "Epoch 144/500\n",
            "75/75 [==============================] - 0s 4ms/step - loss: 0.0434 - accuracy: 0.9983 - val_loss: 0.7007 - val_accuracy: 0.8368\n",
            "Epoch 145/500\n",
            "75/75 [==============================] - 0s 4ms/step - loss: 0.0415 - accuracy: 0.9987 - val_loss: 0.6995 - val_accuracy: 0.8387\n",
            "Epoch 146/500\n",
            "75/75 [==============================] - 0s 4ms/step - loss: 0.0412 - accuracy: 0.9989 - val_loss: 0.6996 - val_accuracy: 0.8406\n",
            "Epoch 146: early stopping\n"
          ]
        }
      ]
    },
    {
      "cell_type": "markdown",
      "source": [
        "## Testing and Evaluating the Model"
      ],
      "metadata": {
        "id": "eMsH1V5i8dbC"
      }
    },
    {
      "cell_type": "code",
      "source": [
        "evaluate_and_visualize(model_t, final_ds['test_ds'], history)"
      ],
      "metadata": {
        "id": "VdlSI-Xgy06w",
        "outputId": "320939f4-45af-4ae6-dbf9-da41dd8099a1",
        "colab": {
          "base_uri": "https://localhost:8080/",
          "height": 627
        }
      },
      "execution_count": 73,
      "outputs": [
        {
          "output_type": "stream",
          "name": "stdout",
          "text": [
            "9/9 [==============================] - 0s 3ms/step - loss: 0.6996 - accuracy: 0.8406\n",
            "Model Loss:  0.6995760202407837\n",
            "Model Accuracy:  0.840607225894928\n"
          ]
        },
        {
          "output_type": "display_data",
          "data": {
            "text/plain": [
              "<Figure size 432x288 with 1 Axes>"
            ],
            "image/png": "[encoded data removed]"
          },
          "metadata": {
            "needs_background": "light"
          }
        },
        {
          "output_type": "display_data",
          "data": {
            "text/plain": [
              "<Figure size 432x288 with 1 Axes>"
            ],
            "image/png": "[encoded data removed]"
          },
          "metadata": {
            "needs_background": "light"
          }
        }
      ]
    },
    {
      "cell_type": "markdown",
      "source": [
        "# Testing other models\n",
        "In this section, we'll test other models with the optimal hyperparameters found in the last section."
      ],
      "metadata": {
        "id": "XZ8LwyqF_OY7"
      }
    },
    {
      "cell_type": "markdown",
      "source": [
        "## Preprocessing Data\n",
        "Preprocessing Data with Tuned Hyperparameters"
      ],
      "metadata": {
        "id": "D0wwxmUp94NW"
      }
    },
    {
      "cell_type": "code",
      "source": [
        "#Hyperparameter Configuration\n",
        "dropout_rate1 = 0.5\n",
        "dropout_rate2 = 0.1\n",
        "#GloVe uses 100D embeddings\n",
        "embedding_dim = 100\n",
        "learn_rate = 0.1\n",
        "batch_size = 96\n",
        "max_features = 19000\n",
        "sequence_length = 310\n",
        "test_size = 0.2\n",
        "val_frac = 0.5"
      ],
      "metadata": {
        "id": "o4L4BNfm9hzj"
      },
      "execution_count": 147,
      "outputs": []
    },
    {
      "cell_type": "code",
      "source": [
        "dataset_dict = split_train_test_datasets(dataset, test_size, val_frac)\n",
        "raw_dataset_batch_dict = create_dataset_batches(batch_size, dataset_dict)\n",
        "final_ds = vectorize_dataset(max_features, sequence_length, dataset_dict['train_texts'], raw_dataset_batch_dict)\n",
        "vectorize_layer = create_vectorizer(max_features, sequence_length, dataset_dict['train_texts'])"
      ],
      "metadata": {
        "id": "0chEv0AK-C13",
        "outputId": "8cc8944b-0699-4959-80d9-2c1fee40df71",
        "colab": {
          "base_uri": "https://localhost:8080/"
        }
      },
      "execution_count": 156,
      "outputs": [
        {
          "output_type": "stream",
          "name": "stdout",
          "text": [
            "Number of samples in training set: 4216\n",
            "Number of samples in validation set: 527\n",
            "Number of samples in test set: 527\n"
          ]
        }
      ]
    },
    {
      "cell_type": "markdown",
      "source": [
        "## Using pretrained embeddings\n",
        "In this section we'll test our optimal hyperparameters with a pretrained embedding library called `GloVe`\n",
        "\n",
        "**GloVe (Global Vectors for Word Representation)** is a type of word embedding model used in natural language processing (NLP). Word embeddings are dense vector representations of words that capture their semantic and syntactic properties and are commonly used as input features in NLP models.\n",
        "\n",
        "GloVe is based on the idea that word vectors should capture both the local (contextual) and global (corpus-level) information of words. It is trained on a co-occurrence matrix that records how often two words appear together in a large corpus of text. The co-occurrence matrix is factorized using matrix factorization techniques, such as singular value decomposition (SVD), to obtain a low-dimensional vector representation for each word in the vocabulary.\n",
        "\n",
        "The resulting word vectors are dense, real-valued vectors of fixed dimensionality that capture the semantic and syntactic relationships between words in the corpus. For example, words that appear in similar contexts, such as \"dog\" and \"cat,\" will have similar vector representations, while words that appear in dissimilar contexts, such as \"dog\" and \"computer,\" will have dissimilar vector representations."
      ],
      "metadata": {
        "id": "uSTrllg8_k1m"
      }
    },
    {
      "cell_type": "markdown",
      "source": [
        "### Downloding GloVe\n",
        "Downloading the GloVe word embedding library."
      ],
      "metadata": {
        "id": "ZWBrAf5Ai_tj"
      }
    },
    {
      "cell_type": "code",
      "source": [
        "!wget http://nlp.stanford.edu/data/glove.6B.zip\n",
        "!unzip -q glove.6B.zip"
      ],
      "metadata": {
        "id": "BD02Uh-X_TKO",
        "outputId": "bea34bf9-5660-4b76-fdd6-8c4b1c401874",
        "colab": {
          "base_uri": "https://localhost:8080/"
        }
      },
      "execution_count": 74,
      "outputs": [
        {
          "output_type": "stream",
          "name": "stdout",
          "text": [
            "--2023-02-25 19:00:02--  http://nlp.stanford.edu/data/glove.6B.zip\n",
            "Resolving nlp.stanford.edu (nlp.stanford.edu)... 171.64.67.140\n",
            "Connecting to nlp.stanford.edu (nlp.stanford.edu)|171.64.67.140|:80... connected.\n",
            "HTTP request sent, awaiting response... 302 Found\n",
            "Location: https://nlp.stanford.edu/data/glove.6B.zip [following]\n",
            "--2023-02-25 19:00:03--  https://nlp.stanford.edu/data/glove.6B.zip\n",
            "Connecting to nlp.stanford.edu (nlp.stanford.edu)|171.64.67.140|:443... connected.\n",
            "HTTP request sent, awaiting response... 301 Moved Permanently\n",
            "Location: https://downloads.cs.stanford.edu/nlp/data/glove.6B.zip [following]\n",
            "--2023-02-25 19:00:04--  https://downloads.cs.stanford.edu/nlp/data/glove.6B.zip\n",
            "Resolving downloads.cs.stanford.edu (downloads.cs.stanford.edu)... 171.64.64.22\n",
            "Connecting to downloads.cs.stanford.edu (downloads.cs.stanford.edu)|171.64.64.22|:443... connected.\n",
            "HTTP request sent, awaiting response... 200 OK\n",
            "Length: 862182613 (822M) [application/zip]\n",
            "Saving to: ‘glove.6B.zip’\n",
            "\n",
            "glove.6B.zip        100%[===================>] 822.24M  5.13MB/s    in 2m 39s  \n",
            "\n",
            "2023-02-25 19:02:43 (5.18 MB/s) - ‘glove.6B.zip’ saved [862182613/862182613]\n",
            "\n"
          ]
        }
      ]
    },
    {
      "cell_type": "markdown",
      "source": [
        "Opening the downloaded GloVe word embedding file and counting the word vectors.\n",
        "\n",
        "The archive contains text-encoded vectors of various sizes: 50-dimensional, 100-dimensional, 200-dimensional, 300-dimensional. We'll use the 100D ones"
      ],
      "metadata": {
        "id": "w3ins7fLAtw9"
      }
    },
    {
      "cell_type": "code",
      "source": [
        "import os\n",
        "path_to_glove_file = os.path.join(\n",
        "    \"glove.6B.100d.txt\"\n",
        ")\n",
        "\n",
        "embeddings_index = {}\n",
        "with open(path_to_glove_file) as f:\n",
        "    for line in f:\n",
        "        word, coefs = line.split(maxsplit=1)\n",
        "        coefs = np.fromstring(coefs, \"f\", sep=\" \")\n",
        "        embeddings_index[word] = coefs\n",
        "\n",
        "print(\"Found %s word vectors.\" % len(embeddings_index))"
      ],
      "metadata": {
        "id": "_U8SadZQAVk2",
        "outputId": "e136591a-637f-4300-cee4-14f7719a0621",
        "colab": {
          "base_uri": "https://localhost:8080/"
        }
      },
      "execution_count": 83,
      "outputs": [
        {
          "output_type": "stream",
          "name": "stdout",
          "text": [
            "Found 400000 word vectors.\n"
          ]
        }
      ]
    },
    {
      "cell_type": "markdown",
      "source": [
        "### GloVe Embedding\n",
        "Now, let's prepare a corresponding embedding matrix that we can use in a Keras Embedding layer. It's a simple NumPy matrix where entry at index i is the pre-trained vector for the word of index i in our vectorizer's vocabulary."
      ],
      "metadata": {
        "id": "DAMSxvw_jNmU"
      }
    },
    {
      "cell_type": "code",
      "source": [
        "vocab = vectorize_layer.get_vocabulary()\n",
        "vocab_size = len(vocab)\n",
        "word_index = dict(zip(vocab, range(vocab_size)))\n",
        "num_tokens = vocab_size + 2\n",
        "hits = 0\n",
        "misses = 0\n",
        "\n",
        "# Prepare embedding matrix\n",
        "embedding_matrix = np.zeros((num_tokens, embedding_dim))\n",
        "for word, i in word_index.items():\n",
        "    embedding_vector = embeddings_index.get(word)\n",
        "    if embedding_vector is not None:\n",
        "        # Words not found in embedding index will be all-zeros.\n",
        "        # This includes the representation for \"padding\" and \"OOV\"\n",
        "        embedding_matrix[i] = embedding_vector\n",
        "        hits += 1\n",
        "    else:\n",
        "        misses += 1\n",
        "print(\"Converted %d words (%d misses)\" % (hits, misses))\n",
        "print(embedding_matrix.shape)"
      ],
      "metadata": {
        "id": "xwj4lWHXEqCS",
        "outputId": "9808cf54-3aeb-4381-a580-cb7607adebb1",
        "colab": {
          "base_uri": "https://localhost:8080/"
        }
      },
      "execution_count": 84,
      "outputs": [
        {
          "output_type": "stream",
          "name": "stdout",
          "text": [
            "Converted 11914 words (4316 misses)\n",
            "(16232, 100)\n"
          ]
        }
      ]
    },
    {
      "cell_type": "markdown",
      "source": [
        "Next, we load the pre-trained word embeddings matrix into an Embedding layer.\n",
        "\n",
        "Note that we set `trainable=False` so as to keep the embeddings fixed (we don't want to update them during training)."
      ],
      "metadata": {
        "id": "uHL1iZbklssV"
      }
    },
    {
      "cell_type": "code",
      "source": [
        "from tensorflow.keras.layers import Embedding\n",
        "\n",
        "num_tokens = len(vectorize_layer.get_vocabulary()) + 2\n",
        "\n",
        "embedding_layer = Embedding(\n",
        "    num_tokens,\n",
        "    embedding_dim,\n",
        "    embeddings_initializer=keras.initializers.Constant(embedding_matrix),\n",
        "    trainable=False,\n",
        ")"
      ],
      "metadata": {
        "id": "GcxNrBcAkrOE"
      },
      "execution_count": 86,
      "outputs": []
    },
    {
      "cell_type": "markdown",
      "source": [
        "### Conv1D\n",
        "Conv1D is a type of one-dimensional convolutional neural network (CNN) used in deep learning for processing and classifying sequential data. Unlike traditional feedforward neural networks, Conv1D uses convolutional layers that can learn local patterns or features from the input data.\n",
        "\n",
        "In Conv1D, the input data is processed using filters or kernels that slide over the sequence of data and extract features or patterns. The output of the convolutional layer is then passed through activation functions and pooling layers to reduce the dimensionality of the data and extract important features. The resulting features can then be fed into one or more fully connected layers for classification or regression.\n",
        "\n",
        "Conv1D is particularly useful for processing time series data or sequential data such as natural language processing tasks where the input data has a linear or one-dimensional structure. It is especially useful when the input sequence is too long for traditional recurrent neural networks (RNNs) or when the data is too complex to be effectively processed using traditional feedforward networks.\n",
        "\n",
        "Conv1D has been used in a wide range of applications, such as speech recognition, audio processing, natural language processing, and protein sequence analysis. It has been shown to be effective at learning local and global patterns in the input data, and can achieve high accuracy with relatively small datasets."
      ],
      "metadata": {
        "id": "mRsuy6rQPAkl"
      }
    },
    {
      "cell_type": "markdown",
      "source": [
        "### Building the Model\n",
        "A simple 1D convnet with global max pooling and a classifier at the end."
      ],
      "metadata": {
        "id": "3zhvbDtgl7jr"
      }
    },
    {
      "cell_type": "code",
      "source": [
        "# Model configuration\n",
        "num_of_labels = 20\n",
        "\n",
        "model_new = tf.keras.Sequential([\n",
        "  embedding_layer,\n",
        "  layers.Dropout(dropout_rate1),\n",
        "  layers.Conv1D(64, 5, activation=\"relu\"),\n",
        "  layers.MaxPooling1D(5),\n",
        "  layers.Conv1D(128, 5, activation=\"relu\"),\n",
        "  layers.GlobalAveragePooling1D(),\n",
        "  layers.Dense(128, activation=\"relu\"),\n",
        "  layers.Dropout(dropout_rate2),\n",
        "  layers.Dense(num_of_labels)])\n",
        "\n",
        "model_new.summary()"
      ],
      "metadata": {
        "id": "EqM2D6cHEU8V",
        "outputId": "896704f3-e2b0-454f-9ed4-5f755df7feee",
        "colab": {
          "base_uri": "https://localhost:8080/"
        }
      },
      "execution_count": 91,
      "outputs": [
        {
          "output_type": "stream",
          "name": "stdout",
          "text": [
            "Model: \"sequential_3\"\n",
            "_________________________________________________________________\n",
            " Layer (type)                Output Shape              Param #   \n",
            "=================================================================\n",
            " embedding_2 (Embedding)     (None, None, 100)         1623200   \n",
            "                                                                 \n",
            " dropout_5 (Dropout)         (None, None, 100)         0         \n",
            "                                                                 \n",
            " conv1d_4 (Conv1D)           (None, None, 64)          32064     \n",
            "                                                                 \n",
            " max_pooling1d_2 (MaxPooling  (None, None, 64)         0         \n",
            " 1D)                                                             \n",
            "                                                                 \n",
            " conv1d_5 (Conv1D)           (None, None, 128)         41088     \n",
            "                                                                 \n",
            " global_average_pooling1d_4   (None, 128)              0         \n",
            " (GlobalAveragePooling1D)                                        \n",
            "                                                                 \n",
            " dense_5 (Dense)             (None, 128)               16512     \n",
            "                                                                 \n",
            " dropout_6 (Dropout)         (None, 128)               0         \n",
            "                                                                 \n",
            " dense_6 (Dense)             (None, 20)                2580      \n",
            "                                                                 \n",
            "=================================================================\n",
            "Total params: 1,715,444\n",
            "Trainable params: 92,244\n",
            "Non-trainable params: 1,623,200\n",
            "_________________________________________________________________\n"
          ]
        }
      ]
    },
    {
      "cell_type": "code",
      "source": [
        "# model compilation\n",
        "optimizer = tf.keras.optimizers.Adam(learning_rate=learn_rate)\n",
        "model_new.compile(optimizer=optimizer,\n",
        "              loss=tf.keras.losses.SparseCategoricalCrossentropy(from_logits=True),\n",
        "              metrics=['accuracy'])"
      ],
      "metadata": {
        "id": "rqs_AMZpQKT0"
      },
      "execution_count": 92,
      "outputs": []
    },
    {
      "cell_type": "markdown",
      "source": [
        "### Training the Model\n",
        "Fitting the model on our database and getting the results."
      ],
      "metadata": {
        "id": "7AlKul8wsK1y"
      }
    },
    {
      "cell_type": "code",
      "source": [
        "# training the model\n",
        "epochs = 500\n",
        "\n",
        "callback = tf.keras.callbacks.EarlyStopping(monitor='val_loss',\n",
        "                                            patience=5,\n",
        "                                            verbose=1)\n",
        "\n",
        "history = model_new.fit(final_ds['train_ds'],\n",
        "                    validation_data=final_ds['val_ds'],\n",
        "                    epochs=epochs,\n",
        "                    callbacks=[callback])"
      ],
      "metadata": {
        "id": "oed2UroAsLRU",
        "outputId": "0fdab216-eac8-4b6d-e29f-f1ec522a2ed6",
        "colab": {
          "base_uri": "https://localhost:8080/"
        }
      },
      "execution_count": 98,
      "outputs": [
        {
          "output_type": "stream",
          "name": "stdout",
          "text": [
            "Epoch 1/500\n",
            "44/44 [==============================] - 0s 8ms/step - loss: 2.4023 - accuracy: 0.2856 - val_loss: 2.3279 - val_accuracy: 0.2903\n",
            "Epoch 2/500\n",
            "44/44 [==============================] - 0s 6ms/step - loss: 2.3718 - accuracy: 0.2998 - val_loss: 2.1984 - val_accuracy: 0.3472\n",
            "Epoch 3/500\n",
            "44/44 [==============================] - 0s 6ms/step - loss: 2.3601 - accuracy: 0.3067 - val_loss: 2.2441 - val_accuracy: 0.3548\n",
            "Epoch 4/500\n",
            "44/44 [==============================] - 0s 6ms/step - loss: 2.4055 - accuracy: 0.2927 - val_loss: 2.3099 - val_accuracy: 0.2998\n",
            "Epoch 5/500\n",
            "44/44 [==============================] - 0s 6ms/step - loss: 2.3842 - accuracy: 0.2979 - val_loss: 2.2953 - val_accuracy: 0.3302\n",
            "Epoch 6/500\n",
            "44/44 [==============================] - 0s 8ms/step - loss: 2.3639 - accuracy: 0.3038 - val_loss: 2.1949 - val_accuracy: 0.3378\n",
            "Epoch 7/500\n",
            "44/44 [==============================] - 0s 11ms/step - loss: 2.4427 - accuracy: 0.2915 - val_loss: 2.4596 - val_accuracy: 0.2789\n",
            "Epoch 8/500\n",
            "44/44 [==============================] - 0s 10ms/step - loss: 2.5623 - accuracy: 0.2275 - val_loss: 2.5136 - val_accuracy: 0.2600\n",
            "Epoch 9/500\n",
            "44/44 [==============================] - 0s 6ms/step - loss: 2.5709 - accuracy: 0.2241 - val_loss: 2.5432 - val_accuracy: 0.2201\n",
            "Epoch 10/500\n",
            "44/44 [==============================] - 0s 6ms/step - loss: 2.5912 - accuracy: 0.2279 - val_loss: 2.5888 - val_accuracy: 0.2486\n",
            "Epoch 11/500\n",
            "44/44 [==============================] - 0s 6ms/step - loss: 2.6031 - accuracy: 0.2253 - val_loss: 2.5640 - val_accuracy: 0.2486\n",
            "Epoch 11: early stopping\n"
          ]
        }
      ]
    },
    {
      "cell_type": "markdown",
      "source": [
        "### Testing and Visualizing the model\n",
        "Using the `evaluate_and_visualize` method, we'll test our model's accuracy."
      ],
      "metadata": {
        "id": "xGWyZ_-cu1br"
      }
    },
    {
      "cell_type": "code",
      "source": [
        "evaluate_and_visualize(model_new, final_ds['test_ds'], history)"
      ],
      "metadata": {
        "id": "ZIirFGi_vJ_v",
        "outputId": "9c970d38-024f-4c61-e21e-a7dfe3efbf77",
        "colab": {
          "base_uri": "https://localhost:8080/",
          "height": 627
        }
      },
      "execution_count": 99,
      "outputs": [
        {
          "output_type": "stream",
          "name": "stdout",
          "text": [
            "6/6 [==============================] - 0s 4ms/step - loss: 2.5372 - accuracy: 0.2505\n",
            "Model Loss:  2.53718638420105\n",
            "Model Accuracy:  0.25047439336776733\n"
          ]
        },
        {
          "output_type": "display_data",
          "data": {
            "text/plain": [
              "<Figure size 432x288 with 1 Axes>"
            ],
            "image/png": "[encoded data removed]"
          },
          "metadata": {
            "needs_background": "light"
          }
        },
        {
          "output_type": "display_data",
          "data": {
            "text/plain": [
              "<Figure size 432x288 with 1 Axes>"
            ],
            "image/png": "[encoded data removed]"
          },
          "metadata": {
            "needs_background": "light"
          }
        }
      ]
    },
    {
      "cell_type": "markdown",
      "source": [
        "### Building the Model With the Keras Embeddor\n",
        "I tested the model without a pretrained embeddor and also reduced the extra dense layer."
      ],
      "metadata": {
        "id": "QJvIbGDA89xT"
      }
    },
    {
      "cell_type": "code",
      "source": [
        "num_of_labels = 20\n",
        "embedding_dim = 144\n",
        "num_tokens = len(vectorize_layer.get_vocabulary())\n",
        "\n",
        "model_newer = tf.keras.Sequential([\n",
        "  layers.Embedding(num_tokens + 1, embedding_dim),\n",
        "  layers.Conv1D(64, 5, activation=\"relu\"),\n",
        "  layers.MaxPooling1D(5),\n",
        "  layers.Conv1D(128, 5, activation=\"relu\"),\n",
        "  layers.GlobalAveragePooling1D(),\n",
        "  layers.Dense(num_of_labels)])\n",
        "\n",
        "model_newer.summary()"
      ],
      "metadata": {
        "id": "C-F3DlFK9K6N",
        "outputId": "079644c4-c4ba-47b0-daba-ee5cc859fe5a",
        "colab": {
          "base_uri": "https://localhost:8080/"
        }
      },
      "execution_count": 172,
      "outputs": [
        {
          "output_type": "stream",
          "name": "stdout",
          "text": [
            "Model: \"sequential_20\"\n",
            "_________________________________________________________________\n",
            " Layer (type)                Output Shape              Param #   \n",
            "=================================================================\n",
            " embedding_18 (Embedding)    (None, None, 144)         2337264   \n",
            "                                                                 \n",
            " conv1d_31 (Conv1D)          (None, None, 64)          46144     \n",
            "                                                                 \n",
            " max_pooling1d_15 (MaxPoolin  (None, None, 64)         0         \n",
            " g1D)                                                            \n",
            "                                                                 \n",
            " conv1d_32 (Conv1D)          (None, None, 128)         41088     \n",
            "                                                                 \n",
            " global_average_pooling1d_20  (None, 128)              0         \n",
            "  (GlobalAveragePooling1D)                                       \n",
            "                                                                 \n",
            " dense_33 (Dense)            (None, 20)                2580      \n",
            "                                                                 \n",
            "=================================================================\n",
            "Total params: 2,427,076\n",
            "Trainable params: 2,427,076\n",
            "Non-trainable params: 0\n",
            "_________________________________________________________________\n"
          ]
        }
      ]
    },
    {
      "cell_type": "code",
      "source": [
        "# model compilation\n",
        "optimizer = tf.keras.optimizers.Adam(learning_rate=learn_rate)\n",
        "model_newer.compile(optimizer='adam',\n",
        "              loss=tf.keras.losses.SparseCategoricalCrossentropy(from_logits=True),\n",
        "              metrics=['accuracy'])"
      ],
      "metadata": {
        "id": "PYQ3goraArK8"
      },
      "execution_count": 173,
      "outputs": []
    },
    {
      "cell_type": "markdown",
      "source": [
        "### Training the Keras Embeddor Model\n",
        "Fitting the model on our database and getting the results."
      ],
      "metadata": {
        "id": "yh_LYrdcAzv6"
      }
    },
    {
      "cell_type": "code",
      "source": [
        "# training the model\n",
        "epochs = 500\n",
        "\n",
        "callback = tf.keras.callbacks.EarlyStopping(monitor='val_loss',\n",
        "                                            patience=20,\n",
        "                                            verbose=1)\n",
        "\n",
        "history = model_newer.fit(final_ds['train_ds'],\n",
        "                    validation_data=final_ds['val_ds'],\n",
        "                    epochs=epochs,\n",
        "                    callbacks=[callback])"
      ],
      "metadata": {
        "id": "GdVb0x1_Ak2y",
        "outputId": "0c8cece8-e36b-40ee-b1da-9671db95ee81",
        "colab": {
          "base_uri": "https://localhost:8080/"
        }
      },
      "execution_count": 174,
      "outputs": [
        {
          "output_type": "stream",
          "name": "stdout",
          "text": [
            "Epoch 1/500\n",
            "44/44 [==============================] - 6s 121ms/step - loss: 2.7551 - accuracy: 0.1845 - val_loss: 2.6548 - val_accuracy: 0.1917\n",
            "Epoch 2/500\n",
            "44/44 [==============================] - 0s 10ms/step - loss: 2.6477 - accuracy: 0.1881 - val_loss: 2.5559 - val_accuracy: 0.1917\n",
            "Epoch 3/500\n",
            "44/44 [==============================] - 0s 8ms/step - loss: 2.5169 - accuracy: 0.2028 - val_loss: 2.4431 - val_accuracy: 0.2827\n",
            "Epoch 4/500\n",
            "44/44 [==============================] - 0s 9ms/step - loss: 2.3090 - accuracy: 0.2842 - val_loss: 2.3049 - val_accuracy: 0.2998\n",
            "Epoch 5/500\n",
            "44/44 [==============================] - 0s 9ms/step - loss: 2.0400 - accuracy: 0.3676 - val_loss: 2.1932 - val_accuracy: 0.3909\n",
            "Epoch 6/500\n",
            "44/44 [==============================] - 0s 8ms/step - loss: 1.7532 - accuracy: 0.4677 - val_loss: 2.1496 - val_accuracy: 0.4137\n",
            "Epoch 7/500\n",
            "44/44 [==============================] - 0s 8ms/step - loss: 1.5010 - accuracy: 0.5377 - val_loss: 2.2152 - val_accuracy: 0.4896\n",
            "Epoch 8/500\n",
            "44/44 [==============================] - 0s 8ms/step - loss: 1.2480 - accuracy: 0.6361 - val_loss: 2.1399 - val_accuracy: 0.5123\n",
            "Epoch 9/500\n",
            "44/44 [==============================] - 0s 8ms/step - loss: 0.9673 - accuracy: 0.7351 - val_loss: 2.2049 - val_accuracy: 0.5484\n",
            "Epoch 10/500\n",
            "44/44 [==============================] - 0s 8ms/step - loss: 0.7364 - accuracy: 0.8057 - val_loss: 2.3300 - val_accuracy: 0.5920\n",
            "Epoch 11/500\n",
            "44/44 [==============================] - 0s 9ms/step - loss: 0.5675 - accuracy: 0.8437 - val_loss: 2.4388 - val_accuracy: 0.6072\n",
            "Epoch 12/500\n",
            "44/44 [==============================] - 0s 11ms/step - loss: 0.4513 - accuracy: 0.8752 - val_loss: 2.6643 - val_accuracy: 0.6110\n",
            "Epoch 13/500\n",
            "44/44 [==============================] - 0s 10ms/step - loss: 0.3723 - accuracy: 0.9058 - val_loss: 2.9367 - val_accuracy: 0.6110\n",
            "Epoch 14/500\n",
            "44/44 [==============================] - 0s 10ms/step - loss: 0.3117 - accuracy: 0.9222 - val_loss: 3.0133 - val_accuracy: 0.6224\n",
            "Epoch 15/500\n",
            "44/44 [==============================] - 0s 9ms/step - loss: 0.2575 - accuracy: 0.9362 - val_loss: 3.3871 - val_accuracy: 0.6148\n",
            "Epoch 16/500\n",
            "44/44 [==============================] - 0s 8ms/step - loss: 0.2268 - accuracy: 0.9459 - val_loss: 3.5283 - val_accuracy: 0.6148\n",
            "Epoch 17/500\n",
            "44/44 [==============================] - 0s 8ms/step - loss: 0.1923 - accuracy: 0.9561 - val_loss: 3.6904 - val_accuracy: 0.6224\n",
            "Epoch 18/500\n",
            "44/44 [==============================] - 0s 8ms/step - loss: 0.1622 - accuracy: 0.9616 - val_loss: 4.0041 - val_accuracy: 0.6186\n",
            "Epoch 19/500\n",
            "44/44 [==============================] - 0s 8ms/step - loss: 0.1369 - accuracy: 0.9689 - val_loss: 4.0744 - val_accuracy: 0.6243\n",
            "Epoch 20/500\n",
            "44/44 [==============================] - 0s 11ms/step - loss: 0.1147 - accuracy: 0.9756 - val_loss: 4.3374 - val_accuracy: 0.6129\n",
            "Epoch 21/500\n",
            "44/44 [==============================] - 1s 14ms/step - loss: 0.0986 - accuracy: 0.9787 - val_loss: 4.4760 - val_accuracy: 0.6110\n",
            "Epoch 22/500\n",
            "44/44 [==============================] - 1s 15ms/step - loss: 0.0895 - accuracy: 0.9836 - val_loss: 4.6551 - val_accuracy: 0.6205\n",
            "Epoch 23/500\n",
            "44/44 [==============================] - 1s 11ms/step - loss: 0.0817 - accuracy: 0.9881 - val_loss: 4.7788 - val_accuracy: 0.6281\n",
            "Epoch 24/500\n",
            "44/44 [==============================] - 0s 9ms/step - loss: 0.0843 - accuracy: 0.9903 - val_loss: 4.9511 - val_accuracy: 0.6129\n",
            "Epoch 25/500\n",
            "44/44 [==============================] - 0s 8ms/step - loss: 0.0495 - accuracy: 0.9943 - val_loss: 5.1488 - val_accuracy: 0.6205\n",
            "Epoch 26/500\n",
            "44/44 [==============================] - 0s 8ms/step - loss: 0.0420 - accuracy: 0.9957 - val_loss: 5.3008 - val_accuracy: 0.6167\n",
            "Epoch 27/500\n",
            "44/44 [==============================] - 0s 9ms/step - loss: 0.0370 - accuracy: 0.9960 - val_loss: 5.4422 - val_accuracy: 0.6186\n",
            "Epoch 28/500\n",
            "44/44 [==============================] - 0s 8ms/step - loss: 0.0319 - accuracy: 0.9969 - val_loss: 5.5698 - val_accuracy: 0.6186\n",
            "Epoch 28: early stopping\n"
          ]
        }
      ]
    },
    {
      "cell_type": "markdown",
      "source": [
        "### Testing and Visualizing the Conv1D Model\n",
        "\n",
        "\n"
      ],
      "metadata": {
        "id": "RQ2a31nyG9n4"
      }
    },
    {
      "cell_type": "code",
      "source": [
        "evaluate_and_visualize(model_newer, final_ds['test_ds'], history)"
      ],
      "metadata": {
        "id": "aTXtDfDAAr2B",
        "outputId": "f761b4bd-4181-4df9-b5e8-6e419268f637",
        "colab": {
          "base_uri": "https://localhost:8080/",
          "height": 627
        }
      },
      "execution_count": 176,
      "outputs": [
        {
          "output_type": "stream",
          "name": "stdout",
          "text": [
            "6/6 [==============================] - 0s 7ms/step - loss: 4.7310 - accuracy: 0.5787\n",
            "Model Loss:  4.731023788452148\n",
            "Model Accuracy:  0.5787476301193237\n"
          ]
        },
        {
          "output_type": "display_data",
          "data": {
            "text/plain": [
              "<Figure size 432x288 with 1 Axes>"
            ],
            "image/png": "[encoded data removed]"
          },
          "metadata": {
            "needs_background": "light"
          }
        },
        {
          "output_type": "display_data",
          "data": {
            "text/plain": [
              "<Figure size 432x288 with 1 Axes>"
            ],
            "image/png": "[encoded data removed]"
          },
          "metadata": {
            "needs_background": "light"
          }
        }
      ]
    },
    {
      "cell_type": "markdown",
      "source": [
        "Still not enough! Maybe we need to reduce a conv layer."
      ],
      "metadata": {
        "id": "Ad7_jZzqHGVl"
      }
    },
    {
      "cell_type": "markdown",
      "source": [
        "### Simplifying the Model For the Third Time"
      ],
      "metadata": {
        "id": "RbwVnbMQHOVC"
      }
    },
    {
      "cell_type": "code",
      "source": [
        "# Model configuration\n",
        "num_of_labels = 20\n",
        "\n",
        "model_simplified = tf.keras.Sequential([\n",
        "  embedding_layer,\n",
        "  layers.Dropout(dropout_rate1),\n",
        "  layers.Conv1D(64, 5, activation=\"relu\"),\n",
        "  layers.MaxPooling1D(5),\n",
        "  layers.GlobalAveragePooling1D(),\n",
        "  layers.Dropout(dropout_rate2),\n",
        "  layers.Dense(num_of_labels)])\n",
        "\n",
        "model_simplified.summary()\n",
        "\n",
        "# model compilation\n",
        "optimizer = tf.keras.optimizers.Adam(learning_rate=learn_rate)\n",
        "model_simplified.compile(optimizer='adam',\n",
        "              loss=tf.keras.losses.SparseCategoricalCrossentropy(from_logits=True),\n",
        "              metrics=['accuracy'])\n",
        "\n",
        "# training the model\n",
        "epochs = 500\n",
        "\n",
        "callback = tf.keras.callbacks.EarlyStopping(monitor='val_loss',\n",
        "                                            patience=20,\n",
        "                                            verbose=1)\n",
        "\n",
        "history = model_simplified.fit(final_ds['train_ds'],\n",
        "                    validation_data=final_ds['val_ds'],\n",
        "                    epochs=epochs,\n",
        "                    callbacks=[callback])\n",
        "\n",
        "evaluate_and_visualize(model_simplified, final_ds['test_ds'], history)"
      ],
      "metadata": {
        "id": "cbUnsrIsGxDA",
        "outputId": "b568ceb4-2aab-4d4d-af78-742b45242220",
        "colab": {
          "base_uri": "https://localhost:8080/",
          "height": 1000
        }
      },
      "execution_count": 177,
      "outputs": [
        {
          "output_type": "stream",
          "name": "stdout",
          "text": [
            "Model: \"sequential_21\"\n",
            "_________________________________________________________________\n",
            " Layer (type)                Output Shape              Param #   \n",
            "=================================================================\n",
            " embedding_2 (Embedding)     (None, None, 100)         1623200   \n",
            "                                                                 \n",
            " dropout_26 (Dropout)        (None, None, 100)         0         \n",
            "                                                                 \n",
            " conv1d_33 (Conv1D)          (None, None, 64)          32064     \n",
            "                                                                 \n",
            " max_pooling1d_16 (MaxPoolin  (None, None, 64)         0         \n",
            " g1D)                                                            \n",
            "                                                                 \n",
            " global_average_pooling1d_21  (None, 64)               0         \n",
            "  (GlobalAveragePooling1D)                                       \n",
            "                                                                 \n",
            " dropout_27 (Dropout)        (None, 64)                0         \n",
            "                                                                 \n",
            " dense_34 (Dense)            (None, 20)                1300      \n",
            "                                                                 \n",
            "=================================================================\n",
            "Total params: 1,656,564\n",
            "Trainable params: 33,364\n",
            "Non-trainable params: 1,623,200\n",
            "_________________________________________________________________\n",
            "Epoch 1/500\n",
            "44/44 [==============================] - 2s 13ms/step - loss: 2.8350 - accuracy: 0.1843 - val_loss: 2.6892 - val_accuracy: 0.1917\n",
            "Epoch 2/500\n",
            "44/44 [==============================] - 0s 7ms/step - loss: 2.6413 - accuracy: 0.2123 - val_loss: 2.5325 - val_accuracy: 0.2448\n",
            "Epoch 3/500\n",
            "44/44 [==============================] - 0s 7ms/step - loss: 2.5105 - accuracy: 0.2581 - val_loss: 2.3984 - val_accuracy: 0.3036\n",
            "Epoch 4/500\n",
            "44/44 [==============================] - 0s 6ms/step - loss: 2.3871 - accuracy: 0.3145 - val_loss: 2.2658 - val_accuracy: 0.3700\n",
            "Epoch 5/500\n",
            "44/44 [==============================] - 0s 5ms/step - loss: 2.2654 - accuracy: 0.3667 - val_loss: 2.1421 - val_accuracy: 0.4156\n",
            "Epoch 6/500\n",
            "44/44 [==============================] - 0s 5ms/step - loss: 2.1558 - accuracy: 0.4042 - val_loss: 2.0319 - val_accuracy: 0.4554\n",
            "Epoch 7/500\n",
            "44/44 [==============================] - 0s 5ms/step - loss: 2.0606 - accuracy: 0.4433 - val_loss: 1.9374 - val_accuracy: 0.4915\n",
            "Epoch 8/500\n",
            "44/44 [==============================] - 0s 5ms/step - loss: 1.9754 - accuracy: 0.4673 - val_loss: 1.8490 - val_accuracy: 0.5199\n",
            "Epoch 9/500\n",
            "44/44 [==============================] - 0s 5ms/step - loss: 1.9000 - accuracy: 0.4924 - val_loss: 1.7774 - val_accuracy: 0.5389\n",
            "Epoch 10/500\n",
            "44/44 [==============================] - 0s 5ms/step - loss: 1.8395 - accuracy: 0.5064 - val_loss: 1.7131 - val_accuracy: 0.5522\n",
            "Epoch 11/500\n",
            "44/44 [==============================] - 0s 5ms/step - loss: 1.7715 - accuracy: 0.5285 - val_loss: 1.6559 - val_accuracy: 0.5712\n",
            "Epoch 12/500\n",
            "44/44 [==============================] - 0s 5ms/step - loss: 1.7240 - accuracy: 0.5455 - val_loss: 1.6035 - val_accuracy: 0.5901\n",
            "Epoch 13/500\n",
            "44/44 [==============================] - 0s 5ms/step - loss: 1.6827 - accuracy: 0.5565 - val_loss: 1.5605 - val_accuracy: 0.6072\n",
            "Epoch 14/500\n",
            "44/44 [==============================] - 0s 5ms/step - loss: 1.6350 - accuracy: 0.5650 - val_loss: 1.5240 - val_accuracy: 0.6167\n",
            "Epoch 15/500\n",
            "44/44 [==============================] - 0s 5ms/step - loss: 1.6025 - accuracy: 0.5745 - val_loss: 1.4898 - val_accuracy: 0.6224\n",
            "Epoch 16/500\n",
            "44/44 [==============================] - 0s 5ms/step - loss: 1.5645 - accuracy: 0.5863 - val_loss: 1.4594 - val_accuracy: 0.6376\n",
            "Epoch 17/500\n",
            "44/44 [==============================] - 0s 5ms/step - loss: 1.5366 - accuracy: 0.5925 - val_loss: 1.4302 - val_accuracy: 0.6395\n",
            "Epoch 18/500\n",
            "44/44 [==============================] - 0s 6ms/step - loss: 1.5177 - accuracy: 0.5944 - val_loss: 1.4076 - val_accuracy: 0.6433\n",
            "Epoch 19/500\n",
            "44/44 [==============================] - 0s 8ms/step - loss: 1.4873 - accuracy: 0.6027 - val_loss: 1.3862 - val_accuracy: 0.6603\n",
            "Epoch 20/500\n",
            "44/44 [==============================] - 0s 9ms/step - loss: 1.4654 - accuracy: 0.6048 - val_loss: 1.3663 - val_accuracy: 0.6641\n",
            "Epoch 21/500\n",
            "44/44 [==============================] - 0s 5ms/step - loss: 1.4449 - accuracy: 0.6129 - val_loss: 1.3479 - val_accuracy: 0.6622\n",
            "Epoch 22/500\n",
            "44/44 [==============================] - 0s 5ms/step - loss: 1.4241 - accuracy: 0.6146 - val_loss: 1.3334 - val_accuracy: 0.6698\n",
            "Epoch 23/500\n",
            "44/44 [==============================] - 0s 5ms/step - loss: 1.4120 - accuracy: 0.6203 - val_loss: 1.3189 - val_accuracy: 0.6774\n",
            "Epoch 24/500\n",
            "44/44 [==============================] - 0s 5ms/step - loss: 1.3793 - accuracy: 0.6312 - val_loss: 1.3058 - val_accuracy: 0.6812\n",
            "Epoch 25/500\n",
            "44/44 [==============================] - 0s 5ms/step - loss: 1.3797 - accuracy: 0.6302 - val_loss: 1.2929 - val_accuracy: 0.6774\n",
            "Epoch 26/500\n",
            "44/44 [==============================] - 0s 5ms/step - loss: 1.3464 - accuracy: 0.6366 - val_loss: 1.2775 - val_accuracy: 0.6869\n",
            "Epoch 27/500\n",
            "44/44 [==============================] - 0s 5ms/step - loss: 1.3400 - accuracy: 0.6335 - val_loss: 1.2706 - val_accuracy: 0.6793\n",
            "Epoch 28/500\n",
            "44/44 [==============================] - 0s 5ms/step - loss: 1.3219 - accuracy: 0.6357 - val_loss: 1.2556 - val_accuracy: 0.6888\n",
            "Epoch 29/500\n",
            "44/44 [==============================] - 0s 5ms/step - loss: 1.3089 - accuracy: 0.6407 - val_loss: 1.2480 - val_accuracy: 0.6964\n",
            "Epoch 30/500\n",
            "44/44 [==============================] - 0s 5ms/step - loss: 1.3007 - accuracy: 0.6421 - val_loss: 1.2360 - val_accuracy: 0.7002\n",
            "Epoch 31/500\n",
            "44/44 [==============================] - 0s 5ms/step - loss: 1.2878 - accuracy: 0.6509 - val_loss: 1.2301 - val_accuracy: 0.6964\n",
            "Epoch 32/500\n",
            "44/44 [==============================] - 0s 5ms/step - loss: 1.2817 - accuracy: 0.6459 - val_loss: 1.2233 - val_accuracy: 0.6945\n",
            "Epoch 33/500\n",
            "44/44 [==============================] - 0s 5ms/step - loss: 1.2734 - accuracy: 0.6447 - val_loss: 1.2143 - val_accuracy: 0.7059\n",
            "Epoch 34/500\n",
            "44/44 [==============================] - 0s 5ms/step - loss: 1.2588 - accuracy: 0.6625 - val_loss: 1.2080 - val_accuracy: 0.7002\n",
            "Epoch 35/500\n",
            "44/44 [==============================] - 0s 6ms/step - loss: 1.2621 - accuracy: 0.6582 - val_loss: 1.2045 - val_accuracy: 0.7021\n",
            "Epoch 36/500\n",
            "44/44 [==============================] - 0s 5ms/step - loss: 1.2441 - accuracy: 0.6632 - val_loss: 1.1949 - val_accuracy: 0.7059\n",
            "Epoch 37/500\n",
            "44/44 [==============================] - 0s 5ms/step - loss: 1.2301 - accuracy: 0.6625 - val_loss: 1.1886 - val_accuracy: 0.7078\n",
            "Epoch 38/500\n",
            "44/44 [==============================] - 0s 5ms/step - loss: 1.2207 - accuracy: 0.6630 - val_loss: 1.1808 - val_accuracy: 0.7097\n",
            "Epoch 39/500\n",
            "44/44 [==============================] - 0s 5ms/step - loss: 1.2145 - accuracy: 0.6637 - val_loss: 1.1768 - val_accuracy: 0.7116\n",
            "Epoch 40/500\n",
            "44/44 [==============================] - 0s 5ms/step - loss: 1.2087 - accuracy: 0.6630 - val_loss: 1.1781 - val_accuracy: 0.7021\n",
            "Epoch 41/500\n",
            "44/44 [==============================] - 0s 7ms/step - loss: 1.1986 - accuracy: 0.6686 - val_loss: 1.1669 - val_accuracy: 0.7154\n",
            "Epoch 42/500\n",
            "44/44 [==============================] - 0s 8ms/step - loss: 1.1894 - accuracy: 0.6722 - val_loss: 1.1630 - val_accuracy: 0.7078\n",
            "Epoch 43/500\n",
            "44/44 [==============================] - 0s 7ms/step - loss: 1.1988 - accuracy: 0.6691 - val_loss: 1.1556 - val_accuracy: 0.7154\n",
            "Epoch 44/500\n",
            "44/44 [==============================] - 0s 7ms/step - loss: 1.1857 - accuracy: 0.6796 - val_loss: 1.1526 - val_accuracy: 0.7173\n",
            "Epoch 45/500\n",
            "44/44 [==============================] - 0s 5ms/step - loss: 1.1795 - accuracy: 0.6836 - val_loss: 1.1455 - val_accuracy: 0.7230\n",
            "Epoch 46/500\n",
            "44/44 [==============================] - 0s 5ms/step - loss: 1.1711 - accuracy: 0.6793 - val_loss: 1.1429 - val_accuracy: 0.7268\n",
            "Epoch 47/500\n",
            "44/44 [==============================] - 0s 5ms/step - loss: 1.1668 - accuracy: 0.6791 - val_loss: 1.1342 - val_accuracy: 0.7306\n",
            "Epoch 48/500\n",
            "44/44 [==============================] - 0s 5ms/step - loss: 1.1519 - accuracy: 0.6803 - val_loss: 1.1344 - val_accuracy: 0.7268\n",
            "Epoch 49/500\n",
            "44/44 [==============================] - 0s 5ms/step - loss: 1.1472 - accuracy: 0.6831 - val_loss: 1.1269 - val_accuracy: 0.7287\n",
            "Epoch 50/500\n",
            "44/44 [==============================] - 0s 5ms/step - loss: 1.1305 - accuracy: 0.6864 - val_loss: 1.1183 - val_accuracy: 0.7306\n",
            "Epoch 51/500\n",
            "44/44 [==============================] - 0s 5ms/step - loss: 1.1193 - accuracy: 0.6900 - val_loss: 1.1189 - val_accuracy: 0.7306\n",
            "Epoch 52/500\n",
            "44/44 [==============================] - 0s 5ms/step - loss: 1.1302 - accuracy: 0.6888 - val_loss: 1.1184 - val_accuracy: 0.7249\n",
            "Epoch 53/500\n",
            "44/44 [==============================] - 0s 5ms/step - loss: 1.1141 - accuracy: 0.6895 - val_loss: 1.1141 - val_accuracy: 0.7324\n",
            "Epoch 54/500\n",
            "44/44 [==============================] - 0s 5ms/step - loss: 1.1203 - accuracy: 0.6924 - val_loss: 1.1071 - val_accuracy: 0.7324\n",
            "Epoch 55/500\n",
            "44/44 [==============================] - 0s 5ms/step - loss: 1.0981 - accuracy: 0.6990 - val_loss: 1.1042 - val_accuracy: 0.7324\n",
            "Epoch 56/500\n",
            "44/44 [==============================] - 0s 6ms/step - loss: 1.1021 - accuracy: 0.6957 - val_loss: 1.1055 - val_accuracy: 0.7324\n",
            "Epoch 57/500\n",
            "44/44 [==============================] - 0s 5ms/step - loss: 1.0847 - accuracy: 0.7033 - val_loss: 1.1020 - val_accuracy: 0.7324\n",
            "Epoch 58/500\n",
            "44/44 [==============================] - 0s 6ms/step - loss: 1.0835 - accuracy: 0.7014 - val_loss: 1.0947 - val_accuracy: 0.7324\n",
            "Epoch 59/500\n",
            "44/44 [==============================] - 0s 5ms/step - loss: 1.0866 - accuracy: 0.6945 - val_loss: 1.0924 - val_accuracy: 0.7324\n",
            "Epoch 60/500\n",
            "44/44 [==============================] - 0s 6ms/step - loss: 1.0798 - accuracy: 0.7021 - val_loss: 1.0906 - val_accuracy: 0.7324\n",
            "Epoch 61/500\n",
            "44/44 [==============================] - 0s 5ms/step - loss: 1.0701 - accuracy: 0.7059 - val_loss: 1.0882 - val_accuracy: 0.7362\n",
            "Epoch 62/500\n",
            "44/44 [==============================] - 0s 5ms/step - loss: 1.0787 - accuracy: 0.6959 - val_loss: 1.0867 - val_accuracy: 0.7343\n",
            "Epoch 63/500\n",
            "44/44 [==============================] - 0s 5ms/step - loss: 1.0549 - accuracy: 0.7049 - val_loss: 1.0782 - val_accuracy: 0.7343\n",
            "Epoch 64/500\n",
            "44/44 [==============================] - 0s 5ms/step - loss: 1.0577 - accuracy: 0.7092 - val_loss: 1.0771 - val_accuracy: 0.7362\n",
            "Epoch 65/500\n",
            "44/44 [==============================] - 0s 5ms/step - loss: 1.0432 - accuracy: 0.7142 - val_loss: 1.0692 - val_accuracy: 0.7381\n",
            "Epoch 66/500\n",
            "44/44 [==============================] - 0s 6ms/step - loss: 1.0464 - accuracy: 0.7123 - val_loss: 1.0717 - val_accuracy: 0.7343\n",
            "Epoch 67/500\n",
            "44/44 [==============================] - 0s 5ms/step - loss: 1.0485 - accuracy: 0.7128 - val_loss: 1.0690 - val_accuracy: 0.7362\n",
            "Epoch 68/500\n",
            "44/44 [==============================] - 0s 5ms/step - loss: 1.0464 - accuracy: 0.7026 - val_loss: 1.0661 - val_accuracy: 0.7343\n",
            "Epoch 69/500\n",
            "44/44 [==============================] - 0s 5ms/step - loss: 1.0293 - accuracy: 0.7109 - val_loss: 1.0632 - val_accuracy: 0.7381\n",
            "Epoch 70/500\n",
            "44/44 [==============================] - 0s 5ms/step - loss: 1.0430 - accuracy: 0.7154 - val_loss: 1.0636 - val_accuracy: 0.7381\n",
            "Epoch 71/500\n",
            "44/44 [==============================] - 0s 5ms/step - loss: 1.0277 - accuracy: 0.7149 - val_loss: 1.0630 - val_accuracy: 0.7343\n",
            "Epoch 72/500\n",
            "44/44 [==============================] - 0s 5ms/step - loss: 1.0218 - accuracy: 0.7139 - val_loss: 1.0561 - val_accuracy: 0.7362\n",
            "Epoch 73/500\n",
            "44/44 [==============================] - 0s 5ms/step - loss: 1.0119 - accuracy: 0.7151 - val_loss: 1.0525 - val_accuracy: 0.7381\n",
            "Epoch 74/500\n",
            "44/44 [==============================] - 0s 6ms/step - loss: 1.0057 - accuracy: 0.7225 - val_loss: 1.0555 - val_accuracy: 0.7362\n",
            "Epoch 75/500\n",
            "44/44 [==============================] - 0s 5ms/step - loss: 0.9992 - accuracy: 0.7192 - val_loss: 1.0529 - val_accuracy: 0.7362\n",
            "Epoch 76/500\n",
            "44/44 [==============================] - 0s 5ms/step - loss: 0.9940 - accuracy: 0.7206 - val_loss: 1.0488 - val_accuracy: 0.7400\n",
            "Epoch 77/500\n",
            "44/44 [==============================] - 0s 5ms/step - loss: 0.9959 - accuracy: 0.7215 - val_loss: 1.0469 - val_accuracy: 0.7381\n",
            "Epoch 78/500\n",
            "44/44 [==============================] - 0s 6ms/step - loss: 0.9945 - accuracy: 0.7213 - val_loss: 1.0465 - val_accuracy: 0.7381\n",
            "Epoch 79/500\n",
            "44/44 [==============================] - 0s 5ms/step - loss: 0.9987 - accuracy: 0.7156 - val_loss: 1.0408 - val_accuracy: 0.7381\n",
            "Epoch 80/500\n",
            "44/44 [==============================] - 0s 5ms/step - loss: 0.9743 - accuracy: 0.7263 - val_loss: 1.0380 - val_accuracy: 0.7400\n",
            "Epoch 81/500\n",
            "44/44 [==============================] - 0s 5ms/step - loss: 0.9807 - accuracy: 0.7249 - val_loss: 1.0325 - val_accuracy: 0.7362\n",
            "Epoch 82/500\n",
            "44/44 [==============================] - 0s 7ms/step - loss: 0.9858 - accuracy: 0.7270 - val_loss: 1.0411 - val_accuracy: 0.7381\n",
            "Epoch 83/500\n",
            "44/44 [==============================] - 0s 6ms/step - loss: 0.9887 - accuracy: 0.7251 - val_loss: 1.0309 - val_accuracy: 0.7343\n",
            "Epoch 84/500\n",
            "44/44 [==============================] - 0s 7ms/step - loss: 0.9802 - accuracy: 0.7241 - val_loss: 1.0303 - val_accuracy: 0.7419\n",
            "Epoch 85/500\n",
            "44/44 [==============================] - 0s 6ms/step - loss: 0.9754 - accuracy: 0.7239 - val_loss: 1.0290 - val_accuracy: 0.7343\n",
            "Epoch 86/500\n",
            "44/44 [==============================] - 0s 7ms/step - loss: 0.9719 - accuracy: 0.7265 - val_loss: 1.0257 - val_accuracy: 0.7343\n",
            "Epoch 87/500\n",
            "44/44 [==============================] - 0s 7ms/step - loss: 0.9636 - accuracy: 0.7362 - val_loss: 1.0255 - val_accuracy: 0.7381\n",
            "Epoch 88/500\n",
            "44/44 [==============================] - 0s 6ms/step - loss: 0.9637 - accuracy: 0.7301 - val_loss: 1.0242 - val_accuracy: 0.7400\n",
            "Epoch 89/500\n",
            "44/44 [==============================] - 0s 5ms/step - loss: 0.9579 - accuracy: 0.7365 - val_loss: 1.0220 - val_accuracy: 0.7362\n",
            "Epoch 90/500\n",
            "44/44 [==============================] - 0s 5ms/step - loss: 0.9443 - accuracy: 0.7315 - val_loss: 1.0182 - val_accuracy: 0.7362\n",
            "Epoch 91/500\n",
            "44/44 [==============================] - 0s 5ms/step - loss: 0.9725 - accuracy: 0.7327 - val_loss: 1.0181 - val_accuracy: 0.7381\n",
            "Epoch 92/500\n",
            "44/44 [==============================] - 0s 5ms/step - loss: 0.9487 - accuracy: 0.7324 - val_loss: 1.0145 - val_accuracy: 0.7419\n",
            "Epoch 93/500\n",
            "44/44 [==============================] - 0s 5ms/step - loss: 0.9487 - accuracy: 0.7424 - val_loss: 1.0140 - val_accuracy: 0.7362\n",
            "Epoch 94/500\n",
            "44/44 [==============================] - 0s 5ms/step - loss: 0.9381 - accuracy: 0.7398 - val_loss: 1.0116 - val_accuracy: 0.7381\n",
            "Epoch 95/500\n",
            "44/44 [==============================] - 0s 5ms/step - loss: 0.9482 - accuracy: 0.7320 - val_loss: 1.0081 - val_accuracy: 0.7381\n",
            "Epoch 96/500\n",
            "44/44 [==============================] - 0s 5ms/step - loss: 0.9307 - accuracy: 0.7400 - val_loss: 1.0081 - val_accuracy: 0.7438\n",
            "Epoch 97/500\n",
            "44/44 [==============================] - 0s 5ms/step - loss: 0.9396 - accuracy: 0.7422 - val_loss: 1.0077 - val_accuracy: 0.7381\n",
            "Epoch 98/500\n",
            "44/44 [==============================] - 0s 5ms/step - loss: 0.9192 - accuracy: 0.7479 - val_loss: 1.0042 - val_accuracy: 0.7400\n",
            "Epoch 99/500\n",
            "44/44 [==============================] - 0s 6ms/step - loss: 0.9437 - accuracy: 0.7358 - val_loss: 1.0051 - val_accuracy: 0.7400\n",
            "Epoch 100/500\n",
            "44/44 [==============================] - 0s 5ms/step - loss: 0.9346 - accuracy: 0.7374 - val_loss: 1.0035 - val_accuracy: 0.7419\n",
            "Epoch 101/500\n",
            "44/44 [==============================] - 0s 5ms/step - loss: 0.9161 - accuracy: 0.7455 - val_loss: 1.0021 - val_accuracy: 0.7400\n",
            "Epoch 102/500\n",
            "44/44 [==============================] - 0s 5ms/step - loss: 0.9243 - accuracy: 0.7355 - val_loss: 0.9987 - val_accuracy: 0.7419\n",
            "Epoch 103/500\n",
            "44/44 [==============================] - 0s 6ms/step - loss: 0.9254 - accuracy: 0.7412 - val_loss: 0.9969 - val_accuracy: 0.7400\n",
            "Epoch 104/500\n",
            "44/44 [==============================] - 0s 5ms/step - loss: 0.9192 - accuracy: 0.7441 - val_loss: 0.9979 - val_accuracy: 0.7419\n",
            "Epoch 105/500\n",
            "44/44 [==============================] - 0s 5ms/step - loss: 0.9148 - accuracy: 0.7412 - val_loss: 0.9925 - val_accuracy: 0.7438\n",
            "Epoch 106/500\n",
            "44/44 [==============================] - 0s 5ms/step - loss: 0.9148 - accuracy: 0.7476 - val_loss: 0.9951 - val_accuracy: 0.7438\n",
            "Epoch 107/500\n",
            "44/44 [==============================] - 0s 5ms/step - loss: 0.9055 - accuracy: 0.7536 - val_loss: 0.9908 - val_accuracy: 0.7438\n",
            "Epoch 108/500\n",
            "44/44 [==============================] - 0s 5ms/step - loss: 0.9120 - accuracy: 0.7507 - val_loss: 0.9885 - val_accuracy: 0.7495\n",
            "Epoch 109/500\n",
            "44/44 [==============================] - 0s 5ms/step - loss: 0.8966 - accuracy: 0.7429 - val_loss: 0.9857 - val_accuracy: 0.7457\n",
            "Epoch 110/500\n",
            "44/44 [==============================] - 0s 6ms/step - loss: 0.9037 - accuracy: 0.7424 - val_loss: 0.9898 - val_accuracy: 0.7457\n",
            "Epoch 111/500\n",
            "44/44 [==============================] - 0s 5ms/step - loss: 0.8980 - accuracy: 0.7559 - val_loss: 0.9852 - val_accuracy: 0.7495\n",
            "Epoch 112/500\n",
            "44/44 [==============================] - 0s 5ms/step - loss: 0.8984 - accuracy: 0.7521 - val_loss: 0.9878 - val_accuracy: 0.7495\n",
            "Epoch 113/500\n",
            "44/44 [==============================] - 0s 6ms/step - loss: 0.8766 - accuracy: 0.7571 - val_loss: 0.9843 - val_accuracy: 0.7533\n",
            "Epoch 114/500\n",
            "44/44 [==============================] - 0s 5ms/step - loss: 0.8855 - accuracy: 0.7422 - val_loss: 0.9812 - val_accuracy: 0.7514\n",
            "Epoch 115/500\n",
            "44/44 [==============================] - 0s 5ms/step - loss: 0.8790 - accuracy: 0.7495 - val_loss: 0.9795 - val_accuracy: 0.7533\n",
            "Epoch 116/500\n",
            "44/44 [==============================] - 0s 6ms/step - loss: 0.8865 - accuracy: 0.7448 - val_loss: 0.9760 - val_accuracy: 0.7533\n",
            "Epoch 117/500\n",
            "44/44 [==============================] - 0s 6ms/step - loss: 0.8878 - accuracy: 0.7512 - val_loss: 0.9784 - val_accuracy: 0.7514\n",
            "Epoch 118/500\n",
            "44/44 [==============================] - 0s 6ms/step - loss: 0.8730 - accuracy: 0.7524 - val_loss: 0.9756 - val_accuracy: 0.7571\n",
            "Epoch 119/500\n",
            "44/44 [==============================] - 0s 6ms/step - loss: 0.8780 - accuracy: 0.7495 - val_loss: 0.9739 - val_accuracy: 0.7514\n",
            "Epoch 120/500\n",
            "44/44 [==============================] - 0s 5ms/step - loss: 0.8649 - accuracy: 0.7566 - val_loss: 0.9730 - val_accuracy: 0.7533\n",
            "Epoch 121/500\n",
            "44/44 [==============================] - 0s 5ms/step - loss: 0.8803 - accuracy: 0.7559 - val_loss: 0.9732 - val_accuracy: 0.7533\n",
            "Epoch 122/500\n",
            "44/44 [==============================] - 0s 5ms/step - loss: 0.8611 - accuracy: 0.7550 - val_loss: 0.9701 - val_accuracy: 0.7590\n",
            "Epoch 123/500\n",
            "44/44 [==============================] - 0s 5ms/step - loss: 0.8700 - accuracy: 0.7533 - val_loss: 0.9673 - val_accuracy: 0.7533\n",
            "Epoch 124/500\n",
            "44/44 [==============================] - 0s 6ms/step - loss: 0.8603 - accuracy: 0.7621 - val_loss: 0.9708 - val_accuracy: 0.7533\n",
            "Epoch 125/500\n",
            "44/44 [==============================] - 0s 6ms/step - loss: 0.8633 - accuracy: 0.7600 - val_loss: 0.9672 - val_accuracy: 0.7495\n",
            "Epoch 126/500\n",
            "44/44 [==============================] - 0s 7ms/step - loss: 0.8656 - accuracy: 0.7538 - val_loss: 0.9656 - val_accuracy: 0.7552\n",
            "Epoch 127/500\n",
            "44/44 [==============================] - 0s 6ms/step - loss: 0.8613 - accuracy: 0.7538 - val_loss: 0.9671 - val_accuracy: 0.7514\n",
            "Epoch 128/500\n",
            "44/44 [==============================] - 0s 7ms/step - loss: 0.8510 - accuracy: 0.7597 - val_loss: 0.9637 - val_accuracy: 0.7590\n",
            "Epoch 129/500\n",
            "44/44 [==============================] - 0s 7ms/step - loss: 0.8455 - accuracy: 0.7640 - val_loss: 0.9624 - val_accuracy: 0.7533\n",
            "Epoch 130/500\n",
            "44/44 [==============================] - 0s 8ms/step - loss: 0.8617 - accuracy: 0.7604 - val_loss: 0.9640 - val_accuracy: 0.7571\n",
            "Epoch 131/500\n",
            "44/44 [==============================] - 0s 5ms/step - loss: 0.8363 - accuracy: 0.7652 - val_loss: 0.9629 - val_accuracy: 0.7571\n",
            "Epoch 132/500\n",
            "44/44 [==============================] - 0s 6ms/step - loss: 0.8428 - accuracy: 0.7545 - val_loss: 0.9590 - val_accuracy: 0.7571\n",
            "Epoch 133/500\n",
            "44/44 [==============================] - 0s 5ms/step - loss: 0.8499 - accuracy: 0.7597 - val_loss: 0.9642 - val_accuracy: 0.7552\n",
            "Epoch 134/500\n",
            "44/44 [==============================] - 0s 5ms/step - loss: 0.8410 - accuracy: 0.7635 - val_loss: 0.9585 - val_accuracy: 0.7628\n",
            "Epoch 135/500\n",
            "44/44 [==============================] - 0s 5ms/step - loss: 0.8335 - accuracy: 0.7694 - val_loss: 0.9572 - val_accuracy: 0.7533\n",
            "Epoch 136/500\n",
            "44/44 [==============================] - 0s 5ms/step - loss: 0.8237 - accuracy: 0.7687 - val_loss: 0.9555 - val_accuracy: 0.7590\n",
            "Epoch 137/500\n",
            "44/44 [==============================] - 0s 6ms/step - loss: 0.8500 - accuracy: 0.7571 - val_loss: 0.9570 - val_accuracy: 0.7571\n",
            "Epoch 138/500\n",
            "44/44 [==============================] - 0s 6ms/step - loss: 0.8382 - accuracy: 0.7635 - val_loss: 0.9546 - val_accuracy: 0.7666\n",
            "Epoch 139/500\n",
            "44/44 [==============================] - 0s 6ms/step - loss: 0.8191 - accuracy: 0.7692 - val_loss: 0.9530 - val_accuracy: 0.7590\n",
            "Epoch 140/500\n",
            "44/44 [==============================] - 0s 6ms/step - loss: 0.8279 - accuracy: 0.7671 - val_loss: 0.9565 - val_accuracy: 0.7647\n",
            "Epoch 141/500\n",
            "44/44 [==============================] - 0s 6ms/step - loss: 0.8251 - accuracy: 0.7680 - val_loss: 0.9545 - val_accuracy: 0.7647\n",
            "Epoch 142/500\n",
            "44/44 [==============================] - 0s 6ms/step - loss: 0.8275 - accuracy: 0.7635 - val_loss: 0.9517 - val_accuracy: 0.7647\n",
            "Epoch 143/500\n",
            "44/44 [==============================] - 0s 5ms/step - loss: 0.8381 - accuracy: 0.7652 - val_loss: 0.9498 - val_accuracy: 0.7666\n",
            "Epoch 144/500\n",
            "44/44 [==============================] - 0s 5ms/step - loss: 0.8320 - accuracy: 0.7621 - val_loss: 0.9477 - val_accuracy: 0.7666\n",
            "Epoch 145/500\n",
            "44/44 [==============================] - 0s 5ms/step - loss: 0.8107 - accuracy: 0.7628 - val_loss: 0.9525 - val_accuracy: 0.7609\n",
            "Epoch 146/500\n",
            "44/44 [==============================] - 0s 5ms/step - loss: 0.8168 - accuracy: 0.7740 - val_loss: 0.9475 - val_accuracy: 0.7647\n",
            "Epoch 147/500\n",
            "44/44 [==============================] - 0s 5ms/step - loss: 0.7976 - accuracy: 0.7723 - val_loss: 0.9476 - val_accuracy: 0.7666\n",
            "Epoch 148/500\n",
            "44/44 [==============================] - 0s 5ms/step - loss: 0.8044 - accuracy: 0.7718 - val_loss: 0.9458 - val_accuracy: 0.7647\n",
            "Epoch 149/500\n",
            "44/44 [==============================] - 0s 5ms/step - loss: 0.8136 - accuracy: 0.7647 - val_loss: 0.9462 - val_accuracy: 0.7628\n",
            "Epoch 150/500\n",
            "44/44 [==============================] - 0s 5ms/step - loss: 0.8098 - accuracy: 0.7702 - val_loss: 0.9443 - val_accuracy: 0.7685\n",
            "Epoch 151/500\n",
            "44/44 [==============================] - 0s 6ms/step - loss: 0.8077 - accuracy: 0.7697 - val_loss: 0.9446 - val_accuracy: 0.7647\n",
            "Epoch 152/500\n",
            "44/44 [==============================] - 0s 5ms/step - loss: 0.7978 - accuracy: 0.7654 - val_loss: 0.9451 - val_accuracy: 0.7628\n",
            "Epoch 153/500\n",
            "44/44 [==============================] - 0s 5ms/step - loss: 0.8204 - accuracy: 0.7690 - val_loss: 0.9432 - val_accuracy: 0.7666\n",
            "Epoch 154/500\n",
            "44/44 [==============================] - 0s 5ms/step - loss: 0.7932 - accuracy: 0.7709 - val_loss: 0.9408 - val_accuracy: 0.7666\n",
            "Epoch 155/500\n",
            "44/44 [==============================] - 0s 6ms/step - loss: 0.8000 - accuracy: 0.7668 - val_loss: 0.9421 - val_accuracy: 0.7723\n",
            "Epoch 156/500\n",
            "44/44 [==============================] - 0s 6ms/step - loss: 0.7789 - accuracy: 0.7735 - val_loss: 0.9454 - val_accuracy: 0.7704\n",
            "Epoch 157/500\n",
            "44/44 [==============================] - 0s 5ms/step - loss: 0.7829 - accuracy: 0.7794 - val_loss: 0.9442 - val_accuracy: 0.7704\n",
            "Epoch 158/500\n",
            "44/44 [==============================] - 0s 5ms/step - loss: 0.7999 - accuracy: 0.7725 - val_loss: 0.9405 - val_accuracy: 0.7723\n",
            "Epoch 159/500\n",
            "44/44 [==============================] - 0s 5ms/step - loss: 0.7854 - accuracy: 0.7728 - val_loss: 0.9376 - val_accuracy: 0.7723\n",
            "Epoch 160/500\n",
            "44/44 [==============================] - 0s 5ms/step - loss: 0.7832 - accuracy: 0.7666 - val_loss: 0.9389 - val_accuracy: 0.7761\n",
            "Epoch 161/500\n",
            "44/44 [==============================] - 0s 5ms/step - loss: 0.7879 - accuracy: 0.7725 - val_loss: 0.9368 - val_accuracy: 0.7723\n",
            "Epoch 162/500\n",
            "44/44 [==============================] - 0s 5ms/step - loss: 0.8042 - accuracy: 0.7657 - val_loss: 0.9389 - val_accuracy: 0.7704\n",
            "Epoch 163/500\n",
            "44/44 [==============================] - 0s 5ms/step - loss: 0.7928 - accuracy: 0.7723 - val_loss: 0.9379 - val_accuracy: 0.7723\n",
            "Epoch 164/500\n",
            "44/44 [==============================] - 0s 6ms/step - loss: 0.7908 - accuracy: 0.7716 - val_loss: 0.9304 - val_accuracy: 0.7704\n",
            "Epoch 165/500\n",
            "44/44 [==============================] - 0s 5ms/step - loss: 0.7906 - accuracy: 0.7773 - val_loss: 0.9388 - val_accuracy: 0.7742\n",
            "Epoch 166/500\n",
            "44/44 [==============================] - 0s 5ms/step - loss: 0.7565 - accuracy: 0.7801 - val_loss: 0.9310 - val_accuracy: 0.7780\n",
            "Epoch 167/500\n",
            "44/44 [==============================] - 0s 5ms/step - loss: 0.7718 - accuracy: 0.7754 - val_loss: 0.9301 - val_accuracy: 0.7799\n",
            "Epoch 168/500\n",
            "44/44 [==============================] - 0s 7ms/step - loss: 0.7771 - accuracy: 0.7773 - val_loss: 0.9333 - val_accuracy: 0.7780\n",
            "Epoch 169/500\n",
            "44/44 [==============================] - 0s 7ms/step - loss: 0.7641 - accuracy: 0.7770 - val_loss: 0.9314 - val_accuracy: 0.7799\n",
            "Epoch 170/500\n",
            "44/44 [==============================] - 0s 7ms/step - loss: 0.7738 - accuracy: 0.7766 - val_loss: 0.9338 - val_accuracy: 0.7761\n",
            "Epoch 171/500\n",
            "44/44 [==============================] - 0s 6ms/step - loss: 0.7562 - accuracy: 0.7763 - val_loss: 0.9292 - val_accuracy: 0.7780\n",
            "Epoch 172/500\n",
            "44/44 [==============================] - 0s 7ms/step - loss: 0.7584 - accuracy: 0.7823 - val_loss: 0.9290 - val_accuracy: 0.7780\n",
            "Epoch 173/500\n",
            "44/44 [==============================] - 0s 6ms/step - loss: 0.7692 - accuracy: 0.7773 - val_loss: 0.9261 - val_accuracy: 0.7818\n",
            "Epoch 174/500\n",
            "44/44 [==============================] - 0s 6ms/step - loss: 0.7755 - accuracy: 0.7747 - val_loss: 0.9252 - val_accuracy: 0.7761\n",
            "Epoch 175/500\n",
            "44/44 [==============================] - 0s 5ms/step - loss: 0.7695 - accuracy: 0.7754 - val_loss: 0.9270 - val_accuracy: 0.7761\n",
            "Epoch 176/500\n",
            "44/44 [==============================] - 0s 5ms/step - loss: 0.7880 - accuracy: 0.7713 - val_loss: 0.9272 - val_accuracy: 0.7856\n",
            "Epoch 177/500\n",
            "44/44 [==============================] - 0s 5ms/step - loss: 0.7561 - accuracy: 0.7813 - val_loss: 0.9276 - val_accuracy: 0.7799\n",
            "Epoch 178/500\n",
            "44/44 [==============================] - 0s 6ms/step - loss: 0.7476 - accuracy: 0.7813 - val_loss: 0.9275 - val_accuracy: 0.7780\n",
            "Epoch 179/500\n",
            "44/44 [==============================] - 0s 5ms/step - loss: 0.7723 - accuracy: 0.7723 - val_loss: 0.9242 - val_accuracy: 0.7799\n",
            "Epoch 180/500\n",
            "44/44 [==============================] - 0s 5ms/step - loss: 0.7653 - accuracy: 0.7759 - val_loss: 0.9248 - val_accuracy: 0.7818\n",
            "Epoch 181/500\n",
            "44/44 [==============================] - 0s 6ms/step - loss: 0.7552 - accuracy: 0.7832 - val_loss: 0.9254 - val_accuracy: 0.7780\n",
            "Epoch 182/500\n",
            "44/44 [==============================] - 0s 5ms/step - loss: 0.7599 - accuracy: 0.7759 - val_loss: 0.9273 - val_accuracy: 0.7780\n",
            "Epoch 183/500\n",
            "44/44 [==============================] - 0s 5ms/step - loss: 0.7596 - accuracy: 0.7818 - val_loss: 0.9218 - val_accuracy: 0.7818\n",
            "Epoch 184/500\n",
            "44/44 [==============================] - 0s 5ms/step - loss: 0.7482 - accuracy: 0.7882 - val_loss: 0.9250 - val_accuracy: 0.7818\n",
            "Epoch 185/500\n",
            "44/44 [==============================] - 0s 5ms/step - loss: 0.7547 - accuracy: 0.7880 - val_loss: 0.9247 - val_accuracy: 0.7761\n",
            "Epoch 186/500\n",
            "44/44 [==============================] - 0s 5ms/step - loss: 0.7440 - accuracy: 0.7813 - val_loss: 0.9253 - val_accuracy: 0.7799\n",
            "Epoch 187/500\n",
            "44/44 [==============================] - 0s 6ms/step - loss: 0.7352 - accuracy: 0.7891 - val_loss: 0.9230 - val_accuracy: 0.7799\n",
            "Epoch 188/500\n",
            "44/44 [==============================] - 0s 5ms/step - loss: 0.7435 - accuracy: 0.7775 - val_loss: 0.9206 - val_accuracy: 0.7818\n",
            "Epoch 189/500\n",
            "44/44 [==============================] - 0s 5ms/step - loss: 0.7600 - accuracy: 0.7775 - val_loss: 0.9237 - val_accuracy: 0.7818\n",
            "Epoch 190/500\n",
            "44/44 [==============================] - 0s 6ms/step - loss: 0.7350 - accuracy: 0.7913 - val_loss: 0.9205 - val_accuracy: 0.7818\n",
            "Epoch 191/500\n",
            "44/44 [==============================] - 0s 5ms/step - loss: 0.7407 - accuracy: 0.7894 - val_loss: 0.9193 - val_accuracy: 0.7818\n",
            "Epoch 192/500\n",
            "44/44 [==============================] - 0s 5ms/step - loss: 0.7499 - accuracy: 0.7830 - val_loss: 0.9163 - val_accuracy: 0.7875\n",
            "Epoch 193/500\n",
            "44/44 [==============================] - 0s 6ms/step - loss: 0.7405 - accuracy: 0.7806 - val_loss: 0.9194 - val_accuracy: 0.7799\n",
            "Epoch 194/500\n",
            "44/44 [==============================] - 0s 6ms/step - loss: 0.7461 - accuracy: 0.7837 - val_loss: 0.9199 - val_accuracy: 0.7818\n",
            "Epoch 195/500\n",
            "44/44 [==============================] - 0s 5ms/step - loss: 0.7429 - accuracy: 0.7794 - val_loss: 0.9139 - val_accuracy: 0.7818\n",
            "Epoch 196/500\n",
            "44/44 [==============================] - 0s 5ms/step - loss: 0.7306 - accuracy: 0.7891 - val_loss: 0.9184 - val_accuracy: 0.7799\n",
            "Epoch 197/500\n",
            "44/44 [==============================] - 0s 6ms/step - loss: 0.7308 - accuracy: 0.7849 - val_loss: 0.9183 - val_accuracy: 0.7818\n",
            "Epoch 198/500\n",
            "44/44 [==============================] - 0s 5ms/step - loss: 0.7382 - accuracy: 0.7811 - val_loss: 0.9160 - val_accuracy: 0.7818\n",
            "Epoch 199/500\n",
            "44/44 [==============================] - 0s 5ms/step - loss: 0.7202 - accuracy: 0.7970 - val_loss: 0.9112 - val_accuracy: 0.7875\n",
            "Epoch 200/500\n",
            "44/44 [==============================] - 0s 6ms/step - loss: 0.7179 - accuracy: 0.7868 - val_loss: 0.9131 - val_accuracy: 0.7856\n",
            "Epoch 201/500\n",
            "44/44 [==============================] - 0s 5ms/step - loss: 0.7162 - accuracy: 0.7839 - val_loss: 0.9188 - val_accuracy: 0.7875\n",
            "Epoch 202/500\n",
            "44/44 [==============================] - 0s 6ms/step - loss: 0.7301 - accuracy: 0.7908 - val_loss: 0.9176 - val_accuracy: 0.7856\n",
            "Epoch 203/500\n",
            "44/44 [==============================] - 0s 5ms/step - loss: 0.7402 - accuracy: 0.7861 - val_loss: 0.9102 - val_accuracy: 0.7818\n",
            "Epoch 204/500\n",
            "44/44 [==============================] - 0s 6ms/step - loss: 0.7263 - accuracy: 0.7794 - val_loss: 0.9157 - val_accuracy: 0.7837\n",
            "Epoch 205/500\n",
            "44/44 [==============================] - 0s 5ms/step - loss: 0.7246 - accuracy: 0.7915 - val_loss: 0.9101 - val_accuracy: 0.7837\n",
            "Epoch 206/500\n",
            "44/44 [==============================] - 0s 5ms/step - loss: 0.7173 - accuracy: 0.7910 - val_loss: 0.9137 - val_accuracy: 0.7875\n",
            "Epoch 207/500\n",
            "44/44 [==============================] - 0s 5ms/step - loss: 0.7223 - accuracy: 0.7901 - val_loss: 0.9098 - val_accuracy: 0.7856\n",
            "Epoch 208/500\n",
            "44/44 [==============================] - 0s 6ms/step - loss: 0.7111 - accuracy: 0.7998 - val_loss: 0.9093 - val_accuracy: 0.7875\n",
            "Epoch 209/500\n",
            "44/44 [==============================] - 0s 6ms/step - loss: 0.7039 - accuracy: 0.7901 - val_loss: 0.9113 - val_accuracy: 0.7837\n",
            "Epoch 210/500\n",
            "44/44 [==============================] - 0s 6ms/step - loss: 0.7000 - accuracy: 0.7925 - val_loss: 0.9089 - val_accuracy: 0.7856\n",
            "Epoch 211/500\n",
            "44/44 [==============================] - 0s 7ms/step - loss: 0.7147 - accuracy: 0.7882 - val_loss: 0.9097 - val_accuracy: 0.7875\n",
            "Epoch 212/500\n",
            "44/44 [==============================] - 0s 8ms/step - loss: 0.7056 - accuracy: 0.8000 - val_loss: 0.9050 - val_accuracy: 0.7894\n",
            "Epoch 213/500\n",
            "44/44 [==============================] - 0s 8ms/step - loss: 0.6986 - accuracy: 0.7977 - val_loss: 0.9094 - val_accuracy: 0.7780\n",
            "Epoch 214/500\n",
            "44/44 [==============================] - 0s 7ms/step - loss: 0.7148 - accuracy: 0.7887 - val_loss: 0.9023 - val_accuracy: 0.7856\n",
            "Epoch 215/500\n",
            "44/44 [==============================] - 0s 6ms/step - loss: 0.7003 - accuracy: 0.7960 - val_loss: 0.9063 - val_accuracy: 0.7856\n",
            "Epoch 216/500\n",
            "44/44 [==============================] - 0s 6ms/step - loss: 0.6950 - accuracy: 0.8019 - val_loss: 0.9094 - val_accuracy: 0.7837\n",
            "Epoch 217/500\n",
            "44/44 [==============================] - 0s 5ms/step - loss: 0.6953 - accuracy: 0.7972 - val_loss: 0.9132 - val_accuracy: 0.7799\n",
            "Epoch 218/500\n",
            "44/44 [==============================] - 0s 6ms/step - loss: 0.7148 - accuracy: 0.7811 - val_loss: 0.9133 - val_accuracy: 0.7799\n",
            "Epoch 219/500\n",
            "44/44 [==============================] - 0s 5ms/step - loss: 0.7008 - accuracy: 0.8000 - val_loss: 0.9083 - val_accuracy: 0.7799\n",
            "Epoch 220/500\n",
            "44/44 [==============================] - 0s 6ms/step - loss: 0.7076 - accuracy: 0.7941 - val_loss: 0.9057 - val_accuracy: 0.7799\n",
            "Epoch 221/500\n",
            "44/44 [==============================] - 0s 5ms/step - loss: 0.6985 - accuracy: 0.7917 - val_loss: 0.9124 - val_accuracy: 0.7761\n",
            "Epoch 222/500\n",
            "44/44 [==============================] - 0s 5ms/step - loss: 0.6965 - accuracy: 0.7955 - val_loss: 0.9093 - val_accuracy: 0.7818\n",
            "Epoch 223/500\n",
            "44/44 [==============================] - 0s 5ms/step - loss: 0.7012 - accuracy: 0.7894 - val_loss: 0.9040 - val_accuracy: 0.7837\n",
            "Epoch 224/500\n",
            "44/44 [==============================] - 0s 6ms/step - loss: 0.6869 - accuracy: 0.7981 - val_loss: 0.9048 - val_accuracy: 0.7856\n",
            "Epoch 225/500\n",
            "44/44 [==============================] - 0s 6ms/step - loss: 0.6839 - accuracy: 0.8017 - val_loss: 0.9059 - val_accuracy: 0.7799\n",
            "Epoch 226/500\n",
            "44/44 [==============================] - 0s 5ms/step - loss: 0.7061 - accuracy: 0.7908 - val_loss: 0.9007 - val_accuracy: 0.7799\n",
            "Epoch 227/500\n",
            "44/44 [==============================] - 0s 6ms/step - loss: 0.6969 - accuracy: 0.7967 - val_loss: 0.9011 - val_accuracy: 0.7780\n",
            "Epoch 228/500\n",
            "44/44 [==============================] - 0s 6ms/step - loss: 0.6998 - accuracy: 0.7910 - val_loss: 0.9021 - val_accuracy: 0.7856\n",
            "Epoch 229/500\n",
            "44/44 [==============================] - 0s 5ms/step - loss: 0.7033 - accuracy: 0.7913 - val_loss: 0.9028 - val_accuracy: 0.7799\n",
            "Epoch 230/500\n",
            "44/44 [==============================] - 0s 5ms/step - loss: 0.6891 - accuracy: 0.7948 - val_loss: 0.9041 - val_accuracy: 0.7799\n",
            "Epoch 231/500\n",
            "44/44 [==============================] - 0s 6ms/step - loss: 0.7005 - accuracy: 0.7908 - val_loss: 0.8994 - val_accuracy: 0.7799\n",
            "Epoch 232/500\n",
            "44/44 [==============================] - 0s 6ms/step - loss: 0.6745 - accuracy: 0.7955 - val_loss: 0.8988 - val_accuracy: 0.7837\n",
            "Epoch 233/500\n",
            "44/44 [==============================] - 0s 5ms/step - loss: 0.6944 - accuracy: 0.7948 - val_loss: 0.8985 - val_accuracy: 0.7742\n",
            "Epoch 234/500\n",
            "44/44 [==============================] - 0s 5ms/step - loss: 0.6862 - accuracy: 0.7998 - val_loss: 0.9003 - val_accuracy: 0.7761\n",
            "Epoch 235/500\n",
            "44/44 [==============================] - 0s 5ms/step - loss: 0.6945 - accuracy: 0.7977 - val_loss: 0.9016 - val_accuracy: 0.7818\n",
            "Epoch 236/500\n",
            "44/44 [==============================] - 0s 5ms/step - loss: 0.6857 - accuracy: 0.8005 - val_loss: 0.8988 - val_accuracy: 0.7799\n",
            "Epoch 237/500\n",
            "44/44 [==============================] - 0s 5ms/step - loss: 0.6641 - accuracy: 0.8027 - val_loss: 0.8995 - val_accuracy: 0.7780\n",
            "Epoch 238/500\n",
            "44/44 [==============================] - 0s 5ms/step - loss: 0.6849 - accuracy: 0.7972 - val_loss: 0.9041 - val_accuracy: 0.7799\n",
            "Epoch 239/500\n",
            "44/44 [==============================] - 0s 5ms/step - loss: 0.6789 - accuracy: 0.7974 - val_loss: 0.9026 - val_accuracy: 0.7837\n",
            "Epoch 240/500\n",
            "44/44 [==============================] - 0s 5ms/step - loss: 0.6733 - accuracy: 0.8034 - val_loss: 0.9014 - val_accuracy: 0.7780\n",
            "Epoch 241/500\n",
            "44/44 [==============================] - 0s 6ms/step - loss: 0.6843 - accuracy: 0.7925 - val_loss: 0.9017 - val_accuracy: 0.7761\n",
            "Epoch 242/500\n",
            "44/44 [==============================] - 0s 6ms/step - loss: 0.6719 - accuracy: 0.8060 - val_loss: 0.8995 - val_accuracy: 0.7761\n",
            "Epoch 243/500\n",
            "44/44 [==============================] - 0s 6ms/step - loss: 0.6793 - accuracy: 0.8100 - val_loss: 0.8955 - val_accuracy: 0.7856\n",
            "Epoch 244/500\n",
            "44/44 [==============================] - 0s 6ms/step - loss: 0.6849 - accuracy: 0.7981 - val_loss: 0.9004 - val_accuracy: 0.7780\n",
            "Epoch 245/500\n",
            "44/44 [==============================] - 0s 5ms/step - loss: 0.6645 - accuracy: 0.8072 - val_loss: 0.9046 - val_accuracy: 0.7761\n",
            "Epoch 246/500\n",
            "44/44 [==============================] - 0s 6ms/step - loss: 0.6815 - accuracy: 0.8005 - val_loss: 0.9015 - val_accuracy: 0.7761\n",
            "Epoch 247/500\n",
            "44/44 [==============================] - 0s 6ms/step - loss: 0.6819 - accuracy: 0.7939 - val_loss: 0.8929 - val_accuracy: 0.7799\n",
            "Epoch 248/500\n",
            "44/44 [==============================] - 0s 6ms/step - loss: 0.6430 - accuracy: 0.8145 - val_loss: 0.8941 - val_accuracy: 0.7856\n",
            "Epoch 249/500\n",
            "44/44 [==============================] - 0s 6ms/step - loss: 0.6658 - accuracy: 0.7977 - val_loss: 0.8977 - val_accuracy: 0.7837\n",
            "Epoch 250/500\n",
            "44/44 [==============================] - 0s 6ms/step - loss: 0.6662 - accuracy: 0.8022 - val_loss: 0.9041 - val_accuracy: 0.7818\n",
            "Epoch 251/500\n",
            "44/44 [==============================] - 0s 6ms/step - loss: 0.6694 - accuracy: 0.7991 - val_loss: 0.9017 - val_accuracy: 0.7875\n",
            "Epoch 252/500\n",
            "44/44 [==============================] - 0s 6ms/step - loss: 0.6624 - accuracy: 0.8074 - val_loss: 0.8964 - val_accuracy: 0.7837\n",
            "Epoch 253/500\n",
            "44/44 [==============================] - 0s 6ms/step - loss: 0.6725 - accuracy: 0.8074 - val_loss: 0.8967 - val_accuracy: 0.7818\n",
            "Epoch 254/500\n",
            "44/44 [==============================] - 0s 7ms/step - loss: 0.6665 - accuracy: 0.8129 - val_loss: 0.8954 - val_accuracy: 0.7818\n",
            "Epoch 255/500\n",
            "44/44 [==============================] - 0s 7ms/step - loss: 0.6761 - accuracy: 0.7974 - val_loss: 0.8937 - val_accuracy: 0.7856\n",
            "Epoch 256/500\n",
            "44/44 [==============================] - 0s 7ms/step - loss: 0.6519 - accuracy: 0.8093 - val_loss: 0.8966 - val_accuracy: 0.7780\n",
            "Epoch 257/500\n",
            "44/44 [==============================] - 0s 7ms/step - loss: 0.6636 - accuracy: 0.8069 - val_loss: 0.8950 - val_accuracy: 0.7837\n",
            "Epoch 258/500\n",
            "44/44 [==============================] - 0s 6ms/step - loss: 0.6522 - accuracy: 0.8057 - val_loss: 0.8989 - val_accuracy: 0.7913\n",
            "Epoch 259/500\n",
            "44/44 [==============================] - 0s 6ms/step - loss: 0.6628 - accuracy: 0.8081 - val_loss: 0.9040 - val_accuracy: 0.7799\n",
            "Epoch 260/500\n",
            "44/44 [==============================] - 0s 6ms/step - loss: 0.6402 - accuracy: 0.8148 - val_loss: 0.8967 - val_accuracy: 0.7818\n",
            "Epoch 261/500\n",
            "44/44 [==============================] - 0s 5ms/step - loss: 0.6479 - accuracy: 0.8076 - val_loss: 0.8984 - val_accuracy: 0.7856\n",
            "Epoch 262/500\n",
            "44/44 [==============================] - 0s 6ms/step - loss: 0.6518 - accuracy: 0.8012 - val_loss: 0.8995 - val_accuracy: 0.7818\n",
            "Epoch 263/500\n",
            "44/44 [==============================] - 0s 6ms/step - loss: 0.6382 - accuracy: 0.8072 - val_loss: 0.8970 - val_accuracy: 0.7856\n",
            "Epoch 264/500\n",
            "44/44 [==============================] - 0s 6ms/step - loss: 0.6484 - accuracy: 0.8098 - val_loss: 0.8981 - val_accuracy: 0.7780\n",
            "Epoch 265/500\n",
            "44/44 [==============================] - 0s 6ms/step - loss: 0.6466 - accuracy: 0.8079 - val_loss: 0.8990 - val_accuracy: 0.7799\n",
            "Epoch 266/500\n",
            "44/44 [==============================] - 0s 6ms/step - loss: 0.6505 - accuracy: 0.8112 - val_loss: 0.8950 - val_accuracy: 0.7799\n",
            "Epoch 267/500\n",
            "44/44 [==============================] - 0s 6ms/step - loss: 0.6443 - accuracy: 0.8069 - val_loss: 0.8981 - val_accuracy: 0.7818\n",
            "Epoch 267: early stopping\n",
            "6/6 [==============================] - 0s 5ms/step - loss: 0.8510 - accuracy: 0.7856\n",
            "Model Loss:  0.8509994745254517\n",
            "Model Accuracy:  0.785578727722168\n"
          ]
        },
        {
          "output_type": "display_data",
          "data": {
            "text/plain": [
              "<Figure size 432x288 with 1 Axes>"
            ],
            "image/png": "[encoded data removed]"
          },
          "metadata": {
            "needs_background": "light"
          }
        },
        {
          "output_type": "display_data",
          "data": {
            "text/plain": [
              "<Figure size 432x288 with 1 Axes>"
            ],
            "image/png": "[encoded data removed]"
          },
          "metadata": {
            "needs_background": "light"
          }
        }
      ]
    },
    {
      "cell_type": "markdown",
      "source": [
        "The results are much better! We can test different models and test the results. The best way is to use Random Search again and tune the parameters."
      ],
      "metadata": {
        "id": "mebT4zlSIff3"
      }
    },
    {
      "cell_type": "markdown",
      "source": [
        "## Using Bidirectional LSTM Layers\n",
        "A Bidirectional LSTM (Long Short-Term Memory) is a type of recurrent neural network (RNN) that uses two separate hidden states for each time step. Unlike a traditional RNN that only considers the past context of a sequence, a bidirectional LSTM takes into account both past and future contexts, by processing the input sequence in both forward and backward directions.\n",
        "\n",
        "In a bidirectional LSTM, the input sequence is first processed in the forward direction by one set of hidden units, and then processed in the backward direction by another set of hidden units. The output of each time step from both directions is then concatenated to obtain the final output sequence. The bidirectional nature of the LSTM allows it to capture both local and global dependencies in the input sequence, making it useful for tasks such as speech recognition, natural language processing, and time series prediction.\n",
        "\n",
        "The use of two separate hidden states in a bidirectional LSTM makes it more effective at handling long-term dependencies in the input sequence than a traditional LSTM. The forward hidden state captures information from the past context, while the backward hidden state captures information from the future context. This allows the bidirectional LSTM to better capture complex patterns in the input sequence, such as syntactic and semantic relationships between words in a sentence or patterns in a time series."
      ],
      "metadata": {
        "id": "Ky9qx24gJGFn"
      }
    },
    {
      "cell_type": "markdown",
      "source": [
        "### Building the Model\n",
        "I added two bidirectional LSTM layers to the model"
      ],
      "metadata": {
        "id": "DsnKrFdAJVYW"
      }
    },
    {
      "cell_type": "code",
      "source": [
        "# model build\n",
        "model_bilstm = keras.Sequential([\n",
        "  layers.Embedding(max_features + 1, embedding_dim),\n",
        "  layers.Bidirectional(layers.LSTM(128, return_sequences=True, )),\n",
        "  layers.Bidirectional(layers.LSTM(64)),\n",
        "  layers.Dense(num_of_labels)])\n",
        "model_bilstm.summary()"
      ],
      "metadata": {
        "id": "8xCCeiqhIhR_",
        "outputId": "1c97851a-2105-417e-ce0a-060fedb90b32",
        "colab": {
          "base_uri": "https://localhost:8080/"
        }
      },
      "execution_count": 186,
      "outputs": [
        {
          "output_type": "stream",
          "name": "stdout",
          "text": [
            "Model: \"sequential_25\"\n",
            "_________________________________________________________________\n",
            " Layer (type)                Output Shape              Param #   \n",
            "=================================================================\n",
            " embedding_21 (Embedding)    (None, None, 144)         2736144   \n",
            "                                                                 \n",
            " bidirectional_4 (Bidirectio  (None, None, 256)        279552    \n",
            " nal)                                                            \n",
            "                                                                 \n",
            " bidirectional_5 (Bidirectio  (None, 128)              164352    \n",
            " nal)                                                            \n",
            "                                                                 \n",
            " dense_38 (Dense)            (None, 20)                2580      \n",
            "                                                                 \n",
            "=================================================================\n",
            "Total params: 3,182,628\n",
            "Trainable params: 3,182,628\n",
            "Non-trainable params: 0\n",
            "_________________________________________________________________\n"
          ]
        }
      ]
    },
    {
      "cell_type": "code",
      "source": [
        "# model compilation\n",
        "model_bilstm.compile(optimizer='adam',\n",
        "              loss=tf.keras.losses.SparseCategoricalCrossentropy(from_logits=True),\n",
        "              metrics=['accuracy'])"
      ],
      "metadata": {
        "id": "h6Y9RbrqJpv8"
      },
      "execution_count": 187,
      "outputs": []
    },
    {
      "cell_type": "markdown",
      "source": [
        "### Training the Model\n",
        "Fitting the model on our database and getting the results."
      ],
      "metadata": {
        "id": "k4crsrR7J1PS"
      }
    },
    {
      "cell_type": "code",
      "source": [
        "# training the model\n",
        "epochs = 500\n",
        "\n",
        "callback = tf.keras.callbacks.EarlyStopping(monitor='val_loss',\n",
        "                                            patience=5,\n",
        "                                            verbose=1)\n",
        "\n",
        "history = model_bilstm.fit(final_ds['train_ds'],\n",
        "                    validation_data=final_ds['val_ds'],\n",
        "                    epochs=epochs,\n",
        "                    callbacks=[callback])"
      ],
      "metadata": {
        "id": "nCpVdFf_JyyX",
        "outputId": "a9b8a2a3-cff7-4380-da63-d62b9e32061e",
        "colab": {
          "base_uri": "https://localhost:8080/"
        }
      },
      "execution_count": 188,
      "outputs": [
        {
          "output_type": "stream",
          "name": "stdout",
          "text": [
            "Epoch 1/500\n",
            "44/44 [==============================] - 18s 237ms/step - loss: 2.6954 - accuracy: 0.1796 - val_loss: 2.4730 - val_accuracy: 0.2315\n",
            "Epoch 2/500\n",
            "44/44 [==============================] - 3s 72ms/step - loss: 1.8151 - accuracy: 0.4962 - val_loss: 1.3703 - val_accuracy: 0.6546\n",
            "Epoch 3/500\n",
            "44/44 [==============================] - 3s 71ms/step - loss: 0.7823 - accuracy: 0.8036 - val_loss: 1.2391 - val_accuracy: 0.6698\n",
            "Epoch 4/500\n",
            "44/44 [==============================] - 3s 76ms/step - loss: 0.3882 - accuracy: 0.8971 - val_loss: 1.1547 - val_accuracy: 0.7097\n",
            "Epoch 5/500\n",
            "44/44 [==============================] - 3s 72ms/step - loss: 0.2307 - accuracy: 0.9433 - val_loss: 1.2432 - val_accuracy: 0.7002\n",
            "Epoch 6/500\n",
            "44/44 [==============================] - 3s 77ms/step - loss: 0.1238 - accuracy: 0.9732 - val_loss: 1.3331 - val_accuracy: 0.7040\n",
            "Epoch 7/500\n",
            "44/44 [==============================] - 4s 90ms/step - loss: 0.0746 - accuracy: 0.9877 - val_loss: 1.4255 - val_accuracy: 0.6736\n",
            "Epoch 8/500\n",
            "44/44 [==============================] - 4s 87ms/step - loss: 0.0542 - accuracy: 0.9905 - val_loss: 1.5724 - val_accuracy: 0.6755\n",
            "Epoch 9/500\n",
            "44/44 [==============================] - 3s 72ms/step - loss: 0.0496 - accuracy: 0.9934 - val_loss: 1.5131 - val_accuracy: 0.6983\n",
            "Epoch 9: early stopping\n"
          ]
        }
      ]
    },
    {
      "cell_type": "markdown",
      "source": [
        "### Testing and Visualizing the Bidirectional LSTM Model"
      ],
      "metadata": {
        "id": "nDZDtwwvLNO1"
      }
    },
    {
      "cell_type": "code",
      "source": [
        "evaluate_and_visualize(model_bilstm, final_ds['test_ds'], history)"
      ],
      "metadata": {
        "id": "I8WID7PUJ8g2",
        "outputId": "f804d4f4-5d3f-4f8f-e6a1-1053ba7facdf",
        "colab": {
          "base_uri": "https://localhost:8080/",
          "height": 627
        }
      },
      "execution_count": 189,
      "outputs": [
        {
          "output_type": "stream",
          "name": "stdout",
          "text": [
            "6/6 [==============================] - 0s 48ms/step - loss: 1.6221 - accuracy: 0.6698\n",
            "Model Loss:  1.6220659017562866\n",
            "Model Accuracy:  0.669829249382019\n"
          ]
        },
        {
          "output_type": "display_data",
          "data": {
            "text/plain": [
              "<Figure size 432x288 with 1 Axes>"
            ],
            "image/png": "[encoded data removed]"
          },
          "metadata": {
            "needs_background": "light"
          }
        },
        {
          "output_type": "display_data",
          "data": {
            "text/plain": [
              "<Figure size 432x288 with 1 Axes>"
            ],
            "image/png": "[encoded data removed]"
          },
          "metadata": {
            "needs_background": "light"
          }
        }
      ]
    },
    {
      "cell_type": "markdown",
      "source": [
        "Maybe we need to simplify the model."
      ],
      "metadata": {
        "id": "iiTFBVLmLoXh"
      }
    },
    {
      "cell_type": "markdown",
      "source": [
        "### Simplifying the Model"
      ],
      "metadata": {
        "id": "7xGlmBAQLsJ6"
      }
    },
    {
      "cell_type": "code",
      "source": [
        "# model build\n",
        "model_bilstm = keras.Sequential([\n",
        "  layers.Embedding(max_features + 1, embedding_dim),\n",
        "  layers.Bidirectional(layers.LSTM(128)),\n",
        "  layers.Dense(num_of_labels)])\n",
        "model_bilstm.summary()\n",
        "\n",
        "# model compilation\n",
        "model_bilstm.compile(optimizer='adam',\n",
        "              loss=tf.keras.losses.SparseCategoricalCrossentropy(from_logits=True),\n",
        "              metrics=['accuracy'])\n",
        "\n",
        "# training the model\n",
        "epochs = 500\n",
        "\n",
        "callback = tf.keras.callbacks.EarlyStopping(monitor='val_loss',\n",
        "                                            patience=5,\n",
        "                                            verbose=1)\n",
        "\n",
        "history = model_bilstm.fit(final_ds['train_ds'],\n",
        "                    validation_data=final_ds['val_ds'],\n",
        "                    epochs=epochs,\n",
        "                    callbacks=[callback])\n",
        "\n",
        "evaluate_and_visualize(model_bilstm, final_ds['test_ds'], history)"
      ],
      "metadata": {
        "id": "QfXrFtu6Lq1b",
        "outputId": "3fba1c2f-9570-4605-ac04-1eaf4e82e227",
        "colab": {
          "base_uri": "https://localhost:8080/",
          "height": 1000
        }
      },
      "execution_count": 191,
      "outputs": [
        {
          "output_type": "stream",
          "name": "stdout",
          "text": [
            "Model: \"sequential_27\"\n",
            "_________________________________________________________________\n",
            " Layer (type)                Output Shape              Param #   \n",
            "=================================================================\n",
            " embedding_23 (Embedding)    (None, None, 144)         2736144   \n",
            "                                                                 \n",
            " bidirectional_7 (Bidirectio  (None, 256)              279552    \n",
            " nal)                                                            \n",
            "                                                                 \n",
            " dense_40 (Dense)            (None, 20)                5140      \n",
            "                                                                 \n",
            "=================================================================\n",
            "Total params: 3,020,836\n",
            "Trainable params: 3,020,836\n",
            "Non-trainable params: 0\n",
            "_________________________________________________________________\n",
            "Epoch 1/500\n",
            "44/44 [==============================] - 12s 156ms/step - loss: 2.7236 - accuracy: 0.1805 - val_loss: 2.5990 - val_accuracy: 0.1917\n",
            "Epoch 2/500\n",
            "44/44 [==============================] - 2s 42ms/step - loss: 2.3855 - accuracy: 0.3335 - val_loss: 2.0635 - val_accuracy: 0.4326\n",
            "Epoch 3/500\n",
            "44/44 [==============================] - 2s 40ms/step - loss: 1.5722 - accuracy: 0.5963 - val_loss: 1.4964 - val_accuracy: 0.5939\n",
            "Epoch 4/500\n",
            "44/44 [==============================] - 2s 40ms/step - loss: 0.8371 - accuracy: 0.8117 - val_loss: 1.1081 - val_accuracy: 0.7173\n",
            "Epoch 5/500\n",
            "44/44 [==============================] - 2s 42ms/step - loss: 0.3940 - accuracy: 0.9106 - val_loss: 1.0661 - val_accuracy: 0.7268\n",
            "Epoch 6/500\n",
            "44/44 [==============================] - 2s 41ms/step - loss: 0.2473 - accuracy: 0.9490 - val_loss: 0.9093 - val_accuracy: 0.7723\n",
            "Epoch 7/500\n",
            "44/44 [==============================] - 2s 40ms/step - loss: 0.1506 - accuracy: 0.9689 - val_loss: 0.8965 - val_accuracy: 0.7761\n",
            "Epoch 8/500\n",
            "44/44 [==============================] - 2s 41ms/step - loss: 0.0756 - accuracy: 0.9907 - val_loss: 0.8958 - val_accuracy: 0.7894\n",
            "Epoch 9/500\n",
            "44/44 [==============================] - 2s 40ms/step - loss: 0.0341 - accuracy: 0.9976 - val_loss: 0.9846 - val_accuracy: 0.7628\n",
            "Epoch 10/500\n",
            "44/44 [==============================] - 2s 41ms/step - loss: 0.0234 - accuracy: 0.9991 - val_loss: 0.9716 - val_accuracy: 0.7742\n",
            "Epoch 11/500\n",
            "44/44 [==============================] - 2s 41ms/step - loss: 0.0146 - accuracy: 0.9993 - val_loss: 0.9683 - val_accuracy: 0.7951\n",
            "Epoch 12/500\n",
            "44/44 [==============================] - 2s 42ms/step - loss: 0.0140 - accuracy: 0.9979 - val_loss: 1.1123 - val_accuracy: 0.7438\n",
            "Epoch 13/500\n",
            "44/44 [==============================] - 2s 41ms/step - loss: 0.0262 - accuracy: 0.9981 - val_loss: 0.9554 - val_accuracy: 0.7685\n",
            "Epoch 13: early stopping\n",
            "6/6 [==============================] - 0s 15ms/step - loss: 1.0820 - accuracy: 0.7514\n",
            "Model Loss:  1.0820106267929077\n",
            "Model Accuracy:  0.7514231204986572\n"
          ]
        },
        {
          "output_type": "display_data",
          "data": {
            "text/plain": [
              "<Figure size 432x288 with 1 Axes>"
            ],
            "image/png": "[encoded data removed]"
          },
          "metadata": {
            "needs_background": "light"
          }
        },
        {
          "output_type": "display_data",
          "data": {
            "text/plain": [
              "<Figure size 432x288 with 1 Axes>"
            ],
            "image/png": "[encoded data removed]"
          },
          "metadata": {
            "needs_background": "light"
          }
        }
      ]
    },
    {
      "cell_type": "markdown",
      "source": [
        "Much better! Maybe we should also add dropouts!"
      ],
      "metadata": {
        "id": "-numVrI_MVar"
      }
    },
    {
      "cell_type": "code",
      "source": [
        "# model build\n",
        "model_bilstm = keras.Sequential([\n",
        "  layers.Embedding(max_features + 1, embedding_dim),\n",
        "  layers.Dropout(dropout_rate1),\n",
        "  layers.Bidirectional(layers.LSTM(128)),\n",
        "  layers.Dropout(dropout_rate2),\n",
        "  layers.Dense(num_of_labels)])\n",
        "model_bilstm.summary()\n",
        "\n",
        "# model compilation\n",
        "model_bilstm.compile(optimizer='adam',\n",
        "              loss=tf.keras.losses.SparseCategoricalCrossentropy(from_logits=True),\n",
        "              metrics=['accuracy'])\n",
        "\n",
        "# training the model\n",
        "epochs = 500\n",
        "\n",
        "callback = tf.keras.callbacks.EarlyStopping(monitor='val_loss',\n",
        "                                            patience=5,\n",
        "                                            verbose=1)\n",
        "\n",
        "history = model_bilstm.fit(final_ds['train_ds'],\n",
        "                    validation_data=final_ds['val_ds'],\n",
        "                    epochs=epochs,\n",
        "                    callbacks=[callback])\n",
        "\n",
        "evaluate_and_visualize(model_bilstm, final_ds['test_ds'], history)"
      ],
      "metadata": {
        "id": "_DlLw-QuMT-Z",
        "outputId": "c3561ad5-0ca3-4c1d-ee5b-6a0d8fcf22e3",
        "colab": {
          "base_uri": "https://localhost:8080/",
          "height": 1000
        }
      },
      "execution_count": 193,
      "outputs": [
        {
          "output_type": "stream",
          "name": "stdout",
          "text": [
            "Model: \"sequential_28\"\n",
            "_________________________________________________________________\n",
            " Layer (type)                Output Shape              Param #   \n",
            "=================================================================\n",
            " embedding_24 (Embedding)    (None, None, 144)         2736144   \n",
            "                                                                 \n",
            " dropout_30 (Dropout)        (None, None, 144)         0         \n",
            "                                                                 \n",
            " bidirectional_8 (Bidirectio  (None, 256)              279552    \n",
            " nal)                                                            \n",
            "                                                                 \n",
            " dropout_31 (Dropout)        (None, 256)               0         \n",
            "                                                                 \n",
            " dense_41 (Dense)            (None, 20)                5140      \n",
            "                                                                 \n",
            "=================================================================\n",
            "Total params: 3,020,836\n",
            "Trainable params: 3,020,836\n",
            "Non-trainable params: 0\n",
            "_________________________________________________________________\n",
            "Epoch 1/500\n",
            "44/44 [==============================] - 10s 157ms/step - loss: 2.7313 - accuracy: 0.1819 - val_loss: 2.6345 - val_accuracy: 0.1917\n",
            "Epoch 2/500\n",
            "44/44 [==============================] - 2s 41ms/step - loss: 2.3349 - accuracy: 0.3017 - val_loss: 2.1397 - val_accuracy: 0.3871\n",
            "Epoch 3/500\n",
            "44/44 [==============================] - 2s 42ms/step - loss: 2.0813 - accuracy: 0.4483 - val_loss: 1.7956 - val_accuracy: 0.4497\n",
            "Epoch 4/500\n",
            "44/44 [==============================] - 2s 41ms/step - loss: 1.3760 - accuracy: 0.6328 - val_loss: 1.4513 - val_accuracy: 0.6110\n",
            "Epoch 5/500\n",
            "44/44 [==============================] - 2s 41ms/step - loss: 0.8359 - accuracy: 0.8076 - val_loss: 1.1723 - val_accuracy: 0.7040\n",
            "Epoch 6/500\n",
            "44/44 [==============================] - 2s 42ms/step - loss: 0.6542 - accuracy: 0.8392 - val_loss: 1.4351 - val_accuracy: 0.5844\n",
            "Epoch 7/500\n",
            "44/44 [==============================] - 2s 43ms/step - loss: 0.5202 - accuracy: 0.8646 - val_loss: 1.1482 - val_accuracy: 0.6812\n",
            "Epoch 8/500\n",
            "44/44 [==============================] - 2s 43ms/step - loss: 0.3001 - accuracy: 0.9329 - val_loss: 1.1480 - val_accuracy: 0.7211\n",
            "Epoch 9/500\n",
            "44/44 [==============================] - 2s 42ms/step - loss: 0.2135 - accuracy: 0.9630 - val_loss: 1.1052 - val_accuracy: 0.7362\n",
            "Epoch 10/500\n",
            "44/44 [==============================] - 2s 42ms/step - loss: 0.1524 - accuracy: 0.9770 - val_loss: 1.2275 - val_accuracy: 0.6812\n",
            "Epoch 11/500\n",
            "44/44 [==============================] - 2s 43ms/step - loss: 0.1062 - accuracy: 0.9874 - val_loss: 1.1556 - val_accuracy: 0.7211\n",
            "Epoch 12/500\n",
            "44/44 [==============================] - 2s 42ms/step - loss: 0.0711 - accuracy: 0.9929 - val_loss: 1.1454 - val_accuracy: 0.7381\n",
            "Epoch 13/500\n",
            "44/44 [==============================] - 2s 43ms/step - loss: 0.0492 - accuracy: 0.9960 - val_loss: 1.1920 - val_accuracy: 0.7381\n",
            "Epoch 14/500\n",
            "44/44 [==============================] - 2s 42ms/step - loss: 0.0324 - accuracy: 0.9974 - val_loss: 1.2444 - val_accuracy: 0.7438\n",
            "Epoch 14: early stopping\n",
            "6/6 [==============================] - 0s 15ms/step - loss: 1.4561 - accuracy: 0.7135\n",
            "Model Loss:  1.4561125040054321\n",
            "Model Accuracy:  0.7134724855422974\n"
          ]
        },
        {
          "output_type": "display_data",
          "data": {
            "text/plain": [
              "<Figure size 432x288 with 1 Axes>"
            ],
            "image/png": "[encoded data removed]"
          },
          "metadata": {
            "needs_background": "light"
          }
        },
        {
          "output_type": "display_data",
          "data": {
            "text/plain": [
              "<Figure size 432x288 with 1 Axes>"
            ],
            "image/png": "[encoded data removed]"
          },
          "metadata": {
            "needs_background": "light"
          }
        }
      ]
    },
    {
      "cell_type": "markdown",
      "source": [
        "It got worse!\n",
        "What if I remove the first drop out?"
      ],
      "metadata": {
        "id": "Ww0X8w4_MwVA"
      }
    },
    {
      "cell_type": "code",
      "source": [
        "# model build\n",
        "model_bilstm = keras.Sequential([\n",
        "  layers.Embedding(max_features + 1, embedding_dim),\n",
        "  layers.Bidirectional(layers.LSTM(128)),\n",
        "  layers.Dropout(dropout_rate2),\n",
        "  layers.Dense(num_of_labels)])\n",
        "model_bilstm.summary()\n",
        "\n",
        "# model compilation\n",
        "model_bilstm.compile(optimizer='adam',\n",
        "              loss=tf.keras.losses.SparseCategoricalCrossentropy(from_logits=True),\n",
        "              metrics=['accuracy'])\n",
        "\n",
        "# training the model\n",
        "epochs = 500\n",
        "\n",
        "callback = tf.keras.callbacks.EarlyStopping(monitor='val_loss',\n",
        "                                            patience=5,\n",
        "                                            verbose=1)\n",
        "\n",
        "history = model_bilstm.fit(final_ds['train_ds'],\n",
        "                    validation_data=final_ds['val_ds'],\n",
        "                    epochs=epochs,\n",
        "                    callbacks=[callback])\n",
        "\n",
        "evaluate_and_visualize(model_bilstm, final_ds['test_ds'], history)"
      ],
      "metadata": {
        "id": "b6JeANQOM0-J",
        "outputId": "79dfe626-a4e7-4973-a348-9ab0b03670e1",
        "colab": {
          "base_uri": "https://localhost:8080/",
          "height": 1000
        }
      },
      "execution_count": 194,
      "outputs": [
        {
          "output_type": "stream",
          "name": "stdout",
          "text": [
            "Model: \"sequential_29\"\n",
            "_________________________________________________________________\n",
            " Layer (type)                Output Shape              Param #   \n",
            "=================================================================\n",
            " embedding_25 (Embedding)    (None, None, 144)         2736144   \n",
            "                                                                 \n",
            " bidirectional_9 (Bidirectio  (None, 256)              279552    \n",
            " nal)                                                            \n",
            "                                                                 \n",
            " dropout_32 (Dropout)        (None, 256)               0         \n",
            "                                                                 \n",
            " dense_42 (Dense)            (None, 20)                5140      \n",
            "                                                                 \n",
            "=================================================================\n",
            "Total params: 3,020,836\n",
            "Trainable params: 3,020,836\n",
            "Non-trainable params: 0\n",
            "_________________________________________________________________\n",
            "Epoch 1/500\n",
            "44/44 [==============================] - 12s 156ms/step - loss: 2.7224 - accuracy: 0.1831 - val_loss: 2.5636 - val_accuracy: 0.1917\n",
            "Epoch 2/500\n",
            "44/44 [==============================] - 2s 42ms/step - loss: 2.4636 - accuracy: 0.2929 - val_loss: 2.2930 - val_accuracy: 0.3188\n",
            "Epoch 3/500\n",
            "44/44 [==============================] - 2s 40ms/step - loss: 1.9844 - accuracy: 0.3963 - val_loss: 1.8453 - val_accuracy: 0.4725\n",
            "Epoch 4/500\n",
            "44/44 [==============================] - 2s 40ms/step - loss: 1.3499 - accuracy: 0.6871 - val_loss: 1.5307 - val_accuracy: 0.5503\n",
            "Epoch 5/500\n",
            "44/44 [==============================] - 2s 44ms/step - loss: 0.7767 - accuracy: 0.8257 - val_loss: 1.2083 - val_accuracy: 0.6907\n",
            "Epoch 6/500\n",
            "44/44 [==============================] - 2s 41ms/step - loss: 0.3729 - accuracy: 0.9125 - val_loss: 1.1548 - val_accuracy: 0.7154\n",
            "Epoch 7/500\n",
            "44/44 [==============================] - 2s 42ms/step - loss: 0.2080 - accuracy: 0.9644 - val_loss: 1.1307 - val_accuracy: 0.7306\n",
            "Epoch 8/500\n",
            "44/44 [==============================] - 2s 41ms/step - loss: 0.1224 - accuracy: 0.9877 - val_loss: 1.0989 - val_accuracy: 0.7306\n",
            "Epoch 9/500\n",
            "44/44 [==============================] - 2s 42ms/step - loss: 0.0722 - accuracy: 0.9934 - val_loss: 1.1558 - val_accuracy: 0.7400\n",
            "Epoch 10/500\n",
            "44/44 [==============================] - 2s 42ms/step - loss: 0.0356 - accuracy: 0.9979 - val_loss: 1.1686 - val_accuracy: 0.7381\n",
            "Epoch 11/500\n",
            "44/44 [==============================] - 2s 42ms/step - loss: 0.0204 - accuracy: 0.9998 - val_loss: 1.2166 - val_accuracy: 0.7192\n",
            "Epoch 12/500\n",
            "44/44 [==============================] - 2s 42ms/step - loss: 0.0270 - accuracy: 0.9974 - val_loss: 1.1028 - val_accuracy: 0.7343\n",
            "Epoch 13/500\n",
            "44/44 [==============================] - 2s 43ms/step - loss: 0.0167 - accuracy: 0.9991 - val_loss: 1.2378 - val_accuracy: 0.7230\n",
            "Epoch 13: early stopping\n",
            "6/6 [==============================] - 0s 17ms/step - loss: 1.4246 - accuracy: 0.6945\n",
            "Model Loss:  1.4246360063552856\n",
            "Model Accuracy:  0.6944971680641174\n"
          ]
        },
        {
          "output_type": "display_data",
          "data": {
            "text/plain": [
              "<Figure size 432x288 with 1 Axes>"
            ],
            "image/png": "[encoded data removed]"
          },
          "metadata": {
            "needs_background": "light"
          }
        },
        {
          "output_type": "display_data",
          "data": {
            "text/plain": [
              "<Figure size 432x288 with 1 Axes>"
            ],
            "image/png": "[encoded data removed]"
          },
          "metadata": {
            "needs_background": "light"
          }
        }
      ]
    },
    {
      "cell_type": "markdown",
      "source": [
        "Well... It got even worse!"
      ],
      "metadata": {
        "id": "eEz_mbsfNH2V"
      }
    },
    {
      "cell_type": "markdown",
      "source": [
        "## Combining Bidirectional LSTM and Conv1D\n",
        "What if we mix these layers?"
      ],
      "metadata": {
        "id": "1t7MrYbDNlxu"
      }
    },
    {
      "cell_type": "markdown",
      "source": [
        "### Building the Model\n",
        "I'll use a conv1d first and then the bidirectional lstm.\n"
      ],
      "metadata": {
        "id": "2VJqXVxmOBhh"
      }
    },
    {
      "cell_type": "code",
      "source": [
        "model_combined = keras.Sequential([\n",
        "  layers.Embedding(max_features + 1, embedding_dim),\n",
        "  layers.Conv1D(filters=128, kernel_size=5, activation='relu', padding='same'),\n",
        "  layers.MaxPooling1D(pool_size=2),\n",
        "  layers.Bidirectional(layers.LSTM(64)),\n",
        "  layers.Dropout(0.2),\n",
        "  layers.Dense(num_of_labels)\n",
        "])"
      ],
      "metadata": {
        "id": "En2ISLCcM7Zc"
      },
      "execution_count": 197,
      "outputs": []
    },
    {
      "cell_type": "code",
      "source": [
        "# model compilation\n",
        "model_combined.compile(optimizer='adam',\n",
        "              loss=tf.keras.losses.SparseCategoricalCrossentropy(from_logits=True),\n",
        "              metrics=['accuracy'])"
      ],
      "metadata": {
        "id": "qwrKQ5MTOPrR"
      },
      "execution_count": 198,
      "outputs": []
    },
    {
      "cell_type": "markdown",
      "source": [
        "### Training the Model\n",
        "Fitting the model on our database and getting the results."
      ],
      "metadata": {
        "id": "6LiT0RmtOLk6"
      }
    },
    {
      "cell_type": "code",
      "source": [
        "# training the model\n",
        "epochs = 500\n",
        "\n",
        "callback = tf.keras.callbacks.EarlyStopping(monitor='val_loss',\n",
        "                                            patience=5,\n",
        "                                            verbose=1)\n",
        "\n",
        "history = model_combined.fit(final_ds['train_ds'],\n",
        "                    validation_data=final_ds['val_ds'],\n",
        "                    epochs=epochs,\n",
        "                    callbacks=[callback])"
      ],
      "metadata": {
        "id": "BL_2w-EGONag",
        "outputId": "22ec1ed3-2051-405c-ce44-5068ad2a79d7",
        "colab": {
          "base_uri": "https://localhost:8080/"
        }
      },
      "execution_count": 199,
      "outputs": [
        {
          "output_type": "stream",
          "name": "stdout",
          "text": [
            "Epoch 1/500\n",
            "44/44 [==============================] - 11s 134ms/step - loss: 2.7229 - accuracy: 0.1734 - val_loss: 2.4599 - val_accuracy: 0.2410\n",
            "Epoch 2/500\n",
            "44/44 [==============================] - 1s 29ms/step - loss: 1.8793 - accuracy: 0.4680 - val_loss: 1.5081 - val_accuracy: 0.5769\n",
            "Epoch 3/500\n",
            "44/44 [==============================] - 1s 23ms/step - loss: 0.7830 - accuracy: 0.8105 - val_loss: 0.9953 - val_accuracy: 0.7400\n",
            "Epoch 4/500\n",
            "44/44 [==============================] - 1s 23ms/step - loss: 0.3020 - accuracy: 0.9329 - val_loss: 0.9013 - val_accuracy: 0.7818\n",
            "Epoch 5/500\n",
            "44/44 [==============================] - 1s 23ms/step - loss: 0.1392 - accuracy: 0.9782 - val_loss: 0.8981 - val_accuracy: 0.7951\n",
            "Epoch 6/500\n",
            "44/44 [==============================] - 1s 23ms/step - loss: 0.0687 - accuracy: 0.9934 - val_loss: 0.8965 - val_accuracy: 0.7837\n",
            "Epoch 7/500\n",
            "44/44 [==============================] - 1s 23ms/step - loss: 0.0396 - accuracy: 0.9974 - val_loss: 0.8815 - val_accuracy: 0.7875\n",
            "Epoch 8/500\n",
            "44/44 [==============================] - 1s 23ms/step - loss: 0.0240 - accuracy: 0.9991 - val_loss: 0.9030 - val_accuracy: 0.7818\n",
            "Epoch 9/500\n",
            "44/44 [==============================] - 1s 29ms/step - loss: 0.0169 - accuracy: 0.9998 - val_loss: 0.9253 - val_accuracy: 0.7856\n",
            "Epoch 10/500\n",
            "44/44 [==============================] - 1s 31ms/step - loss: 0.0117 - accuracy: 1.0000 - val_loss: 0.9225 - val_accuracy: 0.7913\n",
            "Epoch 11/500\n",
            "44/44 [==============================] - 1s 27ms/step - loss: 0.0091 - accuracy: 1.0000 - val_loss: 0.9309 - val_accuracy: 0.7913\n",
            "Epoch 12/500\n",
            "44/44 [==============================] - 1s 32ms/step - loss: 0.0077 - accuracy: 1.0000 - val_loss: 0.9425 - val_accuracy: 0.7894\n",
            "Epoch 12: early stopping\n"
          ]
        }
      ]
    },
    {
      "cell_type": "markdown",
      "source": [
        "### Testing and Visualizing the Combined Model"
      ],
      "metadata": {
        "id": "kzvzlDCsOZNE"
      }
    },
    {
      "cell_type": "code",
      "source": [
        "evaluate_and_visualize(model_combined, final_ds['test_ds'], history)"
      ],
      "metadata": {
        "id": "1BnDkhWaOZj3",
        "outputId": "8c77a85a-1117-47b7-d02f-fe32b9e7faec",
        "colab": {
          "base_uri": "https://localhost:8080/",
          "height": 627
        }
      },
      "execution_count": 200,
      "outputs": [
        {
          "output_type": "stream",
          "name": "stdout",
          "text": [
            "6/6 [==============================] - 0s 16ms/step - loss: 1.0981 - accuracy: 0.7780\n",
            "Model Loss:  1.0980967283248901\n",
            "Model Accuracy:  0.777988612651825\n"
          ]
        },
        {
          "output_type": "display_data",
          "data": {
            "text/plain": [
              "<Figure size 432x288 with 1 Axes>"
            ],
            "image/png": "[encoded data removed]"
          },
          "metadata": {
            "needs_background": "light"
          }
        },
        {
          "output_type": "display_data",
          "data": {
            "text/plain": [
              "<Figure size 432x288 with 1 Axes>"
            ],
            "image/png": "[encoded data removed]"
          },
          "metadata": {
            "needs_background": "light"
          }
        }
      ]
    },
    {
      "cell_type": "markdown",
      "source": [
        "Not Bad 🤔"
      ],
      "metadata": {
        "id": "uLU6guUPPN8T"
      }
    },
    {
      "cell_type": "markdown",
      "source": [
        "# Conclusion\n",
        "Hyperparameter tuning gave us the best validation accuracy and loss. The model was good enough for our problem and simply needed tuning.\n",
        "On a random generated dataset we got 86.9% validation loss!"
      ],
      "metadata": {
        "id": "EKiHkwabPZso"
      }
    }
  ]
}