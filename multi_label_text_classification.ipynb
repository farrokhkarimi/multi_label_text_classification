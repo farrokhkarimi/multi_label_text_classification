{
  "nbformat": 4,
  "nbformat_minor": 0,
  "metadata": {
    "colab": {
      "provenance": [],
      "include_colab_link": true
    },
    "kernelspec": {
      "name": "python3",
      "display_name": "Python 3"
    },
    "language_info": {
      "name": "python"
    },
    "accelerator": "GPU",
    "gpuClass": "standard"
  },
  "cells": [
    {
      "cell_type": "markdown",
      "metadata": {
        "id": "view-in-github",
        "colab_type": "text"
      },
      "source": [
        "<a href=\"https://colab.research.google.com/github/Arj9978/multi_label_text_classification/blob/main/multi_label_text_classification.ipynb\" target=\"_parent\"><img src=\"https://colab.research.google.com/assets/colab-badge.svg\" alt=\"Open In Colab\"/></a>"
      ]
    },
    {
      "cell_type": "markdown",
      "source": [
        "# Multi-label text classification\n",
        "\n",
        "**Author:** [Farrokh Karimi](https://farrokhkarimi.github.io/)\n",
        "\n",
        "**Editor:** [Alireza Javid](https://github.com/Arj9978/)   \n",
        "**Description:** In this notebook, we want to classify the Ronash dataset into 20 categories. The original code has a accuracy of 81.9% and an average loss of 0.775. I'll be attempting to try different models and tune the hyperparameters to reach a better accuracy and loss."
      ],
      "metadata": {
        "id": "Bij91pNWQOR5"
      }
    },
    {
      "cell_type": "markdown",
      "source": [
        "## Import Libraries"
      ],
      "metadata": {
        "id": "OKQV8I5w2yUC"
      }
    },
    {
      "cell_type": "code",
      "source": [
        "import re\n",
        "import ast\n",
        "import string\n",
        "\n",
        "import numpy as np\n",
        "import pandas as pd\n",
        "import tensorflow as tf\n",
        "\n",
        "import plotly.express as px\n",
        "import matplotlib.pyplot as plt\n",
        "import plotly.graph_objects as go\n",
        "import plotly.figure_factory as ff\n",
        "\n",
        "\n",
        "from collections import Counter\n",
        "\n",
        "from sklearn.utils import resample\n",
        "from sklearn.metrics import confusion_matrix, classification_report\n",
        "from tensorflow.keras import layers\n",
        "from sklearn.model_selection import train_test_split"
      ],
      "metadata": {
        "id": "sL739kMAEsU9"
      },
      "execution_count": 1,
      "outputs": []
    },
    {
      "cell_type": "code",
      "source": [
        "# downloading Data from the Google Drive link\n",
        "!gdown 1Yq3XTnACkvaIiNlhX09Zth55nOau7jQy"
      ],
      "metadata": {
        "colab": {
          "base_uri": "https://localhost:8080/"
        },
        "id": "SHa9m3aLEbyP",
        "outputId": "36b2041b-1cd5-4105-869f-a04b62585918"
      },
      "execution_count": 2,
      "outputs": [
        {
          "output_type": "stream",
          "name": "stdout",
          "text": [
            "Downloading...\n",
            "From: https://drive.google.com/uc?id=1Yq3XTnACkvaIiNlhX09Zth55nOau7jQy\n",
            "To: /content/Ronash_DS_Assignment.csv\n",
            "\r  0% 0.00/1.05M [00:00<?, ?B/s]\r100% 1.05M/1.05M [00:00<00:00, 121MB/s]\n"
          ]
        }
      ]
    },
    {
      "cell_type": "code",
      "source": [
        "ls"
      ],
      "metadata": {
        "colab": {
          "base_uri": "https://localhost:8080/"
        },
        "id": "6QpBuoWrC5QS",
        "outputId": "afa7b4b8-f8ad-43cd-9571-4e80212d1aa6"
      },
      "execution_count": 3,
      "outputs": [
        {
          "output_type": "stream",
          "name": "stdout",
          "text": [
            "Ronash_DS_Assignment.csv  \u001b[0m\u001b[01;34msample_data\u001b[0m/\n"
          ]
        }
      ]
    },
    {
      "cell_type": "markdown",
      "source": [
        "## Load Data"
      ],
      "metadata": {
        "id": "z-L9nNo423Ww"
      }
    },
    {
      "cell_type": "code",
      "source": [
        "# reading the csv file as a dataframe\n",
        "df = pd.read_csv('Ronash_DS_Assignment.csv')\n",
        "df"
      ],
      "metadata": {
        "colab": {
          "base_uri": "https://localhost:8080/",
          "height": 423
        },
        "id": "722bMOmzF4_H",
        "outputId": "6f18f326-35d0-41ed-9bb6-f92b2e0333a0"
      },
      "execution_count": 4,
      "outputs": [
        {
          "output_type": "execute_result",
          "data": {
            "text/plain": [
              "         product_id                                              title  \\\n",
              "0     3937721221199    Fidele Super Premium Adult Large Breed Dog Food   \n",
              "1     7353058033889                    Foldable Pet Toys Linen Storage   \n",
              "2     6594773549129                                     Bok Dok Diaper   \n",
              "3     4802008318014                              Tastybone Toy Chicken   \n",
              "4     1779705151539                Leather Leash Tab - Short Dog Leash   \n",
              "...             ...                                                ...   \n",
              "5265  4637089464407                              Candylab MOO Milk Van   \n",
              "5266  4996632444987  Truck - Modern Era Vehicles -- Red, White -  S...   \n",
              "5267  5528541003927  Car Sticker Flags Decal American Flag Sticker for   \n",
              "5268  1395163889730          Lazer Helmets Bayamo Pit Bull - Full Face   \n",
              "5269  3535679324240                             Deutz Agrotron Tractor   \n",
              "\n",
              "                 vendor                                               tags  \\\n",
              "0                Fidele  ['Adult', 'Bangalore', 'Chennai', 'Chicken', '...   \n",
              "1             Cap Point                                                 []   \n",
              "2             Pets Home  ['Brand_Pet Arabia', 'Category_Pets Home', 'Ca...   \n",
              "3             TastyBone                                                 []   \n",
              "4            Mighty Paw                 ['Leash', 'Leash Tab', 'Training']   \n",
              "...                 ...                                                ...   \n",
              "5265           Candylab  ['3 Years +', 'candylab', 'Discount Products',...   \n",
              "5266   Woodland Scenics  ['HO Scale', 'ho-scale-items', 'vehicles', 'wo...   \n",
              "5267        Cyan Selene                                          ['Other']   \n",
              "5268  OPEN BOX BARGAINS  ['65061090', 'Antiscratch Pinlock Ready Visor'...   \n",
              "5269               Siku  ['$0 to $25', 'diecast-models', 'gift-finder',...   \n",
              "\n",
              "                    category  \n",
              "0     Animals & Pet Supplies  \n",
              "1     Animals & Pet Supplies  \n",
              "2     Animals & Pet Supplies  \n",
              "3     Animals & Pet Supplies  \n",
              "4     Animals & Pet Supplies  \n",
              "...                      ...  \n",
              "5265        Vehicles & Parts  \n",
              "5266        Vehicles & Parts  \n",
              "5267        Vehicles & Parts  \n",
              "5268        Vehicles & Parts  \n",
              "5269        Vehicles & Parts  \n",
              "\n",
              "[5270 rows x 5 columns]"
            ],
            "text/html": [
              "\n",
              "\n",
              "  <div id=\"df-aa0441fe-c550-4994-9aa9-1563b9ea0334\">\n",
              "    <div class=\"colab-df-container\">\n",
              "      <div>\n",
              "<style scoped>\n",
              "    .dataframe tbody tr th:only-of-type {\n",
              "        vertical-align: middle;\n",
              "    }\n",
              "\n",
              "    .dataframe tbody tr th {\n",
              "        vertical-align: top;\n",
              "    }\n",
              "\n",
              "    .dataframe thead th {\n",
              "        text-align: right;\n",
              "    }\n",
              "</style>\n",
              "<table border=\"1\" class=\"dataframe\">\n",
              "  <thead>\n",
              "    <tr style=\"text-align: right;\">\n",
              "      <th></th>\n",
              "      <th>product_id</th>\n",
              "      <th>title</th>\n",
              "      <th>vendor</th>\n",
              "      <th>tags</th>\n",
              "      <th>category</th>\n",
              "    </tr>\n",
              "  </thead>\n",
              "  <tbody>\n",
              "    <tr>\n",
              "      <th>0</th>\n",
              "      <td>3937721221199</td>\n",
              "      <td>Fidele Super Premium Adult Large Breed Dog Food</td>\n",
              "      <td>Fidele</td>\n",
              "      <td>['Adult', 'Bangalore', 'Chennai', 'Chicken', '...</td>\n",
              "      <td>Animals &amp; Pet Supplies</td>\n",
              "    </tr>\n",
              "    <tr>\n",
              "      <th>1</th>\n",
              "      <td>7353058033889</td>\n",
              "      <td>Foldable Pet Toys Linen Storage</td>\n",
              "      <td>Cap Point</td>\n",
              "      <td>[]</td>\n",
              "      <td>Animals &amp; Pet Supplies</td>\n",
              "    </tr>\n",
              "    <tr>\n",
              "      <th>2</th>\n",
              "      <td>6594773549129</td>\n",
              "      <td>Bok Dok Diaper</td>\n",
              "      <td>Pets Home</td>\n",
              "      <td>['Brand_Pet Arabia', 'Category_Pets Home', 'Ca...</td>\n",
              "      <td>Animals &amp; Pet Supplies</td>\n",
              "    </tr>\n",
              "    <tr>\n",
              "      <th>3</th>\n",
              "      <td>4802008318014</td>\n",
              "      <td>Tastybone Toy Chicken</td>\n",
              "      <td>TastyBone</td>\n",
              "      <td>[]</td>\n",
              "      <td>Animals &amp; Pet Supplies</td>\n",
              "    </tr>\n",
              "    <tr>\n",
              "      <th>4</th>\n",
              "      <td>1779705151539</td>\n",
              "      <td>Leather Leash Tab - Short Dog Leash</td>\n",
              "      <td>Mighty Paw</td>\n",
              "      <td>['Leash', 'Leash Tab', 'Training']</td>\n",
              "      <td>Animals &amp; Pet Supplies</td>\n",
              "    </tr>\n",
              "    <tr>\n",
              "      <th>...</th>\n",
              "      <td>...</td>\n",
              "      <td>...</td>\n",
              "      <td>...</td>\n",
              "      <td>...</td>\n",
              "      <td>...</td>\n",
              "    </tr>\n",
              "    <tr>\n",
              "      <th>5265</th>\n",
              "      <td>4637089464407</td>\n",
              "      <td>Candylab MOO Milk Van</td>\n",
              "      <td>Candylab</td>\n",
              "      <td>['3 Years +', 'candylab', 'Discount Products',...</td>\n",
              "      <td>Vehicles &amp; Parts</td>\n",
              "    </tr>\n",
              "    <tr>\n",
              "      <th>5266</th>\n",
              "      <td>4996632444987</td>\n",
              "      <td>Truck - Modern Era Vehicles -- Red, White -  S...</td>\n",
              "      <td>Woodland Scenics</td>\n",
              "      <td>['HO Scale', 'ho-scale-items', 'vehicles', 'wo...</td>\n",
              "      <td>Vehicles &amp; Parts</td>\n",
              "    </tr>\n",
              "    <tr>\n",
              "      <th>5267</th>\n",
              "      <td>5528541003927</td>\n",
              "      <td>Car Sticker Flags Decal American Flag Sticker for</td>\n",
              "      <td>Cyan Selene</td>\n",
              "      <td>['Other']</td>\n",
              "      <td>Vehicles &amp; Parts</td>\n",
              "    </tr>\n",
              "    <tr>\n",
              "      <th>5268</th>\n",
              "      <td>1395163889730</td>\n",
              "      <td>Lazer Helmets Bayamo Pit Bull - Full Face</td>\n",
              "      <td>OPEN BOX BARGAINS</td>\n",
              "      <td>['65061090', 'Antiscratch Pinlock Ready Visor'...</td>\n",
              "      <td>Vehicles &amp; Parts</td>\n",
              "    </tr>\n",
              "    <tr>\n",
              "      <th>5269</th>\n",
              "      <td>3535679324240</td>\n",
              "      <td>Deutz Agrotron Tractor</td>\n",
              "      <td>Siku</td>\n",
              "      <td>['$0 to $25', 'diecast-models', 'gift-finder',...</td>\n",
              "      <td>Vehicles &amp; Parts</td>\n",
              "    </tr>\n",
              "  </tbody>\n",
              "</table>\n",
              "<p>5270 rows × 5 columns</p>\n",
              "</div>\n",
              "      <button class=\"colab-df-convert\" onclick=\"convertToInteractive('df-aa0441fe-c550-4994-9aa9-1563b9ea0334')\"\n",
              "              title=\"Convert this dataframe to an interactive table.\"\n",
              "              style=\"display:none;\">\n",
              "\n",
              "  <svg xmlns=\"http://www.w3.org/2000/svg\" height=\"24px\"viewBox=\"0 0 24 24\"\n",
              "       width=\"24px\">\n",
              "    <path d=\"M0 0h24v24H0V0z\" fill=\"none\"/>\n",
              "    <path d=\"M18.56 5.44l.94 2.06.94-2.06 2.06-.94-2.06-.94-.94-2.06-.94 2.06-2.06.94zm-11 1L8.5 8.5l.94-2.06 2.06-.94-2.06-.94L8.5 2.5l-.94 2.06-2.06.94zm10 10l.94 2.06.94-2.06 2.06-.94-2.06-.94-.94-2.06-.94 2.06-2.06.94z\"/><path d=\"M17.41 7.96l-1.37-1.37c-.4-.4-.92-.59-1.43-.59-.52 0-1.04.2-1.43.59L10.3 9.45l-7.72 7.72c-.78.78-.78 2.05 0 2.83L4 21.41c.39.39.9.59 1.41.59.51 0 1.02-.2 1.41-.59l7.78-7.78 2.81-2.81c.8-.78.8-2.07 0-2.86zM5.41 20L4 18.59l7.72-7.72 1.47 1.35L5.41 20z\"/>\n",
              "  </svg>\n",
              "      </button>\n",
              "\n",
              "\n",
              "\n",
              "    <div id=\"df-59b989ef-aecc-453c-a602-ca37df95969b\">\n",
              "      <button class=\"colab-df-quickchart\" onclick=\"quickchart('df-59b989ef-aecc-453c-a602-ca37df95969b')\"\n",
              "              title=\"Suggest charts.\"\n",
              "              style=\"display:none;\">\n",
              "\n",
              "<svg xmlns=\"http://www.w3.org/2000/svg\" height=\"24px\"viewBox=\"0 0 24 24\"\n",
              "     width=\"24px\">\n",
              "    <g>\n",
              "        <path d=\"M19 3H5c-1.1 0-2 .9-2 2v14c0 1.1.9 2 2 2h14c1.1 0 2-.9 2-2V5c0-1.1-.9-2-2-2zM9 17H7v-7h2v7zm4 0h-2V7h2v10zm4 0h-2v-4h2v4z\"/>\n",
              "    </g>\n",
              "</svg>\n",
              "      </button>\n",
              "    </div>\n",
              "\n",
              "<style>\n",
              "  .colab-df-quickchart {\n",
              "    background-color: #E8F0FE;\n",
              "    border: none;\n",
              "    border-radius: 50%;\n",
              "    cursor: pointer;\n",
              "    display: none;\n",
              "    fill: #1967D2;\n",
              "    height: 32px;\n",
              "    padding: 0 0 0 0;\n",
              "    width: 32px;\n",
              "  }\n",
              "\n",
              "  .colab-df-quickchart:hover {\n",
              "    background-color: #E2EBFA;\n",
              "    box-shadow: 0px 1px 2px rgba(60, 64, 67, 0.3), 0px 1px 3px 1px rgba(60, 64, 67, 0.15);\n",
              "    fill: #174EA6;\n",
              "  }\n",
              "\n",
              "  [theme=dark] .colab-df-quickchart {\n",
              "    background-color: #3B4455;\n",
              "    fill: #D2E3FC;\n",
              "  }\n",
              "\n",
              "  [theme=dark] .colab-df-quickchart:hover {\n",
              "    background-color: #434B5C;\n",
              "    box-shadow: 0px 1px 3px 1px rgba(0, 0, 0, 0.15);\n",
              "    filter: drop-shadow(0px 1px 2px rgba(0, 0, 0, 0.3));\n",
              "    fill: #FFFFFF;\n",
              "  }\n",
              "</style>\n",
              "\n",
              "    <script>\n",
              "      async function quickchart(key) {\n",
              "        const containerElement = document.querySelector('#' + key);\n",
              "        const charts = await google.colab.kernel.invokeFunction(\n",
              "            'suggestCharts', [key], {});\n",
              "      }\n",
              "    </script>\n",
              "\n",
              "      <script>\n",
              "\n",
              "function displayQuickchartButton(domScope) {\n",
              "  let quickchartButtonEl =\n",
              "    domScope.querySelector('#df-59b989ef-aecc-453c-a602-ca37df95969b button.colab-df-quickchart');\n",
              "  quickchartButtonEl.style.display =\n",
              "    google.colab.kernel.accessAllowed ? 'block' : 'none';\n",
              "}\n",
              "\n",
              "        displayQuickchartButton(document);\n",
              "      </script>\n",
              "      <style>\n",
              "    .colab-df-container {\n",
              "      display:flex;\n",
              "      flex-wrap:wrap;\n",
              "      gap: 12px;\n",
              "    }\n",
              "\n",
              "    .colab-df-convert {\n",
              "      background-color: #E8F0FE;\n",
              "      border: none;\n",
              "      border-radius: 50%;\n",
              "      cursor: pointer;\n",
              "      display: none;\n",
              "      fill: #1967D2;\n",
              "      height: 32px;\n",
              "      padding: 0 0 0 0;\n",
              "      width: 32px;\n",
              "    }\n",
              "\n",
              "    .colab-df-convert:hover {\n",
              "      background-color: #E2EBFA;\n",
              "      box-shadow: 0px 1px 2px rgba(60, 64, 67, 0.3), 0px 1px 3px 1px rgba(60, 64, 67, 0.15);\n",
              "      fill: #174EA6;\n",
              "    }\n",
              "\n",
              "    [theme=dark] .colab-df-convert {\n",
              "      background-color: #3B4455;\n",
              "      fill: #D2E3FC;\n",
              "    }\n",
              "\n",
              "    [theme=dark] .colab-df-convert:hover {\n",
              "      background-color: #434B5C;\n",
              "      box-shadow: 0px 1px 3px 1px rgba(0, 0, 0, 0.15);\n",
              "      filter: drop-shadow(0px 1px 2px rgba(0, 0, 0, 0.3));\n",
              "      fill: #FFFFFF;\n",
              "    }\n",
              "  </style>\n",
              "\n",
              "      <script>\n",
              "        const buttonEl =\n",
              "          document.querySelector('#df-aa0441fe-c550-4994-9aa9-1563b9ea0334 button.colab-df-convert');\n",
              "        buttonEl.style.display =\n",
              "          google.colab.kernel.accessAllowed ? 'block' : 'none';\n",
              "\n",
              "        async function convertToInteractive(key) {\n",
              "          const element = document.querySelector('#df-aa0441fe-c550-4994-9aa9-1563b9ea0334');\n",
              "          const dataTable =\n",
              "            await google.colab.kernel.invokeFunction('convertToInteractive',\n",
              "                                                     [key], {});\n",
              "          if (!dataTable) return;\n",
              "\n",
              "          const docLinkHtml = 'Like what you see? Visit the ' +\n",
              "            '<a target=\"_blank\" href=https://colab.research.google.com/notebooks/data_table.ipynb>data table notebook</a>'\n",
              "            + ' to learn more about interactive tables.';\n",
              "          element.innerHTML = '';\n",
              "          dataTable['output_type'] = 'display_data';\n",
              "          await google.colab.output.renderOutput(dataTable, element);\n",
              "          const docLink = document.createElement('div');\n",
              "          docLink.innerHTML = docLinkHtml;\n",
              "          element.appendChild(docLink);\n",
              "        }\n",
              "      </script>\n",
              "    </div>\n",
              "  </div>\n"
            ]
          },
          "metadata": {},
          "execution_count": 4
        }
      ]
    },
    {
      "cell_type": "code",
      "source": [
        "# counting the number of each label\n",
        "df['category'].value_counts()"
      ],
      "metadata": {
        "colab": {
          "base_uri": "https://localhost:8080/"
        },
        "id": "6E1ZDXyPlr6y",
        "outputId": "a1549f0a-4cbb-4763-dd2f-73ef66e238e1"
      },
      "execution_count": 5,
      "outputs": [
        {
          "output_type": "execute_result",
          "data": {
            "text/plain": [
              "Apparel & Accessories        1000\n",
              "Animals & Pet Supplies        500\n",
              "Food, Beverages & Tobacco     400\n",
              "Sporting Goods                400\n",
              "Luggage & Bags                400\n",
              "Home & Garden                 400\n",
              "Health & Beauty               400\n",
              "Media                         300\n",
              "Toys & Games                  300\n",
              "Furniture                     200\n",
              "Baby & Toddler                200\n",
              "Arts & Entertainment          200\n",
              "Electronics                   100\n",
              "Business & Industrial         100\n",
              "Office Supplies               100\n",
              "Vehicles & Parts              100\n",
              "Hardware                       50\n",
              "Cameras & Optics               50\n",
              "Software                       50\n",
              "Religious & Ceremonial         20\n",
              "Name: category, dtype: int64"
            ]
          },
          "metadata": {},
          "execution_count": 5
        }
      ]
    },
    {
      "cell_type": "code",
      "source": [
        "# counting how many indices are duplicated in each column\n",
        "print(f\"There are {sum(df['title'].duplicated())} duplicate title.\")\n",
        "print(f\"There are {sum(df['vendor'].duplicated())} duplicate vondor.\")\n",
        "print(f\"There are {sum(df['tags'].duplicated())} duplicate tags.\")"
      ],
      "metadata": {
        "colab": {
          "base_uri": "https://localhost:8080/"
        },
        "id": "Un_ggKoLUAEf",
        "outputId": "dd1bc6ea-a13e-4ca7-d887-4495329226e7"
      },
      "execution_count": 6,
      "outputs": [
        {
          "output_type": "stream",
          "name": "stdout",
          "text": [
            "There are 0 duplicate title.\n",
            "There are 1256 duplicate vondor.\n",
            "There are 716 duplicate tags.\n"
          ]
        }
      ]
    },
    {
      "cell_type": "code",
      "source": [
        "# counting the number of Nan samples\n",
        "df.isnull().values.sum()"
      ],
      "metadata": {
        "colab": {
          "base_uri": "https://localhost:8080/"
        },
        "id": "VD95efZwCRYT",
        "outputId": "b1eac37b-26ba-45b3-af0a-73eb08a2d837"
      },
      "execution_count": 7,
      "outputs": [
        {
          "output_type": "execute_result",
          "data": {
            "text/plain": [
              "3"
            ]
          },
          "metadata": {},
          "execution_count": 7
        }
      ]
    },
    {
      "cell_type": "markdown",
      "source": [
        "There are just 3 Nan samples in the dataset so we can ignore them."
      ],
      "metadata": {
        "id": "rhPJQuDEb8oN"
      }
    },
    {
      "cell_type": "markdown",
      "source": [
        "## EDA"
      ],
      "metadata": {
        "id": "vDIqARwn252h"
      }
    },
    {
      "cell_type": "markdown",
      "source": [
        "#### 1. Distribution of products by vendors."
      ],
      "metadata": {
        "id": "87G6hGiP3RYq"
      }
    },
    {
      "cell_type": "code",
      "source": [
        "# Count products by vendor\n",
        "vendor_counts = df['vendor'].value_counts().head(10)\n",
        "\n",
        "# Plot\n",
        "fig1 = px.bar(vendor_counts, x=vendor_counts.index, y=vendor_counts.values,\n",
        "              labels={'y': 'Number of Products', 'index': 'Vendor'},\n",
        "              title='Top 10 Vendors by Product Count')\n",
        "\n",
        "fig1.show()"
      ],
      "metadata": {
        "colab": {
          "base_uri": "https://localhost:8080/",
          "height": 542
        },
        "id": "rbHBDnJL2uH3",
        "outputId": "14c93b65-a827-4cc3-cee7-960f5c797380"
      },
      "execution_count": 8,
      "outputs": [
        {
          "output_type": "display_data",
          "data": {
            "text/html": [
              "<html>\n",
              "<head><meta charset=\"utf-8\" /></head>\n",
              "<body>\n",
              "    <div>            <script src=\"https://cdnjs.cloudflare.com/ajax/libs/mathjax/2.7.5/MathJax.js?config=TeX-AMS-MML_SVG\"></script><script type=\"text/javascript\">if (window.MathJax && window.MathJax.Hub && window.MathJax.Hub.Config) {window.MathJax.Hub.Config({SVG: {font: \"STIX-Web\"}});}</script>                <script type=\"text/javascript\">window.PlotlyConfig = {MathJaxConfig: 'local'};</script>\n",
              "        <script charset=\"utf-8\" src=\"https://cdn.plot.ly/plotly-2.24.1.min.js\"></script>                <div id=\"db094a04-90aa-4a7c-928b-c0f4b9a91892\" class=\"plotly-graph-div\" style=\"height:525px; width:100%;\"></div>            <script type=\"text/javascript\">                                    window.PLOTLYENV=window.PLOTLYENV || {};                                    if (document.getElementById(\"db094a04-90aa-4a7c-928b-c0f4b9a91892\")) {                    Plotly.newPlot(                        \"db094a04-90aa-4a7c-928b-c0f4b9a91892\",                        [{\"alignmentgroup\":\"True\",\"hovertemplate\":\"Vendor=%{x}\\u003cbr\\u003eNumber of Products=%{y}\\u003cextra\\u003e\\u003c\\u002fextra\\u003e\",\"legendgroup\":\"\",\"marker\":{\"color\":\"#636efa\",\"pattern\":{\"shape\":\"\"}},\"name\":\"\",\"offsetgroup\":\"\",\"orientation\":\"v\",\"showlegend\":false,\"textposition\":\"auto\",\"x\":[\"Goods Of Japan\",\"The Sign Shed\",\"Designer Bums\",\"Schneiderman's Furniture\",\"vendor-unknown\",\"CuteThee\",\"Baby Jalebi\",\"ShineOn Fulfillment\",\"Pet Clever\",\"Bowsers\"],\"xaxis\":\"x\",\"y\":[21,19,18,14,14,14,13,13,12,11],\"yaxis\":\"y\",\"type\":\"bar\"}],                        {\"template\":{\"data\":{\"histogram2dcontour\":[{\"type\":\"histogram2dcontour\",\"colorbar\":{\"outlinewidth\":0,\"ticks\":\"\"},\"colorscale\":[[0.0,\"#0d0887\"],[0.1111111111111111,\"#46039f\"],[0.2222222222222222,\"#7201a8\"],[0.3333333333333333,\"#9c179e\"],[0.4444444444444444,\"#bd3786\"],[0.5555555555555556,\"#d8576b\"],[0.6666666666666666,\"#ed7953\"],[0.7777777777777778,\"#fb9f3a\"],[0.8888888888888888,\"#fdca26\"],[1.0,\"#f0f921\"]]}],\"choropleth\":[{\"type\":\"choropleth\",\"colorbar\":{\"outlinewidth\":0,\"ticks\":\"\"}}],\"histogram2d\":[{\"type\":\"histogram2d\",\"colorbar\":{\"outlinewidth\":0,\"ticks\":\"\"},\"colorscale\":[[0.0,\"#0d0887\"],[0.1111111111111111,\"#46039f\"],[0.2222222222222222,\"#7201a8\"],[0.3333333333333333,\"#9c179e\"],[0.4444444444444444,\"#bd3786\"],[0.5555555555555556,\"#d8576b\"],[0.6666666666666666,\"#ed7953\"],[0.7777777777777778,\"#fb9f3a\"],[0.8888888888888888,\"#fdca26\"],[1.0,\"#f0f921\"]]}],\"heatmap\":[{\"type\":\"heatmap\",\"colorbar\":{\"outlinewidth\":0,\"ticks\":\"\"},\"colorscale\":[[0.0,\"#0d0887\"],[0.1111111111111111,\"#46039f\"],[0.2222222222222222,\"#7201a8\"],[0.3333333333333333,\"#9c179e\"],[0.4444444444444444,\"#bd3786\"],[0.5555555555555556,\"#d8576b\"],[0.6666666666666666,\"#ed7953\"],[0.7777777777777778,\"#fb9f3a\"],[0.8888888888888888,\"#fdca26\"],[1.0,\"#f0f921\"]]}],\"heatmapgl\":[{\"type\":\"heatmapgl\",\"colorbar\":{\"outlinewidth\":0,\"ticks\":\"\"},\"colorscale\":[[0.0,\"#0d0887\"],[0.1111111111111111,\"#46039f\"],[0.2222222222222222,\"#7201a8\"],[0.3333333333333333,\"#9c179e\"],[0.4444444444444444,\"#bd3786\"],[0.5555555555555556,\"#d8576b\"],[0.6666666666666666,\"#ed7953\"],[0.7777777777777778,\"#fb9f3a\"],[0.8888888888888888,\"#fdca26\"],[1.0,\"#f0f921\"]]}],\"contourcarpet\":[{\"type\":\"contourcarpet\",\"colorbar\":{\"outlinewidth\":0,\"ticks\":\"\"}}],\"contour\":[{\"type\":\"contour\",\"colorbar\":{\"outlinewidth\":0,\"ticks\":\"\"},\"colorscale\":[[0.0,\"#0d0887\"],[0.1111111111111111,\"#46039f\"],[0.2222222222222222,\"#7201a8\"],[0.3333333333333333,\"#9c179e\"],[0.4444444444444444,\"#bd3786\"],[0.5555555555555556,\"#d8576b\"],[0.6666666666666666,\"#ed7953\"],[0.7777777777777778,\"#fb9f3a\"],[0.8888888888888888,\"#fdca26\"],[1.0,\"#f0f921\"]]}],\"surface\":[{\"type\":\"surface\",\"colorbar\":{\"outlinewidth\":0,\"ticks\":\"\"},\"colorscale\":[[0.0,\"#0d0887\"],[0.1111111111111111,\"#46039f\"],[0.2222222222222222,\"#7201a8\"],[0.3333333333333333,\"#9c179e\"],[0.4444444444444444,\"#bd3786\"],[0.5555555555555556,\"#d8576b\"],[0.6666666666666666,\"#ed7953\"],[0.7777777777777778,\"#fb9f3a\"],[0.8888888888888888,\"#fdca26\"],[1.0,\"#f0f921\"]]}],\"mesh3d\":[{\"type\":\"mesh3d\",\"colorbar\":{\"outlinewidth\":0,\"ticks\":\"\"}}],\"scatter\":[{\"fillpattern\":{\"fillmode\":\"overlay\",\"size\":10,\"solidity\":0.2},\"type\":\"scatter\"}],\"parcoords\":[{\"type\":\"parcoords\",\"line\":{\"colorbar\":{\"outlinewidth\":0,\"ticks\":\"\"}}}],\"scatterpolargl\":[{\"type\":\"scatterpolargl\",\"marker\":{\"colorbar\":{\"outlinewidth\":0,\"ticks\":\"\"}}}],\"bar\":[{\"error_x\":{\"color\":\"#2a3f5f\"},\"error_y\":{\"color\":\"#2a3f5f\"},\"marker\":{\"line\":{\"color\":\"#E5ECF6\",\"width\":0.5},\"pattern\":{\"fillmode\":\"overlay\",\"size\":10,\"solidity\":0.2}},\"type\":\"bar\"}],\"scattergeo\":[{\"type\":\"scattergeo\",\"marker\":{\"colorbar\":{\"outlinewidth\":0,\"ticks\":\"\"}}}],\"scatterpolar\":[{\"type\":\"scatterpolar\",\"marker\":{\"colorbar\":{\"outlinewidth\":0,\"ticks\":\"\"}}}],\"histogram\":[{\"marker\":{\"pattern\":{\"fillmode\":\"overlay\",\"size\":10,\"solidity\":0.2}},\"type\":\"histogram\"}],\"scattergl\":[{\"type\":\"scattergl\",\"marker\":{\"colorbar\":{\"outlinewidth\":0,\"ticks\":\"\"}}}],\"scatter3d\":[{\"type\":\"scatter3d\",\"line\":{\"colorbar\":{\"outlinewidth\":0,\"ticks\":\"\"}},\"marker\":{\"colorbar\":{\"outlinewidth\":0,\"ticks\":\"\"}}}],\"scattermapbox\":[{\"type\":\"scattermapbox\",\"marker\":{\"colorbar\":{\"outlinewidth\":0,\"ticks\":\"\"}}}],\"scatterternary\":[{\"type\":\"scatterternary\",\"marker\":{\"colorbar\":{\"outlinewidth\":0,\"ticks\":\"\"}}}],\"scattercarpet\":[{\"type\":\"scattercarpet\",\"marker\":{\"colorbar\":{\"outlinewidth\":0,\"ticks\":\"\"}}}],\"carpet\":[{\"aaxis\":{\"endlinecolor\":\"#2a3f5f\",\"gridcolor\":\"white\",\"linecolor\":\"white\",\"minorgridcolor\":\"white\",\"startlinecolor\":\"#2a3f5f\"},\"baxis\":{\"endlinecolor\":\"#2a3f5f\",\"gridcolor\":\"white\",\"linecolor\":\"white\",\"minorgridcolor\":\"white\",\"startlinecolor\":\"#2a3f5f\"},\"type\":\"carpet\"}],\"table\":[{\"cells\":{\"fill\":{\"color\":\"#EBF0F8\"},\"line\":{\"color\":\"white\"}},\"header\":{\"fill\":{\"color\":\"#C8D4E3\"},\"line\":{\"color\":\"white\"}},\"type\":\"table\"}],\"barpolar\":[{\"marker\":{\"line\":{\"color\":\"#E5ECF6\",\"width\":0.5},\"pattern\":{\"fillmode\":\"overlay\",\"size\":10,\"solidity\":0.2}},\"type\":\"barpolar\"}],\"pie\":[{\"automargin\":true,\"type\":\"pie\"}]},\"layout\":{\"autotypenumbers\":\"strict\",\"colorway\":[\"#636efa\",\"#EF553B\",\"#00cc96\",\"#ab63fa\",\"#FFA15A\",\"#19d3f3\",\"#FF6692\",\"#B6E880\",\"#FF97FF\",\"#FECB52\"],\"font\":{\"color\":\"#2a3f5f\"},\"hovermode\":\"closest\",\"hoverlabel\":{\"align\":\"left\"},\"paper_bgcolor\":\"white\",\"plot_bgcolor\":\"#E5ECF6\",\"polar\":{\"bgcolor\":\"#E5ECF6\",\"angularaxis\":{\"gridcolor\":\"white\",\"linecolor\":\"white\",\"ticks\":\"\"},\"radialaxis\":{\"gridcolor\":\"white\",\"linecolor\":\"white\",\"ticks\":\"\"}},\"ternary\":{\"bgcolor\":\"#E5ECF6\",\"aaxis\":{\"gridcolor\":\"white\",\"linecolor\":\"white\",\"ticks\":\"\"},\"baxis\":{\"gridcolor\":\"white\",\"linecolor\":\"white\",\"ticks\":\"\"},\"caxis\":{\"gridcolor\":\"white\",\"linecolor\":\"white\",\"ticks\":\"\"}},\"coloraxis\":{\"colorbar\":{\"outlinewidth\":0,\"ticks\":\"\"}},\"colorscale\":{\"sequential\":[[0.0,\"#0d0887\"],[0.1111111111111111,\"#46039f\"],[0.2222222222222222,\"#7201a8\"],[0.3333333333333333,\"#9c179e\"],[0.4444444444444444,\"#bd3786\"],[0.5555555555555556,\"#d8576b\"],[0.6666666666666666,\"#ed7953\"],[0.7777777777777778,\"#fb9f3a\"],[0.8888888888888888,\"#fdca26\"],[1.0,\"#f0f921\"]],\"sequentialminus\":[[0.0,\"#0d0887\"],[0.1111111111111111,\"#46039f\"],[0.2222222222222222,\"#7201a8\"],[0.3333333333333333,\"#9c179e\"],[0.4444444444444444,\"#bd3786\"],[0.5555555555555556,\"#d8576b\"],[0.6666666666666666,\"#ed7953\"],[0.7777777777777778,\"#fb9f3a\"],[0.8888888888888888,\"#fdca26\"],[1.0,\"#f0f921\"]],\"diverging\":[[0,\"#8e0152\"],[0.1,\"#c51b7d\"],[0.2,\"#de77ae\"],[0.3,\"#f1b6da\"],[0.4,\"#fde0ef\"],[0.5,\"#f7f7f7\"],[0.6,\"#e6f5d0\"],[0.7,\"#b8e186\"],[0.8,\"#7fbc41\"],[0.9,\"#4d9221\"],[1,\"#276419\"]]},\"xaxis\":{\"gridcolor\":\"white\",\"linecolor\":\"white\",\"ticks\":\"\",\"title\":{\"standoff\":15},\"zerolinecolor\":\"white\",\"automargin\":true,\"zerolinewidth\":2},\"yaxis\":{\"gridcolor\":\"white\",\"linecolor\":\"white\",\"ticks\":\"\",\"title\":{\"standoff\":15},\"zerolinecolor\":\"white\",\"automargin\":true,\"zerolinewidth\":2},\"scene\":{\"xaxis\":{\"backgroundcolor\":\"#E5ECF6\",\"gridcolor\":\"white\",\"linecolor\":\"white\",\"showbackground\":true,\"ticks\":\"\",\"zerolinecolor\":\"white\",\"gridwidth\":2},\"yaxis\":{\"backgroundcolor\":\"#E5ECF6\",\"gridcolor\":\"white\",\"linecolor\":\"white\",\"showbackground\":true,\"ticks\":\"\",\"zerolinecolor\":\"white\",\"gridwidth\":2},\"zaxis\":{\"backgroundcolor\":\"#E5ECF6\",\"gridcolor\":\"white\",\"linecolor\":\"white\",\"showbackground\":true,\"ticks\":\"\",\"zerolinecolor\":\"white\",\"gridwidth\":2}},\"shapedefaults\":{\"line\":{\"color\":\"#2a3f5f\"}},\"annotationdefaults\":{\"arrowcolor\":\"#2a3f5f\",\"arrowhead\":0,\"arrowwidth\":1},\"geo\":{\"bgcolor\":\"white\",\"landcolor\":\"#E5ECF6\",\"subunitcolor\":\"white\",\"showland\":true,\"showlakes\":true,\"lakecolor\":\"white\"},\"title\":{\"x\":0.05},\"mapbox\":{\"style\":\"light\"}}},\"xaxis\":{\"anchor\":\"y\",\"domain\":[0.0,1.0],\"title\":{\"text\":\"Vendor\"}},\"yaxis\":{\"anchor\":\"x\",\"domain\":[0.0,1.0],\"title\":{\"text\":\"Number of Products\"}},\"legend\":{\"tracegroupgap\":0},\"title\":{\"text\":\"Top 10 Vendors by Product Count\"},\"barmode\":\"relative\"},                        {\"responsive\": true}                    ).then(function(){\n",
              "                            \n",
              "var gd = document.getElementById('db094a04-90aa-4a7c-928b-c0f4b9a91892');\n",
              "var x = new MutationObserver(function (mutations, observer) {{\n",
              "        var display = window.getComputedStyle(gd).display;\n",
              "        if (!display || display === 'none') {{\n",
              "            console.log([gd, 'removed!']);\n",
              "            Plotly.purge(gd);\n",
              "            observer.disconnect();\n",
              "        }}\n",
              "}});\n",
              "\n",
              "// Listen for the removal of the full notebook cells\n",
              "var notebookContainer = gd.closest('#notebook-container');\n",
              "if (notebookContainer) {{\n",
              "    x.observe(notebookContainer, {childList: true});\n",
              "}}\n",
              "\n",
              "// Listen for the clearing of the current output cell\n",
              "var outputEl = gd.closest('.output');\n",
              "if (outputEl) {{\n",
              "    x.observe(outputEl, {childList: true});\n",
              "}}\n",
              "\n",
              "                        })                };                            </script>        </div>\n",
              "</body>\n",
              "</html>"
            ]
          },
          "metadata": {}
        }
      ]
    },
    {
      "cell_type": "markdown",
      "source": [
        "#### 2. Pie chart of product distribution by category with plotly"
      ],
      "metadata": {
        "id": "FkPjaGPV3UxE"
      }
    },
    {
      "cell_type": "code",
      "source": [
        "# Group the data by category and count the number of products in each category\n",
        "category_counts = df['category'].value_counts()\n",
        "\n",
        "# Create a pie chart\n",
        "fig = px.pie(category_counts, values=category_counts.values,\n",
        "             names=category_counts.index, title='Product Distribution by Category')\n",
        "\n",
        "fig.show()"
      ],
      "metadata": {
        "colab": {
          "base_uri": "https://localhost:8080/",
          "height": 542
        },
        "id": "Kr0SIKi32t82",
        "outputId": "e16d96ff-c2fa-4a69-e98d-05949a7199e3"
      },
      "execution_count": 9,
      "outputs": [
        {
          "output_type": "display_data",
          "data": {
            "text/html": [
              "<html>\n",
              "<head><meta charset=\"utf-8\" /></head>\n",
              "<body>\n",
              "    <div>            <script src=\"https://cdnjs.cloudflare.com/ajax/libs/mathjax/2.7.5/MathJax.js?config=TeX-AMS-MML_SVG\"></script><script type=\"text/javascript\">if (window.MathJax && window.MathJax.Hub && window.MathJax.Hub.Config) {window.MathJax.Hub.Config({SVG: {font: \"STIX-Web\"}});}</script>                <script type=\"text/javascript\">window.PlotlyConfig = {MathJaxConfig: 'local'};</script>\n",
              "        <script charset=\"utf-8\" src=\"https://cdn.plot.ly/plotly-2.24.1.min.js\"></script>                <div id=\"781215b8-7ce3-460e-9faf-78c80c312e06\" class=\"plotly-graph-div\" style=\"height:525px; width:100%;\"></div>            <script type=\"text/javascript\">                                    window.PLOTLYENV=window.PLOTLYENV || {};                                    if (document.getElementById(\"781215b8-7ce3-460e-9faf-78c80c312e06\")) {                    Plotly.newPlot(                        \"781215b8-7ce3-460e-9faf-78c80c312e06\",                        [{\"domain\":{\"x\":[0.0,1.0],\"y\":[0.0,1.0]},\"hovertemplate\":\"index=%{label}\\u003cbr\\u003evalue=%{value}\\u003cextra\\u003e\\u003c\\u002fextra\\u003e\",\"labels\":[\"Apparel & Accessories\",\"Animals & Pet Supplies\",\"Food, Beverages & Tobacco\",\"Sporting Goods\",\"Luggage & Bags\",\"Home & Garden\",\"Health & Beauty\",\"Media\",\"Toys & Games\",\"Furniture\",\"Baby & Toddler\",\"Arts & Entertainment\",\"Electronics\",\"Business & Industrial\",\"Office Supplies\",\"Vehicles & Parts\",\"Hardware\",\"Cameras & Optics\",\"Software\",\"Religious & Ceremonial\"],\"legendgroup\":\"\",\"name\":\"\",\"showlegend\":true,\"values\":[1000,500,400,400,400,400,400,300,300,200,200,200,100,100,100,100,50,50,50,20],\"type\":\"pie\"}],                        {\"template\":{\"data\":{\"histogram2dcontour\":[{\"type\":\"histogram2dcontour\",\"colorbar\":{\"outlinewidth\":0,\"ticks\":\"\"},\"colorscale\":[[0.0,\"#0d0887\"],[0.1111111111111111,\"#46039f\"],[0.2222222222222222,\"#7201a8\"],[0.3333333333333333,\"#9c179e\"],[0.4444444444444444,\"#bd3786\"],[0.5555555555555556,\"#d8576b\"],[0.6666666666666666,\"#ed7953\"],[0.7777777777777778,\"#fb9f3a\"],[0.8888888888888888,\"#fdca26\"],[1.0,\"#f0f921\"]]}],\"choropleth\":[{\"type\":\"choropleth\",\"colorbar\":{\"outlinewidth\":0,\"ticks\":\"\"}}],\"histogram2d\":[{\"type\":\"histogram2d\",\"colorbar\":{\"outlinewidth\":0,\"ticks\":\"\"},\"colorscale\":[[0.0,\"#0d0887\"],[0.1111111111111111,\"#46039f\"],[0.2222222222222222,\"#7201a8\"],[0.3333333333333333,\"#9c179e\"],[0.4444444444444444,\"#bd3786\"],[0.5555555555555556,\"#d8576b\"],[0.6666666666666666,\"#ed7953\"],[0.7777777777777778,\"#fb9f3a\"],[0.8888888888888888,\"#fdca26\"],[1.0,\"#f0f921\"]]}],\"heatmap\":[{\"type\":\"heatmap\",\"colorbar\":{\"outlinewidth\":0,\"ticks\":\"\"},\"colorscale\":[[0.0,\"#0d0887\"],[0.1111111111111111,\"#46039f\"],[0.2222222222222222,\"#7201a8\"],[0.3333333333333333,\"#9c179e\"],[0.4444444444444444,\"#bd3786\"],[0.5555555555555556,\"#d8576b\"],[0.6666666666666666,\"#ed7953\"],[0.7777777777777778,\"#fb9f3a\"],[0.8888888888888888,\"#fdca26\"],[1.0,\"#f0f921\"]]}],\"heatmapgl\":[{\"type\":\"heatmapgl\",\"colorbar\":{\"outlinewidth\":0,\"ticks\":\"\"},\"colorscale\":[[0.0,\"#0d0887\"],[0.1111111111111111,\"#46039f\"],[0.2222222222222222,\"#7201a8\"],[0.3333333333333333,\"#9c179e\"],[0.4444444444444444,\"#bd3786\"],[0.5555555555555556,\"#d8576b\"],[0.6666666666666666,\"#ed7953\"],[0.7777777777777778,\"#fb9f3a\"],[0.8888888888888888,\"#fdca26\"],[1.0,\"#f0f921\"]]}],\"contourcarpet\":[{\"type\":\"contourcarpet\",\"colorbar\":{\"outlinewidth\":0,\"ticks\":\"\"}}],\"contour\":[{\"type\":\"contour\",\"colorbar\":{\"outlinewidth\":0,\"ticks\":\"\"},\"colorscale\":[[0.0,\"#0d0887\"],[0.1111111111111111,\"#46039f\"],[0.2222222222222222,\"#7201a8\"],[0.3333333333333333,\"#9c179e\"],[0.4444444444444444,\"#bd3786\"],[0.5555555555555556,\"#d8576b\"],[0.6666666666666666,\"#ed7953\"],[0.7777777777777778,\"#fb9f3a\"],[0.8888888888888888,\"#fdca26\"],[1.0,\"#f0f921\"]]}],\"surface\":[{\"type\":\"surface\",\"colorbar\":{\"outlinewidth\":0,\"ticks\":\"\"},\"colorscale\":[[0.0,\"#0d0887\"],[0.1111111111111111,\"#46039f\"],[0.2222222222222222,\"#7201a8\"],[0.3333333333333333,\"#9c179e\"],[0.4444444444444444,\"#bd3786\"],[0.5555555555555556,\"#d8576b\"],[0.6666666666666666,\"#ed7953\"],[0.7777777777777778,\"#fb9f3a\"],[0.8888888888888888,\"#fdca26\"],[1.0,\"#f0f921\"]]}],\"mesh3d\":[{\"type\":\"mesh3d\",\"colorbar\":{\"outlinewidth\":0,\"ticks\":\"\"}}],\"scatter\":[{\"fillpattern\":{\"fillmode\":\"overlay\",\"size\":10,\"solidity\":0.2},\"type\":\"scatter\"}],\"parcoords\":[{\"type\":\"parcoords\",\"line\":{\"colorbar\":{\"outlinewidth\":0,\"ticks\":\"\"}}}],\"scatterpolargl\":[{\"type\":\"scatterpolargl\",\"marker\":{\"colorbar\":{\"outlinewidth\":0,\"ticks\":\"\"}}}],\"bar\":[{\"error_x\":{\"color\":\"#2a3f5f\"},\"error_y\":{\"color\":\"#2a3f5f\"},\"marker\":{\"line\":{\"color\":\"#E5ECF6\",\"width\":0.5},\"pattern\":{\"fillmode\":\"overlay\",\"size\":10,\"solidity\":0.2}},\"type\":\"bar\"}],\"scattergeo\":[{\"type\":\"scattergeo\",\"marker\":{\"colorbar\":{\"outlinewidth\":0,\"ticks\":\"\"}}}],\"scatterpolar\":[{\"type\":\"scatterpolar\",\"marker\":{\"colorbar\":{\"outlinewidth\":0,\"ticks\":\"\"}}}],\"histogram\":[{\"marker\":{\"pattern\":{\"fillmode\":\"overlay\",\"size\":10,\"solidity\":0.2}},\"type\":\"histogram\"}],\"scattergl\":[{\"type\":\"scattergl\",\"marker\":{\"colorbar\":{\"outlinewidth\":0,\"ticks\":\"\"}}}],\"scatter3d\":[{\"type\":\"scatter3d\",\"line\":{\"colorbar\":{\"outlinewidth\":0,\"ticks\":\"\"}},\"marker\":{\"colorbar\":{\"outlinewidth\":0,\"ticks\":\"\"}}}],\"scattermapbox\":[{\"type\":\"scattermapbox\",\"marker\":{\"colorbar\":{\"outlinewidth\":0,\"ticks\":\"\"}}}],\"scatterternary\":[{\"type\":\"scatterternary\",\"marker\":{\"colorbar\":{\"outlinewidth\":0,\"ticks\":\"\"}}}],\"scattercarpet\":[{\"type\":\"scattercarpet\",\"marker\":{\"colorbar\":{\"outlinewidth\":0,\"ticks\":\"\"}}}],\"carpet\":[{\"aaxis\":{\"endlinecolor\":\"#2a3f5f\",\"gridcolor\":\"white\",\"linecolor\":\"white\",\"minorgridcolor\":\"white\",\"startlinecolor\":\"#2a3f5f\"},\"baxis\":{\"endlinecolor\":\"#2a3f5f\",\"gridcolor\":\"white\",\"linecolor\":\"white\",\"minorgridcolor\":\"white\",\"startlinecolor\":\"#2a3f5f\"},\"type\":\"carpet\"}],\"table\":[{\"cells\":{\"fill\":{\"color\":\"#EBF0F8\"},\"line\":{\"color\":\"white\"}},\"header\":{\"fill\":{\"color\":\"#C8D4E3\"},\"line\":{\"color\":\"white\"}},\"type\":\"table\"}],\"barpolar\":[{\"marker\":{\"line\":{\"color\":\"#E5ECF6\",\"width\":0.5},\"pattern\":{\"fillmode\":\"overlay\",\"size\":10,\"solidity\":0.2}},\"type\":\"barpolar\"}],\"pie\":[{\"automargin\":true,\"type\":\"pie\"}]},\"layout\":{\"autotypenumbers\":\"strict\",\"colorway\":[\"#636efa\",\"#EF553B\",\"#00cc96\",\"#ab63fa\",\"#FFA15A\",\"#19d3f3\",\"#FF6692\",\"#B6E880\",\"#FF97FF\",\"#FECB52\"],\"font\":{\"color\":\"#2a3f5f\"},\"hovermode\":\"closest\",\"hoverlabel\":{\"align\":\"left\"},\"paper_bgcolor\":\"white\",\"plot_bgcolor\":\"#E5ECF6\",\"polar\":{\"bgcolor\":\"#E5ECF6\",\"angularaxis\":{\"gridcolor\":\"white\",\"linecolor\":\"white\",\"ticks\":\"\"},\"radialaxis\":{\"gridcolor\":\"white\",\"linecolor\":\"white\",\"ticks\":\"\"}},\"ternary\":{\"bgcolor\":\"#E5ECF6\",\"aaxis\":{\"gridcolor\":\"white\",\"linecolor\":\"white\",\"ticks\":\"\"},\"baxis\":{\"gridcolor\":\"white\",\"linecolor\":\"white\",\"ticks\":\"\"},\"caxis\":{\"gridcolor\":\"white\",\"linecolor\":\"white\",\"ticks\":\"\"}},\"coloraxis\":{\"colorbar\":{\"outlinewidth\":0,\"ticks\":\"\"}},\"colorscale\":{\"sequential\":[[0.0,\"#0d0887\"],[0.1111111111111111,\"#46039f\"],[0.2222222222222222,\"#7201a8\"],[0.3333333333333333,\"#9c179e\"],[0.4444444444444444,\"#bd3786\"],[0.5555555555555556,\"#d8576b\"],[0.6666666666666666,\"#ed7953\"],[0.7777777777777778,\"#fb9f3a\"],[0.8888888888888888,\"#fdca26\"],[1.0,\"#f0f921\"]],\"sequentialminus\":[[0.0,\"#0d0887\"],[0.1111111111111111,\"#46039f\"],[0.2222222222222222,\"#7201a8\"],[0.3333333333333333,\"#9c179e\"],[0.4444444444444444,\"#bd3786\"],[0.5555555555555556,\"#d8576b\"],[0.6666666666666666,\"#ed7953\"],[0.7777777777777778,\"#fb9f3a\"],[0.8888888888888888,\"#fdca26\"],[1.0,\"#f0f921\"]],\"diverging\":[[0,\"#8e0152\"],[0.1,\"#c51b7d\"],[0.2,\"#de77ae\"],[0.3,\"#f1b6da\"],[0.4,\"#fde0ef\"],[0.5,\"#f7f7f7\"],[0.6,\"#e6f5d0\"],[0.7,\"#b8e186\"],[0.8,\"#7fbc41\"],[0.9,\"#4d9221\"],[1,\"#276419\"]]},\"xaxis\":{\"gridcolor\":\"white\",\"linecolor\":\"white\",\"ticks\":\"\",\"title\":{\"standoff\":15},\"zerolinecolor\":\"white\",\"automargin\":true,\"zerolinewidth\":2},\"yaxis\":{\"gridcolor\":\"white\",\"linecolor\":\"white\",\"ticks\":\"\",\"title\":{\"standoff\":15},\"zerolinecolor\":\"white\",\"automargin\":true,\"zerolinewidth\":2},\"scene\":{\"xaxis\":{\"backgroundcolor\":\"#E5ECF6\",\"gridcolor\":\"white\",\"linecolor\":\"white\",\"showbackground\":true,\"ticks\":\"\",\"zerolinecolor\":\"white\",\"gridwidth\":2},\"yaxis\":{\"backgroundcolor\":\"#E5ECF6\",\"gridcolor\":\"white\",\"linecolor\":\"white\",\"showbackground\":true,\"ticks\":\"\",\"zerolinecolor\":\"white\",\"gridwidth\":2},\"zaxis\":{\"backgroundcolor\":\"#E5ECF6\",\"gridcolor\":\"white\",\"linecolor\":\"white\",\"showbackground\":true,\"ticks\":\"\",\"zerolinecolor\":\"white\",\"gridwidth\":2}},\"shapedefaults\":{\"line\":{\"color\":\"#2a3f5f\"}},\"annotationdefaults\":{\"arrowcolor\":\"#2a3f5f\",\"arrowhead\":0,\"arrowwidth\":1},\"geo\":{\"bgcolor\":\"white\",\"landcolor\":\"#E5ECF6\",\"subunitcolor\":\"white\",\"showland\":true,\"showlakes\":true,\"lakecolor\":\"white\"},\"title\":{\"x\":0.05},\"mapbox\":{\"style\":\"light\"}}},\"legend\":{\"tracegroupgap\":0},\"title\":{\"text\":\"Product Distribution by Category\"}},                        {\"responsive\": true}                    ).then(function(){\n",
              "                            \n",
              "var gd = document.getElementById('781215b8-7ce3-460e-9faf-78c80c312e06');\n",
              "var x = new MutationObserver(function (mutations, observer) {{\n",
              "        var display = window.getComputedStyle(gd).display;\n",
              "        if (!display || display === 'none') {{\n",
              "            console.log([gd, 'removed!']);\n",
              "            Plotly.purge(gd);\n",
              "            observer.disconnect();\n",
              "        }}\n",
              "}});\n",
              "\n",
              "// Listen for the removal of the full notebook cells\n",
              "var notebookContainer = gd.closest('#notebook-container');\n",
              "if (notebookContainer) {{\n",
              "    x.observe(notebookContainer, {childList: true});\n",
              "}}\n",
              "\n",
              "// Listen for the clearing of the current output cell\n",
              "var outputEl = gd.closest('.output');\n",
              "if (outputEl) {{\n",
              "    x.observe(outputEl, {childList: true});\n",
              "}}\n",
              "\n",
              "                        })                };                            </script>        </div>\n",
              "</body>\n",
              "</html>"
            ]
          },
          "metadata": {}
        }
      ]
    },
    {
      "cell_type": "markdown",
      "source": [
        "#### 3. Histogram of the number of tags associated with each product."
      ],
      "metadata": {
        "id": "CqQylVoR3YBB"
      }
    },
    {
      "cell_type": "code",
      "source": [
        "# Convert the string representation of the lists in the 'tags' column to actual lists\n",
        "df['tags'] = df['tags'].apply(ast.literal_eval)\n",
        "\n",
        "# Calculate the number of tags for each product\n",
        "df['num_tags'] = df['tags'].apply(len)\n",
        "\n",
        "# Checking the statistics for the number of tags\n",
        "tag_stats = df['num_tags'].describe()\n",
        "tag_stats"
      ],
      "metadata": {
        "colab": {
          "base_uri": "https://localhost:8080/"
        },
        "id": "cS5gbk1H2txq",
        "outputId": "bfe0937f-3a05-4f98-abac-534a8599b6b2"
      },
      "execution_count": 10,
      "outputs": [
        {
          "output_type": "execute_result",
          "data": {
            "text/plain": [
              "count    5270.000000\n",
              "mean        7.233776\n",
              "std         8.390679\n",
              "min         0.000000\n",
              "25%         2.000000\n",
              "50%         5.000000\n",
              "75%        10.000000\n",
              "max       101.000000\n",
              "Name: num_tags, dtype: float64"
            ]
          },
          "metadata": {},
          "execution_count": 10
        }
      ]
    },
    {
      "cell_type": "code",
      "source": [
        "# Creating the histogram\n",
        "fig = px.histogram(df, x=\"num_tags\", title=\"Histogram of Number of Tags per Product\",\n",
        "                   labels={'num_tags': 'Number of Tags'},\n",
        "                   nbins=50)\n",
        "\n",
        "# Displaying the histogram\n",
        "fig.show()"
      ],
      "metadata": {
        "colab": {
          "base_uri": "https://localhost:8080/",
          "height": 542
        },
        "id": "ah_eMZmy2tlM",
        "outputId": "aaa0915f-00eb-441c-839f-d71e732aa78f"
      },
      "execution_count": 11,
      "outputs": [
        {
          "output_type": "display_data",
          "data": {
            "text/html": [
              "<html>\n",
              "<head><meta charset=\"utf-8\" /></head>\n",
              "<body>\n",
              "    <div>            <script src=\"https://cdnjs.cloudflare.com/ajax/libs/mathjax/2.7.5/MathJax.js?config=TeX-AMS-MML_SVG\"></script><script type=\"text/javascript\">if (window.MathJax && window.MathJax.Hub && window.MathJax.Hub.Config) {window.MathJax.Hub.Config({SVG: {font: \"STIX-Web\"}});}</script>                <script type=\"text/javascript\">window.PlotlyConfig = {MathJaxConfig: 'local'};</script>\n",
              "        <script charset=\"utf-8\" src=\"https://cdn.plot.ly/plotly-2.24.1.min.js\"></script>                <div id=\"878b682a-1e9a-4128-a8ae-104c70acda73\" class=\"plotly-graph-div\" style=\"height:525px; width:100%;\"></div>            <script type=\"text/javascript\">                                    window.PLOTLYENV=window.PLOTLYENV || {};                                    if (document.getElementById(\"878b682a-1e9a-4128-a8ae-104c70acda73\")) {                    Plotly.newPlot(                        \"878b682a-1e9a-4128-a8ae-104c70acda73\",                        [{\"alignmentgroup\":\"True\",\"bingroup\":\"x\",\"hovertemplate\":\"Number of Tags=%{x}\\u003cbr\\u003ecount=%{y}\\u003cextra\\u003e\\u003c\\u002fextra\\u003e\",\"legendgroup\":\"\",\"marker\":{\"color\":\"#636efa\",\"pattern\":{\"shape\":\"\"}},\"name\":\"\",\"nbinsx\":50,\"offsetgroup\":\"\",\"orientation\":\"v\",\"showlegend\":false,\"x\":[18,0,5,0,3,2,16,3,5,8,11,5,8,0,0,11,13,3,11,5,0,25,13,2,5,5,0,10,1,8,17,1,7,3,0,7,3,5,1,4,5,1,1,1,16,4,2,5,21,6,1,5,20,1,1,4,1,14,9,6,2,7,3,5,5,6,7,5,4,3,9,11,2,2,2,21,7,1,5,3,6,14,6,2,4,5,4,1,7,0,5,18,4,6,6,6,1,1,4,10,5,13,3,0,3,27,1,1,5,3,2,4,3,11,13,6,9,7,2,4,2,12,3,0,0,5,1,6,4,6,5,4,1,6,2,3,5,1,3,9,6,5,13,2,17,3,0,9,28,7,0,0,11,2,27,7,12,1,12,18,5,14,13,9,6,13,16,10,13,6,17,8,9,6,14,3,17,10,0,0,2,4,6,7,7,11,6,6,1,3,6,10,2,18,5,8,3,13,10,0,14,0,2,2,11,5,9,2,5,7,7,8,4,3,0,0,8,2,16,5,6,6,21,4,1,1,4,20,5,15,3,13,7,5,12,15,4,6,1,3,3,11,2,2,1,1,4,13,19,3,3,2,3,3,6,4,1,3,9,20,10,16,0,10,8,1,14,16,5,9,7,4,3,1,9,1,1,14,6,3,11,0,3,4,8,16,3,18,5,28,0,1,4,8,3,0,1,1,0,5,3,4,15,7,3,4,9,6,4,2,3,9,3,4,0,4,15,3,7,4,1,17,13,0,2,11,8,1,7,1,0,0,0,4,5,8,0,16,6,20,5,1,15,3,6,3,6,17,7,5,1,8,9,0,1,1,17,0,1,3,12,1,1,1,4,7,0,11,0,12,13,21,1,0,0,13,2,3,7,3,2,5,4,8,28,10,9,6,6,13,4,6,5,4,4,3,1,5,4,6,10,6,3,25,1,8,6,3,4,2,20,16,2,2,1,6,4,6,0,4,7,7,13,3,3,1,11,5,32,2,1,8,10,23,3,5,9,12,1,0,1,7,1,9,19,4,6,3,0,0,33,2,20,10,1,3,0,15,5,3,14,0,2,4,1,14,8,1,5,1,8,0,9,7,7,2,13,5,1,6,4,25,16,1,3,5,0,5,0,1,0,6,23,5,9,6,0,10,5,1,4,0,14,1,13,9,0,5,6,0,4,14,18,30,10,18,1,8,8,0,12,0,2,12,70,65,5,2,43,11,5,17,5,0,1,2,6,5,19,18,3,1,50,17,5,12,19,1,3,23,3,8,26,25,17,0,1,3,15,24,34,2,20,1,3,31,18,4,0,13,12,14,1,11,9,1,5,5,3,9,1,9,3,12,17,23,2,12,13,3,1,1,6,4,10,1,94,19,67,10,7,9,43,11,5,14,2,1,1,1,7,1,10,17,9,1,11,5,14,0,49,9,12,4,10,1,8,4,8,8,2,24,6,8,18,1,18,4,1,1,4,1,17,5,12,2,32,19,11,1,19,38,12,16,13,8,9,8,38,6,2,9,12,28,17,1,6,12,10,15,20,13,4,13,8,15,22,1,7,15,1,17,0,4,3,1,6,73,1,3,14,11,9,18,0,1,3,1,27,2,27,12,2,17,4,8,7,7,47,7,3,6,17,14,2,0,1,20,2,2,1,6,9,2,7,0,9,10,3,26,8,7,7,20,10,4,3,3,2,6,6,3,4,6,2,14,20,2,16,6,3,11,6,9,0,10,6,2,23,2,5,6,5,29,4,10,8,2,8,1,6,2,0,18,16,0,0,12,19,7,5,3,28,15,1,5,12,8,18,9,11,6,9,2,12,11,13,2,8,20,1,100,5,24,6,2,6,3,1,10,13,22,18,4,17,8,6,3,13,90,18,23,20,2,16,14,16,3,3,7,12,7,6,18,1,8,23,9,5,0,13,24,16,0,44,8,16,10,1,10,1,4,8,1,10,14,4,12,16,6,6,6,1,2,5,16,4,17,9,4,6,6,11,16,40,33,2,7,12,6,5,6,3,12,3,1,6,1,1,10,7,0,0,1,17,6,8,2,10,9,9,4,4,0,7,0,10,5,23,10,10,0,16,11,8,8,9,10,2,16,3,6,30,9,8,2,1,4,3,15,9,6,15,14,3,6,13,18,0,4,0,6,22,2,0,10,8,2,7,10,1,22,30,2,20,15,0,25,13,5,12,8,21,6,15,20,11,3,6,5,5,0,5,9,0,12,8,1,4,4,6,19,9,11,4,2,6,2,13,7,28,10,2,3,17,15,0,10,2,0,4,14,1,10,20,12,0,0,0,11,7,3,3,5,3,21,5,1,3,25,11,1,4,19,1,11,8,7,2,4,9,15,5,5,8,0,14,2,7,2,3,78,7,14,13,10,14,2,9,2,5,2,21,5,13,1,3,25,4,7,8,18,17,0,1,10,7,79,4,3,6,11,7,14,1,5,0,13,11,2,18,6,1,7,1,2,8,0,4,0,11,9,4,0,28,4,45,3,5,6,1,18,18,4,1,4,3,16,2,0,1,5,6,1,10,12,11,9,26,12,13,1,14,14,6,5,25,0,2,17,1,9,9,4,1,11,37,9,11,46,3,14,9,13,17,0,18,35,4,10,17,4,5,1,6,6,1,1,4,15,42,0,24,7,3,6,6,5,9,13,6,17,12,2,6,9,25,12,6,3,1,7,7,3,0,8,13,1,1,5,21,10,0,5,54,12,12,3,31,1,3,0,3,5,1,3,11,8,5,6,14,10,25,29,2,26,8,9,3,2,12,9,4,8,8,2,1,6,19,2,0,11,9,6,6,3,6,1,5,2,2,3,6,15,3,4,9,5,13,17,3,52,75,4,7,8,2,13,14,3,0,6,11,7,17,57,0,1,8,14,4,9,16,12,2,7,4,3,2,1,14,4,0,0,11,14,2,2,1,5,7,9,1,0,14,1,1,1,17,9,30,3,11,6,8,3,1,8,1,0,8,4,10,5,13,39,15,13,4,17,8,1,4,2,0,1,6,30,11,2,11,1,4,11,0,3,48,17,7,9,13,4,9,5,3,15,21,5,0,13,23,4,30,1,8,20,41,8,3,0,15,6,8,19,19,12,5,7,2,3,16,2,4,101,13,9,0,1,4,5,12,0,6,7,10,6,60,1,17,11,13,6,4,1,15,17,8,2,0,11,5,8,15,22,2,10,4,0,1,24,19,5,3,15,30,3,26,11,5,10,10,8,2,37,6,8,3,17,10,7,4,4,6,2,0,6,17,26,0,2,11,15,5,2,12,17,1,0,2,14,2,18,1,2,14,1,7,16,8,11,16,12,11,6,12,3,4,2,6,14,0,8,7,3,15,4,43,6,27,6,6,0,12,13,2,0,4,2,3,38,3,5,1,1,4,4,1,6,16,15,3,5,1,1,3,8,7,4,10,2,1,4,54,19,2,6,9,14,7,24,11,3,1,25,0,4,7,13,63,14,5,22,3,10,21,4,8,10,30,9,20,3,9,15,0,60,8,1,19,3,1,2,4,5,2,3,2,15,1,0,7,7,1,10,4,13,1,4,2,10,2,6,7,4,13,1,2,9,8,15,4,2,1,8,5,6,4,11,16,31,7,24,2,2,3,10,11,16,64,0,22,5,11,4,14,2,23,10,4,2,1,32,1,40,1,17,5,1,3,5,2,6,12,9,3,6,5,3,6,12,1,7,0,6,2,4,56,1,2,0,14,1,10,17,5,6,10,17,9,33,5,1,6,36,2,12,1,2,9,2,37,0,0,0,3,5,10,4,9,0,17,13,4,5,6,5,6,22,6,5,11,1,10,21,5,1,10,5,9,9,7,40,4,0,7,13,15,7,2,5,4,17,4,1,6,6,15,2,9,13,0,1,9,5,4,13,22,11,10,14,7,1,2,0,1,3,3,0,2,2,12,6,2,15,1,8,1,30,2,3,18,9,3,0,2,3,4,1,10,6,6,2,9,12,1,7,6,8,4,0,22,4,5,8,4,11,8,5,3,5,13,10,2,9,8,15,6,5,7,2,2,2,12,0,1,5,0,4,8,12,12,18,6,0,4,3,14,10,2,0,4,3,5,5,3,12,12,4,0,0,3,5,3,1,4,5,19,7,2,2,2,3,4,14,0,3,7,0,7,5,2,4,10,3,4,3,8,11,8,4,10,1,14,16,3,1,0,3,4,10,9,1,9,2,12,3,16,5,15,5,0,3,0,8,1,13,4,10,0,8,7,3,14,9,11,14,15,8,4,30,2,4,7,17,10,14,11,23,6,7,0,0,2,16,8,5,14,7,6,1,5,9,8,15,5,8,7,8,16,16,5,0,8,4,14,5,0,5,8,4,4,0,35,28,5,9,2,4,7,3,1,13,7,5,2,10,2,10,4,1,1,1,14,8,6,14,8,6,2,5,5,0,1,2,1,3,16,4,6,9,10,8,6,8,1,2,0,1,17,9,1,0,7,4,7,7,5,3,16,5,25,7,8,1,12,3,6,3,7,1,5,4,4,6,18,8,7,3,9,3,20,1,21,6,20,8,2,5,16,14,9,14,2,28,1,23,6,15,22,24,22,6,0,1,24,1,3,1,2,13,6,9,6,0,4,17,26,2,19,1,42,7,35,2,0,1,2,2,26,0,4,5,3,2,5,3,1,5,0,7,11,7,13,1,10,1,4,0,4,4,7,2,1,6,3,8,1,3,4,1,2,5,0,2,2,8,2,1,8,4,19,3,0,0,2,8,5,4,7,0,0,0,9,20,0,3,2,1,1,3,3,0,3,8,2,17,1,4,7,2,2,14,4,0,2,0,1,15,4,38,4,1,6,0,5,3,2,1,0,0,2,12,4,7,4,6,4,0,0,4,4,8,12,1,0,0,1,2,1,2,0,4,2,4,3,18,6,9,3,3,0,1,4,5,1,26,4,2,8,1,5,1,4,3,7,7,8,1,0,7,0,7,5,5,0,2,11,4,5,1,12,22,4,7,6,8,0,2,12,2,5,8,0,7,3,0,11,4,7,6,4,0,3,15,1,0,2,9,3,4,8,7,1,1,1,1,9,6,5,11,1,3,3,4,2,1,9,9,0,9,2,4,4,0,3,8,9,5,24,3,3,3,5,10,11,6,4,2,3,10,6,13,5,27,4,21,4,3,1,2,7,5,7,0,1,6,2,0,7,11,6,7,4,18,0,13,12,10,3,8,5,8,10,5,4,4,4,1,7,5,4,0,1,0,1,5,7,7,1,12,3,1,5,62,3,15,6,4,6,4,0,3,1,4,1,13,10,2,0,4,9,0,4,1,6,16,5,27,9,1,0,10,11,5,5,2,3,5,13,10,6,4,3,4,5,2,5,5,4,2,4,7,13,7,8,4,4,9,5,8,1,0,4,5,5,0,7,6,8,1,8,1,5,3,9,5,4,9,2,7,7,12,10,0,9,1,0,0,4,15,11,2,3,5,11,1,6,5,9,4,0,2,5,1,3,3,11,6,2,5,13,0,1,0,6,2,7,2,6,1,2,2,3,0,3,13,2,4,1,9,8,4,5,1,9,14,0,2,2,6,5,1,12,1,10,23,3,2,0,3,6,4,2,8,5,9,6,12,8,11,11,7,4,5,3,1,6,0,2,4,7,2,1,3,6,6,5,3,0,3,1,4,8,5,8,0,13,5,1,5,34,4,0,6,2,12,15,20,1,9,10,34,4,2,4,1,3,6,14,8,22,3,1,5,0,15,0,8,8,6,6,1,8,3,2,1,2,4,2,1,2,20,3,0,3,3,2,10,3,9,26,24,6,14,6,3,1,5,1,6,9,3,16,3,3,1,8,4,1,10,2,3,3,2,0,0,21,3,3,0,3,3,16,12,10,9,3,2,12,4,4,19,5,12,2,6,6,3,21,3,8,1,12,2,4,7,13,1,15,3,3,0,9,0,0,4,7,12,0,3,3,1,7,3,3,1,1,5,2,1,3,11,0,8,7,14,14,11,1,6,10,3,3,8,4,6,3,1,2,5,5,3,3,8,7,8,3,10,3,0,4,2,2,8,3,3,6,13,20,17,6,9,18,13,14,2,18,3,3,19,0,3,6,5,9,1,4,3,6,4,3,12,10,3,0,2,2,5,3,0,0,4,18,0,7,6,9,3,0,0,12,11,5,0,2,8,1,10,7,1,1,13,1,9,1,8,10,7,1,9,7,5,8,9,8,10,10,2,8,3,3,4,12,2,0,8,2,6,7,11,0,3,2,2,4,5,3,1,0,3,4,0,1,3,16,0,11,2,5,5,2,34,1,4,10,1,0,1,0,1,6,6,2,1,0,6,6,4,1,0,3,1,6,5,1,0,5,3,0,5,4,0,5,11,10,4,10,5,5,12,3,6,9,3,1,17,5,0,6,10,13,0,1,4,3,1,2,4,2,3,1,1,3,0,12,7,6,2,13,0,2,1,28,1,1,1,2,10,2,1,8,5,5,12,2,11,0,12,7,3,3,5,35,6,0,3,2,2,3,0,5,5,5,14,26,7,21,0,9,1,4,10,5,2,1,2,4,13,0,19,7,1,6,2,1,8,0,6,7,11,8,2,5,3,3,6,19,8,3,12,3,0,13,1,3,6,10,3,3,3,4,5,3,9,0,0,16,0,1,1,7,34,4,57,11,3,4,7,0,22,3,14,8,0,5,14,14,1,7,3,14,6,1,4,0,5,2,7,3,12,30,5,18,3,16,0,1,6,11,1,1,2,23,9,1,1,7,10,2,4,2,7,0,14,10,1,15,16,11,13,2,6,3,0,2,10,4,20,1,5,1,8,2,13,6,4,2,5,6,4,4,1,18,5,0,5,4,0,6,3,7,5,1,0,66,3,5,3,4,22,2,0,24,9,7,42,14,4,3,4,13,1,8,5,4,3,7,3,3,3,0,7,15,8,8,5,6,6,5,1,3,1,4,4,2,1,10,2,0,1,5,5,4,0,1,7,10,9,0,6,6,2,1,12,10,0,6,11,33,1,11,2,6,3,10,15,3,6,10,2,10,3,1,5,8,1,34,2,8,2,25,5,29,0,2,4,4,2,2,3,1,19,9,4,3,6,0,11,5,9,0,15,1,10,5,3,30,5,24,4,10,8,3,1,2,5,6,11,3,14,11,0,6,6,6,5,77,1,6,16,3,25,10,2,0,3,12,2,6,3,4,1,6,5,9,66,1,1,4,1,0,2,3,10,6,20,0,3,5,5,5,5,6,0,19,0,7,11,0,5,0,9,8,5,12,9,7,2,4,0,5,6,5,5,0,2,18,0,13,46,8,7,3,0,7,7,8,0,13,18,5,10,10,7,3,41,5,81,7,1,3,12,2,8,7,5,3,10,14,16,6,5,3,11,1,5,9,15,16,1,2,13,0,4,10,9,8,1,10,6,9,0,2,4,3,2,2,2,15,1,18,6,0,2,9,1,1,0,3,7,3,2,1,4,1,2,0,2,22,3,3,7,24,32,8,8,11,18,17,4,0,1,2,18,2,2,0,3,9,20,3,18,6,0,14,8,0,20,62,5,12,11,3,5,1,3,31,9,4,18,6,1,3,5,0,7,2,4,6,7,14,13,45,3,3,0,5,7,30,5,7,21,10,10,5,3,7,13,3,2,11,16,17,7,3,10,12,10,16,6,2,9,7,16,8,15,21,20,9,1,5,0,10,0,1,7,17,0,12,5,2,58,0,11,9,25,1,7,14,9,5,18,1,20,1,2,1,4,5,11,20,0,8,0,4,14,7,1,0,0,8,12,14,10,16,6,7,6,14,12,5,1,3,3,1,5,10,11,9,12,3,14,1,1,12,2,3,15,6,13,1,9,7,11,5,0,18,1,4,13,5,16,8,6,6,0,9,5,1,3,1,19,11,2,19,5,5,13,3,6,6,6,8,23,1,14,4,3,1,12,2,6,9,18,18,8,0,38,28,5,8,6,22,7,2,0,2,17,1,25,2,21,2,0,16,4,7,18,1,6,8,9,5,2,4,8,18,5,13,7,0,9,3,9,6,0,8,4,3,6,10,5,1,0,5,5,3,0,3,22,4,5,3,3,3,7,7,6,3,3,0,1,12,7,6,3,12,21,7,0,13,16,12,4,8,11,8,11,12,2,13,2,10,17,1,7,3,5,4,3,5,2,10,3,15,13,4,9,2,1,2,3,1,6,1,6,2,0,4,2,4,2,9,0,3,10,4,4,7,7,11,2,6,2,25,7,7,2,4,1,1,0,8,15,5,31,6,11,1,5,6,1,1,1,9,11,0,3,1,17,1,2,10,0,5,5,24,7,1,12,7,5,14,9,12,2,4,0,4,7,8,6,0,3,1,2,3,0,14,5,4,5,3,7,6,2,0,0,1,0,7,19,5,0,6,7,0,16,2,2,1,13,5,9,11,11,3,12,13,6,5,1,17,13,1,6,8,18,2,0,0,1,1,1,4,19,3,0,47,3,0,1,0,0,4,4,7,2,4,30,3,14,14,2,8,1,8,4,2,5,1,1,32,5,11,3,15,1,7,8,10,9,31,5,4,5,7,1,1,0,2,9,17,0,2,2,10,3,2,7,10,0,6,0,10,7,2,18,7,3,7,2,19,8,0,7,20,1,6,19,2,1,4,12,0,5,0,3,2,0,2,5,6,1,3,12,1,4,6,3,19,7,2,3,1,11,6,0,36,5,2,8,26,14,1,7,3,3,1,0,2,3,9,19,5,1,2,10,13,4,10,1,7,3,7,2,3,2,8,0,7,6,9,6,1,56,27,1,0,6,2,0,8,2,4,0,1,4,3,18,4,7,5,6,4,8,5,6,4,0,0,2,9,44,1,33,4,9,1,4,2,14,9,2,9,10,7,6,1,6,0,3,3,24,5,1,1,5,5,1,9,8,3,6,0,11,3,14,13,10,5,7,3,23,26,7,2,17,4,3,8,1,0,2,1,2,12,4,8,14,2,2,2,20,7,3,2,27,10,0,3,2,1,21,1,1,1,22,67,0,4,14,10,0,2,31,6,10,5,1,0,3,8,13,2,1,1,7,1,5,11,9,11,3,7,1,6,21,3,6,8,1,1,24,8,8,10,3,5,8,4,5,8,8,1,13,1,21,5,9,11,10,9,2,2,2,5,5,4,0,11,3,10,9,4,6,5,12,9,15,0,4,7,1,1,11,4,3,10,8,15,2,7,2,14,0,21,5,6,10,13,9,1,10,3,21,1,5,6,11,11,10,10,6,16,1,3,3,1,1,4,8,7,4,21,8,7,20,6,7,19,8,10,7,9,8,3,1,1,4,12,4,4,7,16,3,8,4,3,4,8,7,13,2,14,12,21,7,3,1,1,18,4,7,7,1,0,6,5,1,8,4,9,13,1,3,9,9,15,8,5,1,6,12,1,1,16,3,5,5,12,9,7,7,0,0,3,9,11,5,6,6,22,9,1,4,7,13,7,5,1,8,4,10,14,7,7,8,6,1,7,23,9,14,10,2,7,25,4,7,6,1,0,18,9,8,4,6,1,2,5,2,0,8,8,3,9,9,1,15,1,7,5,3,3,16,4,1,6,0,1,3,18,6,7,6,1,1,4,1,7,7,8,9,14,1,2,1,9,6,19,2,2,3,4,7,8,19,1,22,7,3,19,14,4,7,3,7,2,5,0,4,1,1,0,8,5,1,8,0,9,1,16,12,1,1,4,4,5,2,2,0,7,9,4,10,1,2,4,1,1,8,2,18,2,10,2,5,1,18,0,4,1,1,3,3,9,21,3,13,16,1,4,11,2,6,1,2,13,2,0,2,4,13,3,1,0,20,3,5,12,11,1,0,1,2,6,4,4,2,1,2,1,6,7,2,1,1,0,3,7,0,14,13,0,6,1,5,11,12,1,1,1,0,2,7,0,2,1,13,1,8,5,2,9,19,3,12,3,2,3,4,1,2,2,19,0,21,1,1,2,12,2,6,15,1,1,7,20,1,6,24,23,24,4,0,9,5,0,23,24,0,6,15,3,0,14,6,16,6,24,5,10,27,7,2,28,2,3,1,0,6,5,4,4,8,0,1,2,23,24,8,2,2,3,1,24,10,1,3,0,7,1,6,8,4,5,6,11,3,7,3,4,12,0,2,2,2,4,0,3,0,3,1,2,6,2,10,6,3,2,8,1,23,3,0,7,2,1,2,12,9,6,10,1,1,0,1,5,19,2,6,14,3,2,1,1,2,8,6,11,6,2,5,10,11,4,3,3,7,2,1,2,2,2,4,2,4,0,6,4,1,1,9,0,0,1,7,6,2,1,11,3,5,7,10,3,10,1,7,9,4,6,8,3,16,5,5,6,21,2,6,0,1,18,10,5,5,2,6,0,4,6,1,3,3,8,7,4,9,6,4,36,1,4,0,6,4,2,11,5,1,2,2,2,1,3,3,15,13,16,5,2,6,23,6,16,10,5,1,2,4,0,5,6,8,1,1,6,5,2,8,12,1,8,1,6,4,0,6,5,1,8,2,9,49,0,4,8,18,2,16,0,7,0,2,1,4,4,6,31,9,4,0,4,10,1,2,8,11,5,7,4,1,1,17,5,8,2,6,3,6,0,5,0,2,7,9,5,11,1,0,25,4,12,4,1,5,3,2,1,19,5,5,12,17,6,13,6,16,5,4,11,3,1,8,1,1,6,1,5,3,13,9,1,8,6,3,1,7,2,4,3,5,1,4,10,9,6,1,5,0,12,6,4,7,9,5,5,5,5,32,4,3,14,27,1,0,1,4,8,3,5,5,0,4,1,5,9,9,8,10,8,8,4,7,2,3,11,1,0,5,3,1,9,0,7,16,3,7,5,1,1,4,7,2,25,7,12,4,9,7,3,0,6,0,0,7,0,4,1,6,2,0,19,1,0,12,2,9,0,5,5,2,3,7,1,21,9,11,5,1,14,12,1,5,1,14,2,16,0,8,0,21,3,6,4,19,2,1,7,11,4,11,11,0,5,1,8,5,33,13,22,7,0,4,6,4,9,13,9,15,5,4,8,22,7,5,10,15,4,0,8,7,6,7,3,12,4,14,14,3,11,8,3,5,11,5,6,0,2,6,6,2,1,6,9,14,2,12,10,0,8,22,12,3,4,1,12,1,10,24,3,45,0,14,1,14,4,2,5,7,8,15,17,0,8,5,0,1,7,5,1,0,5,2,4,31,1,12,6,0,10,4,3,4,3,3,32,3,15,6,0,10,18,7,2,1,5,11,9,1,6,5,5,0,3,7,3,10,15,1,5,3,5,7,2,5,0,4,1,4,0,5,4,9,4,2,0,9,3,21,15,9,13,4,7,4,1,0,4,1,7,9,0,9,4,34,4,3,12,5,6,0,2,3,0,12,1,10,4,2,2,0,6,2,3,8,1,6,15,3,6,0,10,19,3,2,9,0,7,17,5,10,3,3,2,1,4,23,1,9,12,2,12,15,2,2,3,25,2,1,5,6,3,2,5,36,5,0,19,7,8,12,1,9,6,4,1,3,3,9,14,5,3,7,12,3,29,3,7,9,8,15,12,4,17,3,17,2,1,7,3,15,11,0,21,1,4,14,8,0,0,0,4,2,6,0,3,0,0,22,6,13,15,11,12,6,9,4,3,5,4,25,7,2,15,15,20,1,3,10,5,0,5,11,2,2,8,6,4,14,7,16,2,14,7,2,2,4,7,4,2,3,13,9,1,2,30,9,1,13,10,7,3,3,7,3,4,4,2,1,2,4,10,12,15,3,0,6,5,1,2,12,2,6,2,6,17,1,2,10,30,7,4,1,3,2,2,39,2,7,3,4,0,1,4,1,14,7,7,12,4,2,3,23,7,2,11,1,3,5,3,4,6,0,2,0,6,17,38,10,5,6,5,7,4,1,13,12],\"xaxis\":\"x\",\"yaxis\":\"y\",\"type\":\"histogram\"}],                        {\"template\":{\"data\":{\"histogram2dcontour\":[{\"type\":\"histogram2dcontour\",\"colorbar\":{\"outlinewidth\":0,\"ticks\":\"\"},\"colorscale\":[[0.0,\"#0d0887\"],[0.1111111111111111,\"#46039f\"],[0.2222222222222222,\"#7201a8\"],[0.3333333333333333,\"#9c179e\"],[0.4444444444444444,\"#bd3786\"],[0.5555555555555556,\"#d8576b\"],[0.6666666666666666,\"#ed7953\"],[0.7777777777777778,\"#fb9f3a\"],[0.8888888888888888,\"#fdca26\"],[1.0,\"#f0f921\"]]}],\"choropleth\":[{\"type\":\"choropleth\",\"colorbar\":{\"outlinewidth\":0,\"ticks\":\"\"}}],\"histogram2d\":[{\"type\":\"histogram2d\",\"colorbar\":{\"outlinewidth\":0,\"ticks\":\"\"},\"colorscale\":[[0.0,\"#0d0887\"],[0.1111111111111111,\"#46039f\"],[0.2222222222222222,\"#7201a8\"],[0.3333333333333333,\"#9c179e\"],[0.4444444444444444,\"#bd3786\"],[0.5555555555555556,\"#d8576b\"],[0.6666666666666666,\"#ed7953\"],[0.7777777777777778,\"#fb9f3a\"],[0.8888888888888888,\"#fdca26\"],[1.0,\"#f0f921\"]]}],\"heatmap\":[{\"type\":\"heatmap\",\"colorbar\":{\"outlinewidth\":0,\"ticks\":\"\"},\"colorscale\":[[0.0,\"#0d0887\"],[0.1111111111111111,\"#46039f\"],[0.2222222222222222,\"#7201a8\"],[0.3333333333333333,\"#9c179e\"],[0.4444444444444444,\"#bd3786\"],[0.5555555555555556,\"#d8576b\"],[0.6666666666666666,\"#ed7953\"],[0.7777777777777778,\"#fb9f3a\"],[0.8888888888888888,\"#fdca26\"],[1.0,\"#f0f921\"]]}],\"heatmapgl\":[{\"type\":\"heatmapgl\",\"colorbar\":{\"outlinewidth\":0,\"ticks\":\"\"},\"colorscale\":[[0.0,\"#0d0887\"],[0.1111111111111111,\"#46039f\"],[0.2222222222222222,\"#7201a8\"],[0.3333333333333333,\"#9c179e\"],[0.4444444444444444,\"#bd3786\"],[0.5555555555555556,\"#d8576b\"],[0.6666666666666666,\"#ed7953\"],[0.7777777777777778,\"#fb9f3a\"],[0.8888888888888888,\"#fdca26\"],[1.0,\"#f0f921\"]]}],\"contourcarpet\":[{\"type\":\"contourcarpet\",\"colorbar\":{\"outlinewidth\":0,\"ticks\":\"\"}}],\"contour\":[{\"type\":\"contour\",\"colorbar\":{\"outlinewidth\":0,\"ticks\":\"\"},\"colorscale\":[[0.0,\"#0d0887\"],[0.1111111111111111,\"#46039f\"],[0.2222222222222222,\"#7201a8\"],[0.3333333333333333,\"#9c179e\"],[0.4444444444444444,\"#bd3786\"],[0.5555555555555556,\"#d8576b\"],[0.6666666666666666,\"#ed7953\"],[0.7777777777777778,\"#fb9f3a\"],[0.8888888888888888,\"#fdca26\"],[1.0,\"#f0f921\"]]}],\"surface\":[{\"type\":\"surface\",\"colorbar\":{\"outlinewidth\":0,\"ticks\":\"\"},\"colorscale\":[[0.0,\"#0d0887\"],[0.1111111111111111,\"#46039f\"],[0.2222222222222222,\"#7201a8\"],[0.3333333333333333,\"#9c179e\"],[0.4444444444444444,\"#bd3786\"],[0.5555555555555556,\"#d8576b\"],[0.6666666666666666,\"#ed7953\"],[0.7777777777777778,\"#fb9f3a\"],[0.8888888888888888,\"#fdca26\"],[1.0,\"#f0f921\"]]}],\"mesh3d\":[{\"type\":\"mesh3d\",\"colorbar\":{\"outlinewidth\":0,\"ticks\":\"\"}}],\"scatter\":[{\"fillpattern\":{\"fillmode\":\"overlay\",\"size\":10,\"solidity\":0.2},\"type\":\"scatter\"}],\"parcoords\":[{\"type\":\"parcoords\",\"line\":{\"colorbar\":{\"outlinewidth\":0,\"ticks\":\"\"}}}],\"scatterpolargl\":[{\"type\":\"scatterpolargl\",\"marker\":{\"colorbar\":{\"outlinewidth\":0,\"ticks\":\"\"}}}],\"bar\":[{\"error_x\":{\"color\":\"#2a3f5f\"},\"error_y\":{\"color\":\"#2a3f5f\"},\"marker\":{\"line\":{\"color\":\"#E5ECF6\",\"width\":0.5},\"pattern\":{\"fillmode\":\"overlay\",\"size\":10,\"solidity\":0.2}},\"type\":\"bar\"}],\"scattergeo\":[{\"type\":\"scattergeo\",\"marker\":{\"colorbar\":{\"outlinewidth\":0,\"ticks\":\"\"}}}],\"scatterpolar\":[{\"type\":\"scatterpolar\",\"marker\":{\"colorbar\":{\"outlinewidth\":0,\"ticks\":\"\"}}}],\"histogram\":[{\"marker\":{\"pattern\":{\"fillmode\":\"overlay\",\"size\":10,\"solidity\":0.2}},\"type\":\"histogram\"}],\"scattergl\":[{\"type\":\"scattergl\",\"marker\":{\"colorbar\":{\"outlinewidth\":0,\"ticks\":\"\"}}}],\"scatter3d\":[{\"type\":\"scatter3d\",\"line\":{\"colorbar\":{\"outlinewidth\":0,\"ticks\":\"\"}},\"marker\":{\"colorbar\":{\"outlinewidth\":0,\"ticks\":\"\"}}}],\"scattermapbox\":[{\"type\":\"scattermapbox\",\"marker\":{\"colorbar\":{\"outlinewidth\":0,\"ticks\":\"\"}}}],\"scatterternary\":[{\"type\":\"scatterternary\",\"marker\":{\"colorbar\":{\"outlinewidth\":0,\"ticks\":\"\"}}}],\"scattercarpet\":[{\"type\":\"scattercarpet\",\"marker\":{\"colorbar\":{\"outlinewidth\":0,\"ticks\":\"\"}}}],\"carpet\":[{\"aaxis\":{\"endlinecolor\":\"#2a3f5f\",\"gridcolor\":\"white\",\"linecolor\":\"white\",\"minorgridcolor\":\"white\",\"startlinecolor\":\"#2a3f5f\"},\"baxis\":{\"endlinecolor\":\"#2a3f5f\",\"gridcolor\":\"white\",\"linecolor\":\"white\",\"minorgridcolor\":\"white\",\"startlinecolor\":\"#2a3f5f\"},\"type\":\"carpet\"}],\"table\":[{\"cells\":{\"fill\":{\"color\":\"#EBF0F8\"},\"line\":{\"color\":\"white\"}},\"header\":{\"fill\":{\"color\":\"#C8D4E3\"},\"line\":{\"color\":\"white\"}},\"type\":\"table\"}],\"barpolar\":[{\"marker\":{\"line\":{\"color\":\"#E5ECF6\",\"width\":0.5},\"pattern\":{\"fillmode\":\"overlay\",\"size\":10,\"solidity\":0.2}},\"type\":\"barpolar\"}],\"pie\":[{\"automargin\":true,\"type\":\"pie\"}]},\"layout\":{\"autotypenumbers\":\"strict\",\"colorway\":[\"#636efa\",\"#EF553B\",\"#00cc96\",\"#ab63fa\",\"#FFA15A\",\"#19d3f3\",\"#FF6692\",\"#B6E880\",\"#FF97FF\",\"#FECB52\"],\"font\":{\"color\":\"#2a3f5f\"},\"hovermode\":\"closest\",\"hoverlabel\":{\"align\":\"left\"},\"paper_bgcolor\":\"white\",\"plot_bgcolor\":\"#E5ECF6\",\"polar\":{\"bgcolor\":\"#E5ECF6\",\"angularaxis\":{\"gridcolor\":\"white\",\"linecolor\":\"white\",\"ticks\":\"\"},\"radialaxis\":{\"gridcolor\":\"white\",\"linecolor\":\"white\",\"ticks\":\"\"}},\"ternary\":{\"bgcolor\":\"#E5ECF6\",\"aaxis\":{\"gridcolor\":\"white\",\"linecolor\":\"white\",\"ticks\":\"\"},\"baxis\":{\"gridcolor\":\"white\",\"linecolor\":\"white\",\"ticks\":\"\"},\"caxis\":{\"gridcolor\":\"white\",\"linecolor\":\"white\",\"ticks\":\"\"}},\"coloraxis\":{\"colorbar\":{\"outlinewidth\":0,\"ticks\":\"\"}},\"colorscale\":{\"sequential\":[[0.0,\"#0d0887\"],[0.1111111111111111,\"#46039f\"],[0.2222222222222222,\"#7201a8\"],[0.3333333333333333,\"#9c179e\"],[0.4444444444444444,\"#bd3786\"],[0.5555555555555556,\"#d8576b\"],[0.6666666666666666,\"#ed7953\"],[0.7777777777777778,\"#fb9f3a\"],[0.8888888888888888,\"#fdca26\"],[1.0,\"#f0f921\"]],\"sequentialminus\":[[0.0,\"#0d0887\"],[0.1111111111111111,\"#46039f\"],[0.2222222222222222,\"#7201a8\"],[0.3333333333333333,\"#9c179e\"],[0.4444444444444444,\"#bd3786\"],[0.5555555555555556,\"#d8576b\"],[0.6666666666666666,\"#ed7953\"],[0.7777777777777778,\"#fb9f3a\"],[0.8888888888888888,\"#fdca26\"],[1.0,\"#f0f921\"]],\"diverging\":[[0,\"#8e0152\"],[0.1,\"#c51b7d\"],[0.2,\"#de77ae\"],[0.3,\"#f1b6da\"],[0.4,\"#fde0ef\"],[0.5,\"#f7f7f7\"],[0.6,\"#e6f5d0\"],[0.7,\"#b8e186\"],[0.8,\"#7fbc41\"],[0.9,\"#4d9221\"],[1,\"#276419\"]]},\"xaxis\":{\"gridcolor\":\"white\",\"linecolor\":\"white\",\"ticks\":\"\",\"title\":{\"standoff\":15},\"zerolinecolor\":\"white\",\"automargin\":true,\"zerolinewidth\":2},\"yaxis\":{\"gridcolor\":\"white\",\"linecolor\":\"white\",\"ticks\":\"\",\"title\":{\"standoff\":15},\"zerolinecolor\":\"white\",\"automargin\":true,\"zerolinewidth\":2},\"scene\":{\"xaxis\":{\"backgroundcolor\":\"#E5ECF6\",\"gridcolor\":\"white\",\"linecolor\":\"white\",\"showbackground\":true,\"ticks\":\"\",\"zerolinecolor\":\"white\",\"gridwidth\":2},\"yaxis\":{\"backgroundcolor\":\"#E5ECF6\",\"gridcolor\":\"white\",\"linecolor\":\"white\",\"showbackground\":true,\"ticks\":\"\",\"zerolinecolor\":\"white\",\"gridwidth\":2},\"zaxis\":{\"backgroundcolor\":\"#E5ECF6\",\"gridcolor\":\"white\",\"linecolor\":\"white\",\"showbackground\":true,\"ticks\":\"\",\"zerolinecolor\":\"white\",\"gridwidth\":2}},\"shapedefaults\":{\"line\":{\"color\":\"#2a3f5f\"}},\"annotationdefaults\":{\"arrowcolor\":\"#2a3f5f\",\"arrowhead\":0,\"arrowwidth\":1},\"geo\":{\"bgcolor\":\"white\",\"landcolor\":\"#E5ECF6\",\"subunitcolor\":\"white\",\"showland\":true,\"showlakes\":true,\"lakecolor\":\"white\"},\"title\":{\"x\":0.05},\"mapbox\":{\"style\":\"light\"}}},\"xaxis\":{\"anchor\":\"y\",\"domain\":[0.0,1.0],\"title\":{\"text\":\"Number of Tags\"}},\"yaxis\":{\"anchor\":\"x\",\"domain\":[0.0,1.0],\"title\":{\"text\":\"count\"}},\"legend\":{\"tracegroupgap\":0},\"title\":{\"text\":\"Histogram of Number of Tags per Product\"},\"barmode\":\"relative\"},                        {\"responsive\": true}                    ).then(function(){\n",
              "                            \n",
              "var gd = document.getElementById('878b682a-1e9a-4128-a8ae-104c70acda73');\n",
              "var x = new MutationObserver(function (mutations, observer) {{\n",
              "        var display = window.getComputedStyle(gd).display;\n",
              "        if (!display || display === 'none') {{\n",
              "            console.log([gd, 'removed!']);\n",
              "            Plotly.purge(gd);\n",
              "            observer.disconnect();\n",
              "        }}\n",
              "}});\n",
              "\n",
              "// Listen for the removal of the full notebook cells\n",
              "var notebookContainer = gd.closest('#notebook-container');\n",
              "if (notebookContainer) {{\n",
              "    x.observe(notebookContainer, {childList: true});\n",
              "}}\n",
              "\n",
              "// Listen for the clearing of the current output cell\n",
              "var outputEl = gd.closest('.output');\n",
              "if (outputEl) {{\n",
              "    x.observe(outputEl, {childList: true});\n",
              "}}\n",
              "\n",
              "                        })                };                            </script>        </div>\n",
              "</body>\n",
              "</html>"
            ]
          },
          "metadata": {}
        }
      ]
    },
    {
      "cell_type": "markdown",
      "source": [
        "#### 4. Bar plot of the top 10 most frequent tags."
      ],
      "metadata": {
        "id": "AxKTjGeh3d7g"
      }
    },
    {
      "cell_type": "code",
      "source": [
        "# Extract and count the tags\n",
        "tag_counts = df['tags'].explode().value_counts()\n",
        "\n",
        "# Get the top 10 most frequent tags\n",
        "top_10_tags = tag_counts.head(10)"
      ],
      "metadata": {
        "id": "xmsm1awQ2sfe"
      },
      "execution_count": 12,
      "outputs": []
    },
    {
      "cell_type": "code",
      "source": [
        "# Create a bar plot using Plotly\n",
        "fig = px.bar(top_10_tags, x=top_10_tags.index, y=top_10_tags.values, title=\"Top 10 Most Frequent Tags\",\n",
        "             labels={'index': 'Tag', 'values': 'Count'})\n",
        "\n",
        "fig.show()"
      ],
      "metadata": {
        "colab": {
          "base_uri": "https://localhost:8080/",
          "height": 542
        },
        "id": "M_iIUniE2r2z",
        "outputId": "e6f80687-d525-425e-d630-3911903597c7"
      },
      "execution_count": 13,
      "outputs": [
        {
          "output_type": "display_data",
          "data": {
            "text/html": [
              "<html>\n",
              "<head><meta charset=\"utf-8\" /></head>\n",
              "<body>\n",
              "    <div>            <script src=\"https://cdnjs.cloudflare.com/ajax/libs/mathjax/2.7.5/MathJax.js?config=TeX-AMS-MML_SVG\"></script><script type=\"text/javascript\">if (window.MathJax && window.MathJax.Hub && window.MathJax.Hub.Config) {window.MathJax.Hub.Config({SVG: {font: \"STIX-Web\"}});}</script>                <script type=\"text/javascript\">window.PlotlyConfig = {MathJaxConfig: 'local'};</script>\n",
              "        <script charset=\"utf-8\" src=\"https://cdn.plot.ly/plotly-2.24.1.min.js\"></script>                <div id=\"c8b6d5b6-bd22-4c07-9bde-4060743f09a8\" class=\"plotly-graph-div\" style=\"height:525px; width:100%;\"></div>            <script type=\"text/javascript\">                                    window.PLOTLYENV=window.PLOTLYENV || {};                                    if (document.getElementById(\"c8b6d5b6-bd22-4c07-9bde-4060743f09a8\")) {                    Plotly.newPlot(                        \"c8b6d5b6-bd22-4c07-9bde-4060743f09a8\",                        [{\"alignmentgroup\":\"True\",\"hovertemplate\":\"Tag=%{x}\\u003cbr\\u003ey=%{y}\\u003cextra\\u003e\\u003c\\u002fextra\\u003e\",\"legendgroup\":\"\",\"marker\":{\"color\":\"#636efa\",\"pattern\":{\"shape\":\"\"}},\"name\":\"\",\"offsetgroup\":\"\",\"orientation\":\"v\",\"showlegend\":false,\"textposition\":\"auto\",\"x\":[\"Black\",\"spo-disabled\",\"spo-default\",\"New\",\"new\",\"Toys\",\"Backpacks\",\"Accessories\",\"Books\",\"White\"],\"xaxis\":\"x\",\"y\":[101,99,86,84,83,78,75,70,69,62],\"yaxis\":\"y\",\"type\":\"bar\"}],                        {\"template\":{\"data\":{\"histogram2dcontour\":[{\"type\":\"histogram2dcontour\",\"colorbar\":{\"outlinewidth\":0,\"ticks\":\"\"},\"colorscale\":[[0.0,\"#0d0887\"],[0.1111111111111111,\"#46039f\"],[0.2222222222222222,\"#7201a8\"],[0.3333333333333333,\"#9c179e\"],[0.4444444444444444,\"#bd3786\"],[0.5555555555555556,\"#d8576b\"],[0.6666666666666666,\"#ed7953\"],[0.7777777777777778,\"#fb9f3a\"],[0.8888888888888888,\"#fdca26\"],[1.0,\"#f0f921\"]]}],\"choropleth\":[{\"type\":\"choropleth\",\"colorbar\":{\"outlinewidth\":0,\"ticks\":\"\"}}],\"histogram2d\":[{\"type\":\"histogram2d\",\"colorbar\":{\"outlinewidth\":0,\"ticks\":\"\"},\"colorscale\":[[0.0,\"#0d0887\"],[0.1111111111111111,\"#46039f\"],[0.2222222222222222,\"#7201a8\"],[0.3333333333333333,\"#9c179e\"],[0.4444444444444444,\"#bd3786\"],[0.5555555555555556,\"#d8576b\"],[0.6666666666666666,\"#ed7953\"],[0.7777777777777778,\"#fb9f3a\"],[0.8888888888888888,\"#fdca26\"],[1.0,\"#f0f921\"]]}],\"heatmap\":[{\"type\":\"heatmap\",\"colorbar\":{\"outlinewidth\":0,\"ticks\":\"\"},\"colorscale\":[[0.0,\"#0d0887\"],[0.1111111111111111,\"#46039f\"],[0.2222222222222222,\"#7201a8\"],[0.3333333333333333,\"#9c179e\"],[0.4444444444444444,\"#bd3786\"],[0.5555555555555556,\"#d8576b\"],[0.6666666666666666,\"#ed7953\"],[0.7777777777777778,\"#fb9f3a\"],[0.8888888888888888,\"#fdca26\"],[1.0,\"#f0f921\"]]}],\"heatmapgl\":[{\"type\":\"heatmapgl\",\"colorbar\":{\"outlinewidth\":0,\"ticks\":\"\"},\"colorscale\":[[0.0,\"#0d0887\"],[0.1111111111111111,\"#46039f\"],[0.2222222222222222,\"#7201a8\"],[0.3333333333333333,\"#9c179e\"],[0.4444444444444444,\"#bd3786\"],[0.5555555555555556,\"#d8576b\"],[0.6666666666666666,\"#ed7953\"],[0.7777777777777778,\"#fb9f3a\"],[0.8888888888888888,\"#fdca26\"],[1.0,\"#f0f921\"]]}],\"contourcarpet\":[{\"type\":\"contourcarpet\",\"colorbar\":{\"outlinewidth\":0,\"ticks\":\"\"}}],\"contour\":[{\"type\":\"contour\",\"colorbar\":{\"outlinewidth\":0,\"ticks\":\"\"},\"colorscale\":[[0.0,\"#0d0887\"],[0.1111111111111111,\"#46039f\"],[0.2222222222222222,\"#7201a8\"],[0.3333333333333333,\"#9c179e\"],[0.4444444444444444,\"#bd3786\"],[0.5555555555555556,\"#d8576b\"],[0.6666666666666666,\"#ed7953\"],[0.7777777777777778,\"#fb9f3a\"],[0.8888888888888888,\"#fdca26\"],[1.0,\"#f0f921\"]]}],\"surface\":[{\"type\":\"surface\",\"colorbar\":{\"outlinewidth\":0,\"ticks\":\"\"},\"colorscale\":[[0.0,\"#0d0887\"],[0.1111111111111111,\"#46039f\"],[0.2222222222222222,\"#7201a8\"],[0.3333333333333333,\"#9c179e\"],[0.4444444444444444,\"#bd3786\"],[0.5555555555555556,\"#d8576b\"],[0.6666666666666666,\"#ed7953\"],[0.7777777777777778,\"#fb9f3a\"],[0.8888888888888888,\"#fdca26\"],[1.0,\"#f0f921\"]]}],\"mesh3d\":[{\"type\":\"mesh3d\",\"colorbar\":{\"outlinewidth\":0,\"ticks\":\"\"}}],\"scatter\":[{\"fillpattern\":{\"fillmode\":\"overlay\",\"size\":10,\"solidity\":0.2},\"type\":\"scatter\"}],\"parcoords\":[{\"type\":\"parcoords\",\"line\":{\"colorbar\":{\"outlinewidth\":0,\"ticks\":\"\"}}}],\"scatterpolargl\":[{\"type\":\"scatterpolargl\",\"marker\":{\"colorbar\":{\"outlinewidth\":0,\"ticks\":\"\"}}}],\"bar\":[{\"error_x\":{\"color\":\"#2a3f5f\"},\"error_y\":{\"color\":\"#2a3f5f\"},\"marker\":{\"line\":{\"color\":\"#E5ECF6\",\"width\":0.5},\"pattern\":{\"fillmode\":\"overlay\",\"size\":10,\"solidity\":0.2}},\"type\":\"bar\"}],\"scattergeo\":[{\"type\":\"scattergeo\",\"marker\":{\"colorbar\":{\"outlinewidth\":0,\"ticks\":\"\"}}}],\"scatterpolar\":[{\"type\":\"scatterpolar\",\"marker\":{\"colorbar\":{\"outlinewidth\":0,\"ticks\":\"\"}}}],\"histogram\":[{\"marker\":{\"pattern\":{\"fillmode\":\"overlay\",\"size\":10,\"solidity\":0.2}},\"type\":\"histogram\"}],\"scattergl\":[{\"type\":\"scattergl\",\"marker\":{\"colorbar\":{\"outlinewidth\":0,\"ticks\":\"\"}}}],\"scatter3d\":[{\"type\":\"scatter3d\",\"line\":{\"colorbar\":{\"outlinewidth\":0,\"ticks\":\"\"}},\"marker\":{\"colorbar\":{\"outlinewidth\":0,\"ticks\":\"\"}}}],\"scattermapbox\":[{\"type\":\"scattermapbox\",\"marker\":{\"colorbar\":{\"outlinewidth\":0,\"ticks\":\"\"}}}],\"scatterternary\":[{\"type\":\"scatterternary\",\"marker\":{\"colorbar\":{\"outlinewidth\":0,\"ticks\":\"\"}}}],\"scattercarpet\":[{\"type\":\"scattercarpet\",\"marker\":{\"colorbar\":{\"outlinewidth\":0,\"ticks\":\"\"}}}],\"carpet\":[{\"aaxis\":{\"endlinecolor\":\"#2a3f5f\",\"gridcolor\":\"white\",\"linecolor\":\"white\",\"minorgridcolor\":\"white\",\"startlinecolor\":\"#2a3f5f\"},\"baxis\":{\"endlinecolor\":\"#2a3f5f\",\"gridcolor\":\"white\",\"linecolor\":\"white\",\"minorgridcolor\":\"white\",\"startlinecolor\":\"#2a3f5f\"},\"type\":\"carpet\"}],\"table\":[{\"cells\":{\"fill\":{\"color\":\"#EBF0F8\"},\"line\":{\"color\":\"white\"}},\"header\":{\"fill\":{\"color\":\"#C8D4E3\"},\"line\":{\"color\":\"white\"}},\"type\":\"table\"}],\"barpolar\":[{\"marker\":{\"line\":{\"color\":\"#E5ECF6\",\"width\":0.5},\"pattern\":{\"fillmode\":\"overlay\",\"size\":10,\"solidity\":0.2}},\"type\":\"barpolar\"}],\"pie\":[{\"automargin\":true,\"type\":\"pie\"}]},\"layout\":{\"autotypenumbers\":\"strict\",\"colorway\":[\"#636efa\",\"#EF553B\",\"#00cc96\",\"#ab63fa\",\"#FFA15A\",\"#19d3f3\",\"#FF6692\",\"#B6E880\",\"#FF97FF\",\"#FECB52\"],\"font\":{\"color\":\"#2a3f5f\"},\"hovermode\":\"closest\",\"hoverlabel\":{\"align\":\"left\"},\"paper_bgcolor\":\"white\",\"plot_bgcolor\":\"#E5ECF6\",\"polar\":{\"bgcolor\":\"#E5ECF6\",\"angularaxis\":{\"gridcolor\":\"white\",\"linecolor\":\"white\",\"ticks\":\"\"},\"radialaxis\":{\"gridcolor\":\"white\",\"linecolor\":\"white\",\"ticks\":\"\"}},\"ternary\":{\"bgcolor\":\"#E5ECF6\",\"aaxis\":{\"gridcolor\":\"white\",\"linecolor\":\"white\",\"ticks\":\"\"},\"baxis\":{\"gridcolor\":\"white\",\"linecolor\":\"white\",\"ticks\":\"\"},\"caxis\":{\"gridcolor\":\"white\",\"linecolor\":\"white\",\"ticks\":\"\"}},\"coloraxis\":{\"colorbar\":{\"outlinewidth\":0,\"ticks\":\"\"}},\"colorscale\":{\"sequential\":[[0.0,\"#0d0887\"],[0.1111111111111111,\"#46039f\"],[0.2222222222222222,\"#7201a8\"],[0.3333333333333333,\"#9c179e\"],[0.4444444444444444,\"#bd3786\"],[0.5555555555555556,\"#d8576b\"],[0.6666666666666666,\"#ed7953\"],[0.7777777777777778,\"#fb9f3a\"],[0.8888888888888888,\"#fdca26\"],[1.0,\"#f0f921\"]],\"sequentialminus\":[[0.0,\"#0d0887\"],[0.1111111111111111,\"#46039f\"],[0.2222222222222222,\"#7201a8\"],[0.3333333333333333,\"#9c179e\"],[0.4444444444444444,\"#bd3786\"],[0.5555555555555556,\"#d8576b\"],[0.6666666666666666,\"#ed7953\"],[0.7777777777777778,\"#fb9f3a\"],[0.8888888888888888,\"#fdca26\"],[1.0,\"#f0f921\"]],\"diverging\":[[0,\"#8e0152\"],[0.1,\"#c51b7d\"],[0.2,\"#de77ae\"],[0.3,\"#f1b6da\"],[0.4,\"#fde0ef\"],[0.5,\"#f7f7f7\"],[0.6,\"#e6f5d0\"],[0.7,\"#b8e186\"],[0.8,\"#7fbc41\"],[0.9,\"#4d9221\"],[1,\"#276419\"]]},\"xaxis\":{\"gridcolor\":\"white\",\"linecolor\":\"white\",\"ticks\":\"\",\"title\":{\"standoff\":15},\"zerolinecolor\":\"white\",\"automargin\":true,\"zerolinewidth\":2},\"yaxis\":{\"gridcolor\":\"white\",\"linecolor\":\"white\",\"ticks\":\"\",\"title\":{\"standoff\":15},\"zerolinecolor\":\"white\",\"automargin\":true,\"zerolinewidth\":2},\"scene\":{\"xaxis\":{\"backgroundcolor\":\"#E5ECF6\",\"gridcolor\":\"white\",\"linecolor\":\"white\",\"showbackground\":true,\"ticks\":\"\",\"zerolinecolor\":\"white\",\"gridwidth\":2},\"yaxis\":{\"backgroundcolor\":\"#E5ECF6\",\"gridcolor\":\"white\",\"linecolor\":\"white\",\"showbackground\":true,\"ticks\":\"\",\"zerolinecolor\":\"white\",\"gridwidth\":2},\"zaxis\":{\"backgroundcolor\":\"#E5ECF6\",\"gridcolor\":\"white\",\"linecolor\":\"white\",\"showbackground\":true,\"ticks\":\"\",\"zerolinecolor\":\"white\",\"gridwidth\":2}},\"shapedefaults\":{\"line\":{\"color\":\"#2a3f5f\"}},\"annotationdefaults\":{\"arrowcolor\":\"#2a3f5f\",\"arrowhead\":0,\"arrowwidth\":1},\"geo\":{\"bgcolor\":\"white\",\"landcolor\":\"#E5ECF6\",\"subunitcolor\":\"white\",\"showland\":true,\"showlakes\":true,\"lakecolor\":\"white\"},\"title\":{\"x\":0.05},\"mapbox\":{\"style\":\"light\"}}},\"xaxis\":{\"anchor\":\"y\",\"domain\":[0.0,1.0],\"title\":{\"text\":\"Tag\"}},\"yaxis\":{\"anchor\":\"x\",\"domain\":[0.0,1.0],\"title\":{\"text\":\"y\"}},\"legend\":{\"tracegroupgap\":0},\"title\":{\"text\":\"Top 10 Most Frequent Tags\"},\"barmode\":\"relative\"},                        {\"responsive\": true}                    ).then(function(){\n",
              "                            \n",
              "var gd = document.getElementById('c8b6d5b6-bd22-4c07-9bde-4060743f09a8');\n",
              "var x = new MutationObserver(function (mutations, observer) {{\n",
              "        var display = window.getComputedStyle(gd).display;\n",
              "        if (!display || display === 'none') {{\n",
              "            console.log([gd, 'removed!']);\n",
              "            Plotly.purge(gd);\n",
              "            observer.disconnect();\n",
              "        }}\n",
              "}});\n",
              "\n",
              "// Listen for the removal of the full notebook cells\n",
              "var notebookContainer = gd.closest('#notebook-container');\n",
              "if (notebookContainer) {{\n",
              "    x.observe(notebookContainer, {childList: true});\n",
              "}}\n",
              "\n",
              "// Listen for the clearing of the current output cell\n",
              "var outputEl = gd.closest('.output');\n",
              "if (outputEl) {{\n",
              "    x.observe(outputEl, {childList: true});\n",
              "}}\n",
              "\n",
              "                        })                };                            </script>        </div>\n",
              "</body>\n",
              "</html>"
            ]
          },
          "metadata": {}
        }
      ]
    },
    {
      "cell_type": "markdown",
      "source": [
        "#### 5. box plot of the title lengths"
      ],
      "metadata": {
        "id": "5g43b0ut3ivB"
      }
    },
    {
      "cell_type": "code",
      "source": [
        "# Create a new column to store the length of each product title\n",
        "df['title_length'] = df['title'].apply(len)\n",
        "\n",
        "# Create a box plot for title lengths\n",
        "fig_box = px.box(df, y=\"title_length\", title=\"Distribution of Product Title Lengths\", labels={\"title_length\": \"Length of Title\"})\n",
        "\n",
        "fig_box.show()"
      ],
      "metadata": {
        "colab": {
          "base_uri": "https://localhost:8080/",
          "height": 542
        },
        "id": "Ot1kfHos3ihQ",
        "outputId": "b883088e-24b7-488c-a9ec-a7de45302545"
      },
      "execution_count": 14,
      "outputs": [
        {
          "output_type": "display_data",
          "data": {
            "text/html": [
              "<html>\n",
              "<head><meta charset=\"utf-8\" /></head>\n",
              "<body>\n",
              "    <div>            <script src=\"https://cdnjs.cloudflare.com/ajax/libs/mathjax/2.7.5/MathJax.js?config=TeX-AMS-MML_SVG\"></script><script type=\"text/javascript\">if (window.MathJax && window.MathJax.Hub && window.MathJax.Hub.Config) {window.MathJax.Hub.Config({SVG: {font: \"STIX-Web\"}});}</script>                <script type=\"text/javascript\">window.PlotlyConfig = {MathJaxConfig: 'local'};</script>\n",
              "        <script charset=\"utf-8\" src=\"https://cdn.plot.ly/plotly-2.24.1.min.js\"></script>                <div id=\"551e1dfb-631e-42f7-89ba-9ac4f9dec773\" class=\"plotly-graph-div\" style=\"height:525px; width:100%;\"></div>            <script type=\"text/javascript\">                                    window.PLOTLYENV=window.PLOTLYENV || {};                                    if (document.getElementById(\"551e1dfb-631e-42f7-89ba-9ac4f9dec773\")) {                    Plotly.newPlot(                        \"551e1dfb-631e-42f7-89ba-9ac4f9dec773\",                        [{\"alignmentgroup\":\"True\",\"hovertemplate\":\"Length of Title=%{y}\\u003cextra\\u003e\\u003c\\u002fextra\\u003e\",\"legendgroup\":\"\",\"marker\":{\"color\":\"#636efa\"},\"name\":\"\",\"notched\":false,\"offsetgroup\":\"\",\"orientation\":\"v\",\"showlegend\":false,\"x0\":\" \",\"xaxis\":\"x\",\"y\":[47,31,14,21,35,31,29,22,27,30,29,40,32,25,68,31,37,17,34,14,41,20,73,43,25,18,28,36,47,25,25,12,62,51,35,45,22,21,12,14,35,63,30,81,21,19,33,14,28,43,30,21,61,39,22,19,41,60,16,33,30,66,42,39,22,14,24,43,30,22,53,29,34,27,30,31,27,26,68,27,29,34,80,29,19,52,18,18,29,22,28,26,15,79,46,33,33,40,50,49,33,38,36,30,40,22,19,22,18,23,46,19,26,58,46,53,19,35,44,28,27,35,36,34,56,19,19,22,14,45,28,65,25,17,41,33,54,18,32,19,51,62,45,75,26,9,25,17,26,38,55,33,23,75,43,35,52,24,56,45,35,39,46,28,30,52,49,43,20,37,35,67,68,61,50,30,44,46,62,26,26,16,34,18,21,35,15,28,16,42,22,30,31,39,24,62,20,48,39,77,44,46,12,8,49,60,19,43,21,18,23,24,37,22,25,18,37,35,26,24,42,34,30,25,39,34,58,24,32,38,38,45,13,39,37,53,18,12,26,27,27,45,17,80,14,29,27,38,30,33,27,52,22,41,49,21,16,15,32,80,32,36,59,34,17,39,29,36,21,30,21,27,15,18,71,45,22,27,65,27,46,45,44,34,44,31,35,35,27,35,38,21,22,24,22,34,49,21,25,42,67,19,33,32,16,25,20,16,31,36,17,46,35,45,11,33,49,12,43,68,20,24,26,36,62,64,64,27,18,47,27,33,53,42,37,25,42,32,29,47,65,12,31,34,23,32,15,40,26,43,21,25,25,41,27,42,31,53,29,64,31,25,29,19,22,25,39,59,14,27,31,48,42,37,22,45,45,16,45,32,22,12,39,22,28,62,34,15,42,48,49,34,18,24,16,16,45,23,180,34,45,46,24,37,41,39,18,31,15,77,54,49,18,28,41,36,35,21,24,33,30,25,35,37,37,36,44,19,29,31,37,19,21,24,28,68,37,27,30,33,41,25,30,54,44,20,18,143,40,20,25,25,46,42,18,36,21,54,32,28,15,31,31,35,26,57,18,43,44,21,30,32,23,16,42,50,44,27,45,33,14,37,38,46,33,40,16,13,113,15,28,24,47,26,83,19,42,27,19,40,43,31,26,44,14,23,20,53,32,35,24,47,26,29,29,36,22,23,26,34,27,28,26,29,13,49,42,37,47,20,32,36,25,57,29,30,22,27,11,31,23,21,47,41,36,26,49,25,31,25,45,31,39,22,28,21,24,20,34,45,12,50,21,48,42,37,32,20,31,20,28,30,41,19,17,65,34,19,29,7,18,20,53,22,36,46,41,22,12,34,29,35,42,43,140,16,96,26,71,60,46,50,84,33,18,27,11,82,34,27,31,22,24,9,28,125,31,49,27,71,48,26,29,29,42,12,31,20,23,42,27,32,26,18,26,20,24,29,22,26,16,19,19,62,49,33,31,29,42,27,18,21,27,40,26,42,57,37,23,30,17,21,25,19,31,22,52,47,18,42,24,33,31,28,14,35,60,26,35,38,29,27,23,27,14,31,57,30,49,28,22,16,37,57,32,28,33,51,36,21,51,16,43,32,20,48,21,37,38,29,20,41,94,29,55,22,16,23,29,56,18,17,22,21,20,27,33,29,18,39,31,33,75,16,12,17,42,27,30,31,48,45,34,31,25,32,14,16,25,32,45,24,40,21,25,32,28,53,29,30,39,46,9,17,36,14,24,25,9,20,63,40,16,18,16,11,53,38,25,39,19,36,49,33,18,39,13,25,58,46,34,40,22,24,32,28,23,39,33,31,20,54,38,33,13,21,21,33,41,39,25,69,32,22,19,21,11,35,103,23,29,30,51,13,28,22,28,18,16,21,28,24,21,25,13,16,43,18,16,15,18,28,62,51,48,43,19,51,23,24,12,38,25,51,16,14,14,18,26,115,45,30,23,23,17,59,43,21,20,54,30,24,27,23,44,56,18,20,22,40,33,22,23,36,24,15,18,52,44,84,42,41,17,32,31,15,23,13,33,33,30,27,35,17,40,12,56,35,18,22,18,15,27,26,29,37,34,8,23,30,32,14,32,34,35,31,108,30,52,29,20,36,23,79,27,40,23,62,77,45,59,20,19,21,24,38,20,23,32,24,34,14,64,25,44,26,24,38,20,37,32,19,15,17,48,23,34,16,27,24,38,22,32,22,31,22,20,17,29,35,16,20,44,26,30,31,25,48,25,55,13,34,24,31,33,29,31,40,51,42,52,53,30,30,28,32,27,22,15,55,35,34,19,56,15,27,16,22,15,35,18,39,32,26,15,15,27,23,16,38,38,58,23,45,21,16,15,24,23,16,24,15,37,38,41,29,16,30,20,59,42,19,77,35,20,69,24,10,30,16,42,26,21,19,21,36,24,17,43,31,36,13,17,45,32,36,36,40,25,19,30,41,33,40,58,41,14,16,41,27,27,68,19,11,38,27,11,36,42,33,16,20,22,22,25,29,77,11,32,31,39,35,19,18,37,60,50,16,13,28,20,21,39,34,39,18,35,44,63,31,24,21,27,40,36,23,53,39,38,27,28,20,19,16,42,38,82,29,25,29,35,36,45,32,27,37,29,33,34,32,27,29,22,51,26,26,28,32,30,26,24,48,24,23,16,38,33,30,36,22,27,24,17,26,95,41,31,21,19,20,25,19,16,25,45,26,21,37,11,19,23,23,53,26,24,41,32,45,22,19,56,19,41,18,44,24,15,57,33,30,59,24,26,36,54,85,31,36,28,30,18,24,19,31,42,80,27,45,18,25,18,14,23,27,43,22,16,60,20,32,51,14,95,33,9,27,63,19,30,22,21,40,25,30,11,38,13,29,22,21,36,35,47,35,74,44,28,19,38,39,36,57,37,18,29,26,49,29,19,38,35,61,50,12,52,38,23,31,29,27,78,27,19,44,20,31,37,16,15,14,30,29,19,27,22,50,16,26,29,31,42,20,20,39,28,20,17,22,36,21,17,37,42,19,32,26,17,28,20,44,13,31,19,25,14,51,33,36,42,34,19,30,30,44,29,25,36,36,27,21,85,35,30,37,12,33,26,19,30,27,25,32,22,37,34,30,21,35,18,20,34,26,36,23,23,28,29,126,31,20,30,32,37,23,25,27,28,33,32,30,18,14,22,21,24,20,33,25,26,28,29,24,45,18,65,23,37,46,41,19,24,16,48,21,21,32,30,20,25,42,33,43,18,21,24,40,18,22,66,41,26,39,53,36,12,33,14,26,24,74,21,26,41,86,19,40,73,39,15,22,22,33,13,34,36,47,35,36,20,36,14,43,18,35,28,50,32,63,31,28,17,21,19,38,51,40,32,23,94,51,20,26,21,23,23,55,39,30,28,37,34,22,119,16,20,22,34,26,32,32,58,22,25,22,28,54,35,54,18,41,25,39,23,38,14,58,25,76,32,33,61,19,39,59,18,43,23,16,25,60,36,84,44,42,33,59,25,66,22,31,35,17,22,62,32,58,21,8,31,81,40,63,15,13,27,28,64,21,33,29,23,38,49,44,16,48,78,21,52,40,37,28,47,18,69,39,28,66,46,54,42,28,22,19,53,27,51,11,36,35,33,14,13,30,17,31,57,37,96,18,36,64,24,30,93,27,48,13,31,52,33,32,46,42,33,22,20,38,67,27,43,26,39,18,27,29,68,32,30,37,35,25,18,59,36,24,59,15,17,41,25,33,67,29,77,64,30,53,12,14,24,76,23,19,32,31,84,32,11,33,5,46,52,43,52,68,44,19,18,39,32,70,50,36,44,58,29,54,39,33,44,37,61,37,24,29,63,58,22,44,21,45,32,21,39,42,57,22,36,15,43,43,21,23,20,32,11,26,23,18,25,20,39,34,41,20,36,20,27,50,51,40,40,35,28,23,60,20,55,79,19,69,89,19,22,18,22,25,12,20,31,36,25,30,26,27,60,23,15,18,21,13,45,27,14,52,45,39,32,33,19,16,30,31,27,20,31,74,32,17,17,26,38,36,18,28,43,18,49,35,29,43,33,34,35,11,20,32,50,27,21,101,18,26,24,28,60,23,17,18,33,30,25,52,14,68,15,53,32,16,40,29,15,20,31,15,34,46,38,14,24,19,24,12,29,23,47,45,45,23,34,98,23,22,21,29,109,18,20,21,48,19,44,29,19,36,24,28,38,20,22,16,22,37,49,16,19,23,36,27,25,40,16,11,41,18,20,41,59,44,18,19,19,24,39,34,16,22,50,37,34,24,31,55,38,26,19,62,13,34,23,30,19,45,45,22,33,23,31,101,28,22,21,42,53,25,15,42,30,37,43,65,27,51,31,21,24,9,37,51,19,44,27,23,35,32,14,19,69,13,16,24,24,21,17,53,38,28,35,22,28,13,45,32,32,32,29,24,23,17,24,34,21,27,38,24,36,21,37,20,29,24,29,35,24,31,26,72,46,25,20,31,24,33,27,30,27,21,25,24,24,51,26,22,20,28,11,23,18,28,25,36,45,47,33,6,24,11,10,61,42,59,13,24,25,26,42,21,22,26,18,20,62,21,36,18,24,35,31,11,36,27,17,17,79,18,43,17,21,22,17,52,16,30,40,40,29,29,36,21,20,24,41,19,27,75,30,37,72,15,32,44,49,14,75,24,28,18,8,110,38,38,32,33,23,29,66,14,19,31,43,30,54,46,7,44,45,35,32,77,68,36,23,49,57,56,37,51,69,45,30,28,34,27,22,34,42,20,70,122,38,34,35,9,22,47,23,35,37,27,36,40,15,18,72,49,21,30,86,27,58,12,37,53,29,33,17,64,58,37,50,30,65,39,49,38,19,52,22,114,29,42,30,23,25,32,19,12,10,33,29,18,17,54,41,28,6,21,24,24,28,31,34,24,16,23,38,16,19,13,24,16,40,26,17,10,17,32,7,16,48,18,46,38,19,14,24,52,32,22,29,21,16,40,19,32,40,24,34,18,33,43,42,16,56,16,21,32,25,39,69,22,20,22,47,37,17,44,19,42,30,46,20,28,36,47,56,40,30,29,16,26,19,32,35,26,37,32,24,34,15,13,17,28,23,43,13,27,22,36,39,34,15,44,13,38,40,47,18,40,33,47,31,16,30,27,11,13,39,27,17,40,32,11,37,47,35,12,21,14,32,30,33,37,17,27,29,33,28,35,6,50,27,23,21,45,64,28,9,27,14,22,25,17,26,20,22,28,10,39,43,58,12,33,20,37,27,30,32,40,19,29,16,22,25,35,30,25,39,28,27,40,24,16,35,25,52,20,33,50,30,38,23,30,29,26,31,33,17,46,23,9,10,38,14,21,45,37,20,14,16,18,32,16,52,45,20,65,43,26,36,41,24,28,27,11,37,34,49,29,20,14,29,23,36,19,58,23,46,30,47,19,31,43,36,37,32,72,22,31,24,24,16,33,33,23,40,42,44,26,53,12,14,16,31,36,26,30,21,32,27,47,31,19,18,33,10,38,40,46,24,37,33,24,31,24,7,10,43,19,22,67,40,32,12,14,35,52,34,39,29,23,49,50,24,26,39,28,28,23,24,33,26,13,41,21,24,28,27,15,19,21,42,35,48,25,37,18,44,20,36,18,23,12,20,32,97,28,22,19,52,26,29,33,13,25,50,12,26,25,40,9,32,38,16,18,18,26,19,45,14,34,48,60,31,18,33,22,38,17,29,35,18,25,51,24,46,28,35,34,45,22,35,43,12,29,46,27,62,17,39,63,51,37,38,37,24,15,34,27,33,17,42,25,42,20,22,47,56,23,28,15,25,32,22,26,44,18,39,42,14,15,15,26,31,64,43,22,31,26,26,12,29,42,31,19,28,40,21,50,38,23,39,12,20,15,34,28,47,44,18,30,63,20,44,30,30,11,24,21,20,27,66,18,43,48,12,41,94,19,28,23,17,27,35,27,15,28,18,22,25,33,36,59,17,17,19,36,26,46,34,9,21,26,40,17,31,17,12,44,21,16,55,40,11,17,27,35,17,28,37,35,25,22,19,39,18,12,31,34,28,51,43,85,10,31,25,19,30,12,31,17,46,17,32,13,33,30,15,52,24,23,16,19,30,15,45,39,10,32,44,33,45,25,29,14,39,33,34,28,76,22,25,57,18,39,30,11,32,30,25,23,19,19,30,15,29,31,16,22,27,34,26,37,15,25,36,20,62,19,12,27,41,16,17,51,54,52,15,58,19,20,29,15,19,18,39,30,30,31,28,18,25,14,25,36,29,42,31,27,32,60,17,27,26,16,21,23,28,11,20,30,20,21,61,54,33,28,31,54,31,25,35,29,24,40,45,34,27,79,72,15,46,37,15,26,25,19,18,21,31,9,59,36,21,21,33,38,13,63,45,20,27,18,68,23,46,23,28,16,40,25,21,36,25,70,24,47,27,36,33,50,21,65,21,24,37,17,35,48,38,16,12,29,11,23,59,20,17,90,24,38,32,32,15,93,37,22,23,119,37,24,38,38,31,32,34,20,37,40,41,20,19,19,19,18,31,27,32,6,24,11,27,31,29,56,28,28,17,43,46,23,26,33,28,24,18,12,40,29,31,26,56,20,37,25,21,21,33,22,32,20,15,22,18,24,27,35,30,17,29,37,31,7,32,38,46,34,28,14,6,35,42,54,32,33,14,33,16,55,33,34,66,26,36,43,21,25,21,30,53,17,28,47,23,29,28,31,47,134,6,37,10,11,24,19,47,40,22,37,51,30,53,32,25,10,38,44,45,39,54,25,33,47,13,39,28,57,20,32,31,89,12,20,20,15,11,23,33,21,24,29,19,16,20,16,24,13,21,22,35,34,22,25,8,18,17,24,36,53,32,43,42,19,30,17,24,25,28,41,28,40,97,43,18,105,23,15,42,32,34,50,32,11,56,19,32,52,34,28,50,31,13,12,24,23,31,66,25,8,50,47,54,19,13,40,29,28,58,83,42,27,23,8,24,34,22,38,53,23,34,27,22,23,25,59,21,30,26,17,16,45,43,39,36,30,52,23,26,29,50,12,47,59,22,44,56,30,16,38,57,87,69,10,32,29,20,16,12,51,34,4,37,23,22,23,29,31,48,18,37,28,19,37,53,22,34,33,34,44,43,27,24,29,30,41,8,49,63,88,35,30,69,41,31,30,40,28,38,51,76,71,23,34,14,50,34,22,26,29,39,48,48,60,21,18,48,28,44,28,13,18,12,38,41,15,24,10,39,29,24,37,33,47,39,40,59,30,28,13,52,51,20,37,69,36,22,64,25,16,32,17,61,22,26,45,16,50,30,17,26,28,53,26,46,41,19,38,80,32,17,33,21,21,28,14,28,43,27,19,30,29,56,83,35,13,31,29,38,23,22,78,30,65,26,46,19,24,17,11,17,22,36,30,36,25,34,21,40,22,31,49,11,22,33,14,27,60,15,17,19,27,18,23,36,25,32,26,29,39,31,41,33,13,61,19,30,31,38,39,35,21,27,44,17,26,52,99,15,29,19,30,28,42,19,24,33,21,21,33,36,20,11,85,24,34,26,44,11,56,26,31,52,151,55,58,17,38,41,82,27,31,62,26,30,13,18,29,35,38,17,37,24,24,25,22,24,29,42,55,13,27,18,51,35,17,34,15,18,28,19,21,34,42,44,31,37,29,45,21,31,26,41,9,69,27,21,4,25,39,21,11,28,30,42,16,22,15,39,26,23,61,57,40,26,23,17,37,15,23,17,37,21,15,16,76,17,59,38,16,71,21,41,37,43,18,29,76,30,18,26,20,30,22,16,58,44,38,14,81,11,47,51,35,40,15,15,29,10,28,38,22,39,31,28,13,13,82,50,25,41,30,57,22,17,48,37,28,49,22,49,27,30,27,14,31,128,25,31,22,32,58,37,39,17,64,39,38,34,16,27,15,31,39,28,38,51,24,36,60,28,16,20,18,32,17,51,19,21,32,108,48,43,30,31,40,46,19,65,32,31,19,17,40,31,51,18,17,24,29,38,27,28,24,25,33,27,19,32,24,50,19,48,24,58,35,88,29,39,26,23,17,20,31,32,22,54,35,63,40,25,44,42,10,26,21,23,38,22,25,32,29,18,24,57,40,13,29,37,20,30,35,38,20,40,27,26,45,25,29,33,20,69,34,32,20,39,20,44,23,25,25,34,15,46,27,39,42,32,41,23,37,27,17,25,26,29,22,22,29,53,35,29,48,66,29,20,30,26,27,26,23,37,65,15,32,55,23,44,47,17,26,24,16,55,32,23,30,26,28,34,94,30,14,18,13,42,18,25,33,45,32,43,24,32,34,72,39,44,56,27,32,41,30,28,33,26,20,53,22,41,33,71,26,25,81,19,23,80,34,21,35,53,18,40,37,39,21,41,61,31,35,12,21,18,21,18,24,69,36,30,21,11,140,49,26,53,19,53,16,46,16,31,45,27,34,32,20,25,21,28,26,21,28,19,46,28,100,24,27,27,24,41,32,20,34,23,27,31,30,26,31,43,36,40,30,17,26,22,34,33,47,29,32,18,10,13,24,34,29,20,23,21,38,72,36,33,16,42,25,14,28,30,24,23,25,102,45,29,50,25,28,11,39,31,29,26,51,34,20,33,36,125,46,24,31,23,25,55,13,86,18,25,27,34,30,76,23,35,24,33,73,34,27,26,20,33,32,27,25,20,16,32,37,20,63,65,37,35,40,27,20,34,63,80,46,11,40,56,36,40,23,16,64,37,33,34,39,44,29,22,50,38,42,29,20,27,17,25,61,27,48,61,43,34,39,14,21,19,21,16,60,37,34,52,15,15,34,24,56,11,95,15,24,23,19,42,32,44,27,126,21,28,37,30,41,26,38,41,23,22,25,30,33,30,20,39,23,48,21,36,33,34,23,51,31,41,26,23,27,47,56,21,30,45,48,36,30,30,35,42,45,5,66,23,41,57,29,24,48,18,35,28,20,27,38,120,23,98,36,24,50,33,28,31,45,37,21,19,50,29,49,27,23,25,23,35,23,37,25,28,23,16,37,26,15,11,15,26,16,18,37,66,36,63,24,47,67,29,55,19,37,51,39,31,15,23,38,34,22,40,27,51,44,30,29,19,28,14,35,32,34,52,21,49,50,21,22,28,65,77,12,55,21,15,29,59,37,62,73,38,35,21,29,18,26,19,26,15,10,51,49,34,26,31,8,67,68,48,48,26,44,27,36,19,33,21,27,47,32,16,41,23,47,19,31,25,41,24,53,41,27,24,53,85,51,17,39,16,57,81,13,31,20,40,14,44,75,79,15,34,82,35,38,80,16,45,47,18,79,19,31,24,115,23,36,43,19,43,39,41,79,32,10,40,51,23,71,20,24,30,84,31,40,12,32,29,102,47,20,18,47,21,36,26,33,36,52,39,15,36,20,14,27,32,19,27,44,27,43,11,50,26,39,69,26,34,76,23,29,18,27,40,37,20,25,22,26,23,25,25,12,55,43,15,49,31,26,30,30,30,18,15,36,34,11,100,21,107,64,9,18,18,14,21,18,172,29,21,32,25,78,15,64,31,21,20,167,41,101,25,18,16,40,101,64,20,37,16,22,22,33,41,67,55,12,49,18,37,16,14,26,25,11,33,42,24,46,23,65,66,61,63,35,21,8,42,6,83,64,62,38,42,12,30,24,50,56,40,25,17,39,23,48,13,72,20,86,64,14,8,27,24,22,28,31,20,47,23,12,51,16,17,29,39,23,27,23,44,36,26,31,65,17,33,29,25,41,27,14,20,45,31,49,51,25,29,27,49,35,39,44,16,17,46,31,35,20,21,14,30,29,31,18,27,25,44,25,60,16,20,52,39,20,29,21,20,40,31,34,25,40,51,33,25,30,18,50,25,23,56,27,50,69,40,30,22,22,24,46,25,31,18,26,39,30,15,39,30,47,12,19,79,32,31,31,34,53,58,17,97,29,29,28,24,68,64,34,19,47,66,16,14,26,28,13,26,18,37,14,19,12,17,24,18,21,59,85,135,85,28,24,74,14,56,30,46,22,42,34,13,9,23,58,62,5,39,18,67,13,24,18,66,37,31,33,18,69,73,55,15,46,38,34,49,38,21,34,35,17,28,16,33,66,35,24,52,13,19,26,24,40,40,30,39,12,30,27,27,63,42,25,29,25,26,33,26,34,31,12,56,29,44,17,39,62,126,73,36,10,78,27,22,37,15,26,28,52,30,33,45,51,21,43,44,31,34,14,24,36,21,31,21,34,9,20,16,44,80,23,46,57,22,19,24,25,46,28,44,40,30,40,20,28,33,17,14,20,22,18,28,60,51,41,29,37,40,57,37,59,30,40,25,12,45,37,28,14,18,55,27,56,19,30,61,32,33,19,44,25,38,39,23,32,27,58,49,28,21,39,53,103,76,30,39,107,24,25,34,20,16,29,29,18,50,28,39,26,12,26,30,29,18,31,55,26,40,23,46,25,38,30,29,38,33,24,22,45,128,32,52,72,48,48,42,25,23,29,10,68,14,39,11,11,39,40,74,112,23,29,12,51,22,49,30,31,60,36,40,26,27,20,27,62,27,65,41,33,29,32,51,28,35,27,52,33,29,19,10,41,22,21,31,32,75,26,118,37,44,36,32,33,27,38,25,28,21,21,18,49,38,27,54,20,21,29,27,26,22,51,44,14,54,32,45,87,19,40,50,28,28,11,57,41,42,22,23,30,41,38,25,18,28,27,25,38,40,41,42,11,27,22,22,22,31,54,56,32,24,28,7,27,43,22,58,32,33,36,31,21,20,30,15,50,13,31,16,22,24,47,29,31,40,24,34,19,31,30,30,42,25,88,24,34,26,29,80,95,27,45,16,34,27,58,17,22,30,25,77,18,161,43,26,30,32,159,46,24,22,15,26,40,23,11,25,33,66,32,39,33,47,123,45,51,95,38,31,32,29,38,44,69,23,27,36,36,62,39,40,44,27,39,41,122,48,26,25,24,43,32,32,30,30,58,11,14,13,33,6,17,27,16,26,28,17,22,49,26,20,36,9,33,22,18,28,27,16,26,22,31,8,24,33,29,37,26,32,38,24,36,36,25,16,58,43,19,33,26,24,43,29,31,24,16,27,30,17,23,18,34,32,23,29,19,26,17,14,18,22,18,24,34,16,20,13,41,24,36,47,24,55,41,36,51,23,29,16,19,28,13,111,29,14,49,9,23,42,51,19,53,16,37,37,18,55,12,24,30,35,21,17,20,37,20,31,13,15,17,20,35,31,26,25,47,24,17,32,30,67,38,33,29,18,26,44,20,21,37,43,23,47,35,26,37,38,63,12,21,14,14,43,30,18,15,33,39,35,21,20,54,10,11,9,67,22,32,23,30,42,25,29,12,48,25,33,36,45,50,9,11,20,10,23,10,12,25,23,23,27,11,24,49,54,86,55,32,22,21,20,29,23,29,5,44,23,15,32,32,21,18,11,23,14,35,36,18,33,66,24,19,29,42,18,41,11,12,18,18,8,41,23,34,18,22,34,25,19,31,18,13,152,26,28,38,28,24,16,25,22,25,17,55,62,30,37,20,24,34,8,21,29,23,31,10,24,20,25,29,23,24,19,40,60,35,33,11,47,16,31,28,28,35,40,20,68,28,28,62,26,31,19,23,72,14,29,27,50,21,18,26,81,38,40,26,34,21,20,49,24,28,20,20,31,21,30,25,44,56,15,36,15,32,47,84,74,34,71,52,76,31,25,60,31,63,38,124,41,37,30,56,13,33,28,38,43,30,19,11,12,45,26,13,24,42,47,33,55,27,56,22,40,30,47,37,35,28,38,19,34,24,65,23,39,37,40,41,25,50,62,11,44,53,45,39,68,26,14,24,22,39,34,12,23,71,46,21,54,49,41,22],\"y0\":\" \",\"yaxis\":\"y\",\"type\":\"box\"}],                        {\"template\":{\"data\":{\"histogram2dcontour\":[{\"type\":\"histogram2dcontour\",\"colorbar\":{\"outlinewidth\":0,\"ticks\":\"\"},\"colorscale\":[[0.0,\"#0d0887\"],[0.1111111111111111,\"#46039f\"],[0.2222222222222222,\"#7201a8\"],[0.3333333333333333,\"#9c179e\"],[0.4444444444444444,\"#bd3786\"],[0.5555555555555556,\"#d8576b\"],[0.6666666666666666,\"#ed7953\"],[0.7777777777777778,\"#fb9f3a\"],[0.8888888888888888,\"#fdca26\"],[1.0,\"#f0f921\"]]}],\"choropleth\":[{\"type\":\"choropleth\",\"colorbar\":{\"outlinewidth\":0,\"ticks\":\"\"}}],\"histogram2d\":[{\"type\":\"histogram2d\",\"colorbar\":{\"outlinewidth\":0,\"ticks\":\"\"},\"colorscale\":[[0.0,\"#0d0887\"],[0.1111111111111111,\"#46039f\"],[0.2222222222222222,\"#7201a8\"],[0.3333333333333333,\"#9c179e\"],[0.4444444444444444,\"#bd3786\"],[0.5555555555555556,\"#d8576b\"],[0.6666666666666666,\"#ed7953\"],[0.7777777777777778,\"#fb9f3a\"],[0.8888888888888888,\"#fdca26\"],[1.0,\"#f0f921\"]]}],\"heatmap\":[{\"type\":\"heatmap\",\"colorbar\":{\"outlinewidth\":0,\"ticks\":\"\"},\"colorscale\":[[0.0,\"#0d0887\"],[0.1111111111111111,\"#46039f\"],[0.2222222222222222,\"#7201a8\"],[0.3333333333333333,\"#9c179e\"],[0.4444444444444444,\"#bd3786\"],[0.5555555555555556,\"#d8576b\"],[0.6666666666666666,\"#ed7953\"],[0.7777777777777778,\"#fb9f3a\"],[0.8888888888888888,\"#fdca26\"],[1.0,\"#f0f921\"]]}],\"heatmapgl\":[{\"type\":\"heatmapgl\",\"colorbar\":{\"outlinewidth\":0,\"ticks\":\"\"},\"colorscale\":[[0.0,\"#0d0887\"],[0.1111111111111111,\"#46039f\"],[0.2222222222222222,\"#7201a8\"],[0.3333333333333333,\"#9c179e\"],[0.4444444444444444,\"#bd3786\"],[0.5555555555555556,\"#d8576b\"],[0.6666666666666666,\"#ed7953\"],[0.7777777777777778,\"#fb9f3a\"],[0.8888888888888888,\"#fdca26\"],[1.0,\"#f0f921\"]]}],\"contourcarpet\":[{\"type\":\"contourcarpet\",\"colorbar\":{\"outlinewidth\":0,\"ticks\":\"\"}}],\"contour\":[{\"type\":\"contour\",\"colorbar\":{\"outlinewidth\":0,\"ticks\":\"\"},\"colorscale\":[[0.0,\"#0d0887\"],[0.1111111111111111,\"#46039f\"],[0.2222222222222222,\"#7201a8\"],[0.3333333333333333,\"#9c179e\"],[0.4444444444444444,\"#bd3786\"],[0.5555555555555556,\"#d8576b\"],[0.6666666666666666,\"#ed7953\"],[0.7777777777777778,\"#fb9f3a\"],[0.8888888888888888,\"#fdca26\"],[1.0,\"#f0f921\"]]}],\"surface\":[{\"type\":\"surface\",\"colorbar\":{\"outlinewidth\":0,\"ticks\":\"\"},\"colorscale\":[[0.0,\"#0d0887\"],[0.1111111111111111,\"#46039f\"],[0.2222222222222222,\"#7201a8\"],[0.3333333333333333,\"#9c179e\"],[0.4444444444444444,\"#bd3786\"],[0.5555555555555556,\"#d8576b\"],[0.6666666666666666,\"#ed7953\"],[0.7777777777777778,\"#fb9f3a\"],[0.8888888888888888,\"#fdca26\"],[1.0,\"#f0f921\"]]}],\"mesh3d\":[{\"type\":\"mesh3d\",\"colorbar\":{\"outlinewidth\":0,\"ticks\":\"\"}}],\"scatter\":[{\"fillpattern\":{\"fillmode\":\"overlay\",\"size\":10,\"solidity\":0.2},\"type\":\"scatter\"}],\"parcoords\":[{\"type\":\"parcoords\",\"line\":{\"colorbar\":{\"outlinewidth\":0,\"ticks\":\"\"}}}],\"scatterpolargl\":[{\"type\":\"scatterpolargl\",\"marker\":{\"colorbar\":{\"outlinewidth\":0,\"ticks\":\"\"}}}],\"bar\":[{\"error_x\":{\"color\":\"#2a3f5f\"},\"error_y\":{\"color\":\"#2a3f5f\"},\"marker\":{\"line\":{\"color\":\"#E5ECF6\",\"width\":0.5},\"pattern\":{\"fillmode\":\"overlay\",\"size\":10,\"solidity\":0.2}},\"type\":\"bar\"}],\"scattergeo\":[{\"type\":\"scattergeo\",\"marker\":{\"colorbar\":{\"outlinewidth\":0,\"ticks\":\"\"}}}],\"scatterpolar\":[{\"type\":\"scatterpolar\",\"marker\":{\"colorbar\":{\"outlinewidth\":0,\"ticks\":\"\"}}}],\"histogram\":[{\"marker\":{\"pattern\":{\"fillmode\":\"overlay\",\"size\":10,\"solidity\":0.2}},\"type\":\"histogram\"}],\"scattergl\":[{\"type\":\"scattergl\",\"marker\":{\"colorbar\":{\"outlinewidth\":0,\"ticks\":\"\"}}}],\"scatter3d\":[{\"type\":\"scatter3d\",\"line\":{\"colorbar\":{\"outlinewidth\":0,\"ticks\":\"\"}},\"marker\":{\"colorbar\":{\"outlinewidth\":0,\"ticks\":\"\"}}}],\"scattermapbox\":[{\"type\":\"scattermapbox\",\"marker\":{\"colorbar\":{\"outlinewidth\":0,\"ticks\":\"\"}}}],\"scatterternary\":[{\"type\":\"scatterternary\",\"marker\":{\"colorbar\":{\"outlinewidth\":0,\"ticks\":\"\"}}}],\"scattercarpet\":[{\"type\":\"scattercarpet\",\"marker\":{\"colorbar\":{\"outlinewidth\":0,\"ticks\":\"\"}}}],\"carpet\":[{\"aaxis\":{\"endlinecolor\":\"#2a3f5f\",\"gridcolor\":\"white\",\"linecolor\":\"white\",\"minorgridcolor\":\"white\",\"startlinecolor\":\"#2a3f5f\"},\"baxis\":{\"endlinecolor\":\"#2a3f5f\",\"gridcolor\":\"white\",\"linecolor\":\"white\",\"minorgridcolor\":\"white\",\"startlinecolor\":\"#2a3f5f\"},\"type\":\"carpet\"}],\"table\":[{\"cells\":{\"fill\":{\"color\":\"#EBF0F8\"},\"line\":{\"color\":\"white\"}},\"header\":{\"fill\":{\"color\":\"#C8D4E3\"},\"line\":{\"color\":\"white\"}},\"type\":\"table\"}],\"barpolar\":[{\"marker\":{\"line\":{\"color\":\"#E5ECF6\",\"width\":0.5},\"pattern\":{\"fillmode\":\"overlay\",\"size\":10,\"solidity\":0.2}},\"type\":\"barpolar\"}],\"pie\":[{\"automargin\":true,\"type\":\"pie\"}]},\"layout\":{\"autotypenumbers\":\"strict\",\"colorway\":[\"#636efa\",\"#EF553B\",\"#00cc96\",\"#ab63fa\",\"#FFA15A\",\"#19d3f3\",\"#FF6692\",\"#B6E880\",\"#FF97FF\",\"#FECB52\"],\"font\":{\"color\":\"#2a3f5f\"},\"hovermode\":\"closest\",\"hoverlabel\":{\"align\":\"left\"},\"paper_bgcolor\":\"white\",\"plot_bgcolor\":\"#E5ECF6\",\"polar\":{\"bgcolor\":\"#E5ECF6\",\"angularaxis\":{\"gridcolor\":\"white\",\"linecolor\":\"white\",\"ticks\":\"\"},\"radialaxis\":{\"gridcolor\":\"white\",\"linecolor\":\"white\",\"ticks\":\"\"}},\"ternary\":{\"bgcolor\":\"#E5ECF6\",\"aaxis\":{\"gridcolor\":\"white\",\"linecolor\":\"white\",\"ticks\":\"\"},\"baxis\":{\"gridcolor\":\"white\",\"linecolor\":\"white\",\"ticks\":\"\"},\"caxis\":{\"gridcolor\":\"white\",\"linecolor\":\"white\",\"ticks\":\"\"}},\"coloraxis\":{\"colorbar\":{\"outlinewidth\":0,\"ticks\":\"\"}},\"colorscale\":{\"sequential\":[[0.0,\"#0d0887\"],[0.1111111111111111,\"#46039f\"],[0.2222222222222222,\"#7201a8\"],[0.3333333333333333,\"#9c179e\"],[0.4444444444444444,\"#bd3786\"],[0.5555555555555556,\"#d8576b\"],[0.6666666666666666,\"#ed7953\"],[0.7777777777777778,\"#fb9f3a\"],[0.8888888888888888,\"#fdca26\"],[1.0,\"#f0f921\"]],\"sequentialminus\":[[0.0,\"#0d0887\"],[0.1111111111111111,\"#46039f\"],[0.2222222222222222,\"#7201a8\"],[0.3333333333333333,\"#9c179e\"],[0.4444444444444444,\"#bd3786\"],[0.5555555555555556,\"#d8576b\"],[0.6666666666666666,\"#ed7953\"],[0.7777777777777778,\"#fb9f3a\"],[0.8888888888888888,\"#fdca26\"],[1.0,\"#f0f921\"]],\"diverging\":[[0,\"#8e0152\"],[0.1,\"#c51b7d\"],[0.2,\"#de77ae\"],[0.3,\"#f1b6da\"],[0.4,\"#fde0ef\"],[0.5,\"#f7f7f7\"],[0.6,\"#e6f5d0\"],[0.7,\"#b8e186\"],[0.8,\"#7fbc41\"],[0.9,\"#4d9221\"],[1,\"#276419\"]]},\"xaxis\":{\"gridcolor\":\"white\",\"linecolor\":\"white\",\"ticks\":\"\",\"title\":{\"standoff\":15},\"zerolinecolor\":\"white\",\"automargin\":true,\"zerolinewidth\":2},\"yaxis\":{\"gridcolor\":\"white\",\"linecolor\":\"white\",\"ticks\":\"\",\"title\":{\"standoff\":15},\"zerolinecolor\":\"white\",\"automargin\":true,\"zerolinewidth\":2},\"scene\":{\"xaxis\":{\"backgroundcolor\":\"#E5ECF6\",\"gridcolor\":\"white\",\"linecolor\":\"white\",\"showbackground\":true,\"ticks\":\"\",\"zerolinecolor\":\"white\",\"gridwidth\":2},\"yaxis\":{\"backgroundcolor\":\"#E5ECF6\",\"gridcolor\":\"white\",\"linecolor\":\"white\",\"showbackground\":true,\"ticks\":\"\",\"zerolinecolor\":\"white\",\"gridwidth\":2},\"zaxis\":{\"backgroundcolor\":\"#E5ECF6\",\"gridcolor\":\"white\",\"linecolor\":\"white\",\"showbackground\":true,\"ticks\":\"\",\"zerolinecolor\":\"white\",\"gridwidth\":2}},\"shapedefaults\":{\"line\":{\"color\":\"#2a3f5f\"}},\"annotationdefaults\":{\"arrowcolor\":\"#2a3f5f\",\"arrowhead\":0,\"arrowwidth\":1},\"geo\":{\"bgcolor\":\"white\",\"landcolor\":\"#E5ECF6\",\"subunitcolor\":\"white\",\"showland\":true,\"showlakes\":true,\"lakecolor\":\"white\"},\"title\":{\"x\":0.05},\"mapbox\":{\"style\":\"light\"}}},\"xaxis\":{\"anchor\":\"y\",\"domain\":[0.0,1.0]},\"yaxis\":{\"anchor\":\"x\",\"domain\":[0.0,1.0],\"title\":{\"text\":\"Length of Title\"}},\"legend\":{\"tracegroupgap\":0},\"title\":{\"text\":\"Distribution of Product Title Lengths\"},\"boxmode\":\"group\"},                        {\"responsive\": true}                    ).then(function(){\n",
              "                            \n",
              "var gd = document.getElementById('551e1dfb-631e-42f7-89ba-9ac4f9dec773');\n",
              "var x = new MutationObserver(function (mutations, observer) {{\n",
              "        var display = window.getComputedStyle(gd).display;\n",
              "        if (!display || display === 'none') {{\n",
              "            console.log([gd, 'removed!']);\n",
              "            Plotly.purge(gd);\n",
              "            observer.disconnect();\n",
              "        }}\n",
              "}});\n",
              "\n",
              "// Listen for the removal of the full notebook cells\n",
              "var notebookContainer = gd.closest('#notebook-container');\n",
              "if (notebookContainer) {{\n",
              "    x.observe(notebookContainer, {childList: true});\n",
              "}}\n",
              "\n",
              "// Listen for the clearing of the current output cell\n",
              "var outputEl = gd.closest('.output');\n",
              "if (outputEl) {{\n",
              "    x.observe(outputEl, {childList: true});\n",
              "}}\n",
              "\n",
              "                        })                };                            </script>        </div>\n",
              "</body>\n",
              "</html>"
            ]
          },
          "metadata": {}
        }
      ]
    },
    {
      "cell_type": "markdown",
      "source": [
        "### Tokenizing and Standardizing\n",
        "Tokenize and standardizing the sentences. Also filtering the words based on a predefined regex."
      ],
      "metadata": {
        "id": "aI1usCjB3nhw"
      }
    },
    {
      "cell_type": "code",
      "source": [
        "df = pd.read_csv('Ronash_DS_Assignment.csv')\n",
        "\n",
        "# the function for extracting and standardizing the sentences\n",
        "def text_extraction(dfi):\n",
        "  # in this function, we concatenate text feature parts of the data as a sentence\n",
        "  sentence = ' '.join([dfi['title'], str(dfi['vendor']), dfi['tags']])\n",
        "  # Remove punctuations\n",
        "  sentence = re.sub('[^a-zA-Z0-9$.]', ' ', sentence)\n",
        "  # Single character removal\n",
        "  sentence = re.sub(r\"\\s+[a-zA-Z]\\s+\", ' ', sentence)\n",
        "  # Removing multiple spaces\n",
        "  sentence = re.sub(r'\\s+', ' ', sentence)\n",
        "  # Changint to lowercase\n",
        "  sentence = sentence.lower()\n",
        "  return sentence\n",
        "\n",
        "# printing 10 sample sentences\n",
        "for i in range(10):\n",
        "  print(text_extraction(df.iloc[i]))"
      ],
      "metadata": {
        "colab": {
          "base_uri": "https://localhost:8080/"
        },
        "id": "aH9UzP7-__P2",
        "outputId": "3261fdbe-a2db-4782-e713-1ef748e4f7fc"
      },
      "execution_count": 16,
      "outputs": [
        {
          "output_type": "stream",
          "name": "stdout",
          "text": [
            "fidele super premium adult large breed dog food fidele adult bangalore chennai chicken doberman dog dry foods fidele german shepherd golden retriever great dane highpriority imported labrador less than 1000 less than 2000 less than 500 mastiff orange pet nutrition \n",
            "foldable pet toys linen storage cap point \n",
            "bok dok diaper pets home brand pet arabia category pets home category small pets supplies type pet home type pet supplies \n",
            "tastybone toy chicken tastybone \n",
            "leather leash tab short dog leash mighty paw leash leash tab training \n",
            "pridebites texas guitar dog toy pride bites brand pridebites toy type plush \n",
            "burns sensitive pork potato burns 10 25 25 50 50 75 adult burns coat dog food food delivery jansale18 natural nonsale19 sensitive size 12kg size 2kg size 6kg skin \n",
            "bully sticks dog toy adog.co bully sticks dog chew toys dog toys \n",
            "kazoo tough giraffe dog toy kazoo brand kazoo june2021 kazoo material plush plush \n",
            "orgo dog biscuits fresh milk petku brand orgo category dogs dogs lifestage all lifestages orgo price rp 0 to rp 100.000 subcategory treats treats \n"
          ]
        }
      ]
    },
    {
      "cell_type": "code",
      "source": [
        "# initializing the dataset\n",
        "dataset = pd.DataFrame(columns=['text', 'label'])\n",
        "\n",
        "# list to hold the new rows\n",
        "rows = []\n",
        "\n",
        "for i in range(len(df)):\n",
        "    row = {'text': text_extraction(df.iloc[i]), 'label': df.iloc[i]['category']}\n",
        "    rows.append(row)\n",
        "\n",
        "# concatenate rows to the dataset\n",
        "dataset = pd.concat([dataset, pd.DataFrame(rows)], ignore_index=True)\n",
        "\n",
        "# creating integer labels for multiclass training\n",
        "dataset['label_int'] = pd.Categorical(dataset['label']).codes\n",
        "dataset"
      ],
      "metadata": {
        "colab": {
          "base_uri": "https://localhost:8080/",
          "height": 423
        },
        "id": "7x4WG7NC9Xz3",
        "outputId": "a409539a-302a-4184-871f-4ad8e929517d"
      },
      "execution_count": 47,
      "outputs": [
        {
          "output_type": "execute_result",
          "data": {
            "text/plain": [
              "                                                   text  \\\n",
              "0     fidele super premium adult large breed dog foo...   \n",
              "1            foldable pet toys linen storage cap point    \n",
              "2     bok dok diaper pets home brand pet arabia cate...   \n",
              "3                      tastybone toy chicken tastybone    \n",
              "4     leather leash tab short dog leash mighty paw l...   \n",
              "...                                                 ...   \n",
              "5265  candylab moo milk van candylab 3 years candyla...   \n",
              "5266  truck modern era vehicles red white scale ho w...   \n",
              "5267  car sticker flags decal american flag sticker ...   \n",
              "5268  lazer helmets bayamo pit bull full face open b...   \n",
              "5269  deutz agrotron tractor siku $0 to $25 diecast ...   \n",
              "\n",
              "                       label  label_int  \n",
              "0     Animals & Pet Supplies          0  \n",
              "1     Animals & Pet Supplies          0  \n",
              "2     Animals & Pet Supplies          0  \n",
              "3     Animals & Pet Supplies          0  \n",
              "4     Animals & Pet Supplies          0  \n",
              "...                      ...        ...  \n",
              "5265        Vehicles & Parts         19  \n",
              "5266        Vehicles & Parts         19  \n",
              "5267        Vehicles & Parts         19  \n",
              "5268        Vehicles & Parts         19  \n",
              "5269        Vehicles & Parts         19  \n",
              "\n",
              "[5270 rows x 3 columns]"
            ],
            "text/html": [
              "\n",
              "\n",
              "  <div id=\"df-cd34b317-0871-409a-be5e-6684ad200fec\">\n",
              "    <div class=\"colab-df-container\">\n",
              "      <div>\n",
              "<style scoped>\n",
              "    .dataframe tbody tr th:only-of-type {\n",
              "        vertical-align: middle;\n",
              "    }\n",
              "\n",
              "    .dataframe tbody tr th {\n",
              "        vertical-align: top;\n",
              "    }\n",
              "\n",
              "    .dataframe thead th {\n",
              "        text-align: right;\n",
              "    }\n",
              "</style>\n",
              "<table border=\"1\" class=\"dataframe\">\n",
              "  <thead>\n",
              "    <tr style=\"text-align: right;\">\n",
              "      <th></th>\n",
              "      <th>text</th>\n",
              "      <th>label</th>\n",
              "      <th>label_int</th>\n",
              "    </tr>\n",
              "  </thead>\n",
              "  <tbody>\n",
              "    <tr>\n",
              "      <th>0</th>\n",
              "      <td>fidele super premium adult large breed dog foo...</td>\n",
              "      <td>Animals &amp; Pet Supplies</td>\n",
              "      <td>0</td>\n",
              "    </tr>\n",
              "    <tr>\n",
              "      <th>1</th>\n",
              "      <td>foldable pet toys linen storage cap point</td>\n",
              "      <td>Animals &amp; Pet Supplies</td>\n",
              "      <td>0</td>\n",
              "    </tr>\n",
              "    <tr>\n",
              "      <th>2</th>\n",
              "      <td>bok dok diaper pets home brand pet arabia cate...</td>\n",
              "      <td>Animals &amp; Pet Supplies</td>\n",
              "      <td>0</td>\n",
              "    </tr>\n",
              "    <tr>\n",
              "      <th>3</th>\n",
              "      <td>tastybone toy chicken tastybone</td>\n",
              "      <td>Animals &amp; Pet Supplies</td>\n",
              "      <td>0</td>\n",
              "    </tr>\n",
              "    <tr>\n",
              "      <th>4</th>\n",
              "      <td>leather leash tab short dog leash mighty paw l...</td>\n",
              "      <td>Animals &amp; Pet Supplies</td>\n",
              "      <td>0</td>\n",
              "    </tr>\n",
              "    <tr>\n",
              "      <th>...</th>\n",
              "      <td>...</td>\n",
              "      <td>...</td>\n",
              "      <td>...</td>\n",
              "    </tr>\n",
              "    <tr>\n",
              "      <th>5265</th>\n",
              "      <td>candylab moo milk van candylab 3 years candyla...</td>\n",
              "      <td>Vehicles &amp; Parts</td>\n",
              "      <td>19</td>\n",
              "    </tr>\n",
              "    <tr>\n",
              "      <th>5266</th>\n",
              "      <td>truck modern era vehicles red white scale ho w...</td>\n",
              "      <td>Vehicles &amp; Parts</td>\n",
              "      <td>19</td>\n",
              "    </tr>\n",
              "    <tr>\n",
              "      <th>5267</th>\n",
              "      <td>car sticker flags decal american flag sticker ...</td>\n",
              "      <td>Vehicles &amp; Parts</td>\n",
              "      <td>19</td>\n",
              "    </tr>\n",
              "    <tr>\n",
              "      <th>5268</th>\n",
              "      <td>lazer helmets bayamo pit bull full face open b...</td>\n",
              "      <td>Vehicles &amp; Parts</td>\n",
              "      <td>19</td>\n",
              "    </tr>\n",
              "    <tr>\n",
              "      <th>5269</th>\n",
              "      <td>deutz agrotron tractor siku $0 to $25 diecast ...</td>\n",
              "      <td>Vehicles &amp; Parts</td>\n",
              "      <td>19</td>\n",
              "    </tr>\n",
              "  </tbody>\n",
              "</table>\n",
              "<p>5270 rows × 3 columns</p>\n",
              "</div>\n",
              "      <button class=\"colab-df-convert\" onclick=\"convertToInteractive('df-cd34b317-0871-409a-be5e-6684ad200fec')\"\n",
              "              title=\"Convert this dataframe to an interactive table.\"\n",
              "              style=\"display:none;\">\n",
              "\n",
              "  <svg xmlns=\"http://www.w3.org/2000/svg\" height=\"24px\"viewBox=\"0 0 24 24\"\n",
              "       width=\"24px\">\n",
              "    <path d=\"M0 0h24v24H0V0z\" fill=\"none\"/>\n",
              "    <path d=\"M18.56 5.44l.94 2.06.94-2.06 2.06-.94-2.06-.94-.94-2.06-.94 2.06-2.06.94zm-11 1L8.5 8.5l.94-2.06 2.06-.94-2.06-.94L8.5 2.5l-.94 2.06-2.06.94zm10 10l.94 2.06.94-2.06 2.06-.94-2.06-.94-.94-2.06-.94 2.06-2.06.94z\"/><path d=\"M17.41 7.96l-1.37-1.37c-.4-.4-.92-.59-1.43-.59-.52 0-1.04.2-1.43.59L10.3 9.45l-7.72 7.72c-.78.78-.78 2.05 0 2.83L4 21.41c.39.39.9.59 1.41.59.51 0 1.02-.2 1.41-.59l7.78-7.78 2.81-2.81c.8-.78.8-2.07 0-2.86zM5.41 20L4 18.59l7.72-7.72 1.47 1.35L5.41 20z\"/>\n",
              "  </svg>\n",
              "      </button>\n",
              "\n",
              "\n",
              "\n",
              "    <div id=\"df-3cbe28ec-890c-4663-96a4-5e52feb1b2b7\">\n",
              "      <button class=\"colab-df-quickchart\" onclick=\"quickchart('df-3cbe28ec-890c-4663-96a4-5e52feb1b2b7')\"\n",
              "              title=\"Suggest charts.\"\n",
              "              style=\"display:none;\">\n",
              "\n",
              "<svg xmlns=\"http://www.w3.org/2000/svg\" height=\"24px\"viewBox=\"0 0 24 24\"\n",
              "     width=\"24px\">\n",
              "    <g>\n",
              "        <path d=\"M19 3H5c-1.1 0-2 .9-2 2v14c0 1.1.9 2 2 2h14c1.1 0 2-.9 2-2V5c0-1.1-.9-2-2-2zM9 17H7v-7h2v7zm4 0h-2V7h2v10zm4 0h-2v-4h2v4z\"/>\n",
              "    </g>\n",
              "</svg>\n",
              "      </button>\n",
              "    </div>\n",
              "\n",
              "<style>\n",
              "  .colab-df-quickchart {\n",
              "    background-color: #E8F0FE;\n",
              "    border: none;\n",
              "    border-radius: 50%;\n",
              "    cursor: pointer;\n",
              "    display: none;\n",
              "    fill: #1967D2;\n",
              "    height: 32px;\n",
              "    padding: 0 0 0 0;\n",
              "    width: 32px;\n",
              "  }\n",
              "\n",
              "  .colab-df-quickchart:hover {\n",
              "    background-color: #E2EBFA;\n",
              "    box-shadow: 0px 1px 2px rgba(60, 64, 67, 0.3), 0px 1px 3px 1px rgba(60, 64, 67, 0.15);\n",
              "    fill: #174EA6;\n",
              "  }\n",
              "\n",
              "  [theme=dark] .colab-df-quickchart {\n",
              "    background-color: #3B4455;\n",
              "    fill: #D2E3FC;\n",
              "  }\n",
              "\n",
              "  [theme=dark] .colab-df-quickchart:hover {\n",
              "    background-color: #434B5C;\n",
              "    box-shadow: 0px 1px 3px 1px rgba(0, 0, 0, 0.15);\n",
              "    filter: drop-shadow(0px 1px 2px rgba(0, 0, 0, 0.3));\n",
              "    fill: #FFFFFF;\n",
              "  }\n",
              "</style>\n",
              "\n",
              "    <script>\n",
              "      async function quickchart(key) {\n",
              "        const containerElement = document.querySelector('#' + key);\n",
              "        const charts = await google.colab.kernel.invokeFunction(\n",
              "            'suggestCharts', [key], {});\n",
              "      }\n",
              "    </script>\n",
              "\n",
              "      <script>\n",
              "\n",
              "function displayQuickchartButton(domScope) {\n",
              "  let quickchartButtonEl =\n",
              "    domScope.querySelector('#df-3cbe28ec-890c-4663-96a4-5e52feb1b2b7 button.colab-df-quickchart');\n",
              "  quickchartButtonEl.style.display =\n",
              "    google.colab.kernel.accessAllowed ? 'block' : 'none';\n",
              "}\n",
              "\n",
              "        displayQuickchartButton(document);\n",
              "      </script>\n",
              "      <style>\n",
              "    .colab-df-container {\n",
              "      display:flex;\n",
              "      flex-wrap:wrap;\n",
              "      gap: 12px;\n",
              "    }\n",
              "\n",
              "    .colab-df-convert {\n",
              "      background-color: #E8F0FE;\n",
              "      border: none;\n",
              "      border-radius: 50%;\n",
              "      cursor: pointer;\n",
              "      display: none;\n",
              "      fill: #1967D2;\n",
              "      height: 32px;\n",
              "      padding: 0 0 0 0;\n",
              "      width: 32px;\n",
              "    }\n",
              "\n",
              "    .colab-df-convert:hover {\n",
              "      background-color: #E2EBFA;\n",
              "      box-shadow: 0px 1px 2px rgba(60, 64, 67, 0.3), 0px 1px 3px 1px rgba(60, 64, 67, 0.15);\n",
              "      fill: #174EA6;\n",
              "    }\n",
              "\n",
              "    [theme=dark] .colab-df-convert {\n",
              "      background-color: #3B4455;\n",
              "      fill: #D2E3FC;\n",
              "    }\n",
              "\n",
              "    [theme=dark] .colab-df-convert:hover {\n",
              "      background-color: #434B5C;\n",
              "      box-shadow: 0px 1px 3px 1px rgba(0, 0, 0, 0.15);\n",
              "      filter: drop-shadow(0px 1px 2px rgba(0, 0, 0, 0.3));\n",
              "      fill: #FFFFFF;\n",
              "    }\n",
              "  </style>\n",
              "\n",
              "      <script>\n",
              "        const buttonEl =\n",
              "          document.querySelector('#df-cd34b317-0871-409a-be5e-6684ad200fec button.colab-df-convert');\n",
              "        buttonEl.style.display =\n",
              "          google.colab.kernel.accessAllowed ? 'block' : 'none';\n",
              "\n",
              "        async function convertToInteractive(key) {\n",
              "          const element = document.querySelector('#df-cd34b317-0871-409a-be5e-6684ad200fec');\n",
              "          const dataTable =\n",
              "            await google.colab.kernel.invokeFunction('convertToInteractive',\n",
              "                                                     [key], {});\n",
              "          if (!dataTable) return;\n",
              "\n",
              "          const docLinkHtml = 'Like what you see? Visit the ' +\n",
              "            '<a target=\"_blank\" href=https://colab.research.google.com/notebooks/data_table.ipynb>data table notebook</a>'\n",
              "            + ' to learn more about interactive tables.';\n",
              "          element.innerHTML = '';\n",
              "          dataTable['output_type'] = 'display_data';\n",
              "          await google.colab.output.renderOutput(dataTable, element);\n",
              "          const docLink = document.createElement('div');\n",
              "          docLink.innerHTML = docLinkHtml;\n",
              "          element.appendChild(docLink);\n",
              "        }\n",
              "      </script>\n",
              "    </div>\n",
              "  </div>\n"
            ]
          },
          "metadata": {},
          "execution_count": 47
        }
      ]
    },
    {
      "cell_type": "code",
      "source": [
        "# extracting the names of the labels\n",
        "labels_names = list(Counter(dataset['label']).keys())\n",
        "labels_names"
      ],
      "metadata": {
        "colab": {
          "base_uri": "https://localhost:8080/"
        },
        "id": "9uHdTY3p9Xfr",
        "outputId": "1475cc09-dd15-470e-dea5-f9845279e5f1"
      },
      "execution_count": 18,
      "outputs": [
        {
          "output_type": "execute_result",
          "data": {
            "text/plain": [
              "['Animals & Pet Supplies',\n",
              " 'Apparel & Accessories',\n",
              " 'Arts & Entertainment',\n",
              " 'Baby & Toddler',\n",
              " 'Business & Industrial',\n",
              " 'Cameras & Optics',\n",
              " 'Electronics',\n",
              " 'Food, Beverages & Tobacco',\n",
              " 'Furniture',\n",
              " 'Hardware',\n",
              " 'Health & Beauty',\n",
              " 'Home & Garden',\n",
              " 'Luggage & Bags',\n",
              " 'Media',\n",
              " 'Office Supplies',\n",
              " 'Religious & Ceremonial',\n",
              " 'Software',\n",
              " 'Sporting Goods',\n",
              " 'Toys & Games',\n",
              " 'Vehicles & Parts']"
            ]
          },
          "metadata": {},
          "execution_count": 18
        }
      ]
    },
    {
      "cell_type": "code",
      "source": [
        "# printing each integer label and its corresponding name label\n",
        "for i, label in enumerate(labels_names):\n",
        "  print(\"Label\", i, \"corresponds to\", label)"
      ],
      "metadata": {
        "colab": {
          "base_uri": "https://localhost:8080/"
        },
        "id": "QXCgd6QTC_k6",
        "outputId": "24bbb356-0790-4784-9045-502a0b701fc0"
      },
      "execution_count": 19,
      "outputs": [
        {
          "output_type": "stream",
          "name": "stdout",
          "text": [
            "Label 0 corresponds to Animals & Pet Supplies\n",
            "Label 1 corresponds to Apparel & Accessories\n",
            "Label 2 corresponds to Arts & Entertainment\n",
            "Label 3 corresponds to Baby & Toddler\n",
            "Label 4 corresponds to Business & Industrial\n",
            "Label 5 corresponds to Cameras & Optics\n",
            "Label 6 corresponds to Electronics\n",
            "Label 7 corresponds to Food, Beverages & Tobacco\n",
            "Label 8 corresponds to Furniture\n",
            "Label 9 corresponds to Hardware\n",
            "Label 10 corresponds to Health & Beauty\n",
            "Label 11 corresponds to Home & Garden\n",
            "Label 12 corresponds to Luggage & Bags\n",
            "Label 13 corresponds to Media\n",
            "Label 14 corresponds to Office Supplies\n",
            "Label 15 corresponds to Religious & Ceremonial\n",
            "Label 16 corresponds to Software\n",
            "Label 17 corresponds to Sporting Goods\n",
            "Label 18 corresponds to Toys & Games\n",
            "Label 19 corresponds to Vehicles & Parts\n"
          ]
        }
      ]
    },
    {
      "cell_type": "markdown",
      "source": [
        "### Balance the Classes\n",
        "Upsampling:"
      ],
      "metadata": {
        "id": "jzoQLjOP3304"
      }
    },
    {
      "cell_type": "code",
      "source": [
        "max_samples = dataset['label'].value_counts().max()\n",
        "max_samples"
      ],
      "metadata": {
        "colab": {
          "base_uri": "https://localhost:8080/"
        },
        "id": "y-QGLftp33q1",
        "outputId": "ddd5d691-83f0-40ab-d989-eb013c7e842f"
      },
      "execution_count": 20,
      "outputs": [
        {
          "output_type": "execute_result",
          "data": {
            "text/plain": [
              "1000"
            ]
          },
          "metadata": {},
          "execution_count": 20
        }
      ]
    },
    {
      "cell_type": "code",
      "source": [
        "balanced_data_list = []\n",
        "\n",
        "for class_name, group in dataset.groupby('label'):\n",
        "    if len(group) < max_samples:\n",
        "        upsampled_group = resample(group,\n",
        "                                   replace=True,\n",
        "                                   n_samples=max_samples,\n",
        "                                   random_state=42)\n",
        "    else:\n",
        "        upsampled_group = group\n",
        "\n",
        "    balanced_data_list.append(upsampled_group)\n",
        "\n",
        "balanced_data = pd.concat(balanced_data_list)\n",
        "balanced_data"
      ],
      "metadata": {
        "colab": {
          "base_uri": "https://localhost:8080/",
          "height": 423
        },
        "id": "izxZwKdE33oS",
        "outputId": "b2ada4eb-88ca-4210-fbd5-b677ded35ccc"
      },
      "execution_count": 22,
      "outputs": [
        {
          "output_type": "execute_result",
          "data": {
            "text/plain": [
              "                                                   text  \\\n",
              "102   premium boxer dog reflective harness ploocy bo...   \n",
              "435   midwest icrate fold and carry double door coll...   \n",
              "348   gourmet deli wfish herring rollover brand roll...   \n",
              "270   porkhide knotted bone rollover brand rollover ...   \n",
              "106              jbj protein skimmer jbj regular price    \n",
              "...                                                 ...   \n",
              "5179  extractor shampoo low foam 3d car care carpet ...   \n",
              "5236  motorcycle amber red turn signal light unbrand...   \n",
              "5187  bennett one box indication unit for bolt elect...   \n",
              "5269  deutz agrotron tractor siku $0 to $25 diecast ...   \n",
              "5255               mystery motorcycle gloves fast mask    \n",
              "\n",
              "                       label  label_int  \n",
              "102   Animals & Pet Supplies          0  \n",
              "435   Animals & Pet Supplies          0  \n",
              "348   Animals & Pet Supplies          0  \n",
              "270   Animals & Pet Supplies          0  \n",
              "106   Animals & Pet Supplies          0  \n",
              "...                      ...        ...  \n",
              "5179        Vehicles & Parts         19  \n",
              "5236        Vehicles & Parts         19  \n",
              "5187        Vehicles & Parts         19  \n",
              "5269        Vehicles & Parts         19  \n",
              "5255        Vehicles & Parts         19  \n",
              "\n",
              "[20000 rows x 3 columns]"
            ],
            "text/html": [
              "\n",
              "\n",
              "  <div id=\"df-eb380507-05b7-457d-be22-535e0bc8d724\">\n",
              "    <div class=\"colab-df-container\">\n",
              "      <div>\n",
              "<style scoped>\n",
              "    .dataframe tbody tr th:only-of-type {\n",
              "        vertical-align: middle;\n",
              "    }\n",
              "\n",
              "    .dataframe tbody tr th {\n",
              "        vertical-align: top;\n",
              "    }\n",
              "\n",
              "    .dataframe thead th {\n",
              "        text-align: right;\n",
              "    }\n",
              "</style>\n",
              "<table border=\"1\" class=\"dataframe\">\n",
              "  <thead>\n",
              "    <tr style=\"text-align: right;\">\n",
              "      <th></th>\n",
              "      <th>text</th>\n",
              "      <th>label</th>\n",
              "      <th>label_int</th>\n",
              "    </tr>\n",
              "  </thead>\n",
              "  <tbody>\n",
              "    <tr>\n",
              "      <th>102</th>\n",
              "      <td>premium boxer dog reflective harness ploocy bo...</td>\n",
              "      <td>Animals &amp; Pet Supplies</td>\n",
              "      <td>0</td>\n",
              "    </tr>\n",
              "    <tr>\n",
              "      <th>435</th>\n",
              "      <td>midwest icrate fold and carry double door coll...</td>\n",
              "      <td>Animals &amp; Pet Supplies</td>\n",
              "      <td>0</td>\n",
              "    </tr>\n",
              "    <tr>\n",
              "      <th>348</th>\n",
              "      <td>gourmet deli wfish herring rollover brand roll...</td>\n",
              "      <td>Animals &amp; Pet Supplies</td>\n",
              "      <td>0</td>\n",
              "    </tr>\n",
              "    <tr>\n",
              "      <th>270</th>\n",
              "      <td>porkhide knotted bone rollover brand rollover ...</td>\n",
              "      <td>Animals &amp; Pet Supplies</td>\n",
              "      <td>0</td>\n",
              "    </tr>\n",
              "    <tr>\n",
              "      <th>106</th>\n",
              "      <td>jbj protein skimmer jbj regular price</td>\n",
              "      <td>Animals &amp; Pet Supplies</td>\n",
              "      <td>0</td>\n",
              "    </tr>\n",
              "    <tr>\n",
              "      <th>...</th>\n",
              "      <td>...</td>\n",
              "      <td>...</td>\n",
              "      <td>...</td>\n",
              "    </tr>\n",
              "    <tr>\n",
              "      <th>5179</th>\n",
              "      <td>extractor shampoo low foam 3d car care carpet ...</td>\n",
              "      <td>Vehicles &amp; Parts</td>\n",
              "      <td>19</td>\n",
              "    </tr>\n",
              "    <tr>\n",
              "      <th>5236</th>\n",
              "      <td>motorcycle amber red turn signal light unbrand...</td>\n",
              "      <td>Vehicles &amp; Parts</td>\n",
              "      <td>19</td>\n",
              "    </tr>\n",
              "    <tr>\n",
              "      <th>5187</th>\n",
              "      <td>bennett one box indication unit for bolt elect...</td>\n",
              "      <td>Vehicles &amp; Parts</td>\n",
              "      <td>19</td>\n",
              "    </tr>\n",
              "    <tr>\n",
              "      <th>5269</th>\n",
              "      <td>deutz agrotron tractor siku $0 to $25 diecast ...</td>\n",
              "      <td>Vehicles &amp; Parts</td>\n",
              "      <td>19</td>\n",
              "    </tr>\n",
              "    <tr>\n",
              "      <th>5255</th>\n",
              "      <td>mystery motorcycle gloves fast mask</td>\n",
              "      <td>Vehicles &amp; Parts</td>\n",
              "      <td>19</td>\n",
              "    </tr>\n",
              "  </tbody>\n",
              "</table>\n",
              "<p>20000 rows × 3 columns</p>\n",
              "</div>\n",
              "      <button class=\"colab-df-convert\" onclick=\"convertToInteractive('df-eb380507-05b7-457d-be22-535e0bc8d724')\"\n",
              "              title=\"Convert this dataframe to an interactive table.\"\n",
              "              style=\"display:none;\">\n",
              "\n",
              "  <svg xmlns=\"http://www.w3.org/2000/svg\" height=\"24px\"viewBox=\"0 0 24 24\"\n",
              "       width=\"24px\">\n",
              "    <path d=\"M0 0h24v24H0V0z\" fill=\"none\"/>\n",
              "    <path d=\"M18.56 5.44l.94 2.06.94-2.06 2.06-.94-2.06-.94-.94-2.06-.94 2.06-2.06.94zm-11 1L8.5 8.5l.94-2.06 2.06-.94-2.06-.94L8.5 2.5l-.94 2.06-2.06.94zm10 10l.94 2.06.94-2.06 2.06-.94-2.06-.94-.94-2.06-.94 2.06-2.06.94z\"/><path d=\"M17.41 7.96l-1.37-1.37c-.4-.4-.92-.59-1.43-.59-.52 0-1.04.2-1.43.59L10.3 9.45l-7.72 7.72c-.78.78-.78 2.05 0 2.83L4 21.41c.39.39.9.59 1.41.59.51 0 1.02-.2 1.41-.59l7.78-7.78 2.81-2.81c.8-.78.8-2.07 0-2.86zM5.41 20L4 18.59l7.72-7.72 1.47 1.35L5.41 20z\"/>\n",
              "  </svg>\n",
              "      </button>\n",
              "\n",
              "\n",
              "\n",
              "    <div id=\"df-02f127a9-9c21-473b-bfd3-a8cc04cd630d\">\n",
              "      <button class=\"colab-df-quickchart\" onclick=\"quickchart('df-02f127a9-9c21-473b-bfd3-a8cc04cd630d')\"\n",
              "              title=\"Suggest charts.\"\n",
              "              style=\"display:none;\">\n",
              "\n",
              "<svg xmlns=\"http://www.w3.org/2000/svg\" height=\"24px\"viewBox=\"0 0 24 24\"\n",
              "     width=\"24px\">\n",
              "    <g>\n",
              "        <path d=\"M19 3H5c-1.1 0-2 .9-2 2v14c0 1.1.9 2 2 2h14c1.1 0 2-.9 2-2V5c0-1.1-.9-2-2-2zM9 17H7v-7h2v7zm4 0h-2V7h2v10zm4 0h-2v-4h2v4z\"/>\n",
              "    </g>\n",
              "</svg>\n",
              "      </button>\n",
              "    </div>\n",
              "\n",
              "<style>\n",
              "  .colab-df-quickchart {\n",
              "    background-color: #E8F0FE;\n",
              "    border: none;\n",
              "    border-radius: 50%;\n",
              "    cursor: pointer;\n",
              "    display: none;\n",
              "    fill: #1967D2;\n",
              "    height: 32px;\n",
              "    padding: 0 0 0 0;\n",
              "    width: 32px;\n",
              "  }\n",
              "\n",
              "  .colab-df-quickchart:hover {\n",
              "    background-color: #E2EBFA;\n",
              "    box-shadow: 0px 1px 2px rgba(60, 64, 67, 0.3), 0px 1px 3px 1px rgba(60, 64, 67, 0.15);\n",
              "    fill: #174EA6;\n",
              "  }\n",
              "\n",
              "  [theme=dark] .colab-df-quickchart {\n",
              "    background-color: #3B4455;\n",
              "    fill: #D2E3FC;\n",
              "  }\n",
              "\n",
              "  [theme=dark] .colab-df-quickchart:hover {\n",
              "    background-color: #434B5C;\n",
              "    box-shadow: 0px 1px 3px 1px rgba(0, 0, 0, 0.15);\n",
              "    filter: drop-shadow(0px 1px 2px rgba(0, 0, 0, 0.3));\n",
              "    fill: #FFFFFF;\n",
              "  }\n",
              "</style>\n",
              "\n",
              "    <script>\n",
              "      async function quickchart(key) {\n",
              "        const containerElement = document.querySelector('#' + key);\n",
              "        const charts = await google.colab.kernel.invokeFunction(\n",
              "            'suggestCharts', [key], {});\n",
              "      }\n",
              "    </script>\n",
              "\n",
              "      <script>\n",
              "\n",
              "function displayQuickchartButton(domScope) {\n",
              "  let quickchartButtonEl =\n",
              "    domScope.querySelector('#df-02f127a9-9c21-473b-bfd3-a8cc04cd630d button.colab-df-quickchart');\n",
              "  quickchartButtonEl.style.display =\n",
              "    google.colab.kernel.accessAllowed ? 'block' : 'none';\n",
              "}\n",
              "\n",
              "        displayQuickchartButton(document);\n",
              "      </script>\n",
              "      <style>\n",
              "    .colab-df-container {\n",
              "      display:flex;\n",
              "      flex-wrap:wrap;\n",
              "      gap: 12px;\n",
              "    }\n",
              "\n",
              "    .colab-df-convert {\n",
              "      background-color: #E8F0FE;\n",
              "      border: none;\n",
              "      border-radius: 50%;\n",
              "      cursor: pointer;\n",
              "      display: none;\n",
              "      fill: #1967D2;\n",
              "      height: 32px;\n",
              "      padding: 0 0 0 0;\n",
              "      width: 32px;\n",
              "    }\n",
              "\n",
              "    .colab-df-convert:hover {\n",
              "      background-color: #E2EBFA;\n",
              "      box-shadow: 0px 1px 2px rgba(60, 64, 67, 0.3), 0px 1px 3px 1px rgba(60, 64, 67, 0.15);\n",
              "      fill: #174EA6;\n",
              "    }\n",
              "\n",
              "    [theme=dark] .colab-df-convert {\n",
              "      background-color: #3B4455;\n",
              "      fill: #D2E3FC;\n",
              "    }\n",
              "\n",
              "    [theme=dark] .colab-df-convert:hover {\n",
              "      background-color: #434B5C;\n",
              "      box-shadow: 0px 1px 3px 1px rgba(0, 0, 0, 0.15);\n",
              "      filter: drop-shadow(0px 1px 2px rgba(0, 0, 0, 0.3));\n",
              "      fill: #FFFFFF;\n",
              "    }\n",
              "  </style>\n",
              "\n",
              "      <script>\n",
              "        const buttonEl =\n",
              "          document.querySelector('#df-eb380507-05b7-457d-be22-535e0bc8d724 button.colab-df-convert');\n",
              "        buttonEl.style.display =\n",
              "          google.colab.kernel.accessAllowed ? 'block' : 'none';\n",
              "\n",
              "        async function convertToInteractive(key) {\n",
              "          const element = document.querySelector('#df-eb380507-05b7-457d-be22-535e0bc8d724');\n",
              "          const dataTable =\n",
              "            await google.colab.kernel.invokeFunction('convertToInteractive',\n",
              "                                                     [key], {});\n",
              "          if (!dataTable) return;\n",
              "\n",
              "          const docLinkHtml = 'Like what you see? Visit the ' +\n",
              "            '<a target=\"_blank\" href=https://colab.research.google.com/notebooks/data_table.ipynb>data table notebook</a>'\n",
              "            + ' to learn more about interactive tables.';\n",
              "          element.innerHTML = '';\n",
              "          dataTable['output_type'] = 'display_data';\n",
              "          await google.colab.output.renderOutput(dataTable, element);\n",
              "          const docLink = document.createElement('div');\n",
              "          docLink.innerHTML = docLinkHtml;\n",
              "          element.appendChild(docLink);\n",
              "        }\n",
              "      </script>\n",
              "    </div>\n",
              "  </div>\n"
            ]
          },
          "metadata": {},
          "execution_count": 22
        }
      ]
    },
    {
      "cell_type": "code",
      "source": [
        "# Group the data by category and count the number of products in each category\n",
        "category_counts = balanced_data['label'].value_counts()\n",
        "\n",
        "# Create a pie chart\n",
        "fig = px.pie(category_counts, values=category_counts.values,\n",
        "             names=category_counts.index, title='Product Distribution by Category')\n",
        "\n",
        "fig.show()"
      ],
      "metadata": {
        "colab": {
          "base_uri": "https://localhost:8080/",
          "height": 542
        },
        "id": "J3VqfK8u33lw",
        "outputId": "5b77afa9-0338-42ea-edf3-8269d5a22e59"
      },
      "execution_count": 23,
      "outputs": [
        {
          "output_type": "display_data",
          "data": {
            "text/html": [
              "<html>\n",
              "<head><meta charset=\"utf-8\" /></head>\n",
              "<body>\n",
              "    <div>            <script src=\"https://cdnjs.cloudflare.com/ajax/libs/mathjax/2.7.5/MathJax.js?config=TeX-AMS-MML_SVG\"></script><script type=\"text/javascript\">if (window.MathJax && window.MathJax.Hub && window.MathJax.Hub.Config) {window.MathJax.Hub.Config({SVG: {font: \"STIX-Web\"}});}</script>                <script type=\"text/javascript\">window.PlotlyConfig = {MathJaxConfig: 'local'};</script>\n",
              "        <script charset=\"utf-8\" src=\"https://cdn.plot.ly/plotly-2.24.1.min.js\"></script>                <div id=\"2d3bbf7a-991f-4a8a-b4d7-a1edbffc52ac\" class=\"plotly-graph-div\" style=\"height:525px; width:100%;\"></div>            <script type=\"text/javascript\">                                    window.PLOTLYENV=window.PLOTLYENV || {};                                    if (document.getElementById(\"2d3bbf7a-991f-4a8a-b4d7-a1edbffc52ac\")) {                    Plotly.newPlot(                        \"2d3bbf7a-991f-4a8a-b4d7-a1edbffc52ac\",                        [{\"domain\":{\"x\":[0.0,1.0],\"y\":[0.0,1.0]},\"hovertemplate\":\"index=%{label}\\u003cbr\\u003evalue=%{value}\\u003cextra\\u003e\\u003c\\u002fextra\\u003e\",\"labels\":[\"Animals & Pet Supplies\",\"Apparel & Accessories\",\"Toys & Games\",\"Sporting Goods\",\"Software\",\"Religious & Ceremonial\",\"Office Supplies\",\"Media\",\"Luggage & Bags\",\"Home & Garden\",\"Health & Beauty\",\"Hardware\",\"Furniture\",\"Food, Beverages & Tobacco\",\"Electronics\",\"Cameras & Optics\",\"Business & Industrial\",\"Baby & Toddler\",\"Arts & Entertainment\",\"Vehicles & Parts\"],\"legendgroup\":\"\",\"name\":\"\",\"showlegend\":true,\"values\":[1000,1000,1000,1000,1000,1000,1000,1000,1000,1000,1000,1000,1000,1000,1000,1000,1000,1000,1000,1000],\"type\":\"pie\"}],                        {\"template\":{\"data\":{\"histogram2dcontour\":[{\"type\":\"histogram2dcontour\",\"colorbar\":{\"outlinewidth\":0,\"ticks\":\"\"},\"colorscale\":[[0.0,\"#0d0887\"],[0.1111111111111111,\"#46039f\"],[0.2222222222222222,\"#7201a8\"],[0.3333333333333333,\"#9c179e\"],[0.4444444444444444,\"#bd3786\"],[0.5555555555555556,\"#d8576b\"],[0.6666666666666666,\"#ed7953\"],[0.7777777777777778,\"#fb9f3a\"],[0.8888888888888888,\"#fdca26\"],[1.0,\"#f0f921\"]]}],\"choropleth\":[{\"type\":\"choropleth\",\"colorbar\":{\"outlinewidth\":0,\"ticks\":\"\"}}],\"histogram2d\":[{\"type\":\"histogram2d\",\"colorbar\":{\"outlinewidth\":0,\"ticks\":\"\"},\"colorscale\":[[0.0,\"#0d0887\"],[0.1111111111111111,\"#46039f\"],[0.2222222222222222,\"#7201a8\"],[0.3333333333333333,\"#9c179e\"],[0.4444444444444444,\"#bd3786\"],[0.5555555555555556,\"#d8576b\"],[0.6666666666666666,\"#ed7953\"],[0.7777777777777778,\"#fb9f3a\"],[0.8888888888888888,\"#fdca26\"],[1.0,\"#f0f921\"]]}],\"heatmap\":[{\"type\":\"heatmap\",\"colorbar\":{\"outlinewidth\":0,\"ticks\":\"\"},\"colorscale\":[[0.0,\"#0d0887\"],[0.1111111111111111,\"#46039f\"],[0.2222222222222222,\"#7201a8\"],[0.3333333333333333,\"#9c179e\"],[0.4444444444444444,\"#bd3786\"],[0.5555555555555556,\"#d8576b\"],[0.6666666666666666,\"#ed7953\"],[0.7777777777777778,\"#fb9f3a\"],[0.8888888888888888,\"#fdca26\"],[1.0,\"#f0f921\"]]}],\"heatmapgl\":[{\"type\":\"heatmapgl\",\"colorbar\":{\"outlinewidth\":0,\"ticks\":\"\"},\"colorscale\":[[0.0,\"#0d0887\"],[0.1111111111111111,\"#46039f\"],[0.2222222222222222,\"#7201a8\"],[0.3333333333333333,\"#9c179e\"],[0.4444444444444444,\"#bd3786\"],[0.5555555555555556,\"#d8576b\"],[0.6666666666666666,\"#ed7953\"],[0.7777777777777778,\"#fb9f3a\"],[0.8888888888888888,\"#fdca26\"],[1.0,\"#f0f921\"]]}],\"contourcarpet\":[{\"type\":\"contourcarpet\",\"colorbar\":{\"outlinewidth\":0,\"ticks\":\"\"}}],\"contour\":[{\"type\":\"contour\",\"colorbar\":{\"outlinewidth\":0,\"ticks\":\"\"},\"colorscale\":[[0.0,\"#0d0887\"],[0.1111111111111111,\"#46039f\"],[0.2222222222222222,\"#7201a8\"],[0.3333333333333333,\"#9c179e\"],[0.4444444444444444,\"#bd3786\"],[0.5555555555555556,\"#d8576b\"],[0.6666666666666666,\"#ed7953\"],[0.7777777777777778,\"#fb9f3a\"],[0.8888888888888888,\"#fdca26\"],[1.0,\"#f0f921\"]]}],\"surface\":[{\"type\":\"surface\",\"colorbar\":{\"outlinewidth\":0,\"ticks\":\"\"},\"colorscale\":[[0.0,\"#0d0887\"],[0.1111111111111111,\"#46039f\"],[0.2222222222222222,\"#7201a8\"],[0.3333333333333333,\"#9c179e\"],[0.4444444444444444,\"#bd3786\"],[0.5555555555555556,\"#d8576b\"],[0.6666666666666666,\"#ed7953\"],[0.7777777777777778,\"#fb9f3a\"],[0.8888888888888888,\"#fdca26\"],[1.0,\"#f0f921\"]]}],\"mesh3d\":[{\"type\":\"mesh3d\",\"colorbar\":{\"outlinewidth\":0,\"ticks\":\"\"}}],\"scatter\":[{\"fillpattern\":{\"fillmode\":\"overlay\",\"size\":10,\"solidity\":0.2},\"type\":\"scatter\"}],\"parcoords\":[{\"type\":\"parcoords\",\"line\":{\"colorbar\":{\"outlinewidth\":0,\"ticks\":\"\"}}}],\"scatterpolargl\":[{\"type\":\"scatterpolargl\",\"marker\":{\"colorbar\":{\"outlinewidth\":0,\"ticks\":\"\"}}}],\"bar\":[{\"error_x\":{\"color\":\"#2a3f5f\"},\"error_y\":{\"color\":\"#2a3f5f\"},\"marker\":{\"line\":{\"color\":\"#E5ECF6\",\"width\":0.5},\"pattern\":{\"fillmode\":\"overlay\",\"size\":10,\"solidity\":0.2}},\"type\":\"bar\"}],\"scattergeo\":[{\"type\":\"scattergeo\",\"marker\":{\"colorbar\":{\"outlinewidth\":0,\"ticks\":\"\"}}}],\"scatterpolar\":[{\"type\":\"scatterpolar\",\"marker\":{\"colorbar\":{\"outlinewidth\":0,\"ticks\":\"\"}}}],\"histogram\":[{\"marker\":{\"pattern\":{\"fillmode\":\"overlay\",\"size\":10,\"solidity\":0.2}},\"type\":\"histogram\"}],\"scattergl\":[{\"type\":\"scattergl\",\"marker\":{\"colorbar\":{\"outlinewidth\":0,\"ticks\":\"\"}}}],\"scatter3d\":[{\"type\":\"scatter3d\",\"line\":{\"colorbar\":{\"outlinewidth\":0,\"ticks\":\"\"}},\"marker\":{\"colorbar\":{\"outlinewidth\":0,\"ticks\":\"\"}}}],\"scattermapbox\":[{\"type\":\"scattermapbox\",\"marker\":{\"colorbar\":{\"outlinewidth\":0,\"ticks\":\"\"}}}],\"scatterternary\":[{\"type\":\"scatterternary\",\"marker\":{\"colorbar\":{\"outlinewidth\":0,\"ticks\":\"\"}}}],\"scattercarpet\":[{\"type\":\"scattercarpet\",\"marker\":{\"colorbar\":{\"outlinewidth\":0,\"ticks\":\"\"}}}],\"carpet\":[{\"aaxis\":{\"endlinecolor\":\"#2a3f5f\",\"gridcolor\":\"white\",\"linecolor\":\"white\",\"minorgridcolor\":\"white\",\"startlinecolor\":\"#2a3f5f\"},\"baxis\":{\"endlinecolor\":\"#2a3f5f\",\"gridcolor\":\"white\",\"linecolor\":\"white\",\"minorgridcolor\":\"white\",\"startlinecolor\":\"#2a3f5f\"},\"type\":\"carpet\"}],\"table\":[{\"cells\":{\"fill\":{\"color\":\"#EBF0F8\"},\"line\":{\"color\":\"white\"}},\"header\":{\"fill\":{\"color\":\"#C8D4E3\"},\"line\":{\"color\":\"white\"}},\"type\":\"table\"}],\"barpolar\":[{\"marker\":{\"line\":{\"color\":\"#E5ECF6\",\"width\":0.5},\"pattern\":{\"fillmode\":\"overlay\",\"size\":10,\"solidity\":0.2}},\"type\":\"barpolar\"}],\"pie\":[{\"automargin\":true,\"type\":\"pie\"}]},\"layout\":{\"autotypenumbers\":\"strict\",\"colorway\":[\"#636efa\",\"#EF553B\",\"#00cc96\",\"#ab63fa\",\"#FFA15A\",\"#19d3f3\",\"#FF6692\",\"#B6E880\",\"#FF97FF\",\"#FECB52\"],\"font\":{\"color\":\"#2a3f5f\"},\"hovermode\":\"closest\",\"hoverlabel\":{\"align\":\"left\"},\"paper_bgcolor\":\"white\",\"plot_bgcolor\":\"#E5ECF6\",\"polar\":{\"bgcolor\":\"#E5ECF6\",\"angularaxis\":{\"gridcolor\":\"white\",\"linecolor\":\"white\",\"ticks\":\"\"},\"radialaxis\":{\"gridcolor\":\"white\",\"linecolor\":\"white\",\"ticks\":\"\"}},\"ternary\":{\"bgcolor\":\"#E5ECF6\",\"aaxis\":{\"gridcolor\":\"white\",\"linecolor\":\"white\",\"ticks\":\"\"},\"baxis\":{\"gridcolor\":\"white\",\"linecolor\":\"white\",\"ticks\":\"\"},\"caxis\":{\"gridcolor\":\"white\",\"linecolor\":\"white\",\"ticks\":\"\"}},\"coloraxis\":{\"colorbar\":{\"outlinewidth\":0,\"ticks\":\"\"}},\"colorscale\":{\"sequential\":[[0.0,\"#0d0887\"],[0.1111111111111111,\"#46039f\"],[0.2222222222222222,\"#7201a8\"],[0.3333333333333333,\"#9c179e\"],[0.4444444444444444,\"#bd3786\"],[0.5555555555555556,\"#d8576b\"],[0.6666666666666666,\"#ed7953\"],[0.7777777777777778,\"#fb9f3a\"],[0.8888888888888888,\"#fdca26\"],[1.0,\"#f0f921\"]],\"sequentialminus\":[[0.0,\"#0d0887\"],[0.1111111111111111,\"#46039f\"],[0.2222222222222222,\"#7201a8\"],[0.3333333333333333,\"#9c179e\"],[0.4444444444444444,\"#bd3786\"],[0.5555555555555556,\"#d8576b\"],[0.6666666666666666,\"#ed7953\"],[0.7777777777777778,\"#fb9f3a\"],[0.8888888888888888,\"#fdca26\"],[1.0,\"#f0f921\"]],\"diverging\":[[0,\"#8e0152\"],[0.1,\"#c51b7d\"],[0.2,\"#de77ae\"],[0.3,\"#f1b6da\"],[0.4,\"#fde0ef\"],[0.5,\"#f7f7f7\"],[0.6,\"#e6f5d0\"],[0.7,\"#b8e186\"],[0.8,\"#7fbc41\"],[0.9,\"#4d9221\"],[1,\"#276419\"]]},\"xaxis\":{\"gridcolor\":\"white\",\"linecolor\":\"white\",\"ticks\":\"\",\"title\":{\"standoff\":15},\"zerolinecolor\":\"white\",\"automargin\":true,\"zerolinewidth\":2},\"yaxis\":{\"gridcolor\":\"white\",\"linecolor\":\"white\",\"ticks\":\"\",\"title\":{\"standoff\":15},\"zerolinecolor\":\"white\",\"automargin\":true,\"zerolinewidth\":2},\"scene\":{\"xaxis\":{\"backgroundcolor\":\"#E5ECF6\",\"gridcolor\":\"white\",\"linecolor\":\"white\",\"showbackground\":true,\"ticks\":\"\",\"zerolinecolor\":\"white\",\"gridwidth\":2},\"yaxis\":{\"backgroundcolor\":\"#E5ECF6\",\"gridcolor\":\"white\",\"linecolor\":\"white\",\"showbackground\":true,\"ticks\":\"\",\"zerolinecolor\":\"white\",\"gridwidth\":2},\"zaxis\":{\"backgroundcolor\":\"#E5ECF6\",\"gridcolor\":\"white\",\"linecolor\":\"white\",\"showbackground\":true,\"ticks\":\"\",\"zerolinecolor\":\"white\",\"gridwidth\":2}},\"shapedefaults\":{\"line\":{\"color\":\"#2a3f5f\"}},\"annotationdefaults\":{\"arrowcolor\":\"#2a3f5f\",\"arrowhead\":0,\"arrowwidth\":1},\"geo\":{\"bgcolor\":\"white\",\"landcolor\":\"#E5ECF6\",\"subunitcolor\":\"white\",\"showland\":true,\"showlakes\":true,\"lakecolor\":\"white\"},\"title\":{\"x\":0.05},\"mapbox\":{\"style\":\"light\"}}},\"legend\":{\"tracegroupgap\":0},\"title\":{\"text\":\"Product Distribution by Category\"}},                        {\"responsive\": true}                    ).then(function(){\n",
              "                            \n",
              "var gd = document.getElementById('2d3bbf7a-991f-4a8a-b4d7-a1edbffc52ac');\n",
              "var x = new MutationObserver(function (mutations, observer) {{\n",
              "        var display = window.getComputedStyle(gd).display;\n",
              "        if (!display || display === 'none') {{\n",
              "            console.log([gd, 'removed!']);\n",
              "            Plotly.purge(gd);\n",
              "            observer.disconnect();\n",
              "        }}\n",
              "}});\n",
              "\n",
              "// Listen for the removal of the full notebook cells\n",
              "var notebookContainer = gd.closest('#notebook-container');\n",
              "if (notebookContainer) {{\n",
              "    x.observe(notebookContainer, {childList: true});\n",
              "}}\n",
              "\n",
              "// Listen for the clearing of the current output cell\n",
              "var outputEl = gd.closest('.output');\n",
              "if (outputEl) {{\n",
              "    x.observe(outputEl, {childList: true});\n",
              "}}\n",
              "\n",
              "                        })                };                            </script>        </div>\n",
              "</body>\n",
              "</html>"
            ]
          },
          "metadata": {}
        }
      ]
    },
    {
      "cell_type": "markdown",
      "source": [
        "### Data sampling\n",
        "After standardizing the dataset, It's time to **split** the dataset into train dataset and test datasets. The selected ratio of data is 80% of the dataset for training and 20% of the dataset is for testing and validation. 50% of the testing dataset is for validation and the rest is for testing our model."
      ],
      "metadata": {
        "id": "Ezw7NzEm4BrY"
      }
    },
    {
      "cell_type": "code",
      "source": [
        "# splitting dataset to train, validation, and test dataframes\n",
        "train_df, test_df= train_test_split(balanced_data, test_size=0.2, random_state=42)\n",
        "val_df = test_df.sample(frac=0.5)\n",
        "test_df.drop(val_df.index, inplace=True)\n",
        "\n",
        "print(f\"Number of samples in training set: {len(train_df)}\")\n",
        "print(f\"Number of samples in validation set: {len(val_df)}\")\n",
        "print(f\"Number of samples in test set: {len(test_df)}\")\n",
        "\n",
        "# extracting texts and labels from dataframes\n",
        "train_texts = train_df['text']\n",
        "train_labels = train_df['label_int']\n",
        "val_texts = val_df['text']\n",
        "val_labels = val_df['label_int']\n",
        "test_texts = test_df['text']\n",
        "test_labels = test_df['label_int']"
      ],
      "metadata": {
        "colab": {
          "base_uri": "https://localhost:8080/"
        },
        "id": "bWd2Rfp69X8g",
        "outputId": "3a59c925-a90f-4307-be6d-5d73078661c9"
      },
      "execution_count": 24,
      "outputs": [
        {
          "output_type": "stream",
          "name": "stdout",
          "text": [
            "Number of samples in training set: 16000\n",
            "Number of samples in validation set: 2000\n",
            "Number of samples in test set: 1103\n"
          ]
        }
      ]
    },
    {
      "cell_type": "code",
      "source": [
        "# creating data generators with batch size 32\n",
        "batch_size = 32\n",
        "raw_train_batch = tf.data.Dataset.from_tensor_slices((train_texts, train_labels)).batch(batch_size)\n",
        "raw_val_batch = tf.data.Dataset.from_tensor_slices((val_texts, val_labels)).batch(batch_size)\n",
        "raw_test_batch = tf.data.Dataset.from_tensor_slices((test_texts, test_labels)).batch(batch_size)\n",
        "\n",
        "# printing texts and labels of a batch of raw train\n",
        "for text, label in raw_train_batch.take(1):\n",
        "  print('Texts: {}'.format(text))\n",
        "  print('labels: {}'.format(label))"
      ],
      "metadata": {
        "colab": {
          "base_uri": "https://localhost:8080/"
        },
        "id": "C4kA4X60zkC3",
        "outputId": "635ccf26-0262-407b-b3fb-40045dcda6ca"
      },
      "execution_count": 25,
      "outputs": [
        {
          "output_type": "stream",
          "name": "stdout",
          "text": [
            "Texts: [b'blackrapid curve breathe black rapid brand black rapid straps slings style camera straps '\n",
            " b'bubba bear cot sheet baby jalebi bedding bedding cot sheets bubba bear condition new '\n",
            " b'stein world brendan table stein world assembled birch birchwood black cream elk inv elkgroupinternational legs living room furniture sale mdf round rustic stein world stein world accent tables '\n",
            " b'quadrello di bufala cheese cut wrapped by igourmet category cheese cut cheeses milk type buffalo nutrition full set origin italy shipping perishable texture semi soft type stinky and washed rind wholesale cheese collection '\n",
            " b'frida kahlo standing next to an agave plant toni frissell 2019 agave black white black and white botanicals burrow desert fashion frida frida kahlo frissell kahlo large medium mexico pd artist photography plant plants small toni toni frissell vintage vintage edition vintage editions vogue '\n",
            " b'distaut orszaghaz peter zeglis city green landscape photography print water '\n",
            " b'forever cute top strangers lovers top '\n",
            " b'goldendoodle bluetooth speaker teelaunch rr track bluetooth speaker rr track bluetoothspeaker rr track deanrusso rr track dog rr track dogs rr track golden doodle rr track goldendoodle rr track retail rr track speaker sidebar golden doodle sidebar goldendoodle teelaunch '\n",
            " b'daniel maidman enhanced life drawing daniel maidman art daniel maidman drawing figure new releases nude portrait '\n",
            " b'beakers printed graduations pp united scientific beakers laboratory supplies '\n",
            " b'romantic tarot deck themagickalearth clairvoyance divination psychic gifts tarot '\n",
            " b'prairie chicken kettle craft brand kettle craft flavor chicken made in canada pet cats price $0.00 $9.99 type soft '\n",
            " b'cat mystery treat toy box dofos pet centre treats '\n",
            " b'collagen sheet mask the latest scoop 060821 beauty finalsale health beauty md2021 vdayown '\n",
            " b'where chef eat guide to chef favorite restaurants phaidon press books '\n",
            " b'aloe vera banded shampoo conditioner faith in nature 400ml 99 natural aloe vera biodegradable bundle conditioner cruelty free dry hair free gift made in uk normal hair recyclable recycled shampoo vegan '\n",
            " b'broadcast production waves countdown software '\n",
            " b'crystal dog collar miu miu bedding home idit miu miu ss22 pet supplies '\n",
            " b'inside corner pipe holder american muscle docks fabrication hardware '\n",
            " b'hand held back massager closeoutservices case pack personal care '\n",
            " b'forcedark non cellular trail camera spypoint brand spypoint '\n",
            " b'car sound control led lights voice activated music rhythm ambient light seametal 32 led 18 colors car decorative lamp car ambient light car home rhythm decorative lamp car rgb led interior light car sound control led lights voice activated music rhythm ambient light '\n",
            " b'schnauzer notepad give fluff theme terrier type notepads '\n",
            " b'jocelyn co. parmesan artichoke dip mix vinovore $0 $15 cheese cheese snacks chips crackers '\n",
            " b'bnc barrel connector electromann sa camera '\n",
            " b'classic wreath little notes e. frances '\n",
            " b'flamme rouge meteo ozzie collectables board games lpg lpg board games lpg board games board game families lpg board games board game families flamme rouge lpg board games board game genres lpg board games board game genres multiplayer lpg board games board game genres racing lpg board games board game genres sports lpg board games multiplayer lpg board games publishers lpg board games publishers publishers t lpg board games publishers publishers t stronghold games lpg board games racing lpg board games sports lpg new arrivals lpg new arrivals arrivals archive lpg new arrivals arrivals archive arrived week of 12 10 2020 lpg new arrivals arrivals archive arrived week of 31 08 2020 lpg new arrivals arrived week of 12 10 2020 lpg publishers lpg publishers publishers t lpg publishers publishers t stronghold games multiplayer new arrivals racing spo default spo disabled sports '\n",
            " b'race tracks for boys car adventure toys ealingkids 2 to 4 year olds 3 6 years 4 to 6 year olds blocks play cars trucks city construction diy physical activity for boys for girls gifts for boys gifts for girls kids gifts for the builder magnetic tiles summer deals table games toys yaoyanxia '\n",
            " b'binalong bushman coffee binalong coffee store '\n",
            " b'comrad packable lightweight backpack roadrunnerbags backpack bike packing bag '\n",
            " b'temptations salmon flavour cat treats temptations baked biscuit brand temptations cat treats cats flavour salmon june2021 pet type cats salmon temptations treat type baked treat type biscuit under 25 '\n",
            " b'sesame street family bingo sesame street 1 business day age 8 years family games games gender boys gender girls kids toys sesame street shop by age 8 to 12 years shop by age over 12 years travel games vendor sesame street ']\n",
            "labels: [ 5  3  8  7  5  5  1  6  6  4 15  0  0 10 13 10 16  0  9 10  5 19 14  7\n",
            " 11 14 18 19  7 12  0 18]\n"
          ]
        }
      ]
    },
    {
      "cell_type": "code",
      "source": [
        "# counting how many words are there in the whole texts of the dataset\n",
        "num_of_words = 0\n",
        "for i in dataset['text']: num_of_words += len(i.split())\n",
        "\n",
        "print(num_of_words)"
      ],
      "metadata": {
        "colab": {
          "base_uri": "https://localhost:8080/"
        },
        "id": "P2QpUriFrsU_",
        "outputId": "614322d9-e8e7-4c08-84bc-ad33f4313dca"
      },
      "execution_count": 26,
      "outputs": [
        {
          "output_type": "stream",
          "name": "stdout",
          "text": [
            "112572\n"
          ]
        }
      ]
    },
    {
      "cell_type": "markdown",
      "source": [
        "There are about 112000 words in the texts.\n",
        "\n"
      ],
      "metadata": {
        "id": "wfw3CqfZsWyT"
      }
    },
    {
      "cell_type": "code",
      "source": [
        "# counting max sequence length and how many non-repetitive words are there in the whole texts of the dataset\n",
        "l = []\n",
        "max_seq_lenght = 0\n",
        "for i in dataset['text']:\n",
        "  lenght = len(i.split())\n",
        "  if lenght > max_seq_lenght: max_seq_lenght = lenght\n",
        "  for j in i.split():\n",
        "    if j not in l: l.append(j)\n",
        "\n",
        "print(max_seq_lenght)\n",
        "print(len(l))"
      ],
      "metadata": {
        "colab": {
          "base_uri": "https://localhost:8080/"
        },
        "id": "2ufQzaF9ncqZ",
        "outputId": "bfc2f137-f4ad-441f-b141-f14d8b9b3a00"
      },
      "execution_count": 27,
      "outputs": [
        {
          "output_type": "stream",
          "name": "stdout",
          "text": [
            "309\n",
            "18933\n"
          ]
        }
      ]
    },
    {
      "cell_type": "markdown",
      "source": [
        "Maximum sequence length is 309 and There are about 19000 non-repetitive words in the whole dataset texts. So we set max word features to 10000 and sequence length to 350."
      ],
      "metadata": {
        "id": "cGGf8rQorkSR"
      }
    },
    {
      "cell_type": "code",
      "source": [
        "# setting the text vectorization layer with 19000 words and 320 sequence length\n",
        "max_features = 19000     # 10_000 changed to 19_000\n",
        "sequence_length = 320    # 350 changed to 320\n",
        "\n",
        "vectorize_layer = layers.TextVectorization(\n",
        "    max_tokens=max_features,\n",
        "    output_mode='int',\n",
        "    output_sequence_length=sequence_length)\n",
        "\n",
        "# fitting the state of the preprocessing layer to the train set. This will cause the model to build an index of strings to integers.\n",
        "vectorize_layer.adapt(train_texts)\n",
        "\n",
        "# defining the vectorize text function\n",
        "def vectorize_text(text, label):\n",
        "  text = tf.expand_dims(text, -1)\n",
        "  return vectorize_layer(text), label\n",
        "\n",
        "# retrieving a sample from a batch of texts and labels from the train set\n",
        "text_batch, label_batch = next(iter(raw_train_batch))\n",
        "first_review, first_label = text_batch[0], label_batch[0]\n",
        "print(\"Review\", first_review)\n",
        "print(\"Label\", first_label)\n",
        "print(\"Vectorized text\", vectorize_text(first_review, first_label))"
      ],
      "metadata": {
        "colab": {
          "base_uri": "https://localhost:8080/"
        },
        "id": "Ey2QJjO97T9P",
        "outputId": "11adf7b3-af97-4042-dc74-539375267ba7"
      },
      "execution_count": 28,
      "outputs": [
        {
          "output_type": "stream",
          "name": "stdout",
          "text": [
            "Review tf.Tensor(b'blackrapid curve breathe black rapid brand black rapid straps slings style camera straps ', shape=(), dtype=string)\n",
            "Label tf.Tensor(5, shape=(), dtype=int8)\n",
            "Vectorized text (<tf.Tensor: shape=(1, 320), dtype=int64, numpy=\n",
            "array([[4596, 3244, 4590,   12, 2353,   20,   12, 2353, 1124, 4341,   63,\n",
            "         216, 1124,    0,    0,    0,    0,    0,    0,    0,    0,    0,\n",
            "           0,    0,    0,    0,    0,    0,    0,    0,    0,    0,    0,\n",
            "           0,    0,    0,    0,    0,    0,    0,    0,    0,    0,    0,\n",
            "           0,    0,    0,    0,    0,    0,    0,    0,    0,    0,    0,\n",
            "           0,    0,    0,    0,    0,    0,    0,    0,    0,    0,    0,\n",
            "           0,    0,    0,    0,    0,    0,    0,    0,    0,    0,    0,\n",
            "           0,    0,    0,    0,    0,    0,    0,    0,    0,    0,    0,\n",
            "           0,    0,    0,    0,    0,    0,    0,    0,    0,    0,    0,\n",
            "           0,    0,    0,    0,    0,    0,    0,    0,    0,    0,    0,\n",
            "           0,    0,    0,    0,    0,    0,    0,    0,    0,    0,    0,\n",
            "           0,    0,    0,    0,    0,    0,    0,    0,    0,    0,    0,\n",
            "           0,    0,    0,    0,    0,    0,    0,    0,    0,    0,    0,\n",
            "           0,    0,    0,    0,    0,    0,    0,    0,    0,    0,    0,\n",
            "           0,    0,    0,    0,    0,    0,    0,    0,    0,    0,    0,\n",
            "           0,    0,    0,    0,    0,    0,    0,    0,    0,    0,    0,\n",
            "           0,    0,    0,    0,    0,    0,    0,    0,    0,    0,    0,\n",
            "           0,    0,    0,    0,    0,    0,    0,    0,    0,    0,    0,\n",
            "           0,    0,    0,    0,    0,    0,    0,    0,    0,    0,    0,\n",
            "           0,    0,    0,    0,    0,    0,    0,    0,    0,    0,    0,\n",
            "           0,    0,    0,    0,    0,    0,    0,    0,    0,    0,    0,\n",
            "           0,    0,    0,    0,    0,    0,    0,    0,    0,    0,    0,\n",
            "           0,    0,    0,    0,    0,    0,    0,    0,    0,    0,    0,\n",
            "           0,    0,    0,    0,    0,    0,    0,    0,    0,    0,    0,\n",
            "           0,    0,    0,    0,    0,    0,    0,    0,    0,    0,    0,\n",
            "           0,    0,    0,    0,    0,    0,    0,    0,    0,    0,    0,\n",
            "           0,    0,    0,    0,    0,    0,    0,    0,    0,    0,    0,\n",
            "           0,    0,    0,    0,    0,    0,    0,    0,    0,    0,    0,\n",
            "           0,    0,    0,    0,    0,    0,    0,    0,    0,    0,    0,\n",
            "           0]])>, <tf.Tensor: shape=(), dtype=int8, numpy=5>)\n"
          ]
        }
      ]
    },
    {
      "cell_type": "code",
      "source": [
        "# getting corresponding word of each integer\n",
        "print(\"1401 ---> \",vectorize_layer.get_vocabulary()[1401])\n",
        "print(\" 313 ---> \",vectorize_layer.get_vocabulary()[313])\n",
        "print('Vocabulary size: {}'.format(len(vectorize_layer.get_vocabulary())))"
      ],
      "metadata": {
        "colab": {
          "base_uri": "https://localhost:8080/"
        },
        "id": "X84dkB768GSx",
        "outputId": "ebe6bc34-bf6b-4ada-c5ec-61feecbbdf28"
      },
      "execution_count": 29,
      "outputs": [
        {
          "output_type": "stream",
          "name": "stdout",
          "text": [
            "1401 --->  fagus\n",
            " 313 --->  days\n",
            "Vocabulary size: 17284\n"
          ]
        }
      ]
    },
    {
      "cell_type": "code",
      "source": [
        "# creating train, val, and test vectorized dataset and prefetching them\n",
        "train_ds = raw_train_batch.map(vectorize_text)\n",
        "val_ds = raw_val_batch.map(vectorize_text)\n",
        "test_ds = raw_test_batch.map(vectorize_text)\n",
        "\n",
        "AUTOTUNE = tf.data.AUTOTUNE\n",
        "\n",
        "train_ds = train_ds.cache().prefetch(buffer_size=AUTOTUNE)\n",
        "val_ds = val_ds.cache().prefetch(buffer_size=AUTOTUNE)\n",
        "test_ds = test_ds.cache().prefetch(buffer_size=AUTOTUNE)"
      ],
      "metadata": {
        "id": "DiW717GQ_77D"
      },
      "execution_count": 30,
      "outputs": []
    },
    {
      "cell_type": "code",
      "source": [
        "# model configuration\n",
        "embedding_dim = 32\n",
        "num_of_labels = 20\n",
        "\n",
        "model = tf.keras.Sequential([\n",
        "  layers.Embedding(max_features + 1, embedding_dim),\n",
        "  layers.Dropout(0.2),\n",
        "  layers.GlobalAveragePooling1D(),\n",
        "  layers.Dropout(0.2),\n",
        "  layers.Dense(num_of_labels)])\n",
        "\n",
        "model.summary()"
      ],
      "metadata": {
        "colab": {
          "base_uri": "https://localhost:8080/"
        },
        "id": "BBHmGG_SAWhp",
        "outputId": "2e2b1173-d2fa-44b4-f09c-0cafc3cdc3e0"
      },
      "execution_count": 31,
      "outputs": [
        {
          "output_type": "stream",
          "name": "stdout",
          "text": [
            "Model: \"sequential\"\n",
            "_________________________________________________________________\n",
            " Layer (type)                Output Shape              Param #   \n",
            "=================================================================\n",
            " embedding (Embedding)       (None, None, 32)          608032    \n",
            "                                                                 \n",
            " dropout (Dropout)           (None, None, 32)          0         \n",
            "                                                                 \n",
            " global_average_pooling1d (G  (None, 32)               0         \n",
            " lobalAveragePooling1D)                                          \n",
            "                                                                 \n",
            " dropout_1 (Dropout)         (None, 32)                0         \n",
            "                                                                 \n",
            " dense (Dense)               (None, 20)                660       \n",
            "                                                                 \n",
            "=================================================================\n",
            "Total params: 608,692\n",
            "Trainable params: 608,692\n",
            "Non-trainable params: 0\n",
            "_________________________________________________________________\n"
          ]
        }
      ]
    },
    {
      "cell_type": "code",
      "source": [
        "# model compilation\n",
        "model.compile(optimizer='adam',\n",
        "              loss=tf.keras.losses.SparseCategoricalCrossentropy(from_logits=True),\n",
        "              metrics=['accuracy'])"
      ],
      "metadata": {
        "id": "uL6c-YGfAwLz"
      },
      "execution_count": 32,
      "outputs": []
    },
    {
      "cell_type": "code",
      "source": [
        "# training the model\n",
        "epochs = 500\n",
        "\n",
        "callback = tf.keras.callbacks.EarlyStopping(monitor='val_loss',\n",
        "                                            patience=5,\n",
        "                                            verbose=1)\n",
        "\n",
        "history = model.fit(train_ds,\n",
        "                    validation_data=val_ds,\n",
        "                    epochs=epochs,\n",
        "                    callbacks=[callback])"
      ],
      "metadata": {
        "colab": {
          "base_uri": "https://localhost:8080/"
        },
        "id": "CIfmPA3SvX4d",
        "outputId": "113bada7-e11a-44a7-fb6d-cf5637eb0a8b"
      },
      "execution_count": 33,
      "outputs": [
        {
          "output_type": "stream",
          "name": "stdout",
          "text": [
            "Epoch 1/500\n",
            "500/500 [==============================] - 86s 161ms/step - loss: 2.9844 - accuracy: 0.1143 - val_loss: 2.9671 - val_accuracy: 0.2700\n",
            "Epoch 2/500\n",
            "500/500 [==============================] - 4s 9ms/step - loss: 2.9245 - accuracy: 0.3274 - val_loss: 2.8726 - val_accuracy: 0.4210\n",
            "Epoch 3/500\n",
            "500/500 [==============================] - 2s 4ms/step - loss: 2.7803 - accuracy: 0.5261 - val_loss: 2.6947 - val_accuracy: 0.6425\n",
            "Epoch 4/500\n",
            "500/500 [==============================] - 3s 7ms/step - loss: 2.5739 - accuracy: 0.6933 - val_loss: 2.4721 - val_accuracy: 0.8015\n",
            "Epoch 5/500\n",
            "500/500 [==============================] - 2s 5ms/step - loss: 2.3348 - accuracy: 0.7823 - val_loss: 2.2259 - val_accuracy: 0.8585\n",
            "Epoch 6/500\n",
            "500/500 [==============================] - 4s 8ms/step - loss: 2.0826 - accuracy: 0.8328 - val_loss: 1.9732 - val_accuracy: 0.8875\n",
            "Epoch 7/500\n",
            "500/500 [==============================] - 3s 6ms/step - loss: 1.8405 - accuracy: 0.8771 - val_loss: 1.7390 - val_accuracy: 0.9010\n",
            "Epoch 8/500\n",
            "500/500 [==============================] - 3s 5ms/step - loss: 1.6122 - accuracy: 0.8986 - val_loss: 1.5255 - val_accuracy: 0.9125\n",
            "Epoch 9/500\n",
            "500/500 [==============================] - 2s 4ms/step - loss: 1.4067 - accuracy: 0.9202 - val_loss: 1.3359 - val_accuracy: 0.9180\n",
            "Epoch 10/500\n",
            "500/500 [==============================] - 3s 5ms/step - loss: 1.2254 - accuracy: 0.9321 - val_loss: 1.1689 - val_accuracy: 0.9380\n",
            "Epoch 11/500\n",
            "500/500 [==============================] - 2s 5ms/step - loss: 1.0622 - accuracy: 0.9412 - val_loss: 1.0242 - val_accuracy: 0.9425\n",
            "Epoch 12/500\n",
            "500/500 [==============================] - 2s 4ms/step - loss: 0.9272 - accuracy: 0.9511 - val_loss: 0.8991 - val_accuracy: 0.9445\n",
            "Epoch 13/500\n",
            "500/500 [==============================] - 2s 5ms/step - loss: 0.8094 - accuracy: 0.9559 - val_loss: 0.7913 - val_accuracy: 0.9520\n",
            "Epoch 14/500\n",
            "500/500 [==============================] - 3s 6ms/step - loss: 0.7057 - accuracy: 0.9613 - val_loss: 0.6996 - val_accuracy: 0.9565\n",
            "Epoch 15/500\n",
            "500/500 [==============================] - 5s 9ms/step - loss: 0.6200 - accuracy: 0.9649 - val_loss: 0.6198 - val_accuracy: 0.9610\n",
            "Epoch 16/500\n",
            "500/500 [==============================] - 3s 7ms/step - loss: 0.5427 - accuracy: 0.9693 - val_loss: 0.5517 - val_accuracy: 0.9635\n",
            "Epoch 17/500\n",
            "500/500 [==============================] - 2s 4ms/step - loss: 0.4788 - accuracy: 0.9712 - val_loss: 0.4920 - val_accuracy: 0.9680\n",
            "Epoch 18/500\n",
            "500/500 [==============================] - 2s 4ms/step - loss: 0.4211 - accuracy: 0.9768 - val_loss: 0.4411 - val_accuracy: 0.9710\n",
            "Epoch 19/500\n",
            "500/500 [==============================] - 3s 5ms/step - loss: 0.3724 - accuracy: 0.9780 - val_loss: 0.3955 - val_accuracy: 0.9730\n",
            "Epoch 20/500\n",
            "500/500 [==============================] - 2s 4ms/step - loss: 0.3305 - accuracy: 0.9802 - val_loss: 0.3582 - val_accuracy: 0.9750\n",
            "Epoch 21/500\n",
            "500/500 [==============================] - 2s 4ms/step - loss: 0.2943 - accuracy: 0.9816 - val_loss: 0.3239 - val_accuracy: 0.9755\n",
            "Epoch 22/500\n",
            "500/500 [==============================] - 3s 5ms/step - loss: 0.2602 - accuracy: 0.9839 - val_loss: 0.2957 - val_accuracy: 0.9755\n",
            "Epoch 23/500\n",
            "500/500 [==============================] - 2s 4ms/step - loss: 0.2339 - accuracy: 0.9857 - val_loss: 0.2681 - val_accuracy: 0.9775\n",
            "Epoch 24/500\n",
            "500/500 [==============================] - 3s 7ms/step - loss: 0.2091 - accuracy: 0.9875 - val_loss: 0.2462 - val_accuracy: 0.9795\n",
            "Epoch 25/500\n",
            "500/500 [==============================] - 3s 6ms/step - loss: 0.1860 - accuracy: 0.9890 - val_loss: 0.2273 - val_accuracy: 0.9795\n",
            "Epoch 26/500\n",
            "500/500 [==============================] - 2s 4ms/step - loss: 0.1670 - accuracy: 0.9906 - val_loss: 0.2086 - val_accuracy: 0.9815\n",
            "Epoch 27/500\n",
            "500/500 [==============================] - 2s 4ms/step - loss: 0.1495 - accuracy: 0.9921 - val_loss: 0.1925 - val_accuracy: 0.9820\n",
            "Epoch 28/500\n",
            "500/500 [==============================] - 2s 4ms/step - loss: 0.1352 - accuracy: 0.9924 - val_loss: 0.1791 - val_accuracy: 0.9825\n",
            "Epoch 29/500\n",
            "500/500 [==============================] - 2s 5ms/step - loss: 0.1216 - accuracy: 0.9936 - val_loss: 0.1670 - val_accuracy: 0.9830\n",
            "Epoch 30/500\n",
            "500/500 [==============================] - 2s 5ms/step - loss: 0.1092 - accuracy: 0.9946 - val_loss: 0.1567 - val_accuracy: 0.9830\n",
            "Epoch 31/500\n",
            "500/500 [==============================] - 2s 4ms/step - loss: 0.0980 - accuracy: 0.9949 - val_loss: 0.1475 - val_accuracy: 0.9835\n",
            "Epoch 32/500\n",
            "500/500 [==============================] - 2s 4ms/step - loss: 0.0890 - accuracy: 0.9957 - val_loss: 0.1383 - val_accuracy: 0.9840\n",
            "Epoch 33/500\n",
            "500/500 [==============================] - 2s 4ms/step - loss: 0.0799 - accuracy: 0.9959 - val_loss: 0.1302 - val_accuracy: 0.9830\n",
            "Epoch 34/500\n",
            "500/500 [==============================] - 2s 4ms/step - loss: 0.0726 - accuracy: 0.9969 - val_loss: 0.1246 - val_accuracy: 0.9835\n",
            "Epoch 35/500\n",
            "500/500 [==============================] - 3s 5ms/step - loss: 0.0660 - accuracy: 0.9971 - val_loss: 0.1183 - val_accuracy: 0.9830\n",
            "Epoch 36/500\n",
            "500/500 [==============================] - 2s 4ms/step - loss: 0.0604 - accuracy: 0.9974 - val_loss: 0.1124 - val_accuracy: 0.9840\n",
            "Epoch 37/500\n",
            "500/500 [==============================] - 2s 4ms/step - loss: 0.0545 - accuracy: 0.9977 - val_loss: 0.1081 - val_accuracy: 0.9850\n",
            "Epoch 38/500\n",
            "500/500 [==============================] - 2s 4ms/step - loss: 0.0494 - accuracy: 0.9975 - val_loss: 0.1044 - val_accuracy: 0.9830\n",
            "Epoch 39/500\n",
            "500/500 [==============================] - 3s 6ms/step - loss: 0.0454 - accuracy: 0.9980 - val_loss: 0.0999 - val_accuracy: 0.9840\n",
            "Epoch 40/500\n",
            "500/500 [==============================] - 2s 5ms/step - loss: 0.0406 - accuracy: 0.9981 - val_loss: 0.0966 - val_accuracy: 0.9825\n",
            "Epoch 41/500\n",
            "500/500 [==============================] - 2s 4ms/step - loss: 0.0381 - accuracy: 0.9984 - val_loss: 0.0942 - val_accuracy: 0.9835\n",
            "Epoch 42/500\n",
            "500/500 [==============================] - 2s 4ms/step - loss: 0.0349 - accuracy: 0.9988 - val_loss: 0.0906 - val_accuracy: 0.9840\n",
            "Epoch 43/500\n",
            "500/500 [==============================] - 2s 4ms/step - loss: 0.0312 - accuracy: 0.9986 - val_loss: 0.0877 - val_accuracy: 0.9840\n",
            "Epoch 44/500\n",
            "500/500 [==============================] - 2s 4ms/step - loss: 0.0300 - accuracy: 0.9986 - val_loss: 0.0858 - val_accuracy: 0.9840\n",
            "Epoch 45/500\n",
            "500/500 [==============================] - 3s 5ms/step - loss: 0.0266 - accuracy: 0.9989 - val_loss: 0.0850 - val_accuracy: 0.9845\n",
            "Epoch 46/500\n",
            "500/500 [==============================] - 2s 4ms/step - loss: 0.0255 - accuracy: 0.9988 - val_loss: 0.0825 - val_accuracy: 0.9845\n",
            "Epoch 47/500\n",
            "500/500 [==============================] - 2s 4ms/step - loss: 0.0227 - accuracy: 0.9993 - val_loss: 0.0817 - val_accuracy: 0.9845\n",
            "Epoch 48/500\n",
            "500/500 [==============================] - 2s 4ms/step - loss: 0.0205 - accuracy: 0.9994 - val_loss: 0.0795 - val_accuracy: 0.9850\n",
            "Epoch 49/500\n",
            "500/500 [==============================] - 3s 5ms/step - loss: 0.0190 - accuracy: 0.9995 - val_loss: 0.0775 - val_accuracy: 0.9850\n",
            "Epoch 50/500\n",
            "500/500 [==============================] - 2s 4ms/step - loss: 0.0178 - accuracy: 0.9994 - val_loss: 0.0775 - val_accuracy: 0.9845\n",
            "Epoch 51/500\n",
            "500/500 [==============================] - 2s 4ms/step - loss: 0.0162 - accuracy: 0.9994 - val_loss: 0.0761 - val_accuracy: 0.9845\n",
            "Epoch 52/500\n",
            "500/500 [==============================] - 2s 4ms/step - loss: 0.0150 - accuracy: 0.9996 - val_loss: 0.0771 - val_accuracy: 0.9840\n",
            "Epoch 53/500\n",
            "500/500 [==============================] - 2s 4ms/step - loss: 0.0141 - accuracy: 0.9993 - val_loss: 0.0757 - val_accuracy: 0.9850\n",
            "Epoch 54/500\n",
            "500/500 [==============================] - 3s 6ms/step - loss: 0.0126 - accuracy: 0.9995 - val_loss: 0.0749 - val_accuracy: 0.9845\n",
            "Epoch 55/500\n",
            "500/500 [==============================] - 2s 4ms/step - loss: 0.0120 - accuracy: 0.9998 - val_loss: 0.0739 - val_accuracy: 0.9845\n",
            "Epoch 56/500\n",
            "500/500 [==============================] - 2s 4ms/step - loss: 0.0110 - accuracy: 0.9998 - val_loss: 0.0737 - val_accuracy: 0.9840\n",
            "Epoch 57/500\n",
            "500/500 [==============================] - 2s 4ms/step - loss: 0.0101 - accuracy: 0.9998 - val_loss: 0.0737 - val_accuracy: 0.9855\n",
            "Epoch 58/500\n",
            "500/500 [==============================] - 2s 4ms/step - loss: 0.0095 - accuracy: 0.9996 - val_loss: 0.0730 - val_accuracy: 0.9835\n",
            "Epoch 59/500\n",
            "500/500 [==============================] - 2s 4ms/step - loss: 0.0087 - accuracy: 0.9996 - val_loss: 0.0743 - val_accuracy: 0.9840\n",
            "Epoch 60/500\n",
            "500/500 [==============================] - 3s 5ms/step - loss: 0.0081 - accuracy: 0.9998 - val_loss: 0.0729 - val_accuracy: 0.9845\n",
            "Epoch 61/500\n",
            "500/500 [==============================] - 2s 4ms/step - loss: 0.0075 - accuracy: 0.9998 - val_loss: 0.0731 - val_accuracy: 0.9840\n",
            "Epoch 62/500\n",
            "500/500 [==============================] - 2s 4ms/step - loss: 0.0070 - accuracy: 0.9998 - val_loss: 0.0720 - val_accuracy: 0.9840\n",
            "Epoch 63/500\n",
            "500/500 [==============================] - 2s 4ms/step - loss: 0.0068 - accuracy: 0.9999 - val_loss: 0.0723 - val_accuracy: 0.9840\n",
            "Epoch 64/500\n",
            "500/500 [==============================] - 2s 4ms/step - loss: 0.0061 - accuracy: 0.9999 - val_loss: 0.0727 - val_accuracy: 0.9830\n",
            "Epoch 65/500\n",
            "500/500 [==============================] - 4s 8ms/step - loss: 0.0058 - accuracy: 0.9999 - val_loss: 0.0720 - val_accuracy: 0.9850\n",
            "Epoch 66/500\n",
            "500/500 [==============================] - 2s 4ms/step - loss: 0.0054 - accuracy: 0.9999 - val_loss: 0.0724 - val_accuracy: 0.9840\n",
            "Epoch 67/500\n",
            "500/500 [==============================] - 2s 4ms/step - loss: 0.0051 - accuracy: 0.9999 - val_loss: 0.0717 - val_accuracy: 0.9835\n",
            "Epoch 68/500\n",
            "500/500 [==============================] - 2s 4ms/step - loss: 0.0049 - accuracy: 0.9998 - val_loss: 0.0709 - val_accuracy: 0.9840\n",
            "Epoch 69/500\n",
            "500/500 [==============================] - 2s 4ms/step - loss: 0.0044 - accuracy: 0.9999 - val_loss: 0.0712 - val_accuracy: 0.9850\n",
            "Epoch 70/500\n",
            "500/500 [==============================] - 3s 6ms/step - loss: 0.0039 - accuracy: 0.9999 - val_loss: 0.0709 - val_accuracy: 0.9840\n",
            "Epoch 71/500\n",
            "500/500 [==============================] - 2s 4ms/step - loss: 0.0040 - accuracy: 0.9999 - val_loss: 0.0729 - val_accuracy: 0.9840\n",
            "Epoch 72/500\n",
            "500/500 [==============================] - 2s 4ms/step - loss: 0.0035 - accuracy: 0.9999 - val_loss: 0.0719 - val_accuracy: 0.9845\n",
            "Epoch 73/500\n",
            "500/500 [==============================] - 2s 4ms/step - loss: 0.0036 - accuracy: 0.9999 - val_loss: 0.0723 - val_accuracy: 0.9835\n",
            "Epoch 74/500\n",
            "500/500 [==============================] - 2s 4ms/step - loss: 0.0032 - accuracy: 0.9999 - val_loss: 0.0725 - val_accuracy: 0.9835\n",
            "Epoch 75/500\n",
            "500/500 [==============================] - 3s 6ms/step - loss: 0.0029 - accuracy: 0.9999 - val_loss: 0.0729 - val_accuracy: 0.9840\n",
            "Epoch 75: early stopping\n"
          ]
        }
      ]
    },
    {
      "cell_type": "code",
      "source": [
        "# printing loss and accuracy of the model on the test set\n",
        "loss, accuracy = model.evaluate(test_ds)\n",
        "print(\"Loss: \", loss)\n",
        "print(\"Accuracy: \", accuracy)"
      ],
      "metadata": {
        "colab": {
          "base_uri": "https://localhost:8080/"
        },
        "id": "FksY9EwwHDkd",
        "outputId": "8e6b487e-456e-4faf-ab5a-e8521bb9437b"
      },
      "execution_count": 34,
      "outputs": [
        {
          "output_type": "stream",
          "name": "stdout",
          "text": [
            "35/35 [==============================] - 0s 3ms/step - loss: 0.1320 - accuracy: 0.9810\n",
            "Loss:  0.13196080923080444\n",
            "Accuracy:  0.9809610247612\n"
          ]
        }
      ]
    },
    {
      "cell_type": "markdown",
      "source": [
        "#### Plot Loss and Accuracy of Model"
      ],
      "metadata": {
        "id": "I57XS9pw4h8w"
      }
    },
    {
      "cell_type": "code",
      "source": [
        "# Extract training history\n",
        "training_loss = history.history['loss']\n",
        "training_accuracy = history.history['accuracy']\n",
        "validation_loss = history.history['val_loss']\n",
        "validation_accuracy = history.history['val_accuracy']\n",
        "epochs = list(range(1, len(training_loss) + 1))  # Convert range to list"
      ],
      "metadata": {
        "id": "gtFZs58n4hl6"
      },
      "execution_count": 35,
      "outputs": []
    },
    {
      "cell_type": "code",
      "source": [
        "# Create subplots\n",
        "fig = go.Figure()\n",
        "\n",
        "# Add training loss plot\n",
        "fig.add_trace(go.Scatter(x=epochs, y=training_loss, mode='lines+markers', name='Training Loss'))\n",
        "# Add validation loss plot\n",
        "fig.add_trace(go.Scatter(x=epochs, y=validation_loss, mode='lines+markers', name='Validation Loss'))\n",
        "\n",
        "# Update layout\n",
        "fig.update_layout(title='Training and Validation Metrics',\n",
        "                  xaxis_title='Epochs',\n",
        "                  yaxis_title='Value',\n",
        "                  legend=dict(x=0.7, y=1),\n",
        "                  template='plotly_dark')\n",
        "\n",
        "# Show the plot\n",
        "fig.show()"
      ],
      "metadata": {
        "colab": {
          "base_uri": "https://localhost:8080/",
          "height": 542
        },
        "id": "cPdyDruxHIv1",
        "outputId": "8e0b87a6-00d0-44ee-e596-0cdc9faeab14"
      },
      "execution_count": 36,
      "outputs": [
        {
          "output_type": "display_data",
          "data": {
            "text/html": [
              "<html>\n",
              "<head><meta charset=\"utf-8\" /></head>\n",
              "<body>\n",
              "    <div>            <script src=\"https://cdnjs.cloudflare.com/ajax/libs/mathjax/2.7.5/MathJax.js?config=TeX-AMS-MML_SVG\"></script><script type=\"text/javascript\">if (window.MathJax && window.MathJax.Hub && window.MathJax.Hub.Config) {window.MathJax.Hub.Config({SVG: {font: \"STIX-Web\"}});}</script>                <script type=\"text/javascript\">window.PlotlyConfig = {MathJaxConfig: 'local'};</script>\n",
              "        <script charset=\"utf-8\" src=\"https://cdn.plot.ly/plotly-2.24.1.min.js\"></script>                <div id=\"b76e6e26-737d-4d59-adea-e99ce2b67cd9\" class=\"plotly-graph-div\" style=\"height:525px; width:100%;\"></div>            <script type=\"text/javascript\">                                    window.PLOTLYENV=window.PLOTLYENV || {};                                    if (document.getElementById(\"b76e6e26-737d-4d59-adea-e99ce2b67cd9\")) {                    Plotly.newPlot(                        \"b76e6e26-737d-4d59-adea-e99ce2b67cd9\",                        [{\"mode\":\"lines+markers\",\"name\":\"Training Loss\",\"x\":[1,2,3,4,5,6,7,8,9,10,11,12,13,14,15,16,17,18,19,20,21,22,23,24,25,26,27,28,29,30,31,32,33,34,35,36,37,38,39,40,41,42,43,44,45,46,47,48,49,50,51,52,53,54,55,56,57,58,59,60,61,62,63,64,65,66,67,68,69,70,71,72,73,74,75],\"y\":[2.9843759536743164,2.9245214462280273,2.780276298522949,2.573914051055908,2.334845781326294,2.08261775970459,1.8405344486236572,1.6121808290481567,1.4066762924194336,1.2253711223602295,1.0622198581695557,0.9271655082702637,0.8094054460525513,0.7056500911712646,0.6200007200241089,0.5426536202430725,0.47883129119873047,0.4210781753063202,0.37235188484191895,0.3305026590824127,0.2942706048488617,0.26016920804977417,0.2338622510433197,0.20905962586402893,0.18598458170890808,0.16699665784835815,0.14948667585849762,0.13518798351287842,0.12157359719276428,0.10917889326810837,0.09797346591949463,0.08903998881578445,0.07987535744905472,0.07258223742246628,0.06596565991640091,0.060355644673109055,0.05451470613479614,0.049355264753103256,0.04537898302078247,0.04060646519064903,0.038074228912591934,0.03491232171654701,0.031211355701088905,0.03000854328274727,0.026614798232913017,0.025496797636151314,0.02269916608929634,0.020451005548238754,0.018982162699103355,0.01775169000029564,0.016193410381674767,0.015018277801573277,0.014144503511488438,0.012581643648445606,0.011963034979999065,0.010976375080645084,0.01009018998593092,0.009538325481116772,0.008741931989789009,0.008124479092657566,0.007548450026661158,0.007017519325017929,0.006817332003265619,0.0060850754380226135,0.005780352745205164,0.00539833540096879,0.005126703064888716,0.004872272722423077,0.004409884102642536,0.0038926037959754467,0.004014189355075359,0.0035103214904665947,0.0035585425794124603,0.0031710457988083363,0.002937037730589509],\"type\":\"scatter\"},{\"mode\":\"lines+markers\",\"name\":\"Validation Loss\",\"x\":[1,2,3,4,5,6,7,8,9,10,11,12,13,14,15,16,17,18,19,20,21,22,23,24,25,26,27,28,29,30,31,32,33,34,35,36,37,38,39,40,41,42,43,44,45,46,47,48,49,50,51,52,53,54,55,56,57,58,59,60,61,62,63,64,65,66,67,68,69,70,71,72,73,74,75],\"y\":[2.9670653343200684,2.8725645542144775,2.694744825363159,2.472060441970825,2.2259130477905273,1.9731857776641846,1.7389743328094482,1.5255097150802612,1.335932731628418,1.1689175367355347,1.0242249965667725,0.8991009593009949,0.7913380265235901,0.6996060609817505,0.6197680234909058,0.5517057180404663,0.4919556677341461,0.4411171078681946,0.3955055773258209,0.3581641912460327,0.3239381015300751,0.29569876194000244,0.2681160271167755,0.2461549937725067,0.22734598815441132,0.20859257876873016,0.19251829385757446,0.17910800874233246,0.16699878871440887,0.15666042268276215,0.14750012755393982,0.13829369843006134,0.13022233545780182,0.12461517751216888,0.11834784597158432,0.11237479746341705,0.10806954652070999,0.10441373288631439,0.09988605976104736,0.09658203274011612,0.09421966969966888,0.09062094241380692,0.08774260431528091,0.08576339483261108,0.08503740280866623,0.08246982097625732,0.08166439831256866,0.07953546941280365,0.07748784124851227,0.07747843861579895,0.07609385997056961,0.07713260501623154,0.07571914047002792,0.07494379580020905,0.07387388497591019,0.07365961372852325,0.07371456176042557,0.07296230643987656,0.0742870420217514,0.07289233058691025,0.07305075973272324,0.07196198403835297,0.07232239097356796,0.07270825654268265,0.07199955731630325,0.07236957550048828,0.0717340037226677,0.07092807441949844,0.07119418680667877,0.07090054452419281,0.07294166088104248,0.07189696282148361,0.07225309312343597,0.07246062159538269,0.0728745087981224],\"type\":\"scatter\"}],                        {\"template\":{\"data\":{\"barpolar\":[{\"marker\":{\"line\":{\"color\":\"rgb(17,17,17)\",\"width\":0.5},\"pattern\":{\"fillmode\":\"overlay\",\"size\":10,\"solidity\":0.2}},\"type\":\"barpolar\"}],\"bar\":[{\"error_x\":{\"color\":\"#f2f5fa\"},\"error_y\":{\"color\":\"#f2f5fa\"},\"marker\":{\"line\":{\"color\":\"rgb(17,17,17)\",\"width\":0.5},\"pattern\":{\"fillmode\":\"overlay\",\"size\":10,\"solidity\":0.2}},\"type\":\"bar\"}],\"carpet\":[{\"aaxis\":{\"endlinecolor\":\"#A2B1C6\",\"gridcolor\":\"#506784\",\"linecolor\":\"#506784\",\"minorgridcolor\":\"#506784\",\"startlinecolor\":\"#A2B1C6\"},\"baxis\":{\"endlinecolor\":\"#A2B1C6\",\"gridcolor\":\"#506784\",\"linecolor\":\"#506784\",\"minorgridcolor\":\"#506784\",\"startlinecolor\":\"#A2B1C6\"},\"type\":\"carpet\"}],\"choropleth\":[{\"colorbar\":{\"outlinewidth\":0,\"ticks\":\"\"},\"type\":\"choropleth\"}],\"contourcarpet\":[{\"colorbar\":{\"outlinewidth\":0,\"ticks\":\"\"},\"type\":\"contourcarpet\"}],\"contour\":[{\"colorbar\":{\"outlinewidth\":0,\"ticks\":\"\"},\"colorscale\":[[0.0,\"#0d0887\"],[0.1111111111111111,\"#46039f\"],[0.2222222222222222,\"#7201a8\"],[0.3333333333333333,\"#9c179e\"],[0.4444444444444444,\"#bd3786\"],[0.5555555555555556,\"#d8576b\"],[0.6666666666666666,\"#ed7953\"],[0.7777777777777778,\"#fb9f3a\"],[0.8888888888888888,\"#fdca26\"],[1.0,\"#f0f921\"]],\"type\":\"contour\"}],\"heatmapgl\":[{\"colorbar\":{\"outlinewidth\":0,\"ticks\":\"\"},\"colorscale\":[[0.0,\"#0d0887\"],[0.1111111111111111,\"#46039f\"],[0.2222222222222222,\"#7201a8\"],[0.3333333333333333,\"#9c179e\"],[0.4444444444444444,\"#bd3786\"],[0.5555555555555556,\"#d8576b\"],[0.6666666666666666,\"#ed7953\"],[0.7777777777777778,\"#fb9f3a\"],[0.8888888888888888,\"#fdca26\"],[1.0,\"#f0f921\"]],\"type\":\"heatmapgl\"}],\"heatmap\":[{\"colorbar\":{\"outlinewidth\":0,\"ticks\":\"\"},\"colorscale\":[[0.0,\"#0d0887\"],[0.1111111111111111,\"#46039f\"],[0.2222222222222222,\"#7201a8\"],[0.3333333333333333,\"#9c179e\"],[0.4444444444444444,\"#bd3786\"],[0.5555555555555556,\"#d8576b\"],[0.6666666666666666,\"#ed7953\"],[0.7777777777777778,\"#fb9f3a\"],[0.8888888888888888,\"#fdca26\"],[1.0,\"#f0f921\"]],\"type\":\"heatmap\"}],\"histogram2dcontour\":[{\"colorbar\":{\"outlinewidth\":0,\"ticks\":\"\"},\"colorscale\":[[0.0,\"#0d0887\"],[0.1111111111111111,\"#46039f\"],[0.2222222222222222,\"#7201a8\"],[0.3333333333333333,\"#9c179e\"],[0.4444444444444444,\"#bd3786\"],[0.5555555555555556,\"#d8576b\"],[0.6666666666666666,\"#ed7953\"],[0.7777777777777778,\"#fb9f3a\"],[0.8888888888888888,\"#fdca26\"],[1.0,\"#f0f921\"]],\"type\":\"histogram2dcontour\"}],\"histogram2d\":[{\"colorbar\":{\"outlinewidth\":0,\"ticks\":\"\"},\"colorscale\":[[0.0,\"#0d0887\"],[0.1111111111111111,\"#46039f\"],[0.2222222222222222,\"#7201a8\"],[0.3333333333333333,\"#9c179e\"],[0.4444444444444444,\"#bd3786\"],[0.5555555555555556,\"#d8576b\"],[0.6666666666666666,\"#ed7953\"],[0.7777777777777778,\"#fb9f3a\"],[0.8888888888888888,\"#fdca26\"],[1.0,\"#f0f921\"]],\"type\":\"histogram2d\"}],\"histogram\":[{\"marker\":{\"pattern\":{\"fillmode\":\"overlay\",\"size\":10,\"solidity\":0.2}},\"type\":\"histogram\"}],\"mesh3d\":[{\"colorbar\":{\"outlinewidth\":0,\"ticks\":\"\"},\"type\":\"mesh3d\"}],\"parcoords\":[{\"line\":{\"colorbar\":{\"outlinewidth\":0,\"ticks\":\"\"}},\"type\":\"parcoords\"}],\"pie\":[{\"automargin\":true,\"type\":\"pie\"}],\"scatter3d\":[{\"line\":{\"colorbar\":{\"outlinewidth\":0,\"ticks\":\"\"}},\"marker\":{\"colorbar\":{\"outlinewidth\":0,\"ticks\":\"\"}},\"type\":\"scatter3d\"}],\"scattercarpet\":[{\"marker\":{\"colorbar\":{\"outlinewidth\":0,\"ticks\":\"\"}},\"type\":\"scattercarpet\"}],\"scattergeo\":[{\"marker\":{\"colorbar\":{\"outlinewidth\":0,\"ticks\":\"\"}},\"type\":\"scattergeo\"}],\"scattergl\":[{\"marker\":{\"line\":{\"color\":\"#283442\"}},\"type\":\"scattergl\"}],\"scattermapbox\":[{\"marker\":{\"colorbar\":{\"outlinewidth\":0,\"ticks\":\"\"}},\"type\":\"scattermapbox\"}],\"scatterpolargl\":[{\"marker\":{\"colorbar\":{\"outlinewidth\":0,\"ticks\":\"\"}},\"type\":\"scatterpolargl\"}],\"scatterpolar\":[{\"marker\":{\"colorbar\":{\"outlinewidth\":0,\"ticks\":\"\"}},\"type\":\"scatterpolar\"}],\"scatter\":[{\"marker\":{\"line\":{\"color\":\"#283442\"}},\"type\":\"scatter\"}],\"scatterternary\":[{\"marker\":{\"colorbar\":{\"outlinewidth\":0,\"ticks\":\"\"}},\"type\":\"scatterternary\"}],\"surface\":[{\"colorbar\":{\"outlinewidth\":0,\"ticks\":\"\"},\"colorscale\":[[0.0,\"#0d0887\"],[0.1111111111111111,\"#46039f\"],[0.2222222222222222,\"#7201a8\"],[0.3333333333333333,\"#9c179e\"],[0.4444444444444444,\"#bd3786\"],[0.5555555555555556,\"#d8576b\"],[0.6666666666666666,\"#ed7953\"],[0.7777777777777778,\"#fb9f3a\"],[0.8888888888888888,\"#fdca26\"],[1.0,\"#f0f921\"]],\"type\":\"surface\"}],\"table\":[{\"cells\":{\"fill\":{\"color\":\"#506784\"},\"line\":{\"color\":\"rgb(17,17,17)\"}},\"header\":{\"fill\":{\"color\":\"#2a3f5f\"},\"line\":{\"color\":\"rgb(17,17,17)\"}},\"type\":\"table\"}]},\"layout\":{\"annotationdefaults\":{\"arrowcolor\":\"#f2f5fa\",\"arrowhead\":0,\"arrowwidth\":1},\"autotypenumbers\":\"strict\",\"coloraxis\":{\"colorbar\":{\"outlinewidth\":0,\"ticks\":\"\"}},\"colorscale\":{\"diverging\":[[0,\"#8e0152\"],[0.1,\"#c51b7d\"],[0.2,\"#de77ae\"],[0.3,\"#f1b6da\"],[0.4,\"#fde0ef\"],[0.5,\"#f7f7f7\"],[0.6,\"#e6f5d0\"],[0.7,\"#b8e186\"],[0.8,\"#7fbc41\"],[0.9,\"#4d9221\"],[1,\"#276419\"]],\"sequential\":[[0.0,\"#0d0887\"],[0.1111111111111111,\"#46039f\"],[0.2222222222222222,\"#7201a8\"],[0.3333333333333333,\"#9c179e\"],[0.4444444444444444,\"#bd3786\"],[0.5555555555555556,\"#d8576b\"],[0.6666666666666666,\"#ed7953\"],[0.7777777777777778,\"#fb9f3a\"],[0.8888888888888888,\"#fdca26\"],[1.0,\"#f0f921\"]],\"sequentialminus\":[[0.0,\"#0d0887\"],[0.1111111111111111,\"#46039f\"],[0.2222222222222222,\"#7201a8\"],[0.3333333333333333,\"#9c179e\"],[0.4444444444444444,\"#bd3786\"],[0.5555555555555556,\"#d8576b\"],[0.6666666666666666,\"#ed7953\"],[0.7777777777777778,\"#fb9f3a\"],[0.8888888888888888,\"#fdca26\"],[1.0,\"#f0f921\"]]},\"colorway\":[\"#636efa\",\"#EF553B\",\"#00cc96\",\"#ab63fa\",\"#FFA15A\",\"#19d3f3\",\"#FF6692\",\"#B6E880\",\"#FF97FF\",\"#FECB52\"],\"font\":{\"color\":\"#f2f5fa\"},\"geo\":{\"bgcolor\":\"rgb(17,17,17)\",\"lakecolor\":\"rgb(17,17,17)\",\"landcolor\":\"rgb(17,17,17)\",\"showlakes\":true,\"showland\":true,\"subunitcolor\":\"#506784\"},\"hoverlabel\":{\"align\":\"left\"},\"hovermode\":\"closest\",\"mapbox\":{\"style\":\"dark\"},\"paper_bgcolor\":\"rgb(17,17,17)\",\"plot_bgcolor\":\"rgb(17,17,17)\",\"polar\":{\"angularaxis\":{\"gridcolor\":\"#506784\",\"linecolor\":\"#506784\",\"ticks\":\"\"},\"bgcolor\":\"rgb(17,17,17)\",\"radialaxis\":{\"gridcolor\":\"#506784\",\"linecolor\":\"#506784\",\"ticks\":\"\"}},\"scene\":{\"xaxis\":{\"backgroundcolor\":\"rgb(17,17,17)\",\"gridcolor\":\"#506784\",\"gridwidth\":2,\"linecolor\":\"#506784\",\"showbackground\":true,\"ticks\":\"\",\"zerolinecolor\":\"#C8D4E3\"},\"yaxis\":{\"backgroundcolor\":\"rgb(17,17,17)\",\"gridcolor\":\"#506784\",\"gridwidth\":2,\"linecolor\":\"#506784\",\"showbackground\":true,\"ticks\":\"\",\"zerolinecolor\":\"#C8D4E3\"},\"zaxis\":{\"backgroundcolor\":\"rgb(17,17,17)\",\"gridcolor\":\"#506784\",\"gridwidth\":2,\"linecolor\":\"#506784\",\"showbackground\":true,\"ticks\":\"\",\"zerolinecolor\":\"#C8D4E3\"}},\"shapedefaults\":{\"line\":{\"color\":\"#f2f5fa\"}},\"sliderdefaults\":{\"bgcolor\":\"#C8D4E3\",\"bordercolor\":\"rgb(17,17,17)\",\"borderwidth\":1,\"tickwidth\":0},\"ternary\":{\"aaxis\":{\"gridcolor\":\"#506784\",\"linecolor\":\"#506784\",\"ticks\":\"\"},\"baxis\":{\"gridcolor\":\"#506784\",\"linecolor\":\"#506784\",\"ticks\":\"\"},\"bgcolor\":\"rgb(17,17,17)\",\"caxis\":{\"gridcolor\":\"#506784\",\"linecolor\":\"#506784\",\"ticks\":\"\"}},\"title\":{\"x\":0.05},\"updatemenudefaults\":{\"bgcolor\":\"#506784\",\"borderwidth\":0},\"xaxis\":{\"automargin\":true,\"gridcolor\":\"#283442\",\"linecolor\":\"#506784\",\"ticks\":\"\",\"title\":{\"standoff\":15},\"zerolinecolor\":\"#283442\",\"zerolinewidth\":2},\"yaxis\":{\"automargin\":true,\"gridcolor\":\"#283442\",\"linecolor\":\"#506784\",\"ticks\":\"\",\"title\":{\"standoff\":15},\"zerolinecolor\":\"#283442\",\"zerolinewidth\":2}}},\"legend\":{\"x\":0.7,\"y\":1},\"title\":{\"text\":\"Training and Validation Metrics\"},\"xaxis\":{\"title\":{\"text\":\"Epochs\"}},\"yaxis\":{\"title\":{\"text\":\"Value\"}}},                        {\"responsive\": true}                    ).then(function(){\n",
              "                            \n",
              "var gd = document.getElementById('b76e6e26-737d-4d59-adea-e99ce2b67cd9');\n",
              "var x = new MutationObserver(function (mutations, observer) {{\n",
              "        var display = window.getComputedStyle(gd).display;\n",
              "        if (!display || display === 'none') {{\n",
              "            console.log([gd, 'removed!']);\n",
              "            Plotly.purge(gd);\n",
              "            observer.disconnect();\n",
              "        }}\n",
              "}});\n",
              "\n",
              "// Listen for the removal of the full notebook cells\n",
              "var notebookContainer = gd.closest('#notebook-container');\n",
              "if (notebookContainer) {{\n",
              "    x.observe(notebookContainer, {childList: true});\n",
              "}}\n",
              "\n",
              "// Listen for the clearing of the current output cell\n",
              "var outputEl = gd.closest('.output');\n",
              "if (outputEl) {{\n",
              "    x.observe(outputEl, {childList: true});\n",
              "}}\n",
              "\n",
              "                        })                };                            </script>        </div>\n",
              "</body>\n",
              "</html>"
            ]
          },
          "metadata": {}
        }
      ]
    },
    {
      "cell_type": "code",
      "source": [
        "# Create subplots\n",
        "fig = go.Figure()\n",
        "\n",
        "# Add training accuracy plot\n",
        "fig.add_trace(go.Scatter(x=epochs, y=training_accuracy, mode='lines+markers', name='Training Accuracy'))\n",
        "# Add validation accuracy plot\n",
        "fig.add_trace(go.Scatter(x=epochs, y=validation_accuracy, mode='lines+markers', name='Validation Accuracy'))\n",
        "\n",
        "# Update layout\n",
        "fig.update_layout(title='Training and Validation Metrics',\n",
        "                  xaxis_title='Epochs',\n",
        "                  yaxis_title='Value',\n",
        "                  legend=dict(x=0.7, y=1),\n",
        "                  template='plotly_dark')\n",
        "\n",
        "# Show the plot\n",
        "fig.show()"
      ],
      "metadata": {
        "id": "shbF_xRlHDqZ",
        "colab": {
          "base_uri": "https://localhost:8080/",
          "height": 542
        },
        "outputId": "0b9d14d0-4bc9-46cc-b4b5-bfd926d15fa0"
      },
      "execution_count": 37,
      "outputs": [
        {
          "output_type": "display_data",
          "data": {
            "text/html": [
              "<html>\n",
              "<head><meta charset=\"utf-8\" /></head>\n",
              "<body>\n",
              "    <div>            <script src=\"https://cdnjs.cloudflare.com/ajax/libs/mathjax/2.7.5/MathJax.js?config=TeX-AMS-MML_SVG\"></script><script type=\"text/javascript\">if (window.MathJax && window.MathJax.Hub && window.MathJax.Hub.Config) {window.MathJax.Hub.Config({SVG: {font: \"STIX-Web\"}});}</script>                <script type=\"text/javascript\">window.PlotlyConfig = {MathJaxConfig: 'local'};</script>\n",
              "        <script charset=\"utf-8\" src=\"https://cdn.plot.ly/plotly-2.24.1.min.js\"></script>                <div id=\"8842e222-d855-45b2-82a9-bde9527eb4a3\" class=\"plotly-graph-div\" style=\"height:525px; width:100%;\"></div>            <script type=\"text/javascript\">                                    window.PLOTLYENV=window.PLOTLYENV || {};                                    if (document.getElementById(\"8842e222-d855-45b2-82a9-bde9527eb4a3\")) {                    Plotly.newPlot(                        \"8842e222-d855-45b2-82a9-bde9527eb4a3\",                        [{\"mode\":\"lines+markers\",\"name\":\"Training Accuracy\",\"x\":[1,2,3,4,5,6,7,8,9,10,11,12,13,14,15,16,17,18,19,20,21,22,23,24,25,26,27,28,29,30,31,32,33,34,35,36,37,38,39,40,41,42,43,44,45,46,47,48,49,50,51,52,53,54,55,56,57,58,59,60,61,62,63,64,65,66,67,68,69,70,71,72,73,74,75],\"y\":[0.11431249976158142,0.32737499475479126,0.5261250138282776,0.6933125257492065,0.7823125123977661,0.8327500224113464,0.8770624995231628,0.898562490940094,0.9202499985694885,0.9320625066757202,0.9411875009536743,0.9511250257492065,0.9558749794960022,0.961312472820282,0.9649375081062317,0.9692500233650208,0.9712499976158142,0.9767500162124634,0.9779999852180481,0.9801874756813049,0.9815624952316284,0.9839375019073486,0.9856874942779541,0.987500011920929,0.9890000224113464,0.9906250238418579,0.992062509059906,0.992437481880188,0.9935625195503235,0.9946249723434448,0.9948750138282776,0.9956874847412109,0.9959375262260437,0.9969375133514404,0.9970625042915344,0.9974374771118164,0.9976875185966492,0.9975000023841858,0.9980000257492065,0.9980624914169312,0.9984375238418579,0.9988124966621399,0.9985625147819519,0.9985625147819519,0.9989374876022339,0.9988124966621399,0.9993125200271606,0.9994375109672546,0.9994999766349792,0.9994375109672546,0.9993749856948853,0.9995625019073486,0.9993125200271606,0.9994999766349792,0.999750018119812,0.999750018119812,0.9998124837875366,0.999625027179718,0.999625027179718,0.9998124837875366,0.9998124837875366,0.9998124837875366,0.999875009059906,0.999875009059906,0.999875009059906,0.9999374747276306,0.999875009059906,0.9998124837875366,0.999875009059906,0.9999374747276306,0.999875009059906,0.9999374747276306,0.9999374747276306,0.9999374747276306,0.999875009059906],\"type\":\"scatter\"},{\"mode\":\"lines+markers\",\"name\":\"Validation Accuracy\",\"x\":[1,2,3,4,5,6,7,8,9,10,11,12,13,14,15,16,17,18,19,20,21,22,23,24,25,26,27,28,29,30,31,32,33,34,35,36,37,38,39,40,41,42,43,44,45,46,47,48,49,50,51,52,53,54,55,56,57,58,59,60,61,62,63,64,65,66,67,68,69,70,71,72,73,74,75],\"y\":[0.27000001072883606,0.42100000381469727,0.6424999833106995,0.8015000224113464,0.8585000038146973,0.887499988079071,0.9010000228881836,0.9125000238418579,0.9179999828338623,0.9380000233650208,0.9424999952316284,0.9445000290870667,0.9520000219345093,0.9564999938011169,0.9610000252723694,0.9635000228881836,0.9679999947547913,0.9710000157356262,0.9729999899864197,0.9750000238418579,0.9754999876022339,0.9754999876022339,0.9775000214576721,0.9794999957084656,0.9794999957084656,0.9815000295639038,0.9819999933242798,0.9825000166893005,0.9829999804496765,0.9829999804496765,0.9835000038146973,0.984000027179718,0.9829999804496765,0.9835000038146973,0.9829999804496765,0.984000027179718,0.9850000143051147,0.9829999804496765,0.984000027179718,0.9825000166893005,0.9835000038146973,0.984000027179718,0.984000027179718,0.984000027179718,0.984499990940094,0.984499990940094,0.984499990940094,0.9850000143051147,0.9850000143051147,0.984499990940094,0.984499990940094,0.984000027179718,0.9850000143051147,0.984499990940094,0.984499990940094,0.984000027179718,0.9854999780654907,0.9835000038146973,0.984000027179718,0.984499990940094,0.984000027179718,0.984000027179718,0.984000027179718,0.9829999804496765,0.9850000143051147,0.984000027179718,0.9835000038146973,0.984000027179718,0.9850000143051147,0.984000027179718,0.984000027179718,0.984499990940094,0.9835000038146973,0.9835000038146973,0.984000027179718],\"type\":\"scatter\"}],                        {\"template\":{\"data\":{\"barpolar\":[{\"marker\":{\"line\":{\"color\":\"rgb(17,17,17)\",\"width\":0.5},\"pattern\":{\"fillmode\":\"overlay\",\"size\":10,\"solidity\":0.2}},\"type\":\"barpolar\"}],\"bar\":[{\"error_x\":{\"color\":\"#f2f5fa\"},\"error_y\":{\"color\":\"#f2f5fa\"},\"marker\":{\"line\":{\"color\":\"rgb(17,17,17)\",\"width\":0.5},\"pattern\":{\"fillmode\":\"overlay\",\"size\":10,\"solidity\":0.2}},\"type\":\"bar\"}],\"carpet\":[{\"aaxis\":{\"endlinecolor\":\"#A2B1C6\",\"gridcolor\":\"#506784\",\"linecolor\":\"#506784\",\"minorgridcolor\":\"#506784\",\"startlinecolor\":\"#A2B1C6\"},\"baxis\":{\"endlinecolor\":\"#A2B1C6\",\"gridcolor\":\"#506784\",\"linecolor\":\"#506784\",\"minorgridcolor\":\"#506784\",\"startlinecolor\":\"#A2B1C6\"},\"type\":\"carpet\"}],\"choropleth\":[{\"colorbar\":{\"outlinewidth\":0,\"ticks\":\"\"},\"type\":\"choropleth\"}],\"contourcarpet\":[{\"colorbar\":{\"outlinewidth\":0,\"ticks\":\"\"},\"type\":\"contourcarpet\"}],\"contour\":[{\"colorbar\":{\"outlinewidth\":0,\"ticks\":\"\"},\"colorscale\":[[0.0,\"#0d0887\"],[0.1111111111111111,\"#46039f\"],[0.2222222222222222,\"#7201a8\"],[0.3333333333333333,\"#9c179e\"],[0.4444444444444444,\"#bd3786\"],[0.5555555555555556,\"#d8576b\"],[0.6666666666666666,\"#ed7953\"],[0.7777777777777778,\"#fb9f3a\"],[0.8888888888888888,\"#fdca26\"],[1.0,\"#f0f921\"]],\"type\":\"contour\"}],\"heatmapgl\":[{\"colorbar\":{\"outlinewidth\":0,\"ticks\":\"\"},\"colorscale\":[[0.0,\"#0d0887\"],[0.1111111111111111,\"#46039f\"],[0.2222222222222222,\"#7201a8\"],[0.3333333333333333,\"#9c179e\"],[0.4444444444444444,\"#bd3786\"],[0.5555555555555556,\"#d8576b\"],[0.6666666666666666,\"#ed7953\"],[0.7777777777777778,\"#fb9f3a\"],[0.8888888888888888,\"#fdca26\"],[1.0,\"#f0f921\"]],\"type\":\"heatmapgl\"}],\"heatmap\":[{\"colorbar\":{\"outlinewidth\":0,\"ticks\":\"\"},\"colorscale\":[[0.0,\"#0d0887\"],[0.1111111111111111,\"#46039f\"],[0.2222222222222222,\"#7201a8\"],[0.3333333333333333,\"#9c179e\"],[0.4444444444444444,\"#bd3786\"],[0.5555555555555556,\"#d8576b\"],[0.6666666666666666,\"#ed7953\"],[0.7777777777777778,\"#fb9f3a\"],[0.8888888888888888,\"#fdca26\"],[1.0,\"#f0f921\"]],\"type\":\"heatmap\"}],\"histogram2dcontour\":[{\"colorbar\":{\"outlinewidth\":0,\"ticks\":\"\"},\"colorscale\":[[0.0,\"#0d0887\"],[0.1111111111111111,\"#46039f\"],[0.2222222222222222,\"#7201a8\"],[0.3333333333333333,\"#9c179e\"],[0.4444444444444444,\"#bd3786\"],[0.5555555555555556,\"#d8576b\"],[0.6666666666666666,\"#ed7953\"],[0.7777777777777778,\"#fb9f3a\"],[0.8888888888888888,\"#fdca26\"],[1.0,\"#f0f921\"]],\"type\":\"histogram2dcontour\"}],\"histogram2d\":[{\"colorbar\":{\"outlinewidth\":0,\"ticks\":\"\"},\"colorscale\":[[0.0,\"#0d0887\"],[0.1111111111111111,\"#46039f\"],[0.2222222222222222,\"#7201a8\"],[0.3333333333333333,\"#9c179e\"],[0.4444444444444444,\"#bd3786\"],[0.5555555555555556,\"#d8576b\"],[0.6666666666666666,\"#ed7953\"],[0.7777777777777778,\"#fb9f3a\"],[0.8888888888888888,\"#fdca26\"],[1.0,\"#f0f921\"]],\"type\":\"histogram2d\"}],\"histogram\":[{\"marker\":{\"pattern\":{\"fillmode\":\"overlay\",\"size\":10,\"solidity\":0.2}},\"type\":\"histogram\"}],\"mesh3d\":[{\"colorbar\":{\"outlinewidth\":0,\"ticks\":\"\"},\"type\":\"mesh3d\"}],\"parcoords\":[{\"line\":{\"colorbar\":{\"outlinewidth\":0,\"ticks\":\"\"}},\"type\":\"parcoords\"}],\"pie\":[{\"automargin\":true,\"type\":\"pie\"}],\"scatter3d\":[{\"line\":{\"colorbar\":{\"outlinewidth\":0,\"ticks\":\"\"}},\"marker\":{\"colorbar\":{\"outlinewidth\":0,\"ticks\":\"\"}},\"type\":\"scatter3d\"}],\"scattercarpet\":[{\"marker\":{\"colorbar\":{\"outlinewidth\":0,\"ticks\":\"\"}},\"type\":\"scattercarpet\"}],\"scattergeo\":[{\"marker\":{\"colorbar\":{\"outlinewidth\":0,\"ticks\":\"\"}},\"type\":\"scattergeo\"}],\"scattergl\":[{\"marker\":{\"line\":{\"color\":\"#283442\"}},\"type\":\"scattergl\"}],\"scattermapbox\":[{\"marker\":{\"colorbar\":{\"outlinewidth\":0,\"ticks\":\"\"}},\"type\":\"scattermapbox\"}],\"scatterpolargl\":[{\"marker\":{\"colorbar\":{\"outlinewidth\":0,\"ticks\":\"\"}},\"type\":\"scatterpolargl\"}],\"scatterpolar\":[{\"marker\":{\"colorbar\":{\"outlinewidth\":0,\"ticks\":\"\"}},\"type\":\"scatterpolar\"}],\"scatter\":[{\"marker\":{\"line\":{\"color\":\"#283442\"}},\"type\":\"scatter\"}],\"scatterternary\":[{\"marker\":{\"colorbar\":{\"outlinewidth\":0,\"ticks\":\"\"}},\"type\":\"scatterternary\"}],\"surface\":[{\"colorbar\":{\"outlinewidth\":0,\"ticks\":\"\"},\"colorscale\":[[0.0,\"#0d0887\"],[0.1111111111111111,\"#46039f\"],[0.2222222222222222,\"#7201a8\"],[0.3333333333333333,\"#9c179e\"],[0.4444444444444444,\"#bd3786\"],[0.5555555555555556,\"#d8576b\"],[0.6666666666666666,\"#ed7953\"],[0.7777777777777778,\"#fb9f3a\"],[0.8888888888888888,\"#fdca26\"],[1.0,\"#f0f921\"]],\"type\":\"surface\"}],\"table\":[{\"cells\":{\"fill\":{\"color\":\"#506784\"},\"line\":{\"color\":\"rgb(17,17,17)\"}},\"header\":{\"fill\":{\"color\":\"#2a3f5f\"},\"line\":{\"color\":\"rgb(17,17,17)\"}},\"type\":\"table\"}]},\"layout\":{\"annotationdefaults\":{\"arrowcolor\":\"#f2f5fa\",\"arrowhead\":0,\"arrowwidth\":1},\"autotypenumbers\":\"strict\",\"coloraxis\":{\"colorbar\":{\"outlinewidth\":0,\"ticks\":\"\"}},\"colorscale\":{\"diverging\":[[0,\"#8e0152\"],[0.1,\"#c51b7d\"],[0.2,\"#de77ae\"],[0.3,\"#f1b6da\"],[0.4,\"#fde0ef\"],[0.5,\"#f7f7f7\"],[0.6,\"#e6f5d0\"],[0.7,\"#b8e186\"],[0.8,\"#7fbc41\"],[0.9,\"#4d9221\"],[1,\"#276419\"]],\"sequential\":[[0.0,\"#0d0887\"],[0.1111111111111111,\"#46039f\"],[0.2222222222222222,\"#7201a8\"],[0.3333333333333333,\"#9c179e\"],[0.4444444444444444,\"#bd3786\"],[0.5555555555555556,\"#d8576b\"],[0.6666666666666666,\"#ed7953\"],[0.7777777777777778,\"#fb9f3a\"],[0.8888888888888888,\"#fdca26\"],[1.0,\"#f0f921\"]],\"sequentialminus\":[[0.0,\"#0d0887\"],[0.1111111111111111,\"#46039f\"],[0.2222222222222222,\"#7201a8\"],[0.3333333333333333,\"#9c179e\"],[0.4444444444444444,\"#bd3786\"],[0.5555555555555556,\"#d8576b\"],[0.6666666666666666,\"#ed7953\"],[0.7777777777777778,\"#fb9f3a\"],[0.8888888888888888,\"#fdca26\"],[1.0,\"#f0f921\"]]},\"colorway\":[\"#636efa\",\"#EF553B\",\"#00cc96\",\"#ab63fa\",\"#FFA15A\",\"#19d3f3\",\"#FF6692\",\"#B6E880\",\"#FF97FF\",\"#FECB52\"],\"font\":{\"color\":\"#f2f5fa\"},\"geo\":{\"bgcolor\":\"rgb(17,17,17)\",\"lakecolor\":\"rgb(17,17,17)\",\"landcolor\":\"rgb(17,17,17)\",\"showlakes\":true,\"showland\":true,\"subunitcolor\":\"#506784\"},\"hoverlabel\":{\"align\":\"left\"},\"hovermode\":\"closest\",\"mapbox\":{\"style\":\"dark\"},\"paper_bgcolor\":\"rgb(17,17,17)\",\"plot_bgcolor\":\"rgb(17,17,17)\",\"polar\":{\"angularaxis\":{\"gridcolor\":\"#506784\",\"linecolor\":\"#506784\",\"ticks\":\"\"},\"bgcolor\":\"rgb(17,17,17)\",\"radialaxis\":{\"gridcolor\":\"#506784\",\"linecolor\":\"#506784\",\"ticks\":\"\"}},\"scene\":{\"xaxis\":{\"backgroundcolor\":\"rgb(17,17,17)\",\"gridcolor\":\"#506784\",\"gridwidth\":2,\"linecolor\":\"#506784\",\"showbackground\":true,\"ticks\":\"\",\"zerolinecolor\":\"#C8D4E3\"},\"yaxis\":{\"backgroundcolor\":\"rgb(17,17,17)\",\"gridcolor\":\"#506784\",\"gridwidth\":2,\"linecolor\":\"#506784\",\"showbackground\":true,\"ticks\":\"\",\"zerolinecolor\":\"#C8D4E3\"},\"zaxis\":{\"backgroundcolor\":\"rgb(17,17,17)\",\"gridcolor\":\"#506784\",\"gridwidth\":2,\"linecolor\":\"#506784\",\"showbackground\":true,\"ticks\":\"\",\"zerolinecolor\":\"#C8D4E3\"}},\"shapedefaults\":{\"line\":{\"color\":\"#f2f5fa\"}},\"sliderdefaults\":{\"bgcolor\":\"#C8D4E3\",\"bordercolor\":\"rgb(17,17,17)\",\"borderwidth\":1,\"tickwidth\":0},\"ternary\":{\"aaxis\":{\"gridcolor\":\"#506784\",\"linecolor\":\"#506784\",\"ticks\":\"\"},\"baxis\":{\"gridcolor\":\"#506784\",\"linecolor\":\"#506784\",\"ticks\":\"\"},\"bgcolor\":\"rgb(17,17,17)\",\"caxis\":{\"gridcolor\":\"#506784\",\"linecolor\":\"#506784\",\"ticks\":\"\"}},\"title\":{\"x\":0.05},\"updatemenudefaults\":{\"bgcolor\":\"#506784\",\"borderwidth\":0},\"xaxis\":{\"automargin\":true,\"gridcolor\":\"#283442\",\"linecolor\":\"#506784\",\"ticks\":\"\",\"title\":{\"standoff\":15},\"zerolinecolor\":\"#283442\",\"zerolinewidth\":2},\"yaxis\":{\"automargin\":true,\"gridcolor\":\"#283442\",\"linecolor\":\"#506784\",\"ticks\":\"\",\"title\":{\"standoff\":15},\"zerolinecolor\":\"#283442\",\"zerolinewidth\":2}}},\"legend\":{\"x\":0.7,\"y\":1},\"title\":{\"text\":\"Training and Validation Metrics\"},\"xaxis\":{\"title\":{\"text\":\"Epochs\"}},\"yaxis\":{\"title\":{\"text\":\"Value\"}}},                        {\"responsive\": true}                    ).then(function(){\n",
              "                            \n",
              "var gd = document.getElementById('8842e222-d855-45b2-82a9-bde9527eb4a3');\n",
              "var x = new MutationObserver(function (mutations, observer) {{\n",
              "        var display = window.getComputedStyle(gd).display;\n",
              "        if (!display || display === 'none') {{\n",
              "            console.log([gd, 'removed!']);\n",
              "            Plotly.purge(gd);\n",
              "            observer.disconnect();\n",
              "        }}\n",
              "}});\n",
              "\n",
              "// Listen for the removal of the full notebook cells\n",
              "var notebookContainer = gd.closest('#notebook-container');\n",
              "if (notebookContainer) {{\n",
              "    x.observe(notebookContainer, {childList: true});\n",
              "}}\n",
              "\n",
              "// Listen for the clearing of the current output cell\n",
              "var outputEl = gd.closest('.output');\n",
              "if (outputEl) {{\n",
              "    x.observe(outputEl, {childList: true});\n",
              "}}\n",
              "\n",
              "                        })                };                            </script>        </div>\n",
              "</body>\n",
              "</html>"
            ]
          },
          "metadata": {}
        }
      ]
    },
    {
      "cell_type": "code",
      "source": [
        "# creating the probability model for testing\n",
        "probability_model = tf.keras.Sequential([model, tf.keras.layers.Softmax()])\n",
        "\n",
        "# predicting test samples\n",
        "predictions = probability_model.predict(raw_test_batch.map(vectorize_text))"
      ],
      "metadata": {
        "colab": {
          "base_uri": "https://localhost:8080/"
        },
        "id": "iLsoTgHGP7Oq",
        "outputId": "9409a66d-237d-4a90-d810-2086a0d17b39"
      },
      "execution_count": 38,
      "outputs": [
        {
          "output_type": "stream",
          "name": "stdout",
          "text": [
            "35/35 [==============================] - 0s 2ms/step\n"
          ]
        }
      ]
    },
    {
      "cell_type": "code",
      "source": [
        "predicted_labels = []\n",
        "for i in range(len(predictions)):\n",
        "    predicted_labels.append(np.argmax(predictions[i]))"
      ],
      "metadata": {
        "id": "1uWqq-CtP-Lq"
      },
      "execution_count": 39,
      "outputs": []
    },
    {
      "cell_type": "markdown",
      "source": [
        "#### Confusion Matrix"
      ],
      "metadata": {
        "id": "tP9bXVsZ4r8g"
      }
    },
    {
      "cell_type": "code",
      "source": [
        "las = np.array(test_df['label'].unique())\n",
        "las = las.tolist()"
      ],
      "metadata": {
        "id": "YQj61lIMvX-Y"
      },
      "execution_count": 40,
      "outputs": []
    },
    {
      "cell_type": "code",
      "source": [
        "# Compute the confusion matrix\n",
        "cm = confusion_matrix(np.array(test_df['label_int']), np.array(predicted_labels))\n",
        "\n",
        "# Create a heatmap for the confusion matrix using Plotly\n",
        "fig = ff.create_annotated_heatmap(\n",
        "    z=cm,\n",
        "    x=las,\n",
        "    y=las,\n",
        "    colorscale='Blackbody'\n",
        ")\n",
        "\n",
        "# Update the layout\n",
        "fig.update_layout(\n",
        "    title=\"Confusion Matrix\",\n",
        "    xaxis_title=\"Predicted Label\",\n",
        "    yaxis_title=\"True Label\",\n",
        "    yaxis_autorange=\"reversed\",\n",
        "    template='plotly_white'\n",
        ")\n",
        "\n",
        "fig.show()"
      ],
      "metadata": {
        "colab": {
          "base_uri": "https://localhost:8080/",
          "height": 542
        },
        "id": "5cbhBKR7NYPQ",
        "outputId": "6ab4f69f-c6c2-47b2-afd4-d830b5d47fa5"
      },
      "execution_count": 41,
      "outputs": [
        {
          "output_type": "display_data",
          "data": {
            "text/html": [
              "<html>\n",
              "<head><meta charset=\"utf-8\" /></head>\n",
              "<body>\n",
              "    <div>            <script src=\"https://cdnjs.cloudflare.com/ajax/libs/mathjax/2.7.5/MathJax.js?config=TeX-AMS-MML_SVG\"></script><script type=\"text/javascript\">if (window.MathJax && window.MathJax.Hub && window.MathJax.Hub.Config) {window.MathJax.Hub.Config({SVG: {font: \"STIX-Web\"}});}</script>                <script type=\"text/javascript\">window.PlotlyConfig = {MathJaxConfig: 'local'};</script>\n",
              "        <script charset=\"utf-8\" src=\"https://cdn.plot.ly/plotly-2.24.1.min.js\"></script>                <div id=\"6273247d-6b73-4c3b-8fff-b91ec701f394\" class=\"plotly-graph-div\" style=\"height:525px; width:100%;\"></div>            <script type=\"text/javascript\">                                    window.PLOTLYENV=window.PLOTLYENV || {};                                    if (document.getElementById(\"6273247d-6b73-4c3b-8fff-b91ec701f394\")) {                    Plotly.newPlot(                        \"6273247d-6b73-4c3b-8fff-b91ec701f394\",                        [{\"colorscale\":[[0.0,\"rgb(0,0,0)\"],[0.25,\"rgb(230,0,0)\"],[0.5,\"rgb(230,210,0)\"],[0.75,\"rgb(255,255,255)\"],[1.0,\"rgb(160,200,255)\"]],\"reversescale\":false,\"showscale\":false,\"x\":[\"Health & Beauty\",\"Furniture\",\"Home & Garden\",\"Baby & Toddler\",\"Software\",\"Luggage & Bags\",\"Media\",\"Toys & Games\",\"Sporting Goods\",\"Food, Beverages & Tobacco\",\"Apparel & Accessories\",\"Electronics\",\"Animals & Pet Supplies\",\"Vehicles & Parts\",\"Arts & Entertainment\",\"Office Supplies\",\"Cameras & Optics\",\"Hardware\",\"Business & Industrial\"],\"y\":[\"Health & Beauty\",\"Furniture\",\"Home & Garden\",\"Baby & Toddler\",\"Software\",\"Luggage & Bags\",\"Media\",\"Toys & Games\",\"Sporting Goods\",\"Food, Beverages & Tobacco\",\"Apparel & Accessories\",\"Electronics\",\"Animals & Pet Supplies\",\"Vehicles & Parts\",\"Arts & Entertainment\",\"Office Supplies\",\"Cameras & Optics\",\"Hardware\",\"Business & Industrial\"],\"z\":[[71,0,0,0,0,0,0,0,0,0,0,0,0,0,0,0,0,1,0],[1,84,0,1,0,0,0,0,0,0,0,3,1,0,0,0,5,1,0],[0,0,57,0,0,0,0,0,0,0,0,0,0,0,0,0,0,0,0],[0,0,0,54,0,0,0,0,0,0,0,0,0,0,0,0,0,0,0],[0,0,0,0,40,0,0,0,0,0,0,0,0,0,0,0,0,0,0],[0,0,0,0,0,12,0,0,0,0,0,0,0,0,0,0,0,0,0],[0,0,0,0,0,0,40,0,0,0,0,0,0,0,0,0,0,0,0],[0,0,0,0,0,0,0,86,0,0,0,0,0,0,0,0,0,0,0],[0,0,0,0,0,0,0,0,68,0,0,1,0,0,0,0,0,0,0],[0,0,0,0,0,0,0,0,0,15,0,0,0,0,0,0,0,0,0],[0,0,0,0,0,0,0,0,0,0,86,0,0,0,0,0,1,0,0],[0,0,0,0,0,0,0,0,0,0,0,79,0,0,0,0,0,0,0],[0,0,0,0,0,0,0,0,0,0,0,0,86,0,0,0,0,0,0],[0,0,0,0,0,0,0,0,0,0,0,0,0,80,0,0,0,0,0],[0,0,0,0,0,0,0,0,0,0,0,0,0,0,29,0,0,0,0],[0,0,0,0,0,0,0,0,0,0,0,0,0,0,0,11,0,0,0],[0,1,0,0,0,0,0,0,0,1,0,0,0,0,0,0,83,2,0],[1,0,0,1,0,0,0,0,0,0,0,0,0,0,0,0,0,62,0],[0,0,0,0,0,0,0,0,0,0,0,0,0,0,0,0,0,0,39]],\"type\":\"heatmap\"}],                        {\"annotations\":[{\"font\":{\"color\":\"#000000\"},\"showarrow\":false,\"text\":\"71\",\"x\":\"Health & Beauty\",\"xref\":\"x\",\"y\":\"Health & Beauty\",\"yref\":\"y\"},{\"font\":{\"color\":\"#FFFFFF\"},\"showarrow\":false,\"text\":\"0\",\"x\":\"Furniture\",\"xref\":\"x\",\"y\":\"Health & Beauty\",\"yref\":\"y\"},{\"font\":{\"color\":\"#FFFFFF\"},\"showarrow\":false,\"text\":\"0\",\"x\":\"Home & Garden\",\"xref\":\"x\",\"y\":\"Health & Beauty\",\"yref\":\"y\"},{\"font\":{\"color\":\"#FFFFFF\"},\"showarrow\":false,\"text\":\"0\",\"x\":\"Baby & Toddler\",\"xref\":\"x\",\"y\":\"Health & Beauty\",\"yref\":\"y\"},{\"font\":{\"color\":\"#FFFFFF\"},\"showarrow\":false,\"text\":\"0\",\"x\":\"Software\",\"xref\":\"x\",\"y\":\"Health & Beauty\",\"yref\":\"y\"},{\"font\":{\"color\":\"#FFFFFF\"},\"showarrow\":false,\"text\":\"0\",\"x\":\"Luggage & Bags\",\"xref\":\"x\",\"y\":\"Health & Beauty\",\"yref\":\"y\"},{\"font\":{\"color\":\"#FFFFFF\"},\"showarrow\":false,\"text\":\"0\",\"x\":\"Media\",\"xref\":\"x\",\"y\":\"Health & Beauty\",\"yref\":\"y\"},{\"font\":{\"color\":\"#FFFFFF\"},\"showarrow\":false,\"text\":\"0\",\"x\":\"Toys & Games\",\"xref\":\"x\",\"y\":\"Health & Beauty\",\"yref\":\"y\"},{\"font\":{\"color\":\"#FFFFFF\"},\"showarrow\":false,\"text\":\"0\",\"x\":\"Sporting Goods\",\"xref\":\"x\",\"y\":\"Health & Beauty\",\"yref\":\"y\"},{\"font\":{\"color\":\"#FFFFFF\"},\"showarrow\":false,\"text\":\"0\",\"x\":\"Food, Beverages & Tobacco\",\"xref\":\"x\",\"y\":\"Health & Beauty\",\"yref\":\"y\"},{\"font\":{\"color\":\"#FFFFFF\"},\"showarrow\":false,\"text\":\"0\",\"x\":\"Apparel & Accessories\",\"xref\":\"x\",\"y\":\"Health & Beauty\",\"yref\":\"y\"},{\"font\":{\"color\":\"#FFFFFF\"},\"showarrow\":false,\"text\":\"0\",\"x\":\"Electronics\",\"xref\":\"x\",\"y\":\"Health & Beauty\",\"yref\":\"y\"},{\"font\":{\"color\":\"#FFFFFF\"},\"showarrow\":false,\"text\":\"0\",\"x\":\"Animals & Pet Supplies\",\"xref\":\"x\",\"y\":\"Health & Beauty\",\"yref\":\"y\"},{\"font\":{\"color\":\"#FFFFFF\"},\"showarrow\":false,\"text\":\"0\",\"x\":\"Vehicles & Parts\",\"xref\":\"x\",\"y\":\"Health & Beauty\",\"yref\":\"y\"},{\"font\":{\"color\":\"#FFFFFF\"},\"showarrow\":false,\"text\":\"0\",\"x\":\"Arts & Entertainment\",\"xref\":\"x\",\"y\":\"Health & Beauty\",\"yref\":\"y\"},{\"font\":{\"color\":\"#FFFFFF\"},\"showarrow\":false,\"text\":\"0\",\"x\":\"Office Supplies\",\"xref\":\"x\",\"y\":\"Health & Beauty\",\"yref\":\"y\"},{\"font\":{\"color\":\"#FFFFFF\"},\"showarrow\":false,\"text\":\"0\",\"x\":\"Cameras & Optics\",\"xref\":\"x\",\"y\":\"Health & Beauty\",\"yref\":\"y\"},{\"font\":{\"color\":\"#FFFFFF\"},\"showarrow\":false,\"text\":\"1\",\"x\":\"Hardware\",\"xref\":\"x\",\"y\":\"Health & Beauty\",\"yref\":\"y\"},{\"font\":{\"color\":\"#FFFFFF\"},\"showarrow\":false,\"text\":\"0\",\"x\":\"Business & Industrial\",\"xref\":\"x\",\"y\":\"Health & Beauty\",\"yref\":\"y\"},{\"font\":{\"color\":\"#FFFFFF\"},\"showarrow\":false,\"text\":\"1\",\"x\":\"Health & Beauty\",\"xref\":\"x\",\"y\":\"Furniture\",\"yref\":\"y\"},{\"font\":{\"color\":\"#000000\"},\"showarrow\":false,\"text\":\"84\",\"x\":\"Furniture\",\"xref\":\"x\",\"y\":\"Furniture\",\"yref\":\"y\"},{\"font\":{\"color\":\"#FFFFFF\"},\"showarrow\":false,\"text\":\"0\",\"x\":\"Home & Garden\",\"xref\":\"x\",\"y\":\"Furniture\",\"yref\":\"y\"},{\"font\":{\"color\":\"#FFFFFF\"},\"showarrow\":false,\"text\":\"1\",\"x\":\"Baby & Toddler\",\"xref\":\"x\",\"y\":\"Furniture\",\"yref\":\"y\"},{\"font\":{\"color\":\"#FFFFFF\"},\"showarrow\":false,\"text\":\"0\",\"x\":\"Software\",\"xref\":\"x\",\"y\":\"Furniture\",\"yref\":\"y\"},{\"font\":{\"color\":\"#FFFFFF\"},\"showarrow\":false,\"text\":\"0\",\"x\":\"Luggage & Bags\",\"xref\":\"x\",\"y\":\"Furniture\",\"yref\":\"y\"},{\"font\":{\"color\":\"#FFFFFF\"},\"showarrow\":false,\"text\":\"0\",\"x\":\"Media\",\"xref\":\"x\",\"y\":\"Furniture\",\"yref\":\"y\"},{\"font\":{\"color\":\"#FFFFFF\"},\"showarrow\":false,\"text\":\"0\",\"x\":\"Toys & Games\",\"xref\":\"x\",\"y\":\"Furniture\",\"yref\":\"y\"},{\"font\":{\"color\":\"#FFFFFF\"},\"showarrow\":false,\"text\":\"0\",\"x\":\"Sporting Goods\",\"xref\":\"x\",\"y\":\"Furniture\",\"yref\":\"y\"},{\"font\":{\"color\":\"#FFFFFF\"},\"showarrow\":false,\"text\":\"0\",\"x\":\"Food, Beverages & Tobacco\",\"xref\":\"x\",\"y\":\"Furniture\",\"yref\":\"y\"},{\"font\":{\"color\":\"#FFFFFF\"},\"showarrow\":false,\"text\":\"0\",\"x\":\"Apparel & Accessories\",\"xref\":\"x\",\"y\":\"Furniture\",\"yref\":\"y\"},{\"font\":{\"color\":\"#FFFFFF\"},\"showarrow\":false,\"text\":\"3\",\"x\":\"Electronics\",\"xref\":\"x\",\"y\":\"Furniture\",\"yref\":\"y\"},{\"font\":{\"color\":\"#FFFFFF\"},\"showarrow\":false,\"text\":\"1\",\"x\":\"Animals & Pet Supplies\",\"xref\":\"x\",\"y\":\"Furniture\",\"yref\":\"y\"},{\"font\":{\"color\":\"#FFFFFF\"},\"showarrow\":false,\"text\":\"0\",\"x\":\"Vehicles & Parts\",\"xref\":\"x\",\"y\":\"Furniture\",\"yref\":\"y\"},{\"font\":{\"color\":\"#FFFFFF\"},\"showarrow\":false,\"text\":\"0\",\"x\":\"Arts & Entertainment\",\"xref\":\"x\",\"y\":\"Furniture\",\"yref\":\"y\"},{\"font\":{\"color\":\"#FFFFFF\"},\"showarrow\":false,\"text\":\"0\",\"x\":\"Office Supplies\",\"xref\":\"x\",\"y\":\"Furniture\",\"yref\":\"y\"},{\"font\":{\"color\":\"#FFFFFF\"},\"showarrow\":false,\"text\":\"5\",\"x\":\"Cameras & Optics\",\"xref\":\"x\",\"y\":\"Furniture\",\"yref\":\"y\"},{\"font\":{\"color\":\"#FFFFFF\"},\"showarrow\":false,\"text\":\"1\",\"x\":\"Hardware\",\"xref\":\"x\",\"y\":\"Furniture\",\"yref\":\"y\"},{\"font\":{\"color\":\"#FFFFFF\"},\"showarrow\":false,\"text\":\"0\",\"x\":\"Business & Industrial\",\"xref\":\"x\",\"y\":\"Furniture\",\"yref\":\"y\"},{\"font\":{\"color\":\"#FFFFFF\"},\"showarrow\":false,\"text\":\"0\",\"x\":\"Health & Beauty\",\"xref\":\"x\",\"y\":\"Home & Garden\",\"yref\":\"y\"},{\"font\":{\"color\":\"#FFFFFF\"},\"showarrow\":false,\"text\":\"0\",\"x\":\"Furniture\",\"xref\":\"x\",\"y\":\"Home & Garden\",\"yref\":\"y\"},{\"font\":{\"color\":\"#000000\"},\"showarrow\":false,\"text\":\"57\",\"x\":\"Home & Garden\",\"xref\":\"x\",\"y\":\"Home & Garden\",\"yref\":\"y\"},{\"font\":{\"color\":\"#FFFFFF\"},\"showarrow\":false,\"text\":\"0\",\"x\":\"Baby & Toddler\",\"xref\":\"x\",\"y\":\"Home & Garden\",\"yref\":\"y\"},{\"font\":{\"color\":\"#FFFFFF\"},\"showarrow\":false,\"text\":\"0\",\"x\":\"Software\",\"xref\":\"x\",\"y\":\"Home & Garden\",\"yref\":\"y\"},{\"font\":{\"color\":\"#FFFFFF\"},\"showarrow\":false,\"text\":\"0\",\"x\":\"Luggage & Bags\",\"xref\":\"x\",\"y\":\"Home & Garden\",\"yref\":\"y\"},{\"font\":{\"color\":\"#FFFFFF\"},\"showarrow\":false,\"text\":\"0\",\"x\":\"Media\",\"xref\":\"x\",\"y\":\"Home & Garden\",\"yref\":\"y\"},{\"font\":{\"color\":\"#FFFFFF\"},\"showarrow\":false,\"text\":\"0\",\"x\":\"Toys & Games\",\"xref\":\"x\",\"y\":\"Home & Garden\",\"yref\":\"y\"},{\"font\":{\"color\":\"#FFFFFF\"},\"showarrow\":false,\"text\":\"0\",\"x\":\"Sporting Goods\",\"xref\":\"x\",\"y\":\"Home & Garden\",\"yref\":\"y\"},{\"font\":{\"color\":\"#FFFFFF\"},\"showarrow\":false,\"text\":\"0\",\"x\":\"Food, Beverages & Tobacco\",\"xref\":\"x\",\"y\":\"Home & Garden\",\"yref\":\"y\"},{\"font\":{\"color\":\"#FFFFFF\"},\"showarrow\":false,\"text\":\"0\",\"x\":\"Apparel & Accessories\",\"xref\":\"x\",\"y\":\"Home & Garden\",\"yref\":\"y\"},{\"font\":{\"color\":\"#FFFFFF\"},\"showarrow\":false,\"text\":\"0\",\"x\":\"Electronics\",\"xref\":\"x\",\"y\":\"Home & Garden\",\"yref\":\"y\"},{\"font\":{\"color\":\"#FFFFFF\"},\"showarrow\":false,\"text\":\"0\",\"x\":\"Animals & Pet Supplies\",\"xref\":\"x\",\"y\":\"Home & Garden\",\"yref\":\"y\"},{\"font\":{\"color\":\"#FFFFFF\"},\"showarrow\":false,\"text\":\"0\",\"x\":\"Vehicles & Parts\",\"xref\":\"x\",\"y\":\"Home & Garden\",\"yref\":\"y\"},{\"font\":{\"color\":\"#FFFFFF\"},\"showarrow\":false,\"text\":\"0\",\"x\":\"Arts & Entertainment\",\"xref\":\"x\",\"y\":\"Home & Garden\",\"yref\":\"y\"},{\"font\":{\"color\":\"#FFFFFF\"},\"showarrow\":false,\"text\":\"0\",\"x\":\"Office Supplies\",\"xref\":\"x\",\"y\":\"Home & Garden\",\"yref\":\"y\"},{\"font\":{\"color\":\"#FFFFFF\"},\"showarrow\":false,\"text\":\"0\",\"x\":\"Cameras & Optics\",\"xref\":\"x\",\"y\":\"Home & Garden\",\"yref\":\"y\"},{\"font\":{\"color\":\"#FFFFFF\"},\"showarrow\":false,\"text\":\"0\",\"x\":\"Hardware\",\"xref\":\"x\",\"y\":\"Home & Garden\",\"yref\":\"y\"},{\"font\":{\"color\":\"#FFFFFF\"},\"showarrow\":false,\"text\":\"0\",\"x\":\"Business & Industrial\",\"xref\":\"x\",\"y\":\"Home & Garden\",\"yref\":\"y\"},{\"font\":{\"color\":\"#FFFFFF\"},\"showarrow\":false,\"text\":\"0\",\"x\":\"Health & Beauty\",\"xref\":\"x\",\"y\":\"Baby & Toddler\",\"yref\":\"y\"},{\"font\":{\"color\":\"#FFFFFF\"},\"showarrow\":false,\"text\":\"0\",\"x\":\"Furniture\",\"xref\":\"x\",\"y\":\"Baby & Toddler\",\"yref\":\"y\"},{\"font\":{\"color\":\"#FFFFFF\"},\"showarrow\":false,\"text\":\"0\",\"x\":\"Home & Garden\",\"xref\":\"x\",\"y\":\"Baby & Toddler\",\"yref\":\"y\"},{\"font\":{\"color\":\"#000000\"},\"showarrow\":false,\"text\":\"54\",\"x\":\"Baby & Toddler\",\"xref\":\"x\",\"y\":\"Baby & Toddler\",\"yref\":\"y\"},{\"font\":{\"color\":\"#FFFFFF\"},\"showarrow\":false,\"text\":\"0\",\"x\":\"Software\",\"xref\":\"x\",\"y\":\"Baby & Toddler\",\"yref\":\"y\"},{\"font\":{\"color\":\"#FFFFFF\"},\"showarrow\":false,\"text\":\"0\",\"x\":\"Luggage & Bags\",\"xref\":\"x\",\"y\":\"Baby & Toddler\",\"yref\":\"y\"},{\"font\":{\"color\":\"#FFFFFF\"},\"showarrow\":false,\"text\":\"0\",\"x\":\"Media\",\"xref\":\"x\",\"y\":\"Baby & Toddler\",\"yref\":\"y\"},{\"font\":{\"color\":\"#FFFFFF\"},\"showarrow\":false,\"text\":\"0\",\"x\":\"Toys & Games\",\"xref\":\"x\",\"y\":\"Baby & Toddler\",\"yref\":\"y\"},{\"font\":{\"color\":\"#FFFFFF\"},\"showarrow\":false,\"text\":\"0\",\"x\":\"Sporting Goods\",\"xref\":\"x\",\"y\":\"Baby & Toddler\",\"yref\":\"y\"},{\"font\":{\"color\":\"#FFFFFF\"},\"showarrow\":false,\"text\":\"0\",\"x\":\"Food, Beverages & Tobacco\",\"xref\":\"x\",\"y\":\"Baby & Toddler\",\"yref\":\"y\"},{\"font\":{\"color\":\"#FFFFFF\"},\"showarrow\":false,\"text\":\"0\",\"x\":\"Apparel & Accessories\",\"xref\":\"x\",\"y\":\"Baby & Toddler\",\"yref\":\"y\"},{\"font\":{\"color\":\"#FFFFFF\"},\"showarrow\":false,\"text\":\"0\",\"x\":\"Electronics\",\"xref\":\"x\",\"y\":\"Baby & Toddler\",\"yref\":\"y\"},{\"font\":{\"color\":\"#FFFFFF\"},\"showarrow\":false,\"text\":\"0\",\"x\":\"Animals & Pet Supplies\",\"xref\":\"x\",\"y\":\"Baby & Toddler\",\"yref\":\"y\"},{\"font\":{\"color\":\"#FFFFFF\"},\"showarrow\":false,\"text\":\"0\",\"x\":\"Vehicles & Parts\",\"xref\":\"x\",\"y\":\"Baby & Toddler\",\"yref\":\"y\"},{\"font\":{\"color\":\"#FFFFFF\"},\"showarrow\":false,\"text\":\"0\",\"x\":\"Arts & Entertainment\",\"xref\":\"x\",\"y\":\"Baby & Toddler\",\"yref\":\"y\"},{\"font\":{\"color\":\"#FFFFFF\"},\"showarrow\":false,\"text\":\"0\",\"x\":\"Office Supplies\",\"xref\":\"x\",\"y\":\"Baby & Toddler\",\"yref\":\"y\"},{\"font\":{\"color\":\"#FFFFFF\"},\"showarrow\":false,\"text\":\"0\",\"x\":\"Cameras & Optics\",\"xref\":\"x\",\"y\":\"Baby & Toddler\",\"yref\":\"y\"},{\"font\":{\"color\":\"#FFFFFF\"},\"showarrow\":false,\"text\":\"0\",\"x\":\"Hardware\",\"xref\":\"x\",\"y\":\"Baby & Toddler\",\"yref\":\"y\"},{\"font\":{\"color\":\"#FFFFFF\"},\"showarrow\":false,\"text\":\"0\",\"x\":\"Business & Industrial\",\"xref\":\"x\",\"y\":\"Baby & Toddler\",\"yref\":\"y\"},{\"font\":{\"color\":\"#FFFFFF\"},\"showarrow\":false,\"text\":\"0\",\"x\":\"Health & Beauty\",\"xref\":\"x\",\"y\":\"Software\",\"yref\":\"y\"},{\"font\":{\"color\":\"#FFFFFF\"},\"showarrow\":false,\"text\":\"0\",\"x\":\"Furniture\",\"xref\":\"x\",\"y\":\"Software\",\"yref\":\"y\"},{\"font\":{\"color\":\"#FFFFFF\"},\"showarrow\":false,\"text\":\"0\",\"x\":\"Home & Garden\",\"xref\":\"x\",\"y\":\"Software\",\"yref\":\"y\"},{\"font\":{\"color\":\"#FFFFFF\"},\"showarrow\":false,\"text\":\"0\",\"x\":\"Baby & Toddler\",\"xref\":\"x\",\"y\":\"Software\",\"yref\":\"y\"},{\"font\":{\"color\":\"#FFFFFF\"},\"showarrow\":false,\"text\":\"40\",\"x\":\"Software\",\"xref\":\"x\",\"y\":\"Software\",\"yref\":\"y\"},{\"font\":{\"color\":\"#FFFFFF\"},\"showarrow\":false,\"text\":\"0\",\"x\":\"Luggage & Bags\",\"xref\":\"x\",\"y\":\"Software\",\"yref\":\"y\"},{\"font\":{\"color\":\"#FFFFFF\"},\"showarrow\":false,\"text\":\"0\",\"x\":\"Media\",\"xref\":\"x\",\"y\":\"Software\",\"yref\":\"y\"},{\"font\":{\"color\":\"#FFFFFF\"},\"showarrow\":false,\"text\":\"0\",\"x\":\"Toys & Games\",\"xref\":\"x\",\"y\":\"Software\",\"yref\":\"y\"},{\"font\":{\"color\":\"#FFFFFF\"},\"showarrow\":false,\"text\":\"0\",\"x\":\"Sporting Goods\",\"xref\":\"x\",\"y\":\"Software\",\"yref\":\"y\"},{\"font\":{\"color\":\"#FFFFFF\"},\"showarrow\":false,\"text\":\"0\",\"x\":\"Food, Beverages & Tobacco\",\"xref\":\"x\",\"y\":\"Software\",\"yref\":\"y\"},{\"font\":{\"color\":\"#FFFFFF\"},\"showarrow\":false,\"text\":\"0\",\"x\":\"Apparel & Accessories\",\"xref\":\"x\",\"y\":\"Software\",\"yref\":\"y\"},{\"font\":{\"color\":\"#FFFFFF\"},\"showarrow\":false,\"text\":\"0\",\"x\":\"Electronics\",\"xref\":\"x\",\"y\":\"Software\",\"yref\":\"y\"},{\"font\":{\"color\":\"#FFFFFF\"},\"showarrow\":false,\"text\":\"0\",\"x\":\"Animals & Pet Supplies\",\"xref\":\"x\",\"y\":\"Software\",\"yref\":\"y\"},{\"font\":{\"color\":\"#FFFFFF\"},\"showarrow\":false,\"text\":\"0\",\"x\":\"Vehicles & Parts\",\"xref\":\"x\",\"y\":\"Software\",\"yref\":\"y\"},{\"font\":{\"color\":\"#FFFFFF\"},\"showarrow\":false,\"text\":\"0\",\"x\":\"Arts & Entertainment\",\"xref\":\"x\",\"y\":\"Software\",\"yref\":\"y\"},{\"font\":{\"color\":\"#FFFFFF\"},\"showarrow\":false,\"text\":\"0\",\"x\":\"Office Supplies\",\"xref\":\"x\",\"y\":\"Software\",\"yref\":\"y\"},{\"font\":{\"color\":\"#FFFFFF\"},\"showarrow\":false,\"text\":\"0\",\"x\":\"Cameras & Optics\",\"xref\":\"x\",\"y\":\"Software\",\"yref\":\"y\"},{\"font\":{\"color\":\"#FFFFFF\"},\"showarrow\":false,\"text\":\"0\",\"x\":\"Hardware\",\"xref\":\"x\",\"y\":\"Software\",\"yref\":\"y\"},{\"font\":{\"color\":\"#FFFFFF\"},\"showarrow\":false,\"text\":\"0\",\"x\":\"Business & Industrial\",\"xref\":\"x\",\"y\":\"Software\",\"yref\":\"y\"},{\"font\":{\"color\":\"#FFFFFF\"},\"showarrow\":false,\"text\":\"0\",\"x\":\"Health & Beauty\",\"xref\":\"x\",\"y\":\"Luggage & Bags\",\"yref\":\"y\"},{\"font\":{\"color\":\"#FFFFFF\"},\"showarrow\":false,\"text\":\"0\",\"x\":\"Furniture\",\"xref\":\"x\",\"y\":\"Luggage & Bags\",\"yref\":\"y\"},{\"font\":{\"color\":\"#FFFFFF\"},\"showarrow\":false,\"text\":\"0\",\"x\":\"Home & Garden\",\"xref\":\"x\",\"y\":\"Luggage & Bags\",\"yref\":\"y\"},{\"font\":{\"color\":\"#FFFFFF\"},\"showarrow\":false,\"text\":\"0\",\"x\":\"Baby & Toddler\",\"xref\":\"x\",\"y\":\"Luggage & Bags\",\"yref\":\"y\"},{\"font\":{\"color\":\"#FFFFFF\"},\"showarrow\":false,\"text\":\"0\",\"x\":\"Software\",\"xref\":\"x\",\"y\":\"Luggage & Bags\",\"yref\":\"y\"},{\"font\":{\"color\":\"#FFFFFF\"},\"showarrow\":false,\"text\":\"12\",\"x\":\"Luggage & Bags\",\"xref\":\"x\",\"y\":\"Luggage & Bags\",\"yref\":\"y\"},{\"font\":{\"color\":\"#FFFFFF\"},\"showarrow\":false,\"text\":\"0\",\"x\":\"Media\",\"xref\":\"x\",\"y\":\"Luggage & Bags\",\"yref\":\"y\"},{\"font\":{\"color\":\"#FFFFFF\"},\"showarrow\":false,\"text\":\"0\",\"x\":\"Toys & Games\",\"xref\":\"x\",\"y\":\"Luggage & Bags\",\"yref\":\"y\"},{\"font\":{\"color\":\"#FFFFFF\"},\"showarrow\":false,\"text\":\"0\",\"x\":\"Sporting Goods\",\"xref\":\"x\",\"y\":\"Luggage & Bags\",\"yref\":\"y\"},{\"font\":{\"color\":\"#FFFFFF\"},\"showarrow\":false,\"text\":\"0\",\"x\":\"Food, Beverages & Tobacco\",\"xref\":\"x\",\"y\":\"Luggage & Bags\",\"yref\":\"y\"},{\"font\":{\"color\":\"#FFFFFF\"},\"showarrow\":false,\"text\":\"0\",\"x\":\"Apparel & Accessories\",\"xref\":\"x\",\"y\":\"Luggage & Bags\",\"yref\":\"y\"},{\"font\":{\"color\":\"#FFFFFF\"},\"showarrow\":false,\"text\":\"0\",\"x\":\"Electronics\",\"xref\":\"x\",\"y\":\"Luggage & Bags\",\"yref\":\"y\"},{\"font\":{\"color\":\"#FFFFFF\"},\"showarrow\":false,\"text\":\"0\",\"x\":\"Animals & Pet Supplies\",\"xref\":\"x\",\"y\":\"Luggage & Bags\",\"yref\":\"y\"},{\"font\":{\"color\":\"#FFFFFF\"},\"showarrow\":false,\"text\":\"0\",\"x\":\"Vehicles & Parts\",\"xref\":\"x\",\"y\":\"Luggage & Bags\",\"yref\":\"y\"},{\"font\":{\"color\":\"#FFFFFF\"},\"showarrow\":false,\"text\":\"0\",\"x\":\"Arts & Entertainment\",\"xref\":\"x\",\"y\":\"Luggage & Bags\",\"yref\":\"y\"},{\"font\":{\"color\":\"#FFFFFF\"},\"showarrow\":false,\"text\":\"0\",\"x\":\"Office Supplies\",\"xref\":\"x\",\"y\":\"Luggage & Bags\",\"yref\":\"y\"},{\"font\":{\"color\":\"#FFFFFF\"},\"showarrow\":false,\"text\":\"0\",\"x\":\"Cameras & Optics\",\"xref\":\"x\",\"y\":\"Luggage & Bags\",\"yref\":\"y\"},{\"font\":{\"color\":\"#FFFFFF\"},\"showarrow\":false,\"text\":\"0\",\"x\":\"Hardware\",\"xref\":\"x\",\"y\":\"Luggage & Bags\",\"yref\":\"y\"},{\"font\":{\"color\":\"#FFFFFF\"},\"showarrow\":false,\"text\":\"0\",\"x\":\"Business & Industrial\",\"xref\":\"x\",\"y\":\"Luggage & Bags\",\"yref\":\"y\"},{\"font\":{\"color\":\"#FFFFFF\"},\"showarrow\":false,\"text\":\"0\",\"x\":\"Health & Beauty\",\"xref\":\"x\",\"y\":\"Media\",\"yref\":\"y\"},{\"font\":{\"color\":\"#FFFFFF\"},\"showarrow\":false,\"text\":\"0\",\"x\":\"Furniture\",\"xref\":\"x\",\"y\":\"Media\",\"yref\":\"y\"},{\"font\":{\"color\":\"#FFFFFF\"},\"showarrow\":false,\"text\":\"0\",\"x\":\"Home & Garden\",\"xref\":\"x\",\"y\":\"Media\",\"yref\":\"y\"},{\"font\":{\"color\":\"#FFFFFF\"},\"showarrow\":false,\"text\":\"0\",\"x\":\"Baby & Toddler\",\"xref\":\"x\",\"y\":\"Media\",\"yref\":\"y\"},{\"font\":{\"color\":\"#FFFFFF\"},\"showarrow\":false,\"text\":\"0\",\"x\":\"Software\",\"xref\":\"x\",\"y\":\"Media\",\"yref\":\"y\"},{\"font\":{\"color\":\"#FFFFFF\"},\"showarrow\":false,\"text\":\"0\",\"x\":\"Luggage & Bags\",\"xref\":\"x\",\"y\":\"Media\",\"yref\":\"y\"},{\"font\":{\"color\":\"#FFFFFF\"},\"showarrow\":false,\"text\":\"40\",\"x\":\"Media\",\"xref\":\"x\",\"y\":\"Media\",\"yref\":\"y\"},{\"font\":{\"color\":\"#FFFFFF\"},\"showarrow\":false,\"text\":\"0\",\"x\":\"Toys & Games\",\"xref\":\"x\",\"y\":\"Media\",\"yref\":\"y\"},{\"font\":{\"color\":\"#FFFFFF\"},\"showarrow\":false,\"text\":\"0\",\"x\":\"Sporting Goods\",\"xref\":\"x\",\"y\":\"Media\",\"yref\":\"y\"},{\"font\":{\"color\":\"#FFFFFF\"},\"showarrow\":false,\"text\":\"0\",\"x\":\"Food, Beverages & Tobacco\",\"xref\":\"x\",\"y\":\"Media\",\"yref\":\"y\"},{\"font\":{\"color\":\"#FFFFFF\"},\"showarrow\":false,\"text\":\"0\",\"x\":\"Apparel & Accessories\",\"xref\":\"x\",\"y\":\"Media\",\"yref\":\"y\"},{\"font\":{\"color\":\"#FFFFFF\"},\"showarrow\":false,\"text\":\"0\",\"x\":\"Electronics\",\"xref\":\"x\",\"y\":\"Media\",\"yref\":\"y\"},{\"font\":{\"color\":\"#FFFFFF\"},\"showarrow\":false,\"text\":\"0\",\"x\":\"Animals & Pet Supplies\",\"xref\":\"x\",\"y\":\"Media\",\"yref\":\"y\"},{\"font\":{\"color\":\"#FFFFFF\"},\"showarrow\":false,\"text\":\"0\",\"x\":\"Vehicles & Parts\",\"xref\":\"x\",\"y\":\"Media\",\"yref\":\"y\"},{\"font\":{\"color\":\"#FFFFFF\"},\"showarrow\":false,\"text\":\"0\",\"x\":\"Arts & Entertainment\",\"xref\":\"x\",\"y\":\"Media\",\"yref\":\"y\"},{\"font\":{\"color\":\"#FFFFFF\"},\"showarrow\":false,\"text\":\"0\",\"x\":\"Office Supplies\",\"xref\":\"x\",\"y\":\"Media\",\"yref\":\"y\"},{\"font\":{\"color\":\"#FFFFFF\"},\"showarrow\":false,\"text\":\"0\",\"x\":\"Cameras & Optics\",\"xref\":\"x\",\"y\":\"Media\",\"yref\":\"y\"},{\"font\":{\"color\":\"#FFFFFF\"},\"showarrow\":false,\"text\":\"0\",\"x\":\"Hardware\",\"xref\":\"x\",\"y\":\"Media\",\"yref\":\"y\"},{\"font\":{\"color\":\"#FFFFFF\"},\"showarrow\":false,\"text\":\"0\",\"x\":\"Business & Industrial\",\"xref\":\"x\",\"y\":\"Media\",\"yref\":\"y\"},{\"font\":{\"color\":\"#FFFFFF\"},\"showarrow\":false,\"text\":\"0\",\"x\":\"Health & Beauty\",\"xref\":\"x\",\"y\":\"Toys & Games\",\"yref\":\"y\"},{\"font\":{\"color\":\"#FFFFFF\"},\"showarrow\":false,\"text\":\"0\",\"x\":\"Furniture\",\"xref\":\"x\",\"y\":\"Toys & Games\",\"yref\":\"y\"},{\"font\":{\"color\":\"#FFFFFF\"},\"showarrow\":false,\"text\":\"0\",\"x\":\"Home & Garden\",\"xref\":\"x\",\"y\":\"Toys & Games\",\"yref\":\"y\"},{\"font\":{\"color\":\"#FFFFFF\"},\"showarrow\":false,\"text\":\"0\",\"x\":\"Baby & Toddler\",\"xref\":\"x\",\"y\":\"Toys & Games\",\"yref\":\"y\"},{\"font\":{\"color\":\"#FFFFFF\"},\"showarrow\":false,\"text\":\"0\",\"x\":\"Software\",\"xref\":\"x\",\"y\":\"Toys & Games\",\"yref\":\"y\"},{\"font\":{\"color\":\"#FFFFFF\"},\"showarrow\":false,\"text\":\"0\",\"x\":\"Luggage & Bags\",\"xref\":\"x\",\"y\":\"Toys & Games\",\"yref\":\"y\"},{\"font\":{\"color\":\"#FFFFFF\"},\"showarrow\":false,\"text\":\"0\",\"x\":\"Media\",\"xref\":\"x\",\"y\":\"Toys & Games\",\"yref\":\"y\"},{\"font\":{\"color\":\"#000000\"},\"showarrow\":false,\"text\":\"86\",\"x\":\"Toys & Games\",\"xref\":\"x\",\"y\":\"Toys & Games\",\"yref\":\"y\"},{\"font\":{\"color\":\"#FFFFFF\"},\"showarrow\":false,\"text\":\"0\",\"x\":\"Sporting Goods\",\"xref\":\"x\",\"y\":\"Toys & Games\",\"yref\":\"y\"},{\"font\":{\"color\":\"#FFFFFF\"},\"showarrow\":false,\"text\":\"0\",\"x\":\"Food, Beverages & Tobacco\",\"xref\":\"x\",\"y\":\"Toys & Games\",\"yref\":\"y\"},{\"font\":{\"color\":\"#FFFFFF\"},\"showarrow\":false,\"text\":\"0\",\"x\":\"Apparel & Accessories\",\"xref\":\"x\",\"y\":\"Toys & Games\",\"yref\":\"y\"},{\"font\":{\"color\":\"#FFFFFF\"},\"showarrow\":false,\"text\":\"0\",\"x\":\"Electronics\",\"xref\":\"x\",\"y\":\"Toys & Games\",\"yref\":\"y\"},{\"font\":{\"color\":\"#FFFFFF\"},\"showarrow\":false,\"text\":\"0\",\"x\":\"Animals & Pet Supplies\",\"xref\":\"x\",\"y\":\"Toys & Games\",\"yref\":\"y\"},{\"font\":{\"color\":\"#FFFFFF\"},\"showarrow\":false,\"text\":\"0\",\"x\":\"Vehicles & Parts\",\"xref\":\"x\",\"y\":\"Toys & Games\",\"yref\":\"y\"},{\"font\":{\"color\":\"#FFFFFF\"},\"showarrow\":false,\"text\":\"0\",\"x\":\"Arts & Entertainment\",\"xref\":\"x\",\"y\":\"Toys & Games\",\"yref\":\"y\"},{\"font\":{\"color\":\"#FFFFFF\"},\"showarrow\":false,\"text\":\"0\",\"x\":\"Office Supplies\",\"xref\":\"x\",\"y\":\"Toys & Games\",\"yref\":\"y\"},{\"font\":{\"color\":\"#FFFFFF\"},\"showarrow\":false,\"text\":\"0\",\"x\":\"Cameras & Optics\",\"xref\":\"x\",\"y\":\"Toys & Games\",\"yref\":\"y\"},{\"font\":{\"color\":\"#FFFFFF\"},\"showarrow\":false,\"text\":\"0\",\"x\":\"Hardware\",\"xref\":\"x\",\"y\":\"Toys & Games\",\"yref\":\"y\"},{\"font\":{\"color\":\"#FFFFFF\"},\"showarrow\":false,\"text\":\"0\",\"x\":\"Business & Industrial\",\"xref\":\"x\",\"y\":\"Toys & Games\",\"yref\":\"y\"},{\"font\":{\"color\":\"#FFFFFF\"},\"showarrow\":false,\"text\":\"0\",\"x\":\"Health & Beauty\",\"xref\":\"x\",\"y\":\"Sporting Goods\",\"yref\":\"y\"},{\"font\":{\"color\":\"#FFFFFF\"},\"showarrow\":false,\"text\":\"0\",\"x\":\"Furniture\",\"xref\":\"x\",\"y\":\"Sporting Goods\",\"yref\":\"y\"},{\"font\":{\"color\":\"#FFFFFF\"},\"showarrow\":false,\"text\":\"0\",\"x\":\"Home & Garden\",\"xref\":\"x\",\"y\":\"Sporting Goods\",\"yref\":\"y\"},{\"font\":{\"color\":\"#FFFFFF\"},\"showarrow\":false,\"text\":\"0\",\"x\":\"Baby & Toddler\",\"xref\":\"x\",\"y\":\"Sporting Goods\",\"yref\":\"y\"},{\"font\":{\"color\":\"#FFFFFF\"},\"showarrow\":false,\"text\":\"0\",\"x\":\"Software\",\"xref\":\"x\",\"y\":\"Sporting Goods\",\"yref\":\"y\"},{\"font\":{\"color\":\"#FFFFFF\"},\"showarrow\":false,\"text\":\"0\",\"x\":\"Luggage & Bags\",\"xref\":\"x\",\"y\":\"Sporting Goods\",\"yref\":\"y\"},{\"font\":{\"color\":\"#FFFFFF\"},\"showarrow\":false,\"text\":\"0\",\"x\":\"Media\",\"xref\":\"x\",\"y\":\"Sporting Goods\",\"yref\":\"y\"},{\"font\":{\"color\":\"#FFFFFF\"},\"showarrow\":false,\"text\":\"0\",\"x\":\"Toys & Games\",\"xref\":\"x\",\"y\":\"Sporting Goods\",\"yref\":\"y\"},{\"font\":{\"color\":\"#000000\"},\"showarrow\":false,\"text\":\"68\",\"x\":\"Sporting Goods\",\"xref\":\"x\",\"y\":\"Sporting Goods\",\"yref\":\"y\"},{\"font\":{\"color\":\"#FFFFFF\"},\"showarrow\":false,\"text\":\"0\",\"x\":\"Food, Beverages & Tobacco\",\"xref\":\"x\",\"y\":\"Sporting Goods\",\"yref\":\"y\"},{\"font\":{\"color\":\"#FFFFFF\"},\"showarrow\":false,\"text\":\"0\",\"x\":\"Apparel & Accessories\",\"xref\":\"x\",\"y\":\"Sporting Goods\",\"yref\":\"y\"},{\"font\":{\"color\":\"#FFFFFF\"},\"showarrow\":false,\"text\":\"1\",\"x\":\"Electronics\",\"xref\":\"x\",\"y\":\"Sporting Goods\",\"yref\":\"y\"},{\"font\":{\"color\":\"#FFFFFF\"},\"showarrow\":false,\"text\":\"0\",\"x\":\"Animals & Pet Supplies\",\"xref\":\"x\",\"y\":\"Sporting Goods\",\"yref\":\"y\"},{\"font\":{\"color\":\"#FFFFFF\"},\"showarrow\":false,\"text\":\"0\",\"x\":\"Vehicles & Parts\",\"xref\":\"x\",\"y\":\"Sporting Goods\",\"yref\":\"y\"},{\"font\":{\"color\":\"#FFFFFF\"},\"showarrow\":false,\"text\":\"0\",\"x\":\"Arts & Entertainment\",\"xref\":\"x\",\"y\":\"Sporting Goods\",\"yref\":\"y\"},{\"font\":{\"color\":\"#FFFFFF\"},\"showarrow\":false,\"text\":\"0\",\"x\":\"Office Supplies\",\"xref\":\"x\",\"y\":\"Sporting Goods\",\"yref\":\"y\"},{\"font\":{\"color\":\"#FFFFFF\"},\"showarrow\":false,\"text\":\"0\",\"x\":\"Cameras & Optics\",\"xref\":\"x\",\"y\":\"Sporting Goods\",\"yref\":\"y\"},{\"font\":{\"color\":\"#FFFFFF\"},\"showarrow\":false,\"text\":\"0\",\"x\":\"Hardware\",\"xref\":\"x\",\"y\":\"Sporting Goods\",\"yref\":\"y\"},{\"font\":{\"color\":\"#FFFFFF\"},\"showarrow\":false,\"text\":\"0\",\"x\":\"Business & Industrial\",\"xref\":\"x\",\"y\":\"Sporting Goods\",\"yref\":\"y\"},{\"font\":{\"color\":\"#FFFFFF\"},\"showarrow\":false,\"text\":\"0\",\"x\":\"Health & Beauty\",\"xref\":\"x\",\"y\":\"Food, Beverages & Tobacco\",\"yref\":\"y\"},{\"font\":{\"color\":\"#FFFFFF\"},\"showarrow\":false,\"text\":\"0\",\"x\":\"Furniture\",\"xref\":\"x\",\"y\":\"Food, Beverages & Tobacco\",\"yref\":\"y\"},{\"font\":{\"color\":\"#FFFFFF\"},\"showarrow\":false,\"text\":\"0\",\"x\":\"Home & Garden\",\"xref\":\"x\",\"y\":\"Food, Beverages & Tobacco\",\"yref\":\"y\"},{\"font\":{\"color\":\"#FFFFFF\"},\"showarrow\":false,\"text\":\"0\",\"x\":\"Baby & Toddler\",\"xref\":\"x\",\"y\":\"Food, Beverages & Tobacco\",\"yref\":\"y\"},{\"font\":{\"color\":\"#FFFFFF\"},\"showarrow\":false,\"text\":\"0\",\"x\":\"Software\",\"xref\":\"x\",\"y\":\"Food, Beverages & Tobacco\",\"yref\":\"y\"},{\"font\":{\"color\":\"#FFFFFF\"},\"showarrow\":false,\"text\":\"0\",\"x\":\"Luggage & Bags\",\"xref\":\"x\",\"y\":\"Food, Beverages & Tobacco\",\"yref\":\"y\"},{\"font\":{\"color\":\"#FFFFFF\"},\"showarrow\":false,\"text\":\"0\",\"x\":\"Media\",\"xref\":\"x\",\"y\":\"Food, Beverages & Tobacco\",\"yref\":\"y\"},{\"font\":{\"color\":\"#FFFFFF\"},\"showarrow\":false,\"text\":\"0\",\"x\":\"Toys & Games\",\"xref\":\"x\",\"y\":\"Food, Beverages & Tobacco\",\"yref\":\"y\"},{\"font\":{\"color\":\"#FFFFFF\"},\"showarrow\":false,\"text\":\"0\",\"x\":\"Sporting Goods\",\"xref\":\"x\",\"y\":\"Food, Beverages & Tobacco\",\"yref\":\"y\"},{\"font\":{\"color\":\"#FFFFFF\"},\"showarrow\":false,\"text\":\"15\",\"x\":\"Food, Beverages & Tobacco\",\"xref\":\"x\",\"y\":\"Food, Beverages & Tobacco\",\"yref\":\"y\"},{\"font\":{\"color\":\"#FFFFFF\"},\"showarrow\":false,\"text\":\"0\",\"x\":\"Apparel & Accessories\",\"xref\":\"x\",\"y\":\"Food, Beverages & Tobacco\",\"yref\":\"y\"},{\"font\":{\"color\":\"#FFFFFF\"},\"showarrow\":false,\"text\":\"0\",\"x\":\"Electronics\",\"xref\":\"x\",\"y\":\"Food, Beverages & Tobacco\",\"yref\":\"y\"},{\"font\":{\"color\":\"#FFFFFF\"},\"showarrow\":false,\"text\":\"0\",\"x\":\"Animals & Pet Supplies\",\"xref\":\"x\",\"y\":\"Food, Beverages & Tobacco\",\"yref\":\"y\"},{\"font\":{\"color\":\"#FFFFFF\"},\"showarrow\":false,\"text\":\"0\",\"x\":\"Vehicles & Parts\",\"xref\":\"x\",\"y\":\"Food, Beverages & Tobacco\",\"yref\":\"y\"},{\"font\":{\"color\":\"#FFFFFF\"},\"showarrow\":false,\"text\":\"0\",\"x\":\"Arts & Entertainment\",\"xref\":\"x\",\"y\":\"Food, Beverages & Tobacco\",\"yref\":\"y\"},{\"font\":{\"color\":\"#FFFFFF\"},\"showarrow\":false,\"text\":\"0\",\"x\":\"Office Supplies\",\"xref\":\"x\",\"y\":\"Food, Beverages & Tobacco\",\"yref\":\"y\"},{\"font\":{\"color\":\"#FFFFFF\"},\"showarrow\":false,\"text\":\"0\",\"x\":\"Cameras & Optics\",\"xref\":\"x\",\"y\":\"Food, Beverages & Tobacco\",\"yref\":\"y\"},{\"font\":{\"color\":\"#FFFFFF\"},\"showarrow\":false,\"text\":\"0\",\"x\":\"Hardware\",\"xref\":\"x\",\"y\":\"Food, Beverages & Tobacco\",\"yref\":\"y\"},{\"font\":{\"color\":\"#FFFFFF\"},\"showarrow\":false,\"text\":\"0\",\"x\":\"Business & Industrial\",\"xref\":\"x\",\"y\":\"Food, Beverages & Tobacco\",\"yref\":\"y\"},{\"font\":{\"color\":\"#FFFFFF\"},\"showarrow\":false,\"text\":\"0\",\"x\":\"Health & Beauty\",\"xref\":\"x\",\"y\":\"Apparel & Accessories\",\"yref\":\"y\"},{\"font\":{\"color\":\"#FFFFFF\"},\"showarrow\":false,\"text\":\"0\",\"x\":\"Furniture\",\"xref\":\"x\",\"y\":\"Apparel & Accessories\",\"yref\":\"y\"},{\"font\":{\"color\":\"#FFFFFF\"},\"showarrow\":false,\"text\":\"0\",\"x\":\"Home & Garden\",\"xref\":\"x\",\"y\":\"Apparel & Accessories\",\"yref\":\"y\"},{\"font\":{\"color\":\"#FFFFFF\"},\"showarrow\":false,\"text\":\"0\",\"x\":\"Baby & Toddler\",\"xref\":\"x\",\"y\":\"Apparel & Accessories\",\"yref\":\"y\"},{\"font\":{\"color\":\"#FFFFFF\"},\"showarrow\":false,\"text\":\"0\",\"x\":\"Software\",\"xref\":\"x\",\"y\":\"Apparel & Accessories\",\"yref\":\"y\"},{\"font\":{\"color\":\"#FFFFFF\"},\"showarrow\":false,\"text\":\"0\",\"x\":\"Luggage & Bags\",\"xref\":\"x\",\"y\":\"Apparel & Accessories\",\"yref\":\"y\"},{\"font\":{\"color\":\"#FFFFFF\"},\"showarrow\":false,\"text\":\"0\",\"x\":\"Media\",\"xref\":\"x\",\"y\":\"Apparel & Accessories\",\"yref\":\"y\"},{\"font\":{\"color\":\"#FFFFFF\"},\"showarrow\":false,\"text\":\"0\",\"x\":\"Toys & Games\",\"xref\":\"x\",\"y\":\"Apparel & Accessories\",\"yref\":\"y\"},{\"font\":{\"color\":\"#FFFFFF\"},\"showarrow\":false,\"text\":\"0\",\"x\":\"Sporting Goods\",\"xref\":\"x\",\"y\":\"Apparel & Accessories\",\"yref\":\"y\"},{\"font\":{\"color\":\"#FFFFFF\"},\"showarrow\":false,\"text\":\"0\",\"x\":\"Food, Beverages & Tobacco\",\"xref\":\"x\",\"y\":\"Apparel & Accessories\",\"yref\":\"y\"},{\"font\":{\"color\":\"#000000\"},\"showarrow\":false,\"text\":\"86\",\"x\":\"Apparel & Accessories\",\"xref\":\"x\",\"y\":\"Apparel & Accessories\",\"yref\":\"y\"},{\"font\":{\"color\":\"#FFFFFF\"},\"showarrow\":false,\"text\":\"0\",\"x\":\"Electronics\",\"xref\":\"x\",\"y\":\"Apparel & Accessories\",\"yref\":\"y\"},{\"font\":{\"color\":\"#FFFFFF\"},\"showarrow\":false,\"text\":\"0\",\"x\":\"Animals & Pet Supplies\",\"xref\":\"x\",\"y\":\"Apparel & Accessories\",\"yref\":\"y\"},{\"font\":{\"color\":\"#FFFFFF\"},\"showarrow\":false,\"text\":\"0\",\"x\":\"Vehicles & Parts\",\"xref\":\"x\",\"y\":\"Apparel & Accessories\",\"yref\":\"y\"},{\"font\":{\"color\":\"#FFFFFF\"},\"showarrow\":false,\"text\":\"0\",\"x\":\"Arts & Entertainment\",\"xref\":\"x\",\"y\":\"Apparel & Accessories\",\"yref\":\"y\"},{\"font\":{\"color\":\"#FFFFFF\"},\"showarrow\":false,\"text\":\"0\",\"x\":\"Office Supplies\",\"xref\":\"x\",\"y\":\"Apparel & Accessories\",\"yref\":\"y\"},{\"font\":{\"color\":\"#FFFFFF\"},\"showarrow\":false,\"text\":\"1\",\"x\":\"Cameras & Optics\",\"xref\":\"x\",\"y\":\"Apparel & Accessories\",\"yref\":\"y\"},{\"font\":{\"color\":\"#FFFFFF\"},\"showarrow\":false,\"text\":\"0\",\"x\":\"Hardware\",\"xref\":\"x\",\"y\":\"Apparel & Accessories\",\"yref\":\"y\"},{\"font\":{\"color\":\"#FFFFFF\"},\"showarrow\":false,\"text\":\"0\",\"x\":\"Business & Industrial\",\"xref\":\"x\",\"y\":\"Apparel & Accessories\",\"yref\":\"y\"},{\"font\":{\"color\":\"#FFFFFF\"},\"showarrow\":false,\"text\":\"0\",\"x\":\"Health & Beauty\",\"xref\":\"x\",\"y\":\"Electronics\",\"yref\":\"y\"},{\"font\":{\"color\":\"#FFFFFF\"},\"showarrow\":false,\"text\":\"0\",\"x\":\"Furniture\",\"xref\":\"x\",\"y\":\"Electronics\",\"yref\":\"y\"},{\"font\":{\"color\":\"#FFFFFF\"},\"showarrow\":false,\"text\":\"0\",\"x\":\"Home & Garden\",\"xref\":\"x\",\"y\":\"Electronics\",\"yref\":\"y\"},{\"font\":{\"color\":\"#FFFFFF\"},\"showarrow\":false,\"text\":\"0\",\"x\":\"Baby & Toddler\",\"xref\":\"x\",\"y\":\"Electronics\",\"yref\":\"y\"},{\"font\":{\"color\":\"#FFFFFF\"},\"showarrow\":false,\"text\":\"0\",\"x\":\"Software\",\"xref\":\"x\",\"y\":\"Electronics\",\"yref\":\"y\"},{\"font\":{\"color\":\"#FFFFFF\"},\"showarrow\":false,\"text\":\"0\",\"x\":\"Luggage & Bags\",\"xref\":\"x\",\"y\":\"Electronics\",\"yref\":\"y\"},{\"font\":{\"color\":\"#FFFFFF\"},\"showarrow\":false,\"text\":\"0\",\"x\":\"Media\",\"xref\":\"x\",\"y\":\"Electronics\",\"yref\":\"y\"},{\"font\":{\"color\":\"#FFFFFF\"},\"showarrow\":false,\"text\":\"0\",\"x\":\"Toys & Games\",\"xref\":\"x\",\"y\":\"Electronics\",\"yref\":\"y\"},{\"font\":{\"color\":\"#FFFFFF\"},\"showarrow\":false,\"text\":\"0\",\"x\":\"Sporting Goods\",\"xref\":\"x\",\"y\":\"Electronics\",\"yref\":\"y\"},{\"font\":{\"color\":\"#FFFFFF\"},\"showarrow\":false,\"text\":\"0\",\"x\":\"Food, Beverages & Tobacco\",\"xref\":\"x\",\"y\":\"Electronics\",\"yref\":\"y\"},{\"font\":{\"color\":\"#FFFFFF\"},\"showarrow\":false,\"text\":\"0\",\"x\":\"Apparel & Accessories\",\"xref\":\"x\",\"y\":\"Electronics\",\"yref\":\"y\"},{\"font\":{\"color\":\"#000000\"},\"showarrow\":false,\"text\":\"79\",\"x\":\"Electronics\",\"xref\":\"x\",\"y\":\"Electronics\",\"yref\":\"y\"},{\"font\":{\"color\":\"#FFFFFF\"},\"showarrow\":false,\"text\":\"0\",\"x\":\"Animals & Pet Supplies\",\"xref\":\"x\",\"y\":\"Electronics\",\"yref\":\"y\"},{\"font\":{\"color\":\"#FFFFFF\"},\"showarrow\":false,\"text\":\"0\",\"x\":\"Vehicles & Parts\",\"xref\":\"x\",\"y\":\"Electronics\",\"yref\":\"y\"},{\"font\":{\"color\":\"#FFFFFF\"},\"showarrow\":false,\"text\":\"0\",\"x\":\"Arts & Entertainment\",\"xref\":\"x\",\"y\":\"Electronics\",\"yref\":\"y\"},{\"font\":{\"color\":\"#FFFFFF\"},\"showarrow\":false,\"text\":\"0\",\"x\":\"Office Supplies\",\"xref\":\"x\",\"y\":\"Electronics\",\"yref\":\"y\"},{\"font\":{\"color\":\"#FFFFFF\"},\"showarrow\":false,\"text\":\"0\",\"x\":\"Cameras & Optics\",\"xref\":\"x\",\"y\":\"Electronics\",\"yref\":\"y\"},{\"font\":{\"color\":\"#FFFFFF\"},\"showarrow\":false,\"text\":\"0\",\"x\":\"Hardware\",\"xref\":\"x\",\"y\":\"Electronics\",\"yref\":\"y\"},{\"font\":{\"color\":\"#FFFFFF\"},\"showarrow\":false,\"text\":\"0\",\"x\":\"Business & Industrial\",\"xref\":\"x\",\"y\":\"Electronics\",\"yref\":\"y\"},{\"font\":{\"color\":\"#FFFFFF\"},\"showarrow\":false,\"text\":\"0\",\"x\":\"Health & Beauty\",\"xref\":\"x\",\"y\":\"Animals & Pet Supplies\",\"yref\":\"y\"},{\"font\":{\"color\":\"#FFFFFF\"},\"showarrow\":false,\"text\":\"0\",\"x\":\"Furniture\",\"xref\":\"x\",\"y\":\"Animals & Pet Supplies\",\"yref\":\"y\"},{\"font\":{\"color\":\"#FFFFFF\"},\"showarrow\":false,\"text\":\"0\",\"x\":\"Home & Garden\",\"xref\":\"x\",\"y\":\"Animals & Pet Supplies\",\"yref\":\"y\"},{\"font\":{\"color\":\"#FFFFFF\"},\"showarrow\":false,\"text\":\"0\",\"x\":\"Baby & Toddler\",\"xref\":\"x\",\"y\":\"Animals & Pet Supplies\",\"yref\":\"y\"},{\"font\":{\"color\":\"#FFFFFF\"},\"showarrow\":false,\"text\":\"0\",\"x\":\"Software\",\"xref\":\"x\",\"y\":\"Animals & Pet Supplies\",\"yref\":\"y\"},{\"font\":{\"color\":\"#FFFFFF\"},\"showarrow\":false,\"text\":\"0\",\"x\":\"Luggage & Bags\",\"xref\":\"x\",\"y\":\"Animals & Pet Supplies\",\"yref\":\"y\"},{\"font\":{\"color\":\"#FFFFFF\"},\"showarrow\":false,\"text\":\"0\",\"x\":\"Media\",\"xref\":\"x\",\"y\":\"Animals & Pet Supplies\",\"yref\":\"y\"},{\"font\":{\"color\":\"#FFFFFF\"},\"showarrow\":false,\"text\":\"0\",\"x\":\"Toys & Games\",\"xref\":\"x\",\"y\":\"Animals & Pet Supplies\",\"yref\":\"y\"},{\"font\":{\"color\":\"#FFFFFF\"},\"showarrow\":false,\"text\":\"0\",\"x\":\"Sporting Goods\",\"xref\":\"x\",\"y\":\"Animals & Pet Supplies\",\"yref\":\"y\"},{\"font\":{\"color\":\"#FFFFFF\"},\"showarrow\":false,\"text\":\"0\",\"x\":\"Food, Beverages & Tobacco\",\"xref\":\"x\",\"y\":\"Animals & Pet Supplies\",\"yref\":\"y\"},{\"font\":{\"color\":\"#FFFFFF\"},\"showarrow\":false,\"text\":\"0\",\"x\":\"Apparel & Accessories\",\"xref\":\"x\",\"y\":\"Animals & Pet Supplies\",\"yref\":\"y\"},{\"font\":{\"color\":\"#FFFFFF\"},\"showarrow\":false,\"text\":\"0\",\"x\":\"Electronics\",\"xref\":\"x\",\"y\":\"Animals & Pet Supplies\",\"yref\":\"y\"},{\"font\":{\"color\":\"#000000\"},\"showarrow\":false,\"text\":\"86\",\"x\":\"Animals & Pet Supplies\",\"xref\":\"x\",\"y\":\"Animals & Pet Supplies\",\"yref\":\"y\"},{\"font\":{\"color\":\"#FFFFFF\"},\"showarrow\":false,\"text\":\"0\",\"x\":\"Vehicles & Parts\",\"xref\":\"x\",\"y\":\"Animals & Pet Supplies\",\"yref\":\"y\"},{\"font\":{\"color\":\"#FFFFFF\"},\"showarrow\":false,\"text\":\"0\",\"x\":\"Arts & Entertainment\",\"xref\":\"x\",\"y\":\"Animals & Pet Supplies\",\"yref\":\"y\"},{\"font\":{\"color\":\"#FFFFFF\"},\"showarrow\":false,\"text\":\"0\",\"x\":\"Office Supplies\",\"xref\":\"x\",\"y\":\"Animals & Pet Supplies\",\"yref\":\"y\"},{\"font\":{\"color\":\"#FFFFFF\"},\"showarrow\":false,\"text\":\"0\",\"x\":\"Cameras & Optics\",\"xref\":\"x\",\"y\":\"Animals & Pet Supplies\",\"yref\":\"y\"},{\"font\":{\"color\":\"#FFFFFF\"},\"showarrow\":false,\"text\":\"0\",\"x\":\"Hardware\",\"xref\":\"x\",\"y\":\"Animals & Pet Supplies\",\"yref\":\"y\"},{\"font\":{\"color\":\"#FFFFFF\"},\"showarrow\":false,\"text\":\"0\",\"x\":\"Business & Industrial\",\"xref\":\"x\",\"y\":\"Animals & Pet Supplies\",\"yref\":\"y\"},{\"font\":{\"color\":\"#FFFFFF\"},\"showarrow\":false,\"text\":\"0\",\"x\":\"Health & Beauty\",\"xref\":\"x\",\"y\":\"Vehicles & Parts\",\"yref\":\"y\"},{\"font\":{\"color\":\"#FFFFFF\"},\"showarrow\":false,\"text\":\"0\",\"x\":\"Furniture\",\"xref\":\"x\",\"y\":\"Vehicles & Parts\",\"yref\":\"y\"},{\"font\":{\"color\":\"#FFFFFF\"},\"showarrow\":false,\"text\":\"0\",\"x\":\"Home & Garden\",\"xref\":\"x\",\"y\":\"Vehicles & Parts\",\"yref\":\"y\"},{\"font\":{\"color\":\"#FFFFFF\"},\"showarrow\":false,\"text\":\"0\",\"x\":\"Baby & Toddler\",\"xref\":\"x\",\"y\":\"Vehicles & Parts\",\"yref\":\"y\"},{\"font\":{\"color\":\"#FFFFFF\"},\"showarrow\":false,\"text\":\"0\",\"x\":\"Software\",\"xref\":\"x\",\"y\":\"Vehicles & Parts\",\"yref\":\"y\"},{\"font\":{\"color\":\"#FFFFFF\"},\"showarrow\":false,\"text\":\"0\",\"x\":\"Luggage & Bags\",\"xref\":\"x\",\"y\":\"Vehicles & Parts\",\"yref\":\"y\"},{\"font\":{\"color\":\"#FFFFFF\"},\"showarrow\":false,\"text\":\"0\",\"x\":\"Media\",\"xref\":\"x\",\"y\":\"Vehicles & Parts\",\"yref\":\"y\"},{\"font\":{\"color\":\"#FFFFFF\"},\"showarrow\":false,\"text\":\"0\",\"x\":\"Toys & Games\",\"xref\":\"x\",\"y\":\"Vehicles & Parts\",\"yref\":\"y\"},{\"font\":{\"color\":\"#FFFFFF\"},\"showarrow\":false,\"text\":\"0\",\"x\":\"Sporting Goods\",\"xref\":\"x\",\"y\":\"Vehicles & Parts\",\"yref\":\"y\"},{\"font\":{\"color\":\"#FFFFFF\"},\"showarrow\":false,\"text\":\"0\",\"x\":\"Food, Beverages & Tobacco\",\"xref\":\"x\",\"y\":\"Vehicles & Parts\",\"yref\":\"y\"},{\"font\":{\"color\":\"#FFFFFF\"},\"showarrow\":false,\"text\":\"0\",\"x\":\"Apparel & Accessories\",\"xref\":\"x\",\"y\":\"Vehicles & Parts\",\"yref\":\"y\"},{\"font\":{\"color\":\"#FFFFFF\"},\"showarrow\":false,\"text\":\"0\",\"x\":\"Electronics\",\"xref\":\"x\",\"y\":\"Vehicles & Parts\",\"yref\":\"y\"},{\"font\":{\"color\":\"#FFFFFF\"},\"showarrow\":false,\"text\":\"0\",\"x\":\"Animals & Pet Supplies\",\"xref\":\"x\",\"y\":\"Vehicles & Parts\",\"yref\":\"y\"},{\"font\":{\"color\":\"#000000\"},\"showarrow\":false,\"text\":\"80\",\"x\":\"Vehicles & Parts\",\"xref\":\"x\",\"y\":\"Vehicles & Parts\",\"yref\":\"y\"},{\"font\":{\"color\":\"#FFFFFF\"},\"showarrow\":false,\"text\":\"0\",\"x\":\"Arts & Entertainment\",\"xref\":\"x\",\"y\":\"Vehicles & Parts\",\"yref\":\"y\"},{\"font\":{\"color\":\"#FFFFFF\"},\"showarrow\":false,\"text\":\"0\",\"x\":\"Office Supplies\",\"xref\":\"x\",\"y\":\"Vehicles & Parts\",\"yref\":\"y\"},{\"font\":{\"color\":\"#FFFFFF\"},\"showarrow\":false,\"text\":\"0\",\"x\":\"Cameras & Optics\",\"xref\":\"x\",\"y\":\"Vehicles & Parts\",\"yref\":\"y\"},{\"font\":{\"color\":\"#FFFFFF\"},\"showarrow\":false,\"text\":\"0\",\"x\":\"Hardware\",\"xref\":\"x\",\"y\":\"Vehicles & Parts\",\"yref\":\"y\"},{\"font\":{\"color\":\"#FFFFFF\"},\"showarrow\":false,\"text\":\"0\",\"x\":\"Business & Industrial\",\"xref\":\"x\",\"y\":\"Vehicles & Parts\",\"yref\":\"y\"},{\"font\":{\"color\":\"#FFFFFF\"},\"showarrow\":false,\"text\":\"0\",\"x\":\"Health & Beauty\",\"xref\":\"x\",\"y\":\"Arts & Entertainment\",\"yref\":\"y\"},{\"font\":{\"color\":\"#FFFFFF\"},\"showarrow\":false,\"text\":\"0\",\"x\":\"Furniture\",\"xref\":\"x\",\"y\":\"Arts & Entertainment\",\"yref\":\"y\"},{\"font\":{\"color\":\"#FFFFFF\"},\"showarrow\":false,\"text\":\"0\",\"x\":\"Home & Garden\",\"xref\":\"x\",\"y\":\"Arts & Entertainment\",\"yref\":\"y\"},{\"font\":{\"color\":\"#FFFFFF\"},\"showarrow\":false,\"text\":\"0\",\"x\":\"Baby & Toddler\",\"xref\":\"x\",\"y\":\"Arts & Entertainment\",\"yref\":\"y\"},{\"font\":{\"color\":\"#FFFFFF\"},\"showarrow\":false,\"text\":\"0\",\"x\":\"Software\",\"xref\":\"x\",\"y\":\"Arts & Entertainment\",\"yref\":\"y\"},{\"font\":{\"color\":\"#FFFFFF\"},\"showarrow\":false,\"text\":\"0\",\"x\":\"Luggage & Bags\",\"xref\":\"x\",\"y\":\"Arts & Entertainment\",\"yref\":\"y\"},{\"font\":{\"color\":\"#FFFFFF\"},\"showarrow\":false,\"text\":\"0\",\"x\":\"Media\",\"xref\":\"x\",\"y\":\"Arts & Entertainment\",\"yref\":\"y\"},{\"font\":{\"color\":\"#FFFFFF\"},\"showarrow\":false,\"text\":\"0\",\"x\":\"Toys & Games\",\"xref\":\"x\",\"y\":\"Arts & Entertainment\",\"yref\":\"y\"},{\"font\":{\"color\":\"#FFFFFF\"},\"showarrow\":false,\"text\":\"0\",\"x\":\"Sporting Goods\",\"xref\":\"x\",\"y\":\"Arts & Entertainment\",\"yref\":\"y\"},{\"font\":{\"color\":\"#FFFFFF\"},\"showarrow\":false,\"text\":\"0\",\"x\":\"Food, Beverages & Tobacco\",\"xref\":\"x\",\"y\":\"Arts & Entertainment\",\"yref\":\"y\"},{\"font\":{\"color\":\"#FFFFFF\"},\"showarrow\":false,\"text\":\"0\",\"x\":\"Apparel & Accessories\",\"xref\":\"x\",\"y\":\"Arts & Entertainment\",\"yref\":\"y\"},{\"font\":{\"color\":\"#FFFFFF\"},\"showarrow\":false,\"text\":\"0\",\"x\":\"Electronics\",\"xref\":\"x\",\"y\":\"Arts & Entertainment\",\"yref\":\"y\"},{\"font\":{\"color\":\"#FFFFFF\"},\"showarrow\":false,\"text\":\"0\",\"x\":\"Animals & Pet Supplies\",\"xref\":\"x\",\"y\":\"Arts & Entertainment\",\"yref\":\"y\"},{\"font\":{\"color\":\"#FFFFFF\"},\"showarrow\":false,\"text\":\"0\",\"x\":\"Vehicles & Parts\",\"xref\":\"x\",\"y\":\"Arts & Entertainment\",\"yref\":\"y\"},{\"font\":{\"color\":\"#FFFFFF\"},\"showarrow\":false,\"text\":\"29\",\"x\":\"Arts & Entertainment\",\"xref\":\"x\",\"y\":\"Arts & Entertainment\",\"yref\":\"y\"},{\"font\":{\"color\":\"#FFFFFF\"},\"showarrow\":false,\"text\":\"0\",\"x\":\"Office Supplies\",\"xref\":\"x\",\"y\":\"Arts & Entertainment\",\"yref\":\"y\"},{\"font\":{\"color\":\"#FFFFFF\"},\"showarrow\":false,\"text\":\"0\",\"x\":\"Cameras & Optics\",\"xref\":\"x\",\"y\":\"Arts & Entertainment\",\"yref\":\"y\"},{\"font\":{\"color\":\"#FFFFFF\"},\"showarrow\":false,\"text\":\"0\",\"x\":\"Hardware\",\"xref\":\"x\",\"y\":\"Arts & Entertainment\",\"yref\":\"y\"},{\"font\":{\"color\":\"#FFFFFF\"},\"showarrow\":false,\"text\":\"0\",\"x\":\"Business & Industrial\",\"xref\":\"x\",\"y\":\"Arts & Entertainment\",\"yref\":\"y\"},{\"font\":{\"color\":\"#FFFFFF\"},\"showarrow\":false,\"text\":\"0\",\"x\":\"Health & Beauty\",\"xref\":\"x\",\"y\":\"Office Supplies\",\"yref\":\"y\"},{\"font\":{\"color\":\"#FFFFFF\"},\"showarrow\":false,\"text\":\"0\",\"x\":\"Furniture\",\"xref\":\"x\",\"y\":\"Office Supplies\",\"yref\":\"y\"},{\"font\":{\"color\":\"#FFFFFF\"},\"showarrow\":false,\"text\":\"0\",\"x\":\"Home & Garden\",\"xref\":\"x\",\"y\":\"Office Supplies\",\"yref\":\"y\"},{\"font\":{\"color\":\"#FFFFFF\"},\"showarrow\":false,\"text\":\"0\",\"x\":\"Baby & Toddler\",\"xref\":\"x\",\"y\":\"Office Supplies\",\"yref\":\"y\"},{\"font\":{\"color\":\"#FFFFFF\"},\"showarrow\":false,\"text\":\"0\",\"x\":\"Software\",\"xref\":\"x\",\"y\":\"Office Supplies\",\"yref\":\"y\"},{\"font\":{\"color\":\"#FFFFFF\"},\"showarrow\":false,\"text\":\"0\",\"x\":\"Luggage & Bags\",\"xref\":\"x\",\"y\":\"Office Supplies\",\"yref\":\"y\"},{\"font\":{\"color\":\"#FFFFFF\"},\"showarrow\":false,\"text\":\"0\",\"x\":\"Media\",\"xref\":\"x\",\"y\":\"Office Supplies\",\"yref\":\"y\"},{\"font\":{\"color\":\"#FFFFFF\"},\"showarrow\":false,\"text\":\"0\",\"x\":\"Toys & Games\",\"xref\":\"x\",\"y\":\"Office Supplies\",\"yref\":\"y\"},{\"font\":{\"color\":\"#FFFFFF\"},\"showarrow\":false,\"text\":\"0\",\"x\":\"Sporting Goods\",\"xref\":\"x\",\"y\":\"Office Supplies\",\"yref\":\"y\"},{\"font\":{\"color\":\"#FFFFFF\"},\"showarrow\":false,\"text\":\"0\",\"x\":\"Food, Beverages & Tobacco\",\"xref\":\"x\",\"y\":\"Office Supplies\",\"yref\":\"y\"},{\"font\":{\"color\":\"#FFFFFF\"},\"showarrow\":false,\"text\":\"0\",\"x\":\"Apparel & Accessories\",\"xref\":\"x\",\"y\":\"Office Supplies\",\"yref\":\"y\"},{\"font\":{\"color\":\"#FFFFFF\"},\"showarrow\":false,\"text\":\"0\",\"x\":\"Electronics\",\"xref\":\"x\",\"y\":\"Office Supplies\",\"yref\":\"y\"},{\"font\":{\"color\":\"#FFFFFF\"},\"showarrow\":false,\"text\":\"0\",\"x\":\"Animals & Pet Supplies\",\"xref\":\"x\",\"y\":\"Office Supplies\",\"yref\":\"y\"},{\"font\":{\"color\":\"#FFFFFF\"},\"showarrow\":false,\"text\":\"0\",\"x\":\"Vehicles & Parts\",\"xref\":\"x\",\"y\":\"Office Supplies\",\"yref\":\"y\"},{\"font\":{\"color\":\"#FFFFFF\"},\"showarrow\":false,\"text\":\"0\",\"x\":\"Arts & Entertainment\",\"xref\":\"x\",\"y\":\"Office Supplies\",\"yref\":\"y\"},{\"font\":{\"color\":\"#FFFFFF\"},\"showarrow\":false,\"text\":\"11\",\"x\":\"Office Supplies\",\"xref\":\"x\",\"y\":\"Office Supplies\",\"yref\":\"y\"},{\"font\":{\"color\":\"#FFFFFF\"},\"showarrow\":false,\"text\":\"0\",\"x\":\"Cameras & Optics\",\"xref\":\"x\",\"y\":\"Office Supplies\",\"yref\":\"y\"},{\"font\":{\"color\":\"#FFFFFF\"},\"showarrow\":false,\"text\":\"0\",\"x\":\"Hardware\",\"xref\":\"x\",\"y\":\"Office Supplies\",\"yref\":\"y\"},{\"font\":{\"color\":\"#FFFFFF\"},\"showarrow\":false,\"text\":\"0\",\"x\":\"Business & Industrial\",\"xref\":\"x\",\"y\":\"Office Supplies\",\"yref\":\"y\"},{\"font\":{\"color\":\"#FFFFFF\"},\"showarrow\":false,\"text\":\"0\",\"x\":\"Health & Beauty\",\"xref\":\"x\",\"y\":\"Cameras & Optics\",\"yref\":\"y\"},{\"font\":{\"color\":\"#FFFFFF\"},\"showarrow\":false,\"text\":\"1\",\"x\":\"Furniture\",\"xref\":\"x\",\"y\":\"Cameras & Optics\",\"yref\":\"y\"},{\"font\":{\"color\":\"#FFFFFF\"},\"showarrow\":false,\"text\":\"0\",\"x\":\"Home & Garden\",\"xref\":\"x\",\"y\":\"Cameras & Optics\",\"yref\":\"y\"},{\"font\":{\"color\":\"#FFFFFF\"},\"showarrow\":false,\"text\":\"0\",\"x\":\"Baby & Toddler\",\"xref\":\"x\",\"y\":\"Cameras & Optics\",\"yref\":\"y\"},{\"font\":{\"color\":\"#FFFFFF\"},\"showarrow\":false,\"text\":\"0\",\"x\":\"Software\",\"xref\":\"x\",\"y\":\"Cameras & Optics\",\"yref\":\"y\"},{\"font\":{\"color\":\"#FFFFFF\"},\"showarrow\":false,\"text\":\"0\",\"x\":\"Luggage & Bags\",\"xref\":\"x\",\"y\":\"Cameras & Optics\",\"yref\":\"y\"},{\"font\":{\"color\":\"#FFFFFF\"},\"showarrow\":false,\"text\":\"0\",\"x\":\"Media\",\"xref\":\"x\",\"y\":\"Cameras & Optics\",\"yref\":\"y\"},{\"font\":{\"color\":\"#FFFFFF\"},\"showarrow\":false,\"text\":\"0\",\"x\":\"Toys & Games\",\"xref\":\"x\",\"y\":\"Cameras & Optics\",\"yref\":\"y\"},{\"font\":{\"color\":\"#FFFFFF\"},\"showarrow\":false,\"text\":\"0\",\"x\":\"Sporting Goods\",\"xref\":\"x\",\"y\":\"Cameras & Optics\",\"yref\":\"y\"},{\"font\":{\"color\":\"#FFFFFF\"},\"showarrow\":false,\"text\":\"1\",\"x\":\"Food, Beverages & Tobacco\",\"xref\":\"x\",\"y\":\"Cameras & Optics\",\"yref\":\"y\"},{\"font\":{\"color\":\"#FFFFFF\"},\"showarrow\":false,\"text\":\"0\",\"x\":\"Apparel & Accessories\",\"xref\":\"x\",\"y\":\"Cameras & Optics\",\"yref\":\"y\"},{\"font\":{\"color\":\"#FFFFFF\"},\"showarrow\":false,\"text\":\"0\",\"x\":\"Electronics\",\"xref\":\"x\",\"y\":\"Cameras & Optics\",\"yref\":\"y\"},{\"font\":{\"color\":\"#FFFFFF\"},\"showarrow\":false,\"text\":\"0\",\"x\":\"Animals & Pet Supplies\",\"xref\":\"x\",\"y\":\"Cameras & Optics\",\"yref\":\"y\"},{\"font\":{\"color\":\"#FFFFFF\"},\"showarrow\":false,\"text\":\"0\",\"x\":\"Vehicles & Parts\",\"xref\":\"x\",\"y\":\"Cameras & Optics\",\"yref\":\"y\"},{\"font\":{\"color\":\"#FFFFFF\"},\"showarrow\":false,\"text\":\"0\",\"x\":\"Arts & Entertainment\",\"xref\":\"x\",\"y\":\"Cameras & Optics\",\"yref\":\"y\"},{\"font\":{\"color\":\"#FFFFFF\"},\"showarrow\":false,\"text\":\"0\",\"x\":\"Office Supplies\",\"xref\":\"x\",\"y\":\"Cameras & Optics\",\"yref\":\"y\"},{\"font\":{\"color\":\"#000000\"},\"showarrow\":false,\"text\":\"83\",\"x\":\"Cameras & Optics\",\"xref\":\"x\",\"y\":\"Cameras & Optics\",\"yref\":\"y\"},{\"font\":{\"color\":\"#FFFFFF\"},\"showarrow\":false,\"text\":\"2\",\"x\":\"Hardware\",\"xref\":\"x\",\"y\":\"Cameras & Optics\",\"yref\":\"y\"},{\"font\":{\"color\":\"#FFFFFF\"},\"showarrow\":false,\"text\":\"0\",\"x\":\"Business & Industrial\",\"xref\":\"x\",\"y\":\"Cameras & Optics\",\"yref\":\"y\"},{\"font\":{\"color\":\"#FFFFFF\"},\"showarrow\":false,\"text\":\"1\",\"x\":\"Health & Beauty\",\"xref\":\"x\",\"y\":\"Hardware\",\"yref\":\"y\"},{\"font\":{\"color\":\"#FFFFFF\"},\"showarrow\":false,\"text\":\"0\",\"x\":\"Furniture\",\"xref\":\"x\",\"y\":\"Hardware\",\"yref\":\"y\"},{\"font\":{\"color\":\"#FFFFFF\"},\"showarrow\":false,\"text\":\"0\",\"x\":\"Home & Garden\",\"xref\":\"x\",\"y\":\"Hardware\",\"yref\":\"y\"},{\"font\":{\"color\":\"#FFFFFF\"},\"showarrow\":false,\"text\":\"1\",\"x\":\"Baby & Toddler\",\"xref\":\"x\",\"y\":\"Hardware\",\"yref\":\"y\"},{\"font\":{\"color\":\"#FFFFFF\"},\"showarrow\":false,\"text\":\"0\",\"x\":\"Software\",\"xref\":\"x\",\"y\":\"Hardware\",\"yref\":\"y\"},{\"font\":{\"color\":\"#FFFFFF\"},\"showarrow\":false,\"text\":\"0\",\"x\":\"Luggage & Bags\",\"xref\":\"x\",\"y\":\"Hardware\",\"yref\":\"y\"},{\"font\":{\"color\":\"#FFFFFF\"},\"showarrow\":false,\"text\":\"0\",\"x\":\"Media\",\"xref\":\"x\",\"y\":\"Hardware\",\"yref\":\"y\"},{\"font\":{\"color\":\"#FFFFFF\"},\"showarrow\":false,\"text\":\"0\",\"x\":\"Toys & Games\",\"xref\":\"x\",\"y\":\"Hardware\",\"yref\":\"y\"},{\"font\":{\"color\":\"#FFFFFF\"},\"showarrow\":false,\"text\":\"0\",\"x\":\"Sporting Goods\",\"xref\":\"x\",\"y\":\"Hardware\",\"yref\":\"y\"},{\"font\":{\"color\":\"#FFFFFF\"},\"showarrow\":false,\"text\":\"0\",\"x\":\"Food, Beverages & Tobacco\",\"xref\":\"x\",\"y\":\"Hardware\",\"yref\":\"y\"},{\"font\":{\"color\":\"#FFFFFF\"},\"showarrow\":false,\"text\":\"0\",\"x\":\"Apparel & Accessories\",\"xref\":\"x\",\"y\":\"Hardware\",\"yref\":\"y\"},{\"font\":{\"color\":\"#FFFFFF\"},\"showarrow\":false,\"text\":\"0\",\"x\":\"Electronics\",\"xref\":\"x\",\"y\":\"Hardware\",\"yref\":\"y\"},{\"font\":{\"color\":\"#FFFFFF\"},\"showarrow\":false,\"text\":\"0\",\"x\":\"Animals & Pet Supplies\",\"xref\":\"x\",\"y\":\"Hardware\",\"yref\":\"y\"},{\"font\":{\"color\":\"#FFFFFF\"},\"showarrow\":false,\"text\":\"0\",\"x\":\"Vehicles & Parts\",\"xref\":\"x\",\"y\":\"Hardware\",\"yref\":\"y\"},{\"font\":{\"color\":\"#FFFFFF\"},\"showarrow\":false,\"text\":\"0\",\"x\":\"Arts & Entertainment\",\"xref\":\"x\",\"y\":\"Hardware\",\"yref\":\"y\"},{\"font\":{\"color\":\"#FFFFFF\"},\"showarrow\":false,\"text\":\"0\",\"x\":\"Office Supplies\",\"xref\":\"x\",\"y\":\"Hardware\",\"yref\":\"y\"},{\"font\":{\"color\":\"#FFFFFF\"},\"showarrow\":false,\"text\":\"0\",\"x\":\"Cameras & Optics\",\"xref\":\"x\",\"y\":\"Hardware\",\"yref\":\"y\"},{\"font\":{\"color\":\"#000000\"},\"showarrow\":false,\"text\":\"62\",\"x\":\"Hardware\",\"xref\":\"x\",\"y\":\"Hardware\",\"yref\":\"y\"},{\"font\":{\"color\":\"#FFFFFF\"},\"showarrow\":false,\"text\":\"0\",\"x\":\"Business & Industrial\",\"xref\":\"x\",\"y\":\"Hardware\",\"yref\":\"y\"},{\"font\":{\"color\":\"#FFFFFF\"},\"showarrow\":false,\"text\":\"0\",\"x\":\"Health & Beauty\",\"xref\":\"x\",\"y\":\"Business & Industrial\",\"yref\":\"y\"},{\"font\":{\"color\":\"#FFFFFF\"},\"showarrow\":false,\"text\":\"0\",\"x\":\"Furniture\",\"xref\":\"x\",\"y\":\"Business & Industrial\",\"yref\":\"y\"},{\"font\":{\"color\":\"#FFFFFF\"},\"showarrow\":false,\"text\":\"0\",\"x\":\"Home & Garden\",\"xref\":\"x\",\"y\":\"Business & Industrial\",\"yref\":\"y\"},{\"font\":{\"color\":\"#FFFFFF\"},\"showarrow\":false,\"text\":\"0\",\"x\":\"Baby & Toddler\",\"xref\":\"x\",\"y\":\"Business & Industrial\",\"yref\":\"y\"},{\"font\":{\"color\":\"#FFFFFF\"},\"showarrow\":false,\"text\":\"0\",\"x\":\"Software\",\"xref\":\"x\",\"y\":\"Business & Industrial\",\"yref\":\"y\"},{\"font\":{\"color\":\"#FFFFFF\"},\"showarrow\":false,\"text\":\"0\",\"x\":\"Luggage & Bags\",\"xref\":\"x\",\"y\":\"Business & Industrial\",\"yref\":\"y\"},{\"font\":{\"color\":\"#FFFFFF\"},\"showarrow\":false,\"text\":\"0\",\"x\":\"Media\",\"xref\":\"x\",\"y\":\"Business & Industrial\",\"yref\":\"y\"},{\"font\":{\"color\":\"#FFFFFF\"},\"showarrow\":false,\"text\":\"0\",\"x\":\"Toys & Games\",\"xref\":\"x\",\"y\":\"Business & Industrial\",\"yref\":\"y\"},{\"font\":{\"color\":\"#FFFFFF\"},\"showarrow\":false,\"text\":\"0\",\"x\":\"Sporting Goods\",\"xref\":\"x\",\"y\":\"Business & Industrial\",\"yref\":\"y\"},{\"font\":{\"color\":\"#FFFFFF\"},\"showarrow\":false,\"text\":\"0\",\"x\":\"Food, Beverages & Tobacco\",\"xref\":\"x\",\"y\":\"Business & Industrial\",\"yref\":\"y\"},{\"font\":{\"color\":\"#FFFFFF\"},\"showarrow\":false,\"text\":\"0\",\"x\":\"Apparel & Accessories\",\"xref\":\"x\",\"y\":\"Business & Industrial\",\"yref\":\"y\"},{\"font\":{\"color\":\"#FFFFFF\"},\"showarrow\":false,\"text\":\"0\",\"x\":\"Electronics\",\"xref\":\"x\",\"y\":\"Business & Industrial\",\"yref\":\"y\"},{\"font\":{\"color\":\"#FFFFFF\"},\"showarrow\":false,\"text\":\"0\",\"x\":\"Animals & Pet Supplies\",\"xref\":\"x\",\"y\":\"Business & Industrial\",\"yref\":\"y\"},{\"font\":{\"color\":\"#FFFFFF\"},\"showarrow\":false,\"text\":\"0\",\"x\":\"Vehicles & Parts\",\"xref\":\"x\",\"y\":\"Business & Industrial\",\"yref\":\"y\"},{\"font\":{\"color\":\"#FFFFFF\"},\"showarrow\":false,\"text\":\"0\",\"x\":\"Arts & Entertainment\",\"xref\":\"x\",\"y\":\"Business & Industrial\",\"yref\":\"y\"},{\"font\":{\"color\":\"#FFFFFF\"},\"showarrow\":false,\"text\":\"0\",\"x\":\"Office Supplies\",\"xref\":\"x\",\"y\":\"Business & Industrial\",\"yref\":\"y\"},{\"font\":{\"color\":\"#FFFFFF\"},\"showarrow\":false,\"text\":\"0\",\"x\":\"Cameras & Optics\",\"xref\":\"x\",\"y\":\"Business & Industrial\",\"yref\":\"y\"},{\"font\":{\"color\":\"#FFFFFF\"},\"showarrow\":false,\"text\":\"0\",\"x\":\"Hardware\",\"xref\":\"x\",\"y\":\"Business & Industrial\",\"yref\":\"y\"},{\"font\":{\"color\":\"#FFFFFF\"},\"showarrow\":false,\"text\":\"39\",\"x\":\"Business & Industrial\",\"xref\":\"x\",\"y\":\"Business & Industrial\",\"yref\":\"y\"}],\"xaxis\":{\"dtick\":1,\"gridcolor\":\"rgb(0, 0, 0)\",\"side\":\"top\",\"ticks\":\"\",\"title\":{\"text\":\"Predicted Label\"}},\"yaxis\":{\"dtick\":1,\"ticks\":\"\",\"ticksuffix\":\"  \",\"title\":{\"text\":\"True Label\"},\"autorange\":\"reversed\"},\"template\":{\"data\":{\"barpolar\":[{\"marker\":{\"line\":{\"color\":\"white\",\"width\":0.5},\"pattern\":{\"fillmode\":\"overlay\",\"size\":10,\"solidity\":0.2}},\"type\":\"barpolar\"}],\"bar\":[{\"error_x\":{\"color\":\"#2a3f5f\"},\"error_y\":{\"color\":\"#2a3f5f\"},\"marker\":{\"line\":{\"color\":\"white\",\"width\":0.5},\"pattern\":{\"fillmode\":\"overlay\",\"size\":10,\"solidity\":0.2}},\"type\":\"bar\"}],\"carpet\":[{\"aaxis\":{\"endlinecolor\":\"#2a3f5f\",\"gridcolor\":\"#C8D4E3\",\"linecolor\":\"#C8D4E3\",\"minorgridcolor\":\"#C8D4E3\",\"startlinecolor\":\"#2a3f5f\"},\"baxis\":{\"endlinecolor\":\"#2a3f5f\",\"gridcolor\":\"#C8D4E3\",\"linecolor\":\"#C8D4E3\",\"minorgridcolor\":\"#C8D4E3\",\"startlinecolor\":\"#2a3f5f\"},\"type\":\"carpet\"}],\"choropleth\":[{\"colorbar\":{\"outlinewidth\":0,\"ticks\":\"\"},\"type\":\"choropleth\"}],\"contourcarpet\":[{\"colorbar\":{\"outlinewidth\":0,\"ticks\":\"\"},\"type\":\"contourcarpet\"}],\"contour\":[{\"colorbar\":{\"outlinewidth\":0,\"ticks\":\"\"},\"colorscale\":[[0.0,\"#0d0887\"],[0.1111111111111111,\"#46039f\"],[0.2222222222222222,\"#7201a8\"],[0.3333333333333333,\"#9c179e\"],[0.4444444444444444,\"#bd3786\"],[0.5555555555555556,\"#d8576b\"],[0.6666666666666666,\"#ed7953\"],[0.7777777777777778,\"#fb9f3a\"],[0.8888888888888888,\"#fdca26\"],[1.0,\"#f0f921\"]],\"type\":\"contour\"}],\"heatmapgl\":[{\"colorbar\":{\"outlinewidth\":0,\"ticks\":\"\"},\"colorscale\":[[0.0,\"#0d0887\"],[0.1111111111111111,\"#46039f\"],[0.2222222222222222,\"#7201a8\"],[0.3333333333333333,\"#9c179e\"],[0.4444444444444444,\"#bd3786\"],[0.5555555555555556,\"#d8576b\"],[0.6666666666666666,\"#ed7953\"],[0.7777777777777778,\"#fb9f3a\"],[0.8888888888888888,\"#fdca26\"],[1.0,\"#f0f921\"]],\"type\":\"heatmapgl\"}],\"heatmap\":[{\"colorbar\":{\"outlinewidth\":0,\"ticks\":\"\"},\"colorscale\":[[0.0,\"#0d0887\"],[0.1111111111111111,\"#46039f\"],[0.2222222222222222,\"#7201a8\"],[0.3333333333333333,\"#9c179e\"],[0.4444444444444444,\"#bd3786\"],[0.5555555555555556,\"#d8576b\"],[0.6666666666666666,\"#ed7953\"],[0.7777777777777778,\"#fb9f3a\"],[0.8888888888888888,\"#fdca26\"],[1.0,\"#f0f921\"]],\"type\":\"heatmap\"}],\"histogram2dcontour\":[{\"colorbar\":{\"outlinewidth\":0,\"ticks\":\"\"},\"colorscale\":[[0.0,\"#0d0887\"],[0.1111111111111111,\"#46039f\"],[0.2222222222222222,\"#7201a8\"],[0.3333333333333333,\"#9c179e\"],[0.4444444444444444,\"#bd3786\"],[0.5555555555555556,\"#d8576b\"],[0.6666666666666666,\"#ed7953\"],[0.7777777777777778,\"#fb9f3a\"],[0.8888888888888888,\"#fdca26\"],[1.0,\"#f0f921\"]],\"type\":\"histogram2dcontour\"}],\"histogram2d\":[{\"colorbar\":{\"outlinewidth\":0,\"ticks\":\"\"},\"colorscale\":[[0.0,\"#0d0887\"],[0.1111111111111111,\"#46039f\"],[0.2222222222222222,\"#7201a8\"],[0.3333333333333333,\"#9c179e\"],[0.4444444444444444,\"#bd3786\"],[0.5555555555555556,\"#d8576b\"],[0.6666666666666666,\"#ed7953\"],[0.7777777777777778,\"#fb9f3a\"],[0.8888888888888888,\"#fdca26\"],[1.0,\"#f0f921\"]],\"type\":\"histogram2d\"}],\"histogram\":[{\"marker\":{\"pattern\":{\"fillmode\":\"overlay\",\"size\":10,\"solidity\":0.2}},\"type\":\"histogram\"}],\"mesh3d\":[{\"colorbar\":{\"outlinewidth\":0,\"ticks\":\"\"},\"type\":\"mesh3d\"}],\"parcoords\":[{\"line\":{\"colorbar\":{\"outlinewidth\":0,\"ticks\":\"\"}},\"type\":\"parcoords\"}],\"pie\":[{\"automargin\":true,\"type\":\"pie\"}],\"scatter3d\":[{\"line\":{\"colorbar\":{\"outlinewidth\":0,\"ticks\":\"\"}},\"marker\":{\"colorbar\":{\"outlinewidth\":0,\"ticks\":\"\"}},\"type\":\"scatter3d\"}],\"scattercarpet\":[{\"marker\":{\"colorbar\":{\"outlinewidth\":0,\"ticks\":\"\"}},\"type\":\"scattercarpet\"}],\"scattergeo\":[{\"marker\":{\"colorbar\":{\"outlinewidth\":0,\"ticks\":\"\"}},\"type\":\"scattergeo\"}],\"scattergl\":[{\"marker\":{\"colorbar\":{\"outlinewidth\":0,\"ticks\":\"\"}},\"type\":\"scattergl\"}],\"scattermapbox\":[{\"marker\":{\"colorbar\":{\"outlinewidth\":0,\"ticks\":\"\"}},\"type\":\"scattermapbox\"}],\"scatterpolargl\":[{\"marker\":{\"colorbar\":{\"outlinewidth\":0,\"ticks\":\"\"}},\"type\":\"scatterpolargl\"}],\"scatterpolar\":[{\"marker\":{\"colorbar\":{\"outlinewidth\":0,\"ticks\":\"\"}},\"type\":\"scatterpolar\"}],\"scatter\":[{\"fillpattern\":{\"fillmode\":\"overlay\",\"size\":10,\"solidity\":0.2},\"type\":\"scatter\"}],\"scatterternary\":[{\"marker\":{\"colorbar\":{\"outlinewidth\":0,\"ticks\":\"\"}},\"type\":\"scatterternary\"}],\"surface\":[{\"colorbar\":{\"outlinewidth\":0,\"ticks\":\"\"},\"colorscale\":[[0.0,\"#0d0887\"],[0.1111111111111111,\"#46039f\"],[0.2222222222222222,\"#7201a8\"],[0.3333333333333333,\"#9c179e\"],[0.4444444444444444,\"#bd3786\"],[0.5555555555555556,\"#d8576b\"],[0.6666666666666666,\"#ed7953\"],[0.7777777777777778,\"#fb9f3a\"],[0.8888888888888888,\"#fdca26\"],[1.0,\"#f0f921\"]],\"type\":\"surface\"}],\"table\":[{\"cells\":{\"fill\":{\"color\":\"#EBF0F8\"},\"line\":{\"color\":\"white\"}},\"header\":{\"fill\":{\"color\":\"#C8D4E3\"},\"line\":{\"color\":\"white\"}},\"type\":\"table\"}]},\"layout\":{\"annotationdefaults\":{\"arrowcolor\":\"#2a3f5f\",\"arrowhead\":0,\"arrowwidth\":1},\"autotypenumbers\":\"strict\",\"coloraxis\":{\"colorbar\":{\"outlinewidth\":0,\"ticks\":\"\"}},\"colorscale\":{\"diverging\":[[0,\"#8e0152\"],[0.1,\"#c51b7d\"],[0.2,\"#de77ae\"],[0.3,\"#f1b6da\"],[0.4,\"#fde0ef\"],[0.5,\"#f7f7f7\"],[0.6,\"#e6f5d0\"],[0.7,\"#b8e186\"],[0.8,\"#7fbc41\"],[0.9,\"#4d9221\"],[1,\"#276419\"]],\"sequential\":[[0.0,\"#0d0887\"],[0.1111111111111111,\"#46039f\"],[0.2222222222222222,\"#7201a8\"],[0.3333333333333333,\"#9c179e\"],[0.4444444444444444,\"#bd3786\"],[0.5555555555555556,\"#d8576b\"],[0.6666666666666666,\"#ed7953\"],[0.7777777777777778,\"#fb9f3a\"],[0.8888888888888888,\"#fdca26\"],[1.0,\"#f0f921\"]],\"sequentialminus\":[[0.0,\"#0d0887\"],[0.1111111111111111,\"#46039f\"],[0.2222222222222222,\"#7201a8\"],[0.3333333333333333,\"#9c179e\"],[0.4444444444444444,\"#bd3786\"],[0.5555555555555556,\"#d8576b\"],[0.6666666666666666,\"#ed7953\"],[0.7777777777777778,\"#fb9f3a\"],[0.8888888888888888,\"#fdca26\"],[1.0,\"#f0f921\"]]},\"colorway\":[\"#636efa\",\"#EF553B\",\"#00cc96\",\"#ab63fa\",\"#FFA15A\",\"#19d3f3\",\"#FF6692\",\"#B6E880\",\"#FF97FF\",\"#FECB52\"],\"font\":{\"color\":\"#2a3f5f\"},\"geo\":{\"bgcolor\":\"white\",\"lakecolor\":\"white\",\"landcolor\":\"white\",\"showlakes\":true,\"showland\":true,\"subunitcolor\":\"#C8D4E3\"},\"hoverlabel\":{\"align\":\"left\"},\"hovermode\":\"closest\",\"mapbox\":{\"style\":\"light\"},\"paper_bgcolor\":\"white\",\"plot_bgcolor\":\"white\",\"polar\":{\"angularaxis\":{\"gridcolor\":\"#EBF0F8\",\"linecolor\":\"#EBF0F8\",\"ticks\":\"\"},\"bgcolor\":\"white\",\"radialaxis\":{\"gridcolor\":\"#EBF0F8\",\"linecolor\":\"#EBF0F8\",\"ticks\":\"\"}},\"scene\":{\"xaxis\":{\"backgroundcolor\":\"white\",\"gridcolor\":\"#DFE8F3\",\"gridwidth\":2,\"linecolor\":\"#EBF0F8\",\"showbackground\":true,\"ticks\":\"\",\"zerolinecolor\":\"#EBF0F8\"},\"yaxis\":{\"backgroundcolor\":\"white\",\"gridcolor\":\"#DFE8F3\",\"gridwidth\":2,\"linecolor\":\"#EBF0F8\",\"showbackground\":true,\"ticks\":\"\",\"zerolinecolor\":\"#EBF0F8\"},\"zaxis\":{\"backgroundcolor\":\"white\",\"gridcolor\":\"#DFE8F3\",\"gridwidth\":2,\"linecolor\":\"#EBF0F8\",\"showbackground\":true,\"ticks\":\"\",\"zerolinecolor\":\"#EBF0F8\"}},\"shapedefaults\":{\"line\":{\"color\":\"#2a3f5f\"}},\"ternary\":{\"aaxis\":{\"gridcolor\":\"#DFE8F3\",\"linecolor\":\"#A2B1C6\",\"ticks\":\"\"},\"baxis\":{\"gridcolor\":\"#DFE8F3\",\"linecolor\":\"#A2B1C6\",\"ticks\":\"\"},\"bgcolor\":\"white\",\"caxis\":{\"gridcolor\":\"#DFE8F3\",\"linecolor\":\"#A2B1C6\",\"ticks\":\"\"}},\"title\":{\"x\":0.05},\"xaxis\":{\"automargin\":true,\"gridcolor\":\"#EBF0F8\",\"linecolor\":\"#EBF0F8\",\"ticks\":\"\",\"title\":{\"standoff\":15},\"zerolinecolor\":\"#EBF0F8\",\"zerolinewidth\":2},\"yaxis\":{\"automargin\":true,\"gridcolor\":\"#EBF0F8\",\"linecolor\":\"#EBF0F8\",\"ticks\":\"\",\"title\":{\"standoff\":15},\"zerolinecolor\":\"#EBF0F8\",\"zerolinewidth\":2}}},\"title\":{\"text\":\"Confusion Matrix\"}},                        {\"responsive\": true}                    ).then(function(){\n",
              "                            \n",
              "var gd = document.getElementById('6273247d-6b73-4c3b-8fff-b91ec701f394');\n",
              "var x = new MutationObserver(function (mutations, observer) {{\n",
              "        var display = window.getComputedStyle(gd).display;\n",
              "        if (!display || display === 'none') {{\n",
              "            console.log([gd, 'removed!']);\n",
              "            Plotly.purge(gd);\n",
              "            observer.disconnect();\n",
              "        }}\n",
              "}});\n",
              "\n",
              "// Listen for the removal of the full notebook cells\n",
              "var notebookContainer = gd.closest('#notebook-container');\n",
              "if (notebookContainer) {{\n",
              "    x.observe(notebookContainer, {childList: true});\n",
              "}}\n",
              "\n",
              "// Listen for the clearing of the current output cell\n",
              "var outputEl = gd.closest('.output');\n",
              "if (outputEl) {{\n",
              "    x.observe(outputEl, {childList: true});\n",
              "}}\n",
              "\n",
              "                        })                };                            </script>        </div>\n",
              "</body>\n",
              "</html>"
            ]
          },
          "metadata": {}
        }
      ]
    },
    {
      "cell_type": "markdown",
      "source": [
        "#### Classification Report"
      ],
      "metadata": {
        "id": "UrGJxO0W4woa"
      }
    },
    {
      "cell_type": "code",
      "source": [
        "print(classification_report(np.array(test_df['label_int']), np.array(predicted_labels)))"
      ],
      "metadata": {
        "colab": {
          "base_uri": "https://localhost:8080/"
        },
        "id": "aNsnTWVuu3xj",
        "outputId": "7e693b7b-752a-4760-f920-66b67a76fd0e"
      },
      "execution_count": 42,
      "outputs": [
        {
          "output_type": "stream",
          "name": "stdout",
          "text": [
            "              precision    recall  f1-score   support\n",
            "\n",
            "           0       0.97      0.99      0.98        72\n",
            "           1       0.99      0.88      0.93        96\n",
            "           2       1.00      1.00      1.00        57\n",
            "           3       0.96      1.00      0.98        54\n",
            "           4       1.00      1.00      1.00        40\n",
            "           5       1.00      1.00      1.00        12\n",
            "           6       1.00      1.00      1.00        40\n",
            "           7       1.00      1.00      1.00        86\n",
            "           8       1.00      0.99      0.99        69\n",
            "           9       0.94      1.00      0.97        15\n",
            "          10       1.00      0.99      0.99        87\n",
            "          11       0.95      1.00      0.98        79\n",
            "          12       0.99      1.00      0.99        86\n",
            "          13       1.00      1.00      1.00        80\n",
            "          14       1.00      1.00      1.00        29\n",
            "          16       1.00      1.00      1.00        11\n",
            "          17       0.93      0.95      0.94        87\n",
            "          18       0.94      0.97      0.95        64\n",
            "          19       1.00      1.00      1.00        39\n",
            "\n",
            "    accuracy                           0.98      1103\n",
            "   macro avg       0.98      0.99      0.98      1103\n",
            "weighted avg       0.98      0.98      0.98      1103\n",
            "\n"
          ]
        }
      ]
    },
    {
      "cell_type": "markdown",
      "source": [
        "#### Check Model"
      ],
      "metadata": {
        "id": "4AHxaYcq40H3"
      }
    },
    {
      "cell_type": "code",
      "source": [
        "# showing the first test sample result label\n",
        "np.argmax(predictions[0])"
      ],
      "metadata": {
        "id": "bOt2UPu7NbUW",
        "colab": {
          "base_uri": "https://localhost:8080/"
        },
        "outputId": "c52d8fa6-9d7a-4157-8f0f-e24d0e1d961a"
      },
      "execution_count": 43,
      "outputs": [
        {
          "output_type": "execute_result",
          "data": {
            "text/plain": [
              "10"
            ]
          },
          "metadata": {},
          "execution_count": 43
        }
      ]
    },
    {
      "cell_type": "code",
      "source": [
        "# showing the true label of the first test sample\n",
        "test_df.iloc[0]"
      ],
      "metadata": {
        "colab": {
          "base_uri": "https://localhost:8080/"
        },
        "id": "Fy915bOg41-o",
        "outputId": "400f801e-999a-491f-aee1-d945c5d32a5c"
      },
      "execution_count": 44,
      "outputs": [
        {
          "output_type": "execute_result",
          "data": {
            "text/plain": [
              "text         colour up colour protection hair bath oway col...\n",
              "label                                          Health & Beauty\n",
              "label_int                                                   10\n",
              "Name: 2856, dtype: object"
            ]
          },
          "metadata": {},
          "execution_count": 44
        }
      ]
    },
    {
      "cell_type": "markdown",
      "source": [
        "## Finally in this code we achieved, accuracy of 98% and an average loss of 0.13."
      ],
      "metadata": {
        "id": "E3uoiCiW5iwR"
      }
    },
    {
      "cell_type": "markdown",
      "source": [
        "**Author:** https://farrokhkarimi.github.io/\n",
        "\n",
        "**Editor:** [Alireza Javid](https://github.com/Arj9978/)"
      ],
      "metadata": {
        "id": "CSw7kwIQipyc"
      }
    }
  ]
}