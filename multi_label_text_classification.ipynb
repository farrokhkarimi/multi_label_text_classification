{
  "nbformat": 4,
  "nbformat_minor": 0,
  "metadata": {
    "colab": {
      "provenance": [],
      "machine_shape": "hm",
      "toc_visible": true,
      "include_colab_link": true
    },
    "kernelspec": {
      "name": "python3",
      "display_name": "Python 3"
    },
    "language_info": {
      "name": "python"
    },
    "accelerator": "GPU",
    "gpuClass": "standard"
  },
  "cells": [
    {
      "cell_type": "markdown",
      "metadata": {
        "id": "view-in-github",
        "colab_type": "text"
      },
      "source": [
        "<a href=\"https://colab.research.google.com/github/DelaramRajaei/multi_label_text_classification/blob/main/multi_label_text_classification.ipynb\" target=\"_parent\"><img src=\"https://colab.research.google.com/assets/colab-badge.svg\" alt=\"Open In Colab\"/></a>"
      ]
    },
    {
      "cell_type": "markdown",
      "source": [
        "# Multi-label text classification"
      ],
      "metadata": {
        "id": "cZG_t10KB-OJ"
      }
    },
    {
      "cell_type": "markdown",
      "source": [
        "** Dataset size is not enough to train the model. If we add more layers, it will overfit and on the other hand, if we use more dropout or regularization(methods to overcome overfitting) the model accuracy will we low and arround 50%.\n",
        "However I manged to tackle the issue of overfitting and increase the accuracy up to 85.9%."
      ],
      "metadata": {
        "id": "RhYwOshpQAmA"
      }
    },
    {
      "cell_type": "code",
      "source": [
        "!nvidia-smi"
      ],
      "metadata": {
        "colab": {
          "base_uri": "https://localhost:8080/"
        },
        "id": "3fhOSK8R0AKv",
        "outputId": "dc6f0ff7-1020-496a-b04b-f505e70d2e93"
      },
      "execution_count": 1,
      "outputs": [
        {
          "output_type": "stream",
          "name": "stdout",
          "text": [
            "Sun Feb 26 15:18:15 2023       \n",
            "+-----------------------------------------------------------------------------+\n",
            "| NVIDIA-SMI 525.85.12    Driver Version: 525.85.12    CUDA Version: 12.0     |\n",
            "|-------------------------------+----------------------+----------------------+\n",
            "| GPU  Name        Persistence-M| Bus-Id        Disp.A | Volatile Uncorr. ECC |\n",
            "| Fan  Temp  Perf  Pwr:Usage/Cap|         Memory-Usage | GPU-Util  Compute M. |\n",
            "|                               |                      |               MIG M. |\n",
            "|===============================+======================+======================|\n",
            "|   0  Tesla T4            Off  | 00000000:00:04.0 Off |                    0 |\n",
            "| N/A   59C    P0    28W /  70W |      0MiB / 15360MiB |      0%      Default |\n",
            "|                               |                      |                  N/A |\n",
            "+-------------------------------+----------------------+----------------------+\n",
            "                                                                               \n",
            "+-----------------------------------------------------------------------------+\n",
            "| Processes:                                                                  |\n",
            "|  GPU   GI   CI        PID   Type   Process name                  GPU Memory |\n",
            "|        ID   ID                                                   Usage      |\n",
            "|=============================================================================|\n",
            "|  No running processes found                                                 |\n",
            "+-----------------------------------------------------------------------------+\n"
          ]
        }
      ]
    },
    {
      "cell_type": "markdown",
      "source": [
        "## Information"
      ],
      "metadata": {
        "id": "3vEj1-aNCAEn"
      }
    },
    {
      "cell_type": "markdown",
      "source": [
        "\n",
        "\n",
        "**Author:** [Farrokh Karimi](https://farrokhkarimi.github.io/)  \n",
        "**Edited By:** [Delaram Rajaei](https://delaramrajaei.github.io/)  \n",
        "**Description:** In this notebook, we want to classify the Ronash dataset into 20 category."
      ],
      "metadata": {
        "id": "Bij91pNWQOR5"
      }
    },
    {
      "cell_type": "markdown",
      "source": [
        "Edits can be found by \"# Edited\" tags."
      ],
      "metadata": {
        "id": "vWIRRneJ08Kh"
      }
    },
    {
      "cell_type": "markdown",
      "source": [
        "## Imports"
      ],
      "metadata": {
        "id": "1BgIQvHsCDTS"
      }
    },
    {
      "cell_type": "code",
      "source": [
        "import matplotlib.pyplot as plt\n",
        "import numpy as np\n",
        "import pandas as pd\n",
        "import re\n",
        "import tensorflow as tf\n",
        "import torch\n",
        "\n",
        "from keras.wrappers.scikit_learn import KerasClassifier\n",
        "from sklearn.model_selection import RandomizedSearchCV\n",
        "from sklearn.model_selection import train_test_split\n",
        "from tensorflow.keras import layers\n",
        "from collections import Counter\n",
        "\n",
        "from sklearn.model_selection import RandomizedSearchCV, GridSearchCV\n",
        "from sklearn.metrics import roc_auc_score\n",
        "from sklearn.model_selection import StratifiedKFold\n",
        "from xgboost import XGBClassifier"
      ],
      "metadata": {
        "id": "sL739kMAEsU9"
      },
      "execution_count": 2,
      "outputs": []
    },
    {
      "cell_type": "markdown",
      "source": [
        "## Dataset"
      ],
      "metadata": {
        "id": "xnPPRyMnCF6G"
      }
    },
    {
      "cell_type": "markdown",
      "source": [
        "### Download Dataset"
      ],
      "metadata": {
        "id": "IFqRQPb3CSTA"
      }
    },
    {
      "cell_type": "code",
      "source": [
        "# downloading Data from the Google Drive link\n",
        "!gdown 1Yq3XTnACkvaIiNlhX09Zth55nOau7jQy"
      ],
      "metadata": {
        "colab": {
          "base_uri": "https://localhost:8080/"
        },
        "id": "SHa9m3aLEbyP",
        "outputId": "23a853d2-833e-4a8f-a32f-c01660541c6e"
      },
      "execution_count": 3,
      "outputs": [
        {
          "output_type": "stream",
          "name": "stdout",
          "text": [
            "Downloading...\n",
            "From: https://drive.google.com/uc?id=1Yq3XTnACkvaIiNlhX09Zth55nOau7jQy\n",
            "To: /content/Ronash_DS_Assignment.csv\n",
            "\r  0% 0.00/1.05M [00:00<?, ?B/s]\r100% 1.05M/1.05M [00:00<00:00, 103MB/s]\n"
          ]
        }
      ]
    },
    {
      "cell_type": "code",
      "source": [
        "ls"
      ],
      "metadata": {
        "colab": {
          "base_uri": "https://localhost:8080/"
        },
        "id": "6QpBuoWrC5QS",
        "outputId": "e0981d98-0778-4cf3-eb71-ff1ed93e3540"
      },
      "execution_count": 4,
      "outputs": [
        {
          "output_type": "stream",
          "name": "stdout",
          "text": [
            "Ronash_DS_Assignment.csv  \u001b[0m\u001b[01;34msample_data\u001b[0m/\n"
          ]
        }
      ]
    },
    {
      "cell_type": "code",
      "source": [
        "# reading the csv file as a dataframe\n",
        "df = pd.read_csv('Ronash_DS_Assignment.csv')\n",
        "df"
      ],
      "metadata": {
        "colab": {
          "base_uri": "https://localhost:8080/",
          "height": 467
        },
        "id": "722bMOmzF4_H",
        "outputId": "dbc0ee3c-f11e-40c1-fae1-6a12db8431e4"
      },
      "execution_count": 5,
      "outputs": [
        {
          "output_type": "execute_result",
          "data": {
            "text/plain": [
              "         product_id                                              title  \\\n",
              "0     3937721221199    Fidele Super Premium Adult Large Breed Dog Food   \n",
              "1     7353058033889                    Foldable Pet Toys Linen Storage   \n",
              "2     6594773549129                                     Bok Dok Diaper   \n",
              "3     4802008318014                              Tastybone Toy Chicken   \n",
              "4     1779705151539                Leather Leash Tab - Short Dog Leash   \n",
              "...             ...                                                ...   \n",
              "5265  4637089464407                              Candylab MOO Milk Van   \n",
              "5266  4996632444987  Truck - Modern Era Vehicles -- Red, White -  S...   \n",
              "5267  5528541003927  Car Sticker Flags Decal American Flag Sticker for   \n",
              "5268  1395163889730          Lazer Helmets Bayamo Pit Bull - Full Face   \n",
              "5269  3535679324240                             Deutz Agrotron Tractor   \n",
              "\n",
              "                 vendor                                               tags  \\\n",
              "0                Fidele  ['Adult', 'Bangalore', 'Chennai', 'Chicken', '...   \n",
              "1             Cap Point                                                 []   \n",
              "2             Pets Home  ['Brand_Pet Arabia', 'Category_Pets Home', 'Ca...   \n",
              "3             TastyBone                                                 []   \n",
              "4            Mighty Paw                 ['Leash', 'Leash Tab', 'Training']   \n",
              "...                 ...                                                ...   \n",
              "5265           Candylab  ['3 Years +', 'candylab', 'Discount Products',...   \n",
              "5266   Woodland Scenics  ['HO Scale', 'ho-scale-items', 'vehicles', 'wo...   \n",
              "5267        Cyan Selene                                          ['Other']   \n",
              "5268  OPEN BOX BARGAINS  ['65061090', 'Antiscratch Pinlock Ready Visor'...   \n",
              "5269               Siku  ['$0 to $25', 'diecast-models', 'gift-finder',...   \n",
              "\n",
              "                    category  \n",
              "0     Animals & Pet Supplies  \n",
              "1     Animals & Pet Supplies  \n",
              "2     Animals & Pet Supplies  \n",
              "3     Animals & Pet Supplies  \n",
              "4     Animals & Pet Supplies  \n",
              "...                      ...  \n",
              "5265        Vehicles & Parts  \n",
              "5266        Vehicles & Parts  \n",
              "5267        Vehicles & Parts  \n",
              "5268        Vehicles & Parts  \n",
              "5269        Vehicles & Parts  \n",
              "\n",
              "[5270 rows x 5 columns]"
            ],
            "text/html": [
              "\n",
              "  <div id=\"df-572611a2-1d79-4a3a-a3fb-6d79c9fcae6e\">\n",
              "    <div class=\"colab-df-container\">\n",
              "      <div>\n",
              "<style scoped>\n",
              "    .dataframe tbody tr th:only-of-type {\n",
              "        vertical-align: middle;\n",
              "    }\n",
              "\n",
              "    .dataframe tbody tr th {\n",
              "        vertical-align: top;\n",
              "    }\n",
              "\n",
              "    .dataframe thead th {\n",
              "        text-align: right;\n",
              "    }\n",
              "</style>\n",
              "<table border=\"1\" class=\"dataframe\">\n",
              "  <thead>\n",
              "    <tr style=\"text-align: right;\">\n",
              "      <th></th>\n",
              "      <th>product_id</th>\n",
              "      <th>title</th>\n",
              "      <th>vendor</th>\n",
              "      <th>tags</th>\n",
              "      <th>category</th>\n",
              "    </tr>\n",
              "  </thead>\n",
              "  <tbody>\n",
              "    <tr>\n",
              "      <th>0</th>\n",
              "      <td>3937721221199</td>\n",
              "      <td>Fidele Super Premium Adult Large Breed Dog Food</td>\n",
              "      <td>Fidele</td>\n",
              "      <td>['Adult', 'Bangalore', 'Chennai', 'Chicken', '...</td>\n",
              "      <td>Animals &amp; Pet Supplies</td>\n",
              "    </tr>\n",
              "    <tr>\n",
              "      <th>1</th>\n",
              "      <td>7353058033889</td>\n",
              "      <td>Foldable Pet Toys Linen Storage</td>\n",
              "      <td>Cap Point</td>\n",
              "      <td>[]</td>\n",
              "      <td>Animals &amp; Pet Supplies</td>\n",
              "    </tr>\n",
              "    <tr>\n",
              "      <th>2</th>\n",
              "      <td>6594773549129</td>\n",
              "      <td>Bok Dok Diaper</td>\n",
              "      <td>Pets Home</td>\n",
              "      <td>['Brand_Pet Arabia', 'Category_Pets Home', 'Ca...</td>\n",
              "      <td>Animals &amp; Pet Supplies</td>\n",
              "    </tr>\n",
              "    <tr>\n",
              "      <th>3</th>\n",
              "      <td>4802008318014</td>\n",
              "      <td>Tastybone Toy Chicken</td>\n",
              "      <td>TastyBone</td>\n",
              "      <td>[]</td>\n",
              "      <td>Animals &amp; Pet Supplies</td>\n",
              "    </tr>\n",
              "    <tr>\n",
              "      <th>4</th>\n",
              "      <td>1779705151539</td>\n",
              "      <td>Leather Leash Tab - Short Dog Leash</td>\n",
              "      <td>Mighty Paw</td>\n",
              "      <td>['Leash', 'Leash Tab', 'Training']</td>\n",
              "      <td>Animals &amp; Pet Supplies</td>\n",
              "    </tr>\n",
              "    <tr>\n",
              "      <th>...</th>\n",
              "      <td>...</td>\n",
              "      <td>...</td>\n",
              "      <td>...</td>\n",
              "      <td>...</td>\n",
              "      <td>...</td>\n",
              "    </tr>\n",
              "    <tr>\n",
              "      <th>5265</th>\n",
              "      <td>4637089464407</td>\n",
              "      <td>Candylab MOO Milk Van</td>\n",
              "      <td>Candylab</td>\n",
              "      <td>['3 Years +', 'candylab', 'Discount Products',...</td>\n",
              "      <td>Vehicles &amp; Parts</td>\n",
              "    </tr>\n",
              "    <tr>\n",
              "      <th>5266</th>\n",
              "      <td>4996632444987</td>\n",
              "      <td>Truck - Modern Era Vehicles -- Red, White -  S...</td>\n",
              "      <td>Woodland Scenics</td>\n",
              "      <td>['HO Scale', 'ho-scale-items', 'vehicles', 'wo...</td>\n",
              "      <td>Vehicles &amp; Parts</td>\n",
              "    </tr>\n",
              "    <tr>\n",
              "      <th>5267</th>\n",
              "      <td>5528541003927</td>\n",
              "      <td>Car Sticker Flags Decal American Flag Sticker for</td>\n",
              "      <td>Cyan Selene</td>\n",
              "      <td>['Other']</td>\n",
              "      <td>Vehicles &amp; Parts</td>\n",
              "    </tr>\n",
              "    <tr>\n",
              "      <th>5268</th>\n",
              "      <td>1395163889730</td>\n",
              "      <td>Lazer Helmets Bayamo Pit Bull - Full Face</td>\n",
              "      <td>OPEN BOX BARGAINS</td>\n",
              "      <td>['65061090', 'Antiscratch Pinlock Ready Visor'...</td>\n",
              "      <td>Vehicles &amp; Parts</td>\n",
              "    </tr>\n",
              "    <tr>\n",
              "      <th>5269</th>\n",
              "      <td>3535679324240</td>\n",
              "      <td>Deutz Agrotron Tractor</td>\n",
              "      <td>Siku</td>\n",
              "      <td>['$0 to $25', 'diecast-models', 'gift-finder',...</td>\n",
              "      <td>Vehicles &amp; Parts</td>\n",
              "    </tr>\n",
              "  </tbody>\n",
              "</table>\n",
              "<p>5270 rows × 5 columns</p>\n",
              "</div>\n",
              "      <button class=\"colab-df-convert\" onclick=\"convertToInteractive('df-572611a2-1d79-4a3a-a3fb-6d79c9fcae6e')\"\n",
              "              title=\"Convert this dataframe to an interactive table.\"\n",
              "              style=\"display:none;\">\n",
              "        \n",
              "  <svg xmlns=\"http://www.w3.org/2000/svg\" height=\"24px\"viewBox=\"0 0 24 24\"\n",
              "       width=\"24px\">\n",
              "    <path d=\"M0 0h24v24H0V0z\" fill=\"none\"/>\n",
              "    <path d=\"M18.56 5.44l.94 2.06.94-2.06 2.06-.94-2.06-.94-.94-2.06-.94 2.06-2.06.94zm-11 1L8.5 8.5l.94-2.06 2.06-.94-2.06-.94L8.5 2.5l-.94 2.06-2.06.94zm10 10l.94 2.06.94-2.06 2.06-.94-2.06-.94-.94-2.06-.94 2.06-2.06.94z\"/><path d=\"M17.41 7.96l-1.37-1.37c-.4-.4-.92-.59-1.43-.59-.52 0-1.04.2-1.43.59L10.3 9.45l-7.72 7.72c-.78.78-.78 2.05 0 2.83L4 21.41c.39.39.9.59 1.41.59.51 0 1.02-.2 1.41-.59l7.78-7.78 2.81-2.81c.8-.78.8-2.07 0-2.86zM5.41 20L4 18.59l7.72-7.72 1.47 1.35L5.41 20z\"/>\n",
              "  </svg>\n",
              "      </button>\n",
              "      \n",
              "  <style>\n",
              "    .colab-df-container {\n",
              "      display:flex;\n",
              "      flex-wrap:wrap;\n",
              "      gap: 12px;\n",
              "    }\n",
              "\n",
              "    .colab-df-convert {\n",
              "      background-color: #E8F0FE;\n",
              "      border: none;\n",
              "      border-radius: 50%;\n",
              "      cursor: pointer;\n",
              "      display: none;\n",
              "      fill: #1967D2;\n",
              "      height: 32px;\n",
              "      padding: 0 0 0 0;\n",
              "      width: 32px;\n",
              "    }\n",
              "\n",
              "    .colab-df-convert:hover {\n",
              "      background-color: #E2EBFA;\n",
              "      box-shadow: 0px 1px 2px rgba(60, 64, 67, 0.3), 0px 1px 3px 1px rgba(60, 64, 67, 0.15);\n",
              "      fill: #174EA6;\n",
              "    }\n",
              "\n",
              "    [theme=dark] .colab-df-convert {\n",
              "      background-color: #3B4455;\n",
              "      fill: #D2E3FC;\n",
              "    }\n",
              "\n",
              "    [theme=dark] .colab-df-convert:hover {\n",
              "      background-color: #434B5C;\n",
              "      box-shadow: 0px 1px 3px 1px rgba(0, 0, 0, 0.15);\n",
              "      filter: drop-shadow(0px 1px 2px rgba(0, 0, 0, 0.3));\n",
              "      fill: #FFFFFF;\n",
              "    }\n",
              "  </style>\n",
              "\n",
              "      <script>\n",
              "        const buttonEl =\n",
              "          document.querySelector('#df-572611a2-1d79-4a3a-a3fb-6d79c9fcae6e button.colab-df-convert');\n",
              "        buttonEl.style.display =\n",
              "          google.colab.kernel.accessAllowed ? 'block' : 'none';\n",
              "\n",
              "        async function convertToInteractive(key) {\n",
              "          const element = document.querySelector('#df-572611a2-1d79-4a3a-a3fb-6d79c9fcae6e');\n",
              "          const dataTable =\n",
              "            await google.colab.kernel.invokeFunction('convertToInteractive',\n",
              "                                                     [key], {});\n",
              "          if (!dataTable) return;\n",
              "\n",
              "          const docLinkHtml = 'Like what you see? Visit the ' +\n",
              "            '<a target=\"_blank\" href=https://colab.research.google.com/notebooks/data_table.ipynb>data table notebook</a>'\n",
              "            + ' to learn more about interactive tables.';\n",
              "          element.innerHTML = '';\n",
              "          dataTable['output_type'] = 'display_data';\n",
              "          await google.colab.output.renderOutput(dataTable, element);\n",
              "          const docLink = document.createElement('div');\n",
              "          docLink.innerHTML = docLinkHtml;\n",
              "          element.appendChild(docLink);\n",
              "        }\n",
              "      </script>\n",
              "    </div>\n",
              "  </div>\n",
              "  "
            ]
          },
          "metadata": {},
          "execution_count": 5
        }
      ]
    },
    {
      "cell_type": "markdown",
      "source": [
        "### Dataset Information"
      ],
      "metadata": {
        "id": "CbII9Lq6CYV5"
      }
    },
    {
      "cell_type": "code",
      "source": [
        "# counting the number of each label\n",
        "df['category'].value_counts()"
      ],
      "metadata": {
        "colab": {
          "base_uri": "https://localhost:8080/"
        },
        "id": "6E1ZDXyPlr6y",
        "outputId": "b58f4f04-6551-48f1-c456-26526f6b04a8"
      },
      "execution_count": 6,
      "outputs": [
        {
          "output_type": "execute_result",
          "data": {
            "text/plain": [
              "Apparel & Accessories        1000\n",
              "Animals & Pet Supplies        500\n",
              "Food, Beverages & Tobacco     400\n",
              "Sporting Goods                400\n",
              "Luggage & Bags                400\n",
              "Home & Garden                 400\n",
              "Health & Beauty               400\n",
              "Media                         300\n",
              "Toys & Games                  300\n",
              "Furniture                     200\n",
              "Baby & Toddler                200\n",
              "Arts & Entertainment          200\n",
              "Electronics                   100\n",
              "Business & Industrial         100\n",
              "Office Supplies               100\n",
              "Vehicles & Parts              100\n",
              "Hardware                       50\n",
              "Cameras & Optics               50\n",
              "Software                       50\n",
              "Religious & Ceremonial         20\n",
              "Name: category, dtype: int64"
            ]
          },
          "metadata": {},
          "execution_count": 6
        }
      ]
    },
    {
      "cell_type": "code",
      "source": [
        "# counting how many indices are duplicated in each column\n",
        "print(f\"There are {sum(df['title'].duplicated())} duplicate title.\")\n",
        "print(f\"There are {sum(df['vendor'].duplicated())} duplicate vondor.\")\n",
        "print(f\"There are {sum(df['tags'].duplicated())} duplicate tags.\")"
      ],
      "metadata": {
        "colab": {
          "base_uri": "https://localhost:8080/"
        },
        "id": "Un_ggKoLUAEf",
        "outputId": "3a191697-91ee-4eb8-b310-74658f1780c5"
      },
      "execution_count": 7,
      "outputs": [
        {
          "output_type": "stream",
          "name": "stdout",
          "text": [
            "There are 0 duplicate title.\n",
            "There are 1256 duplicate vondor.\n",
            "There are 716 duplicate tags.\n"
          ]
        }
      ]
    },
    {
      "cell_type": "code",
      "source": [
        "# counting the number of Nan samples\n",
        "df.isnull().values.sum()"
      ],
      "metadata": {
        "colab": {
          "base_uri": "https://localhost:8080/"
        },
        "id": "VD95efZwCRYT",
        "outputId": "c46cf22b-da20-496b-cfd0-cc9ff9e8fecb"
      },
      "execution_count": 8,
      "outputs": [
        {
          "output_type": "execute_result",
          "data": {
            "text/plain": [
              "3"
            ]
          },
          "metadata": {},
          "execution_count": 8
        }
      ]
    },
    {
      "cell_type": "markdown",
      "source": [
        "There are just 3 Nan samples in the dataset and we delete them."
      ],
      "metadata": {
        "id": "rhPJQuDEb8oN"
      }
    },
    {
      "cell_type": "markdown",
      "source": [
        "### Cleaning Dataset"
      ],
      "metadata": {
        "id": "PT6z8R1sCeXs"
      }
    },
    {
      "cell_type": "code",
      "source": [
        "# Edited\n",
        "# Remove 3 rows with null values on the current dataframe.\n",
        "df.dropna(axis=0, inplace=True)\n",
        "# check if null values are removed properly.\n",
        "df.isnull().values.sum()"
      ],
      "metadata": {
        "colab": {
          "base_uri": "https://localhost:8080/"
        },
        "id": "SHsosYjU2BeI",
        "outputId": "dd185424-59f2-4cbc-dd62-cdab06063b84"
      },
      "execution_count": 9,
      "outputs": [
        {
          "output_type": "execute_result",
          "data": {
            "text/plain": [
              "0"
            ]
          },
          "metadata": {},
          "execution_count": 9
        }
      ]
    },
    {
      "cell_type": "code",
      "source": [
        "# the function for extracting and standardizing the sentences\n",
        "def text_extraction(dfi):\n",
        "  # in this function, we concatenate text feature parts of the data as a sentence\n",
        "  sentence = ' '.join([dfi['title'], str(dfi['vendor']), dfi['tags']])\n",
        "  # Remove punctuations\n",
        "  sentence = re.sub('[^a-zA-Z0-9$.]', ' ', sentence)\n",
        "  # Single character removal\n",
        "  sentence = re.sub(r\"\\s+[a-zA-Z]\\s+\", ' ', sentence)\n",
        "  # Removing multiple spaces\n",
        "  sentence = re.sub(r'\\s+', ' ', sentence)\n",
        "  # Changint to lowercase\n",
        "  sentence = sentence.lower()\n",
        "  return sentence\n",
        "\n",
        "# printing 10 sample sentences\n",
        "for i in range(10):\n",
        "  print(text_extraction(df.iloc[i]))"
      ],
      "metadata": {
        "colab": {
          "base_uri": "https://localhost:8080/"
        },
        "id": "aH9UzP7-__P2",
        "outputId": "2afaac10-938b-4f86-b585-79418f31dec9"
      },
      "execution_count": 10,
      "outputs": [
        {
          "output_type": "stream",
          "name": "stdout",
          "text": [
            "fidele super premium adult large breed dog food fidele adult bangalore chennai chicken doberman dog dry foods fidele german shepherd golden retriever great dane highpriority imported labrador less than 1000 less than 2000 less than 500 mastiff orange pet nutrition \n",
            "foldable pet toys linen storage cap point \n",
            "bok dok diaper pets home brand pet arabia category pets home category small pets supplies type pet home type pet supplies \n",
            "tastybone toy chicken tastybone \n",
            "leather leash tab short dog leash mighty paw leash leash tab training \n",
            "pridebites texas guitar dog toy pride bites brand pridebites toy type plush \n",
            "burns sensitive pork potato burns 10 25 25 50 50 75 adult burns coat dog food food delivery jansale18 natural nonsale19 sensitive size 12kg size 2kg size 6kg skin \n",
            "bully sticks dog toy adog.co bully sticks dog chew toys dog toys \n",
            "kazoo tough giraffe dog toy kazoo brand kazoo june2021 kazoo material plush plush \n",
            "orgo dog biscuits fresh milk petku brand orgo category dogs dogs lifestage all lifestages orgo price rp 0 to rp 100.000 subcategory treats treats \n"
          ]
        }
      ]
    },
    {
      "cell_type": "code",
      "source": [
        "# creating the dataset\n",
        "dataset = pd.DataFrame(columns=['text', 'label'])\n",
        "for i in range(len(df)):\n",
        "  dataset = dataset.append({'text':text_extraction(df.iloc[i]), 'label':df.iloc[i]['category']}, ignore_index = True)\n",
        "\n",
        "# creating integer labels for multiclass training\n",
        "dataset['label_int'] = pd.Categorical(dataset['label']).codes\n",
        "dataset"
      ],
      "metadata": {
        "colab": {
          "base_uri": "https://localhost:8080/",
          "height": 423
        },
        "id": "7x4WG7NC9Xz3",
        "outputId": "2cf7d4e9-3e4f-4410-d942-41bebbc9b918"
      },
      "execution_count": 11,
      "outputs": [
        {
          "output_type": "execute_result",
          "data": {
            "text/plain": [
              "                                                   text  \\\n",
              "0     fidele super premium adult large breed dog foo...   \n",
              "1            foldable pet toys linen storage cap point    \n",
              "2     bok dok diaper pets home brand pet arabia cate...   \n",
              "3                      tastybone toy chicken tastybone    \n",
              "4     leather leash tab short dog leash mighty paw l...   \n",
              "...                                                 ...   \n",
              "5262  candylab moo milk van candylab 3 years candyla...   \n",
              "5263  truck modern era vehicles red white scale ho w...   \n",
              "5264  car sticker flags decal american flag sticker ...   \n",
              "5265  lazer helmets bayamo pit bull full face open b...   \n",
              "5266  deutz agrotron tractor siku $0 to $25 diecast ...   \n",
              "\n",
              "                       label  label_int  \n",
              "0     Animals & Pet Supplies          0  \n",
              "1     Animals & Pet Supplies          0  \n",
              "2     Animals & Pet Supplies          0  \n",
              "3     Animals & Pet Supplies          0  \n",
              "4     Animals & Pet Supplies          0  \n",
              "...                      ...        ...  \n",
              "5262        Vehicles & Parts         19  \n",
              "5263        Vehicles & Parts         19  \n",
              "5264        Vehicles & Parts         19  \n",
              "5265        Vehicles & Parts         19  \n",
              "5266        Vehicles & Parts         19  \n",
              "\n",
              "[5267 rows x 3 columns]"
            ],
            "text/html": [
              "\n",
              "  <div id=\"df-e3a7d355-18e5-4013-8d90-c5be63e5f204\">\n",
              "    <div class=\"colab-df-container\">\n",
              "      <div>\n",
              "<style scoped>\n",
              "    .dataframe tbody tr th:only-of-type {\n",
              "        vertical-align: middle;\n",
              "    }\n",
              "\n",
              "    .dataframe tbody tr th {\n",
              "        vertical-align: top;\n",
              "    }\n",
              "\n",
              "    .dataframe thead th {\n",
              "        text-align: right;\n",
              "    }\n",
              "</style>\n",
              "<table border=\"1\" class=\"dataframe\">\n",
              "  <thead>\n",
              "    <tr style=\"text-align: right;\">\n",
              "      <th></th>\n",
              "      <th>text</th>\n",
              "      <th>label</th>\n",
              "      <th>label_int</th>\n",
              "    </tr>\n",
              "  </thead>\n",
              "  <tbody>\n",
              "    <tr>\n",
              "      <th>0</th>\n",
              "      <td>fidele super premium adult large breed dog foo...</td>\n",
              "      <td>Animals &amp; Pet Supplies</td>\n",
              "      <td>0</td>\n",
              "    </tr>\n",
              "    <tr>\n",
              "      <th>1</th>\n",
              "      <td>foldable pet toys linen storage cap point</td>\n",
              "      <td>Animals &amp; Pet Supplies</td>\n",
              "      <td>0</td>\n",
              "    </tr>\n",
              "    <tr>\n",
              "      <th>2</th>\n",
              "      <td>bok dok diaper pets home brand pet arabia cate...</td>\n",
              "      <td>Animals &amp; Pet Supplies</td>\n",
              "      <td>0</td>\n",
              "    </tr>\n",
              "    <tr>\n",
              "      <th>3</th>\n",
              "      <td>tastybone toy chicken tastybone</td>\n",
              "      <td>Animals &amp; Pet Supplies</td>\n",
              "      <td>0</td>\n",
              "    </tr>\n",
              "    <tr>\n",
              "      <th>4</th>\n",
              "      <td>leather leash tab short dog leash mighty paw l...</td>\n",
              "      <td>Animals &amp; Pet Supplies</td>\n",
              "      <td>0</td>\n",
              "    </tr>\n",
              "    <tr>\n",
              "      <th>...</th>\n",
              "      <td>...</td>\n",
              "      <td>...</td>\n",
              "      <td>...</td>\n",
              "    </tr>\n",
              "    <tr>\n",
              "      <th>5262</th>\n",
              "      <td>candylab moo milk van candylab 3 years candyla...</td>\n",
              "      <td>Vehicles &amp; Parts</td>\n",
              "      <td>19</td>\n",
              "    </tr>\n",
              "    <tr>\n",
              "      <th>5263</th>\n",
              "      <td>truck modern era vehicles red white scale ho w...</td>\n",
              "      <td>Vehicles &amp; Parts</td>\n",
              "      <td>19</td>\n",
              "    </tr>\n",
              "    <tr>\n",
              "      <th>5264</th>\n",
              "      <td>car sticker flags decal american flag sticker ...</td>\n",
              "      <td>Vehicles &amp; Parts</td>\n",
              "      <td>19</td>\n",
              "    </tr>\n",
              "    <tr>\n",
              "      <th>5265</th>\n",
              "      <td>lazer helmets bayamo pit bull full face open b...</td>\n",
              "      <td>Vehicles &amp; Parts</td>\n",
              "      <td>19</td>\n",
              "    </tr>\n",
              "    <tr>\n",
              "      <th>5266</th>\n",
              "      <td>deutz agrotron tractor siku $0 to $25 diecast ...</td>\n",
              "      <td>Vehicles &amp; Parts</td>\n",
              "      <td>19</td>\n",
              "    </tr>\n",
              "  </tbody>\n",
              "</table>\n",
              "<p>5267 rows × 3 columns</p>\n",
              "</div>\n",
              "      <button class=\"colab-df-convert\" onclick=\"convertToInteractive('df-e3a7d355-18e5-4013-8d90-c5be63e5f204')\"\n",
              "              title=\"Convert this dataframe to an interactive table.\"\n",
              "              style=\"display:none;\">\n",
              "        \n",
              "  <svg xmlns=\"http://www.w3.org/2000/svg\" height=\"24px\"viewBox=\"0 0 24 24\"\n",
              "       width=\"24px\">\n",
              "    <path d=\"M0 0h24v24H0V0z\" fill=\"none\"/>\n",
              "    <path d=\"M18.56 5.44l.94 2.06.94-2.06 2.06-.94-2.06-.94-.94-2.06-.94 2.06-2.06.94zm-11 1L8.5 8.5l.94-2.06 2.06-.94-2.06-.94L8.5 2.5l-.94 2.06-2.06.94zm10 10l.94 2.06.94-2.06 2.06-.94-2.06-.94-.94-2.06-.94 2.06-2.06.94z\"/><path d=\"M17.41 7.96l-1.37-1.37c-.4-.4-.92-.59-1.43-.59-.52 0-1.04.2-1.43.59L10.3 9.45l-7.72 7.72c-.78.78-.78 2.05 0 2.83L4 21.41c.39.39.9.59 1.41.59.51 0 1.02-.2 1.41-.59l7.78-7.78 2.81-2.81c.8-.78.8-2.07 0-2.86zM5.41 20L4 18.59l7.72-7.72 1.47 1.35L5.41 20z\"/>\n",
              "  </svg>\n",
              "      </button>\n",
              "      \n",
              "  <style>\n",
              "    .colab-df-container {\n",
              "      display:flex;\n",
              "      flex-wrap:wrap;\n",
              "      gap: 12px;\n",
              "    }\n",
              "\n",
              "    .colab-df-convert {\n",
              "      background-color: #E8F0FE;\n",
              "      border: none;\n",
              "      border-radius: 50%;\n",
              "      cursor: pointer;\n",
              "      display: none;\n",
              "      fill: #1967D2;\n",
              "      height: 32px;\n",
              "      padding: 0 0 0 0;\n",
              "      width: 32px;\n",
              "    }\n",
              "\n",
              "    .colab-df-convert:hover {\n",
              "      background-color: #E2EBFA;\n",
              "      box-shadow: 0px 1px 2px rgba(60, 64, 67, 0.3), 0px 1px 3px 1px rgba(60, 64, 67, 0.15);\n",
              "      fill: #174EA6;\n",
              "    }\n",
              "\n",
              "    [theme=dark] .colab-df-convert {\n",
              "      background-color: #3B4455;\n",
              "      fill: #D2E3FC;\n",
              "    }\n",
              "\n",
              "    [theme=dark] .colab-df-convert:hover {\n",
              "      background-color: #434B5C;\n",
              "      box-shadow: 0px 1px 3px 1px rgba(0, 0, 0, 0.15);\n",
              "      filter: drop-shadow(0px 1px 2px rgba(0, 0, 0, 0.3));\n",
              "      fill: #FFFFFF;\n",
              "    }\n",
              "  </style>\n",
              "\n",
              "      <script>\n",
              "        const buttonEl =\n",
              "          document.querySelector('#df-e3a7d355-18e5-4013-8d90-c5be63e5f204 button.colab-df-convert');\n",
              "        buttonEl.style.display =\n",
              "          google.colab.kernel.accessAllowed ? 'block' : 'none';\n",
              "\n",
              "        async function convertToInteractive(key) {\n",
              "          const element = document.querySelector('#df-e3a7d355-18e5-4013-8d90-c5be63e5f204');\n",
              "          const dataTable =\n",
              "            await google.colab.kernel.invokeFunction('convertToInteractive',\n",
              "                                                     [key], {});\n",
              "          if (!dataTable) return;\n",
              "\n",
              "          const docLinkHtml = 'Like what you see? Visit the ' +\n",
              "            '<a target=\"_blank\" href=https://colab.research.google.com/notebooks/data_table.ipynb>data table notebook</a>'\n",
              "            + ' to learn more about interactive tables.';\n",
              "          element.innerHTML = '';\n",
              "          dataTable['output_type'] = 'display_data';\n",
              "          await google.colab.output.renderOutput(dataTable, element);\n",
              "          const docLink = document.createElement('div');\n",
              "          docLink.innerHTML = docLinkHtml;\n",
              "          element.appendChild(docLink);\n",
              "        }\n",
              "      </script>\n",
              "    </div>\n",
              "  </div>\n",
              "  "
            ]
          },
          "metadata": {},
          "execution_count": 11
        }
      ]
    },
    {
      "cell_type": "code",
      "source": [
        "# extracting the names of the labels\n",
        "labels_names = list(Counter(dataset['label']).keys())\n",
        "labels_names"
      ],
      "metadata": {
        "colab": {
          "base_uri": "https://localhost:8080/"
        },
        "id": "9uHdTY3p9Xfr",
        "outputId": "f187ce8e-4765-4cf0-de86-c5d2b9cbf748"
      },
      "execution_count": 12,
      "outputs": [
        {
          "output_type": "execute_result",
          "data": {
            "text/plain": [
              "['Animals & Pet Supplies',\n",
              " 'Apparel & Accessories',\n",
              " 'Arts & Entertainment',\n",
              " 'Baby & Toddler',\n",
              " 'Business & Industrial',\n",
              " 'Cameras & Optics',\n",
              " 'Electronics',\n",
              " 'Food, Beverages & Tobacco',\n",
              " 'Furniture',\n",
              " 'Hardware',\n",
              " 'Health & Beauty',\n",
              " 'Home & Garden',\n",
              " 'Luggage & Bags',\n",
              " 'Media',\n",
              " 'Office Supplies',\n",
              " 'Religious & Ceremonial',\n",
              " 'Software',\n",
              " 'Sporting Goods',\n",
              " 'Toys & Games',\n",
              " 'Vehicles & Parts']"
            ]
          },
          "metadata": {},
          "execution_count": 12
        }
      ]
    },
    {
      "cell_type": "code",
      "source": [
        "# printing each integer label and its corresponding name label\n",
        "for i, label in enumerate(labels_names):\n",
        "  print(\"Label\", i, \"corresponds to\", label)"
      ],
      "metadata": {
        "colab": {
          "base_uri": "https://localhost:8080/"
        },
        "id": "QXCgd6QTC_k6",
        "outputId": "167a55e8-e77d-4a59-f640-62ea5ba46f9f"
      },
      "execution_count": 13,
      "outputs": [
        {
          "output_type": "stream",
          "name": "stdout",
          "text": [
            "Label 0 corresponds to Animals & Pet Supplies\n",
            "Label 1 corresponds to Apparel & Accessories\n",
            "Label 2 corresponds to Arts & Entertainment\n",
            "Label 3 corresponds to Baby & Toddler\n",
            "Label 4 corresponds to Business & Industrial\n",
            "Label 5 corresponds to Cameras & Optics\n",
            "Label 6 corresponds to Electronics\n",
            "Label 7 corresponds to Food, Beverages & Tobacco\n",
            "Label 8 corresponds to Furniture\n",
            "Label 9 corresponds to Hardware\n",
            "Label 10 corresponds to Health & Beauty\n",
            "Label 11 corresponds to Home & Garden\n",
            "Label 12 corresponds to Luggage & Bags\n",
            "Label 13 corresponds to Media\n",
            "Label 14 corresponds to Office Supplies\n",
            "Label 15 corresponds to Religious & Ceremonial\n",
            "Label 16 corresponds to Software\n",
            "Label 17 corresponds to Sporting Goods\n",
            "Label 18 corresponds to Toys & Games\n",
            "Label 19 corresponds to Vehicles & Parts\n"
          ]
        }
      ]
    },
    {
      "cell_type": "markdown",
      "source": [
        "## DataFrames"
      ],
      "metadata": {
        "id": "EXOx96NLDD98"
      }
    },
    {
      "cell_type": "code",
      "source": [
        "# splitting dataset to train, validation, and test dataframes\n",
        "train_df, test_df= train_test_split(dataset, test_size=0.2, random_state=42)\n",
        "val_df = test_df.sample(frac=0.5)\n",
        "test_df.drop(val_df.index, inplace=True)\n",
        "\n",
        "print(f\"Number of samples in training set: {len(train_df)}\")\n",
        "print(f\"Number of samples in validation set: {len(val_df)}\")\n",
        "print(f\"Number of samples in test set: {len(test_df)}\")\n",
        "\n",
        "# extracting texts and labels from dataframes\n",
        "train_texts = train_df['text']\n",
        "train_labels = train_df['label_int']\n",
        "val_texts = val_df['text']\n",
        "val_labels = val_df['label_int']\n",
        "test_texts = test_df['text']\n",
        "test_labels = test_df['label_int']"
      ],
      "metadata": {
        "colab": {
          "base_uri": "https://localhost:8080/"
        },
        "id": "bWd2Rfp69X8g",
        "outputId": "ed09e9e5-21f3-4e79-cea1-6c939cacd43f"
      },
      "execution_count": 14,
      "outputs": [
        {
          "output_type": "stream",
          "name": "stdout",
          "text": [
            "Number of samples in training set: 4213\n",
            "Number of samples in validation set: 527\n",
            "Number of samples in test set: 527\n"
          ]
        }
      ]
    },
    {
      "cell_type": "code",
      "source": [
        "# creating data generators with batch size 32\n",
        "batch_size = 50\n",
        "raw_train_batch = tf.data.Dataset.from_tensor_slices((train_texts, train_labels)).batch(batch_size)\n",
        "raw_val_batch = tf.data.Dataset.from_tensor_slices((val_texts, val_labels)).batch(batch_size)\n",
        "raw_test_batch = tf.data.Dataset.from_tensor_slices((test_texts, test_labels)).batch(batch_size)\n",
        "\n",
        "# printing texts and labels of a batch of raw train\n",
        "for text, label in raw_train_batch.take(1):\n",
        "  print('Texts: {}'.format(text))\n",
        "  print('labels: {}'.format(label))"
      ],
      "metadata": {
        "colab": {
          "base_uri": "https://localhost:8080/"
        },
        "id": "C4kA4X60zkC3",
        "outputId": "5bf3b626-079b-438c-c60d-63aab0262b33"
      },
      "execution_count": 15,
      "outputs": [
        {
          "output_type": "stream",
          "name": "stdout",
          "text": [
            "Texts: [b'seachem multitest ammonia seachem '\n",
            " b'smart electric cat teasing toy pet clever cat toys cats rr track catproducts rr track cattoys '\n",
            " b'ocean hunter wood sculpture novica united inc assembly required 492 assembly requiredstr no assembly required class home accessories classid 581 color 5829 colorstr brown department decor departmentid 542 margin 60 material style 33 stylestr modern subclass home accessories subclassid 793 '\n",
            " b'impala rollerskates leopard impala cheetah impala leopard red roller skate rollerskate skate skates vegan '\n",
            " b'diy personalised dreamcatcher activity kit sea animal doxbox store '\n",
            " b'treasure by estetica remy human hair wig closeout estetica liquid show percent off show percent off '\n",
            " b'etching cl grenadine drapery upholstery fabric by kaufmann kaufmann hidden pk ikat khaki multi color print red shop fabric throw pillows trim wallpaper ikat shop fabric throw pillows trim wallpaper kaufmann shop fabric throw pillows trim wallpaper prints '\n",
            " b'bleed proof white opaque watercolor paint dr. ph martin brand drphmartin dr. ph martin flashsale0621 medium medium artjournaling paint priority tutorial fallpumpkin tutorial fancyfeather tutorial galaxywolf tutorial nebula type paint '\n",
            " b'party suede peep toe embellished chunky heel sandals meet yours fashion chunky heel sandals club sandals dress sandals fashion sandals heel sandals high heel sandals new arrivals open toe sandals party sandals peep toe sandals plus size sandals sandals suede sandals summer sandals '\n",
            " b'sea grass rolling tip empire glassworks rolling tip unfinished '\n",
            " b'interactive iq treat ball toy for dogs cats cj feeder waterer pet supplies '\n",
            " b'danek black nubuck stevemadden danek black nubuck danek black boots brand blondo category men shoes cf size 10 cf size 10 5 cf size 11 cf size 12 cf size 7 5 cf size 8 cf size 8 5 cf size 9 cf size 9 5 color black flat 0 1 inch full price in stock ready to ship low 1 2 inches men new price over $150 scm category boots men style lace up style leather style waterproof type boots waterproof '\n",
            " b'just female hilda pleated skirt oranges print just female hilda just female midi pleated sheer spo disabled '\n",
            " b'natural factors sambucus black elderberry natural factors 068958047072 cold flu treatment immune support new nf04707 '\n",
            " b'the triumph iii briefcase lotuff leather '\n",
            " b'p.l.a.y. zoomierex fantastug sea foam dog toy p.l.a.y. brand p.l.a.y. summer collection toy type fetch toy type floating toy type rubber toy type tug twr '\n",
            " b'luggage tag nantucket maya traditions accessories all accessories collection all wholesale collection bag charms bis hidden by recipient for galentines by recipient for the long distance friend filter artisan maya traditions filter color green filter country guatemala filter materials cotton finalsale cart flexify gift guide under $25 collection graduation gifts collection green guatemala last chance collection luggage tags maya traditions maya traditions collections travel travel accessories collection wholesale wholesale travel collection wipd2020 woven '\n",
            " b'wide openning diaper bag backpack maroon chronos baby bag baby bag for mommy baby bags baby bags for mom baby changing bag baby diaper bag backpack bag bags changing bag designer bag diaper bag diaper bag backpack fashion bag free shipping bags maternity bag mom bag mommy bag mummy bag nappy bag stroller bag travel bag travel bag organizer waterproof bag '\n",
            " b'knorr potato mushroom steinpilz soup knorr brands knorr categories soups countries germany cream german germany ingredients cream ingredients mushroom ingredients potatoes knorr pantry seasonings spices spice storage pantry '\n",
            " b'inkolo side table uniqwa category furniture category occasional tables category tables deposit latest item range african furniture range island resort range organic '\n",
            " b'jabberwocky jellybean games availability in stock category children google true inv product type board games '\n",
            " b'black agate ring large in charge power stone adjustable bronze dig crystals agate black bronze chakra root chakra color black color bronze intentions protection jewelry jewelry rings protection crystals ring size adjustable rings rings metal root chakra stone agate type jewelry '\n",
            " b'tabs tattoo artist barrier sheets hextat barrier covid hextat medical '\n",
            " b'dog pakiet dnp pc skin support pick me pets brand dolina noteci category pet supplies type dog food '\n",
            " b'organic lace ruffle bib various colors ovedbaby bib bibs sale '\n",
            " b'silver white clear rhinestones metal band one size all decd out one size band rhinestones silver '\n",
            " b'hanover lavallette umbrella in blue lavalletteumb hanover hanover outdoor furniture umbrellas '\n",
            " b'braided bone orange tall tails brand tall tails pet dogs price $20.00 $29.99 type interactive toys '\n",
            " b'brother bond cask strength bourbon whiskey brother bond tab1 about brothers bond brothers bond engraving fall flavors father day memorial day size 750ml whiskey youngs '\n",
            " b'imex phillips drive drywall zinc screws imex imex screws washers tools '\n",
            " b'playground patchwork backpack primecut '\n",
            " b'giant jenga block game all things for kids giant games in stock outdoor games spo disabled wooden toys '\n",
            " b'hal leonard perfect pitch method hal leonard always show discount allowed for instrument any hal leonard lessons practice music theory reference sheet music any sheet music category lessons practice sheet music category theory reference spo default spo enabled '\n",
            " b'ken ultra premium egg yolk flake ken fish food flake food kens kens ultra '\n",
            " b'carlton unisex squash badminton running goggle carlton carlton r cricket '\n",
            " b'drill knowledge battling vs the wall infamous paintball advanced video kevin kali rudulph members everything members only members only video '\n",
            " b'shimmer silk crinkle chiffon black the fabric store online category crinkle chiffon category sheer category silk category woven color black color metallic colour black colour metallic print no pattern product fabric product wovens project dresses tunics project occasionwear project shirts tops remnant sale stretch non stretch weight lightweight width 126 155cm width 50 60 '\n",
            " b'warrior official canada lacrosse game ball warrior ball canada game lacrosse official warrior white '\n",
            " b'duca by matiste fermo duca by matiste '\n",
            " b'flat hoop matsu jewellery handmade hoops silver silver earring silver stud sterling silver sterling silver stud '\n",
            " b'car culture hat chemical guys best chemical guys clothing gift hat hats merchandise new '\n",
            " b'lettia memory foam clik all purpose girth lettia dropship union girths horse new tack '\n",
            " b'iron flamingo pink lady belgian wit ale iron flamingo beer cola iron flamingo '\n",
            " b'finner bench arteriors benches new '\n",
            " b'sleeping bag storage sack mont dry bags and accessories packs sleeping bag sleeping bag storage sack sleeping bags '\n",
            " b'retractable everywhere table tennis set ecomstock baby toddler toys '\n",
            " b'euca poplin super random dot toko ncit 100 tencel 714a 715d composition tencel fabric woven type print '\n",
            " b'nfl rico industries bling chrome license plate frame with glitter accent new... rico industries 12.25 inches accent afco afco au afco aub00j10lv9o bling chrome color fcgl1401 featured from research featured item frame giants glitter industries license new nfl plate price 20 rico ship to us team with york '\n",
            " b'sunrise bow tie puccissime pet couture handmade dog accessories luxury dog products pet supplies '\n",
            " b'inflatable backpacking sleeping pad with pillow camping hiking mat harry jean backpacking sleeping pad best air mattress for camping best backpacking sleeping pad best camping bed best camping mattress best camping sleeping pad best sleeping pad camping air bed camping mat camping mattress camping mattress pad camping pad camping sleeping mats camping sleeping pad inflatable camping mattress sleeping mat sleeping pad sleeping pads for camping ']\n",
            "labels: [ 0  0 11 17  0  1  2  9  1 11  0  1  1 10 12  0 12 12  7  8 18  1  4  0\n",
            "  3  1  8  0  7  9 12 18 13  0 17  6  2 17  1  1  1 17  7  8 17  3  2 17\n",
            "  0 17]\n"
          ]
        }
      ]
    },
    {
      "cell_type": "markdown",
      "source": [
        "### Information"
      ],
      "metadata": {
        "id": "NwpAejboDvHR"
      }
    },
    {
      "cell_type": "code",
      "source": [
        "# counting how many words are there in the whole texts of the dataset\n",
        "num_of_words = 0\n",
        "for i in dataset['text']: num_of_words += len(i.split())\n",
        "\n",
        "print('Number of words: {}'.format(num_of_words))"
      ],
      "metadata": {
        "colab": {
          "base_uri": "https://localhost:8080/"
        },
        "id": "P2QpUriFrsU_",
        "outputId": "1382297b-fbed-4a0f-87ba-3ea24828dd44"
      },
      "execution_count": 16,
      "outputs": [
        {
          "output_type": "stream",
          "name": "stdout",
          "text": [
            "Number of words: 112524\n"
          ]
        }
      ]
    },
    {
      "cell_type": "markdown",
      "source": [
        "There are about 112000 words in the texts.\n",
        "\n"
      ],
      "metadata": {
        "id": "wfw3CqfZsWyT"
      }
    },
    {
      "cell_type": "code",
      "source": [
        "# Edited\n",
        "# Counting max sequence length and how many non-repetitive words are there in the whole texts of the dataset\n",
        "# Remove words repeated more that threshold. --> Remove outlier words\n",
        "\n",
        "# Variables\n",
        "non_repetitive_list = [] # List of all non repetitive words\n",
        "words = {}               # Store all the words\n",
        "max_seq_lenght = 0       # Max sequence\n",
        "threshold = 800\n",
        "\n",
        "# Iterate rows\n",
        "for row in dataset.itertuples(index=True):\n",
        "  index = getattr(row,'Index')\n",
        "  text = getattr(row,'text')\n",
        "  new_text = text \n",
        "\n",
        "  for each_word in text.split():\n",
        "    if each_word not in non_repetitive_list: non_repetitive_list.append(each_word)\n",
        "\n",
        "    # Update the dictionary and remove the word passing the threshold \n",
        "    # from keras.preprocessing.text import Tokenizer, could also be used \n",
        "    if each_word in words.keys():\n",
        "      if  words[each_word] >= threshold: \n",
        "        new_text = new_text.replace(each_word, '')\n",
        "      value = words[each_word]\n",
        "      words.update({each_word: value+1})\n",
        "    else: words[each_word]=1\n",
        "  \n",
        "  dataset.at[index, 'text'] = new_text \n",
        "  lenght = len(new_text.split())\n",
        "  if lenght > max_seq_lenght: max_seq_lenght = lenght\n",
        "\n",
        "print('Max sequence length: {}'.format(max_seq_lenght))\n",
        "print('Non-repetitive words: {}'.format(len(non_repetitive_list)))"
      ],
      "metadata": {
        "colab": {
          "base_uri": "https://localhost:8080/"
        },
        "id": "2ufQzaF9ncqZ",
        "outputId": "4eb64ed3-6ab5-48f0-c9d8-7ad7b63dfab9"
      },
      "execution_count": 17,
      "outputs": [
        {
          "output_type": "stream",
          "name": "stdout",
          "text": [
            "Max sequence length: 309\n",
            "Non-repetitive words: 18927\n"
          ]
        }
      ]
    },
    {
      "cell_type": "markdown",
      "source": [
        "Maximum sequence length is 309 and There are about 19000 non-repetitive words in the whole dataset texts. So we set max word features to 10000 and sequence length to 310."
      ],
      "metadata": {
        "id": "cGGf8rQorkSR"
      }
    },
    {
      "cell_type": "markdown",
      "source": [
        "### Preprocessing"
      ],
      "metadata": {
        "id": "uzLtURj5EeEI"
      }
    },
    {
      "cell_type": "code",
      "source": [
        "# setting the text vectorization layer with 10000 words and 310 sequence length\n",
        "max_features = 20000\n",
        "sequence_length = max_seq_lenght + 1\n",
        "\n",
        "vectorize_layer = layers.TextVectorization(\n",
        "    max_tokens=max_features,\n",
        "    output_mode='int',\n",
        "    output_sequence_length=sequence_length)\n",
        "\n",
        "# fitting the state of the preprocessing layer to the train set. This will cause the model to build an index of strings to integers.\n",
        "vectorize_layer.adapt(train_texts)\n",
        "\n",
        "# defining the vectorize text function\n",
        "def vectorize_text(text, label):\n",
        "  text = tf.expand_dims(text, -1)\n",
        "  return vectorize_layer(text), label\n",
        "\n",
        "# retrieving a sample from a batch of texts and labels from the train set\n",
        "text_batch, label_batch = next(iter(raw_train_batch))\n",
        "first_review, first_label = text_batch[0], label_batch[0]\n",
        "print(\"Review\", first_review)\n",
        "print(\"Label\", first_label)\n",
        "print(\"Vectorized text\", vectorize_text(first_review, first_label))"
      ],
      "metadata": {
        "colab": {
          "base_uri": "https://localhost:8080/"
        },
        "id": "Ey2QJjO97T9P",
        "outputId": "bdc4a98a-593b-4abc-dee3-94137e647b8b"
      },
      "execution_count": 18,
      "outputs": [
        {
          "output_type": "stream",
          "name": "stdout",
          "text": [
            "Review tf.Tensor(b'seachem multitest ammonia seachem ', shape=(), dtype=string)\n",
            "Label tf.Tensor(0, shape=(), dtype=int8)\n",
            "Vectorized text (<tf.Tensor: shape=(1, 310), dtype=int64, numpy=\n",
            "array([[ 2075,  6580, 15510,  2075,     0,     0,     0,     0,     0,\n",
            "            0,     0,     0,     0,     0,     0,     0,     0,     0,\n",
            "            0,     0,     0,     0,     0,     0,     0,     0,     0,\n",
            "            0,     0,     0,     0,     0,     0,     0,     0,     0,\n",
            "            0,     0,     0,     0,     0,     0,     0,     0,     0,\n",
            "            0,     0,     0,     0,     0,     0,     0,     0,     0,\n",
            "            0,     0,     0,     0,     0,     0,     0,     0,     0,\n",
            "            0,     0,     0,     0,     0,     0,     0,     0,     0,\n",
            "            0,     0,     0,     0,     0,     0,     0,     0,     0,\n",
            "            0,     0,     0,     0,     0,     0,     0,     0,     0,\n",
            "            0,     0,     0,     0,     0,     0,     0,     0,     0,\n",
            "            0,     0,     0,     0,     0,     0,     0,     0,     0,\n",
            "            0,     0,     0,     0,     0,     0,     0,     0,     0,\n",
            "            0,     0,     0,     0,     0,     0,     0,     0,     0,\n",
            "            0,     0,     0,     0,     0,     0,     0,     0,     0,\n",
            "            0,     0,     0,     0,     0,     0,     0,     0,     0,\n",
            "            0,     0,     0,     0,     0,     0,     0,     0,     0,\n",
            "            0,     0,     0,     0,     0,     0,     0,     0,     0,\n",
            "            0,     0,     0,     0,     0,     0,     0,     0,     0,\n",
            "            0,     0,     0,     0,     0,     0,     0,     0,     0,\n",
            "            0,     0,     0,     0,     0,     0,     0,     0,     0,\n",
            "            0,     0,     0,     0,     0,     0,     0,     0,     0,\n",
            "            0,     0,     0,     0,     0,     0,     0,     0,     0,\n",
            "            0,     0,     0,     0,     0,     0,     0,     0,     0,\n",
            "            0,     0,     0,     0,     0,     0,     0,     0,     0,\n",
            "            0,     0,     0,     0,     0,     0,     0,     0,     0,\n",
            "            0,     0,     0,     0,     0,     0,     0,     0,     0,\n",
            "            0,     0,     0,     0,     0,     0,     0,     0,     0,\n",
            "            0,     0,     0,     0,     0,     0,     0,     0,     0,\n",
            "            0,     0,     0,     0,     0,     0,     0,     0,     0,\n",
            "            0,     0,     0,     0,     0,     0,     0,     0,     0,\n",
            "            0,     0,     0,     0,     0,     0,     0,     0,     0,\n",
            "            0,     0,     0,     0,     0,     0,     0,     0,     0,\n",
            "            0,     0,     0,     0,     0,     0,     0,     0,     0,\n",
            "            0,     0,     0,     0]])>, <tf.Tensor: shape=(), dtype=int8, numpy=0>)\n"
          ]
        }
      ]
    },
    {
      "cell_type": "code",
      "source": [
        "# getting corresponding word of each integer \n",
        "print(\"1401 ---> \",vectorize_layer.get_vocabulary()[1401])\n",
        "print(\" 313 ---> \",vectorize_layer.get_vocabulary()[313])\n",
        "print('Vocabulary size: {}'.format(len(vectorize_layer.get_vocabulary())))"
      ],
      "metadata": {
        "colab": {
          "base_uri": "https://localhost:8080/"
        },
        "id": "X84dkB768GSx",
        "outputId": "445abc89-545e-44bc-f737-f90889127e44"
      },
      "execution_count": 19,
      "outputs": [
        {
          "output_type": "stream",
          "name": "stdout",
          "text": [
            "1401 --->  moderate\n",
            " 313 --->  soft\n",
            "Vocabulary size: 16371\n"
          ]
        }
      ]
    },
    {
      "cell_type": "markdown",
      "source": [
        "### Caching the tensor datasets"
      ],
      "metadata": {
        "id": "kj9xHgbGE7Tt"
      }
    },
    {
      "cell_type": "code",
      "source": [
        "# creating train, val, and test vectorized dataset and prefetching them\n",
        "train_ds = raw_train_batch.map(vectorize_text)\n",
        "val_ds = raw_val_batch.map(vectorize_text)\n",
        "test_ds = raw_test_batch.map(vectorize_text)\n",
        "\n",
        "AUTOTUNE = tf.data.AUTOTUNE\n",
        "\n",
        "train_ds = train_ds.cache().prefetch(buffer_size=AUTOTUNE)\n",
        "val_ds = val_ds.cache().prefetch(buffer_size=AUTOTUNE)\n",
        "test_ds = test_ds.cache().prefetch(buffer_size=AUTOTUNE)"
      ],
      "metadata": {
        "id": "DiW717GQ_77D"
      },
      "execution_count": 20,
      "outputs": []
    },
    {
      "cell_type": "markdown",
      "source": [
        "## Building the Simple Keras Model"
      ],
      "metadata": {
        "id": "ZV4BYlOjo_k1"
      }
    },
    {
      "cell_type": "markdown",
      "source": [
        "### Initializing Model"
      ],
      "metadata": {
        "id": "VsfVp5MuqGcV"
      }
    },
    {
      "cell_type": "code",
      "source": [
        "# model configuration\n",
        "embedding_dim = 32\n",
        "num_of_labels = 20\n",
        "vocab_size = len(vectorize_layer.get_vocabulary())\n",
        "\n",
        "model = tf.keras.Sequential([\n",
        "  layers.Embedding(vocab_size + 1, embedding_dim),\n",
        "  layers.Dropout(0.2),\n",
        "  layers.GlobalAveragePooling1D(),\n",
        "  layers.Dropout(0.2),\n",
        "  layers.Dense(num_of_labels)])\n",
        "\n",
        "model.summary()"
      ],
      "metadata": {
        "colab": {
          "base_uri": "https://localhost:8080/"
        },
        "id": "KT4s4xZ5pdyH",
        "outputId": "466cd0be-3cb5-44a2-96ab-a49754310357"
      },
      "execution_count": 45,
      "outputs": [
        {
          "output_type": "stream",
          "name": "stdout",
          "text": [
            "Model: \"sequential\"\n",
            "_________________________________________________________________\n",
            " Layer (type)                Output Shape              Param #   \n",
            "=================================================================\n",
            " embedding (Embedding)       (None, None, 32)          523904    \n",
            "                                                                 \n",
            " dropout (Dropout)           (None, None, 32)          0         \n",
            "                                                                 \n",
            " global_average_pooling1d (G  (None, 32)               0         \n",
            " lobalAveragePooling1D)                                          \n",
            "                                                                 \n",
            " dropout_1 (Dropout)         (None, 32)                0         \n",
            "                                                                 \n",
            " dense (Dense)               (None, 20)                660       \n",
            "                                                                 \n",
            "=================================================================\n",
            "Total params: 524,564\n",
            "Trainable params: 524,564\n",
            "Non-trainable params: 0\n",
            "_________________________________________________________________\n"
          ]
        }
      ]
    },
    {
      "cell_type": "code",
      "source": [
        "# model compilation\n",
        "model.compile(optimizer='adam',\n",
        "              loss=tf.keras.losses.SparseCategoricalCrossentropy(from_logits=True),\n",
        "              metrics=['accuracy'])"
      ],
      "metadata": {
        "id": "vFJjYYfYphhn"
      },
      "execution_count": 46,
      "outputs": []
    },
    {
      "cell_type": "markdown",
      "source": [
        "### Train"
      ],
      "metadata": {
        "id": "Rbsw_3ZQqXEo"
      }
    },
    {
      "cell_type": "code",
      "source": [
        "# training the model\n",
        "epochs = 500\n",
        "\n",
        "callback = tf.keras.callbacks.EarlyStopping(monitor='val_loss',\n",
        "                                            patience=5,\n",
        "                                            verbose=1)\n",
        "\n",
        "history = model.fit(train_ds,\n",
        "                    validation_data=val_ds,\n",
        "                    epochs=epochs,\n",
        "                    callbacks=[callback])"
      ],
      "metadata": {
        "colab": {
          "base_uri": "https://localhost:8080/"
        },
        "id": "_-f4ShgSpvbN",
        "outputId": "4f3c4d65-3f28-4e70-99f9-372f9f27fe96"
      },
      "execution_count": 47,
      "outputs": [
        {
          "output_type": "stream",
          "name": "stdout",
          "text": [
            "Epoch 1/500\n",
            "85/85 [==============================] - 18s 149ms/step - loss: 2.9258 - accuracy: 0.1645 - val_loss: 2.8274 - val_accuracy: 0.2030\n",
            "Epoch 2/500\n",
            "85/85 [==============================] - 0s 4ms/step - loss: 2.7661 - accuracy: 0.1878 - val_loss: 2.6693 - val_accuracy: 0.2030\n",
            "Epoch 3/500\n",
            "85/85 [==============================] - 0s 4ms/step - loss: 2.6916 - accuracy: 0.1878 - val_loss: 2.6324 - val_accuracy: 0.2030\n",
            "Epoch 4/500\n",
            "85/85 [==============================] - 0s 4ms/step - loss: 2.6781 - accuracy: 0.1878 - val_loss: 2.6231 - val_accuracy: 0.2030\n",
            "Epoch 5/500\n",
            "85/85 [==============================] - 1s 6ms/step - loss: 2.6698 - accuracy: 0.1878 - val_loss: 2.6173 - val_accuracy: 0.2030\n",
            "Epoch 6/500\n",
            "85/85 [==============================] - 1s 6ms/step - loss: 2.6662 - accuracy: 0.1878 - val_loss: 2.6123 - val_accuracy: 0.2030\n",
            "Epoch 7/500\n",
            "85/85 [==============================] - 1s 6ms/step - loss: 2.6588 - accuracy: 0.1878 - val_loss: 2.6074 - val_accuracy: 0.2030\n",
            "Epoch 8/500\n",
            "85/85 [==============================] - 0s 5ms/step - loss: 2.6509 - accuracy: 0.1880 - val_loss: 2.6020 - val_accuracy: 0.2030\n",
            "Epoch 9/500\n",
            "85/85 [==============================] - 0s 4ms/step - loss: 2.6440 - accuracy: 0.1882 - val_loss: 2.5957 - val_accuracy: 0.2030\n",
            "Epoch 10/500\n",
            "85/85 [==============================] - 0s 4ms/step - loss: 2.6370 - accuracy: 0.1885 - val_loss: 2.5889 - val_accuracy: 0.2068\n",
            "Epoch 11/500\n",
            "85/85 [==============================] - 0s 4ms/step - loss: 2.6276 - accuracy: 0.1882 - val_loss: 2.5817 - val_accuracy: 0.2068\n",
            "Epoch 12/500\n",
            "85/85 [==============================] - 0s 4ms/step - loss: 2.6176 - accuracy: 0.1889 - val_loss: 2.5728 - val_accuracy: 0.2087\n",
            "Epoch 13/500\n",
            "85/85 [==============================] - 0s 4ms/step - loss: 2.6049 - accuracy: 0.1897 - val_loss: 2.5637 - val_accuracy: 0.2087\n",
            "Epoch 14/500\n",
            "85/85 [==============================] - 0s 4ms/step - loss: 2.5938 - accuracy: 0.1918 - val_loss: 2.5532 - val_accuracy: 0.2087\n",
            "Epoch 15/500\n",
            "85/85 [==============================] - 0s 4ms/step - loss: 2.5826 - accuracy: 0.1932 - val_loss: 2.5426 - val_accuracy: 0.2087\n",
            "Epoch 16/500\n",
            "85/85 [==============================] - 0s 4ms/step - loss: 2.5668 - accuracy: 0.1958 - val_loss: 2.5309 - val_accuracy: 0.2087\n",
            "Epoch 17/500\n",
            "85/85 [==============================] - 0s 4ms/step - loss: 2.5545 - accuracy: 0.1987 - val_loss: 2.5181 - val_accuracy: 0.2087\n",
            "Epoch 18/500\n",
            "85/85 [==============================] - 0s 4ms/step - loss: 2.5379 - accuracy: 0.2034 - val_loss: 2.5048 - val_accuracy: 0.2163\n",
            "Epoch 19/500\n",
            "85/85 [==============================] - 0s 4ms/step - loss: 2.5224 - accuracy: 0.2098 - val_loss: 2.4899 - val_accuracy: 0.2201\n",
            "Epoch 20/500\n",
            "85/85 [==============================] - 0s 4ms/step - loss: 2.5022 - accuracy: 0.2193 - val_loss: 2.4745 - val_accuracy: 0.2258\n",
            "Epoch 21/500\n",
            "85/85 [==============================] - 0s 4ms/step - loss: 2.4841 - accuracy: 0.2241 - val_loss: 2.4582 - val_accuracy: 0.2353\n",
            "Epoch 22/500\n",
            "85/85 [==============================] - 0s 4ms/step - loss: 2.4608 - accuracy: 0.2317 - val_loss: 2.4403 - val_accuracy: 0.2486\n",
            "Epoch 23/500\n",
            "85/85 [==============================] - 0s 4ms/step - loss: 2.4402 - accuracy: 0.2421 - val_loss: 2.4227 - val_accuracy: 0.2505\n",
            "Epoch 24/500\n",
            "85/85 [==============================] - 0s 4ms/step - loss: 2.4200 - accuracy: 0.2454 - val_loss: 2.4026 - val_accuracy: 0.2657\n",
            "Epoch 25/500\n",
            "85/85 [==============================] - 0s 4ms/step - loss: 2.3949 - accuracy: 0.2609 - val_loss: 2.3821 - val_accuracy: 0.2770\n",
            "Epoch 26/500\n",
            "85/85 [==============================] - 0s 4ms/step - loss: 2.3717 - accuracy: 0.2696 - val_loss: 2.3613 - val_accuracy: 0.2827\n",
            "Epoch 27/500\n",
            "85/85 [==============================] - 0s 4ms/step - loss: 2.3448 - accuracy: 0.2829 - val_loss: 2.3390 - val_accuracy: 0.2884\n",
            "Epoch 28/500\n",
            "85/85 [==============================] - 0s 4ms/step - loss: 2.3159 - accuracy: 0.2943 - val_loss: 2.3168 - val_accuracy: 0.2979\n",
            "Epoch 29/500\n",
            "85/85 [==============================] - 0s 4ms/step - loss: 2.2916 - accuracy: 0.3090 - val_loss: 2.2930 - val_accuracy: 0.3055\n",
            "Epoch 30/500\n",
            "85/85 [==============================] - 0s 4ms/step - loss: 2.2614 - accuracy: 0.3223 - val_loss: 2.2691 - val_accuracy: 0.3074\n",
            "Epoch 31/500\n",
            "85/85 [==============================] - 0s 4ms/step - loss: 2.2293 - accuracy: 0.3411 - val_loss: 2.2452 - val_accuracy: 0.3169\n",
            "Epoch 32/500\n",
            "85/85 [==============================] - 0s 4ms/step - loss: 2.2001 - accuracy: 0.3608 - val_loss: 2.2195 - val_accuracy: 0.3226\n",
            "Epoch 33/500\n",
            "85/85 [==============================] - 0s 4ms/step - loss: 2.1700 - accuracy: 0.3791 - val_loss: 2.1942 - val_accuracy: 0.3510\n",
            "Epoch 34/500\n",
            "85/85 [==============================] - 0s 4ms/step - loss: 2.1401 - accuracy: 0.3905 - val_loss: 2.1677 - val_accuracy: 0.3643\n",
            "Epoch 35/500\n",
            "85/85 [==============================] - 1s 6ms/step - loss: 2.1079 - accuracy: 0.4102 - val_loss: 2.1415 - val_accuracy: 0.3719\n",
            "Epoch 36/500\n",
            "85/85 [==============================] - 0s 6ms/step - loss: 2.0739 - accuracy: 0.4339 - val_loss: 2.1149 - val_accuracy: 0.3909\n",
            "Epoch 37/500\n",
            "85/85 [==============================] - 0s 5ms/step - loss: 2.0366 - accuracy: 0.4569 - val_loss: 2.0884 - val_accuracy: 0.4099\n",
            "Epoch 38/500\n",
            "85/85 [==============================] - 0s 5ms/step - loss: 2.0073 - accuracy: 0.4752 - val_loss: 2.0627 - val_accuracy: 0.4231\n",
            "Epoch 39/500\n",
            "85/85 [==============================] - 0s 4ms/step - loss: 1.9728 - accuracy: 0.4985 - val_loss: 2.0371 - val_accuracy: 0.4421\n",
            "Epoch 40/500\n",
            "85/85 [==============================] - 0s 4ms/step - loss: 1.9407 - accuracy: 0.5205 - val_loss: 2.0092 - val_accuracy: 0.4516\n",
            "Epoch 41/500\n",
            "85/85 [==============================] - 0s 4ms/step - loss: 1.9046 - accuracy: 0.5400 - val_loss: 1.9825 - val_accuracy: 0.4725\n",
            "Epoch 42/500\n",
            "85/85 [==============================] - 0s 4ms/step - loss: 1.8732 - accuracy: 0.5585 - val_loss: 1.9561 - val_accuracy: 0.4896\n",
            "Epoch 43/500\n",
            "85/85 [==============================] - 0s 4ms/step - loss: 1.8397 - accuracy: 0.5775 - val_loss: 1.9292 - val_accuracy: 0.5047\n",
            "Epoch 44/500\n",
            "85/85 [==============================] - 0s 4ms/step - loss: 1.8055 - accuracy: 0.5974 - val_loss: 1.9033 - val_accuracy: 0.5180\n",
            "Epoch 45/500\n",
            "85/85 [==============================] - 0s 4ms/step - loss: 1.7723 - accuracy: 0.6112 - val_loss: 1.8774 - val_accuracy: 0.5332\n",
            "Epoch 46/500\n",
            "85/85 [==============================] - 0s 4ms/step - loss: 1.7335 - accuracy: 0.6278 - val_loss: 1.8510 - val_accuracy: 0.5484\n",
            "Epoch 47/500\n",
            "85/85 [==============================] - 0s 4ms/step - loss: 1.7053 - accuracy: 0.6404 - val_loss: 1.8256 - val_accuracy: 0.5655\n",
            "Epoch 48/500\n",
            "85/85 [==============================] - 0s 4ms/step - loss: 1.6709 - accuracy: 0.6551 - val_loss: 1.8015 - val_accuracy: 0.5825\n",
            "Epoch 49/500\n",
            "85/85 [==============================] - 0s 4ms/step - loss: 1.6369 - accuracy: 0.6713 - val_loss: 1.7762 - val_accuracy: 0.5958\n",
            "Epoch 50/500\n",
            "85/85 [==============================] - 0s 4ms/step - loss: 1.6009 - accuracy: 0.6822 - val_loss: 1.7502 - val_accuracy: 0.5939\n",
            "Epoch 51/500\n",
            "85/85 [==============================] - 0s 4ms/step - loss: 1.5744 - accuracy: 0.7009 - val_loss: 1.7275 - val_accuracy: 0.6205\n",
            "Epoch 52/500\n",
            "85/85 [==============================] - 0s 4ms/step - loss: 1.5432 - accuracy: 0.7114 - val_loss: 1.7026 - val_accuracy: 0.6300\n",
            "Epoch 53/500\n",
            "85/85 [==============================] - 0s 4ms/step - loss: 1.5060 - accuracy: 0.7211 - val_loss: 1.6792 - val_accuracy: 0.6452\n",
            "Epoch 54/500\n",
            "85/85 [==============================] - 0s 4ms/step - loss: 1.4793 - accuracy: 0.7232 - val_loss: 1.6548 - val_accuracy: 0.6509\n",
            "Epoch 55/500\n",
            "85/85 [==============================] - 0s 4ms/step - loss: 1.4423 - accuracy: 0.7410 - val_loss: 1.6326 - val_accuracy: 0.6546\n",
            "Epoch 56/500\n",
            "85/85 [==============================] - 0s 4ms/step - loss: 1.4150 - accuracy: 0.7520 - val_loss: 1.6095 - val_accuracy: 0.6641\n",
            "Epoch 57/500\n",
            "85/85 [==============================] - 0s 4ms/step - loss: 1.3918 - accuracy: 0.7536 - val_loss: 1.5881 - val_accuracy: 0.6736\n",
            "Epoch 58/500\n",
            "85/85 [==============================] - 0s 4ms/step - loss: 1.3567 - accuracy: 0.7690 - val_loss: 1.5660 - val_accuracy: 0.6774\n",
            "Epoch 59/500\n",
            "85/85 [==============================] - 0s 4ms/step - loss: 1.3275 - accuracy: 0.7771 - val_loss: 1.5453 - val_accuracy: 0.6869\n",
            "Epoch 60/500\n",
            "85/85 [==============================] - 0s 4ms/step - loss: 1.2991 - accuracy: 0.7835 - val_loss: 1.5234 - val_accuracy: 0.6907\n",
            "Epoch 61/500\n",
            "85/85 [==============================] - 0s 4ms/step - loss: 1.2725 - accuracy: 0.7850 - val_loss: 1.5035 - val_accuracy: 0.7021\n",
            "Epoch 62/500\n",
            "85/85 [==============================] - 0s 5ms/step - loss: 1.2491 - accuracy: 0.7987 - val_loss: 1.4832 - val_accuracy: 0.7211\n",
            "Epoch 63/500\n",
            "85/85 [==============================] - 1s 6ms/step - loss: 1.2201 - accuracy: 0.8011 - val_loss: 1.4638 - val_accuracy: 0.7192\n",
            "Epoch 64/500\n",
            "85/85 [==============================] - 1s 6ms/step - loss: 1.1915 - accuracy: 0.8089 - val_loss: 1.4445 - val_accuracy: 0.7211\n",
            "Epoch 65/500\n",
            "85/85 [==============================] - 1s 6ms/step - loss: 1.1661 - accuracy: 0.8127 - val_loss: 1.4264 - val_accuracy: 0.7343\n",
            "Epoch 66/500\n",
            "85/85 [==============================] - 0s 4ms/step - loss: 1.1386 - accuracy: 0.8217 - val_loss: 1.4059 - val_accuracy: 0.7268\n",
            "Epoch 67/500\n",
            "85/85 [==============================] - 0s 5ms/step - loss: 1.1179 - accuracy: 0.8236 - val_loss: 1.3900 - val_accuracy: 0.7495\n",
            "Epoch 68/500\n",
            "85/85 [==============================] - 1s 6ms/step - loss: 1.0899 - accuracy: 0.8270 - val_loss: 1.3712 - val_accuracy: 0.7438\n",
            "Epoch 69/500\n",
            "85/85 [==============================] - 1s 6ms/step - loss: 1.0682 - accuracy: 0.8403 - val_loss: 1.3542 - val_accuracy: 0.7609\n",
            "Epoch 70/500\n",
            "85/85 [==============================] - 1s 6ms/step - loss: 1.0450 - accuracy: 0.8398 - val_loss: 1.3373 - val_accuracy: 0.7609\n",
            "Epoch 71/500\n",
            "85/85 [==============================] - 0s 5ms/step - loss: 1.0235 - accuracy: 0.8460 - val_loss: 1.3210 - val_accuracy: 0.7609\n",
            "Epoch 72/500\n",
            "85/85 [==============================] - 0s 5ms/step - loss: 0.9937 - accuracy: 0.8481 - val_loss: 1.3058 - val_accuracy: 0.7628\n",
            "Epoch 73/500\n",
            "85/85 [==============================] - 0s 5ms/step - loss: 0.9777 - accuracy: 0.8493 - val_loss: 1.2890 - val_accuracy: 0.7628\n",
            "Epoch 74/500\n",
            "85/85 [==============================] - 0s 5ms/step - loss: 0.9590 - accuracy: 0.8512 - val_loss: 1.2745 - val_accuracy: 0.7647\n",
            "Epoch 75/500\n",
            "85/85 [==============================] - 1s 7ms/step - loss: 0.9343 - accuracy: 0.8554 - val_loss: 1.2588 - val_accuracy: 0.7609\n",
            "Epoch 76/500\n",
            "85/85 [==============================] - 0s 4ms/step - loss: 0.9161 - accuracy: 0.8559 - val_loss: 1.2439 - val_accuracy: 0.7704\n",
            "Epoch 77/500\n",
            "85/85 [==============================] - 0s 5ms/step - loss: 0.8973 - accuracy: 0.8611 - val_loss: 1.2298 - val_accuracy: 0.7704\n",
            "Epoch 78/500\n",
            "85/85 [==============================] - 0s 6ms/step - loss: 0.8793 - accuracy: 0.8676 - val_loss: 1.2164 - val_accuracy: 0.7742\n",
            "Epoch 79/500\n",
            "85/85 [==============================] - 1s 6ms/step - loss: 0.8595 - accuracy: 0.8718 - val_loss: 1.2030 - val_accuracy: 0.7780\n",
            "Epoch 80/500\n",
            "85/85 [==============================] - 1s 7ms/step - loss: 0.8399 - accuracy: 0.8768 - val_loss: 1.1895 - val_accuracy: 0.7780\n",
            "Epoch 81/500\n",
            "85/85 [==============================] - 1s 7ms/step - loss: 0.8216 - accuracy: 0.8782 - val_loss: 1.1762 - val_accuracy: 0.7818\n",
            "Epoch 82/500\n",
            "85/85 [==============================] - 1s 8ms/step - loss: 0.8045 - accuracy: 0.8806 - val_loss: 1.1645 - val_accuracy: 0.7818\n",
            "Epoch 83/500\n",
            "85/85 [==============================] - 1s 7ms/step - loss: 0.7905 - accuracy: 0.8816 - val_loss: 1.1537 - val_accuracy: 0.7856\n",
            "Epoch 84/500\n",
            "85/85 [==============================] - 0s 6ms/step - loss: 0.7735 - accuracy: 0.8858 - val_loss: 1.1418 - val_accuracy: 0.7856\n",
            "Epoch 85/500\n",
            "85/85 [==============================] - 1s 6ms/step - loss: 0.7532 - accuracy: 0.8915 - val_loss: 1.1277 - val_accuracy: 0.7875\n",
            "Epoch 86/500\n",
            "85/85 [==============================] - 1s 6ms/step - loss: 0.7367 - accuracy: 0.8951 - val_loss: 1.1179 - val_accuracy: 0.7913\n",
            "Epoch 87/500\n",
            "85/85 [==============================] - 0s 5ms/step - loss: 0.7214 - accuracy: 0.8965 - val_loss: 1.1057 - val_accuracy: 0.7932\n",
            "Epoch 88/500\n",
            "85/85 [==============================] - 0s 5ms/step - loss: 0.7043 - accuracy: 0.8982 - val_loss: 1.0962 - val_accuracy: 0.8027\n",
            "Epoch 89/500\n",
            "85/85 [==============================] - 0s 4ms/step - loss: 0.6926 - accuracy: 0.9017 - val_loss: 1.0861 - val_accuracy: 0.8046\n",
            "Epoch 90/500\n",
            "85/85 [==============================] - 0s 4ms/step - loss: 0.6780 - accuracy: 0.9067 - val_loss: 1.0741 - val_accuracy: 0.8083\n",
            "Epoch 91/500\n",
            "85/85 [==============================] - 0s 4ms/step - loss: 0.6593 - accuracy: 0.9110 - val_loss: 1.0645 - val_accuracy: 0.8178\n",
            "Epoch 92/500\n",
            "85/85 [==============================] - 0s 4ms/step - loss: 0.6485 - accuracy: 0.9093 - val_loss: 1.0550 - val_accuracy: 0.8197\n",
            "Epoch 93/500\n",
            "85/85 [==============================] - 0s 4ms/step - loss: 0.6341 - accuracy: 0.9141 - val_loss: 1.0467 - val_accuracy: 0.8235\n",
            "Epoch 94/500\n",
            "85/85 [==============================] - 0s 4ms/step - loss: 0.6242 - accuracy: 0.9160 - val_loss: 1.0367 - val_accuracy: 0.8197\n",
            "Epoch 95/500\n",
            "85/85 [==============================] - 0s 4ms/step - loss: 0.6092 - accuracy: 0.9210 - val_loss: 1.0277 - val_accuracy: 0.8216\n",
            "Epoch 96/500\n",
            "85/85 [==============================] - 0s 4ms/step - loss: 0.5977 - accuracy: 0.9210 - val_loss: 1.0201 - val_accuracy: 0.8254\n",
            "Epoch 97/500\n",
            "85/85 [==============================] - 0s 4ms/step - loss: 0.5843 - accuracy: 0.9229 - val_loss: 1.0112 - val_accuracy: 0.8254\n",
            "Epoch 98/500\n",
            "85/85 [==============================] - 0s 4ms/step - loss: 0.5708 - accuracy: 0.9262 - val_loss: 1.0027 - val_accuracy: 0.8235\n",
            "Epoch 99/500\n",
            "85/85 [==============================] - 0s 4ms/step - loss: 0.5590 - accuracy: 0.9293 - val_loss: 0.9946 - val_accuracy: 0.8235\n",
            "Epoch 100/500\n",
            "85/85 [==============================] - 0s 4ms/step - loss: 0.5483 - accuracy: 0.9316 - val_loss: 0.9877 - val_accuracy: 0.8273\n",
            "Epoch 101/500\n",
            "85/85 [==============================] - 0s 4ms/step - loss: 0.5380 - accuracy: 0.9316 - val_loss: 0.9799 - val_accuracy: 0.8273\n",
            "Epoch 102/500\n",
            "85/85 [==============================] - 1s 8ms/step - loss: 0.5229 - accuracy: 0.9321 - val_loss: 0.9722 - val_accuracy: 0.8349\n",
            "Epoch 103/500\n",
            "85/85 [==============================] - 1s 6ms/step - loss: 0.5128 - accuracy: 0.9343 - val_loss: 0.9662 - val_accuracy: 0.8254\n",
            "Epoch 104/500\n",
            "85/85 [==============================] - 0s 4ms/step - loss: 0.5034 - accuracy: 0.9371 - val_loss: 0.9573 - val_accuracy: 0.8311\n",
            "Epoch 105/500\n",
            "85/85 [==============================] - 0s 4ms/step - loss: 0.4939 - accuracy: 0.9395 - val_loss: 0.9520 - val_accuracy: 0.8330\n",
            "Epoch 106/500\n",
            "85/85 [==============================] - 0s 4ms/step - loss: 0.4832 - accuracy: 0.9390 - val_loss: 0.9449 - val_accuracy: 0.8330\n",
            "Epoch 107/500\n",
            "85/85 [==============================] - 0s 4ms/step - loss: 0.4731 - accuracy: 0.9402 - val_loss: 0.9393 - val_accuracy: 0.8368\n",
            "Epoch 108/500\n",
            "85/85 [==============================] - 0s 4ms/step - loss: 0.4626 - accuracy: 0.9428 - val_loss: 0.9327 - val_accuracy: 0.8349\n",
            "Epoch 109/500\n",
            "85/85 [==============================] - 0s 4ms/step - loss: 0.4579 - accuracy: 0.9414 - val_loss: 0.9250 - val_accuracy: 0.8330\n",
            "Epoch 110/500\n",
            "85/85 [==============================] - 0s 4ms/step - loss: 0.4477 - accuracy: 0.9442 - val_loss: 0.9214 - val_accuracy: 0.8330\n",
            "Epoch 111/500\n",
            "85/85 [==============================] - 0s 4ms/step - loss: 0.4347 - accuracy: 0.9466 - val_loss: 0.9142 - val_accuracy: 0.8330\n",
            "Epoch 112/500\n",
            "85/85 [==============================] - 0s 5ms/step - loss: 0.4268 - accuracy: 0.9471 - val_loss: 0.9090 - val_accuracy: 0.8349\n",
            "Epoch 113/500\n",
            "85/85 [==============================] - 1s 6ms/step - loss: 0.4168 - accuracy: 0.9509 - val_loss: 0.9030 - val_accuracy: 0.8311\n",
            "Epoch 114/500\n",
            "85/85 [==============================] - 0s 5ms/step - loss: 0.4099 - accuracy: 0.9506 - val_loss: 0.8984 - val_accuracy: 0.8406\n",
            "Epoch 115/500\n",
            "85/85 [==============================] - 1s 6ms/step - loss: 0.4030 - accuracy: 0.9518 - val_loss: 0.8927 - val_accuracy: 0.8387\n",
            "Epoch 116/500\n",
            "85/85 [==============================] - 0s 4ms/step - loss: 0.3951 - accuracy: 0.9518 - val_loss: 0.8862 - val_accuracy: 0.8349\n",
            "Epoch 117/500\n",
            "85/85 [==============================] - 0s 4ms/step - loss: 0.3876 - accuracy: 0.9525 - val_loss: 0.8816 - val_accuracy: 0.8368\n",
            "Epoch 118/500\n",
            "85/85 [==============================] - 1s 6ms/step - loss: 0.3760 - accuracy: 0.9563 - val_loss: 0.8783 - val_accuracy: 0.8349\n",
            "Epoch 119/500\n",
            "85/85 [==============================] - 0s 5ms/step - loss: 0.3694 - accuracy: 0.9559 - val_loss: 0.8727 - val_accuracy: 0.8368\n",
            "Epoch 120/500\n",
            "85/85 [==============================] - 0s 6ms/step - loss: 0.3615 - accuracy: 0.9573 - val_loss: 0.8689 - val_accuracy: 0.8425\n",
            "Epoch 121/500\n",
            "85/85 [==============================] - 1s 6ms/step - loss: 0.3573 - accuracy: 0.9580 - val_loss: 0.8631 - val_accuracy: 0.8406\n",
            "Epoch 122/500\n",
            "85/85 [==============================] - 1s 6ms/step - loss: 0.3483 - accuracy: 0.9577 - val_loss: 0.8576 - val_accuracy: 0.8387\n",
            "Epoch 123/500\n",
            "85/85 [==============================] - 0s 6ms/step - loss: 0.3402 - accuracy: 0.9585 - val_loss: 0.8551 - val_accuracy: 0.8387\n",
            "Epoch 124/500\n",
            "85/85 [==============================] - 0s 5ms/step - loss: 0.3373 - accuracy: 0.9615 - val_loss: 0.8508 - val_accuracy: 0.8406\n",
            "Epoch 125/500\n",
            "85/85 [==============================] - 0s 5ms/step - loss: 0.3269 - accuracy: 0.9611 - val_loss: 0.8490 - val_accuracy: 0.8387\n",
            "Epoch 126/500\n",
            "85/85 [==============================] - 0s 6ms/step - loss: 0.3194 - accuracy: 0.9642 - val_loss: 0.8433 - val_accuracy: 0.8387\n",
            "Epoch 127/500\n",
            "85/85 [==============================] - 1s 7ms/step - loss: 0.3164 - accuracy: 0.9637 - val_loss: 0.8387 - val_accuracy: 0.8368\n",
            "Epoch 128/500\n",
            "85/85 [==============================] - 1s 6ms/step - loss: 0.3101 - accuracy: 0.9637 - val_loss: 0.8345 - val_accuracy: 0.8349\n",
            "Epoch 129/500\n",
            "85/85 [==============================] - 1s 6ms/step - loss: 0.3023 - accuracy: 0.9670 - val_loss: 0.8325 - val_accuracy: 0.8387\n",
            "Epoch 130/500\n",
            "85/85 [==============================] - 0s 4ms/step - loss: 0.2971 - accuracy: 0.9684 - val_loss: 0.8287 - val_accuracy: 0.8387\n",
            "Epoch 131/500\n",
            "85/85 [==============================] - 0s 4ms/step - loss: 0.2914 - accuracy: 0.9691 - val_loss: 0.8247 - val_accuracy: 0.8368\n",
            "Epoch 132/500\n",
            "85/85 [==============================] - 0s 4ms/step - loss: 0.2842 - accuracy: 0.9687 - val_loss: 0.8215 - val_accuracy: 0.8349\n",
            "Epoch 133/500\n",
            "85/85 [==============================] - 0s 4ms/step - loss: 0.2826 - accuracy: 0.9665 - val_loss: 0.8193 - val_accuracy: 0.8330\n",
            "Epoch 134/500\n",
            "85/85 [==============================] - 0s 4ms/step - loss: 0.2737 - accuracy: 0.9727 - val_loss: 0.8158 - val_accuracy: 0.8387\n",
            "Epoch 135/500\n",
            "85/85 [==============================] - 1s 6ms/step - loss: 0.2681 - accuracy: 0.9744 - val_loss: 0.8132 - val_accuracy: 0.8387\n",
            "Epoch 136/500\n",
            "85/85 [==============================] - 1s 9ms/step - loss: 0.2646 - accuracy: 0.9739 - val_loss: 0.8122 - val_accuracy: 0.8349\n",
            "Epoch 137/500\n",
            "85/85 [==============================] - 1s 13ms/step - loss: 0.2563 - accuracy: 0.9741 - val_loss: 0.8076 - val_accuracy: 0.8368\n",
            "Epoch 138/500\n",
            "85/85 [==============================] - 0s 5ms/step - loss: 0.2509 - accuracy: 0.9737 - val_loss: 0.8046 - val_accuracy: 0.8349\n",
            "Epoch 139/500\n",
            "85/85 [==============================] - 0s 4ms/step - loss: 0.2483 - accuracy: 0.9725 - val_loss: 0.8026 - val_accuracy: 0.8368\n",
            "Epoch 140/500\n",
            "85/85 [==============================] - 0s 4ms/step - loss: 0.2426 - accuracy: 0.9737 - val_loss: 0.7996 - val_accuracy: 0.8387\n",
            "Epoch 141/500\n",
            "85/85 [==============================] - 0s 4ms/step - loss: 0.2377 - accuracy: 0.9767 - val_loss: 0.7966 - val_accuracy: 0.8368\n",
            "Epoch 142/500\n",
            "85/85 [==============================] - 0s 4ms/step - loss: 0.2337 - accuracy: 0.9786 - val_loss: 0.7955 - val_accuracy: 0.8368\n",
            "Epoch 143/500\n",
            "85/85 [==============================] - 0s 4ms/step - loss: 0.2299 - accuracy: 0.9791 - val_loss: 0.7927 - val_accuracy: 0.8330\n",
            "Epoch 144/500\n",
            "85/85 [==============================] - 0s 4ms/step - loss: 0.2234 - accuracy: 0.9782 - val_loss: 0.7917 - val_accuracy: 0.8330\n",
            "Epoch 145/500\n",
            "85/85 [==============================] - 0s 4ms/step - loss: 0.2186 - accuracy: 0.9791 - val_loss: 0.7886 - val_accuracy: 0.8349\n",
            "Epoch 146/500\n",
            "85/85 [==============================] - 0s 4ms/step - loss: 0.2186 - accuracy: 0.9791 - val_loss: 0.7839 - val_accuracy: 0.8330\n",
            "Epoch 147/500\n",
            "85/85 [==============================] - 0s 4ms/step - loss: 0.2095 - accuracy: 0.9793 - val_loss: 0.7823 - val_accuracy: 0.8330\n",
            "Epoch 148/500\n",
            "85/85 [==============================] - 0s 4ms/step - loss: 0.2052 - accuracy: 0.9801 - val_loss: 0.7796 - val_accuracy: 0.8387\n",
            "Epoch 149/500\n",
            "85/85 [==============================] - 0s 4ms/step - loss: 0.2054 - accuracy: 0.9784 - val_loss: 0.7788 - val_accuracy: 0.8330\n",
            "Epoch 150/500\n",
            "85/85 [==============================] - 0s 4ms/step - loss: 0.1990 - accuracy: 0.9829 - val_loss: 0.7763 - val_accuracy: 0.8349\n",
            "Epoch 151/500\n",
            "85/85 [==============================] - 0s 4ms/step - loss: 0.1938 - accuracy: 0.9829 - val_loss: 0.7745 - val_accuracy: 0.8330\n",
            "Epoch 152/500\n",
            "85/85 [==============================] - 0s 4ms/step - loss: 0.1914 - accuracy: 0.9824 - val_loss: 0.7732 - val_accuracy: 0.8368\n",
            "Epoch 153/500\n",
            "85/85 [==============================] - 0s 4ms/step - loss: 0.1874 - accuracy: 0.9839 - val_loss: 0.7702 - val_accuracy: 0.8349\n",
            "Epoch 154/500\n",
            "85/85 [==============================] - 0s 4ms/step - loss: 0.1814 - accuracy: 0.9839 - val_loss: 0.7701 - val_accuracy: 0.8368\n",
            "Epoch 155/500\n",
            "85/85 [==============================] - 0s 4ms/step - loss: 0.1805 - accuracy: 0.9843 - val_loss: 0.7676 - val_accuracy: 0.8368\n",
            "Epoch 156/500\n",
            "85/85 [==============================] - 0s 4ms/step - loss: 0.1777 - accuracy: 0.9843 - val_loss: 0.7668 - val_accuracy: 0.8387\n",
            "Epoch 157/500\n",
            "85/85 [==============================] - 0s 4ms/step - loss: 0.1730 - accuracy: 0.9850 - val_loss: 0.7673 - val_accuracy: 0.8368\n",
            "Epoch 158/500\n",
            "85/85 [==============================] - 0s 4ms/step - loss: 0.1683 - accuracy: 0.9855 - val_loss: 0.7640 - val_accuracy: 0.8349\n",
            "Epoch 159/500\n",
            "85/85 [==============================] - 0s 4ms/step - loss: 0.1646 - accuracy: 0.9869 - val_loss: 0.7622 - val_accuracy: 0.8368\n",
            "Epoch 160/500\n",
            "85/85 [==============================] - 0s 4ms/step - loss: 0.1656 - accuracy: 0.9872 - val_loss: 0.7598 - val_accuracy: 0.8368\n",
            "Epoch 161/500\n",
            "85/85 [==============================] - 0s 5ms/step - loss: 0.1608 - accuracy: 0.9877 - val_loss: 0.7612 - val_accuracy: 0.8349\n",
            "Epoch 162/500\n",
            "85/85 [==============================] - 0s 6ms/step - loss: 0.1559 - accuracy: 0.9877 - val_loss: 0.7588 - val_accuracy: 0.8387\n",
            "Epoch 163/500\n",
            "85/85 [==============================] - 0s 6ms/step - loss: 0.1541 - accuracy: 0.9879 - val_loss: 0.7580 - val_accuracy: 0.8330\n",
            "Epoch 164/500\n",
            "85/85 [==============================] - 1s 6ms/step - loss: 0.1512 - accuracy: 0.9877 - val_loss: 0.7556 - val_accuracy: 0.8349\n",
            "Epoch 165/500\n",
            "85/85 [==============================] - 0s 4ms/step - loss: 0.1464 - accuracy: 0.9898 - val_loss: 0.7540 - val_accuracy: 0.8368\n",
            "Epoch 166/500\n",
            "85/85 [==============================] - 0s 4ms/step - loss: 0.1450 - accuracy: 0.9886 - val_loss: 0.7526 - val_accuracy: 0.8406\n",
            "Epoch 167/500\n",
            "85/85 [==============================] - 0s 4ms/step - loss: 0.1417 - accuracy: 0.9884 - val_loss: 0.7522 - val_accuracy: 0.8387\n",
            "Epoch 168/500\n",
            "85/85 [==============================] - 0s 4ms/step - loss: 0.1371 - accuracy: 0.9893 - val_loss: 0.7508 - val_accuracy: 0.8349\n",
            "Epoch 169/500\n",
            "85/85 [==============================] - 0s 4ms/step - loss: 0.1362 - accuracy: 0.9886 - val_loss: 0.7500 - val_accuracy: 0.8387\n",
            "Epoch 170/500\n",
            "85/85 [==============================] - 0s 4ms/step - loss: 0.1311 - accuracy: 0.9900 - val_loss: 0.7483 - val_accuracy: 0.8406\n",
            "Epoch 171/500\n",
            "85/85 [==============================] - 0s 4ms/step - loss: 0.1282 - accuracy: 0.9900 - val_loss: 0.7518 - val_accuracy: 0.8444\n",
            "Epoch 172/500\n",
            "85/85 [==============================] - 0s 4ms/step - loss: 0.1290 - accuracy: 0.9896 - val_loss: 0.7471 - val_accuracy: 0.8444\n",
            "Epoch 173/500\n",
            "85/85 [==============================] - 0s 4ms/step - loss: 0.1249 - accuracy: 0.9903 - val_loss: 0.7496 - val_accuracy: 0.8425\n",
            "Epoch 174/500\n",
            "85/85 [==============================] - 0s 4ms/step - loss: 0.1243 - accuracy: 0.9903 - val_loss: 0.7442 - val_accuracy: 0.8406\n",
            "Epoch 175/500\n",
            "85/85 [==============================] - 0s 4ms/step - loss: 0.1195 - accuracy: 0.9929 - val_loss: 0.7464 - val_accuracy: 0.8425\n",
            "Epoch 176/500\n",
            "85/85 [==============================] - 0s 4ms/step - loss: 0.1184 - accuracy: 0.9905 - val_loss: 0.7442 - val_accuracy: 0.8425\n",
            "Epoch 177/500\n",
            "85/85 [==============================] - 0s 4ms/step - loss: 0.1150 - accuracy: 0.9926 - val_loss: 0.7430 - val_accuracy: 0.8482\n",
            "Epoch 178/500\n",
            "85/85 [==============================] - 0s 4ms/step - loss: 0.1121 - accuracy: 0.9926 - val_loss: 0.7431 - val_accuracy: 0.8463\n",
            "Epoch 179/500\n",
            "85/85 [==============================] - 0s 4ms/step - loss: 0.1107 - accuracy: 0.9922 - val_loss: 0.7408 - val_accuracy: 0.8425\n",
            "Epoch 180/500\n",
            "85/85 [==============================] - 1s 6ms/step - loss: 0.1102 - accuracy: 0.9922 - val_loss: 0.7444 - val_accuracy: 0.8463\n",
            "Epoch 181/500\n",
            "85/85 [==============================] - 1s 7ms/step - loss: 0.1069 - accuracy: 0.9926 - val_loss: 0.7389 - val_accuracy: 0.8425\n",
            "Epoch 182/500\n",
            "85/85 [==============================] - 1s 7ms/step - loss: 0.1060 - accuracy: 0.9931 - val_loss: 0.7410 - val_accuracy: 0.8444\n",
            "Epoch 183/500\n",
            "85/85 [==============================] - 1s 6ms/step - loss: 0.1006 - accuracy: 0.9943 - val_loss: 0.7387 - val_accuracy: 0.8444\n",
            "Epoch 184/500\n",
            "85/85 [==============================] - 0s 5ms/step - loss: 0.0997 - accuracy: 0.9948 - val_loss: 0.7390 - val_accuracy: 0.8444\n",
            "Epoch 185/500\n",
            "85/85 [==============================] - 0s 6ms/step - loss: 0.0965 - accuracy: 0.9945 - val_loss: 0.7387 - val_accuracy: 0.8406\n",
            "Epoch 186/500\n",
            "85/85 [==============================] - 1s 8ms/step - loss: 0.0965 - accuracy: 0.9936 - val_loss: 0.7372 - val_accuracy: 0.8444\n",
            "Epoch 187/500\n",
            "85/85 [==============================] - 1s 7ms/step - loss: 0.0951 - accuracy: 0.9953 - val_loss: 0.7351 - val_accuracy: 0.8444\n",
            "Epoch 188/500\n",
            "85/85 [==============================] - 1s 7ms/step - loss: 0.0924 - accuracy: 0.9948 - val_loss: 0.7385 - val_accuracy: 0.8444\n",
            "Epoch 189/500\n",
            "85/85 [==============================] - 1s 6ms/step - loss: 0.0910 - accuracy: 0.9943 - val_loss: 0.7380 - val_accuracy: 0.8463\n",
            "Epoch 190/500\n",
            "85/85 [==============================] - 0s 6ms/step - loss: 0.0890 - accuracy: 0.9945 - val_loss: 0.7373 - val_accuracy: 0.8482\n",
            "Epoch 191/500\n",
            "85/85 [==============================] - 0s 5ms/step - loss: 0.0882 - accuracy: 0.9948 - val_loss: 0.7347 - val_accuracy: 0.8463\n",
            "Epoch 192/500\n",
            "85/85 [==============================] - 1s 6ms/step - loss: 0.0858 - accuracy: 0.9953 - val_loss: 0.7353 - val_accuracy: 0.8463\n",
            "Epoch 193/500\n",
            "85/85 [==============================] - 1s 7ms/step - loss: 0.0838 - accuracy: 0.9953 - val_loss: 0.7349 - val_accuracy: 0.8501\n",
            "Epoch 194/500\n",
            "85/85 [==============================] - 1s 7ms/step - loss: 0.0813 - accuracy: 0.9955 - val_loss: 0.7345 - val_accuracy: 0.8463\n",
            "Epoch 195/500\n",
            "85/85 [==============================] - 0s 6ms/step - loss: 0.0813 - accuracy: 0.9955 - val_loss: 0.7352 - val_accuracy: 0.8463\n",
            "Epoch 196/500\n",
            "85/85 [==============================] - 0s 4ms/step - loss: 0.0790 - accuracy: 0.9953 - val_loss: 0.7349 - val_accuracy: 0.8444\n",
            "Epoch 197/500\n",
            "85/85 [==============================] - 0s 4ms/step - loss: 0.0758 - accuracy: 0.9974 - val_loss: 0.7359 - val_accuracy: 0.8463\n",
            "Epoch 198/500\n",
            "85/85 [==============================] - 1s 7ms/step - loss: 0.0750 - accuracy: 0.9964 - val_loss: 0.7362 - val_accuracy: 0.8520\n",
            "Epoch 199/500\n",
            "85/85 [==============================] - 1s 6ms/step - loss: 0.0746 - accuracy: 0.9960 - val_loss: 0.7342 - val_accuracy: 0.8463\n",
            "Epoch 200/500\n",
            "85/85 [==============================] - 0s 5ms/step - loss: 0.0730 - accuracy: 0.9955 - val_loss: 0.7354 - val_accuracy: 0.8463\n",
            "Epoch 201/500\n",
            "85/85 [==============================] - 0s 4ms/step - loss: 0.0713 - accuracy: 0.9964 - val_loss: 0.7336 - val_accuracy: 0.8463\n",
            "Epoch 202/500\n",
            "85/85 [==============================] - 0s 4ms/step - loss: 0.0709 - accuracy: 0.9969 - val_loss: 0.7345 - val_accuracy: 0.8482\n",
            "Epoch 203/500\n",
            "85/85 [==============================] - 0s 4ms/step - loss: 0.0677 - accuracy: 0.9964 - val_loss: 0.7346 - val_accuracy: 0.8482\n",
            "Epoch 204/500\n",
            "85/85 [==============================] - 0s 4ms/step - loss: 0.0666 - accuracy: 0.9967 - val_loss: 0.7334 - val_accuracy: 0.8482\n",
            "Epoch 205/500\n",
            "85/85 [==============================] - 0s 4ms/step - loss: 0.0651 - accuracy: 0.9972 - val_loss: 0.7392 - val_accuracy: 0.8463\n",
            "Epoch 206/500\n",
            "85/85 [==============================] - 0s 4ms/step - loss: 0.0649 - accuracy: 0.9969 - val_loss: 0.7327 - val_accuracy: 0.8482\n",
            "Epoch 207/500\n",
            "85/85 [==============================] - 0s 4ms/step - loss: 0.0626 - accuracy: 0.9976 - val_loss: 0.7347 - val_accuracy: 0.8501\n",
            "Epoch 208/500\n",
            "85/85 [==============================] - 0s 4ms/step - loss: 0.0615 - accuracy: 0.9979 - val_loss: 0.7333 - val_accuracy: 0.8463\n",
            "Epoch 209/500\n",
            "85/85 [==============================] - 0s 5ms/step - loss: 0.0599 - accuracy: 0.9979 - val_loss: 0.7348 - val_accuracy: 0.8463\n",
            "Epoch 210/500\n",
            "85/85 [==============================] - 1s 6ms/step - loss: 0.0590 - accuracy: 0.9983 - val_loss: 0.7352 - val_accuracy: 0.8444\n",
            "Epoch 211/500\n",
            "85/85 [==============================] - 0s 6ms/step - loss: 0.0583 - accuracy: 0.9969 - val_loss: 0.7362 - val_accuracy: 0.8520\n",
            "Epoch 211: early stopping\n"
          ]
        }
      ]
    },
    {
      "cell_type": "markdown",
      "source": [
        "### Test"
      ],
      "metadata": {
        "id": "tzxKEOilqc8S"
      }
    },
    {
      "cell_type": "code",
      "source": [
        "# printing loss and accuracy of the model on the test set\n",
        "loss, accuracy = model.evaluate(test_ds)\n",
        "print(\"Loss: \", loss)\n",
        "print(\"Accuracy: \", accuracy)"
      ],
      "metadata": {
        "colab": {
          "base_uri": "https://localhost:8080/"
        },
        "id": "MzNkJGOlpnfi",
        "outputId": "9ec75b55-b58c-40c5-843d-d0a9bb62a7f4"
      },
      "execution_count": 48,
      "outputs": [
        {
          "output_type": "stream",
          "name": "stdout",
          "text": [
            "11/11 [==============================] - 0s 8ms/step - loss: 0.7334 - accuracy: 0.8311\n",
            "Loss:  0.7333967685699463\n",
            "Accuracy:  0.8311195373535156\n"
          ]
        }
      ]
    },
    {
      "cell_type": "code",
      "source": [
        "# extracting the history of training and its keys\n",
        "history_dict = history.history\n",
        "history_dict.keys()"
      ],
      "metadata": {
        "colab": {
          "base_uri": "https://localhost:8080/"
        },
        "id": "E1gV7AnfpqPm",
        "outputId": "bfdae804-314b-4aea-9a50-70eccf6aa7a0"
      },
      "execution_count": 49,
      "outputs": [
        {
          "output_type": "execute_result",
          "data": {
            "text/plain": [
              "dict_keys(['loss', 'accuracy', 'val_loss', 'val_accuracy'])"
            ]
          },
          "metadata": {},
          "execution_count": 49
        }
      ]
    },
    {
      "cell_type": "code",
      "source": [
        "acc = history_dict['accuracy']\n",
        "val_acc = history_dict['val_accuracy']\n",
        "loss = history_dict['loss']\n",
        "val_loss = history_dict['val_loss']\n",
        "\n",
        "epochs = range(1, len(acc) + 1)"
      ],
      "metadata": {
        "id": "ntdqZpVtpseB"
      },
      "execution_count": 50,
      "outputs": []
    },
    {
      "cell_type": "markdown",
      "source": [
        "### Plotting Results"
      ],
      "metadata": {
        "id": "JAPVFe5yqkbb"
      }
    },
    {
      "cell_type": "code",
      "source": [
        "# ploting of loss\n",
        "plt.plot(epochs, loss, 'b', label='Training loss')\n",
        "plt.plot(epochs, val_loss, 'r', label='Validation loss')\n",
        "plt.title('Training and validation loss')\n",
        "plt.xlabel('Epochs')\n",
        "plt.ylabel('Loss')\n",
        "plt.legend()\n",
        "plt.show()"
      ],
      "metadata": {
        "colab": {
          "base_uri": "https://localhost:8080/",
          "height": 404
        },
        "id": "WkGDqSYepk2M",
        "outputId": "7b07da68-c8bf-4125-bd2a-25a7669141fc"
      },
      "execution_count": 51,
      "outputs": [
        {
          "output_type": "display_data",
          "data": {
            "text/plain": [
              "<Figure size 432x432 with 1 Axes>"
            ],
            "image/png": "[encoded data removed]"
          },
          "metadata": {
            "needs_background": "light"
          }
        }
      ]
    },
    {
      "cell_type": "code",
      "source": [
        "# plotting of accuracy\n",
        "plt.plot(epochs, acc, 'b', label='Training acc')\n",
        "plt.plot(epochs, val_acc, 'r', label='Validation acc')\n",
        "plt.title('Training and validation accuracy')\n",
        "plt.xlabel('Epochs')\n",
        "plt.ylabel('Accuracy')\n",
        "plt.legend(loc='lower right')\n",
        "plt.show()"
      ],
      "metadata": {
        "colab": {
          "base_uri": "https://localhost:8080/",
          "height": 404
        },
        "id": "t1ZgpsOfpzq7",
        "outputId": "c0ffa1c6-6162-4701-9733-32988ab19a00"
      },
      "execution_count": 52,
      "outputs": [
        {
          "output_type": "display_data",
          "data": {
            "text/plain": [
              "<Figure size 432x432 with 1 Axes>"
            ],
            "image/png": "[encoded data removed]"
          },
          "metadata": {
            "needs_background": "light"
          }
        }
      ]
    },
    {
      "cell_type": "markdown",
      "source": [
        "### Predict"
      ],
      "metadata": {
        "id": "3eNRUeZxqo6X"
      }
    },
    {
      "cell_type": "code",
      "source": [
        "# creating the probability model for testing\n",
        "probability_model = tf.keras.Sequential([model, tf.keras.layers.Softmax()])\n",
        "\n",
        "# predicting test samples\n",
        "predictions = probability_model.predict(raw_test_batch.map(vectorize_text))"
      ],
      "metadata": {
        "colab": {
          "base_uri": "https://localhost:8080/"
        },
        "id": "2ta3S3yop57y",
        "outputId": "def66e1f-930f-454d-f960-0772f793450f"
      },
      "execution_count": 53,
      "outputs": [
        {
          "output_type": "stream",
          "name": "stdout",
          "text": [
            "11/11 [==============================] - 0s 2ms/step\n"
          ]
        }
      ]
    },
    {
      "cell_type": "code",
      "source": [
        "# showing the first test sample result label\n",
        "np.argmax(predictions[0])"
      ],
      "metadata": {
        "colab": {
          "base_uri": "https://localhost:8080/"
        },
        "id": "oaWLNV6ip8BA",
        "outputId": "9b61c786-2b50-498d-fd9b-c8893749ef0b"
      },
      "execution_count": 54,
      "outputs": [
        {
          "output_type": "execute_result",
          "data": {
            "text/plain": [
              "17"
            ]
          },
          "metadata": {},
          "execution_count": 54
        }
      ]
    },
    {
      "cell_type": "code",
      "source": [
        "# showing the true label of the first test sample\n",
        "test_df.iloc[0]"
      ],
      "metadata": {
        "colab": {
          "base_uri": "https://localhost:8080/"
        },
        "id": "2RXnbD1Lp92h",
        "outputId": "fbb4af53-9692-4382-98a8-084c948030dc"
      },
      "execution_count": 55,
      "outputs": [
        {
          "output_type": "execute_result",
          "data": {
            "text/plain": [
              "text         fluke tone on tone premium hooded sweat shirt ...\n",
              "label                                           Sporting Goods\n",
              "label_int                                                   17\n",
              "Name: 4839, dtype: object"
            ]
          },
          "metadata": {},
          "execution_count": 55
        }
      ]
    },
    {
      "cell_type": "markdown",
      "source": [
        "We can increase the accuracy with Hypertuning.\n"
      ],
      "metadata": {
        "id": "2qGzUfSztZ83"
      }
    },
    {
      "cell_type": "markdown",
      "source": [
        "### Hypertuning the Simple Keras Model"
      ],
      "metadata": {
        "id": "gQvn7CaStfEj"
      }
    },
    {
      "cell_type": "markdown",
      "source": [
        "Install keras-tuner"
      ],
      "metadata": {
        "id": "1vrhrxISy6qi"
      }
    },
    {
      "cell_type": "code",
      "source": [
        "!pip install keras-tuner --upgrade"
      ],
      "metadata": {
        "id": "Jj-Xh4O4uX1e"
      },
      "execution_count": null,
      "outputs": []
    },
    {
      "cell_type": "code",
      "source": [
        "tensor_dataset = {'train_ds': train_ds, 'val_ds': val_ds, 'test_ds': test_ds}"
      ],
      "metadata": {
        "id": "4DBA9Gk3t4cX"
      },
      "execution_count": 56,
      "outputs": []
    },
    {
      "cell_type": "markdown",
      "source": [
        "#### Building the Hypertuner Model"
      ],
      "metadata": {
        "id": "OITfcL5jzA5g"
      }
    },
    {
      "cell_type": "code",
      "source": [
        "import keras_tuner\n",
        "\n",
        "# Fixed hyper parameters\n",
        "num_of_labels = 20\n",
        "vocab_size = len(vectorize_layer.get_vocabulary())\n",
        "\n",
        "class MyHyperModel(keras_tuner.HyperModel):\n",
        "    # build method for building the tunable model\n",
        "\n",
        "    def build(self, hp):\n",
        "      # model hyperparameters\n",
        "      dropout_rate1 = hp.Float('dropout_rate1', min_value=0.1, max_value=1, step=0.05)\n",
        "      dropout_rate2 = hp.Float('dropout_rate2', min_value=0.1, max_value=1, step=0.05)\n",
        "      embedding_dim = hp.Int('embedding_dim', min_value=32, max_value=256, step=16)\n",
        "      learn_rate = hp.Choice('learn_rate', [0.01, 0.1, 0.2, 0.3, 0.4], default=0.01)\n",
        "      \n",
        "      model = tf.keras.Sequential([\n",
        "        layers.Embedding(input_dim=vocab_size,                        # input_dim: the size of the vocabulary\n",
        "                   output_dim=embedding_dim,                          # output_dim: the size of the dense vector\n",
        "                   input_length=sequence_length),                     # input_length: the length of the sequence\n",
        "        layers.Dropout(dropout_rate1),\n",
        "        layers.GlobalAveragePooling1D(),\n",
        "        layers.Dropout(dropout_rate2),\n",
        "        layers.Dense(num_of_labels)])\n",
        "\n",
        "      model.compile(optimizer='adam',\n",
        "                    loss=tf.keras.losses.SparseCategoricalCrossentropy(from_logits=True),\n",
        "                    metrics=['accuracy'])\n",
        "      return model\n",
        "\n",
        "    # fit method for fitting the model\n",
        "    def fit(self, hp, model, dataset, validation_data=None, **kwargs):\n",
        "      return model.fit(\n",
        "          dataset['train_ds'],\n",
        "          validation_data=dataset['val_ds'],\n",
        "          **kwargs,\n",
        "      )"
      ],
      "metadata": {
        "id": "56D26vTRtlyl"
      },
      "execution_count": 62,
      "outputs": []
    },
    {
      "cell_type": "markdown",
      "source": [
        "#### Starting Random Search"
      ],
      "metadata": {
        "id": "6TbZkAs8zRyU"
      }
    },
    {
      "cell_type": "code",
      "source": [
        "tuner = keras_tuner.RandomSearch(\n",
        "    MyHyperModel(),\n",
        "    objective=\"val_accuracy\",\n",
        "    max_trials=50,\n",
        "    overwrite=True,\n",
        "    directory=\"projects\",\n",
        "    project_name=\"tune_basic_keras_hypermodel\",\n",
        ")\n",
        "\n",
        "callbacks = [\n",
        "    tf.keras.callbacks.EarlyStopping(monitor='val_loss', patience=5, verbose=1),\n",
        "]\n",
        "\n",
        "# running the search\n",
        "tuner.search(tensor_dataset, epochs=300, callbacks=callbacks)"
      ],
      "metadata": {
        "colab": {
          "base_uri": "https://localhost:8080/"
        },
        "id": "UPs5H9oOx5Ta",
        "outputId": "652aec5c-3629-4e8c-bda3-fceb93401b19"
      },
      "execution_count": 64,
      "outputs": [
        {
          "output_type": "stream",
          "name": "stdout",
          "text": [
            "Trial 50 Complete [00h 02m 22s]\n",
            "val_accuracy: 0.8500948548316956\n",
            "\n",
            "Best val_accuracy So Far: 0.8595825433731079\n",
            "Total elapsed time: 01h 49m 55s\n"
          ]
        }
      ]
    },
    {
      "cell_type": "markdown",
      "source": [
        "#### Random Search Results"
      ],
      "metadata": {
        "id": "Xn61yFM3zjWP"
      }
    },
    {
      "cell_type": "code",
      "source": [
        "# getting a summary of the best results of our tuning.\n",
        "tuner.results_summary()"
      ],
      "metadata": {
        "colab": {
          "base_uri": "https://localhost:8080/"
        },
        "id": "A3jqjUPCziku",
        "outputId": "19697bfe-58a4-4e92-cdd3-54fc740e4f66"
      },
      "execution_count": 65,
      "outputs": [
        {
          "output_type": "stream",
          "name": "stdout",
          "text": [
            "Results summary\n",
            "Results in projects/tune_basic_keras_hypermodel\n",
            "Showing 10 best trials\n",
            "<keras_tuner.engine.objective.Objective object at 0x7ff1bd06dd00>\n",
            "Trial summary\n",
            "Hyperparameters:\n",
            "dropout_rate1: 0.45000000000000007\n",
            "dropout_rate2: 0.30000000000000004\n",
            "embedding_dim: 240\n",
            "learn_rate: 0.1\n",
            "Score: 0.8595825433731079\n",
            "Trial summary\n",
            "Hyperparameters:\n",
            "dropout_rate1: 0.2\n",
            "dropout_rate2: 0.1\n",
            "embedding_dim: 240\n",
            "learn_rate: 0.2\n",
            "Score: 0.8595825433731079\n",
            "Trial summary\n",
            "Hyperparameters:\n",
            "dropout_rate1: 0.15000000000000002\n",
            "dropout_rate2: 0.55\n",
            "embedding_dim: 144\n",
            "learn_rate: 0.2\n",
            "Score: 0.8576850295066833\n",
            "Trial summary\n",
            "Hyperparameters:\n",
            "dropout_rate1: 0.1\n",
            "dropout_rate2: 0.7000000000000001\n",
            "embedding_dim: 160\n",
            "learn_rate: 0.01\n",
            "Score: 0.8576850295066833\n",
            "Trial summary\n",
            "Hyperparameters:\n",
            "dropout_rate1: 0.2\n",
            "dropout_rate2: 0.1\n",
            "embedding_dim: 160\n",
            "learn_rate: 0.4\n",
            "Score: 0.855787456035614\n",
            "Trial summary\n",
            "Hyperparameters:\n",
            "dropout_rate1: 0.25\n",
            "dropout_rate2: 0.2\n",
            "embedding_dim: 208\n",
            "learn_rate: 0.3\n",
            "Score: 0.855787456035614\n",
            "Trial summary\n",
            "Hyperparameters:\n",
            "dropout_rate1: 0.15000000000000002\n",
            "dropout_rate2: 0.5\n",
            "embedding_dim: 192\n",
            "learn_rate: 0.01\n",
            "Score: 0.855787456035614\n",
            "Trial summary\n",
            "Hyperparameters:\n",
            "dropout_rate1: 0.2\n",
            "dropout_rate2: 0.1\n",
            "embedding_dim: 144\n",
            "learn_rate: 0.4\n",
            "Score: 0.8538899421691895\n",
            "Trial summary\n",
            "Hyperparameters:\n",
            "dropout_rate1: 0.6\n",
            "dropout_rate2: 0.25\n",
            "embedding_dim: 192\n",
            "learn_rate: 0.01\n",
            "Score: 0.8538899421691895\n",
            "Trial summary\n",
            "Hyperparameters:\n",
            "dropout_rate1: 0.35\n",
            "dropout_rate2: 0.6\n",
            "embedding_dim: 192\n",
            "learn_rate: 0.01\n",
            "Score: 0.8538899421691895\n"
          ]
        }
      ]
    },
    {
      "cell_type": "code",
      "source": [
        "# top 5 hyperparameters.\n",
        "best_hps = tuner.get_best_hyperparameters(5)\n",
        "# Printing the best hp.\n",
        "best_hps[0].values"
      ],
      "metadata": {
        "colab": {
          "base_uri": "https://localhost:8080/"
        },
        "id": "0JyhCIMj0BIK",
        "outputId": "e680723e-3e54-4bcc-dde9-8d1c05205d2b"
      },
      "execution_count": 66,
      "outputs": [
        {
          "output_type": "execute_result",
          "data": {
            "text/plain": [
              "{'dropout_rate1': 0.45000000000000007,\n",
              " 'dropout_rate2': 0.30000000000000004,\n",
              " 'embedding_dim': 240,\n",
              " 'learn_rate': 0.1}"
            ]
          },
          "metadata": {},
          "execution_count": 66
        }
      ]
    },
    {
      "cell_type": "markdown",
      "source": [
        "#### Building and Training the Best Model"
      ],
      "metadata": {
        "id": "XSptwmpU0I5Y"
      }
    },
    {
      "cell_type": "code",
      "source": [
        "# Building the model with the best hyperparameters.\n",
        "model_best = tuner.hypermodel.build(best_hps[0])\n",
        "\n",
        "epochs = 300\n",
        "\n",
        "callback = tf.keras.callbacks.EarlyStopping(monitor='val_loss',\n",
        "                                            patience=5,\n",
        "                                            verbose=1)\n",
        "\n",
        "# Concatenating validation data and training data\n",
        "train_ds_concatenated = tensor_dataset['train_ds'].concatenate(tensor_dataset['val_ds'])\n",
        "\n",
        "history = model_best.fit(tensor_dataset['train_ds'],\n",
        "                        validation_data=tensor_dataset['val_ds'], \n",
        "                        epochs=epochs,\n",
        "                        callbacks=[callback])"
      ],
      "metadata": {
        "colab": {
          "base_uri": "https://localhost:8080/"
        },
        "id": "cz_JMTxn0VV3",
        "outputId": "21653ac5-c6f4-4323-8e4b-6f37486f6d9d"
      },
      "execution_count": 78,
      "outputs": [
        {
          "output_type": "stream",
          "name": "stdout",
          "text": [
            "Epoch 1/300\n",
            "85/85 [==============================] - 9s 99ms/step - loss: 2.8027 - accuracy: 0.1837 - val_loss: 2.6368 - val_accuracy: 0.2030\n",
            "Epoch 2/300\n",
            "85/85 [==============================] - 0s 6ms/step - loss: 2.6796 - accuracy: 0.1878 - val_loss: 2.6176 - val_accuracy: 0.2030\n",
            "Epoch 3/300\n",
            "85/85 [==============================] - 0s 5ms/step - loss: 2.6623 - accuracy: 0.1880 - val_loss: 2.6067 - val_accuracy: 0.2030\n",
            "Epoch 4/300\n",
            "85/85 [==============================] - 0s 5ms/step - loss: 2.6489 - accuracy: 0.1882 - val_loss: 2.5931 - val_accuracy: 0.2030\n",
            "Epoch 5/300\n",
            "85/85 [==============================] - 0s 5ms/step - loss: 2.6304 - accuracy: 0.1885 - val_loss: 2.5755 - val_accuracy: 0.2068\n",
            "Epoch 6/300\n",
            "85/85 [==============================] - 0s 5ms/step - loss: 2.6055 - accuracy: 0.1889 - val_loss: 2.5525 - val_accuracy: 0.2087\n",
            "Epoch 7/300\n",
            "85/85 [==============================] - 0s 5ms/step - loss: 2.5746 - accuracy: 0.1963 - val_loss: 2.5241 - val_accuracy: 0.2144\n",
            "Epoch 8/300\n",
            "85/85 [==============================] - 0s 5ms/step - loss: 2.5394 - accuracy: 0.2079 - val_loss: 2.4902 - val_accuracy: 0.2334\n",
            "Epoch 9/300\n",
            "85/85 [==============================] - 0s 5ms/step - loss: 2.4967 - accuracy: 0.2207 - val_loss: 2.4505 - val_accuracy: 0.2524\n",
            "Epoch 10/300\n",
            "85/85 [==============================] - 0s 5ms/step - loss: 2.4472 - accuracy: 0.2400 - val_loss: 2.4053 - val_accuracy: 0.2732\n",
            "Epoch 11/300\n",
            "85/85 [==============================] - 0s 5ms/step - loss: 2.3925 - accuracy: 0.2599 - val_loss: 2.3568 - val_accuracy: 0.2922\n",
            "Epoch 12/300\n",
            "85/85 [==============================] - 0s 5ms/step - loss: 2.3330 - accuracy: 0.2879 - val_loss: 2.3032 - val_accuracy: 0.3093\n",
            "Epoch 13/300\n",
            "85/85 [==============================] - 0s 5ms/step - loss: 2.2652 - accuracy: 0.3133 - val_loss: 2.2484 - val_accuracy: 0.3302\n",
            "Epoch 14/300\n",
            "85/85 [==============================] - 0s 5ms/step - loss: 2.2005 - accuracy: 0.3515 - val_loss: 2.1911 - val_accuracy: 0.3605\n",
            "Epoch 15/300\n",
            "85/85 [==============================] - 0s 6ms/step - loss: 2.1300 - accuracy: 0.3966 - val_loss: 2.1304 - val_accuracy: 0.3871\n",
            "Epoch 16/300\n",
            "85/85 [==============================] - 1s 6ms/step - loss: 2.0581 - accuracy: 0.4434 - val_loss: 2.0723 - val_accuracy: 0.4326\n",
            "Epoch 17/300\n",
            "85/85 [==============================] - 1s 7ms/step - loss: 1.9833 - accuracy: 0.4932 - val_loss: 2.0137 - val_accuracy: 0.4649\n",
            "Epoch 18/300\n",
            "85/85 [==============================] - 1s 7ms/step - loss: 1.9098 - accuracy: 0.5329 - val_loss: 1.9556 - val_accuracy: 0.4991\n",
            "Epoch 19/300\n",
            "85/85 [==============================] - 1s 7ms/step - loss: 1.8396 - accuracy: 0.5661 - val_loss: 1.8987 - val_accuracy: 0.5427\n",
            "Epoch 20/300\n",
            "85/85 [==============================] - 1s 6ms/step - loss: 1.7633 - accuracy: 0.6150 - val_loss: 1.8439 - val_accuracy: 0.5712\n",
            "Epoch 21/300\n",
            "85/85 [==============================] - 0s 5ms/step - loss: 1.6956 - accuracy: 0.6451 - val_loss: 1.7896 - val_accuracy: 0.5863\n",
            "Epoch 22/300\n",
            "85/85 [==============================] - 0s 5ms/step - loss: 1.6245 - accuracy: 0.6724 - val_loss: 1.7385 - val_accuracy: 0.6224\n",
            "Epoch 23/300\n",
            "85/85 [==============================] - 0s 5ms/step - loss: 1.5585 - accuracy: 0.7002 - val_loss: 1.6874 - val_accuracy: 0.6395\n",
            "Epoch 24/300\n",
            "85/85 [==============================] - 0s 5ms/step - loss: 1.4910 - accuracy: 0.7249 - val_loss: 1.6391 - val_accuracy: 0.6622\n",
            "Epoch 25/300\n",
            "85/85 [==============================] - 0s 5ms/step - loss: 1.4243 - accuracy: 0.7425 - val_loss: 1.5926 - val_accuracy: 0.6679\n",
            "Epoch 26/300\n",
            "85/85 [==============================] - 0s 5ms/step - loss: 1.3636 - accuracy: 0.7626 - val_loss: 1.5470 - val_accuracy: 0.6926\n",
            "Epoch 27/300\n",
            "85/85 [==============================] - 0s 5ms/step - loss: 1.3032 - accuracy: 0.7788 - val_loss: 1.5043 - val_accuracy: 0.7097\n",
            "Epoch 28/300\n",
            "85/85 [==============================] - 0s 5ms/step - loss: 1.2476 - accuracy: 0.7956 - val_loss: 1.4637 - val_accuracy: 0.7306\n",
            "Epoch 29/300\n",
            "85/85 [==============================] - 0s 5ms/step - loss: 1.1931 - accuracy: 0.8049 - val_loss: 1.4252 - val_accuracy: 0.7476\n",
            "Epoch 30/300\n",
            "85/85 [==============================] - 0s 5ms/step - loss: 1.1377 - accuracy: 0.8151 - val_loss: 1.3880 - val_accuracy: 0.7609\n",
            "Epoch 31/300\n",
            "85/85 [==============================] - 0s 5ms/step - loss: 1.0941 - accuracy: 0.8265 - val_loss: 1.3536 - val_accuracy: 0.7704\n",
            "Epoch 32/300\n",
            "85/85 [==============================] - 0s 5ms/step - loss: 1.0436 - accuracy: 0.8343 - val_loss: 1.3203 - val_accuracy: 0.7723\n",
            "Epoch 33/300\n",
            "85/85 [==============================] - 0s 5ms/step - loss: 0.9976 - accuracy: 0.8436 - val_loss: 1.2885 - val_accuracy: 0.7799\n",
            "Epoch 34/300\n",
            "85/85 [==============================] - 0s 5ms/step - loss: 0.9595 - accuracy: 0.8486 - val_loss: 1.2590 - val_accuracy: 0.7875\n",
            "Epoch 35/300\n",
            "85/85 [==============================] - 0s 5ms/step - loss: 0.9177 - accuracy: 0.8554 - val_loss: 1.2309 - val_accuracy: 0.7837\n",
            "Epoch 36/300\n",
            "85/85 [==============================] - 0s 5ms/step - loss: 0.8797 - accuracy: 0.8640 - val_loss: 1.2041 - val_accuracy: 0.7894\n",
            "Epoch 37/300\n",
            "85/85 [==============================] - 0s 5ms/step - loss: 0.8436 - accuracy: 0.8664 - val_loss: 1.1789 - val_accuracy: 0.7932\n",
            "Epoch 38/300\n",
            "85/85 [==============================] - 0s 6ms/step - loss: 0.8081 - accuracy: 0.8754 - val_loss: 1.1541 - val_accuracy: 0.7989\n",
            "Epoch 39/300\n",
            "85/85 [==============================] - 1s 7ms/step - loss: 0.7723 - accuracy: 0.8806 - val_loss: 1.1312 - val_accuracy: 0.8027\n",
            "Epoch 40/300\n",
            "85/85 [==============================] - 1s 7ms/step - loss: 0.7427 - accuracy: 0.8875 - val_loss: 1.1091 - val_accuracy: 0.8083\n",
            "Epoch 41/300\n",
            "85/85 [==============================] - 1s 7ms/step - loss: 0.7104 - accuracy: 0.8934 - val_loss: 1.0903 - val_accuracy: 0.8159\n",
            "Epoch 42/300\n",
            "85/85 [==============================] - 0s 5ms/step - loss: 0.6838 - accuracy: 0.8994 - val_loss: 1.0702 - val_accuracy: 0.8216\n",
            "Epoch 43/300\n",
            "85/85 [==============================] - 0s 5ms/step - loss: 0.6549 - accuracy: 0.9055 - val_loss: 1.0526 - val_accuracy: 0.8178\n",
            "Epoch 44/300\n",
            "85/85 [==============================] - 0s 5ms/step - loss: 0.6291 - accuracy: 0.9100 - val_loss: 1.0340 - val_accuracy: 0.8197\n",
            "Epoch 45/300\n",
            "85/85 [==============================] - 0s 5ms/step - loss: 0.6030 - accuracy: 0.9160 - val_loss: 1.0189 - val_accuracy: 0.8254\n",
            "Epoch 46/300\n",
            "85/85 [==============================] - 0s 5ms/step - loss: 0.5790 - accuracy: 0.9202 - val_loss: 1.0023 - val_accuracy: 0.8235\n",
            "Epoch 47/300\n",
            "85/85 [==============================] - 0s 5ms/step - loss: 0.5555 - accuracy: 0.9245 - val_loss: 0.9876 - val_accuracy: 0.8292\n",
            "Epoch 48/300\n",
            "85/85 [==============================] - 0s 5ms/step - loss: 0.5319 - accuracy: 0.9312 - val_loss: 0.9737 - val_accuracy: 0.8292\n",
            "Epoch 49/300\n",
            "85/85 [==============================] - 0s 5ms/step - loss: 0.5105 - accuracy: 0.9338 - val_loss: 0.9602 - val_accuracy: 0.8368\n",
            "Epoch 50/300\n",
            "85/85 [==============================] - 0s 5ms/step - loss: 0.4938 - accuracy: 0.9385 - val_loss: 0.9463 - val_accuracy: 0.8349\n",
            "Epoch 51/300\n",
            "85/85 [==============================] - 0s 5ms/step - loss: 0.4745 - accuracy: 0.9402 - val_loss: 0.9332 - val_accuracy: 0.8349\n",
            "Epoch 52/300\n",
            "85/85 [==============================] - 0s 5ms/step - loss: 0.4541 - accuracy: 0.9464 - val_loss: 0.9207 - val_accuracy: 0.8311\n",
            "Epoch 53/300\n",
            "85/85 [==============================] - 0s 5ms/step - loss: 0.4363 - accuracy: 0.9485 - val_loss: 0.9123 - val_accuracy: 0.8368\n",
            "Epoch 54/300\n",
            "85/85 [==============================] - 0s 5ms/step - loss: 0.4184 - accuracy: 0.9537 - val_loss: 0.9015 - val_accuracy: 0.8349\n",
            "Epoch 55/300\n",
            "85/85 [==============================] - 0s 5ms/step - loss: 0.4032 - accuracy: 0.9544 - val_loss: 0.8915 - val_accuracy: 0.8311\n",
            "Epoch 56/300\n",
            "85/85 [==============================] - 0s 5ms/step - loss: 0.3842 - accuracy: 0.9585 - val_loss: 0.8813 - val_accuracy: 0.8349\n",
            "Epoch 57/300\n",
            "85/85 [==============================] - 0s 5ms/step - loss: 0.3698 - accuracy: 0.9599 - val_loss: 0.8725 - val_accuracy: 0.8387\n",
            "Epoch 58/300\n",
            "85/85 [==============================] - 0s 5ms/step - loss: 0.3554 - accuracy: 0.9642 - val_loss: 0.8620 - val_accuracy: 0.8368\n",
            "Epoch 59/300\n",
            "85/85 [==============================] - 0s 5ms/step - loss: 0.3431 - accuracy: 0.9646 - val_loss: 0.8536 - val_accuracy: 0.8368\n",
            "Epoch 60/300\n",
            "85/85 [==============================] - 1s 7ms/step - loss: 0.3278 - accuracy: 0.9694 - val_loss: 0.8491 - val_accuracy: 0.8368\n",
            "Epoch 61/300\n",
            "85/85 [==============================] - 1s 7ms/step - loss: 0.3153 - accuracy: 0.9715 - val_loss: 0.8425 - val_accuracy: 0.8387\n",
            "Epoch 62/300\n",
            "85/85 [==============================] - 1s 7ms/step - loss: 0.3031 - accuracy: 0.9713 - val_loss: 0.8304 - val_accuracy: 0.8425\n",
            "Epoch 63/300\n",
            "85/85 [==============================] - 1s 7ms/step - loss: 0.2903 - accuracy: 0.9753 - val_loss: 0.8234 - val_accuracy: 0.8406\n",
            "Epoch 64/300\n",
            "85/85 [==============================] - 0s 5ms/step - loss: 0.2790 - accuracy: 0.9753 - val_loss: 0.8176 - val_accuracy: 0.8406\n",
            "Epoch 65/300\n",
            "85/85 [==============================] - 0s 5ms/step - loss: 0.2661 - accuracy: 0.9779 - val_loss: 0.8135 - val_accuracy: 0.8406\n",
            "Epoch 66/300\n",
            "85/85 [==============================] - 0s 5ms/step - loss: 0.2570 - accuracy: 0.9798 - val_loss: 0.8021 - val_accuracy: 0.8425\n",
            "Epoch 67/300\n",
            "85/85 [==============================] - 0s 5ms/step - loss: 0.2466 - accuracy: 0.9805 - val_loss: 0.7995 - val_accuracy: 0.8444\n",
            "Epoch 68/300\n",
            "85/85 [==============================] - 0s 5ms/step - loss: 0.2365 - accuracy: 0.9817 - val_loss: 0.7931 - val_accuracy: 0.8425\n",
            "Epoch 69/300\n",
            "85/85 [==============================] - 0s 5ms/step - loss: 0.2274 - accuracy: 0.9829 - val_loss: 0.7888 - val_accuracy: 0.8463\n",
            "Epoch 70/300\n",
            "85/85 [==============================] - 0s 5ms/step - loss: 0.2184 - accuracy: 0.9839 - val_loss: 0.7836 - val_accuracy: 0.8444\n",
            "Epoch 71/300\n",
            "85/85 [==============================] - 0s 5ms/step - loss: 0.2084 - accuracy: 0.9865 - val_loss: 0.7786 - val_accuracy: 0.8444\n",
            "Epoch 72/300\n",
            "85/85 [==============================] - 0s 5ms/step - loss: 0.2017 - accuracy: 0.9865 - val_loss: 0.7761 - val_accuracy: 0.8444\n",
            "Epoch 73/300\n",
            "85/85 [==============================] - 0s 5ms/step - loss: 0.1935 - accuracy: 0.9867 - val_loss: 0.7712 - val_accuracy: 0.8463\n",
            "Epoch 74/300\n",
            "85/85 [==============================] - 0s 5ms/step - loss: 0.1838 - accuracy: 0.9886 - val_loss: 0.7645 - val_accuracy: 0.8482\n",
            "Epoch 75/300\n",
            "85/85 [==============================] - 0s 5ms/step - loss: 0.1780 - accuracy: 0.9891 - val_loss: 0.7643 - val_accuracy: 0.8406\n",
            "Epoch 76/300\n",
            "85/85 [==============================] - 0s 5ms/step - loss: 0.1687 - accuracy: 0.9896 - val_loss: 0.7589 - val_accuracy: 0.8444\n",
            "Epoch 77/300\n",
            "85/85 [==============================] - 0s 5ms/step - loss: 0.1626 - accuracy: 0.9891 - val_loss: 0.7559 - val_accuracy: 0.8463\n",
            "Epoch 78/300\n",
            "85/85 [==============================] - 0s 5ms/step - loss: 0.1586 - accuracy: 0.9907 - val_loss: 0.7526 - val_accuracy: 0.8444\n",
            "Epoch 79/300\n",
            "85/85 [==============================] - 0s 5ms/step - loss: 0.1501 - accuracy: 0.9910 - val_loss: 0.7497 - val_accuracy: 0.8463\n",
            "Epoch 80/300\n",
            "85/85 [==============================] - 0s 5ms/step - loss: 0.1437 - accuracy: 0.9917 - val_loss: 0.7495 - val_accuracy: 0.8482\n",
            "Epoch 81/300\n",
            "85/85 [==============================] - 0s 5ms/step - loss: 0.1385 - accuracy: 0.9926 - val_loss: 0.7411 - val_accuracy: 0.8482\n",
            "Epoch 82/300\n",
            "85/85 [==============================] - 1s 6ms/step - loss: 0.1317 - accuracy: 0.9915 - val_loss: 0.7390 - val_accuracy: 0.8501\n",
            "Epoch 83/300\n",
            "85/85 [==============================] - 1s 7ms/step - loss: 0.1264 - accuracy: 0.9919 - val_loss: 0.7379 - val_accuracy: 0.8482\n",
            "Epoch 84/300\n",
            "85/85 [==============================] - 1s 7ms/step - loss: 0.1219 - accuracy: 0.9934 - val_loss: 0.7370 - val_accuracy: 0.8501\n",
            "Epoch 85/300\n",
            "85/85 [==============================] - 1s 8ms/step - loss: 0.1170 - accuracy: 0.9941 - val_loss: 0.7345 - val_accuracy: 0.8501\n",
            "Epoch 86/300\n",
            "85/85 [==============================] - 1s 6ms/step - loss: 0.1118 - accuracy: 0.9934 - val_loss: 0.7315 - val_accuracy: 0.8482\n",
            "Epoch 87/300\n",
            "85/85 [==============================] - 0s 5ms/step - loss: 0.1058 - accuracy: 0.9945 - val_loss: 0.7291 - val_accuracy: 0.8520\n",
            "Epoch 88/300\n",
            "85/85 [==============================] - 0s 5ms/step - loss: 0.1014 - accuracy: 0.9948 - val_loss: 0.7310 - val_accuracy: 0.8520\n",
            "Epoch 89/300\n",
            "85/85 [==============================] - 0s 5ms/step - loss: 0.0980 - accuracy: 0.9950 - val_loss: 0.7277 - val_accuracy: 0.8501\n",
            "Epoch 90/300\n",
            "85/85 [==============================] - 0s 6ms/step - loss: 0.0939 - accuracy: 0.9960 - val_loss: 0.7248 - val_accuracy: 0.8520\n",
            "Epoch 91/300\n",
            "85/85 [==============================] - 0s 5ms/step - loss: 0.0902 - accuracy: 0.9953 - val_loss: 0.7248 - val_accuracy: 0.8482\n",
            "Epoch 92/300\n",
            "85/85 [==============================] - 0s 5ms/step - loss: 0.0873 - accuracy: 0.9950 - val_loss: 0.7228 - val_accuracy: 0.8463\n",
            "Epoch 93/300\n",
            "85/85 [==============================] - 0s 5ms/step - loss: 0.0821 - accuracy: 0.9979 - val_loss: 0.7203 - val_accuracy: 0.8539\n",
            "Epoch 94/300\n",
            "85/85 [==============================] - 0s 5ms/step - loss: 0.0787 - accuracy: 0.9969 - val_loss: 0.7206 - val_accuracy: 0.8501\n",
            "Epoch 95/300\n",
            "85/85 [==============================] - 0s 5ms/step - loss: 0.0758 - accuracy: 0.9974 - val_loss: 0.7168 - val_accuracy: 0.8558\n",
            "Epoch 96/300\n",
            "85/85 [==============================] - 0s 5ms/step - loss: 0.0723 - accuracy: 0.9972 - val_loss: 0.7186 - val_accuracy: 0.8539\n",
            "Epoch 97/300\n",
            "85/85 [==============================] - 0s 5ms/step - loss: 0.0695 - accuracy: 0.9974 - val_loss: 0.7184 - val_accuracy: 0.8501\n",
            "Epoch 98/300\n",
            "85/85 [==============================] - 0s 5ms/step - loss: 0.0666 - accuracy: 0.9974 - val_loss: 0.7177 - val_accuracy: 0.8501\n",
            "Epoch 99/300\n",
            "85/85 [==============================] - 0s 5ms/step - loss: 0.0643 - accuracy: 0.9974 - val_loss: 0.7181 - val_accuracy: 0.8501\n",
            "Epoch 100/300\n",
            "85/85 [==============================] - 0s 5ms/step - loss: 0.0612 - accuracy: 0.9981 - val_loss: 0.7164 - val_accuracy: 0.8539\n",
            "Epoch 101/300\n",
            "85/85 [==============================] - 0s 5ms/step - loss: 0.0583 - accuracy: 0.9991 - val_loss: 0.7189 - val_accuracy: 0.8558\n",
            "Epoch 102/300\n",
            "85/85 [==============================] - 0s 5ms/step - loss: 0.0563 - accuracy: 0.9981 - val_loss: 0.7166 - val_accuracy: 0.8539\n",
            "Epoch 103/300\n",
            "85/85 [==============================] - 0s 5ms/step - loss: 0.0536 - accuracy: 0.9981 - val_loss: 0.7176 - val_accuracy: 0.8501\n",
            "Epoch 104/300\n",
            "85/85 [==============================] - 0s 5ms/step - loss: 0.0514 - accuracy: 0.9983 - val_loss: 0.7165 - val_accuracy: 0.8539\n",
            "Epoch 105/300\n",
            "85/85 [==============================] - 0s 5ms/step - loss: 0.0501 - accuracy: 0.9981 - val_loss: 0.7179 - val_accuracy: 0.8539\n",
            "Epoch 105: early stopping\n"
          ]
        }
      ]
    },
    {
      "cell_type": "markdown",
      "source": [
        "#### Evaluating and Plotting the Trained Model"
      ],
      "metadata": {
        "id": "qaW-WG7g59Q4"
      }
    },
    {
      "cell_type": "code",
      "source": [
        "# Creating a method for evalutaion and testing.\n",
        "def evaluate_and_plot(model, test_ds, history):\n",
        "  loss, accuracy = model.evaluate(test_ds)\n",
        "  print(\"Model Loss: \", loss)\n",
        "  print(\"Model Accuracy: \", accuracy)\n",
        "\n",
        "  # extracting the history of training and its keys\n",
        "  history_dict = history.history\n",
        "  history_dict.keys()\n",
        "\n",
        "  acc = history_dict['accuracy']\n",
        "  val_acc = history_dict['val_accuracy']\n",
        "  loss = history_dict['loss']\n",
        "  val_loss = history_dict['val_loss']\n",
        "\n",
        "  epochs = range(1, len(acc) + 1)\n",
        "\n",
        "  # ploting of loss\n",
        "  plt.plot(epochs, loss, 'b', label='Training loss')\n",
        "  plt.plot(epochs, val_loss, 'r', label='Validation loss')\n",
        "  plt.title('Training and validation loss')\n",
        "  plt.xlabel('Epochs')\n",
        "  plt.ylabel('Loss')\n",
        "  plt.legend()\n",
        "  plt.show()\n",
        "\n",
        "  # plotting of accuracy\n",
        "  plt.plot(epochs, acc, 'b', label='Training acc')\n",
        "  plt.plot(epochs, val_acc, 'r', label='Validation acc')\n",
        "  plt.title('Training and validation accuracy')\n",
        "  plt.xlabel('Epochs')\n",
        "  plt.ylabel('Accuracy')\n",
        "  plt.legend(loc='lower right')\n",
        "  plt.show()"
      ],
      "metadata": {
        "id": "ZFcf6pqB1D-y"
      },
      "execution_count": 79,
      "outputs": []
    },
    {
      "cell_type": "code",
      "source": [
        "evaluate_and_plot(model_best, tensor_dataset['test_ds'], history)"
      ],
      "metadata": {
        "colab": {
          "base_uri": "https://localhost:8080/",
          "height": 845
        },
        "id": "bheSST6o0st7",
        "outputId": "8d8f78c2-403f-445d-fc57-1336c54ae675"
      },
      "execution_count": 80,
      "outputs": [
        {
          "output_type": "stream",
          "name": "stdout",
          "text": [
            "11/11 [==============================] - 0s 3ms/step - loss: 0.7130 - accuracy: 0.8387\n",
            "Model Loss:  0.7130247950553894\n",
            "Model Accuracy:  0.8387096524238586\n"
          ]
        },
        {
          "output_type": "display_data",
          "data": {
            "text/plain": [
              "<Figure size 432x432 with 1 Axes>"
            ],
            "image/png": "[encoded data removed]"
          },
          "metadata": {
            "needs_background": "light"
          }
        },
        {
          "output_type": "display_data",
          "data": {
            "text/plain": [
              "<Figure size 432x432 with 1 Axes>"
            ],
            "image/png": "[encoded data removed]"
          },
          "metadata": {
            "needs_background": "light"
          }
        }
      ]
    },
    {
      "cell_type": "markdown",
      "source": [
        "As we can see the validation loss is much better."
      ],
      "metadata": {
        "id": "lFL21emgq74T"
      }
    },
    {
      "cell_type": "markdown",
      "source": [
        "## XGBoost Model\n",
        "Our first model is the XGBoost Model."
      ],
      "metadata": {
        "id": "1dWv8ULuUyGb"
      }
    },
    {
      "cell_type": "markdown",
      "source": [
        "### XGBoost Data Preprocessing"
      ],
      "metadata": {
        "id": "Lh95fZwWU7UC"
      }
    },
    {
      "cell_type": "code",
      "source": [
        "train_text = []\n",
        "train_labels = []\n",
        "for text_batch, labels_batch in train_ds:\n",
        "  for text in text_batch:\n",
        "    train_text.append(text.numpy().tolist())\n",
        "  for labels in labels_batch:\n",
        "    train_labels.append(labels.numpy().tolist())\n",
        "\n",
        "val_text = []\n",
        "val_labels = []\n",
        "for text_batch, labels_batch in val_ds:\n",
        "  for text in text_batch:\n",
        "    val_text.append(text.numpy().tolist())\n",
        "  for labels in labels_batch:\n",
        "    val_labels.append(labels.numpy().tolist())\n",
        "\n",
        "test_text = []\n",
        "test_labels = []\n",
        "for text_batch, labels_batch in test_ds:\n",
        "  for text in text_batch:\n",
        "    test_text.append(text.numpy().tolist())\n",
        "  for labels in labels_batch:\n",
        "    test_labels.append(labels.numpy().tolist())"
      ],
      "metadata": {
        "id": "fV18RCKjRFxf"
      },
      "execution_count": 30,
      "outputs": []
    },
    {
      "cell_type": "markdown",
      "source": [
        "The accepted data format for XGBClassifier is:   \n",
        "\n",
        "\n",
        "```\n",
        "ndarray([[ 5,  5,  3, ...,  4,  0,  0],  \n",
        "       [ 2,  2,  0, ...,  8,  1, 17],  \n",
        "       [ 1,  2,  3, ..., 12,  0, 10],   \n",
        "       ...,\n",
        "       [ 0,  6,  5, ...,  8,  4,  8],\n",
        "       [ 3,  4,  8, ...,  6,  1, 15],   \n",
        "       [ 0,  2,  0, ...,  2,  1, 13]])\n",
        "```\n",
        "\n"
      ],
      "metadata": {
        "id": "z8c2Q1gVVQvl"
      }
    },
    {
      "cell_type": "code",
      "source": [
        "train_text = np.array(train_text).T\n",
        "train_labels = np.array(train_labels).T\n",
        "val_text = np.array(val_text).T\n",
        "val_labels = np.array(val_labels).T\n",
        "test_text = np.array(test_text).T\n",
        "test_labels = np.array(test_labels).T\n",
        "print(train_text.shape, train_labels.shape)\n",
        "print(val_text.shape, val_labels.shape)\n",
        "print(test_text.shape, test_labels.shape)"
      ],
      "metadata": {
        "colab": {
          "base_uri": "https://localhost:8080/"
        },
        "id": "3O-Sf5hyTtzU",
        "outputId": "0d8f1d34-ba03-4cc5-de16-ab73e95fddfc"
      },
      "execution_count": 32,
      "outputs": [
        {
          "output_type": "stream",
          "name": "stdout",
          "text": [
            "(4213, 310) (4213,)\n",
            "(527, 310) (527,)\n",
            "(527, 310) (527,)\n"
          ]
        }
      ]
    },
    {
      "cell_type": "code",
      "source": [
        "training_data = {'train_text': train_text, 'train_labels': train_labels, \n",
        "                 'val_text': val_text, 'val_labels': val_labels,\n",
        "                 'test_text': test_text, 'test_labels': test_labels}"
      ],
      "metadata": {
        "id": "hL4NPRAJddOT"
      },
      "execution_count": 38,
      "outputs": []
    },
    {
      "cell_type": "markdown",
      "source": [
        "### XGBoost Training"
      ],
      "metadata": {
        "id": "o8CHxm-yUEwU"
      }
    },
    {
      "cell_type": "markdown",
      "source": [
        "### Creating the XGBoost Model"
      ],
      "metadata": {
        "id": "WqwbMpV6WcFq"
      }
    },
    {
      "cell_type": "markdown",
      "source": [
        "Plot_compare methods for plotting the model and fitXgb method for training the XGBoost model."
      ],
      "metadata": {
        "id": "VBmCnbr6aZvY"
      }
    },
    {
      "cell_type": "code",
      "source": [
        "from sklearn.metrics import accuracy_score, f1_score\n",
        "import xgboost\n",
        "\n",
        "# Plotting and comparing the train and test loss\n",
        "def plot_compare(metrics,eval_results,epochs):\n",
        "    for m in metrics:\n",
        "        test_score = eval_results['val'][m]\n",
        "        train_score = eval_results['train'][m]\n",
        "        rang = range(0, epochs)\n",
        "        plt.rcParams[\"figure.figsize\"] = [6,6]\n",
        "        plt.plot(rang, test_score,\"c\", label=\"Val\")\n",
        "        plt.plot(rang, train_score,\"orange\", label=\"Train\")\n",
        "        title_name = m + \" plot\"\n",
        "        plt.title(title_name)\n",
        "        plt.xlabel('Iterations')\n",
        "        plt.ylabel(m)\n",
        "        lgd = plt.legend()\n",
        "        plt.show()\n",
        "\n",
        "''' \n",
        "  Fitting the XGBClassifier and training an XGBoost model with the fitted parameters.     \n",
        "  We want to plot the validation error and training errors on each epoch and thats why we also train an XGBoost model which is \n",
        "  the same as XGBClassifier, but with the ability to store training history.\n",
        "'''\n",
        "def fitXgb(xgb_classifier, training_data=training_data,epochs=300):\n",
        "    print('Fitting model...')\n",
        "    xgb_classifier.fit(training_data['train_text'], training_data['train_labels']) # Fitting the XGBClassifier\n",
        "    print('Fitting done!')\n",
        "    train = xgboost.DMatrix(training_data['train_text'], label=training_data['train_labels']) # Training data matrix for XGBoost model\n",
        "    val = xgboost.DMatrix(training_data['val_text'], label=training_data['val_labels']) # Validation data matrix for XGBoost model\n",
        "    params = xgb_classifier.get_xgb_params() # Getting the XGBClassifier parameters\n",
        "    metrics = ['mlogloss','merror']\n",
        "    params['eval_metric'] = metrics\n",
        "    store = {}\n",
        "    evallist = [(val, 'val'),(train,'train')]\n",
        "    xgb_model = xgboost.train(params, train, epochs, evallist, evals_result=store, verbose_eval=100) #Training the XGBoost model\n",
        "    print('-- Model Report --')\n",
        "    predictions = xgb_classifier.predict(training_data['test_text'])\n",
        "    print('XGBoost Accuracy: '+str(accuracy_score(predictions, training_data['test_labels'])))\n",
        "    print('XGBoost F1-Score (Micro): '+str(f1_score(predictions, training_data['test_labels'], average='micro')))\n",
        "    plot_compare(metrics,store,epochs)"
      ],
      "metadata": {
        "id": "w76_nYCqajAP"
      },
      "execution_count": 41,
      "outputs": []
    },
    {
      "cell_type": "markdown",
      "source": [
        "Fitting and training the XGBoost model."
      ],
      "metadata": {
        "id": "MvPfpGSvliVT"
      }
    },
    {
      "cell_type": "code",
      "source": [
        "#initial model\n",
        "xgb1 = XGBClassifier(learning_rate=0.1,\n",
        "                    n_estimators=1000,\n",
        "                    max_depth=5,\n",
        "                    min_child_weight=1,\n",
        "                    gamma=0,\n",
        "                    subsample=0.8,\n",
        "                    colsample_bytree=0.8,\n",
        "                    objective='multi:softmax',\n",
        "                    nthread=4,\n",
        "                    num_class=20,\n",
        "                    seed=27)\n",
        "\n",
        "fitXgb(xgb1, training_data)"
      ],
      "metadata": {
        "colab": {
          "base_uri": "https://localhost:8080/",
          "height": 954
        },
        "id": "F9wU3vIBaXVD",
        "outputId": "cc4b84ac-7531-412e-dec8-82d74be3d4c8"
      },
      "execution_count": 42,
      "outputs": [
        {
          "output_type": "stream",
          "name": "stdout",
          "text": [
            "Fitting model...\n",
            "Fitting done!\n",
            "[0]\tval-mlogloss:2.91972\tval-merror:0.800759\ttrain-mlogloss:2.8729\ttrain-merror:0.680987\n",
            "[100]\tval-mlogloss:2.39196\tval-merror:0.690702\ttrain-mlogloss:0.793092\ttrain-merror:0.074769\n",
            "[200]\tval-mlogloss:2.47462\tval-merror:0.681214\ttrain-mlogloss:0.351384\ttrain-merror:0.005934\n",
            "[299]\tval-mlogloss:2.58097\tval-merror:0.677419\ttrain-mlogloss:0.176824\ttrain-merror:0.000712\n",
            "-- Model Report --\n",
            "XGBoost Accuracy: 0.3187855787476281\n",
            "XGBoost F1-Score (Micro): 0.3187855787476281\n"
          ]
        },
        {
          "output_type": "display_data",
          "data": {
            "text/plain": [
              "<Figure size 432x432 with 1 Axes>"
            ],
            "image/png": "[encoded data removed]"
          },
          "metadata": {
            "needs_background": "light"
          }
        },
        {
          "output_type": "display_data",
          "data": {
            "text/plain": [
              "<Figure size 432x432 with 1 Axes>"
            ],
            "image/png": "[encoded data removed]"
          },
          "metadata": {
            "needs_background": "light"
          }
        }
      ]
    },
    {
      "cell_type": "markdown",
      "source": [
        "The model is overfitting! Maybe we should hypertune our model."
      ],
      "metadata": {
        "id": "a5Y3C1BLkE1y"
      }
    },
    {
      "cell_type": "markdown",
      "source": [
        "### Hypertuning our XGBoost Model with Random Search Tuning"
      ],
      "metadata": {
        "id": "xCb-Oxw2l8es"
      }
    },
    {
      "cell_type": "code",
      "source": [
        "# A parameter grid for XGBoost\n",
        "params = {\n",
        "          'n_estimators': [100, 200],\n",
        "          'min_child_weight': [1, 5, 10],\n",
        "          'gamma': [0.5, 1, 1.5, 2, 5],\n",
        "          'subsample': [0.6, 0.8, 1.0],\n",
        "          'colsample_bytree': [0.6, 0.8, 1.0],\n",
        "          'max_depth': [3, 4, 5, 6],\n",
        "         }\n",
        "\n",
        "folds = 3\n",
        "param_comb = 5\n",
        "\n",
        "skf = StratifiedKFold(n_splits=folds, shuffle = True, random_state = 1001)\n",
        "random_search = RandomizedSearchCV(estimator=xgb1, param_distributions=params, n_iter=param_comb, scoring='accuracy', verbose=10, random_state= 1001, cv=skf)\n",
        "search_result = random_search.fit(train_text, train_labels)"
      ],
      "metadata": {
        "id": "kGrxY49bBcfa",
        "colab": {
          "base_uri": "https://localhost:8080/"
        },
        "outputId": "3dc90b28-86b2-4cc0-81f5-0bf3ac7580e1"
      },
      "execution_count": 43,
      "outputs": [
        {
          "output_type": "stream",
          "name": "stdout",
          "text": [
            "Fitting 3 folds for each of 5 candidates, totalling 15 fits\n",
            "[CV 1/3; 1/5] START colsample_bytree=1.0, gamma=1.5, max_depth=3, min_child_weight=10, n_estimators=100, subsample=0.8\n",
            "[CV 1/3; 1/5] END colsample_bytree=1.0, gamma=1.5, max_depth=3, min_child_weight=10, n_estimators=100, subsample=0.8;, score=0.270 total time=  29.0s\n",
            "[CV 2/3; 1/5] START colsample_bytree=1.0, gamma=1.5, max_depth=3, min_child_weight=10, n_estimators=100, subsample=0.8\n",
            "[CV 2/3; 1/5] END colsample_bytree=1.0, gamma=1.5, max_depth=3, min_child_weight=10, n_estimators=100, subsample=0.8;, score=0.266 total time=  30.9s\n",
            "[CV 3/3; 1/5] START colsample_bytree=1.0, gamma=1.5, max_depth=3, min_child_weight=10, n_estimators=100, subsample=0.8\n",
            "[CV 3/3; 1/5] END colsample_bytree=1.0, gamma=1.5, max_depth=3, min_child_weight=10, n_estimators=100, subsample=0.8;, score=0.280 total time=  36.9s\n",
            "[CV 1/3; 2/5] START colsample_bytree=1.0, gamma=1.5, max_depth=5, min_child_weight=1, n_estimators=200, subsample=1.0\n",
            "[CV 1/3; 2/5] END colsample_bytree=1.0, gamma=1.5, max_depth=5, min_child_weight=1, n_estimators=200, subsample=1.0;, score=0.305 total time= 1.7min\n",
            "[CV 2/3; 2/5] START colsample_bytree=1.0, gamma=1.5, max_depth=5, min_child_weight=1, n_estimators=200, subsample=1.0\n",
            "[CV 2/3; 2/5] END colsample_bytree=1.0, gamma=1.5, max_depth=5, min_child_weight=1, n_estimators=200, subsample=1.0;, score=0.307 total time= 1.8min\n",
            "[CV 3/3; 2/5] START colsample_bytree=1.0, gamma=1.5, max_depth=5, min_child_weight=1, n_estimators=200, subsample=1.0\n",
            "[CV 3/3; 2/5] END colsample_bytree=1.0, gamma=1.5, max_depth=5, min_child_weight=1, n_estimators=200, subsample=1.0;, score=0.321 total time= 1.5min\n",
            "[CV 1/3; 3/5] START colsample_bytree=0.6, gamma=2, max_depth=6, min_child_weight=10, n_estimators=200, subsample=0.8\n",
            "[CV 1/3; 3/5] END colsample_bytree=0.6, gamma=2, max_depth=6, min_child_weight=10, n_estimators=200, subsample=0.8;, score=0.303 total time= 1.0min\n",
            "[CV 2/3; 3/5] START colsample_bytree=0.6, gamma=2, max_depth=6, min_child_weight=10, n_estimators=200, subsample=0.8\n",
            "[CV 2/3; 3/5] END colsample_bytree=0.6, gamma=2, max_depth=6, min_child_weight=10, n_estimators=200, subsample=0.8;, score=0.287 total time= 1.2min\n",
            "[CV 3/3; 3/5] START colsample_bytree=0.6, gamma=2, max_depth=6, min_child_weight=10, n_estimators=200, subsample=0.8\n",
            "[CV 3/3; 3/5] END colsample_bytree=0.6, gamma=2, max_depth=6, min_child_weight=10, n_estimators=200, subsample=0.8;, score=0.299 total time= 1.2min\n",
            "[CV 1/3; 4/5] START colsample_bytree=0.6, gamma=2, max_depth=3, min_child_weight=5, n_estimators=200, subsample=1.0\n",
            "[CV 1/3; 4/5] END colsample_bytree=0.6, gamma=2, max_depth=3, min_child_weight=5, n_estimators=200, subsample=1.0;, score=0.309 total time=  42.8s\n",
            "[CV 2/3; 4/5] START colsample_bytree=0.6, gamma=2, max_depth=3, min_child_weight=5, n_estimators=200, subsample=1.0\n",
            "[CV 2/3; 4/5] END colsample_bytree=0.6, gamma=2, max_depth=3, min_child_weight=5, n_estimators=200, subsample=1.0;, score=0.289 total time=  43.5s\n",
            "[CV 3/3; 4/5] START colsample_bytree=0.6, gamma=2, max_depth=3, min_child_weight=5, n_estimators=200, subsample=1.0\n",
            "[CV 3/3; 4/5] END colsample_bytree=0.6, gamma=2, max_depth=3, min_child_weight=5, n_estimators=200, subsample=1.0;, score=0.316 total time=  37.1s\n",
            "[CV 1/3; 5/5] START colsample_bytree=0.8, gamma=2, max_depth=4, min_child_weight=5, n_estimators=200, subsample=0.6\n",
            "[CV 1/3; 5/5] END colsample_bytree=0.8, gamma=2, max_depth=4, min_child_weight=5, n_estimators=200, subsample=0.6;, score=0.305 total time=  59.8s\n",
            "[CV 2/3; 5/5] START colsample_bytree=0.8, gamma=2, max_depth=4, min_child_weight=5, n_estimators=200, subsample=0.6\n",
            "[CV 2/3; 5/5] END colsample_bytree=0.8, gamma=2, max_depth=4, min_child_weight=5, n_estimators=200, subsample=0.6;, score=0.293 total time= 1.0min\n",
            "[CV 3/3; 5/5] START colsample_bytree=0.8, gamma=2, max_depth=4, min_child_weight=5, n_estimators=200, subsample=0.6\n",
            "[CV 3/3; 5/5] END colsample_bytree=0.8, gamma=2, max_depth=4, min_child_weight=5, n_estimators=200, subsample=0.6;, score=0.307 total time=  59.3s\n"
          ]
        }
      ]
    },
    {
      "cell_type": "markdown",
      "source": [
        "### Testing Optimum XGBClassifier Accuracy"
      ],
      "metadata": {
        "id": "yt4zs5JDUKKw"
      }
    },
    {
      "cell_type": "code",
      "source": [
        "# getting the best XGBoost Model\n",
        "y_pred = search_result.predict(test_text)\n",
        "predictions = [round(value) for value in y_pred]\n",
        "# evaluate predictions\n",
        "accuracy = accuracy_score(test_labels, predictions)\n",
        "print(\"XGBoost Accuracy: %.2f%%\" % (accuracy * 100.0))"
      ],
      "metadata": {
        "colab": {
          "base_uri": "https://localhost:8080/"
        },
        "id": "XHtb74nlUT-P",
        "outputId": "0124fe00-b946-4f0e-8b98-97adb6dfa32a"
      },
      "execution_count": 44,
      "outputs": [
        {
          "output_type": "stream",
          "name": "stdout",
          "text": [
            "XGBoost Accuracy: 31.88%\n"
          ]
        }
      ]
    },
    {
      "cell_type": "markdown",
      "source": [
        "We are still overfitting! Our dataset is too small! XGBoost is not optimal for our problem!"
      ],
      "metadata": {
        "id": "-UmJI_rHUZ12"
      }
    },
    {
      "cell_type": "markdown",
      "source": [
        "## Building Cusomized Keras Model"
      ],
      "metadata": {
        "id": "34GPjCzVUf-v"
      }
    },
    {
      "cell_type": "code",
      "source": [
        "def create_customized_model(num_filters, kernel_size, vocab_size, sequence_length, dropout_rate, embedding_dim,hidden_dims,num_of_classes):\n",
        "  # Created Embedding (Input) Layer (max_words) --> Convolutional Layer\n",
        "  model = tf.keras.Sequential([\n",
        "  layers.Embedding(input_dim=vocab_size,                              # input_dim: the size of the vocabulary\n",
        "                   output_dim=embedding_dim,                          # output_dim: the size of the dense vector\n",
        "                   input_length=sequence_length),                     # input_length: the length of the sequence\n",
        "\n",
        "  # Create the convolutional layer\n",
        "  layers.Conv1D(num_filters, kernel_size, padding='valid', activation='relu', strides=1),\n",
        "  # Create the pooling layer\n",
        "  layers.GlobalMaxPool1D(),\n",
        "  layers.Dropout(dropout_rate),\n",
        "  # layers.Dense(hidden_dims),\n",
        "  # layers.Activation('relu'),\n",
        "  # layers.Dropout(0.75),\n",
        "\n",
        "  # Create the output layer\n",
        "  layers.Dense(num_of_classes),\n",
        "  layers.Activation('softmax'),\n",
        "  ])\n",
        "  model.summary()\n",
        "  return model"
      ],
      "metadata": {
        "id": "5eczALl5KZNI"
      },
      "execution_count": 82,
      "outputs": []
    },
    {
      "cell_type": "code",
      "source": [
        "# model configuration\n",
        "\n",
        "# hyper parameters\n",
        "epochs = 200\n",
        "vocab_size = len(vectorize_layer.get_vocabulary())\n",
        "\n",
        "\n",
        "# num_filters, kernel_size, vocab_size, sequence_length, embedding_dim,hidden_dims,num_of_classes\n",
        "model = create_customized_model(250, 5, vocab_size, sequence_length, 0.95, 50, 150, len(labels_names))"
      ],
      "metadata": {
        "colab": {
          "base_uri": "https://localhost:8080/"
        },
        "id": "BBHmGG_SAWhp",
        "outputId": "75b37553-925d-4c91-b0ea-2035690fe122"
      },
      "execution_count": 99,
      "outputs": [
        {
          "output_type": "stream",
          "name": "stdout",
          "text": [
            "Model: \"sequential_7\"\n",
            "_________________________________________________________________\n",
            " Layer (type)                Output Shape              Param #   \n",
            "=================================================================\n",
            " embedding_6 (Embedding)     (None, 310, 50)           818550    \n",
            "                                                                 \n",
            " conv1d (Conv1D)             (None, 306, 250)          62750     \n",
            "                                                                 \n",
            " global_max_pooling1d (Globa  (None, 250)              0         \n",
            " lMaxPooling1D)                                                  \n",
            "                                                                 \n",
            " dropout_12 (Dropout)        (None, 250)               0         \n",
            "                                                                 \n",
            " dense_6 (Dense)             (None, 20)                5020      \n",
            "                                                                 \n",
            " activation (Activation)     (None, 20)                0         \n",
            "                                                                 \n",
            "=================================================================\n",
            "Total params: 886,320\n",
            "Trainable params: 886,320\n",
            "Non-trainable params: 0\n",
            "_________________________________________________________________\n"
          ]
        }
      ]
    },
    {
      "cell_type": "markdown",
      "source": [
        "### Initialzing Model"
      ],
      "metadata": {
        "id": "m7nPZlvUFJSi"
      }
    },
    {
      "cell_type": "code",
      "source": [
        "loss_fn = tf.keras.losses.SparseCategoricalCrossentropy()\n",
        "optimizer = tf.keras.optimizers.SGD(learning_rate=0.007, momentum=0.8, nesterov=True)\n",
        "\n",
        "# model compilation\n",
        "model.compile(optimizer=optimizer,\n",
        "              loss=loss_fn,\n",
        "              metrics=['accuracy'])"
      ],
      "metadata": {
        "id": "uL6c-YGfAwLz"
      },
      "execution_count": 100,
      "outputs": []
    },
    {
      "cell_type": "markdown",
      "source": [
        "### Train"
      ],
      "metadata": {
        "id": "eEE6yxpOFUoX"
      }
    },
    {
      "cell_type": "code",
      "source": [
        "# training the model\n",
        "callbacks = [\n",
        "    tf.keras.callbacks.EarlyStopping(monitor='val_loss', patience=5, verbose=1),\n",
        "    tf.keras.callbacks.ModelCheckpoint(filepath='model.{epoch:02d}-{val_loss:.2f}.h5'),\n",
        "]\n",
        "\n",
        "history = model.fit(train_ds,\n",
        "                    verbose= True,\n",
        "                    validation_data=val_ds,\n",
        "                    epochs=epochs,\n",
        "                    callbacks=callbacks)"
      ],
      "metadata": {
        "colab": {
          "base_uri": "https://localhost:8080/"
        },
        "id": "CIfmPA3SvX4d",
        "outputId": "9d6c085c-5da7-42c7-90bd-ea8580ac62ae"
      },
      "execution_count": 101,
      "outputs": [
        {
          "output_type": "stream",
          "name": "stdout",
          "text": [
            "Epoch 1/200\n",
            "85/85 [==============================] - 12s 75ms/step - loss: 2.9169 - accuracy: 0.1249 - val_loss: 2.8094 - val_accuracy: 0.2030\n",
            "Epoch 2/200\n",
            "85/85 [==============================] - 1s 8ms/step - loss: 2.8312 - accuracy: 0.1773 - val_loss: 2.7404 - val_accuracy: 0.2030\n",
            "Epoch 3/200\n",
            "85/85 [==============================] - 1s 7ms/step - loss: 2.7965 - accuracy: 0.1804 - val_loss: 2.7106 - val_accuracy: 0.2030\n",
            "Epoch 4/200\n",
            "85/85 [==============================] - 1s 7ms/step - loss: 2.7698 - accuracy: 0.1854 - val_loss: 2.6917 - val_accuracy: 0.2030\n",
            "Epoch 5/200\n",
            "85/85 [==============================] - 1s 7ms/step - loss: 2.7391 - accuracy: 0.1873 - val_loss: 2.6760 - val_accuracy: 0.2030\n",
            "Epoch 6/200\n",
            "85/85 [==============================] - 1s 8ms/step - loss: 2.7352 - accuracy: 0.1875 - val_loss: 2.6664 - val_accuracy: 0.2030\n",
            "Epoch 7/200\n",
            "85/85 [==============================] - 1s 10ms/step - loss: 2.7277 - accuracy: 0.1885 - val_loss: 2.6621 - val_accuracy: 0.2030\n",
            "Epoch 8/200\n",
            "85/85 [==============================] - 1s 10ms/step - loss: 2.7192 - accuracy: 0.1875 - val_loss: 2.6548 - val_accuracy: 0.2030\n",
            "Epoch 9/200\n",
            "85/85 [==============================] - 2s 21ms/step - loss: 2.7075 - accuracy: 0.1873 - val_loss: 2.6487 - val_accuracy: 0.2030\n",
            "Epoch 10/200\n",
            "85/85 [==============================] - 1s 13ms/step - loss: 2.7060 - accuracy: 0.1873 - val_loss: 2.6447 - val_accuracy: 0.2030\n",
            "Epoch 11/200\n",
            "85/85 [==============================] - 1s 9ms/step - loss: 2.7053 - accuracy: 0.1868 - val_loss: 2.6427 - val_accuracy: 0.2030\n",
            "Epoch 12/200\n",
            "85/85 [==============================] - 1s 10ms/step - loss: 2.6944 - accuracy: 0.1878 - val_loss: 2.6387 - val_accuracy: 0.2030\n",
            "Epoch 13/200\n",
            "85/85 [==============================] - 1s 8ms/step - loss: 2.6928 - accuracy: 0.1880 - val_loss: 2.6356 - val_accuracy: 0.2030\n",
            "Epoch 14/200\n",
            "85/85 [==============================] - 1s 7ms/step - loss: 2.6885 - accuracy: 0.1878 - val_loss: 2.6320 - val_accuracy: 0.2030\n",
            "Epoch 15/200\n",
            "85/85 [==============================] - 1s 7ms/step - loss: 2.6861 - accuracy: 0.1882 - val_loss: 2.6284 - val_accuracy: 0.2030\n",
            "Epoch 16/200\n",
            "85/85 [==============================] - 1s 7ms/step - loss: 2.6776 - accuracy: 0.1887 - val_loss: 2.6213 - val_accuracy: 0.2030\n",
            "Epoch 17/200\n",
            "85/85 [==============================] - 1s 7ms/step - loss: 2.6750 - accuracy: 0.1889 - val_loss: 2.6176 - val_accuracy: 0.2030\n",
            "Epoch 18/200\n",
            "85/85 [==============================] - 1s 7ms/step - loss: 2.6692 - accuracy: 0.1897 - val_loss: 2.6120 - val_accuracy: 0.2030\n",
            "Epoch 19/200\n",
            "85/85 [==============================] - 1s 7ms/step - loss: 2.6612 - accuracy: 0.1913 - val_loss: 2.6043 - val_accuracy: 0.2030\n",
            "Epoch 20/200\n",
            "85/85 [==============================] - 1s 7ms/step - loss: 2.6540 - accuracy: 0.1951 - val_loss: 2.5942 - val_accuracy: 0.2030\n",
            "Epoch 21/200\n",
            "85/85 [==============================] - 1s 7ms/step - loss: 2.6423 - accuracy: 0.1963 - val_loss: 2.5821 - val_accuracy: 0.2030\n",
            "Epoch 22/200\n",
            "85/85 [==============================] - 1s 7ms/step - loss: 2.6381 - accuracy: 0.2015 - val_loss: 2.5688 - val_accuracy: 0.2182\n",
            "Epoch 23/200\n",
            "85/85 [==============================] - 1s 7ms/step - loss: 2.6273 - accuracy: 0.2027 - val_loss: 2.5526 - val_accuracy: 0.2448\n",
            "Epoch 24/200\n",
            "85/85 [==============================] - 1s 8ms/step - loss: 2.6154 - accuracy: 0.2079 - val_loss: 2.5335 - val_accuracy: 0.2543\n",
            "Epoch 25/200\n",
            "85/85 [==============================] - 1s 9ms/step - loss: 2.5990 - accuracy: 0.2098 - val_loss: 2.5146 - val_accuracy: 0.2581\n",
            "Epoch 26/200\n",
            "85/85 [==============================] - 1s 8ms/step - loss: 2.5818 - accuracy: 0.2162 - val_loss: 2.4906 - val_accuracy: 0.2600\n",
            "Epoch 27/200\n",
            "85/85 [==============================] - 1s 7ms/step - loss: 2.5578 - accuracy: 0.2215 - val_loss: 2.4661 - val_accuracy: 0.2600\n",
            "Epoch 28/200\n",
            "85/85 [==============================] - 1s 7ms/step - loss: 2.5444 - accuracy: 0.2279 - val_loss: 2.4417 - val_accuracy: 0.2600\n",
            "Epoch 29/200\n",
            "85/85 [==============================] - 1s 7ms/step - loss: 2.5296 - accuracy: 0.2283 - val_loss: 2.4198 - val_accuracy: 0.2600\n",
            "Epoch 30/200\n",
            "85/85 [==============================] - 1s 7ms/step - loss: 2.5045 - accuracy: 0.2383 - val_loss: 2.3930 - val_accuracy: 0.2638\n",
            "Epoch 31/200\n",
            "85/85 [==============================] - 1s 7ms/step - loss: 2.4804 - accuracy: 0.2471 - val_loss: 2.3655 - val_accuracy: 0.2960\n",
            "Epoch 32/200\n",
            "85/85 [==============================] - 1s 7ms/step - loss: 2.4498 - accuracy: 0.2535 - val_loss: 2.3344 - val_accuracy: 0.3131\n",
            "Epoch 33/200\n",
            "85/85 [==============================] - 1s 7ms/step - loss: 2.4366 - accuracy: 0.2663 - val_loss: 2.3073 - val_accuracy: 0.3188\n",
            "Epoch 34/200\n",
            "85/85 [==============================] - 1s 7ms/step - loss: 2.4088 - accuracy: 0.2730 - val_loss: 2.2778 - val_accuracy: 0.3207\n",
            "Epoch 35/200\n",
            "85/85 [==============================] - 1s 7ms/step - loss: 2.3719 - accuracy: 0.2798 - val_loss: 2.2497 - val_accuracy: 0.3264\n",
            "Epoch 36/200\n",
            "85/85 [==============================] - 1s 7ms/step - loss: 2.3538 - accuracy: 0.2810 - val_loss: 2.2271 - val_accuracy: 0.3283\n",
            "Epoch 37/200\n",
            "85/85 [==============================] - 1s 7ms/step - loss: 2.3239 - accuracy: 0.2872 - val_loss: 2.2064 - val_accuracy: 0.3283\n",
            "Epoch 38/200\n",
            "85/85 [==============================] - 1s 7ms/step - loss: 2.3083 - accuracy: 0.2967 - val_loss: 2.1839 - val_accuracy: 0.3321\n",
            "Epoch 39/200\n",
            "85/85 [==============================] - 1s 7ms/step - loss: 2.3018 - accuracy: 0.2948 - val_loss: 2.1697 - val_accuracy: 0.3321\n",
            "Epoch 40/200\n",
            "85/85 [==============================] - 1s 7ms/step - loss: 2.2695 - accuracy: 0.3024 - val_loss: 2.1538 - val_accuracy: 0.3321\n",
            "Epoch 41/200\n",
            "85/85 [==============================] - 1s 7ms/step - loss: 2.2496 - accuracy: 0.3029 - val_loss: 2.1387 - val_accuracy: 0.3359\n",
            "Epoch 42/200\n",
            "85/85 [==============================] - 1s 7ms/step - loss: 2.2410 - accuracy: 0.3074 - val_loss: 2.1237 - val_accuracy: 0.3359\n",
            "Epoch 43/200\n",
            "85/85 [==============================] - 1s 8ms/step - loss: 2.2301 - accuracy: 0.3107 - val_loss: 2.1086 - val_accuracy: 0.3359\n",
            "Epoch 44/200\n",
            "85/85 [==============================] - 1s 9ms/step - loss: 2.2005 - accuracy: 0.3211 - val_loss: 2.0965 - val_accuracy: 0.3416\n",
            "Epoch 45/200\n",
            "85/85 [==============================] - 1s 7ms/step - loss: 2.1957 - accuracy: 0.3266 - val_loss: 2.0818 - val_accuracy: 0.3529\n",
            "Epoch 46/200\n",
            "85/85 [==============================] - 1s 7ms/step - loss: 2.1843 - accuracy: 0.3352 - val_loss: 2.0695 - val_accuracy: 0.3681\n",
            "Epoch 47/200\n",
            "85/85 [==============================] - 1s 7ms/step - loss: 2.1690 - accuracy: 0.3449 - val_loss: 2.0543 - val_accuracy: 0.3719\n",
            "Epoch 48/200\n",
            "85/85 [==============================] - 1s 7ms/step - loss: 2.1609 - accuracy: 0.3587 - val_loss: 2.0425 - val_accuracy: 0.3814\n",
            "Epoch 49/200\n",
            "85/85 [==============================] - 1s 7ms/step - loss: 2.1506 - accuracy: 0.3570 - val_loss: 2.0297 - val_accuracy: 0.3947\n",
            "Epoch 50/200\n",
            "85/85 [==============================] - 1s 7ms/step - loss: 2.1192 - accuracy: 0.3753 - val_loss: 2.0153 - val_accuracy: 0.3947\n",
            "Epoch 51/200\n",
            "85/85 [==============================] - 1s 7ms/step - loss: 2.1282 - accuracy: 0.3795 - val_loss: 2.0022 - val_accuracy: 0.4004\n",
            "Epoch 52/200\n",
            "85/85 [==============================] - 1s 7ms/step - loss: 2.0851 - accuracy: 0.3805 - val_loss: 1.9906 - val_accuracy: 0.4004\n",
            "Epoch 53/200\n",
            "85/85 [==============================] - 1s 7ms/step - loss: 2.1030 - accuracy: 0.3862 - val_loss: 1.9784 - val_accuracy: 0.4194\n",
            "Epoch 54/200\n",
            "85/85 [==============================] - 1s 7ms/step - loss: 2.0876 - accuracy: 0.3812 - val_loss: 1.9662 - val_accuracy: 0.4175\n",
            "Epoch 55/200\n",
            "85/85 [==============================] - 1s 7ms/step - loss: 2.0621 - accuracy: 0.4038 - val_loss: 1.9559 - val_accuracy: 0.4175\n",
            "Epoch 56/200\n",
            "85/85 [==============================] - 1s 7ms/step - loss: 2.0512 - accuracy: 0.4033 - val_loss: 1.9457 - val_accuracy: 0.4194\n",
            "Epoch 57/200\n",
            "85/85 [==============================] - 1s 7ms/step - loss: 2.0384 - accuracy: 0.4064 - val_loss: 1.9353 - val_accuracy: 0.4269\n",
            "Epoch 58/200\n",
            "85/85 [==============================] - 1s 7ms/step - loss: 2.0384 - accuracy: 0.4099 - val_loss: 1.9249 - val_accuracy: 0.4459\n",
            "Epoch 59/200\n",
            "85/85 [==============================] - 1s 7ms/step - loss: 2.0194 - accuracy: 0.4121 - val_loss: 1.9151 - val_accuracy: 0.4440\n",
            "Epoch 60/200\n",
            "85/85 [==============================] - 1s 7ms/step - loss: 2.0392 - accuracy: 0.4061 - val_loss: 1.9055 - val_accuracy: 0.4516\n",
            "Epoch 61/200\n",
            "85/85 [==============================] - 1s 7ms/step - loss: 2.0166 - accuracy: 0.4204 - val_loss: 1.8964 - val_accuracy: 0.4421\n",
            "Epoch 62/200\n",
            "85/85 [==============================] - 1s 9ms/step - loss: 1.9874 - accuracy: 0.4189 - val_loss: 1.8860 - val_accuracy: 0.4554\n",
            "Epoch 63/200\n",
            "85/85 [==============================] - 1s 9ms/step - loss: 2.0010 - accuracy: 0.4289 - val_loss: 1.8776 - val_accuracy: 0.4573\n",
            "Epoch 64/200\n",
            "85/85 [==============================] - 1s 7ms/step - loss: 1.9728 - accuracy: 0.4327 - val_loss: 1.8659 - val_accuracy: 0.4896\n",
            "Epoch 65/200\n",
            "85/85 [==============================] - 1s 7ms/step - loss: 1.9704 - accuracy: 0.4358 - val_loss: 1.8577 - val_accuracy: 0.4877\n",
            "Epoch 66/200\n",
            "85/85 [==============================] - 1s 7ms/step - loss: 1.9437 - accuracy: 0.4365 - val_loss: 1.8464 - val_accuracy: 0.4858\n",
            "Epoch 67/200\n",
            "85/85 [==============================] - 1s 7ms/step - loss: 1.9476 - accuracy: 0.4403 - val_loss: 1.8387 - val_accuracy: 0.4782\n",
            "Epoch 68/200\n",
            "85/85 [==============================] - 1s 7ms/step - loss: 1.9397 - accuracy: 0.4427 - val_loss: 1.8316 - val_accuracy: 0.4858\n",
            "Epoch 69/200\n",
            "85/85 [==============================] - 1s 7ms/step - loss: 1.9348 - accuracy: 0.4396 - val_loss: 1.8234 - val_accuracy: 0.5104\n",
            "Epoch 70/200\n",
            "85/85 [==============================] - 1s 7ms/step - loss: 1.9331 - accuracy: 0.4403 - val_loss: 1.8129 - val_accuracy: 0.5047\n",
            "Epoch 71/200\n",
            "85/85 [==============================] - 1s 7ms/step - loss: 1.9157 - accuracy: 0.4462 - val_loss: 1.8070 - val_accuracy: 0.5009\n",
            "Epoch 72/200\n",
            "85/85 [==============================] - 1s 7ms/step - loss: 1.8963 - accuracy: 0.4557 - val_loss: 1.7994 - val_accuracy: 0.4972\n",
            "Epoch 73/200\n",
            "85/85 [==============================] - 1s 7ms/step - loss: 1.8949 - accuracy: 0.4543 - val_loss: 1.7901 - val_accuracy: 0.5047\n",
            "Epoch 74/200\n",
            "85/85 [==============================] - 1s 7ms/step - loss: 1.8850 - accuracy: 0.4543 - val_loss: 1.7807 - val_accuracy: 0.5028\n",
            "Epoch 75/200\n",
            "85/85 [==============================] - 1s 7ms/step - loss: 1.8798 - accuracy: 0.4564 - val_loss: 1.7706 - val_accuracy: 0.5047\n",
            "Epoch 76/200\n",
            "85/85 [==============================] - 1s 7ms/step - loss: 1.8776 - accuracy: 0.4610 - val_loss: 1.7630 - val_accuracy: 0.5237\n",
            "Epoch 77/200\n",
            "85/85 [==============================] - 1s 7ms/step - loss: 1.8527 - accuracy: 0.4742 - val_loss: 1.7534 - val_accuracy: 0.5332\n",
            "Epoch 78/200\n",
            "85/85 [==============================] - 1s 7ms/step - loss: 1.8766 - accuracy: 0.4638 - val_loss: 1.7490 - val_accuracy: 0.5370\n",
            "Epoch 79/200\n",
            "85/85 [==============================] - 1s 7ms/step - loss: 1.8542 - accuracy: 0.4731 - val_loss: 1.7393 - val_accuracy: 0.5237\n",
            "Epoch 80/200\n",
            "85/85 [==============================] - 1s 8ms/step - loss: 1.8483 - accuracy: 0.4771 - val_loss: 1.7309 - val_accuracy: 0.5218\n",
            "Epoch 81/200\n",
            "85/85 [==============================] - 1s 9ms/step - loss: 1.8335 - accuracy: 0.4830 - val_loss: 1.7229 - val_accuracy: 0.5408\n",
            "Epoch 82/200\n",
            "85/85 [==============================] - 1s 8ms/step - loss: 1.8383 - accuracy: 0.4818 - val_loss: 1.7158 - val_accuracy: 0.5541\n",
            "Epoch 83/200\n",
            "85/85 [==============================] - 1s 7ms/step - loss: 1.8174 - accuracy: 0.4937 - val_loss: 1.7079 - val_accuracy: 0.5313\n",
            "Epoch 84/200\n",
            "85/85 [==============================] - 1s 7ms/step - loss: 1.8125 - accuracy: 0.4918 - val_loss: 1.7008 - val_accuracy: 0.5579\n",
            "Epoch 85/200\n",
            "85/85 [==============================] - 1s 7ms/step - loss: 1.8181 - accuracy: 0.4821 - val_loss: 1.6958 - val_accuracy: 0.5446\n",
            "Epoch 86/200\n",
            "85/85 [==============================] - 1s 7ms/step - loss: 1.7845 - accuracy: 0.4901 - val_loss: 1.6883 - val_accuracy: 0.5560\n",
            "Epoch 87/200\n",
            "85/85 [==============================] - 1s 7ms/step - loss: 1.7857 - accuracy: 0.4932 - val_loss: 1.6827 - val_accuracy: 0.5636\n",
            "Epoch 88/200\n",
            "85/85 [==============================] - 1s 7ms/step - loss: 1.7721 - accuracy: 0.5020 - val_loss: 1.6764 - val_accuracy: 0.5636\n",
            "Epoch 89/200\n",
            "85/85 [==============================] - 1s 7ms/step - loss: 1.7635 - accuracy: 0.5032 - val_loss: 1.6684 - val_accuracy: 0.5541\n",
            "Epoch 90/200\n",
            "85/85 [==============================] - 1s 7ms/step - loss: 1.7703 - accuracy: 0.5082 - val_loss: 1.6634 - val_accuracy: 0.5769\n",
            "Epoch 91/200\n",
            "85/85 [==============================] - 1s 7ms/step - loss: 1.7615 - accuracy: 0.4977 - val_loss: 1.6586 - val_accuracy: 0.5750\n",
            "Epoch 92/200\n",
            "85/85 [==============================] - 1s 7ms/step - loss: 1.7464 - accuracy: 0.5144 - val_loss: 1.6513 - val_accuracy: 0.5750\n",
            "Epoch 93/200\n",
            "85/85 [==============================] - 1s 7ms/step - loss: 1.7550 - accuracy: 0.5151 - val_loss: 1.6441 - val_accuracy: 0.5863\n",
            "Epoch 94/200\n",
            "85/85 [==============================] - 1s 7ms/step - loss: 1.7382 - accuracy: 0.5177 - val_loss: 1.6398 - val_accuracy: 0.5920\n",
            "Epoch 95/200\n",
            "85/85 [==============================] - 1s 7ms/step - loss: 1.7383 - accuracy: 0.5139 - val_loss: 1.6336 - val_accuracy: 0.5863\n",
            "Epoch 96/200\n",
            "85/85 [==============================] - 1s 7ms/step - loss: 1.7090 - accuracy: 0.5260 - val_loss: 1.6264 - val_accuracy: 0.5901\n",
            "Epoch 97/200\n",
            "85/85 [==============================] - 1s 7ms/step - loss: 1.7359 - accuracy: 0.5210 - val_loss: 1.6193 - val_accuracy: 0.5939\n",
            "Epoch 98/200\n",
            "85/85 [==============================] - 1s 9ms/step - loss: 1.7207 - accuracy: 0.5208 - val_loss: 1.6125 - val_accuracy: 0.5901\n",
            "Epoch 99/200\n",
            "85/85 [==============================] - 1s 9ms/step - loss: 1.6853 - accuracy: 0.5376 - val_loss: 1.6053 - val_accuracy: 0.5958\n",
            "Epoch 100/200\n",
            "85/85 [==============================] - 1s 9ms/step - loss: 1.6958 - accuracy: 0.5388 - val_loss: 1.6012 - val_accuracy: 0.6034\n",
            "Epoch 101/200\n",
            "85/85 [==============================] - 1s 7ms/step - loss: 1.6886 - accuracy: 0.5286 - val_loss: 1.5950 - val_accuracy: 0.6072\n",
            "Epoch 102/200\n",
            "85/85 [==============================] - 1s 7ms/step - loss: 1.6771 - accuracy: 0.5355 - val_loss: 1.5873 - val_accuracy: 0.6148\n",
            "Epoch 103/200\n",
            "85/85 [==============================] - 1s 7ms/step - loss: 1.6839 - accuracy: 0.5331 - val_loss: 1.5834 - val_accuracy: 0.6224\n",
            "Epoch 104/200\n",
            "85/85 [==============================] - 1s 7ms/step - loss: 1.6824 - accuracy: 0.5436 - val_loss: 1.5764 - val_accuracy: 0.6186\n",
            "Epoch 105/200\n",
            "85/85 [==============================] - 1s 7ms/step - loss: 1.6735 - accuracy: 0.5414 - val_loss: 1.5736 - val_accuracy: 0.6224\n",
            "Epoch 106/200\n",
            "85/85 [==============================] - 1s 7ms/step - loss: 1.6607 - accuracy: 0.5568 - val_loss: 1.5662 - val_accuracy: 0.6243\n",
            "Epoch 107/200\n",
            "85/85 [==============================] - 1s 7ms/step - loss: 1.6356 - accuracy: 0.5554 - val_loss: 1.5606 - val_accuracy: 0.6262\n",
            "Epoch 108/200\n",
            "85/85 [==============================] - 1s 7ms/step - loss: 1.6432 - accuracy: 0.5592 - val_loss: 1.5564 - val_accuracy: 0.6262\n",
            "Epoch 109/200\n",
            "85/85 [==============================] - 1s 7ms/step - loss: 1.6398 - accuracy: 0.5493 - val_loss: 1.5495 - val_accuracy: 0.6376\n",
            "Epoch 110/200\n",
            "85/85 [==============================] - 1s 7ms/step - loss: 1.6273 - accuracy: 0.5614 - val_loss: 1.5443 - val_accuracy: 0.6433\n",
            "Epoch 111/200\n",
            "85/85 [==============================] - 1s 7ms/step - loss: 1.6361 - accuracy: 0.5500 - val_loss: 1.5416 - val_accuracy: 0.6452\n",
            "Epoch 112/200\n",
            "85/85 [==============================] - 1s 7ms/step - loss: 1.6263 - accuracy: 0.5642 - val_loss: 1.5377 - val_accuracy: 0.6528\n",
            "Epoch 113/200\n",
            "85/85 [==============================] - 1s 7ms/step - loss: 1.6168 - accuracy: 0.5604 - val_loss: 1.5295 - val_accuracy: 0.6509\n",
            "Epoch 114/200\n",
            "85/85 [==============================] - 1s 7ms/step - loss: 1.5968 - accuracy: 0.5659 - val_loss: 1.5216 - val_accuracy: 0.6471\n",
            "Epoch 115/200\n",
            "85/85 [==============================] - 1s 7ms/step - loss: 1.5811 - accuracy: 0.5780 - val_loss: 1.5162 - val_accuracy: 0.6565\n",
            "Epoch 116/200\n",
            "85/85 [==============================] - 1s 7ms/step - loss: 1.5880 - accuracy: 0.5758 - val_loss: 1.5100 - val_accuracy: 0.6603\n",
            "Epoch 117/200\n",
            "85/85 [==============================] - 1s 8ms/step - loss: 1.5898 - accuracy: 0.5758 - val_loss: 1.5047 - val_accuracy: 0.6509\n",
            "Epoch 118/200\n",
            "85/85 [==============================] - 1s 9ms/step - loss: 1.5533 - accuracy: 0.5792 - val_loss: 1.5009 - val_accuracy: 0.6528\n",
            "Epoch 119/200\n",
            "85/85 [==============================] - 1s 8ms/step - loss: 1.5442 - accuracy: 0.5756 - val_loss: 1.4931 - val_accuracy: 0.6528\n",
            "Epoch 120/200\n",
            "85/85 [==============================] - 1s 7ms/step - loss: 1.5498 - accuracy: 0.5858 - val_loss: 1.4876 - val_accuracy: 0.6603\n",
            "Epoch 121/200\n",
            "85/85 [==============================] - 1s 7ms/step - loss: 1.5692 - accuracy: 0.5830 - val_loss: 1.4847 - val_accuracy: 0.6603\n",
            "Epoch 122/200\n",
            "85/85 [==============================] - 1s 7ms/step - loss: 1.5344 - accuracy: 0.5936 - val_loss: 1.4779 - val_accuracy: 0.6584\n",
            "Epoch 123/200\n",
            "85/85 [==============================] - 1s 7ms/step - loss: 1.5431 - accuracy: 0.5851 - val_loss: 1.4734 - val_accuracy: 0.6660\n",
            "Epoch 124/200\n",
            "85/85 [==============================] - 1s 7ms/step - loss: 1.5330 - accuracy: 0.5948 - val_loss: 1.4640 - val_accuracy: 0.6660\n",
            "Epoch 125/200\n",
            "85/85 [==============================] - 1s 7ms/step - loss: 1.5233 - accuracy: 0.5917 - val_loss: 1.4592 - val_accuracy: 0.6698\n",
            "Epoch 126/200\n",
            "85/85 [==============================] - 1s 7ms/step - loss: 1.4990 - accuracy: 0.5920 - val_loss: 1.4560 - val_accuracy: 0.6679\n",
            "Epoch 127/200\n",
            "85/85 [==============================] - 1s 7ms/step - loss: 1.5230 - accuracy: 0.5951 - val_loss: 1.4479 - val_accuracy: 0.6622\n",
            "Epoch 128/200\n",
            "85/85 [==============================] - 1s 7ms/step - loss: 1.4921 - accuracy: 0.6038 - val_loss: 1.4462 - val_accuracy: 0.6698\n",
            "Epoch 129/200\n",
            "85/85 [==============================] - 1s 7ms/step - loss: 1.4700 - accuracy: 0.6145 - val_loss: 1.4365 - val_accuracy: 0.6660\n",
            "Epoch 130/200\n",
            "85/85 [==============================] - 1s 7ms/step - loss: 1.4766 - accuracy: 0.5998 - val_loss: 1.4313 - val_accuracy: 0.6641\n",
            "Epoch 131/200\n",
            "85/85 [==============================] - 1s 7ms/step - loss: 1.4831 - accuracy: 0.6107 - val_loss: 1.4289 - val_accuracy: 0.6698\n",
            "Epoch 132/200\n",
            "85/85 [==============================] - 1s 7ms/step - loss: 1.4594 - accuracy: 0.6008 - val_loss: 1.4222 - val_accuracy: 0.6717\n",
            "Epoch 133/200\n",
            "85/85 [==============================] - 1s 7ms/step - loss: 1.4557 - accuracy: 0.6122 - val_loss: 1.4139 - val_accuracy: 0.6736\n",
            "Epoch 134/200\n",
            "85/85 [==============================] - 1s 7ms/step - loss: 1.4457 - accuracy: 0.6138 - val_loss: 1.4112 - val_accuracy: 0.6736\n",
            "Epoch 135/200\n",
            "85/85 [==============================] - 1s 7ms/step - loss: 1.4646 - accuracy: 0.6053 - val_loss: 1.4093 - val_accuracy: 0.6660\n",
            "Epoch 136/200\n",
            "85/85 [==============================] - 1s 8ms/step - loss: 1.4382 - accuracy: 0.6100 - val_loss: 1.4017 - val_accuracy: 0.6774\n",
            "Epoch 137/200\n",
            "85/85 [==============================] - 1s 8ms/step - loss: 1.4616 - accuracy: 0.6117 - val_loss: 1.3978 - val_accuracy: 0.6755\n",
            "Epoch 138/200\n",
            "85/85 [==============================] - 1s 8ms/step - loss: 1.4256 - accuracy: 0.6216 - val_loss: 1.3886 - val_accuracy: 0.6831\n",
            "Epoch 139/200\n",
            "85/85 [==============================] - 1s 7ms/step - loss: 1.4111 - accuracy: 0.6233 - val_loss: 1.3824 - val_accuracy: 0.6812\n",
            "Epoch 140/200\n",
            "85/85 [==============================] - 1s 7ms/step - loss: 1.4233 - accuracy: 0.6193 - val_loss: 1.3767 - val_accuracy: 0.6850\n",
            "Epoch 141/200\n",
            "85/85 [==============================] - 1s 7ms/step - loss: 1.4153 - accuracy: 0.6262 - val_loss: 1.3711 - val_accuracy: 0.6774\n",
            "Epoch 142/200\n",
            "85/85 [==============================] - 1s 7ms/step - loss: 1.4046 - accuracy: 0.6238 - val_loss: 1.3657 - val_accuracy: 0.6850\n",
            "Epoch 143/200\n",
            "85/85 [==============================] - 1s 7ms/step - loss: 1.3838 - accuracy: 0.6311 - val_loss: 1.3602 - val_accuracy: 0.6850\n",
            "Epoch 144/200\n",
            "85/85 [==============================] - 1s 7ms/step - loss: 1.4071 - accuracy: 0.6181 - val_loss: 1.3557 - val_accuracy: 0.6850\n",
            "Epoch 145/200\n",
            "85/85 [==============================] - 1s 7ms/step - loss: 1.3627 - accuracy: 0.6378 - val_loss: 1.3499 - val_accuracy: 0.6888\n",
            "Epoch 146/200\n",
            "85/85 [==============================] - 1s 7ms/step - loss: 1.3835 - accuracy: 0.6285 - val_loss: 1.3438 - val_accuracy: 0.6850\n",
            "Epoch 147/200\n",
            "85/85 [==============================] - 1s 7ms/step - loss: 1.3411 - accuracy: 0.6444 - val_loss: 1.3374 - val_accuracy: 0.6888\n",
            "Epoch 148/200\n",
            "85/85 [==============================] - 1s 7ms/step - loss: 1.3464 - accuracy: 0.6380 - val_loss: 1.3355 - val_accuracy: 0.6926\n",
            "Epoch 149/200\n",
            "85/85 [==============================] - 1s 7ms/step - loss: 1.3568 - accuracy: 0.6411 - val_loss: 1.3298 - val_accuracy: 0.6888\n",
            "Epoch 150/200\n",
            "85/85 [==============================] - 1s 7ms/step - loss: 1.3420 - accuracy: 0.6428 - val_loss: 1.3244 - val_accuracy: 0.6869\n",
            "Epoch 151/200\n",
            "85/85 [==============================] - 1s 7ms/step - loss: 1.3213 - accuracy: 0.6392 - val_loss: 1.3209 - val_accuracy: 0.6907\n",
            "Epoch 152/200\n",
            "85/85 [==============================] - 1s 7ms/step - loss: 1.3131 - accuracy: 0.6454 - val_loss: 1.3168 - val_accuracy: 0.6850\n",
            "Epoch 153/200\n",
            "85/85 [==============================] - 1s 7ms/step - loss: 1.3078 - accuracy: 0.6459 - val_loss: 1.3108 - val_accuracy: 0.6907\n",
            "Epoch 154/200\n",
            "85/85 [==============================] - 1s 9ms/step - loss: 1.2976 - accuracy: 0.6518 - val_loss: 1.3082 - val_accuracy: 0.6869\n",
            "Epoch 155/200\n",
            "85/85 [==============================] - 1s 9ms/step - loss: 1.3108 - accuracy: 0.6421 - val_loss: 1.3064 - val_accuracy: 0.6869\n",
            "Epoch 156/200\n",
            "85/85 [==============================] - 1s 7ms/step - loss: 1.2974 - accuracy: 0.6506 - val_loss: 1.3000 - val_accuracy: 0.6964\n",
            "Epoch 157/200\n",
            "85/85 [==============================] - 1s 7ms/step - loss: 1.2689 - accuracy: 0.6641 - val_loss: 1.2941 - val_accuracy: 0.6926\n",
            "Epoch 158/200\n",
            "85/85 [==============================] - 1s 7ms/step - loss: 1.2971 - accuracy: 0.6530 - val_loss: 1.2915 - val_accuracy: 0.7002\n",
            "Epoch 159/200\n",
            "85/85 [==============================] - 1s 7ms/step - loss: 1.2699 - accuracy: 0.6556 - val_loss: 1.2857 - val_accuracy: 0.6964\n",
            "Epoch 160/200\n",
            "85/85 [==============================] - 1s 7ms/step - loss: 1.2746 - accuracy: 0.6542 - val_loss: 1.2848 - val_accuracy: 0.6983\n",
            "Epoch 161/200\n",
            "85/85 [==============================] - 1s 7ms/step - loss: 1.2580 - accuracy: 0.6554 - val_loss: 1.2778 - val_accuracy: 0.6964\n",
            "Epoch 162/200\n",
            "85/85 [==============================] - 1s 7ms/step - loss: 1.2635 - accuracy: 0.6554 - val_loss: 1.2762 - val_accuracy: 0.6983\n",
            "Epoch 163/200\n",
            "85/85 [==============================] - 1s 7ms/step - loss: 1.2444 - accuracy: 0.6639 - val_loss: 1.2707 - val_accuracy: 0.6964\n",
            "Epoch 164/200\n",
            "85/85 [==============================] - 1s 7ms/step - loss: 1.2089 - accuracy: 0.6760 - val_loss: 1.2689 - val_accuracy: 0.7002\n",
            "Epoch 165/200\n",
            "85/85 [==============================] - 1s 7ms/step - loss: 1.2477 - accuracy: 0.6596 - val_loss: 1.2645 - val_accuracy: 0.7002\n",
            "Epoch 166/200\n",
            "85/85 [==============================] - 1s 7ms/step - loss: 1.2154 - accuracy: 0.6708 - val_loss: 1.2615 - val_accuracy: 0.6983\n",
            "Epoch 167/200\n",
            "85/85 [==============================] - 1s 7ms/step - loss: 1.1965 - accuracy: 0.6843 - val_loss: 1.2565 - val_accuracy: 0.6983\n",
            "Epoch 168/200\n",
            "85/85 [==============================] - 1s 7ms/step - loss: 1.2130 - accuracy: 0.6701 - val_loss: 1.2551 - val_accuracy: 0.7002\n",
            "Epoch 169/200\n",
            "85/85 [==============================] - 1s 7ms/step - loss: 1.2083 - accuracy: 0.6667 - val_loss: 1.2494 - val_accuracy: 0.7021\n",
            "Epoch 170/200\n",
            "85/85 [==============================] - 1s 7ms/step - loss: 1.2006 - accuracy: 0.6779 - val_loss: 1.2440 - val_accuracy: 0.7040\n",
            "Epoch 171/200\n",
            "85/85 [==============================] - 1s 7ms/step - loss: 1.1796 - accuracy: 0.6753 - val_loss: 1.2407 - val_accuracy: 0.7135\n",
            "Epoch 172/200\n",
            "85/85 [==============================] - 1s 8ms/step - loss: 1.1891 - accuracy: 0.6705 - val_loss: 1.2407 - val_accuracy: 0.7040\n",
            "Epoch 173/200\n",
            "85/85 [==============================] - 1s 9ms/step - loss: 1.1653 - accuracy: 0.6793 - val_loss: 1.2358 - val_accuracy: 0.7021\n",
            "Epoch 174/200\n",
            "85/85 [==============================] - 1s 8ms/step - loss: 1.1550 - accuracy: 0.6817 - val_loss: 1.2334 - val_accuracy: 0.7021\n",
            "Epoch 175/200\n",
            "85/85 [==============================] - 1s 7ms/step - loss: 1.1655 - accuracy: 0.6855 - val_loss: 1.2306 - val_accuracy: 0.7021\n",
            "Epoch 176/200\n",
            "85/85 [==============================] - 1s 7ms/step - loss: 1.1401 - accuracy: 0.6886 - val_loss: 1.2251 - val_accuracy: 0.7021\n",
            "Epoch 177/200\n",
            "85/85 [==============================] - 1s 7ms/step - loss: 1.1537 - accuracy: 0.6822 - val_loss: 1.2241 - val_accuracy: 0.7078\n",
            "Epoch 178/200\n",
            "85/85 [==============================] - 1s 7ms/step - loss: 1.1442 - accuracy: 0.6893 - val_loss: 1.2269 - val_accuracy: 0.7078\n",
            "Epoch 179/200\n",
            "85/85 [==============================] - 1s 7ms/step - loss: 1.1248 - accuracy: 0.6936 - val_loss: 1.2197 - val_accuracy: 0.7059\n",
            "Epoch 180/200\n",
            "85/85 [==============================] - 1s 7ms/step - loss: 1.1310 - accuracy: 0.6843 - val_loss: 1.2152 - val_accuracy: 0.7097\n",
            "Epoch 181/200\n",
            "85/85 [==============================] - 1s 7ms/step - loss: 1.1147 - accuracy: 0.6879 - val_loss: 1.2155 - val_accuracy: 0.7097\n",
            "Epoch 182/200\n",
            "85/85 [==============================] - 1s 7ms/step - loss: 1.1038 - accuracy: 0.6959 - val_loss: 1.2133 - val_accuracy: 0.7078\n",
            "Epoch 183/200\n",
            "85/85 [==============================] - 1s 7ms/step - loss: 1.0947 - accuracy: 0.6976 - val_loss: 1.2134 - val_accuracy: 0.7078\n",
            "Epoch 184/200\n",
            "85/85 [==============================] - 1s 7ms/step - loss: 1.0925 - accuracy: 0.6981 - val_loss: 1.2076 - val_accuracy: 0.7097\n",
            "Epoch 185/200\n",
            "85/85 [==============================] - 1s 7ms/step - loss: 1.0989 - accuracy: 0.6990 - val_loss: 1.2097 - val_accuracy: 0.7078\n",
            "Epoch 186/200\n",
            "85/85 [==============================] - 1s 7ms/step - loss: 1.1004 - accuracy: 0.6905 - val_loss: 1.2050 - val_accuracy: 0.7059\n",
            "Epoch 187/200\n",
            "85/85 [==============================] - 1s 7ms/step - loss: 1.0979 - accuracy: 0.6893 - val_loss: 1.2022 - val_accuracy: 0.7116\n",
            "Epoch 188/200\n",
            "85/85 [==============================] - 1s 7ms/step - loss: 1.0796 - accuracy: 0.7012 - val_loss: 1.2021 - val_accuracy: 0.7059\n",
            "Epoch 189/200\n",
            "85/85 [==============================] - 1s 7ms/step - loss: 1.0803 - accuracy: 0.7009 - val_loss: 1.2015 - val_accuracy: 0.7135\n",
            "Epoch 190/200\n",
            "85/85 [==============================] - 1s 7ms/step - loss: 1.0615 - accuracy: 0.7073 - val_loss: 1.1987 - val_accuracy: 0.7116\n",
            "Epoch 191/200\n",
            "85/85 [==============================] - 1s 9ms/step - loss: 1.0630 - accuracy: 0.6993 - val_loss: 1.1939 - val_accuracy: 0.7135\n",
            "Epoch 192/200\n",
            "85/85 [==============================] - 1s 9ms/step - loss: 1.0781 - accuracy: 0.6986 - val_loss: 1.1978 - val_accuracy: 0.7135\n",
            "Epoch 193/200\n",
            "85/85 [==============================] - 1s 9ms/step - loss: 1.0422 - accuracy: 0.7078 - val_loss: 1.1918 - val_accuracy: 0.7154\n",
            "Epoch 194/200\n",
            "85/85 [==============================] - 1s 7ms/step - loss: 1.0204 - accuracy: 0.7168 - val_loss: 1.1911 - val_accuracy: 0.7135\n",
            "Epoch 195/200\n",
            "85/85 [==============================] - 1s 7ms/step - loss: 1.0221 - accuracy: 0.7164 - val_loss: 1.1866 - val_accuracy: 0.7135\n",
            "Epoch 196/200\n",
            "85/85 [==============================] - 1s 7ms/step - loss: 1.0424 - accuracy: 0.7088 - val_loss: 1.1868 - val_accuracy: 0.7173\n",
            "Epoch 197/200\n",
            "85/85 [==============================] - 1s 7ms/step - loss: 1.0081 - accuracy: 0.7202 - val_loss: 1.1853 - val_accuracy: 0.7154\n",
            "Epoch 198/200\n",
            "85/85 [==============================] - 1s 7ms/step - loss: 1.0331 - accuracy: 0.7092 - val_loss: 1.1841 - val_accuracy: 0.7135\n",
            "Epoch 199/200\n",
            "85/85 [==============================] - 1s 7ms/step - loss: 1.0219 - accuracy: 0.7173 - val_loss: 1.1830 - val_accuracy: 0.7135\n",
            "Epoch 200/200\n",
            "85/85 [==============================] - 1s 7ms/step - loss: 1.0191 - accuracy: 0.7133 - val_loss: 1.1807 - val_accuracy: 0.7173\n"
          ]
        }
      ]
    },
    {
      "cell_type": "markdown",
      "source": [
        "### Test"
      ],
      "metadata": {
        "id": "8Jd0HBg6FaVY"
      }
    },
    {
      "cell_type": "code",
      "source": [
        "# printing loss and accuracy of the model on the test set\n",
        "loss, accuracy = model.evaluate(test_ds)\n",
        "print(\"Loss: \", loss)\n",
        "print(\"Accuracy: \", accuracy)"
      ],
      "metadata": {
        "colab": {
          "base_uri": "https://localhost:8080/"
        },
        "id": "FksY9EwwHDkd",
        "outputId": "36353b90-7ee7-4817-fc92-52261f11eae7"
      },
      "execution_count": 102,
      "outputs": [
        {
          "output_type": "stream",
          "name": "stdout",
          "text": [
            "11/11 [==============================] - 0s 3ms/step - loss: 1.2397 - accuracy: 0.6983\n",
            "Loss:  1.23967444896698\n",
            "Accuracy:  0.6982921957969666\n"
          ]
        }
      ]
    },
    {
      "cell_type": "code",
      "source": [
        "# extracting the history of training and its keys\n",
        "history_dict = history.history\n",
        "history_dict.keys()"
      ],
      "metadata": {
        "colab": {
          "base_uri": "https://localhost:8080/"
        },
        "id": "cPdyDruxHIv1",
        "outputId": "571d8593-ef49-48fa-f7f3-3855e8a308d2"
      },
      "execution_count": 103,
      "outputs": [
        {
          "output_type": "execute_result",
          "data": {
            "text/plain": [
              "dict_keys(['loss', 'accuracy', 'val_loss', 'val_accuracy'])"
            ]
          },
          "metadata": {},
          "execution_count": 103
        }
      ]
    },
    {
      "cell_type": "code",
      "source": [
        "acc = history_dict['accuracy']\n",
        "val_acc = history_dict['val_accuracy']\n",
        "loss = history_dict['loss']\n",
        "val_loss = history_dict['val_loss']\n",
        "\n",
        "epochs = range(1, len(acc) + 1)"
      ],
      "metadata": {
        "id": "shbF_xRlHDqZ"
      },
      "execution_count": 104,
      "outputs": []
    },
    {
      "cell_type": "markdown",
      "source": [
        "### Plotting Results"
      ],
      "metadata": {
        "id": "C6VBFUZnFpXN"
      }
    },
    {
      "cell_type": "code",
      "source": [
        "# ploting of loss\n",
        "plt.plot(epochs, loss, 'b', label='Training loss')\n",
        "plt.plot(epochs, val_loss, 'r', label='Validation loss')\n",
        "plt.title('Training and validation loss')\n",
        "plt.xlabel('Epochs')\n",
        "plt.ylabel('Loss')\n",
        "plt.legend()\n",
        "plt.show()"
      ],
      "metadata": {
        "colab": {
          "base_uri": "https://localhost:8080/",
          "height": 404
        },
        "id": "iLsoTgHGP7Oq",
        "outputId": "af41cea2-b412-4073-873f-d64637e54395"
      },
      "execution_count": 105,
      "outputs": [
        {
          "output_type": "display_data",
          "data": {
            "text/plain": [
              "<Figure size 432x432 with 1 Axes>"
            ],
            "image/png": "[encoded data removed]"
          },
          "metadata": {
            "needs_background": "light"
          }
        }
      ]
    },
    {
      "cell_type": "code",
      "source": [
        "# plotting of accuracy\n",
        "plt.plot(epochs, acc, 'b', label='Training acc')\n",
        "plt.plot(epochs, val_acc, 'r', label='Validation acc')\n",
        "plt.title('Training and validation accuracy')\n",
        "plt.xlabel('Epochs')\n",
        "plt.ylabel('Accuracy')\n",
        "plt.legend(loc='lower right')\n",
        "plt.show()"
      ],
      "metadata": {
        "colab": {
          "base_uri": "https://localhost:8080/",
          "height": 404
        },
        "id": "1uWqq-CtP-Lq",
        "outputId": "74c4e9ad-f738-4d19-cbe0-95277193e5ab"
      },
      "execution_count": 106,
      "outputs": [
        {
          "output_type": "display_data",
          "data": {
            "text/plain": [
              "<Figure size 432x432 with 1 Axes>"
            ],
            "image/png": "[encoded data removed]"
          },
          "metadata": {
            "needs_background": "light"
          }
        }
      ]
    },
    {
      "cell_type": "markdown",
      "source": [
        "### Predict"
      ],
      "metadata": {
        "id": "cjOG8y0PF9Xq"
      }
    },
    {
      "cell_type": "code",
      "source": [
        "# creating the probability model for testing\n",
        "probability_model = tf.keras.Sequential([model, tf.keras.layers.Softmax()])\n",
        "\n",
        "# predicting test samples\n",
        "predictions = probability_model.predict(raw_test_batch.map(vectorize_text))"
      ],
      "metadata": {
        "id": "YQj61lIMvX-Y",
        "colab": {
          "base_uri": "https://localhost:8080/"
        },
        "outputId": "01a80194-dc4a-4274-9361-990160743d63"
      },
      "execution_count": 107,
      "outputs": [
        {
          "output_type": "stream",
          "name": "stdout",
          "text": [
            "11/11 [==============================] - 0s 2ms/step\n"
          ]
        }
      ]
    },
    {
      "cell_type": "code",
      "source": [
        "# showing the first test sample result label\n",
        "np.argmax(predictions[0])"
      ],
      "metadata": {
        "colab": {
          "base_uri": "https://localhost:8080/"
        },
        "id": "5cbhBKR7NYPQ",
        "outputId": "95e2ee43-fc54-4b41-ba56-a929493652b5"
      },
      "execution_count": 108,
      "outputs": [
        {
          "output_type": "execute_result",
          "data": {
            "text/plain": [
              "1"
            ]
          },
          "metadata": {},
          "execution_count": 108
        }
      ]
    },
    {
      "cell_type": "code",
      "source": [
        "# showing the true label of the first test sample\n",
        "test_df.iloc[0]"
      ],
      "metadata": {
        "colab": {
          "base_uri": "https://localhost:8080/"
        },
        "id": "aNsnTWVuu3xj",
        "outputId": "4b3bf0c5-852c-4f87-9c36-942abe30768a"
      },
      "execution_count": 109,
      "outputs": [
        {
          "output_type": "execute_result",
          "data": {
            "text/plain": [
              "text         fluke tone on tone premium hooded sweat shirt ...\n",
              "label                                           Sporting Goods\n",
              "label_int                                                   17\n",
              "Name: 4839, dtype: object"
            ]
          },
          "metadata": {},
          "execution_count": 109
        }
      ]
    },
    {
      "cell_type": "markdown",
      "source": [
        "As we can see the accuracy is around 70% which is quite low! We should hypertune our model."
      ],
      "metadata": {
        "id": "mO4mr74kXS-M"
      }
    },
    {
      "cell_type": "markdown",
      "source": [
        "### Hypertuning My Customized Model"
      ],
      "metadata": {
        "id": "QmZ8JJfIXmT5"
      }
    },
    {
      "cell_type": "markdown",
      "source": [
        "#### Building the Hypertuner Model"
      ],
      "metadata": {
        "id": "s_IAUNu92XA7"
      }
    },
    {
      "cell_type": "code",
      "source": [
        "# Fixed hyper parameters\n",
        "num_of_labels = 20\n",
        "vocab_size = len(vectorize_layer.get_vocabulary())\n",
        "\n",
        "class CustomHyperModel(keras_tuner.HyperModel):\n",
        "    # build method for building the tunable model\n",
        "\n",
        "    def build(self, hp):\n",
        "      # model hyperparameters\n",
        "      num_filters = hp.Choice('num_filters', [32, 64, 128, 256], default=256)\n",
        "      kernel_size = hp.Choice('kernel_size', [3, 4, 5, 10], default=5)\n",
        "      dropout_rate = hp.Float('dropout_rate', min_value=0.1, max_value=1, step=0.05)\n",
        "      embedding_dim = hp.Int('embedding_dim', min_value=32, max_value=256, step=16)\n",
        "      learn_rate = hp.Choice('learn_rate', [0.01, 0.1, 0.2, 0.3, 0.4], default=0.01)\n",
        "      \n",
        "      model = create_customized_model(num_filters, kernel_size, vocab_size, sequence_length, dropout_rate, embedding_dim, 150, len(labels_names)) \n",
        "\n",
        "      model.compile(optimizer='adam',\n",
        "                    loss=tf.keras.losses.SparseCategoricalCrossentropy(from_logits=True),\n",
        "                    metrics=['accuracy'])\n",
        "      return model\n",
        "\n",
        "    # fit method for fitting the model\n",
        "    def fit(self, hp, model, dataset, validation_data=None, **kwargs):\n",
        "      return model.fit(\n",
        "          dataset['train_ds'],\n",
        "          validation_data=dataset['val_ds'],\n",
        "          **kwargs,\n",
        "      )"
      ],
      "metadata": {
        "id": "cEDsSJQoXayq"
      },
      "execution_count": 112,
      "outputs": []
    },
    {
      "cell_type": "markdown",
      "source": [
        "#### Starting Random Search"
      ],
      "metadata": {
        "id": "E9FBk1C_5ZuU"
      }
    },
    {
      "cell_type": "code",
      "source": [
        "tuner = keras_tuner.RandomSearch(\n",
        "    CustomHyperModel(),\n",
        "    objective=\"val_accuracy\",\n",
        "    max_trials=50,\n",
        "    overwrite=True,\n",
        "    directory=\"projects\",\n",
        "    project_name=\"tune_custom_keras_hypermodel\",\n",
        ")\n",
        "\n",
        "callbacks = [tf.keras.callbacks.EarlyStopping(monitor='val_loss', patience=5, verbose=1),]\n",
        "\n",
        "tuner.search(tensor_dataset, epochs=300, callbacks=callbacks)"
      ],
      "metadata": {
        "colab": {
          "base_uri": "https://localhost:8080/"
        },
        "id": "CExNWBe-489E",
        "outputId": "a0258671-9680-41db-e3b3-0ac44b0c107d"
      },
      "execution_count": 113,
      "outputs": [
        {
          "output_type": "stream",
          "name": "stdout",
          "text": [
            "Trial 50 Complete [00h 00m 22s]\n",
            "val_accuracy: 0.8292220234870911\n",
            "\n",
            "Best val_accuracy So Far: 0.8500948548316956\n",
            "Total elapsed time: 00h 25m 46s\n"
          ]
        }
      ]
    },
    {
      "cell_type": "markdown",
      "source": [
        "#### Random Search Results"
      ],
      "metadata": {
        "id": "ZFeT3f3N5mhP"
      }
    },
    {
      "cell_type": "code",
      "source": [
        "tuner.results_summary()"
      ],
      "metadata": {
        "colab": {
          "base_uri": "https://localhost:8080/"
        },
        "id": "up8p72Va5lQx",
        "outputId": "f96dac85-22dd-4941-cee2-2e3b2f901362"
      },
      "execution_count": 114,
      "outputs": [
        {
          "output_type": "stream",
          "name": "stdout",
          "text": [
            "Results summary\n",
            "Results in projects/tune_custom_keras_hypermodel\n",
            "Showing 10 best trials\n",
            "<keras_tuner.engine.objective.Objective object at 0x7ff1584f5d90>\n",
            "Trial summary\n",
            "Hyperparameters:\n",
            "num_filters: 128\n",
            "kernel_size: 3\n",
            "dropout_rate: 0.4\n",
            "embedding_dim: 128\n",
            "learn_rate: 0.1\n",
            "Score: 0.8500948548316956\n",
            "Trial summary\n",
            "Hyperparameters:\n",
            "num_filters: 256\n",
            "kernel_size: 3\n",
            "dropout_rate: 0.45000000000000007\n",
            "embedding_dim: 240\n",
            "learn_rate: 0.01\n",
            "Score: 0.8500948548316956\n",
            "Trial summary\n",
            "Hyperparameters:\n",
            "num_filters: 128\n",
            "kernel_size: 3\n",
            "dropout_rate: 0.1\n",
            "embedding_dim: 80\n",
            "learn_rate: 0.2\n",
            "Score: 0.848197340965271\n",
            "Trial summary\n",
            "Hyperparameters:\n",
            "num_filters: 64\n",
            "kernel_size: 4\n",
            "dropout_rate: 0.2\n",
            "embedding_dim: 128\n",
            "learn_rate: 0.4\n",
            "Score: 0.8462998270988464\n",
            "Trial summary\n",
            "Hyperparameters:\n",
            "num_filters: 256\n",
            "kernel_size: 3\n",
            "dropout_rate: 0.35\n",
            "embedding_dim: 112\n",
            "learn_rate: 0.1\n",
            "Score: 0.8462998270988464\n",
            "Trial summary\n",
            "Hyperparameters:\n",
            "num_filters: 128\n",
            "kernel_size: 5\n",
            "dropout_rate: 0.7000000000000001\n",
            "embedding_dim: 256\n",
            "learn_rate: 0.2\n",
            "Score: 0.8444022536277771\n",
            "Trial summary\n",
            "Hyperparameters:\n",
            "num_filters: 256\n",
            "kernel_size: 4\n",
            "dropout_rate: 0.65\n",
            "embedding_dim: 80\n",
            "learn_rate: 0.4\n",
            "Score: 0.8444022536277771\n",
            "Trial summary\n",
            "Hyperparameters:\n",
            "num_filters: 128\n",
            "kernel_size: 3\n",
            "dropout_rate: 0.65\n",
            "embedding_dim: 192\n",
            "learn_rate: 0.2\n",
            "Score: 0.8444022536277771\n",
            "Trial summary\n",
            "Hyperparameters:\n",
            "num_filters: 256\n",
            "kernel_size: 4\n",
            "dropout_rate: 0.55\n",
            "embedding_dim: 176\n",
            "learn_rate: 0.2\n",
            "Score: 0.8444022536277771\n",
            "Trial summary\n",
            "Hyperparameters:\n",
            "num_filters: 64\n",
            "kernel_size: 10\n",
            "dropout_rate: 0.65\n",
            "embedding_dim: 224\n",
            "learn_rate: 0.3\n",
            "Score: 0.8425047397613525\n"
          ]
        }
      ]
    },
    {
      "cell_type": "code",
      "source": [
        "# top 5 hyperparameters.\n",
        "best_hps = tuner.get_best_hyperparameters(5)\n",
        "# Printing the best hp.\n",
        "best_hps[0].values"
      ],
      "metadata": {
        "colab": {
          "base_uri": "https://localhost:8080/"
        },
        "id": "l5_F2S-65jq2",
        "outputId": "c020636f-0274-4aeb-c0db-b950318365cf"
      },
      "execution_count": 115,
      "outputs": [
        {
          "output_type": "execute_result",
          "data": {
            "text/plain": [
              "{'num_filters': 128,\n",
              " 'kernel_size': 3,\n",
              " 'dropout_rate': 0.4,\n",
              " 'embedding_dim': 128,\n",
              " 'learn_rate': 0.1}"
            ]
          },
          "metadata": {},
          "execution_count": 115
        }
      ]
    },
    {
      "cell_type": "markdown",
      "source": [
        "#### Building and Training the Best Model"
      ],
      "metadata": {
        "id": "D8eKiOuQ52zZ"
      }
    },
    {
      "cell_type": "code",
      "source": [
        "model_best = tuner.hypermodel.build(best_hps[0])\n",
        "\n",
        "epochs = 300\n",
        "\n",
        "callback = tf.keras.callbacks.EarlyStopping(monitor='val_loss',\n",
        "                                            patience=5,\n",
        "                                            verbose=1)\n",
        "\n",
        "# Concatenating validation data and training data\n",
        "train_ds_concatenated = tensor_dataset['train_ds'].concatenate(tensor_dataset['val_ds'])\n",
        "\n",
        "history = model_best.fit(train_ds_concatenated,\n",
        "                        validation_data=tensor_dataset['test_ds'], \n",
        "                        epochs=epochs,\n",
        "                        callbacks=[callback])"
      ],
      "metadata": {
        "colab": {
          "base_uri": "https://localhost:8080/"
        },
        "id": "dWTHSldd5vEG",
        "outputId": "d5bc4caf-1909-463b-e365-6f61fd0c7504"
      },
      "execution_count": 121,
      "outputs": [
        {
          "output_type": "stream",
          "name": "stdout",
          "text": [
            "Model: \"sequential_5\"\n",
            "_________________________________________________________________\n",
            " Layer (type)                Output Shape              Param #   \n",
            "=================================================================\n",
            " embedding_5 (Embedding)     (None, 310, 128)          2095488   \n",
            "                                                                 \n",
            " conv1d_5 (Conv1D)           (None, 308, 128)          49280     \n",
            "                                                                 \n",
            " global_max_pooling1d_5 (Glo  (None, 128)              0         \n",
            " balMaxPooling1D)                                                \n",
            "                                                                 \n",
            " dropout_5 (Dropout)         (None, 128)               0         \n",
            "                                                                 \n",
            " dense_5 (Dense)             (None, 20)                2580      \n",
            "                                                                 \n",
            " activation_5 (Activation)   (None, 20)                0         \n",
            "                                                                 \n",
            "=================================================================\n",
            "Total params: 2,147,348\n",
            "Trainable params: 2,147,348\n",
            "Non-trainable params: 0\n",
            "_________________________________________________________________\n",
            "Epoch 1/300\n",
            "96/96 [==============================] - 10s 98ms/step - loss: 2.6687 - accuracy: 0.2116 - val_loss: 2.3069 - val_accuracy: 0.3245\n",
            "Epoch 2/300\n",
            "96/96 [==============================] - 1s 7ms/step - loss: 1.8278 - accuracy: 0.5175 - val_loss: 1.4218 - val_accuracy: 0.6907\n",
            "Epoch 3/300\n",
            "96/96 [==============================] - 1s 6ms/step - loss: 1.0548 - accuracy: 0.7734 - val_loss: 1.0440 - val_accuracy: 0.7362\n",
            "Epoch 4/300\n",
            "96/96 [==============================] - 1s 6ms/step - loss: 0.6157 - accuracy: 0.8665 - val_loss: 0.8718 - val_accuracy: 0.7647\n",
            "Epoch 5/300\n",
            "96/96 [==============================] - 1s 6ms/step - loss: 0.3649 - accuracy: 0.9278 - val_loss: 0.7857 - val_accuracy: 0.7875\n",
            "Epoch 6/300\n",
            "96/96 [==============================] - 1s 6ms/step - loss: 0.2052 - accuracy: 0.9686 - val_loss: 0.7417 - val_accuracy: 0.8159\n",
            "Epoch 7/300\n",
            "96/96 [==============================] - 1s 6ms/step - loss: 0.1223 - accuracy: 0.9840 - val_loss: 0.7219 - val_accuracy: 0.8216\n",
            "Epoch 8/300\n",
            "96/96 [==============================] - 1s 6ms/step - loss: 0.0744 - accuracy: 0.9922 - val_loss: 0.7076 - val_accuracy: 0.8140\n",
            "Epoch 9/300\n",
            "96/96 [==============================] - 1s 6ms/step - loss: 0.0485 - accuracy: 0.9962 - val_loss: 0.7100 - val_accuracy: 0.8197\n",
            "Epoch 10/300\n",
            "96/96 [==============================] - 1s 5ms/step - loss: 0.0349 - accuracy: 0.9966 - val_loss: 0.7203 - val_accuracy: 0.8216\n",
            "Epoch 11/300\n",
            "96/96 [==============================] - 1s 6ms/step - loss: 0.0259 - accuracy: 0.9975 - val_loss: 0.7125 - val_accuracy: 0.8216\n",
            "Epoch 12/300\n",
            "96/96 [==============================] - 1s 6ms/step - loss: 0.0210 - accuracy: 0.9975 - val_loss: 0.7141 - val_accuracy: 0.8235\n",
            "Epoch 13/300\n",
            "96/96 [==============================] - 1s 6ms/step - loss: 0.0140 - accuracy: 0.9994 - val_loss: 0.7230 - val_accuracy: 0.8254\n",
            "Epoch 13: early stopping\n"
          ]
        }
      ]
    },
    {
      "cell_type": "markdown",
      "source": [
        "#### Evaluating and Plotting the Trained Model"
      ],
      "metadata": {
        "id": "GI6oZCc26Dqp"
      }
    },
    {
      "cell_type": "code",
      "source": [
        "evaluate_and_plot(model_best, tensor_dataset['test_ds'], history)"
      ],
      "metadata": {
        "colab": {
          "base_uri": "https://localhost:8080/",
          "height": 845
        },
        "id": "pX3L6blU6D_V",
        "outputId": "987036f5-fc4c-42a5-fab6-db350cff6665"
      },
      "execution_count": 122,
      "outputs": [
        {
          "output_type": "stream",
          "name": "stdout",
          "text": [
            "11/11 [==============================] - 0s 4ms/step - loss: 0.7230 - accuracy: 0.8254\n",
            "Model Loss:  0.7230067849159241\n",
            "Model Accuracy:  0.8254269361495972\n"
          ]
        },
        {
          "output_type": "display_data",
          "data": {
            "text/plain": [
              "<Figure size 432x432 with 1 Axes>"
            ],
            "image/png": "[encoded data removed]"
          },
          "metadata": {
            "needs_background": "light"
          }
        },
        {
          "output_type": "display_data",
          "data": {
            "text/plain": [
              "<Figure size 432x432 with 1 Axes>"
            ],
            "image/png": "[encoded data removed]"
          },
          "metadata": {
            "needs_background": "light"
          }
        }
      ]
    },
    {
      "cell_type": "markdown",
      "source": [
        "As we can see we managed to increase our customized model's accuracy significantly with hyperparameter tuning."
      ],
      "metadata": {
        "id": "Lb24ySotdiDH"
      }
    }
  ]
}