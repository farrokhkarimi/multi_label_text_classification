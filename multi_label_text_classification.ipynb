{
  "nbformat": 4,
  "nbformat_minor": 0,
  "metadata": {
    "colab": {
      "provenance": []
    },
    "kernelspec": {
      "name": "python3",
      "display_name": "Python 3"
    },
    "language_info": {
      "name": "python"
    },
    "accelerator": "GPU",
    "gpuClass": "standard"
  },
  "cells": [
    {
      "cell_type": "markdown",
      "metadata": {
        "id": "view-in-github"
      },
      "source": [
        "<a href=\"https://colab.research.google.com/github/farrokhkarimi/multi_label_text_classification/blob/main/multi_label_text_classification.ipynb\" target=\"_parent\"><img src=\"https://colab.research.google.com/assets/colab-badge.svg\" alt=\"Open In Colab\"/></a>"
      ]
    },
    {
      "cell_type": "markdown",
      "source": [
        "# Multi-label text classification\n",
        "\n",
        "**Author:** [Farrokh Karimi](https://farrokhkarimi.github.io/)  \n",
        "**Description:** In this notebook, we want to classify the Ronash dataset into 20 category."
      ],
      "metadata": {
        "id": "Bij91pNWQOR5"
      }
    },
    {
      "cell_type": "code",
      "source": [
        "import matplotlib.pyplot as plt\n",
        "import numpy as np\n",
        "import pandas as pd\n",
        "import re\n",
        "import tensorflow as tf\n",
        "\n",
        "from collections import Counter\n",
        "from sklearn.model_selection import train_test_split\n",
        "from tensorflow.keras import layers"
      ],
      "metadata": {
        "id": "sL739kMAEsU9"
      },
      "execution_count": 1,
      "outputs": []
    },
    {
      "cell_type": "code",
      "source": [
        "# downloading Data from the Google Drive link\n",
        "!gdown 1Yq3XTnACkvaIiNlhX09Zth55nOau7jQy"
      ],
      "metadata": {
        "colab": {
          "base_uri": "https://localhost:8080/"
        },
        "id": "SHa9m3aLEbyP",
        "outputId": "7e2add28-9aac-4f53-9b92-88b85eb34409"
      },
      "execution_count": 2,
      "outputs": [
        {
          "output_type": "stream",
          "name": "stdout",
          "text": [
            "Downloading...\n",
            "From: https://drive.google.com/uc?id=1Yq3XTnACkvaIiNlhX09Zth55nOau7jQy\n",
            "To: /content/Ronash_DS_Assignment.csv\n",
            "\r  0% 0.00/1.05M [00:00<?, ?B/s]\r100% 1.05M/1.05M [00:00<00:00, 114MB/s]\n"
          ]
        }
      ]
    },
    {
      "cell_type": "code",
      "source": [
        "ls"
      ],
      "metadata": {
        "colab": {
          "base_uri": "https://localhost:8080/"
        },
        "id": "6QpBuoWrC5QS",
        "outputId": "d9ae1654-0c97-44fb-d769-706e839e0495"
      },
      "execution_count": 3,
      "outputs": [
        {
          "output_type": "stream",
          "name": "stdout",
          "text": [
            "Ronash_DS_Assignment.csv  \u001b[0m\u001b[01;34msample_data\u001b[0m/\n"
          ]
        }
      ]
    },
    {
      "cell_type": "code",
      "source": [
        "# reading the csv file as a dataframe\n",
        "df = pd.read_csv('Ronash_DS_Assignment.csv')\n",
        "df"
      ],
      "metadata": {
        "colab": {
          "base_uri": "https://localhost:8080/",
          "height": 424
        },
        "id": "722bMOmzF4_H",
        "outputId": "a47ebb08-354f-4a8d-f3cd-d784b8a9b64e"
      },
      "execution_count": 4,
      "outputs": [
        {
          "output_type": "execute_result",
          "data": {
            "text/plain": [
              "         product_id                                              title  \\\n",
              "0     3937721221199    Fidele Super Premium Adult Large Breed Dog Food   \n",
              "1     7353058033889                    Foldable Pet Toys Linen Storage   \n",
              "2     6594773549129                                     Bok Dok Diaper   \n",
              "3     4802008318014                              Tastybone Toy Chicken   \n",
              "4     1779705151539                Leather Leash Tab - Short Dog Leash   \n",
              "...             ...                                                ...   \n",
              "5265  4637089464407                              Candylab MOO Milk Van   \n",
              "5266  4996632444987  Truck - Modern Era Vehicles -- Red, White -  S...   \n",
              "5267  5528541003927  Car Sticker Flags Decal American Flag Sticker for   \n",
              "5268  1395163889730          Lazer Helmets Bayamo Pit Bull - Full Face   \n",
              "5269  3535679324240                             Deutz Agrotron Tractor   \n",
              "\n",
              "                 vendor                                               tags  \\\n",
              "0                Fidele  ['Adult', 'Bangalore', 'Chennai', 'Chicken', '...   \n",
              "1             Cap Point                                                 []   \n",
              "2             Pets Home  ['Brand_Pet Arabia', 'Category_Pets Home', 'Ca...   \n",
              "3             TastyBone                                                 []   \n",
              "4            Mighty Paw                 ['Leash', 'Leash Tab', 'Training']   \n",
              "...                 ...                                                ...   \n",
              "5265           Candylab  ['3 Years +', 'candylab', 'Discount Products',...   \n",
              "5266   Woodland Scenics  ['HO Scale', 'ho-scale-items', 'vehicles', 'wo...   \n",
              "5267        Cyan Selene                                          ['Other']   \n",
              "5268  OPEN BOX BARGAINS  ['65061090', 'Antiscratch Pinlock Ready Visor'...   \n",
              "5269               Siku  ['$0 to $25', 'diecast-models', 'gift-finder',...   \n",
              "\n",
              "                    category  \n",
              "0     Animals & Pet Supplies  \n",
              "1     Animals & Pet Supplies  \n",
              "2     Animals & Pet Supplies  \n",
              "3     Animals & Pet Supplies  \n",
              "4     Animals & Pet Supplies  \n",
              "...                      ...  \n",
              "5265        Vehicles & Parts  \n",
              "5266        Vehicles & Parts  \n",
              "5267        Vehicles & Parts  \n",
              "5268        Vehicles & Parts  \n",
              "5269        Vehicles & Parts  \n",
              "\n",
              "[5270 rows x 5 columns]"
            ],
            "text/html": [
              "\n",
              "  <div id=\"df-29935b0b-0615-4dca-8da4-9eadd7683c85\">\n",
              "    <div class=\"colab-df-container\">\n",
              "      <div>\n",
              "<style scoped>\n",
              "    .dataframe tbody tr th:only-of-type {\n",
              "        vertical-align: middle;\n",
              "    }\n",
              "\n",
              "    .dataframe tbody tr th {\n",
              "        vertical-align: top;\n",
              "    }\n",
              "\n",
              "    .dataframe thead th {\n",
              "        text-align: right;\n",
              "    }\n",
              "</style>\n",
              "<table border=\"1\" class=\"dataframe\">\n",
              "  <thead>\n",
              "    <tr style=\"text-align: right;\">\n",
              "      <th></th>\n",
              "      <th>product_id</th>\n",
              "      <th>title</th>\n",
              "      <th>vendor</th>\n",
              "      <th>tags</th>\n",
              "      <th>category</th>\n",
              "    </tr>\n",
              "  </thead>\n",
              "  <tbody>\n",
              "    <tr>\n",
              "      <th>0</th>\n",
              "      <td>3937721221199</td>\n",
              "      <td>Fidele Super Premium Adult Large Breed Dog Food</td>\n",
              "      <td>Fidele</td>\n",
              "      <td>['Adult', 'Bangalore', 'Chennai', 'Chicken', '...</td>\n",
              "      <td>Animals &amp; Pet Supplies</td>\n",
              "    </tr>\n",
              "    <tr>\n",
              "      <th>1</th>\n",
              "      <td>7353058033889</td>\n",
              "      <td>Foldable Pet Toys Linen Storage</td>\n",
              "      <td>Cap Point</td>\n",
              "      <td>[]</td>\n",
              "      <td>Animals &amp; Pet Supplies</td>\n",
              "    </tr>\n",
              "    <tr>\n",
              "      <th>2</th>\n",
              "      <td>6594773549129</td>\n",
              "      <td>Bok Dok Diaper</td>\n",
              "      <td>Pets Home</td>\n",
              "      <td>['Brand_Pet Arabia', 'Category_Pets Home', 'Ca...</td>\n",
              "      <td>Animals &amp; Pet Supplies</td>\n",
              "    </tr>\n",
              "    <tr>\n",
              "      <th>3</th>\n",
              "      <td>4802008318014</td>\n",
              "      <td>Tastybone Toy Chicken</td>\n",
              "      <td>TastyBone</td>\n",
              "      <td>[]</td>\n",
              "      <td>Animals &amp; Pet Supplies</td>\n",
              "    </tr>\n",
              "    <tr>\n",
              "      <th>4</th>\n",
              "      <td>1779705151539</td>\n",
              "      <td>Leather Leash Tab - Short Dog Leash</td>\n",
              "      <td>Mighty Paw</td>\n",
              "      <td>['Leash', 'Leash Tab', 'Training']</td>\n",
              "      <td>Animals &amp; Pet Supplies</td>\n",
              "    </tr>\n",
              "    <tr>\n",
              "      <th>...</th>\n",
              "      <td>...</td>\n",
              "      <td>...</td>\n",
              "      <td>...</td>\n",
              "      <td>...</td>\n",
              "      <td>...</td>\n",
              "    </tr>\n",
              "    <tr>\n",
              "      <th>5265</th>\n",
              "      <td>4637089464407</td>\n",
              "      <td>Candylab MOO Milk Van</td>\n",
              "      <td>Candylab</td>\n",
              "      <td>['3 Years +', 'candylab', 'Discount Products',...</td>\n",
              "      <td>Vehicles &amp; Parts</td>\n",
              "    </tr>\n",
              "    <tr>\n",
              "      <th>5266</th>\n",
              "      <td>4996632444987</td>\n",
              "      <td>Truck - Modern Era Vehicles -- Red, White -  S...</td>\n",
              "      <td>Woodland Scenics</td>\n",
              "      <td>['HO Scale', 'ho-scale-items', 'vehicles', 'wo...</td>\n",
              "      <td>Vehicles &amp; Parts</td>\n",
              "    </tr>\n",
              "    <tr>\n",
              "      <th>5267</th>\n",
              "      <td>5528541003927</td>\n",
              "      <td>Car Sticker Flags Decal American Flag Sticker for</td>\n",
              "      <td>Cyan Selene</td>\n",
              "      <td>['Other']</td>\n",
              "      <td>Vehicles &amp; Parts</td>\n",
              "    </tr>\n",
              "    <tr>\n",
              "      <th>5268</th>\n",
              "      <td>1395163889730</td>\n",
              "      <td>Lazer Helmets Bayamo Pit Bull - Full Face</td>\n",
              "      <td>OPEN BOX BARGAINS</td>\n",
              "      <td>['65061090', 'Antiscratch Pinlock Ready Visor'...</td>\n",
              "      <td>Vehicles &amp; Parts</td>\n",
              "    </tr>\n",
              "    <tr>\n",
              "      <th>5269</th>\n",
              "      <td>3535679324240</td>\n",
              "      <td>Deutz Agrotron Tractor</td>\n",
              "      <td>Siku</td>\n",
              "      <td>['$0 to $25', 'diecast-models', 'gift-finder',...</td>\n",
              "      <td>Vehicles &amp; Parts</td>\n",
              "    </tr>\n",
              "  </tbody>\n",
              "</table>\n",
              "<p>5270 rows × 5 columns</p>\n",
              "</div>\n",
              "      <button class=\"colab-df-convert\" onclick=\"convertToInteractive('df-29935b0b-0615-4dca-8da4-9eadd7683c85')\"\n",
              "              title=\"Convert this dataframe to an interactive table.\"\n",
              "              style=\"display:none;\">\n",
              "        \n",
              "  <svg xmlns=\"http://www.w3.org/2000/svg\" height=\"24px\"viewBox=\"0 0 24 24\"\n",
              "       width=\"24px\">\n",
              "    <path d=\"M0 0h24v24H0V0z\" fill=\"none\"/>\n",
              "    <path d=\"M18.56 5.44l.94 2.06.94-2.06 2.06-.94-2.06-.94-.94-2.06-.94 2.06-2.06.94zm-11 1L8.5 8.5l.94-2.06 2.06-.94-2.06-.94L8.5 2.5l-.94 2.06-2.06.94zm10 10l.94 2.06.94-2.06 2.06-.94-2.06-.94-.94-2.06-.94 2.06-2.06.94z\"/><path d=\"M17.41 7.96l-1.37-1.37c-.4-.4-.92-.59-1.43-.59-.52 0-1.04.2-1.43.59L10.3 9.45l-7.72 7.72c-.78.78-.78 2.05 0 2.83L4 21.41c.39.39.9.59 1.41.59.51 0 1.02-.2 1.41-.59l7.78-7.78 2.81-2.81c.8-.78.8-2.07 0-2.86zM5.41 20L4 18.59l7.72-7.72 1.47 1.35L5.41 20z\"/>\n",
              "  </svg>\n",
              "      </button>\n",
              "      \n",
              "  <style>\n",
              "    .colab-df-container {\n",
              "      display:flex;\n",
              "      flex-wrap:wrap;\n",
              "      gap: 12px;\n",
              "    }\n",
              "\n",
              "    .colab-df-convert {\n",
              "      background-color: #E8F0FE;\n",
              "      border: none;\n",
              "      border-radius: 50%;\n",
              "      cursor: pointer;\n",
              "      display: none;\n",
              "      fill: #1967D2;\n",
              "      height: 32px;\n",
              "      padding: 0 0 0 0;\n",
              "      width: 32px;\n",
              "    }\n",
              "\n",
              "    .colab-df-convert:hover {\n",
              "      background-color: #E2EBFA;\n",
              "      box-shadow: 0px 1px 2px rgba(60, 64, 67, 0.3), 0px 1px 3px 1px rgba(60, 64, 67, 0.15);\n",
              "      fill: #174EA6;\n",
              "    }\n",
              "\n",
              "    [theme=dark] .colab-df-convert {\n",
              "      background-color: #3B4455;\n",
              "      fill: #D2E3FC;\n",
              "    }\n",
              "\n",
              "    [theme=dark] .colab-df-convert:hover {\n",
              "      background-color: #434B5C;\n",
              "      box-shadow: 0px 1px 3px 1px rgba(0, 0, 0, 0.15);\n",
              "      filter: drop-shadow(0px 1px 2px rgba(0, 0, 0, 0.3));\n",
              "      fill: #FFFFFF;\n",
              "    }\n",
              "  </style>\n",
              "\n",
              "      <script>\n",
              "        const buttonEl =\n",
              "          document.querySelector('#df-29935b0b-0615-4dca-8da4-9eadd7683c85 button.colab-df-convert');\n",
              "        buttonEl.style.display =\n",
              "          google.colab.kernel.accessAllowed ? 'block' : 'none';\n",
              "\n",
              "        async function convertToInteractive(key) {\n",
              "          const element = document.querySelector('#df-29935b0b-0615-4dca-8da4-9eadd7683c85');\n",
              "          const dataTable =\n",
              "            await google.colab.kernel.invokeFunction('convertToInteractive',\n",
              "                                                     [key], {});\n",
              "          if (!dataTable) return;\n",
              "\n",
              "          const docLinkHtml = 'Like what you see? Visit the ' +\n",
              "            '<a target=\"_blank\" href=https://colab.research.google.com/notebooks/data_table.ipynb>data table notebook</a>'\n",
              "            + ' to learn more about interactive tables.';\n",
              "          element.innerHTML = '';\n",
              "          dataTable['output_type'] = 'display_data';\n",
              "          await google.colab.output.renderOutput(dataTable, element);\n",
              "          const docLink = document.createElement('div');\n",
              "          docLink.innerHTML = docLinkHtml;\n",
              "          element.appendChild(docLink);\n",
              "        }\n",
              "      </script>\n",
              "    </div>\n",
              "  </div>\n",
              "  "
            ]
          },
          "metadata": {},
          "execution_count": 4
        }
      ]
    },
    {
      "cell_type": "code",
      "source": [
        "# counting the number of each label\n",
        "df['category'].value_counts()"
      ],
      "metadata": {
        "colab": {
          "base_uri": "https://localhost:8080/"
        },
        "id": "6E1ZDXyPlr6y",
        "outputId": "7b2d4e15-55fa-43b8-eae7-eacfd5804922"
      },
      "execution_count": 5,
      "outputs": [
        {
          "output_type": "execute_result",
          "data": {
            "text/plain": [
              "Apparel & Accessories        1000\n",
              "Animals & Pet Supplies        500\n",
              "Food, Beverages & Tobacco     400\n",
              "Sporting Goods                400\n",
              "Luggage & Bags                400\n",
              "Home & Garden                 400\n",
              "Health & Beauty               400\n",
              "Media                         300\n",
              "Toys & Games                  300\n",
              "Furniture                     200\n",
              "Baby & Toddler                200\n",
              "Arts & Entertainment          200\n",
              "Electronics                   100\n",
              "Business & Industrial         100\n",
              "Office Supplies               100\n",
              "Vehicles & Parts              100\n",
              "Hardware                       50\n",
              "Cameras & Optics               50\n",
              "Software                       50\n",
              "Religious & Ceremonial         20\n",
              "Name: category, dtype: int64"
            ]
          },
          "metadata": {},
          "execution_count": 5
        }
      ]
    },
    {
      "cell_type": "code",
      "source": [
        "# counting how many indices are duplicated in each column\n",
        "print(f\"There are {sum(df['title'].duplicated())} duplicate title.\")\n",
        "print(f\"There are {sum(df['vendor'].duplicated())} duplicate vondor.\")\n",
        "print(f\"There are {sum(df['tags'].duplicated())} duplicate tags.\")"
      ],
      "metadata": {
        "colab": {
          "base_uri": "https://localhost:8080/"
        },
        "id": "Un_ggKoLUAEf",
        "outputId": "2dae8dad-1be3-4d35-f7ac-29f96d9a9fbb"
      },
      "execution_count": 6,
      "outputs": [
        {
          "output_type": "stream",
          "name": "stdout",
          "text": [
            "There are 0 duplicate title.\n",
            "There are 1256 duplicate vondor.\n",
            "There are 716 duplicate tags.\n"
          ]
        }
      ]
    },
    {
      "cell_type": "code",
      "source": [
        "# counting the number of Nan samples\n",
        "df.isnull().values.sum()"
      ],
      "metadata": {
        "colab": {
          "base_uri": "https://localhost:8080/"
        },
        "id": "VD95efZwCRYT",
        "outputId": "1e351a93-3b12-4de3-fe5e-aa19fa6dd82f"
      },
      "execution_count": 7,
      "outputs": [
        {
          "output_type": "execute_result",
          "data": {
            "text/plain": [
              "3"
            ]
          },
          "metadata": {},
          "execution_count": 7
        }
      ]
    },
    {
      "cell_type": "markdown",
      "source": [
        "There are just 3 Nan samples in the dataset so we can ignore them."
      ],
      "metadata": {
        "id": "rhPJQuDEb8oN"
      }
    },
    {
      "cell_type": "code",
      "source": [
        "# the function for extracting and standardizing the sentences\n",
        "def text_extraction(dfi):\n",
        "  # in this function, we concatenate text feature parts of the data as a sentence\n",
        "  sentence = ' '.join([dfi['title'], str(dfi['vendor']), dfi['tags']])\n",
        "  # Remove punctuations\n",
        "  sentence = re.sub('[^a-zA-Z0-9$.]', ' ', sentence)\n",
        "  # Single character removal\n",
        "  sentence = re.sub(r\"\\s+[a-zA-Z]\\s+\", ' ', sentence)\n",
        "  # Removing multiple spaces\n",
        "  sentence = re.sub(r'\\s+', ' ', sentence)\n",
        "  # Changint to lowercase\n",
        "  sentence = sentence.lower()\n",
        "  return sentence\n",
        "\n",
        "# printing 10 sample sentences\n",
        "for i in range(10):\n",
        "  print(text_extraction(df.iloc[i]))"
      ],
      "metadata": {
        "colab": {
          "base_uri": "https://localhost:8080/"
        },
        "id": "aH9UzP7-__P2",
        "outputId": "3f3fb90a-fc09-44ce-9e7e-d896f31a85a9"
      },
      "execution_count": 8,
      "outputs": [
        {
          "output_type": "stream",
          "name": "stdout",
          "text": [
            "fidele super premium adult large breed dog food fidele adult bangalore chennai chicken doberman dog dry foods fidele german shepherd golden retriever great dane highpriority imported labrador less than 1000 less than 2000 less than 500 mastiff orange pet nutrition \n",
            "foldable pet toys linen storage cap point \n",
            "bok dok diaper pets home brand pet arabia category pets home category small pets supplies type pet home type pet supplies \n",
            "tastybone toy chicken tastybone \n",
            "leather leash tab short dog leash mighty paw leash leash tab training \n",
            "pridebites texas guitar dog toy pride bites brand pridebites toy type plush \n",
            "burns sensitive pork potato burns 10 25 25 50 50 75 adult burns coat dog food food delivery jansale18 natural nonsale19 sensitive size 12kg size 2kg size 6kg skin \n",
            "bully sticks dog toy adog.co bully sticks dog chew toys dog toys \n",
            "kazoo tough giraffe dog toy kazoo brand kazoo june2021 kazoo material plush plush \n",
            "orgo dog biscuits fresh milk petku brand orgo category dogs dogs lifestage all lifestages orgo price rp 0 to rp 100.000 subcategory treats treats \n"
          ]
        }
      ]
    },
    {
      "cell_type": "code",
      "source": [
        "# creating the dataset\n",
        "dataset = pd.DataFrame(columns=['text', 'label'])\n",
        "for i in range(len(df)):\n",
        "  dataset = dataset.append({'text':text_extraction(df.iloc[i]), 'label':df.iloc[i]['category']}, ignore_index = True)\n",
        "\n",
        "# creating integer labels for multiclass training\n",
        "dataset['label_int'] = pd.Categorical(dataset['label']).codes\n",
        "dataset"
      ],
      "metadata": {
        "colab": {
          "base_uri": "https://localhost:8080/",
          "height": 424
        },
        "id": "7x4WG7NC9Xz3",
        "outputId": "4e0ee238-3d8b-4e0c-9867-79ba86fa15fd"
      },
      "execution_count": 9,
      "outputs": [
        {
          "output_type": "execute_result",
          "data": {
            "text/plain": [
              "                                                   text  \\\n",
              "0     fidele super premium adult large breed dog foo...   \n",
              "1            foldable pet toys linen storage cap point    \n",
              "2     bok dok diaper pets home brand pet arabia cate...   \n",
              "3                      tastybone toy chicken tastybone    \n",
              "4     leather leash tab short dog leash mighty paw l...   \n",
              "...                                                 ...   \n",
              "5265  candylab moo milk van candylab 3 years candyla...   \n",
              "5266  truck modern era vehicles red white scale ho w...   \n",
              "5267  car sticker flags decal american flag sticker ...   \n",
              "5268  lazer helmets bayamo pit bull full face open b...   \n",
              "5269  deutz agrotron tractor siku $0 to $25 diecast ...   \n",
              "\n",
              "                       label  label_int  \n",
              "0     Animals & Pet Supplies          0  \n",
              "1     Animals & Pet Supplies          0  \n",
              "2     Animals & Pet Supplies          0  \n",
              "3     Animals & Pet Supplies          0  \n",
              "4     Animals & Pet Supplies          0  \n",
              "...                      ...        ...  \n",
              "5265        Vehicles & Parts         19  \n",
              "5266        Vehicles & Parts         19  \n",
              "5267        Vehicles & Parts         19  \n",
              "5268        Vehicles & Parts         19  \n",
              "5269        Vehicles & Parts         19  \n",
              "\n",
              "[5270 rows x 3 columns]"
            ],
            "text/html": [
              "\n",
              "  <div id=\"df-534e2ad3-0925-4e31-a68b-3a6352187c5e\">\n",
              "    <div class=\"colab-df-container\">\n",
              "      <div>\n",
              "<style scoped>\n",
              "    .dataframe tbody tr th:only-of-type {\n",
              "        vertical-align: middle;\n",
              "    }\n",
              "\n",
              "    .dataframe tbody tr th {\n",
              "        vertical-align: top;\n",
              "    }\n",
              "\n",
              "    .dataframe thead th {\n",
              "        text-align: right;\n",
              "    }\n",
              "</style>\n",
              "<table border=\"1\" class=\"dataframe\">\n",
              "  <thead>\n",
              "    <tr style=\"text-align: right;\">\n",
              "      <th></th>\n",
              "      <th>text</th>\n",
              "      <th>label</th>\n",
              "      <th>label_int</th>\n",
              "    </tr>\n",
              "  </thead>\n",
              "  <tbody>\n",
              "    <tr>\n",
              "      <th>0</th>\n",
              "      <td>fidele super premium adult large breed dog foo...</td>\n",
              "      <td>Animals &amp; Pet Supplies</td>\n",
              "      <td>0</td>\n",
              "    </tr>\n",
              "    <tr>\n",
              "      <th>1</th>\n",
              "      <td>foldable pet toys linen storage cap point</td>\n",
              "      <td>Animals &amp; Pet Supplies</td>\n",
              "      <td>0</td>\n",
              "    </tr>\n",
              "    <tr>\n",
              "      <th>2</th>\n",
              "      <td>bok dok diaper pets home brand pet arabia cate...</td>\n",
              "      <td>Animals &amp; Pet Supplies</td>\n",
              "      <td>0</td>\n",
              "    </tr>\n",
              "    <tr>\n",
              "      <th>3</th>\n",
              "      <td>tastybone toy chicken tastybone</td>\n",
              "      <td>Animals &amp; Pet Supplies</td>\n",
              "      <td>0</td>\n",
              "    </tr>\n",
              "    <tr>\n",
              "      <th>4</th>\n",
              "      <td>leather leash tab short dog leash mighty paw l...</td>\n",
              "      <td>Animals &amp; Pet Supplies</td>\n",
              "      <td>0</td>\n",
              "    </tr>\n",
              "    <tr>\n",
              "      <th>...</th>\n",
              "      <td>...</td>\n",
              "      <td>...</td>\n",
              "      <td>...</td>\n",
              "    </tr>\n",
              "    <tr>\n",
              "      <th>5265</th>\n",
              "      <td>candylab moo milk van candylab 3 years candyla...</td>\n",
              "      <td>Vehicles &amp; Parts</td>\n",
              "      <td>19</td>\n",
              "    </tr>\n",
              "    <tr>\n",
              "      <th>5266</th>\n",
              "      <td>truck modern era vehicles red white scale ho w...</td>\n",
              "      <td>Vehicles &amp; Parts</td>\n",
              "      <td>19</td>\n",
              "    </tr>\n",
              "    <tr>\n",
              "      <th>5267</th>\n",
              "      <td>car sticker flags decal american flag sticker ...</td>\n",
              "      <td>Vehicles &amp; Parts</td>\n",
              "      <td>19</td>\n",
              "    </tr>\n",
              "    <tr>\n",
              "      <th>5268</th>\n",
              "      <td>lazer helmets bayamo pit bull full face open b...</td>\n",
              "      <td>Vehicles &amp; Parts</td>\n",
              "      <td>19</td>\n",
              "    </tr>\n",
              "    <tr>\n",
              "      <th>5269</th>\n",
              "      <td>deutz agrotron tractor siku $0 to $25 diecast ...</td>\n",
              "      <td>Vehicles &amp; Parts</td>\n",
              "      <td>19</td>\n",
              "    </tr>\n",
              "  </tbody>\n",
              "</table>\n",
              "<p>5270 rows × 3 columns</p>\n",
              "</div>\n",
              "      <button class=\"colab-df-convert\" onclick=\"convertToInteractive('df-534e2ad3-0925-4e31-a68b-3a6352187c5e')\"\n",
              "              title=\"Convert this dataframe to an interactive table.\"\n",
              "              style=\"display:none;\">\n",
              "        \n",
              "  <svg xmlns=\"http://www.w3.org/2000/svg\" height=\"24px\"viewBox=\"0 0 24 24\"\n",
              "       width=\"24px\">\n",
              "    <path d=\"M0 0h24v24H0V0z\" fill=\"none\"/>\n",
              "    <path d=\"M18.56 5.44l.94 2.06.94-2.06 2.06-.94-2.06-.94-.94-2.06-.94 2.06-2.06.94zm-11 1L8.5 8.5l.94-2.06 2.06-.94-2.06-.94L8.5 2.5l-.94 2.06-2.06.94zm10 10l.94 2.06.94-2.06 2.06-.94-2.06-.94-.94-2.06-.94 2.06-2.06.94z\"/><path d=\"M17.41 7.96l-1.37-1.37c-.4-.4-.92-.59-1.43-.59-.52 0-1.04.2-1.43.59L10.3 9.45l-7.72 7.72c-.78.78-.78 2.05 0 2.83L4 21.41c.39.39.9.59 1.41.59.51 0 1.02-.2 1.41-.59l7.78-7.78 2.81-2.81c.8-.78.8-2.07 0-2.86zM5.41 20L4 18.59l7.72-7.72 1.47 1.35L5.41 20z\"/>\n",
              "  </svg>\n",
              "      </button>\n",
              "      \n",
              "  <style>\n",
              "    .colab-df-container {\n",
              "      display:flex;\n",
              "      flex-wrap:wrap;\n",
              "      gap: 12px;\n",
              "    }\n",
              "\n",
              "    .colab-df-convert {\n",
              "      background-color: #E8F0FE;\n",
              "      border: none;\n",
              "      border-radius: 50%;\n",
              "      cursor: pointer;\n",
              "      display: none;\n",
              "      fill: #1967D2;\n",
              "      height: 32px;\n",
              "      padding: 0 0 0 0;\n",
              "      width: 32px;\n",
              "    }\n",
              "\n",
              "    .colab-df-convert:hover {\n",
              "      background-color: #E2EBFA;\n",
              "      box-shadow: 0px 1px 2px rgba(60, 64, 67, 0.3), 0px 1px 3px 1px rgba(60, 64, 67, 0.15);\n",
              "      fill: #174EA6;\n",
              "    }\n",
              "\n",
              "    [theme=dark] .colab-df-convert {\n",
              "      background-color: #3B4455;\n",
              "      fill: #D2E3FC;\n",
              "    }\n",
              "\n",
              "    [theme=dark] .colab-df-convert:hover {\n",
              "      background-color: #434B5C;\n",
              "      box-shadow: 0px 1px 3px 1px rgba(0, 0, 0, 0.15);\n",
              "      filter: drop-shadow(0px 1px 2px rgba(0, 0, 0, 0.3));\n",
              "      fill: #FFFFFF;\n",
              "    }\n",
              "  </style>\n",
              "\n",
              "      <script>\n",
              "        const buttonEl =\n",
              "          document.querySelector('#df-534e2ad3-0925-4e31-a68b-3a6352187c5e button.colab-df-convert');\n",
              "        buttonEl.style.display =\n",
              "          google.colab.kernel.accessAllowed ? 'block' : 'none';\n",
              "\n",
              "        async function convertToInteractive(key) {\n",
              "          const element = document.querySelector('#df-534e2ad3-0925-4e31-a68b-3a6352187c5e');\n",
              "          const dataTable =\n",
              "            await google.colab.kernel.invokeFunction('convertToInteractive',\n",
              "                                                     [key], {});\n",
              "          if (!dataTable) return;\n",
              "\n",
              "          const docLinkHtml = 'Like what you see? Visit the ' +\n",
              "            '<a target=\"_blank\" href=https://colab.research.google.com/notebooks/data_table.ipynb>data table notebook</a>'\n",
              "            + ' to learn more about interactive tables.';\n",
              "          element.innerHTML = '';\n",
              "          dataTable['output_type'] = 'display_data';\n",
              "          await google.colab.output.renderOutput(dataTable, element);\n",
              "          const docLink = document.createElement('div');\n",
              "          docLink.innerHTML = docLinkHtml;\n",
              "          element.appendChild(docLink);\n",
              "        }\n",
              "      </script>\n",
              "    </div>\n",
              "  </div>\n",
              "  "
            ]
          },
          "metadata": {},
          "execution_count": 9
        }
      ]
    },
    {
      "cell_type": "code",
      "source": [
        "# extracting the names of the labels\n",
        "labels_names = list(Counter(dataset['label']).keys())\n",
        "labels_names"
      ],
      "metadata": {
        "colab": {
          "base_uri": "https://localhost:8080/"
        },
        "id": "9uHdTY3p9Xfr",
        "outputId": "3e0202be-812c-487c-a004-758a077d4689"
      },
      "execution_count": 10,
      "outputs": [
        {
          "output_type": "execute_result",
          "data": {
            "text/plain": [
              "['Animals & Pet Supplies',\n",
              " 'Apparel & Accessories',\n",
              " 'Arts & Entertainment',\n",
              " 'Baby & Toddler',\n",
              " 'Business & Industrial',\n",
              " 'Cameras & Optics',\n",
              " 'Electronics',\n",
              " 'Food, Beverages & Tobacco',\n",
              " 'Furniture',\n",
              " 'Hardware',\n",
              " 'Health & Beauty',\n",
              " 'Home & Garden',\n",
              " 'Luggage & Bags',\n",
              " 'Media',\n",
              " 'Office Supplies',\n",
              " 'Religious & Ceremonial',\n",
              " 'Software',\n",
              " 'Sporting Goods',\n",
              " 'Toys & Games',\n",
              " 'Vehicles & Parts']"
            ]
          },
          "metadata": {},
          "execution_count": 10
        }
      ]
    },
    {
      "cell_type": "code",
      "source": [
        "# printing each integer label and its corresponding name label\n",
        "for i, label in enumerate(labels_names):\n",
        "  print(\"Label\", i, \"corresponds to\", label)"
      ],
      "metadata": {
        "colab": {
          "base_uri": "https://localhost:8080/"
        },
        "id": "QXCgd6QTC_k6",
        "outputId": "ef97880f-976b-4cb3-9ac8-6f9e58836101"
      },
      "execution_count": 11,
      "outputs": [
        {
          "output_type": "stream",
          "name": "stdout",
          "text": [
            "Label 0 corresponds to Animals & Pet Supplies\n",
            "Label 1 corresponds to Apparel & Accessories\n",
            "Label 2 corresponds to Arts & Entertainment\n",
            "Label 3 corresponds to Baby & Toddler\n",
            "Label 4 corresponds to Business & Industrial\n",
            "Label 5 corresponds to Cameras & Optics\n",
            "Label 6 corresponds to Electronics\n",
            "Label 7 corresponds to Food, Beverages & Tobacco\n",
            "Label 8 corresponds to Furniture\n",
            "Label 9 corresponds to Hardware\n",
            "Label 10 corresponds to Health & Beauty\n",
            "Label 11 corresponds to Home & Garden\n",
            "Label 12 corresponds to Luggage & Bags\n",
            "Label 13 corresponds to Media\n",
            "Label 14 corresponds to Office Supplies\n",
            "Label 15 corresponds to Religious & Ceremonial\n",
            "Label 16 corresponds to Software\n",
            "Label 17 corresponds to Sporting Goods\n",
            "Label 18 corresponds to Toys & Games\n",
            "Label 19 corresponds to Vehicles & Parts\n"
          ]
        }
      ]
    },
    {
      "cell_type": "code",
      "source": [
        "# splitting dataset to train, validation, and test dataframes\n",
        "train_df, test_df= train_test_split(dataset, test_size=0.2, random_state=42)\n",
        "val_df = test_df.sample(frac=0.5)\n",
        "test_df.drop(val_df.index, inplace=True)\n",
        "\n",
        "print(f\"Number of samples in training set: {len(train_df)}\")\n",
        "print(f\"Number of samples in validation set: {len(val_df)}\")\n",
        "print(f\"Number of samples in test set: {len(test_df)}\")\n",
        "\n",
        "# extracting texts and labels from dataframes\n",
        "train_texts = train_df['text']\n",
        "train_labels = train_df['label_int']\n",
        "val_texts = val_df['text']\n",
        "val_labels = val_df['label_int']\n",
        "test_texts = test_df['text']\n",
        "test_labels = test_df['label_int']"
      ],
      "metadata": {
        "colab": {
          "base_uri": "https://localhost:8080/"
        },
        "id": "bWd2Rfp69X8g",
        "outputId": "6c7da04f-67b1-4717-abe5-3494a30b5e7c"
      },
      "execution_count": 12,
      "outputs": [
        {
          "output_type": "stream",
          "name": "stdout",
          "text": [
            "Number of samples in training set: 4216\n",
            "Number of samples in validation set: 527\n",
            "Number of samples in test set: 527\n"
          ]
        }
      ]
    },
    {
      "cell_type": "code",
      "source": [
        "# creating data generators with batch size 32\n",
        "batch_size = 32\n",
        "raw_train_batch = tf.data.Dataset.from_tensor_slices((train_texts, train_labels)).batch(batch_size)\n",
        "raw_val_batch = tf.data.Dataset.from_tensor_slices((val_texts, val_labels)).batch(batch_size)\n",
        "raw_test_batch = tf.data.Dataset.from_tensor_slices((test_texts, test_labels)).batch(batch_size)\n",
        "\n",
        "# printing texts and labels of a batch of raw train\n",
        "for text, label in raw_train_batch.take(1):\n",
        "  print('Texts: {}'.format(text))\n",
        "  print('labels: {}'.format(label))"
      ],
      "metadata": {
        "colab": {
          "base_uri": "https://localhost:8080/"
        },
        "id": "C4kA4X60zkC3",
        "outputId": "c91a9c31-4415-43d4-d3d9-9ed25ca68221"
      },
      "execution_count": 13,
      "outputs": [
        {
          "output_type": "stream",
          "name": "stdout",
          "text": [
            "Texts: [b'housie tambola game by brands with foldable reusable tickets snooplay 13 17 year olds 18 years above 251 500 8 12 year olds age no bar all time favourite below 1000 below 400 below 500 best selling board games creative games gifts customer favourites diwali family friends night family games friends family nights geek gifts for boys gifts for friends gifts for girls gifts for kids gifts for parents googleshopping nerd or geek new new collection outdoor games party accessories party essentials party freak party games party games for grown ups party games for kids premium unique new toys '\n",
            " b'foldable waterproof raised dog bed dogiti '\n",
            " b'quadrello di bufala cheese cut wrapped by igourmet category cheese cut cheeses milk type buffalo nutrition full set origin italy shipping perishable texture semi soft type stinky and washed rind wholesale cheese collection '\n",
            " b'quay vip pink navy to pink lens quay accessories new summer sunglasses '\n",
            " b'seachem multitest ammonia seachem '\n",
            " b'smart electric cat teasing toy pet clever cat toys cats rr track catproducts rr track cattoys '\n",
            " b'petroleum mixture sign the sign shed black text chemical chemical signs flammable signs general hazard portrait yellow bg '\n",
            " b'scott kingery andrew mccutchen philadelphia phillies ring the bell dual bobblehead foco data athlete andrew mccutchen data athlete scott kingery data city philadelphia data edition exclusive data filter collection no data filter discount yes data league mlb data region pennsylvania data sub category1 bobbleheads data team philadelphia phillies '\n",
            " b'diy personalised dreamcatcher activity kit sea animal doxbox store '\n",
            " b'dainty corduroy bow in lilac sweet first love bow corduroy headband purple spo disabled wos '\n",
            " b'new bts stylish backpack the pocket store '\n",
            " b'planet bike big buck fat front planet bike bicycle fenders bike accessories bikes fenders front fenders full price planet bike unisex '\n",
            " b'ms. better trans canada bitters enterprises jesemi inc. betters canada ms trans '\n",
            " b'drawstring backpack pink zig zag yoobi 10 15 2020 primedaydeal accessories all bags flair back to school backpacks bags bf2019 book bag book bags bookbag bookbags newyear pink pink zig zag sale summer2020 supplybundle zig zags '\n",
            " b'pineapple mini food speaker magnum brands add on birthday gift girl music pos speaker '\n",
            " b'interactive iq treat ball toy for dogs cats cj feeder waterer pet supplies '\n",
            " b'whisper of lord ganesha tarot deck u.s. games '\n",
            " b'handcrafted aasha cuff bracelet colorful cuff bracelet made with wooden beads wrapped with recycled sari fabrics. aasha bracelet comfy fair trade handcrafted handmade jewelry '\n",
            " b'idrop belik facial anti aging wrinkle ultrasonic face massager toothbrush attachment idrop anti aging anti wrinkle electric massager face massage facial massager health health beauty health fitness health care healthcare healthy healthy massager massage massager new ultrasonic '\n",
            " b'wood nativity puzzle mud pie one coas 10760023 baby children christmas gift god jesus kid religion toy '\n",
            " b'p.l.a.y. zoomierex fantastug sea foam dog toy p.l.a.y. brand p.l.a.y. summer collection toy type fetch toy type floating toy type rubber toy type tug twr '\n",
            " b'wallis simpson signed autobiography paul fraser collectibles autographs '\n",
            " b'imperial earring daya jewelry brass flower gold imperial spo default spo disabled spo enabled star tribal '\n",
            " b'armadillo nest charcoal armadillo alfresco armadillo door mats down to earth floor homeware homeware rugs mats labour weekend living modern boho rug rugs mats '\n",
            " b'millie pillow foreside pillows textiles '\n",
            " b'jelly brush aprilskin.us all '\n",
            " b'alarm you re little bitch blue blue blue crew cute exclude feed agegroup adult feed cl0 regularprice womens sassy funny words inappropriate cute profanity swear words exclude rude crude feed color blue feed cond new feed gender feed gender female feed gpc 209 funny inappropriate print profanity red regularprice rude crude sassy socks swear words womens words '\n",
            " b'boutique de paris lashes4today glamorous lashes luxury '\n",
            " b'dog pakiet dnp pc skin support pick me pets brand dolina noteci category pet supplies type dog food '\n",
            " b'plaza weekend diaper bag 7am label final sale addswatchrow adult age adult category diaper bags category weekenders color black color grey diaper diaper diaper ba dipper style plaza bag voyage '\n",
            " b'water sterling silver necklace wear the peace 925 sterling silver all products necklaces new arrivals '\n",
            " b'bain ultra violet rastase adha2020 adjusted assaad back in stock items bahaa black friday 2020 enabled blond absolu blondabsolu ramadan21 btpcat main 132768825422 btpcat other 132768825422 elian dada fadia el mendelek for colored blond hair hair care haircare summerfiesta sale jan 4 2021 price increase july 28th updated july increase ker aprist1st 2021 increase ker august 2021 price increase ker march 1st 2021 price increase ker priceincrease june1st 2021 kerastase ramadan21 rastase loolia2y mahmoud al zarif michel zeytoun non solar october 1st 2020 price increase or or reviews ppd price decrease 16th september 2021 ppd price decrease sept 2021 ppd price increase october1st 2021 ppd pricedecrease midseptember2021 ppd priceincrease 12th october 2021 price updated shampoos shant tawetian shop all stockcount 31 03 2021 weekend summerfiesta sale ']\n",
            "labels: [18  0  7  1  0  0  4  2  0  1 12 17  7 12 18  0 15  1 10 18  0  2  1 11\n",
            "  2  9  1 10  0 12  1 10]\n"
          ]
        }
      ]
    },
    {
      "cell_type": "code",
      "source": [
        "# counting how many words are there in the whole texts of the dataset\n",
        "num_of_words = 0\n",
        "for i in dataset['text']: num_of_words += len(i.split())\n",
        "\n",
        "print(num_of_words)"
      ],
      "metadata": {
        "colab": {
          "base_uri": "https://localhost:8080/"
        },
        "id": "P2QpUriFrsU_",
        "outputId": "8febed9f-0d4d-410c-9606-b7649ce49eb0"
      },
      "execution_count": 14,
      "outputs": [
        {
          "output_type": "stream",
          "name": "stdout",
          "text": [
            "112572\n"
          ]
        }
      ]
    },
    {
      "cell_type": "markdown",
      "source": [
        "There are about 112000 words in the texts.\n",
        "\n"
      ],
      "metadata": {
        "id": "wfw3CqfZsWyT"
      }
    },
    {
      "cell_type": "code",
      "source": [
        "# counting max sequence length and how many non-repetitive words are there in the whole texts of the dataset\n",
        "l = []\n",
        "max_seq_lenght = 0\n",
        "for i in dataset['text']:\n",
        "  lenght = len(i.split())\n",
        "  if lenght > max_seq_lenght: max_seq_lenght = lenght\n",
        "  for j in i.split():\n",
        "    if j not in l: l.append(j)\n",
        "\n",
        "print(max_seq_lenght)\n",
        "print(len(l))"
      ],
      "metadata": {
        "colab": {
          "base_uri": "https://localhost:8080/"
        },
        "id": "2ufQzaF9ncqZ",
        "outputId": "fc7acf13-b69b-4feb-ad4d-70c1946bfc6d"
      },
      "execution_count": 15,
      "outputs": [
        {
          "output_type": "stream",
          "name": "stdout",
          "text": [
            "309\n",
            "18933\n"
          ]
        }
      ]
    },
    {
      "cell_type": "markdown",
      "source": [
        "Maximum sequence length is 309 and There are about 19000 non-repetitive words in the whole dataset texts. So we set max word features to 10000 and sequence length to 350."
      ],
      "metadata": {
        "id": "cGGf8rQorkSR"
      }
    },
    {
      "cell_type": "code",
      "source": [
        "# setting the text vectorization layer with 10000 words and 350 sequence length\n",
        "max_features = 18000\n",
        "sequence_length = 350\n",
        "\n",
        "vectorize_layer = layers.TextVectorization(\n",
        "    max_tokens=max_features,\n",
        "    output_mode='int',\n",
        "    output_sequence_length=sequence_length)\n",
        "\n",
        "# fitting the state of the preprocessing layer to the train set. This will cause the model to build an index of strings to integers.\n",
        "vectorize_layer.adapt(train_texts)\n",
        "\n",
        "# defining the vectorize text function\n",
        "def vectorize_text(text, label):\n",
        "  text = tf.expand_dims(text, -1)\n",
        "  return vectorize_layer(text), label\n",
        "\n",
        "# retrieving a sample from a batch of texts and labels from the train set\n",
        "text_batch, label_batch = next(iter(raw_train_batch))\n",
        "first_review, first_label = text_batch[0], label_batch[0]\n",
        "print(\"Review\", first_review)\n",
        "print(\"Label\", first_label)\n",
        "print(\"Vectorized text\", vectorize_text(first_review, first_label))"
      ],
      "metadata": {
        "colab": {
          "base_uri": "https://localhost:8080/"
        },
        "id": "Ey2QJjO97T9P",
        "outputId": "ff7eaf50-4d78-4246-b8ea-cc7ec43444a4"
      },
      "execution_count": 30,
      "outputs": [
        {
          "output_type": "stream",
          "name": "stdout",
          "text": [
            "Review tf.Tensor(b'housie tambola game by brands with foldable reusable tickets snooplay 13 17 year olds 18 years above 251 500 8 12 year olds age no bar all time favourite below 1000 below 400 below 500 best selling board games creative games gifts customer favourites diwali family friends night family games friends family nights geek gifts for boys gifts for friends gifts for girls gifts for kids gifts for parents googleshopping nerd or geek new new collection outdoor games party accessories party essentials party freak party games party games for grown ups party games for kids premium unique new toys ', shape=(), dtype=string)\n",
            "Label tf.Tensor(18, shape=(), dtype=int8)\n",
            "Vectorized text (<tf.Tensor: shape=(1, 350), dtype=int64, numpy=\n",
            "array([[12501,  9229,   192,    23,   343,    51,  1546,  2392,  9089,\n",
            "         9635,   740,  1609,   275,  2882,   372,    69,   959, 15878,\n",
            "          134,   109,    89,   275,  2882,    35,    55,   381,    16,\n",
            "          480,  7346,   783,   181,   783,   961,   783,   134,    79,\n",
            "         2792,   104,    57,  1195,    57,    53,  3072, 13287,  5047,\n",
            "          237,  1078,   716,   237,    57,  1078,   237,  6529,  4896,\n",
            "           53,    13,   334,    53,    13,  1078,    53,    13,   179,\n",
            "           53,    13,    62,    53,    13,  3473, 12859, 11174,   303,\n",
            "         4896,     3,     3,     8,   157,    57,   250,    17,   250,\n",
            "          316,   250,  7261,   250,    57,   250,    57,    13,  1904,\n",
            "         5674,   250,    57,    13,    62,   360,   632,     3,     6,\n",
            "            0,     0,     0,     0,     0,     0,     0,     0,     0,\n",
            "            0,     0,     0,     0,     0,     0,     0,     0,     0,\n",
            "            0,     0,     0,     0,     0,     0,     0,     0,     0,\n",
            "            0,     0,     0,     0,     0,     0,     0,     0,     0,\n",
            "            0,     0,     0,     0,     0,     0,     0,     0,     0,\n",
            "            0,     0,     0,     0,     0,     0,     0,     0,     0,\n",
            "            0,     0,     0,     0,     0,     0,     0,     0,     0,\n",
            "            0,     0,     0,     0,     0,     0,     0,     0,     0,\n",
            "            0,     0,     0,     0,     0,     0,     0,     0,     0,\n",
            "            0,     0,     0,     0,     0,     0,     0,     0,     0,\n",
            "            0,     0,     0,     0,     0,     0,     0,     0,     0,\n",
            "            0,     0,     0,     0,     0,     0,     0,     0,     0,\n",
            "            0,     0,     0,     0,     0,     0,     0,     0,     0,\n",
            "            0,     0,     0,     0,     0,     0,     0,     0,     0,\n",
            "            0,     0,     0,     0,     0,     0,     0,     0,     0,\n",
            "            0,     0,     0,     0,     0,     0,     0,     0,     0,\n",
            "            0,     0,     0,     0,     0,     0,     0,     0,     0,\n",
            "            0,     0,     0,     0,     0,     0,     0,     0,     0,\n",
            "            0,     0,     0,     0,     0,     0,     0,     0,     0,\n",
            "            0,     0,     0,     0,     0,     0,     0,     0,     0,\n",
            "            0,     0,     0,     0,     0,     0,     0,     0,     0,\n",
            "            0,     0,     0,     0,     0,     0,     0,     0,     0,\n",
            "            0,     0,     0,     0,     0,     0,     0,     0,     0,\n",
            "            0,     0,     0,     0,     0,     0,     0,     0,     0,\n",
            "            0,     0,     0,     0,     0,     0,     0,     0,     0,\n",
            "            0,     0,     0,     0,     0,     0,     0,     0,     0,\n",
            "            0,     0,     0,     0,     0,     0,     0,     0,     0,\n",
            "            0,     0,     0,     0,     0,     0,     0,     0]])>, <tf.Tensor: shape=(), dtype=int8, numpy=18>)\n"
          ]
        }
      ]
    },
    {
      "cell_type": "code",
      "source": [
        "# getting corresponding word of each integer \n",
        "print(\"1401 ---> \",vectorize_layer.get_vocabulary()[1401])\n",
        "print(\" 313 ---> \",vectorize_layer.get_vocabulary()[313])\n",
        "print('Vocabulary size: {}'.format(len(vectorize_layer.get_vocabulary())))"
      ],
      "metadata": {
        "colab": {
          "base_uri": "https://localhost:8080/"
        },
        "id": "X84dkB768GSx",
        "outputId": "e477d683-d06f-4ca4-82dd-5087224c451e"
      },
      "execution_count": 31,
      "outputs": [
        {
          "output_type": "stream",
          "name": "stdout",
          "text": [
            "1401 --->  heel\n",
            " 313 --->  is\n",
            "Vocabulary size: 16230\n"
          ]
        }
      ]
    },
    {
      "cell_type": "code",
      "source": [
        "# creating train, val, and test vectorized dataset and prefetching them\n",
        "train_ds = raw_train_batch.map(vectorize_text)\n",
        "val_ds = raw_val_batch.map(vectorize_text)\n",
        "test_ds = raw_test_batch.map(vectorize_text)\n",
        "\n",
        "AUTOTUNE = tf.data.AUTOTUNE\n",
        "\n",
        "train_ds = train_ds.cache().prefetch(buffer_size=AUTOTUNE)\n",
        "val_ds = val_ds.cache().prefetch(buffer_size=AUTOTUNE)\n",
        "test_ds = test_ds.cache().prefetch(buffer_size=AUTOTUNE)"
      ],
      "metadata": {
        "id": "DiW717GQ_77D"
      },
      "execution_count": 32,
      "outputs": []
    },
    {
      "cell_type": "code",
      "source": [
        "# model configuration\n",
        "embedding_dim = 50\n",
        "num_of_labels = 20\n",
        "\n",
        "model = tf.keras.Sequential([\n",
        "  layers.Embedding(max_features + 1, embedding_dim),\n",
        "  layers.Dropout(0.2),\n",
        "  layers.GlobalAveragePooling1D(),\n",
        "  layers.Dropout(0.2),\n",
        "  layers.Dense(num_of_labels)])\n",
        "\n",
        "model.summary()"
      ],
      "metadata": {
        "colab": {
          "base_uri": "https://localhost:8080/"
        },
        "id": "BBHmGG_SAWhp",
        "outputId": "6b1f1355-86d7-45ae-b8b1-9653ff2622ee"
      },
      "execution_count": 33,
      "outputs": [
        {
          "output_type": "stream",
          "name": "stdout",
          "text": [
            "Model: \"sequential_2\"\n",
            "_________________________________________________________________\n",
            " Layer (type)                Output Shape              Param #   \n",
            "=================================================================\n",
            " embedding_1 (Embedding)     (None, None, 50)          900050    \n",
            "                                                                 \n",
            " dropout_2 (Dropout)         (None, None, 50)          0         \n",
            "                                                                 \n",
            " global_average_pooling1d_1   (None, 50)               0         \n",
            " (GlobalAveragePooling1D)                                        \n",
            "                                                                 \n",
            " dropout_3 (Dropout)         (None, 50)                0         \n",
            "                                                                 \n",
            " dense_1 (Dense)             (None, 20)                1020      \n",
            "                                                                 \n",
            "=================================================================\n",
            "Total params: 901,070\n",
            "Trainable params: 901,070\n",
            "Non-trainable params: 0\n",
            "_________________________________________________________________\n"
          ]
        }
      ]
    },
    {
      "cell_type": "code",
      "source": [
        "# model compilation\n",
        "model.compile(optimizer='adam',\n",
        "              loss=tf.keras.losses.SparseCategoricalCrossentropy(from_logits=True),\n",
        "              metrics=['accuracy'])"
      ],
      "metadata": {
        "id": "uL6c-YGfAwLz"
      },
      "execution_count": 34,
      "outputs": []
    },
    {
      "cell_type": "code",
      "source": [
        "# training the model\n",
        "epochs = 500\n",
        "\n",
        "callback = tf.keras.callbacks.EarlyStopping(monitor='val_loss',\n",
        "                                            patience=5,\n",
        "                                            verbose=1)\n",
        "\n",
        "history = model.fit(train_ds,\n",
        "                    validation_data=val_ds,\n",
        "                    epochs=epochs,\n",
        "                    callbacks=[callback])"
      ],
      "metadata": {
        "colab": {
          "base_uri": "https://localhost:8080/"
        },
        "id": "CIfmPA3SvX4d",
        "outputId": "30fb186e-7dc3-4c22-9158-0aaf4746b614"
      },
      "execution_count": 35,
      "outputs": [
        {
          "output_type": "stream",
          "name": "stdout",
          "text": [
            "Epoch 1/500\n",
            "132/132 [==============================] - 15s 105ms/step - loss: 2.8555 - accuracy: 0.1653 - val_loss: 2.7182 - val_accuracy: 0.2030\n",
            "Epoch 2/500\n",
            "132/132 [==============================] - 1s 4ms/step - loss: 2.6882 - accuracy: 0.1881 - val_loss: 2.6681 - val_accuracy: 0.2030\n",
            "Epoch 3/500\n",
            "132/132 [==============================] - 1s 4ms/step - loss: 2.6704 - accuracy: 0.1881 - val_loss: 2.6585 - val_accuracy: 0.2030\n",
            "Epoch 4/500\n",
            "132/132 [==============================] - 1s 4ms/step - loss: 2.6619 - accuracy: 0.1881 - val_loss: 2.6501 - val_accuracy: 0.2030\n",
            "Epoch 5/500\n",
            "132/132 [==============================] - 1s 4ms/step - loss: 2.6545 - accuracy: 0.1881 - val_loss: 2.6418 - val_accuracy: 0.2030\n",
            "Epoch 6/500\n",
            "132/132 [==============================] - 1s 6ms/step - loss: 2.6446 - accuracy: 0.1881 - val_loss: 2.6331 - val_accuracy: 0.2030\n",
            "Epoch 7/500\n",
            "132/132 [==============================] - 1s 5ms/step - loss: 2.6314 - accuracy: 0.1886 - val_loss: 2.6224 - val_accuracy: 0.2030\n",
            "Epoch 8/500\n",
            "132/132 [==============================] - 1s 4ms/step - loss: 2.6145 - accuracy: 0.1886 - val_loss: 2.6091 - val_accuracy: 0.2049\n",
            "Epoch 9/500\n",
            "132/132 [==============================] - 1s 4ms/step - loss: 2.6016 - accuracy: 0.1895 - val_loss: 2.5938 - val_accuracy: 0.2087\n",
            "Epoch 10/500\n",
            "132/132 [==============================] - 0s 4ms/step - loss: 2.5785 - accuracy: 0.1928 - val_loss: 2.5762 - val_accuracy: 0.2106\n",
            "Epoch 11/500\n",
            "132/132 [==============================] - 1s 4ms/step - loss: 2.5555 - accuracy: 0.2007 - val_loss: 2.5564 - val_accuracy: 0.2163\n",
            "Epoch 12/500\n",
            "132/132 [==============================] - 0s 4ms/step - loss: 2.5316 - accuracy: 0.2092 - val_loss: 2.5332 - val_accuracy: 0.2201\n",
            "Epoch 13/500\n",
            "132/132 [==============================] - 1s 4ms/step - loss: 2.5020 - accuracy: 0.2196 - val_loss: 2.5069 - val_accuracy: 0.2372\n",
            "Epoch 14/500\n",
            "132/132 [==============================] - 0s 4ms/step - loss: 2.4705 - accuracy: 0.2306 - val_loss: 2.4793 - val_accuracy: 0.2467\n",
            "Epoch 15/500\n",
            "132/132 [==============================] - 1s 4ms/step - loss: 2.4328 - accuracy: 0.2431 - val_loss: 2.4494 - val_accuracy: 0.2619\n",
            "Epoch 16/500\n",
            "132/132 [==============================] - 1s 4ms/step - loss: 2.3965 - accuracy: 0.2595 - val_loss: 2.4168 - val_accuracy: 0.2789\n",
            "Epoch 17/500\n",
            "132/132 [==============================] - 1s 4ms/step - loss: 2.3581 - accuracy: 0.2770 - val_loss: 2.3838 - val_accuracy: 0.2922\n",
            "Epoch 18/500\n",
            "132/132 [==============================] - 0s 4ms/step - loss: 2.3149 - accuracy: 0.2996 - val_loss: 2.3463 - val_accuracy: 0.2960\n",
            "Epoch 19/500\n",
            "132/132 [==============================] - 1s 4ms/step - loss: 2.2706 - accuracy: 0.3162 - val_loss: 2.3106 - val_accuracy: 0.3055\n",
            "Epoch 20/500\n",
            "132/132 [==============================] - 1s 4ms/step - loss: 2.2260 - accuracy: 0.3406 - val_loss: 2.2738 - val_accuracy: 0.3283\n",
            "Epoch 21/500\n",
            "132/132 [==============================] - 1s 4ms/step - loss: 2.1806 - accuracy: 0.3672 - val_loss: 2.2343 - val_accuracy: 0.3491\n",
            "Epoch 22/500\n",
            "132/132 [==============================] - 0s 4ms/step - loss: 2.1316 - accuracy: 0.3904 - val_loss: 2.1945 - val_accuracy: 0.3662\n",
            "Epoch 23/500\n",
            "132/132 [==============================] - 0s 4ms/step - loss: 2.0813 - accuracy: 0.4148 - val_loss: 2.1559 - val_accuracy: 0.3909\n",
            "Epoch 24/500\n",
            "132/132 [==============================] - 1s 4ms/step - loss: 2.0382 - accuracy: 0.4495 - val_loss: 2.1168 - val_accuracy: 0.4231\n",
            "Epoch 25/500\n",
            "132/132 [==============================] - 1s 5ms/step - loss: 1.9817 - accuracy: 0.4827 - val_loss: 2.0780 - val_accuracy: 0.4478\n",
            "Epoch 26/500\n",
            "132/132 [==============================] - 1s 5ms/step - loss: 1.9350 - accuracy: 0.5097 - val_loss: 2.0394 - val_accuracy: 0.4687\n",
            "Epoch 27/500\n",
            "132/132 [==============================] - 0s 4ms/step - loss: 1.8881 - accuracy: 0.5320 - val_loss: 1.9997 - val_accuracy: 0.4991\n",
            "Epoch 28/500\n",
            "132/132 [==============================] - 1s 4ms/step - loss: 1.8368 - accuracy: 0.5531 - val_loss: 1.9624 - val_accuracy: 0.5142\n",
            "Epoch 29/500\n",
            "132/132 [==============================] - 1s 4ms/step - loss: 1.7876 - accuracy: 0.5842 - val_loss: 1.9239 - val_accuracy: 0.5294\n",
            "Epoch 30/500\n",
            "132/132 [==============================] - 1s 4ms/step - loss: 1.7368 - accuracy: 0.6131 - val_loss: 1.8858 - val_accuracy: 0.5427\n",
            "Epoch 31/500\n",
            "132/132 [==============================] - 1s 4ms/step - loss: 1.6936 - accuracy: 0.6357 - val_loss: 1.8488 - val_accuracy: 0.5655\n",
            "Epoch 32/500\n",
            "132/132 [==============================] - 1s 4ms/step - loss: 1.6438 - accuracy: 0.6539 - val_loss: 1.8136 - val_accuracy: 0.5844\n",
            "Epoch 33/500\n",
            "132/132 [==============================] - 1s 4ms/step - loss: 1.5971 - accuracy: 0.6743 - val_loss: 1.7786 - val_accuracy: 0.6034\n",
            "Epoch 34/500\n",
            "132/132 [==============================] - 1s 4ms/step - loss: 1.5477 - accuracy: 0.6964 - val_loss: 1.7441 - val_accuracy: 0.6186\n",
            "Epoch 35/500\n",
            "132/132 [==============================] - 1s 4ms/step - loss: 1.5044 - accuracy: 0.7109 - val_loss: 1.7094 - val_accuracy: 0.6357\n",
            "Epoch 36/500\n",
            "132/132 [==============================] - 1s 4ms/step - loss: 1.4620 - accuracy: 0.7213 - val_loss: 1.6752 - val_accuracy: 0.6471\n",
            "Epoch 37/500\n",
            "132/132 [==============================] - 1s 4ms/step - loss: 1.4133 - accuracy: 0.7405 - val_loss: 1.6434 - val_accuracy: 0.6565\n",
            "Epoch 38/500\n",
            "132/132 [==============================] - 1s 4ms/step - loss: 1.3717 - accuracy: 0.7604 - val_loss: 1.6125 - val_accuracy: 0.6622\n",
            "Epoch 39/500\n",
            "132/132 [==============================] - 1s 4ms/step - loss: 1.3335 - accuracy: 0.7657 - val_loss: 1.5819 - val_accuracy: 0.6717\n",
            "Epoch 40/500\n",
            "132/132 [==============================] - 1s 4ms/step - loss: 1.2905 - accuracy: 0.7787 - val_loss: 1.5513 - val_accuracy: 0.6812\n",
            "Epoch 41/500\n",
            "132/132 [==============================] - 1s 4ms/step - loss: 1.2521 - accuracy: 0.7849 - val_loss: 1.5213 - val_accuracy: 0.6926\n",
            "Epoch 42/500\n",
            "132/132 [==============================] - 1s 4ms/step - loss: 1.2112 - accuracy: 0.8031 - val_loss: 1.4943 - val_accuracy: 0.7097\n",
            "Epoch 43/500\n",
            "132/132 [==============================] - 1s 4ms/step - loss: 1.1728 - accuracy: 0.8081 - val_loss: 1.4656 - val_accuracy: 0.7097\n",
            "Epoch 44/500\n",
            "132/132 [==============================] - 1s 4ms/step - loss: 1.1375 - accuracy: 0.8157 - val_loss: 1.4386 - val_accuracy: 0.7116\n",
            "Epoch 45/500\n",
            "132/132 [==============================] - 1s 5ms/step - loss: 1.0995 - accuracy: 0.8216 - val_loss: 1.4127 - val_accuracy: 0.7230\n",
            "Epoch 46/500\n",
            "132/132 [==============================] - 1s 6ms/step - loss: 1.0665 - accuracy: 0.8335 - val_loss: 1.3876 - val_accuracy: 0.7306\n",
            "Epoch 47/500\n",
            "132/132 [==============================] - 1s 4ms/step - loss: 1.0337 - accuracy: 0.8380 - val_loss: 1.3636 - val_accuracy: 0.7381\n",
            "Epoch 48/500\n",
            "132/132 [==============================] - 1s 4ms/step - loss: 1.0006 - accuracy: 0.8418 - val_loss: 1.3399 - val_accuracy: 0.7419\n",
            "Epoch 49/500\n",
            "132/132 [==============================] - 1s 4ms/step - loss: 0.9705 - accuracy: 0.8515 - val_loss: 1.3173 - val_accuracy: 0.7419\n",
            "Epoch 50/500\n",
            "132/132 [==============================] - 1s 4ms/step - loss: 0.9382 - accuracy: 0.8546 - val_loss: 1.2968 - val_accuracy: 0.7438\n",
            "Epoch 51/500\n",
            "132/132 [==============================] - 1s 4ms/step - loss: 0.9100 - accuracy: 0.8589 - val_loss: 1.2749 - val_accuracy: 0.7476\n",
            "Epoch 52/500\n",
            "132/132 [==============================] - 1s 4ms/step - loss: 0.8797 - accuracy: 0.8655 - val_loss: 1.2549 - val_accuracy: 0.7495\n",
            "Epoch 53/500\n",
            "132/132 [==============================] - 1s 4ms/step - loss: 0.8507 - accuracy: 0.8707 - val_loss: 1.2346 - val_accuracy: 0.7495\n",
            "Epoch 54/500\n",
            "132/132 [==============================] - 1s 4ms/step - loss: 0.8260 - accuracy: 0.8729 - val_loss: 1.2181 - val_accuracy: 0.7571\n",
            "Epoch 55/500\n",
            "132/132 [==============================] - 1s 4ms/step - loss: 0.7991 - accuracy: 0.8759 - val_loss: 1.1998 - val_accuracy: 0.7495\n",
            "Epoch 56/500\n",
            "132/132 [==============================] - 1s 4ms/step - loss: 0.7716 - accuracy: 0.8816 - val_loss: 1.1803 - val_accuracy: 0.7590\n",
            "Epoch 57/500\n",
            "132/132 [==============================] - 1s 4ms/step - loss: 0.7472 - accuracy: 0.8852 - val_loss: 1.1632 - val_accuracy: 0.7609\n",
            "Epoch 58/500\n",
            "132/132 [==============================] - 1s 4ms/step - loss: 0.7278 - accuracy: 0.8899 - val_loss: 1.1471 - val_accuracy: 0.7666\n",
            "Epoch 59/500\n",
            "132/132 [==============================] - 1s 4ms/step - loss: 0.7026 - accuracy: 0.8963 - val_loss: 1.1299 - val_accuracy: 0.7685\n",
            "Epoch 60/500\n",
            "132/132 [==============================] - 1s 4ms/step - loss: 0.6791 - accuracy: 0.8997 - val_loss: 1.1170 - val_accuracy: 0.7704\n",
            "Epoch 61/500\n",
            "132/132 [==============================] - 1s 4ms/step - loss: 0.6601 - accuracy: 0.9023 - val_loss: 1.1020 - val_accuracy: 0.7723\n",
            "Epoch 62/500\n",
            "132/132 [==============================] - 1s 4ms/step - loss: 0.6429 - accuracy: 0.9039 - val_loss: 1.0877 - val_accuracy: 0.7780\n",
            "Epoch 63/500\n",
            "132/132 [==============================] - 1s 4ms/step - loss: 0.6174 - accuracy: 0.9082 - val_loss: 1.0742 - val_accuracy: 0.7780\n",
            "Epoch 64/500\n",
            "132/132 [==============================] - 1s 4ms/step - loss: 0.5998 - accuracy: 0.9141 - val_loss: 1.0598 - val_accuracy: 0.7837\n",
            "Epoch 65/500\n",
            "132/132 [==============================] - 1s 6ms/step - loss: 0.5802 - accuracy: 0.9189 - val_loss: 1.0491 - val_accuracy: 0.7818\n",
            "Epoch 66/500\n",
            "132/132 [==============================] - 1s 5ms/step - loss: 0.5632 - accuracy: 0.9203 - val_loss: 1.0366 - val_accuracy: 0.7780\n",
            "Epoch 67/500\n",
            "132/132 [==============================] - 1s 4ms/step - loss: 0.5465 - accuracy: 0.9243 - val_loss: 1.0243 - val_accuracy: 0.7818\n",
            "Epoch 68/500\n",
            "132/132 [==============================] - 1s 4ms/step - loss: 0.5278 - accuracy: 0.9262 - val_loss: 1.0141 - val_accuracy: 0.7856\n",
            "Epoch 69/500\n",
            "132/132 [==============================] - 1s 4ms/step - loss: 0.5138 - accuracy: 0.9298 - val_loss: 1.0041 - val_accuracy: 0.7856\n",
            "Epoch 70/500\n",
            "132/132 [==============================] - 1s 4ms/step - loss: 0.4946 - accuracy: 0.9338 - val_loss: 0.9933 - val_accuracy: 0.7818\n",
            "Epoch 71/500\n",
            "132/132 [==============================] - 1s 4ms/step - loss: 0.4803 - accuracy: 0.9369 - val_loss: 0.9829 - val_accuracy: 0.7894\n",
            "Epoch 72/500\n",
            "132/132 [==============================] - 1s 4ms/step - loss: 0.4664 - accuracy: 0.9379 - val_loss: 0.9747 - val_accuracy: 0.7894\n",
            "Epoch 73/500\n",
            "132/132 [==============================] - 1s 4ms/step - loss: 0.4495 - accuracy: 0.9402 - val_loss: 0.9664 - val_accuracy: 0.7932\n",
            "Epoch 74/500\n",
            "132/132 [==============================] - 1s 4ms/step - loss: 0.4400 - accuracy: 0.9414 - val_loss: 0.9563 - val_accuracy: 0.7951\n",
            "Epoch 75/500\n",
            "132/132 [==============================] - 1s 4ms/step - loss: 0.4235 - accuracy: 0.9447 - val_loss: 0.9486 - val_accuracy: 0.7970\n",
            "Epoch 76/500\n",
            "132/132 [==============================] - 1s 4ms/step - loss: 0.4104 - accuracy: 0.9488 - val_loss: 0.9387 - val_accuracy: 0.8008\n",
            "Epoch 77/500\n",
            "132/132 [==============================] - 1s 4ms/step - loss: 0.3982 - accuracy: 0.9519 - val_loss: 0.9327 - val_accuracy: 0.8008\n",
            "Epoch 78/500\n",
            "132/132 [==============================] - 1s 4ms/step - loss: 0.3892 - accuracy: 0.9530 - val_loss: 0.9256 - val_accuracy: 0.8008\n",
            "Epoch 79/500\n",
            "132/132 [==============================] - 1s 4ms/step - loss: 0.3749 - accuracy: 0.9547 - val_loss: 0.9178 - val_accuracy: 0.8008\n",
            "Epoch 80/500\n",
            "132/132 [==============================] - 1s 4ms/step - loss: 0.3643 - accuracy: 0.9594 - val_loss: 0.9114 - val_accuracy: 0.8008\n",
            "Epoch 81/500\n",
            "132/132 [==============================] - 1s 4ms/step - loss: 0.3522 - accuracy: 0.9602 - val_loss: 0.9035 - val_accuracy: 0.8046\n",
            "Epoch 82/500\n",
            "132/132 [==============================] - 1s 4ms/step - loss: 0.3385 - accuracy: 0.9635 - val_loss: 0.8980 - val_accuracy: 0.8065\n",
            "Epoch 83/500\n",
            "132/132 [==============================] - 1s 4ms/step - loss: 0.3331 - accuracy: 0.9644 - val_loss: 0.8913 - val_accuracy: 0.8065\n",
            "Epoch 84/500\n",
            "132/132 [==============================] - 1s 5ms/step - loss: 0.3211 - accuracy: 0.9644 - val_loss: 0.8865 - val_accuracy: 0.8065\n",
            "Epoch 85/500\n",
            "132/132 [==============================] - 1s 6ms/step - loss: 0.3123 - accuracy: 0.9673 - val_loss: 0.8814 - val_accuracy: 0.8102\n",
            "Epoch 86/500\n",
            "132/132 [==============================] - 1s 6ms/step - loss: 0.3018 - accuracy: 0.9692 - val_loss: 0.8753 - val_accuracy: 0.8065\n",
            "Epoch 87/500\n",
            "132/132 [==============================] - 1s 4ms/step - loss: 0.2917 - accuracy: 0.9706 - val_loss: 0.8711 - val_accuracy: 0.8065\n",
            "Epoch 88/500\n",
            "132/132 [==============================] - 1s 4ms/step - loss: 0.2819 - accuracy: 0.9722 - val_loss: 0.8640 - val_accuracy: 0.8065\n",
            "Epoch 89/500\n",
            "132/132 [==============================] - 1s 4ms/step - loss: 0.2750 - accuracy: 0.9718 - val_loss: 0.8584 - val_accuracy: 0.8065\n",
            "Epoch 90/500\n",
            "132/132 [==============================] - 1s 4ms/step - loss: 0.2638 - accuracy: 0.9734 - val_loss: 0.8550 - val_accuracy: 0.8065\n",
            "Epoch 91/500\n",
            "132/132 [==============================] - 1s 4ms/step - loss: 0.2583 - accuracy: 0.9758 - val_loss: 0.8498 - val_accuracy: 0.8121\n",
            "Epoch 92/500\n",
            "132/132 [==============================] - 1s 4ms/step - loss: 0.2520 - accuracy: 0.9751 - val_loss: 0.8483 - val_accuracy: 0.8027\n",
            "Epoch 93/500\n",
            "132/132 [==============================] - 1s 4ms/step - loss: 0.2445 - accuracy: 0.9787 - val_loss: 0.8424 - val_accuracy: 0.8046\n",
            "Epoch 94/500\n",
            "132/132 [==============================] - 1s 4ms/step - loss: 0.2345 - accuracy: 0.9808 - val_loss: 0.8379 - val_accuracy: 0.8065\n",
            "Epoch 95/500\n",
            "132/132 [==============================] - 1s 4ms/step - loss: 0.2277 - accuracy: 0.9796 - val_loss: 0.8339 - val_accuracy: 0.8102\n",
            "Epoch 96/500\n",
            "132/132 [==============================] - 1s 4ms/step - loss: 0.2229 - accuracy: 0.9822 - val_loss: 0.8313 - val_accuracy: 0.8083\n",
            "Epoch 97/500\n",
            "132/132 [==============================] - 1s 4ms/step - loss: 0.2144 - accuracy: 0.9829 - val_loss: 0.8281 - val_accuracy: 0.8102\n",
            "Epoch 98/500\n",
            "132/132 [==============================] - 1s 4ms/step - loss: 0.2085 - accuracy: 0.9832 - val_loss: 0.8246 - val_accuracy: 0.8083\n",
            "Epoch 99/500\n",
            "132/132 [==============================] - 1s 4ms/step - loss: 0.2004 - accuracy: 0.9836 - val_loss: 0.8216 - val_accuracy: 0.8102\n",
            "Epoch 100/500\n",
            "132/132 [==============================] - 1s 4ms/step - loss: 0.1955 - accuracy: 0.9843 - val_loss: 0.8173 - val_accuracy: 0.8121\n",
            "Epoch 101/500\n",
            "132/132 [==============================] - 1s 4ms/step - loss: 0.1891 - accuracy: 0.9855 - val_loss: 0.8138 - val_accuracy: 0.8121\n",
            "Epoch 102/500\n",
            "132/132 [==============================] - 1s 4ms/step - loss: 0.1828 - accuracy: 0.9860 - val_loss: 0.8115 - val_accuracy: 0.8083\n",
            "Epoch 103/500\n",
            "132/132 [==============================] - 1s 4ms/step - loss: 0.1762 - accuracy: 0.9884 - val_loss: 0.8093 - val_accuracy: 0.8102\n",
            "Epoch 104/500\n",
            "132/132 [==============================] - 1s 6ms/step - loss: 0.1726 - accuracy: 0.9867 - val_loss: 0.8082 - val_accuracy: 0.8083\n",
            "Epoch 105/500\n",
            "132/132 [==============================] - 1s 6ms/step - loss: 0.1655 - accuracy: 0.9891 - val_loss: 0.8048 - val_accuracy: 0.8065\n",
            "Epoch 106/500\n",
            "132/132 [==============================] - 1s 4ms/step - loss: 0.1615 - accuracy: 0.9900 - val_loss: 0.8028 - val_accuracy: 0.8046\n",
            "Epoch 107/500\n",
            "132/132 [==============================] - 1s 4ms/step - loss: 0.1560 - accuracy: 0.9891 - val_loss: 0.7987 - val_accuracy: 0.8102\n",
            "Epoch 108/500\n",
            "132/132 [==============================] - 1s 4ms/step - loss: 0.1524 - accuracy: 0.9881 - val_loss: 0.7966 - val_accuracy: 0.8083\n",
            "Epoch 109/500\n",
            "132/132 [==============================] - 1s 4ms/step - loss: 0.1465 - accuracy: 0.9905 - val_loss: 0.7944 - val_accuracy: 0.8102\n",
            "Epoch 110/500\n",
            "132/132 [==============================] - 1s 4ms/step - loss: 0.1425 - accuracy: 0.9912 - val_loss: 0.7936 - val_accuracy: 0.8083\n",
            "Epoch 111/500\n",
            "132/132 [==============================] - 1s 4ms/step - loss: 0.1388 - accuracy: 0.9910 - val_loss: 0.7894 - val_accuracy: 0.8102\n",
            "Epoch 112/500\n",
            "132/132 [==============================] - 1s 4ms/step - loss: 0.1338 - accuracy: 0.9917 - val_loss: 0.7879 - val_accuracy: 0.8065\n",
            "Epoch 113/500\n",
            "132/132 [==============================] - 1s 4ms/step - loss: 0.1270 - accuracy: 0.9919 - val_loss: 0.7882 - val_accuracy: 0.8083\n",
            "Epoch 114/500\n",
            "132/132 [==============================] - 1s 4ms/step - loss: 0.1237 - accuracy: 0.9931 - val_loss: 0.7861 - val_accuracy: 0.8121\n",
            "Epoch 115/500\n",
            "132/132 [==============================] - 1s 4ms/step - loss: 0.1203 - accuracy: 0.9929 - val_loss: 0.7838 - val_accuracy: 0.8140\n",
            "Epoch 116/500\n",
            "132/132 [==============================] - 1s 4ms/step - loss: 0.1184 - accuracy: 0.9931 - val_loss: 0.7803 - val_accuracy: 0.8083\n",
            "Epoch 117/500\n",
            "132/132 [==============================] - 1s 4ms/step - loss: 0.1134 - accuracy: 0.9938 - val_loss: 0.7799 - val_accuracy: 0.8121\n",
            "Epoch 118/500\n",
            "132/132 [==============================] - 1s 4ms/step - loss: 0.1094 - accuracy: 0.9941 - val_loss: 0.7793 - val_accuracy: 0.8140\n",
            "Epoch 119/500\n",
            "132/132 [==============================] - 1s 4ms/step - loss: 0.1057 - accuracy: 0.9941 - val_loss: 0.7783 - val_accuracy: 0.8121\n",
            "Epoch 120/500\n",
            "132/132 [==============================] - 1s 4ms/step - loss: 0.1039 - accuracy: 0.9936 - val_loss: 0.7768 - val_accuracy: 0.8159\n",
            "Epoch 121/500\n",
            "132/132 [==============================] - 1s 4ms/step - loss: 0.0998 - accuracy: 0.9936 - val_loss: 0.7759 - val_accuracy: 0.8140\n",
            "Epoch 122/500\n",
            "132/132 [==============================] - 1s 4ms/step - loss: 0.0974 - accuracy: 0.9945 - val_loss: 0.7755 - val_accuracy: 0.8159\n",
            "Epoch 123/500\n",
            "132/132 [==============================] - 1s 4ms/step - loss: 0.0937 - accuracy: 0.9950 - val_loss: 0.7719 - val_accuracy: 0.8197\n",
            "Epoch 124/500\n",
            "132/132 [==============================] - 1s 5ms/step - loss: 0.0913 - accuracy: 0.9955 - val_loss: 0.7723 - val_accuracy: 0.8159\n",
            "Epoch 125/500\n",
            "132/132 [==============================] - 1s 6ms/step - loss: 0.0875 - accuracy: 0.9957 - val_loss: 0.7691 - val_accuracy: 0.8178\n",
            "Epoch 126/500\n",
            "132/132 [==============================] - 1s 4ms/step - loss: 0.0847 - accuracy: 0.9962 - val_loss: 0.7679 - val_accuracy: 0.8121\n",
            "Epoch 127/500\n",
            "132/132 [==============================] - 1s 4ms/step - loss: 0.0834 - accuracy: 0.9955 - val_loss: 0.7692 - val_accuracy: 0.8140\n",
            "Epoch 128/500\n",
            "132/132 [==============================] - 1s 4ms/step - loss: 0.0808 - accuracy: 0.9950 - val_loss: 0.7694 - val_accuracy: 0.8159\n",
            "Epoch 129/500\n",
            "132/132 [==============================] - 1s 4ms/step - loss: 0.0765 - accuracy: 0.9967 - val_loss: 0.7663 - val_accuracy: 0.8159\n",
            "Epoch 130/500\n",
            "132/132 [==============================] - 1s 4ms/step - loss: 0.0756 - accuracy: 0.9960 - val_loss: 0.7685 - val_accuracy: 0.8140\n",
            "Epoch 131/500\n",
            "132/132 [==============================] - 1s 4ms/step - loss: 0.0721 - accuracy: 0.9957 - val_loss: 0.7676 - val_accuracy: 0.8159\n",
            "Epoch 132/500\n",
            "132/132 [==============================] - 1s 4ms/step - loss: 0.0699 - accuracy: 0.9962 - val_loss: 0.7630 - val_accuracy: 0.8178\n",
            "Epoch 133/500\n",
            "132/132 [==============================] - 1s 4ms/step - loss: 0.0682 - accuracy: 0.9974 - val_loss: 0.7634 - val_accuracy: 0.8159\n",
            "Epoch 134/500\n",
            "132/132 [==============================] - 1s 4ms/step - loss: 0.0641 - accuracy: 0.9967 - val_loss: 0.7638 - val_accuracy: 0.8159\n",
            "Epoch 135/500\n",
            "132/132 [==============================] - 1s 4ms/step - loss: 0.0632 - accuracy: 0.9972 - val_loss: 0.7621 - val_accuracy: 0.8159\n",
            "Epoch 136/500\n",
            "132/132 [==============================] - 1s 4ms/step - loss: 0.0615 - accuracy: 0.9979 - val_loss: 0.7592 - val_accuracy: 0.8140\n",
            "Epoch 137/500\n",
            "132/132 [==============================] - 1s 4ms/step - loss: 0.0592 - accuracy: 0.9972 - val_loss: 0.7628 - val_accuracy: 0.8159\n",
            "Epoch 138/500\n",
            "132/132 [==============================] - 1s 4ms/step - loss: 0.0572 - accuracy: 0.9979 - val_loss: 0.7566 - val_accuracy: 0.8178\n",
            "Epoch 139/500\n",
            "132/132 [==============================] - 1s 4ms/step - loss: 0.0572 - accuracy: 0.9974 - val_loss: 0.7587 - val_accuracy: 0.8197\n",
            "Epoch 140/500\n",
            "132/132 [==============================] - 1s 4ms/step - loss: 0.0539 - accuracy: 0.9986 - val_loss: 0.7581 - val_accuracy: 0.8197\n",
            "Epoch 141/500\n",
            "132/132 [==============================] - 1s 4ms/step - loss: 0.0521 - accuracy: 0.9981 - val_loss: 0.7576 - val_accuracy: 0.8178\n",
            "Epoch 142/500\n",
            "132/132 [==============================] - 1s 4ms/step - loss: 0.0509 - accuracy: 0.9974 - val_loss: 0.7567 - val_accuracy: 0.8159\n",
            "Epoch 143/500\n",
            "132/132 [==============================] - 1s 5ms/step - loss: 0.0487 - accuracy: 0.9983 - val_loss: 0.7565 - val_accuracy: 0.8159\n",
            "Epoch 144/500\n",
            "132/132 [==============================] - 1s 5ms/step - loss: 0.0477 - accuracy: 0.9983 - val_loss: 0.7571 - val_accuracy: 0.8197\n",
            "Epoch 145/500\n",
            "132/132 [==============================] - 1s 4ms/step - loss: 0.0462 - accuracy: 0.9988 - val_loss: 0.7562 - val_accuracy: 0.8159\n",
            "Epoch 146/500\n",
            "132/132 [==============================] - 1s 4ms/step - loss: 0.0443 - accuracy: 0.9988 - val_loss: 0.7565 - val_accuracy: 0.8197\n",
            "Epoch 147/500\n",
            "132/132 [==============================] - 1s 4ms/step - loss: 0.0432 - accuracy: 0.9986 - val_loss: 0.7577 - val_accuracy: 0.8254\n",
            "Epoch 148/500\n",
            "132/132 [==============================] - 1s 4ms/step - loss: 0.0419 - accuracy: 0.9981 - val_loss: 0.7593 - val_accuracy: 0.8159\n",
            "Epoch 149/500\n",
            "132/132 [==============================] - 1s 4ms/step - loss: 0.0417 - accuracy: 0.9983 - val_loss: 0.7617 - val_accuracy: 0.8140\n",
            "Epoch 150/500\n",
            "132/132 [==============================] - 1s 4ms/step - loss: 0.0395 - accuracy: 0.9988 - val_loss: 0.7550 - val_accuracy: 0.8197\n",
            "Epoch 151/500\n",
            "132/132 [==============================] - 1s 4ms/step - loss: 0.0372 - accuracy: 0.9995 - val_loss: 0.7578 - val_accuracy: 0.8197\n",
            "Epoch 152/500\n",
            "132/132 [==============================] - 1s 4ms/step - loss: 0.0362 - accuracy: 0.9993 - val_loss: 0.7586 - val_accuracy: 0.8235\n",
            "Epoch 153/500\n",
            "132/132 [==============================] - 1s 4ms/step - loss: 0.0350 - accuracy: 0.9988 - val_loss: 0.7586 - val_accuracy: 0.8159\n",
            "Epoch 154/500\n",
            "132/132 [==============================] - 1s 4ms/step - loss: 0.0346 - accuracy: 0.9995 - val_loss: 0.7595 - val_accuracy: 0.8121\n",
            "Epoch 155/500\n",
            "132/132 [==============================] - 1s 4ms/step - loss: 0.0340 - accuracy: 0.9995 - val_loss: 0.7569 - val_accuracy: 0.8197\n",
            "Epoch 155: early stopping\n"
          ]
        }
      ]
    },
    {
      "cell_type": "code",
      "source": [
        "# printing loss and accuracy of the model on the test set\n",
        "loss, accuracy = model.evaluate(test_ds)\n",
        "print(\"Loss: \", loss)\n",
        "print(\"Accuracy: \", accuracy)"
      ],
      "metadata": {
        "colab": {
          "base_uri": "https://localhost:8080/"
        },
        "id": "FksY9EwwHDkd",
        "outputId": "6b24392c-d5a8-4322-eef3-8cdd18d7875f"
      },
      "execution_count": 36,
      "outputs": [
        {
          "output_type": "stream",
          "name": "stdout",
          "text": [
            "17/17 [==============================] - 0s 3ms/step - loss: 0.7158 - accuracy: 0.8368\n",
            "Loss:  0.7157694101333618\n",
            "Accuracy:  0.8368121385574341\n"
          ]
        }
      ]
    },
    {
      "cell_type": "code",
      "source": [
        "# extracting the history of training and its keys\n",
        "history_dict = history.history\n",
        "history_dict.keys()"
      ],
      "metadata": {
        "colab": {
          "base_uri": "https://localhost:8080/"
        },
        "id": "cPdyDruxHIv1",
        "outputId": "33a25932-dbd4-4875-efe3-4642e1ff0ac4"
      },
      "execution_count": 37,
      "outputs": [
        {
          "output_type": "execute_result",
          "data": {
            "text/plain": [
              "dict_keys(['loss', 'accuracy', 'val_loss', 'val_accuracy'])"
            ]
          },
          "metadata": {},
          "execution_count": 37
        }
      ]
    },
    {
      "cell_type": "code",
      "source": [
        "acc = history_dict['accuracy']\n",
        "val_acc = history_dict['val_accuracy']\n",
        "loss = history_dict['loss']\n",
        "val_loss = history_dict['val_loss']\n",
        "\n",
        "epochs = range(1, len(acc) + 1)"
      ],
      "metadata": {
        "id": "shbF_xRlHDqZ"
      },
      "execution_count": 38,
      "outputs": []
    },
    {
      "cell_type": "code",
      "source": [
        "# ploting of loss\n",
        "plt.plot(epochs, loss, 'b', label='Training loss')\n",
        "plt.plot(epochs, val_loss, 'r', label='Validation loss')\n",
        "plt.title('Training and validation loss')\n",
        "plt.xlabel('Epochs')\n",
        "plt.ylabel('Loss')\n",
        "plt.legend()\n",
        "plt.show()"
      ],
      "metadata": {
        "colab": {
          "base_uri": "https://localhost:8080/",
          "height": 295
        },
        "id": "iLsoTgHGP7Oq",
        "outputId": "4d7b5cbe-b8c1-4b10-f181-d9ca88935fe3"
      },
      "execution_count": 39,
      "outputs": [
        {
          "output_type": "display_data",
          "data": {
            "text/plain": [
              "<Figure size 432x288 with 1 Axes>"
            ],
            "image/png": "[encoded data removed]"
          },
          "metadata": {
            "needs_background": "light"
          }
        }
      ]
    },
    {
      "cell_type": "code",
      "source": [
        "# plotting of accuracy\n",
        "plt.plot(epochs, acc, 'b', label='Training acc')\n",
        "plt.plot(epochs, val_acc, 'r', label='Validation acc')\n",
        "plt.title('Training and validation accuracy')\n",
        "plt.xlabel('Epochs')\n",
        "plt.ylabel('Accuracy')\n",
        "plt.legend(loc='lower right')\n",
        "plt.show()"
      ],
      "metadata": {
        "colab": {
          "base_uri": "https://localhost:8080/",
          "height": 295
        },
        "id": "1uWqq-CtP-Lq",
        "outputId": "5b08532c-b309-4740-88d7-c6d5c7b7f090"
      },
      "execution_count": 40,
      "outputs": [
        {
          "output_type": "display_data",
          "data": {
            "text/plain": [
              "<Figure size 432x288 with 1 Axes>"
            ],
            "image/png": "[encoded data removed]"
          },
          "metadata": {
            "needs_background": "light"
          }
        }
      ]
    },
    {
      "cell_type": "code",
      "source": [
        "# creating the probability model for testing\n",
        "probability_model = tf.keras.Sequential([model, tf.keras.layers.Softmax()])\n",
        "\n",
        "# predicting test samples\n",
        "predictions = probability_model.predict(raw_test_batch.map(vectorize_text))"
      ],
      "metadata": {
        "id": "YQj61lIMvX-Y",
        "colab": {
          "base_uri": "https://localhost:8080/"
        },
        "outputId": "a4ffba14-654f-4899-8df8-c3b10fb59182"
      },
      "execution_count": 41,
      "outputs": [
        {
          "output_type": "stream",
          "name": "stdout",
          "text": [
            "17/17 [==============================] - 0s 2ms/step\n"
          ]
        }
      ]
    },
    {
      "cell_type": "code",
      "source": [
        "# showing the first test sample result label\n",
        "np.argmax(predictions[0])"
      ],
      "metadata": {
        "colab": {
          "base_uri": "https://localhost:8080/"
        },
        "id": "5cbhBKR7NYPQ",
        "outputId": "d970b2c1-6d65-4ac9-e75b-277ed4b3d6d6"
      },
      "execution_count": 42,
      "outputs": [
        {
          "output_type": "execute_result",
          "data": {
            "text/plain": [
              "0"
            ]
          },
          "metadata": {},
          "execution_count": 42
        }
      ]
    },
    {
      "cell_type": "code",
      "source": [
        "# showing the true label of the first test sample\n",
        "test_df.iloc[0]"
      ],
      "metadata": {
        "colab": {
          "base_uri": "https://localhost:8080/"
        },
        "id": "aNsnTWVuu3xj",
        "outputId": "4b1920c1-0f35-4d22-e2a1-7131f4e7b424"
      },
      "execution_count": 43,
      "outputs": [
        {
          "output_type": "execute_result",
          "data": {
            "text/plain": [
              "text         kazoo tough giraffe dog toy kazoo brand kazoo ...\n",
              "label                                   Animals & Pet Supplies\n",
              "label_int                                                    0\n",
              "Name: 8, dtype: object"
            ]
          },
          "metadata": {},
          "execution_count": 43
        }
      ]
    },
    {
      "cell_type": "markdown",
      "source": [
        "**Author:** https://farrokhkarimi.github.io/"
      ],
      "metadata": {
        "id": "CSw7kwIQipyc"
      }
    }
  ]
}