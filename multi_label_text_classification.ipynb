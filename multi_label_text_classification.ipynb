{
  "nbformat": 4,
  "nbformat_minor": 0,
  "metadata": {
    "colab": {
      "provenance": [],
      "include_colab_link": true
    },
    "kernelspec": {
      "name": "python3",
      "display_name": "Python 3"
    },
    "language_info": {
      "name": "python"
    },
    "accelerator": "GPU",
    "gpuClass": "standard"
  },
  "cells": [
    {
      "cell_type": "markdown",
      "metadata": {
        "id": "view-in-github",
        "colab_type": "text"
      },
      "source": [
        "<a href=\"https://colab.research.google.com/github/Nakissa-Barzegar/multi_label_text_classification/blob/main/multi_label_text_classification.ipynb\" target=\"_parent\"><img src=\"https://colab.research.google.com/assets/colab-badge.svg\" alt=\"Open In Colab\"/></a>"
      ]
    },
    {
      "cell_type": "markdown",
      "source": [
        "# Multi-label text classification\n",
        "\n",
        "**Author:** [Farrokh Karimi](https://farrokhkarimi.github.io/)  \n",
        "**Description:** In this notebook, we want to classify the Ronash dataset into 20 category."
      ],
      "metadata": {
        "id": "Bij91pNWQOR5"
      }
    },
    {
      "cell_type": "code",
      "source": [
        "import matplotlib.pyplot as plt\n",
        "import numpy as np\n",
        "import pandas as pd\n",
        "import re\n",
        "import tensorflow as tf\n",
        "\n",
        "from collections import Counter\n",
        "from sklearn.model_selection import train_test_split\n",
        "from tensorflow.keras import layers"
      ],
      "metadata": {
        "id": "sL739kMAEsU9"
      },
      "execution_count": 1,
      "outputs": []
    },
    {
      "cell_type": "code",
      "source": [
        "# downloading Data from the Google Drive link\n",
        "!gdown 1Yq3XTnACkvaIiNlhX09Zth55nOau7jQy"
      ],
      "metadata": {
        "colab": {
          "base_uri": "https://localhost:8080/"
        },
        "id": "SHa9m3aLEbyP",
        "outputId": "499bd3d0-83d0-4611-e72c-e5a16e77e091"
      },
      "execution_count": 2,
      "outputs": [
        {
          "output_type": "stream",
          "name": "stdout",
          "text": [
            "Downloading...\n",
            "From: https://drive.google.com/uc?id=1Yq3XTnACkvaIiNlhX09Zth55nOau7jQy\n",
            "To: /content/Ronash_DS_Assignment.csv\n",
            "\r  0% 0.00/1.05M [00:00<?, ?B/s]\r100% 1.05M/1.05M [00:00<00:00, 41.4MB/s]\n"
          ]
        }
      ]
    },
    {
      "cell_type": "code",
      "source": [
        "ls"
      ],
      "metadata": {
        "colab": {
          "base_uri": "https://localhost:8080/"
        },
        "id": "6QpBuoWrC5QS",
        "outputId": "3155ce00-ea8f-4fed-fc00-292ccdc3126e"
      },
      "execution_count": 3,
      "outputs": [
        {
          "output_type": "stream",
          "name": "stdout",
          "text": [
            "Ronash_DS_Assignment.csv  \u001b[0m\u001b[01;34msample_data\u001b[0m/\n"
          ]
        }
      ]
    },
    {
      "cell_type": "code",
      "source": [
        "# reading the csv file as a dataframe\n",
        "df = pd.read_csv('Ronash_DS_Assignment.csv')\n",
        "df"
      ],
      "metadata": {
        "colab": {
          "base_uri": "https://localhost:8080/",
          "height": 424
        },
        "id": "722bMOmzF4_H",
        "outputId": "cc13126c-258b-4c25-ecc4-1ec95e29f03f"
      },
      "execution_count": 4,
      "outputs": [
        {
          "output_type": "execute_result",
          "data": {
            "text/plain": [
              "         product_id                                              title  \\\n",
              "0     3937721221199    Fidele Super Premium Adult Large Breed Dog Food   \n",
              "1     7353058033889                    Foldable Pet Toys Linen Storage   \n",
              "2     6594773549129                                     Bok Dok Diaper   \n",
              "3     4802008318014                              Tastybone Toy Chicken   \n",
              "4     1779705151539                Leather Leash Tab - Short Dog Leash   \n",
              "...             ...                                                ...   \n",
              "5265  4637089464407                              Candylab MOO Milk Van   \n",
              "5266  4996632444987  Truck - Modern Era Vehicles -- Red, White -  S...   \n",
              "5267  5528541003927  Car Sticker Flags Decal American Flag Sticker for   \n",
              "5268  1395163889730          Lazer Helmets Bayamo Pit Bull - Full Face   \n",
              "5269  3535679324240                             Deutz Agrotron Tractor   \n",
              "\n",
              "                 vendor                                               tags  \\\n",
              "0                Fidele  ['Adult', 'Bangalore', 'Chennai', 'Chicken', '...   \n",
              "1             Cap Point                                                 []   \n",
              "2             Pets Home  ['Brand_Pet Arabia', 'Category_Pets Home', 'Ca...   \n",
              "3             TastyBone                                                 []   \n",
              "4            Mighty Paw                 ['Leash', 'Leash Tab', 'Training']   \n",
              "...                 ...                                                ...   \n",
              "5265           Candylab  ['3 Years +', 'candylab', 'Discount Products',...   \n",
              "5266   Woodland Scenics  ['HO Scale', 'ho-scale-items', 'vehicles', 'wo...   \n",
              "5267        Cyan Selene                                          ['Other']   \n",
              "5268  OPEN BOX BARGAINS  ['65061090', 'Antiscratch Pinlock Ready Visor'...   \n",
              "5269               Siku  ['$0 to $25', 'diecast-models', 'gift-finder',...   \n",
              "\n",
              "                    category  \n",
              "0     Animals & Pet Supplies  \n",
              "1     Animals & Pet Supplies  \n",
              "2     Animals & Pet Supplies  \n",
              "3     Animals & Pet Supplies  \n",
              "4     Animals & Pet Supplies  \n",
              "...                      ...  \n",
              "5265        Vehicles & Parts  \n",
              "5266        Vehicles & Parts  \n",
              "5267        Vehicles & Parts  \n",
              "5268        Vehicles & Parts  \n",
              "5269        Vehicles & Parts  \n",
              "\n",
              "[5270 rows x 5 columns]"
            ],
            "text/html": [
              "\n",
              "  <div id=\"df-a2db0a7f-f100-4414-a92a-145e1814a0f1\">\n",
              "    <div class=\"colab-df-container\">\n",
              "      <div>\n",
              "<style scoped>\n",
              "    .dataframe tbody tr th:only-of-type {\n",
              "        vertical-align: middle;\n",
              "    }\n",
              "\n",
              "    .dataframe tbody tr th {\n",
              "        vertical-align: top;\n",
              "    }\n",
              "\n",
              "    .dataframe thead th {\n",
              "        text-align: right;\n",
              "    }\n",
              "</style>\n",
              "<table border=\"1\" class=\"dataframe\">\n",
              "  <thead>\n",
              "    <tr style=\"text-align: right;\">\n",
              "      <th></th>\n",
              "      <th>product_id</th>\n",
              "      <th>title</th>\n",
              "      <th>vendor</th>\n",
              "      <th>tags</th>\n",
              "      <th>category</th>\n",
              "    </tr>\n",
              "  </thead>\n",
              "  <tbody>\n",
              "    <tr>\n",
              "      <th>0</th>\n",
              "      <td>3937721221199</td>\n",
              "      <td>Fidele Super Premium Adult Large Breed Dog Food</td>\n",
              "      <td>Fidele</td>\n",
              "      <td>['Adult', 'Bangalore', 'Chennai', 'Chicken', '...</td>\n",
              "      <td>Animals &amp; Pet Supplies</td>\n",
              "    </tr>\n",
              "    <tr>\n",
              "      <th>1</th>\n",
              "      <td>7353058033889</td>\n",
              "      <td>Foldable Pet Toys Linen Storage</td>\n",
              "      <td>Cap Point</td>\n",
              "      <td>[]</td>\n",
              "      <td>Animals &amp; Pet Supplies</td>\n",
              "    </tr>\n",
              "    <tr>\n",
              "      <th>2</th>\n",
              "      <td>6594773549129</td>\n",
              "      <td>Bok Dok Diaper</td>\n",
              "      <td>Pets Home</td>\n",
              "      <td>['Brand_Pet Arabia', 'Category_Pets Home', 'Ca...</td>\n",
              "      <td>Animals &amp; Pet Supplies</td>\n",
              "    </tr>\n",
              "    <tr>\n",
              "      <th>3</th>\n",
              "      <td>4802008318014</td>\n",
              "      <td>Tastybone Toy Chicken</td>\n",
              "      <td>TastyBone</td>\n",
              "      <td>[]</td>\n",
              "      <td>Animals &amp; Pet Supplies</td>\n",
              "    </tr>\n",
              "    <tr>\n",
              "      <th>4</th>\n",
              "      <td>1779705151539</td>\n",
              "      <td>Leather Leash Tab - Short Dog Leash</td>\n",
              "      <td>Mighty Paw</td>\n",
              "      <td>['Leash', 'Leash Tab', 'Training']</td>\n",
              "      <td>Animals &amp; Pet Supplies</td>\n",
              "    </tr>\n",
              "    <tr>\n",
              "      <th>...</th>\n",
              "      <td>...</td>\n",
              "      <td>...</td>\n",
              "      <td>...</td>\n",
              "      <td>...</td>\n",
              "      <td>...</td>\n",
              "    </tr>\n",
              "    <tr>\n",
              "      <th>5265</th>\n",
              "      <td>4637089464407</td>\n",
              "      <td>Candylab MOO Milk Van</td>\n",
              "      <td>Candylab</td>\n",
              "      <td>['3 Years +', 'candylab', 'Discount Products',...</td>\n",
              "      <td>Vehicles &amp; Parts</td>\n",
              "    </tr>\n",
              "    <tr>\n",
              "      <th>5266</th>\n",
              "      <td>4996632444987</td>\n",
              "      <td>Truck - Modern Era Vehicles -- Red, White -  S...</td>\n",
              "      <td>Woodland Scenics</td>\n",
              "      <td>['HO Scale', 'ho-scale-items', 'vehicles', 'wo...</td>\n",
              "      <td>Vehicles &amp; Parts</td>\n",
              "    </tr>\n",
              "    <tr>\n",
              "      <th>5267</th>\n",
              "      <td>5528541003927</td>\n",
              "      <td>Car Sticker Flags Decal American Flag Sticker for</td>\n",
              "      <td>Cyan Selene</td>\n",
              "      <td>['Other']</td>\n",
              "      <td>Vehicles &amp; Parts</td>\n",
              "    </tr>\n",
              "    <tr>\n",
              "      <th>5268</th>\n",
              "      <td>1395163889730</td>\n",
              "      <td>Lazer Helmets Bayamo Pit Bull - Full Face</td>\n",
              "      <td>OPEN BOX BARGAINS</td>\n",
              "      <td>['65061090', 'Antiscratch Pinlock Ready Visor'...</td>\n",
              "      <td>Vehicles &amp; Parts</td>\n",
              "    </tr>\n",
              "    <tr>\n",
              "      <th>5269</th>\n",
              "      <td>3535679324240</td>\n",
              "      <td>Deutz Agrotron Tractor</td>\n",
              "      <td>Siku</td>\n",
              "      <td>['$0 to $25', 'diecast-models', 'gift-finder',...</td>\n",
              "      <td>Vehicles &amp; Parts</td>\n",
              "    </tr>\n",
              "  </tbody>\n",
              "</table>\n",
              "<p>5270 rows × 5 columns</p>\n",
              "</div>\n",
              "      <button class=\"colab-df-convert\" onclick=\"convertToInteractive('df-a2db0a7f-f100-4414-a92a-145e1814a0f1')\"\n",
              "              title=\"Convert this dataframe to an interactive table.\"\n",
              "              style=\"display:none;\">\n",
              "        \n",
              "  <svg xmlns=\"http://www.w3.org/2000/svg\" height=\"24px\"viewBox=\"0 0 24 24\"\n",
              "       width=\"24px\">\n",
              "    <path d=\"M0 0h24v24H0V0z\" fill=\"none\"/>\n",
              "    <path d=\"M18.56 5.44l.94 2.06.94-2.06 2.06-.94-2.06-.94-.94-2.06-.94 2.06-2.06.94zm-11 1L8.5 8.5l.94-2.06 2.06-.94-2.06-.94L8.5 2.5l-.94 2.06-2.06.94zm10 10l.94 2.06.94-2.06 2.06-.94-2.06-.94-.94-2.06-.94 2.06-2.06.94z\"/><path d=\"M17.41 7.96l-1.37-1.37c-.4-.4-.92-.59-1.43-.59-.52 0-1.04.2-1.43.59L10.3 9.45l-7.72 7.72c-.78.78-.78 2.05 0 2.83L4 21.41c.39.39.9.59 1.41.59.51 0 1.02-.2 1.41-.59l7.78-7.78 2.81-2.81c.8-.78.8-2.07 0-2.86zM5.41 20L4 18.59l7.72-7.72 1.47 1.35L5.41 20z\"/>\n",
              "  </svg>\n",
              "      </button>\n",
              "      \n",
              "  <style>\n",
              "    .colab-df-container {\n",
              "      display:flex;\n",
              "      flex-wrap:wrap;\n",
              "      gap: 12px;\n",
              "    }\n",
              "\n",
              "    .colab-df-convert {\n",
              "      background-color: #E8F0FE;\n",
              "      border: none;\n",
              "      border-radius: 50%;\n",
              "      cursor: pointer;\n",
              "      display: none;\n",
              "      fill: #1967D2;\n",
              "      height: 32px;\n",
              "      padding: 0 0 0 0;\n",
              "      width: 32px;\n",
              "    }\n",
              "\n",
              "    .colab-df-convert:hover {\n",
              "      background-color: #E2EBFA;\n",
              "      box-shadow: 0px 1px 2px rgba(60, 64, 67, 0.3), 0px 1px 3px 1px rgba(60, 64, 67, 0.15);\n",
              "      fill: #174EA6;\n",
              "    }\n",
              "\n",
              "    [theme=dark] .colab-df-convert {\n",
              "      background-color: #3B4455;\n",
              "      fill: #D2E3FC;\n",
              "    }\n",
              "\n",
              "    [theme=dark] .colab-df-convert:hover {\n",
              "      background-color: #434B5C;\n",
              "      box-shadow: 0px 1px 3px 1px rgba(0, 0, 0, 0.15);\n",
              "      filter: drop-shadow(0px 1px 2px rgba(0, 0, 0, 0.3));\n",
              "      fill: #FFFFFF;\n",
              "    }\n",
              "  </style>\n",
              "\n",
              "      <script>\n",
              "        const buttonEl =\n",
              "          document.querySelector('#df-a2db0a7f-f100-4414-a92a-145e1814a0f1 button.colab-df-convert');\n",
              "        buttonEl.style.display =\n",
              "          google.colab.kernel.accessAllowed ? 'block' : 'none';\n",
              "\n",
              "        async function convertToInteractive(key) {\n",
              "          const element = document.querySelector('#df-a2db0a7f-f100-4414-a92a-145e1814a0f1');\n",
              "          const dataTable =\n",
              "            await google.colab.kernel.invokeFunction('convertToInteractive',\n",
              "                                                     [key], {});\n",
              "          if (!dataTable) return;\n",
              "\n",
              "          const docLinkHtml = 'Like what you see? Visit the ' +\n",
              "            '<a target=\"_blank\" href=https://colab.research.google.com/notebooks/data_table.ipynb>data table notebook</a>'\n",
              "            + ' to learn more about interactive tables.';\n",
              "          element.innerHTML = '';\n",
              "          dataTable['output_type'] = 'display_data';\n",
              "          await google.colab.output.renderOutput(dataTable, element);\n",
              "          const docLink = document.createElement('div');\n",
              "          docLink.innerHTML = docLinkHtml;\n",
              "          element.appendChild(docLink);\n",
              "        }\n",
              "      </script>\n",
              "    </div>\n",
              "  </div>\n",
              "  "
            ]
          },
          "metadata": {},
          "execution_count": 4
        }
      ]
    },
    {
      "cell_type": "code",
      "source": [
        "# counting the number of each label\n",
        "df['category'].value_counts()"
      ],
      "metadata": {
        "colab": {
          "base_uri": "https://localhost:8080/"
        },
        "id": "6E1ZDXyPlr6y",
        "outputId": "b0ea83de-e36b-4247-827c-b0de9c436279"
      },
      "execution_count": 5,
      "outputs": [
        {
          "output_type": "execute_result",
          "data": {
            "text/plain": [
              "Apparel & Accessories        1000\n",
              "Animals & Pet Supplies        500\n",
              "Food, Beverages & Tobacco     400\n",
              "Sporting Goods                400\n",
              "Luggage & Bags                400\n",
              "Home & Garden                 400\n",
              "Health & Beauty               400\n",
              "Media                         300\n",
              "Toys & Games                  300\n",
              "Furniture                     200\n",
              "Baby & Toddler                200\n",
              "Arts & Entertainment          200\n",
              "Electronics                   100\n",
              "Business & Industrial         100\n",
              "Office Supplies               100\n",
              "Vehicles & Parts              100\n",
              "Hardware                       50\n",
              "Cameras & Optics               50\n",
              "Software                       50\n",
              "Religious & Ceremonial         20\n",
              "Name: category, dtype: int64"
            ]
          },
          "metadata": {},
          "execution_count": 5
        }
      ]
    },
    {
      "cell_type": "code",
      "source": [
        "# counting how many indices are duplicated in each column\n",
        "print(f\"There are {sum(df['title'].duplicated())} duplicate title.\")\n",
        "print(f\"There are {sum(df['vendor'].duplicated())} duplicate vondor.\")\n",
        "print(f\"There are {sum(df['tags'].duplicated())} duplicate tags.\")"
      ],
      "metadata": {
        "colab": {
          "base_uri": "https://localhost:8080/"
        },
        "id": "Un_ggKoLUAEf",
        "outputId": "f34be23d-9e9a-4ab4-d02c-0a9683633e03"
      },
      "execution_count": 6,
      "outputs": [
        {
          "output_type": "stream",
          "name": "stdout",
          "text": [
            "There are 0 duplicate title.\n",
            "There are 1256 duplicate vondor.\n",
            "There are 716 duplicate tags.\n"
          ]
        }
      ]
    },
    {
      "cell_type": "code",
      "source": [
        "# counting the number of Nan samples\n",
        "df.isnull().values.sum()"
      ],
      "metadata": {
        "colab": {
          "base_uri": "https://localhost:8080/"
        },
        "id": "VD95efZwCRYT",
        "outputId": "0946f334-06d3-4ccd-f992-cbc28333bf08"
      },
      "execution_count": 7,
      "outputs": [
        {
          "output_type": "execute_result",
          "data": {
            "text/plain": [
              "3"
            ]
          },
          "metadata": {},
          "execution_count": 7
        }
      ]
    },
    {
      "cell_type": "markdown",
      "source": [
        "There are just 3 Nan samples in the dataset so we can ignore them."
      ],
      "metadata": {
        "id": "rhPJQuDEb8oN"
      }
    },
    {
      "cell_type": "code",
      "source": [
        "# the function for extracting and standardizing the sentences\n",
        "def text_extraction(dfi):\n",
        "  # in this function, we concatenate text feature parts of the data as a sentence\n",
        "  sentence = ' '.join([dfi['title'], str(dfi['vendor']), dfi['tags']])\n",
        "  # Remove punctuations\n",
        "  sentence = re.sub('[^a-zA-Z0-9$.]', ' ', sentence)\n",
        "  # Single character removal\n",
        "  sentence = re.sub(r\"\\s+[a-zA-Z]\\s+\", ' ', sentence)\n",
        "  # Removing multiple spaces\n",
        "  sentence = re.sub(r'\\s+', ' ', sentence)\n",
        "  # Changint to lowercase\n",
        "  sentence = sentence.lower()\n",
        "  return sentence\n",
        "\n",
        "# printing 10 sample sentences\n",
        "for i in range(10):\n",
        "  print(text_extraction(df.iloc[i]))"
      ],
      "metadata": {
        "colab": {
          "base_uri": "https://localhost:8080/"
        },
        "id": "aH9UzP7-__P2",
        "outputId": "e88af467-6008-4239-ba35-7727e28536a1"
      },
      "execution_count": 8,
      "outputs": [
        {
          "output_type": "stream",
          "name": "stdout",
          "text": [
            "fidele super premium adult large breed dog food fidele adult bangalore chennai chicken doberman dog dry foods fidele german shepherd golden retriever great dane highpriority imported labrador less than 1000 less than 2000 less than 500 mastiff orange pet nutrition \n",
            "foldable pet toys linen storage cap point \n",
            "bok dok diaper pets home brand pet arabia category pets home category small pets supplies type pet home type pet supplies \n",
            "tastybone toy chicken tastybone \n",
            "leather leash tab short dog leash mighty paw leash leash tab training \n",
            "pridebites texas guitar dog toy pride bites brand pridebites toy type plush \n",
            "burns sensitive pork potato burns 10 25 25 50 50 75 adult burns coat dog food food delivery jansale18 natural nonsale19 sensitive size 12kg size 2kg size 6kg skin \n",
            "bully sticks dog toy adog.co bully sticks dog chew toys dog toys \n",
            "kazoo tough giraffe dog toy kazoo brand kazoo june2021 kazoo material plush plush \n",
            "orgo dog biscuits fresh milk petku brand orgo category dogs dogs lifestage all lifestages orgo price rp 0 to rp 100.000 subcategory treats treats \n"
          ]
        }
      ]
    },
    {
      "cell_type": "code",
      "source": [
        "# creating the dataset\n",
        "dataset = pd.DataFrame(columns=['text', 'label'])\n",
        "for i in range(len(df)):\n",
        "  dataset = dataset.append({'text':text_extraction(df.iloc[i]), 'label':df.iloc[i]['category']}, ignore_index = True)\n",
        "\n",
        "# creating integer labels for multiclass training\n",
        "dataset['label_int'] = pd.Categorical(dataset['label']).codes\n",
        "dataset"
      ],
      "metadata": {
        "colab": {
          "base_uri": "https://localhost:8080/",
          "height": 424
        },
        "id": "7x4WG7NC9Xz3",
        "outputId": "1d23a598-9bc5-4b97-80e4-46e9f14a1313"
      },
      "execution_count": 9,
      "outputs": [
        {
          "output_type": "execute_result",
          "data": {
            "text/plain": [
              "                                                   text  \\\n",
              "0     fidele super premium adult large breed dog foo...   \n",
              "1            foldable pet toys linen storage cap point    \n",
              "2     bok dok diaper pets home brand pet arabia cate...   \n",
              "3                      tastybone toy chicken tastybone    \n",
              "4     leather leash tab short dog leash mighty paw l...   \n",
              "...                                                 ...   \n",
              "5265  candylab moo milk van candylab 3 years candyla...   \n",
              "5266  truck modern era vehicles red white scale ho w...   \n",
              "5267  car sticker flags decal american flag sticker ...   \n",
              "5268  lazer helmets bayamo pit bull full face open b...   \n",
              "5269  deutz agrotron tractor siku $0 to $25 diecast ...   \n",
              "\n",
              "                       label  label_int  \n",
              "0     Animals & Pet Supplies          0  \n",
              "1     Animals & Pet Supplies          0  \n",
              "2     Animals & Pet Supplies          0  \n",
              "3     Animals & Pet Supplies          0  \n",
              "4     Animals & Pet Supplies          0  \n",
              "...                      ...        ...  \n",
              "5265        Vehicles & Parts         19  \n",
              "5266        Vehicles & Parts         19  \n",
              "5267        Vehicles & Parts         19  \n",
              "5268        Vehicles & Parts         19  \n",
              "5269        Vehicles & Parts         19  \n",
              "\n",
              "[5270 rows x 3 columns]"
            ],
            "text/html": [
              "\n",
              "  <div id=\"df-54c6a7f1-f875-41dc-994f-0fa8c346af42\">\n",
              "    <div class=\"colab-df-container\">\n",
              "      <div>\n",
              "<style scoped>\n",
              "    .dataframe tbody tr th:only-of-type {\n",
              "        vertical-align: middle;\n",
              "    }\n",
              "\n",
              "    .dataframe tbody tr th {\n",
              "        vertical-align: top;\n",
              "    }\n",
              "\n",
              "    .dataframe thead th {\n",
              "        text-align: right;\n",
              "    }\n",
              "</style>\n",
              "<table border=\"1\" class=\"dataframe\">\n",
              "  <thead>\n",
              "    <tr style=\"text-align: right;\">\n",
              "      <th></th>\n",
              "      <th>text</th>\n",
              "      <th>label</th>\n",
              "      <th>label_int</th>\n",
              "    </tr>\n",
              "  </thead>\n",
              "  <tbody>\n",
              "    <tr>\n",
              "      <th>0</th>\n",
              "      <td>fidele super premium adult large breed dog foo...</td>\n",
              "      <td>Animals &amp; Pet Supplies</td>\n",
              "      <td>0</td>\n",
              "    </tr>\n",
              "    <tr>\n",
              "      <th>1</th>\n",
              "      <td>foldable pet toys linen storage cap point</td>\n",
              "      <td>Animals &amp; Pet Supplies</td>\n",
              "      <td>0</td>\n",
              "    </tr>\n",
              "    <tr>\n",
              "      <th>2</th>\n",
              "      <td>bok dok diaper pets home brand pet arabia cate...</td>\n",
              "      <td>Animals &amp; Pet Supplies</td>\n",
              "      <td>0</td>\n",
              "    </tr>\n",
              "    <tr>\n",
              "      <th>3</th>\n",
              "      <td>tastybone toy chicken tastybone</td>\n",
              "      <td>Animals &amp; Pet Supplies</td>\n",
              "      <td>0</td>\n",
              "    </tr>\n",
              "    <tr>\n",
              "      <th>4</th>\n",
              "      <td>leather leash tab short dog leash mighty paw l...</td>\n",
              "      <td>Animals &amp; Pet Supplies</td>\n",
              "      <td>0</td>\n",
              "    </tr>\n",
              "    <tr>\n",
              "      <th>...</th>\n",
              "      <td>...</td>\n",
              "      <td>...</td>\n",
              "      <td>...</td>\n",
              "    </tr>\n",
              "    <tr>\n",
              "      <th>5265</th>\n",
              "      <td>candylab moo milk van candylab 3 years candyla...</td>\n",
              "      <td>Vehicles &amp; Parts</td>\n",
              "      <td>19</td>\n",
              "    </tr>\n",
              "    <tr>\n",
              "      <th>5266</th>\n",
              "      <td>truck modern era vehicles red white scale ho w...</td>\n",
              "      <td>Vehicles &amp; Parts</td>\n",
              "      <td>19</td>\n",
              "    </tr>\n",
              "    <tr>\n",
              "      <th>5267</th>\n",
              "      <td>car sticker flags decal american flag sticker ...</td>\n",
              "      <td>Vehicles &amp; Parts</td>\n",
              "      <td>19</td>\n",
              "    </tr>\n",
              "    <tr>\n",
              "      <th>5268</th>\n",
              "      <td>lazer helmets bayamo pit bull full face open b...</td>\n",
              "      <td>Vehicles &amp; Parts</td>\n",
              "      <td>19</td>\n",
              "    </tr>\n",
              "    <tr>\n",
              "      <th>5269</th>\n",
              "      <td>deutz agrotron tractor siku $0 to $25 diecast ...</td>\n",
              "      <td>Vehicles &amp; Parts</td>\n",
              "      <td>19</td>\n",
              "    </tr>\n",
              "  </tbody>\n",
              "</table>\n",
              "<p>5270 rows × 3 columns</p>\n",
              "</div>\n",
              "      <button class=\"colab-df-convert\" onclick=\"convertToInteractive('df-54c6a7f1-f875-41dc-994f-0fa8c346af42')\"\n",
              "              title=\"Convert this dataframe to an interactive table.\"\n",
              "              style=\"display:none;\">\n",
              "        \n",
              "  <svg xmlns=\"http://www.w3.org/2000/svg\" height=\"24px\"viewBox=\"0 0 24 24\"\n",
              "       width=\"24px\">\n",
              "    <path d=\"M0 0h24v24H0V0z\" fill=\"none\"/>\n",
              "    <path d=\"M18.56 5.44l.94 2.06.94-2.06 2.06-.94-2.06-.94-.94-2.06-.94 2.06-2.06.94zm-11 1L8.5 8.5l.94-2.06 2.06-.94-2.06-.94L8.5 2.5l-.94 2.06-2.06.94zm10 10l.94 2.06.94-2.06 2.06-.94-2.06-.94-.94-2.06-.94 2.06-2.06.94z\"/><path d=\"M17.41 7.96l-1.37-1.37c-.4-.4-.92-.59-1.43-.59-.52 0-1.04.2-1.43.59L10.3 9.45l-7.72 7.72c-.78.78-.78 2.05 0 2.83L4 21.41c.39.39.9.59 1.41.59.51 0 1.02-.2 1.41-.59l7.78-7.78 2.81-2.81c.8-.78.8-2.07 0-2.86zM5.41 20L4 18.59l7.72-7.72 1.47 1.35L5.41 20z\"/>\n",
              "  </svg>\n",
              "      </button>\n",
              "      \n",
              "  <style>\n",
              "    .colab-df-container {\n",
              "      display:flex;\n",
              "      flex-wrap:wrap;\n",
              "      gap: 12px;\n",
              "    }\n",
              "\n",
              "    .colab-df-convert {\n",
              "      background-color: #E8F0FE;\n",
              "      border: none;\n",
              "      border-radius: 50%;\n",
              "      cursor: pointer;\n",
              "      display: none;\n",
              "      fill: #1967D2;\n",
              "      height: 32px;\n",
              "      padding: 0 0 0 0;\n",
              "      width: 32px;\n",
              "    }\n",
              "\n",
              "    .colab-df-convert:hover {\n",
              "      background-color: #E2EBFA;\n",
              "      box-shadow: 0px 1px 2px rgba(60, 64, 67, 0.3), 0px 1px 3px 1px rgba(60, 64, 67, 0.15);\n",
              "      fill: #174EA6;\n",
              "    }\n",
              "\n",
              "    [theme=dark] .colab-df-convert {\n",
              "      background-color: #3B4455;\n",
              "      fill: #D2E3FC;\n",
              "    }\n",
              "\n",
              "    [theme=dark] .colab-df-convert:hover {\n",
              "      background-color: #434B5C;\n",
              "      box-shadow: 0px 1px 3px 1px rgba(0, 0, 0, 0.15);\n",
              "      filter: drop-shadow(0px 1px 2px rgba(0, 0, 0, 0.3));\n",
              "      fill: #FFFFFF;\n",
              "    }\n",
              "  </style>\n",
              "\n",
              "      <script>\n",
              "        const buttonEl =\n",
              "          document.querySelector('#df-54c6a7f1-f875-41dc-994f-0fa8c346af42 button.colab-df-convert');\n",
              "        buttonEl.style.display =\n",
              "          google.colab.kernel.accessAllowed ? 'block' : 'none';\n",
              "\n",
              "        async function convertToInteractive(key) {\n",
              "          const element = document.querySelector('#df-54c6a7f1-f875-41dc-994f-0fa8c346af42');\n",
              "          const dataTable =\n",
              "            await google.colab.kernel.invokeFunction('convertToInteractive',\n",
              "                                                     [key], {});\n",
              "          if (!dataTable) return;\n",
              "\n",
              "          const docLinkHtml = 'Like what you see? Visit the ' +\n",
              "            '<a target=\"_blank\" href=https://colab.research.google.com/notebooks/data_table.ipynb>data table notebook</a>'\n",
              "            + ' to learn more about interactive tables.';\n",
              "          element.innerHTML = '';\n",
              "          dataTable['output_type'] = 'display_data';\n",
              "          await google.colab.output.renderOutput(dataTable, element);\n",
              "          const docLink = document.createElement('div');\n",
              "          docLink.innerHTML = docLinkHtml;\n",
              "          element.appendChild(docLink);\n",
              "        }\n",
              "      </script>\n",
              "    </div>\n",
              "  </div>\n",
              "  "
            ]
          },
          "metadata": {},
          "execution_count": 9
        }
      ]
    },
    {
      "cell_type": "code",
      "source": [
        "# extracting the names of the labels\n",
        "labels_names = list(Counter(dataset['label']).keys())\n",
        "labels_names"
      ],
      "metadata": {
        "colab": {
          "base_uri": "https://localhost:8080/"
        },
        "id": "9uHdTY3p9Xfr",
        "outputId": "4b6bc40a-3155-4f81-819b-d3be54600384"
      },
      "execution_count": 10,
      "outputs": [
        {
          "output_type": "execute_result",
          "data": {
            "text/plain": [
              "['Animals & Pet Supplies',\n",
              " 'Apparel & Accessories',\n",
              " 'Arts & Entertainment',\n",
              " 'Baby & Toddler',\n",
              " 'Business & Industrial',\n",
              " 'Cameras & Optics',\n",
              " 'Electronics',\n",
              " 'Food, Beverages & Tobacco',\n",
              " 'Furniture',\n",
              " 'Hardware',\n",
              " 'Health & Beauty',\n",
              " 'Home & Garden',\n",
              " 'Luggage & Bags',\n",
              " 'Media',\n",
              " 'Office Supplies',\n",
              " 'Religious & Ceremonial',\n",
              " 'Software',\n",
              " 'Sporting Goods',\n",
              " 'Toys & Games',\n",
              " 'Vehicles & Parts']"
            ]
          },
          "metadata": {},
          "execution_count": 10
        }
      ]
    },
    {
      "cell_type": "code",
      "source": [
        "# printing each integer label and its corresponding name label\n",
        "for i, label in enumerate(labels_names):\n",
        "  print(\"Label\", i, \"corresponds to\", label)"
      ],
      "metadata": {
        "colab": {
          "base_uri": "https://localhost:8080/"
        },
        "id": "QXCgd6QTC_k6",
        "outputId": "f41e610c-cc17-402b-eb4b-c74e19b705f7"
      },
      "execution_count": 11,
      "outputs": [
        {
          "output_type": "stream",
          "name": "stdout",
          "text": [
            "Label 0 corresponds to Animals & Pet Supplies\n",
            "Label 1 corresponds to Apparel & Accessories\n",
            "Label 2 corresponds to Arts & Entertainment\n",
            "Label 3 corresponds to Baby & Toddler\n",
            "Label 4 corresponds to Business & Industrial\n",
            "Label 5 corresponds to Cameras & Optics\n",
            "Label 6 corresponds to Electronics\n",
            "Label 7 corresponds to Food, Beverages & Tobacco\n",
            "Label 8 corresponds to Furniture\n",
            "Label 9 corresponds to Hardware\n",
            "Label 10 corresponds to Health & Beauty\n",
            "Label 11 corresponds to Home & Garden\n",
            "Label 12 corresponds to Luggage & Bags\n",
            "Label 13 corresponds to Media\n",
            "Label 14 corresponds to Office Supplies\n",
            "Label 15 corresponds to Religious & Ceremonial\n",
            "Label 16 corresponds to Software\n",
            "Label 17 corresponds to Sporting Goods\n",
            "Label 18 corresponds to Toys & Games\n",
            "Label 19 corresponds to Vehicles & Parts\n"
          ]
        }
      ]
    },
    {
      "cell_type": "code",
      "source": [
        "# splitting dataset to train, validation, and test dataframes\n",
        "# random_state changed to 0 by me\n",
        "train_df, test_df= train_test_split(dataset, test_size=0.2, random_state=0)\n",
        "val_df = test_df.sample(frac=0.5)\n",
        "test_df.drop(val_df.index, inplace=True)\n",
        "\n",
        "print(f\"Number of samples in training set: {len(train_df)}\")\n",
        "print(f\"Number of samples in validation set: {len(val_df)}\")\n",
        "print(f\"Number of samples in test set: {len(test_df)}\")\n",
        "\n",
        "# extracting texts and labels from dataframes\n",
        "train_texts = train_df['text']\n",
        "train_labels = train_df['label_int']\n",
        "val_texts = val_df['text']\n",
        "val_labels = val_df['label_int']\n",
        "test_texts = test_df['text']\n",
        "test_labels = test_df['label_int']"
      ],
      "metadata": {
        "colab": {
          "base_uri": "https://localhost:8080/"
        },
        "id": "bWd2Rfp69X8g",
        "outputId": "99336f02-0aa6-46c2-e085-a279bd8bbf3b"
      },
      "execution_count": 31,
      "outputs": [
        {
          "output_type": "stream",
          "name": "stdout",
          "text": [
            "Number of samples in training set: 4216\n",
            "Number of samples in validation set: 527\n",
            "Number of samples in test set: 527\n"
          ]
        }
      ]
    },
    {
      "cell_type": "code",
      "source": [
        "# creating data generators with batch size 32\n",
        "batch_size = 32\n",
        "raw_train_batch = tf.data.Dataset.from_tensor_slices((train_texts, train_labels)).batch(batch_size)\n",
        "raw_val_batch = tf.data.Dataset.from_tensor_slices((val_texts, val_labels)).batch(batch_size)\n",
        "raw_test_batch = tf.data.Dataset.from_tensor_slices((test_texts, test_labels)).batch(batch_size)\n",
        "\n",
        "# printing texts and labels of a batch of raw train\n",
        "for text, label in raw_train_batch.take(1):\n",
        "  print('Texts: {}'.format(text))\n",
        "  print('labels: {}'.format(label))"
      ],
      "metadata": {
        "colab": {
          "base_uri": "https://localhost:8080/"
        },
        "id": "C4kA4X60zkC3",
        "outputId": "db75f2fe-0fc7-4246-c2c4-550c1d930eb0"
      },
      "execution_count": 32,
      "outputs": [
        {
          "output_type": "stream",
          "name": "stdout",
          "text": [
            "Texts: [b'gucci silver pilot unisex sunglasses gucci arm length 145 bridge 14 mm frame color silver frame material metal frame shape aviator frame style classic gender unisex lens color brown gradient lens technology 100 uv lens width 60 product size 60 protection 100 uv protection '\n",
            " b'groundworks canopy solid tomato fabric groundworks fabric $0 $50 $25 $50 accents brand kravet category outdoor category solid color red david hicks designer david hicks fabric kravet outdoor color red price $0 $50 price $25 $50 red solid style transitional subcategory outdoor subcategory solid subtype accents subtype upholstery fabric transitional type fabric upholstery fabric '\n",
            " b'hoek on nelson keg and lantern brewing company abv 7.0 8.9 brewery keg and lantern brewing company format 16oz can ingredient nelson hops ny partner level non partner origin new york city origin ny '\n",
            " b'stylish mommy diaper bag backpack backpack backpack bag diaper nappy stylish '\n",
            " b'to my navy wife because of you love my life necklace shineon fulfillment c30065t c30065tg gift for wife lx c30065 pb23 wood prod 1293557 pt 792 tnm 1 user 65141 warranty upsell '\n",
            " b'motorola hint in ear bluetooth wireless headset new version audio merchmixer headphones '\n",
            " b'magnanimous post shave cream dollar shave club w beauty beauty skincare beautyandwellness cyberweek2019 final sale grooming location chelsea market location legacy west location south congress men option mps 3z 3ng member option mps 3z 3ng non member personal care personalcare price 1 under100 under50 '\n",
            " b'rooibos gin mini new harbour distillery '\n",
            " b'el gance curl lash fixer el gance elegance mascara 2500 5000 '\n",
            " b'lucky ladybird bib designer bums dreams shoelace exclude spo default spo disabled '\n",
            " b'aqua lung removeable chest strap rail system aqualung aqualung bc accessories black buoyancy compensators catid 20003 isactive l1catid 22000 numreviews 0 parentsku udrrcs reviewrating 0.0 under $100 '\n",
            " b'bottega veneta zip backpack bottega veneta backpacks bags bottega veneta carry date 28092021 men operator charmaine pms production pms merged season ss21 '\n",
            " b'wildly weak leather patch flat bill hat sunfrog shiticoolers flat bill meta size chart hat size guide '\n",
            " b'leather placemats luminaire availability coral gables showroom availability los angeles showroom availability online store brand lind dna designer lind dna kitchen and dining kitchen and dining placemats and coasters '\n",
            " b'abco tech grassroots golf putting green abco tech 50 100 age group null brand abco tech category golf category golf training aids category outdoor recreation category sporting goods color green condition new config automatic warranties gender is bundle false multipack 0 nav category sporting goods outdoor recreation golf golf training aids nav first cat sporting goods nav gg him 2020 pattern size warranty 30 days '\n",
            " b'cathe friedrich turbo barre cathe dot com barre instructor cathe friedrich toning lower body workout goal tone lower body workout level advanced workout ballet workout barre workout muscle toning '\n",
            " b'victor hero canine grain free dry dog food victor all life stages dog food dry food grain free large breed victor '\n",
            " b'twin eyebrow florelle cejas delineador cejas eyebrow pencil florelle makeup '\n",
            " b'gaming chair with footrest green faux leather vidaxl 250 500 green '\n",
            " b'bulk molasses golden special order various non gmo vegan vegetarian '\n",
            " b'birdling backpacker diaper bag moss birdling fall2020 '\n",
            " b'new galactic snow sports adjustable ski poles galacticsnowsports 110 114 115 119 120 124 125 129 130 134 135 139 adult age group adult available color white condition new featured products gender mens material alloy mens model adjustable new type adjustable '\n",
            " b'velab low speed centrifuge velab brand velab centrifuges veterinary accessories veterinary equipment '\n",
            " b'bundle diaper patterns hello bello baby bundler app possible choices '\n",
            " b'braided bone orange tall tails brand tall tails pet dogs price $20.00 $29.99 type interactive toys '\n",
            " b'smart games flippin dolphins magnetic travel game smart games 7 in stock smart games '\n",
            " b'padlock pet id tag hamish mcbeth pet id tags '\n",
            " b'the chief city edition heritage bicycles bicycle chicago fashion local made in the usa '\n",
            " b'bookmycostume pirate cutlass sword eye patch earring set costume accessory for halloween free size black silver herbtoniq asin b08kt88fmn brand bookmycostume dressing up and costumes estimate 2 days model number 4000238 1 toys and games and baby '\n",
            " b'learn flower painting quickly batsford ltd 39373145997445 b2b price 1995 39373145997445 b2c price 1995 39373145997445 reseller price 1995 39420928622725 b2b price 1995 39420928622725 b2c price 1995 39420928622725 reseller price 1995 bat945226 b2b price 1995 bat945226 b2c price 1995 bat945226 reseller price 1995 cat1 art graphic art et graphisme cat2 fine arts books livres beaux arts cat3 watercolour painting peinture aquarelle centimeter '\n",
            " b'grimoire by arin murphy hiscock amazon.com magic '\n",
            " b'woodpecker magnetic catch the worm cara valley age preschool age toddler dl 4w ffb ob price $0 $20 price $20 $50 store cn ']\n",
            "labels: [ 1  2  7 12  1  6 10  7 10  3 17 12  1 11 17  6  0 10  8  7 12 17  4  3\n",
            "  0 18  0 17 18 13 13 18]\n"
          ]
        }
      ]
    },
    {
      "cell_type": "code",
      "source": [
        "# counting how many words are there in the whole texts of the dataset\n",
        "num_of_words = 0\n",
        "for i in dataset['text']: num_of_words += len(i.split())\n",
        "\n",
        "print(num_of_words)"
      ],
      "metadata": {
        "colab": {
          "base_uri": "https://localhost:8080/"
        },
        "id": "P2QpUriFrsU_",
        "outputId": "008ca474-e3da-42e1-d2ac-eabdbecd9ed5"
      },
      "execution_count": 33,
      "outputs": [
        {
          "output_type": "stream",
          "name": "stdout",
          "text": [
            "112572\n"
          ]
        }
      ]
    },
    {
      "cell_type": "markdown",
      "source": [
        "There are about 112000 words in the texts.\n",
        "\n"
      ],
      "metadata": {
        "id": "wfw3CqfZsWyT"
      }
    },
    {
      "cell_type": "code",
      "source": [
        "# counting max sequence length and how many non-repetitive words are there in the whole texts of the dataset\n",
        "l = []\n",
        "max_seq_lenght = 0\n",
        "for i in dataset['text']:\n",
        "  lenght = len(i.split())\n",
        "  if lenght > max_seq_lenght: max_seq_lenght = lenght\n",
        "  for j in i.split():\n",
        "    if j not in l: l.append(j)\n",
        "\n",
        "print(max_seq_lenght)\n",
        "print(len(l))"
      ],
      "metadata": {
        "colab": {
          "base_uri": "https://localhost:8080/"
        },
        "id": "2ufQzaF9ncqZ",
        "outputId": "4f83c60c-8515-408e-dc0c-74c7765863da"
      },
      "execution_count": 34,
      "outputs": [
        {
          "output_type": "stream",
          "name": "stdout",
          "text": [
            "309\n",
            "18933\n"
          ]
        }
      ]
    },
    {
      "cell_type": "markdown",
      "source": [
        "Maximum sequence length is 309 and There are about 19000 non-repetitive words in the whole dataset texts. So we set max word features to 10000 and sequence length to 350."
      ],
      "metadata": {
        "id": "cGGf8rQorkSR"
      }
    },
    {
      "cell_type": "code",
      "source": [
        "# setting the text vectorization layer with 30000 words and 350 sequence length\n",
        "max_features = 30000\n",
        "sequence_length = 350\n",
        "\n",
        "vectorize_layer = layers.TextVectorization(\n",
        "    max_tokens=max_features,\n",
        "    output_mode='int',\n",
        "    output_sequence_length=sequence_length)\n",
        "\n",
        "# fitting the state of the preprocessing layer to the train set. This will cause the model to build an index of strings to integers.\n",
        "vectorize_layer.adapt(train_texts)\n",
        "\n",
        "# defining the vectorize text function\n",
        "def vectorize_text(text, label):\n",
        "  text = tf.expand_dims(text, -1)\n",
        "  return vectorize_layer(text), label\n",
        "\n",
        "# retrieving a sample from a batch of texts and labels from the train set\n",
        "text_batch, label_batch = next(iter(raw_train_batch))\n",
        "first_review, first_label = text_batch[0], label_batch[0]\n",
        "print(\"Review\", first_review)\n",
        "print(\"Label\", first_label)\n",
        "print(\"Vectorized text\", vectorize_text(first_review, first_label))"
      ],
      "metadata": {
        "colab": {
          "base_uri": "https://localhost:8080/"
        },
        "id": "Ey2QJjO97T9P",
        "outputId": "da9620f8-4d29-428d-f2fd-351d4f605e16"
      },
      "execution_count": 35,
      "outputs": [
        {
          "output_type": "stream",
          "name": "stdout",
          "text": [
            "Review tf.Tensor(b'gucci silver pilot unisex sunglasses gucci arm length 145 bridge 14 mm frame color silver frame material metal frame shape aviator frame style classic gender unisex lens color brown gradient lens technology 100 uv lens width 60 product size 60 protection 100 uv protection ', shape=(), dtype=string)\n",
            "Label tf.Tensor(1, shape=(), dtype=int8)\n",
            "Vectorized text (<tf.Tensor: shape=(1, 350), dtype=int64, numpy=\n",
            "array([[ 1028,    52,  6323,   202,   468,  1028,  2654,   373, 16192,\n",
            "         3906,   324,  6609,   589,     7,    52,   589,    66,   212,\n",
            "          589,   196, 15225,   589,    33,   185,   105,   202,   691,\n",
            "            7,    77,  4904,   691,  1789,    60,  2713,   691,   434,\n",
            "          523,    39,     2,   523,  1842,    60,  2713,  1842,     0,\n",
            "            0,     0,     0,     0,     0,     0,     0,     0,     0,\n",
            "            0,     0,     0,     0,     0,     0,     0,     0,     0,\n",
            "            0,     0,     0,     0,     0,     0,     0,     0,     0,\n",
            "            0,     0,     0,     0,     0,     0,     0,     0,     0,\n",
            "            0,     0,     0,     0,     0,     0,     0,     0,     0,\n",
            "            0,     0,     0,     0,     0,     0,     0,     0,     0,\n",
            "            0,     0,     0,     0,     0,     0,     0,     0,     0,\n",
            "            0,     0,     0,     0,     0,     0,     0,     0,     0,\n",
            "            0,     0,     0,     0,     0,     0,     0,     0,     0,\n",
            "            0,     0,     0,     0,     0,     0,     0,     0,     0,\n",
            "            0,     0,     0,     0,     0,     0,     0,     0,     0,\n",
            "            0,     0,     0,     0,     0,     0,     0,     0,     0,\n",
            "            0,     0,     0,     0,     0,     0,     0,     0,     0,\n",
            "            0,     0,     0,     0,     0,     0,     0,     0,     0,\n",
            "            0,     0,     0,     0,     0,     0,     0,     0,     0,\n",
            "            0,     0,     0,     0,     0,     0,     0,     0,     0,\n",
            "            0,     0,     0,     0,     0,     0,     0,     0,     0,\n",
            "            0,     0,     0,     0,     0,     0,     0,     0,     0,\n",
            "            0,     0,     0,     0,     0,     0,     0,     0,     0,\n",
            "            0,     0,     0,     0,     0,     0,     0,     0,     0,\n",
            "            0,     0,     0,     0,     0,     0,     0,     0,     0,\n",
            "            0,     0,     0,     0,     0,     0,     0,     0,     0,\n",
            "            0,     0,     0,     0,     0,     0,     0,     0,     0,\n",
            "            0,     0,     0,     0,     0,     0,     0,     0,     0,\n",
            "            0,     0,     0,     0,     0,     0,     0,     0,     0,\n",
            "            0,     0,     0,     0,     0,     0,     0,     0,     0,\n",
            "            0,     0,     0,     0,     0,     0,     0,     0,     0,\n",
            "            0,     0,     0,     0,     0,     0,     0,     0,     0,\n",
            "            0,     0,     0,     0,     0,     0,     0,     0,     0,\n",
            "            0,     0,     0,     0,     0,     0,     0,     0,     0,\n",
            "            0,     0,     0,     0,     0,     0,     0,     0,     0,\n",
            "            0,     0,     0,     0,     0,     0,     0,     0,     0,\n",
            "            0,     0,     0,     0,     0,     0,     0,     0,     0,\n",
            "            0,     0,     0,     0,     0,     0,     0,     0]])>, <tf.Tensor: shape=(), dtype=int8, numpy=1>)\n"
          ]
        }
      ]
    },
    {
      "cell_type": "code",
      "source": [
        "# getting corresponding word of each integer \n",
        "print(\"1401 ---> \",vectorize_layer.get_vocabulary()[1401])\n",
        "print(\" 313 ---> \",vectorize_layer.get_vocabulary()[313])\n",
        "print('Vocabulary size: {}'.format(len(vectorize_layer.get_vocabulary())))"
      ],
      "metadata": {
        "colab": {
          "base_uri": "https://localhost:8080/"
        },
        "id": "X84dkB768GSx",
        "outputId": "1afe92d3-1eaa-485e-97ea-8378c9f93581"
      },
      "execution_count": 36,
      "outputs": [
        {
          "output_type": "stream",
          "name": "stdout",
          "text": [
            "1401 --->  grooming\n",
            " 313 --->  bundle\n",
            "Vocabulary size: 16347\n"
          ]
        }
      ]
    },
    {
      "cell_type": "code",
      "source": [
        "# creating train, val, and test vectorized dataset and prefetching them\n",
        "train_ds = raw_train_batch.map(vectorize_text)\n",
        "val_ds = raw_val_batch.map(vectorize_text)\n",
        "test_ds = raw_test_batch.map(vectorize_text)\n",
        "\n",
        "AUTOTUNE = tf.data.AUTOTUNE\n",
        "\n",
        "train_ds = train_ds.cache().prefetch(buffer_size=AUTOTUNE)\n",
        "val_ds = val_ds.cache().prefetch(buffer_size=AUTOTUNE)\n",
        "test_ds = test_ds.cache().prefetch(buffer_size=AUTOTUNE)"
      ],
      "metadata": {
        "id": "DiW717GQ_77D"
      },
      "execution_count": 37,
      "outputs": []
    },
    {
      "cell_type": "code",
      "source": [
        "# model configuration\n",
        "# embedding_dim has been changed to 64 by me\n",
        "embedding_dim = 64\n",
        "num_of_labels = 20\n",
        "\n",
        "model = tf.keras.Sequential([\n",
        "  layers.Embedding(max_features + 1, embedding_dim),\n",
        "  layers.Dropout(0.2),\n",
        "  layers.GlobalAveragePooling1D(),\n",
        "  layers.Dropout(0.2),\n",
        "  layers.Dense(num_of_labels)])\n",
        "\n",
        "model.summary()"
      ],
      "metadata": {
        "colab": {
          "base_uri": "https://localhost:8080/"
        },
        "id": "BBHmGG_SAWhp",
        "outputId": "09e78889-9eb5-4771-fead-bb04ba49b061"
      },
      "execution_count": 38,
      "outputs": [
        {
          "output_type": "stream",
          "name": "stdout",
          "text": [
            "Model: \"sequential_3\"\n",
            "_________________________________________________________________\n",
            " Layer (type)                Output Shape              Param #   \n",
            "=================================================================\n",
            " embedding_2 (Embedding)     (None, None, 64)          1920064   \n",
            "                                                                 \n",
            " dropout_4 (Dropout)         (None, None, 64)          0         \n",
            "                                                                 \n",
            " global_average_pooling1d_2   (None, 64)               0         \n",
            " (GlobalAveragePooling1D)                                        \n",
            "                                                                 \n",
            " dropout_5 (Dropout)         (None, 64)                0         \n",
            "                                                                 \n",
            " dense_2 (Dense)             (None, 20)                1300      \n",
            "                                                                 \n",
            "=================================================================\n",
            "Total params: 1,921,364\n",
            "Trainable params: 1,921,364\n",
            "Non-trainable params: 0\n",
            "_________________________________________________________________\n"
          ]
        }
      ]
    },
    {
      "cell_type": "code",
      "source": [
        "# model compilation\n",
        "model.compile(optimizer='adam',\n",
        "              loss=tf.keras.losses.SparseCategoricalCrossentropy(from_logits=True),\n",
        "              metrics=['accuracy'])"
      ],
      "metadata": {
        "id": "uL6c-YGfAwLz"
      },
      "execution_count": 39,
      "outputs": []
    },
    {
      "cell_type": "code",
      "source": [
        "# training the model\n",
        "epochs = 500\n",
        "\n",
        "callback = tf.keras.callbacks.EarlyStopping(monitor='val_loss',\n",
        "                                            patience=5,\n",
        "                                            verbose=1)\n",
        "\n",
        "history = model.fit(train_ds,\n",
        "                    validation_data=val_ds,\n",
        "                    epochs=epochs,\n",
        "                    callbacks=[callback])"
      ],
      "metadata": {
        "colab": {
          "base_uri": "https://localhost:8080/"
        },
        "id": "CIfmPA3SvX4d",
        "outputId": "85ae9aae-c860-418f-be9d-30dd972be69f"
      },
      "execution_count": 40,
      "outputs": [
        {
          "output_type": "stream",
          "name": "stdout",
          "text": [
            "Epoch 1/500\n",
            "132/132 [==============================] - 17s 120ms/step - loss: 2.8383 - accuracy: 0.1791 - val_loss: 2.6812 - val_accuracy: 0.1803\n",
            "Epoch 2/500\n",
            "132/132 [==============================] - 1s 4ms/step - loss: 2.6835 - accuracy: 0.1900 - val_loss: 2.6392 - val_accuracy: 0.1803\n",
            "Epoch 3/500\n",
            "132/132 [==============================] - 1s 4ms/step - loss: 2.6689 - accuracy: 0.1900 - val_loss: 2.6296 - val_accuracy: 0.1803\n",
            "Epoch 4/500\n",
            "132/132 [==============================] - 1s 4ms/step - loss: 2.6612 - accuracy: 0.1900 - val_loss: 2.6213 - val_accuracy: 0.1803\n",
            "Epoch 5/500\n",
            "132/132 [==============================] - 1s 4ms/step - loss: 2.6518 - accuracy: 0.1900 - val_loss: 2.6127 - val_accuracy: 0.1803\n",
            "Epoch 6/500\n",
            "132/132 [==============================] - 1s 4ms/step - loss: 2.6397 - accuracy: 0.1905 - val_loss: 2.6024 - val_accuracy: 0.1803\n",
            "Epoch 7/500\n",
            "132/132 [==============================] - 1s 4ms/step - loss: 2.6289 - accuracy: 0.1905 - val_loss: 2.5907 - val_accuracy: 0.1822\n",
            "Epoch 8/500\n",
            "132/132 [==============================] - 1s 5ms/step - loss: 2.6116 - accuracy: 0.1909 - val_loss: 2.5750 - val_accuracy: 0.1822\n",
            "Epoch 9/500\n",
            "132/132 [==============================] - 1s 6ms/step - loss: 2.5936 - accuracy: 0.1917 - val_loss: 2.5576 - val_accuracy: 0.1841\n",
            "Epoch 10/500\n",
            "132/132 [==============================] - 1s 6ms/step - loss: 2.5719 - accuracy: 0.1928 - val_loss: 2.5357 - val_accuracy: 0.1879\n",
            "Epoch 11/500\n",
            "132/132 [==============================] - 1s 4ms/step - loss: 2.5475 - accuracy: 0.1985 - val_loss: 2.5119 - val_accuracy: 0.1917\n",
            "Epoch 12/500\n",
            "132/132 [==============================] - 1s 4ms/step - loss: 2.5194 - accuracy: 0.2047 - val_loss: 2.4846 - val_accuracy: 0.2068\n",
            "Epoch 13/500\n",
            "132/132 [==============================] - 1s 4ms/step - loss: 2.4867 - accuracy: 0.2187 - val_loss: 2.4535 - val_accuracy: 0.2201\n",
            "Epoch 14/500\n",
            "132/132 [==============================] - 1s 4ms/step - loss: 2.4548 - accuracy: 0.2346 - val_loss: 2.4198 - val_accuracy: 0.2315\n",
            "Epoch 15/500\n",
            "132/132 [==============================] - 1s 4ms/step - loss: 2.4142 - accuracy: 0.2493 - val_loss: 2.3838 - val_accuracy: 0.2524\n",
            "Epoch 16/500\n",
            "132/132 [==============================] - 1s 4ms/step - loss: 2.3766 - accuracy: 0.2676 - val_loss: 2.3449 - val_accuracy: 0.2789\n",
            "Epoch 17/500\n",
            "132/132 [==============================] - 1s 4ms/step - loss: 2.3250 - accuracy: 0.2887 - val_loss: 2.3046 - val_accuracy: 0.2979\n",
            "Epoch 18/500\n",
            "132/132 [==============================] - 1s 4ms/step - loss: 2.2816 - accuracy: 0.3083 - val_loss: 2.2614 - val_accuracy: 0.3036\n",
            "Epoch 19/500\n",
            "132/132 [==============================] - 1s 4ms/step - loss: 2.2322 - accuracy: 0.3328 - val_loss: 2.2184 - val_accuracy: 0.3188\n",
            "Epoch 20/500\n",
            "132/132 [==============================] - 1s 4ms/step - loss: 2.1840 - accuracy: 0.3582 - val_loss: 2.1736 - val_accuracy: 0.3340\n",
            "Epoch 21/500\n",
            "132/132 [==============================] - 1s 4ms/step - loss: 2.1299 - accuracy: 0.3914 - val_loss: 2.1290 - val_accuracy: 0.3548\n",
            "Epoch 22/500\n",
            "132/132 [==============================] - 1s 4ms/step - loss: 2.0748 - accuracy: 0.4243 - val_loss: 2.0837 - val_accuracy: 0.3852\n",
            "Epoch 23/500\n",
            "132/132 [==============================] - 1s 4ms/step - loss: 2.0182 - accuracy: 0.4573 - val_loss: 2.0374 - val_accuracy: 0.4194\n",
            "Epoch 24/500\n",
            "132/132 [==============================] - 1s 4ms/step - loss: 1.9656 - accuracy: 0.4893 - val_loss: 1.9935 - val_accuracy: 0.4345\n",
            "Epoch 25/500\n",
            "132/132 [==============================] - 1s 4ms/step - loss: 1.9113 - accuracy: 0.5249 - val_loss: 1.9479 - val_accuracy: 0.4573\n",
            "Epoch 26/500\n",
            "132/132 [==============================] - 1s 4ms/step - loss: 1.8566 - accuracy: 0.5486 - val_loss: 1.9043 - val_accuracy: 0.4763\n",
            "Epoch 27/500\n",
            "132/132 [==============================] - 1s 5ms/step - loss: 1.7991 - accuracy: 0.5861 - val_loss: 1.8616 - val_accuracy: 0.5085\n",
            "Epoch 28/500\n",
            "132/132 [==============================] - 1s 5ms/step - loss: 1.7436 - accuracy: 0.6124 - val_loss: 1.8187 - val_accuracy: 0.5351\n",
            "Epoch 29/500\n",
            "132/132 [==============================] - 1s 6ms/step - loss: 1.6913 - accuracy: 0.6361 - val_loss: 1.7765 - val_accuracy: 0.5503\n",
            "Epoch 30/500\n",
            "132/132 [==============================] - 1s 4ms/step - loss: 1.6361 - accuracy: 0.6641 - val_loss: 1.7356 - val_accuracy: 0.5693\n",
            "Epoch 31/500\n",
            "132/132 [==============================] - 1s 4ms/step - loss: 1.5850 - accuracy: 0.6810 - val_loss: 1.6947 - val_accuracy: 0.5806\n",
            "Epoch 32/500\n",
            "132/132 [==============================] - 1s 4ms/step - loss: 1.5316 - accuracy: 0.7028 - val_loss: 1.6562 - val_accuracy: 0.5863\n",
            "Epoch 33/500\n",
            "132/132 [==============================] - 1s 4ms/step - loss: 1.4773 - accuracy: 0.7268 - val_loss: 1.6174 - val_accuracy: 0.6129\n",
            "Epoch 34/500\n",
            "132/132 [==============================] - 1s 4ms/step - loss: 1.4285 - accuracy: 0.7443 - val_loss: 1.5805 - val_accuracy: 0.6357\n",
            "Epoch 35/500\n",
            "132/132 [==============================] - 1s 4ms/step - loss: 1.3810 - accuracy: 0.7531 - val_loss: 1.5446 - val_accuracy: 0.6509\n",
            "Epoch 36/500\n",
            "132/132 [==============================] - 1s 4ms/step - loss: 1.3353 - accuracy: 0.7706 - val_loss: 1.5106 - val_accuracy: 0.6603\n",
            "Epoch 37/500\n",
            "132/132 [==============================] - 1s 4ms/step - loss: 1.2904 - accuracy: 0.7794 - val_loss: 1.4768 - val_accuracy: 0.6755\n",
            "Epoch 38/500\n",
            "132/132 [==============================] - 1s 4ms/step - loss: 1.2437 - accuracy: 0.7946 - val_loss: 1.4453 - val_accuracy: 0.6831\n",
            "Epoch 39/500\n",
            "132/132 [==============================] - 1s 4ms/step - loss: 1.1977 - accuracy: 0.8015 - val_loss: 1.4138 - val_accuracy: 0.7040\n",
            "Epoch 40/500\n",
            "132/132 [==============================] - 1s 4ms/step - loss: 1.1567 - accuracy: 0.8150 - val_loss: 1.3833 - val_accuracy: 0.7135\n",
            "Epoch 41/500\n",
            "132/132 [==============================] - 1s 4ms/step - loss: 1.1139 - accuracy: 0.8195 - val_loss: 1.3560 - val_accuracy: 0.7249\n",
            "Epoch 42/500\n",
            "132/132 [==============================] - 1s 4ms/step - loss: 1.0748 - accuracy: 0.8276 - val_loss: 1.3285 - val_accuracy: 0.7268\n",
            "Epoch 43/500\n",
            "132/132 [==============================] - 1s 4ms/step - loss: 1.0395 - accuracy: 0.8347 - val_loss: 1.3029 - val_accuracy: 0.7287\n",
            "Epoch 44/500\n",
            "132/132 [==============================] - 1s 4ms/step - loss: 1.0008 - accuracy: 0.8442 - val_loss: 1.2789 - val_accuracy: 0.7343\n",
            "Epoch 45/500\n",
            "132/132 [==============================] - 1s 4ms/step - loss: 0.9660 - accuracy: 0.8463 - val_loss: 1.2551 - val_accuracy: 0.7381\n",
            "Epoch 46/500\n",
            "132/132 [==============================] - 1s 4ms/step - loss: 0.9322 - accuracy: 0.8537 - val_loss: 1.2304 - val_accuracy: 0.7438\n",
            "Epoch 47/500\n",
            "132/132 [==============================] - 1s 5ms/step - loss: 0.9016 - accuracy: 0.8601 - val_loss: 1.2073 - val_accuracy: 0.7400\n",
            "Epoch 48/500\n",
            "132/132 [==============================] - 1s 5ms/step - loss: 0.8704 - accuracy: 0.8653 - val_loss: 1.1877 - val_accuracy: 0.7495\n",
            "Epoch 49/500\n",
            "132/132 [==============================] - 1s 5ms/step - loss: 0.8375 - accuracy: 0.8722 - val_loss: 1.1669 - val_accuracy: 0.7514\n",
            "Epoch 50/500\n",
            "132/132 [==============================] - 1s 4ms/step - loss: 0.8069 - accuracy: 0.8774 - val_loss: 1.1473 - val_accuracy: 0.7628\n",
            "Epoch 51/500\n",
            "132/132 [==============================] - 1s 4ms/step - loss: 0.7788 - accuracy: 0.8807 - val_loss: 1.1300 - val_accuracy: 0.7609\n",
            "Epoch 52/500\n",
            "132/132 [==============================] - 1s 4ms/step - loss: 0.7512 - accuracy: 0.8892 - val_loss: 1.1119 - val_accuracy: 0.7628\n",
            "Epoch 53/500\n",
            "132/132 [==============================] - 1s 4ms/step - loss: 0.7246 - accuracy: 0.8954 - val_loss: 1.0942 - val_accuracy: 0.7628\n",
            "Epoch 54/500\n",
            "132/132 [==============================] - 1s 4ms/step - loss: 0.7006 - accuracy: 0.8968 - val_loss: 1.0780 - val_accuracy: 0.7666\n",
            "Epoch 55/500\n",
            "132/132 [==============================] - 1s 4ms/step - loss: 0.6769 - accuracy: 0.9006 - val_loss: 1.0612 - val_accuracy: 0.7666\n",
            "Epoch 56/500\n",
            "132/132 [==============================] - 1s 4ms/step - loss: 0.6503 - accuracy: 0.9075 - val_loss: 1.0463 - val_accuracy: 0.7685\n",
            "Epoch 57/500\n",
            "132/132 [==============================] - 1s 4ms/step - loss: 0.6313 - accuracy: 0.9103 - val_loss: 1.0308 - val_accuracy: 0.7704\n",
            "Epoch 58/500\n",
            "132/132 [==============================] - 1s 4ms/step - loss: 0.6061 - accuracy: 0.9106 - val_loss: 1.0181 - val_accuracy: 0.7666\n",
            "Epoch 59/500\n",
            "132/132 [==============================] - 1s 4ms/step - loss: 0.5830 - accuracy: 0.9184 - val_loss: 1.0042 - val_accuracy: 0.7723\n",
            "Epoch 60/500\n",
            "132/132 [==============================] - 1s 4ms/step - loss: 0.5650 - accuracy: 0.9217 - val_loss: 0.9931 - val_accuracy: 0.7704\n",
            "Epoch 61/500\n",
            "132/132 [==============================] - 1s 4ms/step - loss: 0.5461 - accuracy: 0.9248 - val_loss: 0.9786 - val_accuracy: 0.7780\n",
            "Epoch 62/500\n",
            "132/132 [==============================] - 1s 4ms/step - loss: 0.5272 - accuracy: 0.9310 - val_loss: 0.9660 - val_accuracy: 0.7780\n",
            "Epoch 63/500\n",
            "132/132 [==============================] - 1s 4ms/step - loss: 0.5112 - accuracy: 0.9315 - val_loss: 0.9550 - val_accuracy: 0.7818\n",
            "Epoch 64/500\n",
            "132/132 [==============================] - 1s 4ms/step - loss: 0.4930 - accuracy: 0.9317 - val_loss: 0.9445 - val_accuracy: 0.7875\n",
            "Epoch 65/500\n",
            "132/132 [==============================] - 1s 4ms/step - loss: 0.4752 - accuracy: 0.9371 - val_loss: 0.9313 - val_accuracy: 0.7875\n",
            "Epoch 66/500\n",
            "132/132 [==============================] - 1s 5ms/step - loss: 0.4587 - accuracy: 0.9419 - val_loss: 0.9246 - val_accuracy: 0.7913\n",
            "Epoch 67/500\n",
            "132/132 [==============================] - 1s 6ms/step - loss: 0.4412 - accuracy: 0.9421 - val_loss: 0.9111 - val_accuracy: 0.7951\n",
            "Epoch 68/500\n",
            "132/132 [==============================] - 1s 4ms/step - loss: 0.4279 - accuracy: 0.9471 - val_loss: 0.9048 - val_accuracy: 0.7951\n",
            "Epoch 69/500\n",
            "132/132 [==============================] - 1s 4ms/step - loss: 0.4139 - accuracy: 0.9497 - val_loss: 0.8953 - val_accuracy: 0.7970\n",
            "Epoch 70/500\n",
            "132/132 [==============================] - 1s 4ms/step - loss: 0.3966 - accuracy: 0.9521 - val_loss: 0.8869 - val_accuracy: 0.8065\n",
            "Epoch 71/500\n",
            "132/132 [==============================] - 1s 4ms/step - loss: 0.3840 - accuracy: 0.9535 - val_loss: 0.8793 - val_accuracy: 0.8027\n",
            "Epoch 72/500\n",
            "132/132 [==============================] - 1s 4ms/step - loss: 0.3710 - accuracy: 0.9564 - val_loss: 0.8703 - val_accuracy: 0.8027\n",
            "Epoch 73/500\n",
            "132/132 [==============================] - 1s 4ms/step - loss: 0.3578 - accuracy: 0.9583 - val_loss: 0.8630 - val_accuracy: 0.8027\n",
            "Epoch 74/500\n",
            "132/132 [==============================] - 1s 4ms/step - loss: 0.3457 - accuracy: 0.9613 - val_loss: 0.8550 - val_accuracy: 0.8046\n",
            "Epoch 75/500\n",
            "132/132 [==============================] - 1s 7ms/step - loss: 0.3332 - accuracy: 0.9651 - val_loss: 0.8465 - val_accuracy: 0.8065\n",
            "Epoch 76/500\n",
            "132/132 [==============================] - 1s 4ms/step - loss: 0.3238 - accuracy: 0.9654 - val_loss: 0.8415 - val_accuracy: 0.8083\n",
            "Epoch 77/500\n",
            "132/132 [==============================] - 1s 4ms/step - loss: 0.3102 - accuracy: 0.9663 - val_loss: 0.8336 - val_accuracy: 0.8083\n",
            "Epoch 78/500\n",
            "132/132 [==============================] - 1s 4ms/step - loss: 0.3033 - accuracy: 0.9675 - val_loss: 0.8263 - val_accuracy: 0.8102\n",
            "Epoch 79/500\n",
            "132/132 [==============================] - 1s 4ms/step - loss: 0.2885 - accuracy: 0.9718 - val_loss: 0.8222 - val_accuracy: 0.8121\n",
            "Epoch 80/500\n",
            "132/132 [==============================] - 1s 4ms/step - loss: 0.2809 - accuracy: 0.9725 - val_loss: 0.8153 - val_accuracy: 0.8121\n",
            "Epoch 81/500\n",
            "132/132 [==============================] - 1s 4ms/step - loss: 0.2705 - accuracy: 0.9739 - val_loss: 0.8085 - val_accuracy: 0.8159\n",
            "Epoch 82/500\n",
            "132/132 [==============================] - 1s 4ms/step - loss: 0.2621 - accuracy: 0.9746 - val_loss: 0.8034 - val_accuracy: 0.8140\n",
            "Epoch 83/500\n",
            "132/132 [==============================] - 1s 5ms/step - loss: 0.2547 - accuracy: 0.9756 - val_loss: 0.7979 - val_accuracy: 0.8197\n",
            "Epoch 84/500\n",
            "132/132 [==============================] - 1s 6ms/step - loss: 0.2416 - accuracy: 0.9787 - val_loss: 0.7934 - val_accuracy: 0.8159\n",
            "Epoch 85/500\n",
            "132/132 [==============================] - 1s 5ms/step - loss: 0.2352 - accuracy: 0.9798 - val_loss: 0.7885 - val_accuracy: 0.8159\n",
            "Epoch 86/500\n",
            "132/132 [==============================] - 1s 4ms/step - loss: 0.2260 - accuracy: 0.9817 - val_loss: 0.7831 - val_accuracy: 0.8216\n",
            "Epoch 87/500\n",
            "132/132 [==============================] - 1s 4ms/step - loss: 0.2211 - accuracy: 0.9822 - val_loss: 0.7778 - val_accuracy: 0.8178\n",
            "Epoch 88/500\n",
            "132/132 [==============================] - 1s 5ms/step - loss: 0.2141 - accuracy: 0.9817 - val_loss: 0.7739 - val_accuracy: 0.8216\n",
            "Epoch 89/500\n",
            "132/132 [==============================] - 1s 7ms/step - loss: 0.2057 - accuracy: 0.9841 - val_loss: 0.7699 - val_accuracy: 0.8216\n",
            "Epoch 90/500\n",
            "132/132 [==============================] - 1s 6ms/step - loss: 0.1964 - accuracy: 0.9843 - val_loss: 0.7662 - val_accuracy: 0.8216\n",
            "Epoch 91/500\n",
            "132/132 [==============================] - 1s 5ms/step - loss: 0.1891 - accuracy: 0.9862 - val_loss: 0.7619 - val_accuracy: 0.8216\n",
            "Epoch 92/500\n",
            "132/132 [==============================] - 1s 4ms/step - loss: 0.1851 - accuracy: 0.9867 - val_loss: 0.7565 - val_accuracy: 0.8235\n",
            "Epoch 93/500\n",
            "132/132 [==============================] - 1s 4ms/step - loss: 0.1794 - accuracy: 0.9870 - val_loss: 0.7553 - val_accuracy: 0.8254\n",
            "Epoch 94/500\n",
            "132/132 [==============================] - 1s 4ms/step - loss: 0.1706 - accuracy: 0.9884 - val_loss: 0.7503 - val_accuracy: 0.8235\n",
            "Epoch 95/500\n",
            "132/132 [==============================] - 1s 4ms/step - loss: 0.1640 - accuracy: 0.9879 - val_loss: 0.7478 - val_accuracy: 0.8254\n",
            "Epoch 96/500\n",
            "132/132 [==============================] - 1s 4ms/step - loss: 0.1611 - accuracy: 0.9886 - val_loss: 0.7440 - val_accuracy: 0.8292\n",
            "Epoch 97/500\n",
            "132/132 [==============================] - 1s 4ms/step - loss: 0.1551 - accuracy: 0.9900 - val_loss: 0.7421 - val_accuracy: 0.8273\n",
            "Epoch 98/500\n",
            "132/132 [==============================] - 1s 4ms/step - loss: 0.1499 - accuracy: 0.9907 - val_loss: 0.7413 - val_accuracy: 0.8311\n",
            "Epoch 99/500\n",
            "132/132 [==============================] - 1s 4ms/step - loss: 0.1446 - accuracy: 0.9900 - val_loss: 0.7341 - val_accuracy: 0.8330\n",
            "Epoch 100/500\n",
            "132/132 [==============================] - 1s 4ms/step - loss: 0.1382 - accuracy: 0.9910 - val_loss: 0.7332 - val_accuracy: 0.8330\n",
            "Epoch 101/500\n",
            "132/132 [==============================] - 1s 6ms/step - loss: 0.1328 - accuracy: 0.9919 - val_loss: 0.7282 - val_accuracy: 0.8292\n",
            "Epoch 102/500\n",
            "132/132 [==============================] - 1s 6ms/step - loss: 0.1279 - accuracy: 0.9915 - val_loss: 0.7257 - val_accuracy: 0.8311\n",
            "Epoch 103/500\n",
            "132/132 [==============================] - 1s 4ms/step - loss: 0.1241 - accuracy: 0.9922 - val_loss: 0.7244 - val_accuracy: 0.8311\n",
            "Epoch 104/500\n",
            "132/132 [==============================] - 1s 4ms/step - loss: 0.1194 - accuracy: 0.9924 - val_loss: 0.7219 - val_accuracy: 0.8311\n",
            "Epoch 105/500\n",
            "132/132 [==============================] - 1s 4ms/step - loss: 0.1164 - accuracy: 0.9924 - val_loss: 0.7196 - val_accuracy: 0.8330\n",
            "Epoch 106/500\n",
            "132/132 [==============================] - 1s 4ms/step - loss: 0.1109 - accuracy: 0.9929 - val_loss: 0.7181 - val_accuracy: 0.8330\n",
            "Epoch 107/500\n",
            "132/132 [==============================] - 1s 4ms/step - loss: 0.1072 - accuracy: 0.9943 - val_loss: 0.7187 - val_accuracy: 0.8311\n",
            "Epoch 108/500\n",
            "132/132 [==============================] - 1s 4ms/step - loss: 0.1040 - accuracy: 0.9931 - val_loss: 0.7117 - val_accuracy: 0.8330\n",
            "Epoch 109/500\n",
            "132/132 [==============================] - 1s 4ms/step - loss: 0.1003 - accuracy: 0.9945 - val_loss: 0.7131 - val_accuracy: 0.8368\n",
            "Epoch 110/500\n",
            "132/132 [==============================] - 1s 4ms/step - loss: 0.0955 - accuracy: 0.9950 - val_loss: 0.7110 - val_accuracy: 0.8406\n",
            "Epoch 111/500\n",
            "132/132 [==============================] - 1s 4ms/step - loss: 0.0928 - accuracy: 0.9945 - val_loss: 0.7103 - val_accuracy: 0.8406\n",
            "Epoch 112/500\n",
            "132/132 [==============================] - 1s 4ms/step - loss: 0.0895 - accuracy: 0.9960 - val_loss: 0.7073 - val_accuracy: 0.8406\n",
            "Epoch 113/500\n",
            "132/132 [==============================] - 1s 4ms/step - loss: 0.0851 - accuracy: 0.9957 - val_loss: 0.7083 - val_accuracy: 0.8368\n",
            "Epoch 114/500\n",
            "132/132 [==============================] - 1s 4ms/step - loss: 0.0845 - accuracy: 0.9953 - val_loss: 0.7044 - val_accuracy: 0.8387\n",
            "Epoch 115/500\n",
            "132/132 [==============================] - 1s 4ms/step - loss: 0.0795 - accuracy: 0.9962 - val_loss: 0.7039 - val_accuracy: 0.8368\n",
            "Epoch 116/500\n",
            "132/132 [==============================] - 1s 4ms/step - loss: 0.0776 - accuracy: 0.9953 - val_loss: 0.7037 - val_accuracy: 0.8406\n",
            "Epoch 117/500\n",
            "132/132 [==============================] - 1s 4ms/step - loss: 0.0745 - accuracy: 0.9957 - val_loss: 0.7034 - val_accuracy: 0.8387\n",
            "Epoch 118/500\n",
            "132/132 [==============================] - 1s 4ms/step - loss: 0.0719 - accuracy: 0.9962 - val_loss: 0.7012 - val_accuracy: 0.8425\n",
            "Epoch 119/500\n",
            "132/132 [==============================] - 1s 6ms/step - loss: 0.0685 - accuracy: 0.9962 - val_loss: 0.7000 - val_accuracy: 0.8387\n",
            "Epoch 120/500\n",
            "132/132 [==============================] - 1s 5ms/step - loss: 0.0679 - accuracy: 0.9955 - val_loss: 0.7002 - val_accuracy: 0.8387\n",
            "Epoch 121/500\n",
            "132/132 [==============================] - 1s 4ms/step - loss: 0.0644 - accuracy: 0.9969 - val_loss: 0.6964 - val_accuracy: 0.8387\n",
            "Epoch 122/500\n",
            "132/132 [==============================] - 1s 4ms/step - loss: 0.0625 - accuracy: 0.9974 - val_loss: 0.7002 - val_accuracy: 0.8387\n",
            "Epoch 123/500\n",
            "132/132 [==============================] - 1s 4ms/step - loss: 0.0602 - accuracy: 0.9969 - val_loss: 0.6963 - val_accuracy: 0.8387\n",
            "Epoch 124/500\n",
            "132/132 [==============================] - 1s 4ms/step - loss: 0.0580 - accuracy: 0.9967 - val_loss: 0.6936 - val_accuracy: 0.8368\n",
            "Epoch 125/500\n",
            "132/132 [==============================] - 1s 4ms/step - loss: 0.0561 - accuracy: 0.9964 - val_loss: 0.6980 - val_accuracy: 0.8444\n",
            "Epoch 126/500\n",
            "132/132 [==============================] - 1s 4ms/step - loss: 0.0539 - accuracy: 0.9972 - val_loss: 0.6986 - val_accuracy: 0.8368\n",
            "Epoch 127/500\n",
            "132/132 [==============================] - 1s 4ms/step - loss: 0.0531 - accuracy: 0.9972 - val_loss: 0.6945 - val_accuracy: 0.8406\n",
            "Epoch 128/500\n",
            "132/132 [==============================] - 1s 4ms/step - loss: 0.0504 - accuracy: 0.9979 - val_loss: 0.6959 - val_accuracy: 0.8387\n",
            "Epoch 129/500\n",
            "132/132 [==============================] - 1s 4ms/step - loss: 0.0484 - accuracy: 0.9979 - val_loss: 0.6958 - val_accuracy: 0.8425\n",
            "Epoch 129: early stopping\n"
          ]
        }
      ]
    },
    {
      "cell_type": "code",
      "source": [
        "# printing loss and accuracy of the model on the test set\n",
        "loss, accuracy = model.evaluate(test_ds)\n",
        "print(\"Loss: \", loss)\n",
        "print(\"Accuracy: \", accuracy)"
      ],
      "metadata": {
        "colab": {
          "base_uri": "https://localhost:8080/"
        },
        "id": "FksY9EwwHDkd",
        "outputId": "295fb37a-081f-4231-8df4-0c9ec5de9bf1"
      },
      "execution_count": 41,
      "outputs": [
        {
          "output_type": "stream",
          "name": "stdout",
          "text": [
            "17/17 [==============================] - 0s 4ms/step - loss: 0.6769 - accuracy: 0.8539\n",
            "Loss:  0.6769459843635559\n",
            "Accuracy:  0.8538899421691895\n"
          ]
        }
      ]
    },
    {
      "cell_type": "code",
      "source": [
        "# extracting the history of training and its keys\n",
        "history_dict = history.history\n",
        "history_dict.keys()"
      ],
      "metadata": {
        "colab": {
          "base_uri": "https://localhost:8080/"
        },
        "id": "cPdyDruxHIv1",
        "outputId": "4e8ba802-f21a-48ea-ef31-6a6842525742"
      },
      "execution_count": 42,
      "outputs": [
        {
          "output_type": "execute_result",
          "data": {
            "text/plain": [
              "dict_keys(['loss', 'accuracy', 'val_loss', 'val_accuracy'])"
            ]
          },
          "metadata": {},
          "execution_count": 42
        }
      ]
    },
    {
      "cell_type": "code",
      "source": [
        "acc = history_dict['accuracy']\n",
        "val_acc = history_dict['val_accuracy']\n",
        "loss = history_dict['loss']\n",
        "val_loss = history_dict['val_loss']\n",
        "\n",
        "epochs = range(1, len(acc) + 1)"
      ],
      "metadata": {
        "id": "shbF_xRlHDqZ"
      },
      "execution_count": 43,
      "outputs": []
    },
    {
      "cell_type": "code",
      "source": [
        "# ploting of loss\n",
        "plt.plot(epochs, loss, 'b', label='Training loss')\n",
        "plt.plot(epochs, val_loss, 'r', label='Validation loss')\n",
        "plt.title('Training and validation loss')\n",
        "plt.xlabel('Epochs')\n",
        "plt.ylabel('Loss')\n",
        "plt.legend()\n",
        "plt.show()"
      ],
      "metadata": {
        "colab": {
          "base_uri": "https://localhost:8080/",
          "height": 295
        },
        "id": "iLsoTgHGP7Oq",
        "outputId": "2c443095-e442-4cb7-8932-b1bdc2e30fef"
      },
      "execution_count": 44,
      "outputs": [
        {
          "output_type": "display_data",
          "data": {
            "text/plain": [
              "<Figure size 432x288 with 1 Axes>"
            ],
            "image/png": "[encoded data removed]"
          },
          "metadata": {
            "needs_background": "light"
          }
        }
      ]
    },
    {
      "cell_type": "code",
      "source": [
        "# plotting of accuracy\n",
        "plt.plot(epochs, acc, 'b', label='Training acc')\n",
        "plt.plot(epochs, val_acc, 'r', label='Validation acc')\n",
        "plt.title('Training and validation accuracy')\n",
        "plt.xlabel('Epochs')\n",
        "plt.ylabel('Accuracy')\n",
        "plt.legend(loc='lower right')\n",
        "plt.show()"
      ],
      "metadata": {
        "colab": {
          "base_uri": "https://localhost:8080/",
          "height": 295
        },
        "id": "1uWqq-CtP-Lq",
        "outputId": "50ea8ff9-5113-463a-9173-083da2121db4"
      },
      "execution_count": 45,
      "outputs": [
        {
          "output_type": "display_data",
          "data": {
            "text/plain": [
              "<Figure size 432x288 with 1 Axes>"
            ],
            "image/png": "[encoded data removed]"
          },
          "metadata": {
            "needs_background": "light"
          }
        }
      ]
    },
    {
      "cell_type": "code",
      "source": [
        "# creating the probability model for testing\n",
        "probability_model = tf.keras.Sequential([model, tf.keras.layers.Softmax()])\n",
        "\n",
        "# predicting test samples\n",
        "predictions = probability_model.predict(raw_test_batch.map(vectorize_text))"
      ],
      "metadata": {
        "id": "YQj61lIMvX-Y",
        "outputId": "05127bb2-7888-4720-ea91-274714a8afcd",
        "colab": {
          "base_uri": "https://localhost:8080/"
        }
      },
      "execution_count": 46,
      "outputs": [
        {
          "output_type": "stream",
          "name": "stdout",
          "text": [
            "17/17 [==============================] - 0s 1ms/step\n"
          ]
        }
      ]
    },
    {
      "cell_type": "code",
      "source": [
        "# showing the first test sample result label\n",
        "np.argmax(predictions[0])"
      ],
      "metadata": {
        "colab": {
          "base_uri": "https://localhost:8080/"
        },
        "id": "5cbhBKR7NYPQ",
        "outputId": "422845d2-9414-437b-a24a-55cfaff76eba"
      },
      "execution_count": 47,
      "outputs": [
        {
          "output_type": "execute_result",
          "data": {
            "text/plain": [
              "17"
            ]
          },
          "metadata": {},
          "execution_count": 47
        }
      ]
    },
    {
      "cell_type": "code",
      "source": [
        "# showing the true label of the first test sample\n",
        "test_df.iloc[0]"
      ],
      "metadata": {
        "colab": {
          "base_uri": "https://localhost:8080/"
        },
        "id": "aNsnTWVuu3xj",
        "outputId": "7efd2846-c2db-4e6f-82b9-dffe4845352d"
      },
      "execution_count": 48,
      "outputs": [
        {
          "output_type": "execute_result",
          "data": {
            "text/plain": [
              "text         planet bike big buck fat front planet bike bic...\n",
              "label                                           Sporting Goods\n",
              "label_int                                                   17\n",
              "Name: 4641, dtype: object"
            ]
          },
          "metadata": {},
          "execution_count": 48
        }
      ]
    },
    {
      "cell_type": "markdown",
      "source": [
        "**Author:** https://farrokhkarimi.github.io/"
      ],
      "metadata": {
        "id": "CSw7kwIQipyc"
      }
    }
  ]
}