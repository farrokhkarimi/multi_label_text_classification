{
  "nbformat": 4,
  "nbformat_minor": 0,
  "metadata": {
    "colab": {
      "provenance": []
    },
    "kernelspec": {
      "name": "python3",
      "display_name": "Python 3"
    },
    "language_info": {
      "name": "python"
    },
    "accelerator": "GPU",
    "gpuClass": "standard"
  },
  "cells": [
    {
      "cell_type": "markdown",
      "source": [
        "# Multi-label text classification\n",
        "\n",
        "**Author:** [Farrokh Karimi](https://farrokhkarimi.github.io/)  \n",
        "**Description:** In this notebook, we want to classify the Ronash dataset into 20 category."
      ],
      "metadata": {
        "id": "Bij91pNWQOR5"
      }
    },
    {
      "cell_type": "code",
      "source": [
        "import matplotlib.pyplot as plt\n",
        "import numpy as np\n",
        "import pandas as pd\n",
        "import re\n",
        "import tensorflow as tf\n",
        "\n",
        "from collections import Counter\n",
        "from sklearn.model_selection import train_test_split\n",
        "from tensorflow.keras import layers"
      ],
      "metadata": {
        "id": "sL739kMAEsU9"
      },
      "execution_count": 1,
      "outputs": []
    },
    {
      "cell_type": "code",
      "source": [
        "# downloading Data from the Google Drive link\n",
        "!gdown 1Yq3XTnACkvaIiNlhX09Zth55nOau7jQy"
      ],
      "metadata": {
        "colab": {
          "base_uri": "https://localhost:8080/"
        },
        "id": "SHa9m3aLEbyP",
        "outputId": "963fdcf0-9e0e-481d-c71d-8c87c57dae59"
      },
      "execution_count": 2,
      "outputs": [
        {
          "output_type": "stream",
          "name": "stdout",
          "text": [
            "Downloading...\n",
            "From: https://drive.google.com/uc?id=1Yq3XTnACkvaIiNlhX09Zth55nOau7jQy\n",
            "To: /content/Ronash_DS_Assignment.csv\n",
            "\r  0% 0.00/1.05M [00:00<?, ?B/s]\r100% 1.05M/1.05M [00:00<00:00, 38.5MB/s]\n"
          ]
        }
      ]
    },
    {
      "cell_type": "code",
      "source": [
        "ls"
      ],
      "metadata": {
        "colab": {
          "base_uri": "https://localhost:8080/"
        },
        "id": "6QpBuoWrC5QS",
        "outputId": "6b6120e3-e960-4066-fec3-962d6363703b"
      },
      "execution_count": 3,
      "outputs": [
        {
          "output_type": "stream",
          "name": "stdout",
          "text": [
            "Ronash_DS_Assignment.csv  \u001b[0m\u001b[01;34msample_data\u001b[0m/\n"
          ]
        }
      ]
    },
    {
      "cell_type": "code",
      "source": [
        "# reading the csv file as a dataframe\n",
        "df = pd.read_csv('Ronash_DS_Assignment.csv')\n",
        "df"
      ],
      "metadata": {
        "colab": {
          "base_uri": "https://localhost:8080/",
          "height": 467
        },
        "id": "722bMOmzF4_H",
        "outputId": "9f88c228-ce9d-4d8f-d50d-374394f26486"
      },
      "execution_count": 93,
      "outputs": [
        {
          "output_type": "execute_result",
          "data": {
            "text/plain": [
              "         product_id                                              title  \\\n",
              "0     3937721221199    Fidele Super Premium Adult Large Breed Dog Food   \n",
              "1     7353058033889                    Foldable Pet Toys Linen Storage   \n",
              "2     6594773549129                                     Bok Dok Diaper   \n",
              "3     4802008318014                              Tastybone Toy Chicken   \n",
              "4     1779705151539                Leather Leash Tab - Short Dog Leash   \n",
              "...             ...                                                ...   \n",
              "5265  4637089464407                              Candylab MOO Milk Van   \n",
              "5266  4996632444987  Truck - Modern Era Vehicles -- Red, White -  S...   \n",
              "5267  5528541003927  Car Sticker Flags Decal American Flag Sticker for   \n",
              "5268  1395163889730          Lazer Helmets Bayamo Pit Bull - Full Face   \n",
              "5269  3535679324240                             Deutz Agrotron Tractor   \n",
              "\n",
              "                 vendor                                               tags  \\\n",
              "0                Fidele  ['Adult', 'Bangalore', 'Chennai', 'Chicken', '...   \n",
              "1             Cap Point                                                 []   \n",
              "2             Pets Home  ['Brand_Pet Arabia', 'Category_Pets Home', 'Ca...   \n",
              "3             TastyBone                                                 []   \n",
              "4            Mighty Paw                 ['Leash', 'Leash Tab', 'Training']   \n",
              "...                 ...                                                ...   \n",
              "5265           Candylab  ['3 Years +', 'candylab', 'Discount Products',...   \n",
              "5266   Woodland Scenics  ['HO Scale', 'ho-scale-items', 'vehicles', 'wo...   \n",
              "5267        Cyan Selene                                          ['Other']   \n",
              "5268  OPEN BOX BARGAINS  ['65061090', 'Antiscratch Pinlock Ready Visor'...   \n",
              "5269               Siku  ['$0 to $25', 'diecast-models', 'gift-finder',...   \n",
              "\n",
              "                    category  \n",
              "0     Animals & Pet Supplies  \n",
              "1     Animals & Pet Supplies  \n",
              "2     Animals & Pet Supplies  \n",
              "3     Animals & Pet Supplies  \n",
              "4     Animals & Pet Supplies  \n",
              "...                      ...  \n",
              "5265        Vehicles & Parts  \n",
              "5266        Vehicles & Parts  \n",
              "5267        Vehicles & Parts  \n",
              "5268        Vehicles & Parts  \n",
              "5269        Vehicles & Parts  \n",
              "\n",
              "[5270 rows x 5 columns]"
            ],
            "text/html": [
              "\n",
              "  <div id=\"df-279c5ece-0737-47e3-9164-957327a1ea1f\">\n",
              "    <div class=\"colab-df-container\">\n",
              "      <div>\n",
              "<style scoped>\n",
              "    .dataframe tbody tr th:only-of-type {\n",
              "        vertical-align: middle;\n",
              "    }\n",
              "\n",
              "    .dataframe tbody tr th {\n",
              "        vertical-align: top;\n",
              "    }\n",
              "\n",
              "    .dataframe thead th {\n",
              "        text-align: right;\n",
              "    }\n",
              "</style>\n",
              "<table border=\"1\" class=\"dataframe\">\n",
              "  <thead>\n",
              "    <tr style=\"text-align: right;\">\n",
              "      <th></th>\n",
              "      <th>product_id</th>\n",
              "      <th>title</th>\n",
              "      <th>vendor</th>\n",
              "      <th>tags</th>\n",
              "      <th>category</th>\n",
              "    </tr>\n",
              "  </thead>\n",
              "  <tbody>\n",
              "    <tr>\n",
              "      <th>0</th>\n",
              "      <td>3937721221199</td>\n",
              "      <td>Fidele Super Premium Adult Large Breed Dog Food</td>\n",
              "      <td>Fidele</td>\n",
              "      <td>['Adult', 'Bangalore', 'Chennai', 'Chicken', '...</td>\n",
              "      <td>Animals &amp; Pet Supplies</td>\n",
              "    </tr>\n",
              "    <tr>\n",
              "      <th>1</th>\n",
              "      <td>7353058033889</td>\n",
              "      <td>Foldable Pet Toys Linen Storage</td>\n",
              "      <td>Cap Point</td>\n",
              "      <td>[]</td>\n",
              "      <td>Animals &amp; Pet Supplies</td>\n",
              "    </tr>\n",
              "    <tr>\n",
              "      <th>2</th>\n",
              "      <td>6594773549129</td>\n",
              "      <td>Bok Dok Diaper</td>\n",
              "      <td>Pets Home</td>\n",
              "      <td>['Brand_Pet Arabia', 'Category_Pets Home', 'Ca...</td>\n",
              "      <td>Animals &amp; Pet Supplies</td>\n",
              "    </tr>\n",
              "    <tr>\n",
              "      <th>3</th>\n",
              "      <td>4802008318014</td>\n",
              "      <td>Tastybone Toy Chicken</td>\n",
              "      <td>TastyBone</td>\n",
              "      <td>[]</td>\n",
              "      <td>Animals &amp; Pet Supplies</td>\n",
              "    </tr>\n",
              "    <tr>\n",
              "      <th>4</th>\n",
              "      <td>1779705151539</td>\n",
              "      <td>Leather Leash Tab - Short Dog Leash</td>\n",
              "      <td>Mighty Paw</td>\n",
              "      <td>['Leash', 'Leash Tab', 'Training']</td>\n",
              "      <td>Animals &amp; Pet Supplies</td>\n",
              "    </tr>\n",
              "    <tr>\n",
              "      <th>...</th>\n",
              "      <td>...</td>\n",
              "      <td>...</td>\n",
              "      <td>...</td>\n",
              "      <td>...</td>\n",
              "      <td>...</td>\n",
              "    </tr>\n",
              "    <tr>\n",
              "      <th>5265</th>\n",
              "      <td>4637089464407</td>\n",
              "      <td>Candylab MOO Milk Van</td>\n",
              "      <td>Candylab</td>\n",
              "      <td>['3 Years +', 'candylab', 'Discount Products',...</td>\n",
              "      <td>Vehicles &amp; Parts</td>\n",
              "    </tr>\n",
              "    <tr>\n",
              "      <th>5266</th>\n",
              "      <td>4996632444987</td>\n",
              "      <td>Truck - Modern Era Vehicles -- Red, White -  S...</td>\n",
              "      <td>Woodland Scenics</td>\n",
              "      <td>['HO Scale', 'ho-scale-items', 'vehicles', 'wo...</td>\n",
              "      <td>Vehicles &amp; Parts</td>\n",
              "    </tr>\n",
              "    <tr>\n",
              "      <th>5267</th>\n",
              "      <td>5528541003927</td>\n",
              "      <td>Car Sticker Flags Decal American Flag Sticker for</td>\n",
              "      <td>Cyan Selene</td>\n",
              "      <td>['Other']</td>\n",
              "      <td>Vehicles &amp; Parts</td>\n",
              "    </tr>\n",
              "    <tr>\n",
              "      <th>5268</th>\n",
              "      <td>1395163889730</td>\n",
              "      <td>Lazer Helmets Bayamo Pit Bull - Full Face</td>\n",
              "      <td>OPEN BOX BARGAINS</td>\n",
              "      <td>['65061090', 'Antiscratch Pinlock Ready Visor'...</td>\n",
              "      <td>Vehicles &amp; Parts</td>\n",
              "    </tr>\n",
              "    <tr>\n",
              "      <th>5269</th>\n",
              "      <td>3535679324240</td>\n",
              "      <td>Deutz Agrotron Tractor</td>\n",
              "      <td>Siku</td>\n",
              "      <td>['$0 to $25', 'diecast-models', 'gift-finder',...</td>\n",
              "      <td>Vehicles &amp; Parts</td>\n",
              "    </tr>\n",
              "  </tbody>\n",
              "</table>\n",
              "<p>5270 rows × 5 columns</p>\n",
              "</div>\n",
              "      <button class=\"colab-df-convert\" onclick=\"convertToInteractive('df-279c5ece-0737-47e3-9164-957327a1ea1f')\"\n",
              "              title=\"Convert this dataframe to an interactive table.\"\n",
              "              style=\"display:none;\">\n",
              "        \n",
              "  <svg xmlns=\"http://www.w3.org/2000/svg\" height=\"24px\"viewBox=\"0 0 24 24\"\n",
              "       width=\"24px\">\n",
              "    <path d=\"M0 0h24v24H0V0z\" fill=\"none\"/>\n",
              "    <path d=\"M18.56 5.44l.94 2.06.94-2.06 2.06-.94-2.06-.94-.94-2.06-.94 2.06-2.06.94zm-11 1L8.5 8.5l.94-2.06 2.06-.94-2.06-.94L8.5 2.5l-.94 2.06-2.06.94zm10 10l.94 2.06.94-2.06 2.06-.94-2.06-.94-.94-2.06-.94 2.06-2.06.94z\"/><path d=\"M17.41 7.96l-1.37-1.37c-.4-.4-.92-.59-1.43-.59-.52 0-1.04.2-1.43.59L10.3 9.45l-7.72 7.72c-.78.78-.78 2.05 0 2.83L4 21.41c.39.39.9.59 1.41.59.51 0 1.02-.2 1.41-.59l7.78-7.78 2.81-2.81c.8-.78.8-2.07 0-2.86zM5.41 20L4 18.59l7.72-7.72 1.47 1.35L5.41 20z\"/>\n",
              "  </svg>\n",
              "      </button>\n",
              "      \n",
              "  <style>\n",
              "    .colab-df-container {\n",
              "      display:flex;\n",
              "      flex-wrap:wrap;\n",
              "      gap: 12px;\n",
              "    }\n",
              "\n",
              "    .colab-df-convert {\n",
              "      background-color: #E8F0FE;\n",
              "      border: none;\n",
              "      border-radius: 50%;\n",
              "      cursor: pointer;\n",
              "      display: none;\n",
              "      fill: #1967D2;\n",
              "      height: 32px;\n",
              "      padding: 0 0 0 0;\n",
              "      width: 32px;\n",
              "    }\n",
              "\n",
              "    .colab-df-convert:hover {\n",
              "      background-color: #E2EBFA;\n",
              "      box-shadow: 0px 1px 2px rgba(60, 64, 67, 0.3), 0px 1px 3px 1px rgba(60, 64, 67, 0.15);\n",
              "      fill: #174EA6;\n",
              "    }\n",
              "\n",
              "    [theme=dark] .colab-df-convert {\n",
              "      background-color: #3B4455;\n",
              "      fill: #D2E3FC;\n",
              "    }\n",
              "\n",
              "    [theme=dark] .colab-df-convert:hover {\n",
              "      background-color: #434B5C;\n",
              "      box-shadow: 0px 1px 3px 1px rgba(0, 0, 0, 0.15);\n",
              "      filter: drop-shadow(0px 1px 2px rgba(0, 0, 0, 0.3));\n",
              "      fill: #FFFFFF;\n",
              "    }\n",
              "  </style>\n",
              "\n",
              "      <script>\n",
              "        const buttonEl =\n",
              "          document.querySelector('#df-279c5ece-0737-47e3-9164-957327a1ea1f button.colab-df-convert');\n",
              "        buttonEl.style.display =\n",
              "          google.colab.kernel.accessAllowed ? 'block' : 'none';\n",
              "\n",
              "        async function convertToInteractive(key) {\n",
              "          const element = document.querySelector('#df-279c5ece-0737-47e3-9164-957327a1ea1f');\n",
              "          const dataTable =\n",
              "            await google.colab.kernel.invokeFunction('convertToInteractive',\n",
              "                                                     [key], {});\n",
              "          if (!dataTable) return;\n",
              "\n",
              "          const docLinkHtml = 'Like what you see? Visit the ' +\n",
              "            '<a target=\"_blank\" href=https://colab.research.google.com/notebooks/data_table.ipynb>data table notebook</a>'\n",
              "            + ' to learn more about interactive tables.';\n",
              "          element.innerHTML = '';\n",
              "          dataTable['output_type'] = 'display_data';\n",
              "          await google.colab.output.renderOutput(dataTable, element);\n",
              "          const docLink = document.createElement('div');\n",
              "          docLink.innerHTML = docLinkHtml;\n",
              "          element.appendChild(docLink);\n",
              "        }\n",
              "      </script>\n",
              "    </div>\n",
              "  </div>\n",
              "  "
            ]
          },
          "metadata": {},
          "execution_count": 93
        }
      ]
    },
    {
      "cell_type": "code",
      "source": [
        "# counting the number of each label\n",
        "df['category'].value_counts()"
      ],
      "metadata": {
        "colab": {
          "base_uri": "https://localhost:8080/"
        },
        "id": "6E1ZDXyPlr6y",
        "outputId": "54b9e544-e475-4384-d001-ed64ebaf7cf7"
      },
      "execution_count": 94,
      "outputs": [
        {
          "output_type": "execute_result",
          "data": {
            "text/plain": [
              "Apparel & Accessories        1000\n",
              "Animals & Pet Supplies        500\n",
              "Food, Beverages & Tobacco     400\n",
              "Sporting Goods                400\n",
              "Luggage & Bags                400\n",
              "Home & Garden                 400\n",
              "Health & Beauty               400\n",
              "Media                         300\n",
              "Toys & Games                  300\n",
              "Furniture                     200\n",
              "Baby & Toddler                200\n",
              "Arts & Entertainment          200\n",
              "Electronics                   100\n",
              "Business & Industrial         100\n",
              "Office Supplies               100\n",
              "Vehicles & Parts              100\n",
              "Hardware                       50\n",
              "Cameras & Optics               50\n",
              "Software                       50\n",
              "Religious & Ceremonial         20\n",
              "Name: category, dtype: int64"
            ]
          },
          "metadata": {},
          "execution_count": 94
        }
      ]
    },
    {
      "cell_type": "code",
      "source": [
        "# counting how many indices are duplicated in each column\n",
        "print(f\"There are {sum(df['title'].duplicated())} duplicate title.\")\n",
        "print(f\"There are {sum(df['vendor'].duplicated())} duplicate vondor.\")\n",
        "print(f\"There are {sum(df['tags'].duplicated())} duplicate tags.\")"
      ],
      "metadata": {
        "colab": {
          "base_uri": "https://localhost:8080/"
        },
        "id": "Un_ggKoLUAEf",
        "outputId": "f3cafade-0ca9-47dd-e05e-99892df847e0"
      },
      "execution_count": 95,
      "outputs": [
        {
          "output_type": "stream",
          "name": "stdout",
          "text": [
            "There are 0 duplicate title.\n",
            "There are 1256 duplicate vondor.\n",
            "There are 716 duplicate tags.\n"
          ]
        }
      ]
    },
    {
      "cell_type": "code",
      "source": [
        "# counting the number of Nan samples\n",
        "df.isnull().values.sum()"
      ],
      "metadata": {
        "colab": {
          "base_uri": "https://localhost:8080/"
        },
        "id": "VD95efZwCRYT",
        "outputId": "bc7ee866-cac5-42cd-a0cf-b16bb214e951"
      },
      "execution_count": 96,
      "outputs": [
        {
          "output_type": "execute_result",
          "data": {
            "text/plain": [
              "3"
            ]
          },
          "metadata": {},
          "execution_count": 96
        }
      ]
    },
    {
      "cell_type": "markdown",
      "source": [
        "There are just 3 Nan samples in the dataset so we can ignore them."
      ],
      "metadata": {
        "id": "rhPJQuDEb8oN"
      }
    },
    {
      "cell_type": "code",
      "source": [
        "# the function for extracting and standardizing the sentences\n",
        "def text_extraction(dfi):\n",
        "  # in this function, we concatenate text feature parts of the data as a sentence\n",
        "  sentence = ' '.join([dfi['title'], str(dfi['vendor']), dfi['tags']])\n",
        "  # Remove punctuations\n",
        "  sentence = re.sub('[^a-zA-Z0-9$.]', ' ', sentence)\n",
        "  # Single character removal\n",
        "  sentence = re.sub(r\"\\s+[a-zA-Z]\\s+\", ' ', sentence)\n",
        "  # Removing multiple spaces\n",
        "  sentence = re.sub(r'\\s+', ' ', sentence)\n",
        "  # Changint to lowercase\n",
        "  sentence = sentence.lower()\n",
        "  return sentence\n",
        "\n",
        "# printing 10 sample sentences\n",
        "for i in range(10):\n",
        "  print(text_extraction(df.iloc[i]))"
      ],
      "metadata": {
        "colab": {
          "base_uri": "https://localhost:8080/"
        },
        "id": "aH9UzP7-__P2",
        "outputId": "7b61119f-faef-4cdd-e9d9-110721da9755"
      },
      "execution_count": 97,
      "outputs": [
        {
          "output_type": "stream",
          "name": "stdout",
          "text": [
            "fidele super premium adult large breed dog food fidele adult bangalore chennai chicken doberman dog dry foods fidele german shepherd golden retriever great dane highpriority imported labrador less than 1000 less than 2000 less than 500 mastiff orange pet nutrition \n",
            "foldable pet toys linen storage cap point \n",
            "bok dok diaper pets home brand pet arabia category pets home category small pets supplies type pet home type pet supplies \n",
            "tastybone toy chicken tastybone \n",
            "leather leash tab short dog leash mighty paw leash leash tab training \n",
            "pridebites texas guitar dog toy pride bites brand pridebites toy type plush \n",
            "burns sensitive pork potato burns 10 25 25 50 50 75 adult burns coat dog food food delivery jansale18 natural nonsale19 sensitive size 12kg size 2kg size 6kg skin \n",
            "bully sticks dog toy adog.co bully sticks dog chew toys dog toys \n",
            "kazoo tough giraffe dog toy kazoo brand kazoo june2021 kazoo material plush plush \n",
            "orgo dog biscuits fresh milk petku brand orgo category dogs dogs lifestage all lifestages orgo price rp 0 to rp 100.000 subcategory treats treats \n"
          ]
        }
      ]
    },
    {
      "cell_type": "code",
      "source": [
        "# creating the dataset\n",
        "dataset = pd.DataFrame(columns=['text', 'label'])\n",
        "for i in range(len(df)):\n",
        "  dataset = dataset.append({'text':text_extraction(df.iloc[i]), 'label':df.iloc[i]['category']}, ignore_index = True)\n",
        "\n",
        "# creating integer labels for multiclass training\n",
        "dataset['label_int'] = pd.Categorical(dataset['label']).codes\n",
        "dataset"
      ],
      "metadata": {
        "colab": {
          "base_uri": "https://localhost:8080/",
          "height": 423
        },
        "id": "7x4WG7NC9Xz3",
        "outputId": "1c562512-c146-4995-c08b-976a7d8bd249"
      },
      "execution_count": 98,
      "outputs": [
        {
          "output_type": "execute_result",
          "data": {
            "text/plain": [
              "                                                   text  \\\n",
              "0     fidele super premium adult large breed dog foo...   \n",
              "1            foldable pet toys linen storage cap point    \n",
              "2     bok dok diaper pets home brand pet arabia cate...   \n",
              "3                      tastybone toy chicken tastybone    \n",
              "4     leather leash tab short dog leash mighty paw l...   \n",
              "...                                                 ...   \n",
              "5265  candylab moo milk van candylab 3 years candyla...   \n",
              "5266  truck modern era vehicles red white scale ho w...   \n",
              "5267  car sticker flags decal american flag sticker ...   \n",
              "5268  lazer helmets bayamo pit bull full face open b...   \n",
              "5269  deutz agrotron tractor siku $0 to $25 diecast ...   \n",
              "\n",
              "                       label  label_int  \n",
              "0     Animals & Pet Supplies          0  \n",
              "1     Animals & Pet Supplies          0  \n",
              "2     Animals & Pet Supplies          0  \n",
              "3     Animals & Pet Supplies          0  \n",
              "4     Animals & Pet Supplies          0  \n",
              "...                      ...        ...  \n",
              "5265        Vehicles & Parts         19  \n",
              "5266        Vehicles & Parts         19  \n",
              "5267        Vehicles & Parts         19  \n",
              "5268        Vehicles & Parts         19  \n",
              "5269        Vehicles & Parts         19  \n",
              "\n",
              "[5270 rows x 3 columns]"
            ],
            "text/html": [
              "\n",
              "  <div id=\"df-c9cdccd8-f5bb-4c7a-882a-4e82e2b3bb0d\">\n",
              "    <div class=\"colab-df-container\">\n",
              "      <div>\n",
              "<style scoped>\n",
              "    .dataframe tbody tr th:only-of-type {\n",
              "        vertical-align: middle;\n",
              "    }\n",
              "\n",
              "    .dataframe tbody tr th {\n",
              "        vertical-align: top;\n",
              "    }\n",
              "\n",
              "    .dataframe thead th {\n",
              "        text-align: right;\n",
              "    }\n",
              "</style>\n",
              "<table border=\"1\" class=\"dataframe\">\n",
              "  <thead>\n",
              "    <tr style=\"text-align: right;\">\n",
              "      <th></th>\n",
              "      <th>text</th>\n",
              "      <th>label</th>\n",
              "      <th>label_int</th>\n",
              "    </tr>\n",
              "  </thead>\n",
              "  <tbody>\n",
              "    <tr>\n",
              "      <th>0</th>\n",
              "      <td>fidele super premium adult large breed dog foo...</td>\n",
              "      <td>Animals &amp; Pet Supplies</td>\n",
              "      <td>0</td>\n",
              "    </tr>\n",
              "    <tr>\n",
              "      <th>1</th>\n",
              "      <td>foldable pet toys linen storage cap point</td>\n",
              "      <td>Animals &amp; Pet Supplies</td>\n",
              "      <td>0</td>\n",
              "    </tr>\n",
              "    <tr>\n",
              "      <th>2</th>\n",
              "      <td>bok dok diaper pets home brand pet arabia cate...</td>\n",
              "      <td>Animals &amp; Pet Supplies</td>\n",
              "      <td>0</td>\n",
              "    </tr>\n",
              "    <tr>\n",
              "      <th>3</th>\n",
              "      <td>tastybone toy chicken tastybone</td>\n",
              "      <td>Animals &amp; Pet Supplies</td>\n",
              "      <td>0</td>\n",
              "    </tr>\n",
              "    <tr>\n",
              "      <th>4</th>\n",
              "      <td>leather leash tab short dog leash mighty paw l...</td>\n",
              "      <td>Animals &amp; Pet Supplies</td>\n",
              "      <td>0</td>\n",
              "    </tr>\n",
              "    <tr>\n",
              "      <th>...</th>\n",
              "      <td>...</td>\n",
              "      <td>...</td>\n",
              "      <td>...</td>\n",
              "    </tr>\n",
              "    <tr>\n",
              "      <th>5265</th>\n",
              "      <td>candylab moo milk van candylab 3 years candyla...</td>\n",
              "      <td>Vehicles &amp; Parts</td>\n",
              "      <td>19</td>\n",
              "    </tr>\n",
              "    <tr>\n",
              "      <th>5266</th>\n",
              "      <td>truck modern era vehicles red white scale ho w...</td>\n",
              "      <td>Vehicles &amp; Parts</td>\n",
              "      <td>19</td>\n",
              "    </tr>\n",
              "    <tr>\n",
              "      <th>5267</th>\n",
              "      <td>car sticker flags decal american flag sticker ...</td>\n",
              "      <td>Vehicles &amp; Parts</td>\n",
              "      <td>19</td>\n",
              "    </tr>\n",
              "    <tr>\n",
              "      <th>5268</th>\n",
              "      <td>lazer helmets bayamo pit bull full face open b...</td>\n",
              "      <td>Vehicles &amp; Parts</td>\n",
              "      <td>19</td>\n",
              "    </tr>\n",
              "    <tr>\n",
              "      <th>5269</th>\n",
              "      <td>deutz agrotron tractor siku $0 to $25 diecast ...</td>\n",
              "      <td>Vehicles &amp; Parts</td>\n",
              "      <td>19</td>\n",
              "    </tr>\n",
              "  </tbody>\n",
              "</table>\n",
              "<p>5270 rows × 3 columns</p>\n",
              "</div>\n",
              "      <button class=\"colab-df-convert\" onclick=\"convertToInteractive('df-c9cdccd8-f5bb-4c7a-882a-4e82e2b3bb0d')\"\n",
              "              title=\"Convert this dataframe to an interactive table.\"\n",
              "              style=\"display:none;\">\n",
              "        \n",
              "  <svg xmlns=\"http://www.w3.org/2000/svg\" height=\"24px\"viewBox=\"0 0 24 24\"\n",
              "       width=\"24px\">\n",
              "    <path d=\"M0 0h24v24H0V0z\" fill=\"none\"/>\n",
              "    <path d=\"M18.56 5.44l.94 2.06.94-2.06 2.06-.94-2.06-.94-.94-2.06-.94 2.06-2.06.94zm-11 1L8.5 8.5l.94-2.06 2.06-.94-2.06-.94L8.5 2.5l-.94 2.06-2.06.94zm10 10l.94 2.06.94-2.06 2.06-.94-2.06-.94-.94-2.06-.94 2.06-2.06.94z\"/><path d=\"M17.41 7.96l-1.37-1.37c-.4-.4-.92-.59-1.43-.59-.52 0-1.04.2-1.43.59L10.3 9.45l-7.72 7.72c-.78.78-.78 2.05 0 2.83L4 21.41c.39.39.9.59 1.41.59.51 0 1.02-.2 1.41-.59l7.78-7.78 2.81-2.81c.8-.78.8-2.07 0-2.86zM5.41 20L4 18.59l7.72-7.72 1.47 1.35L5.41 20z\"/>\n",
              "  </svg>\n",
              "      </button>\n",
              "      \n",
              "  <style>\n",
              "    .colab-df-container {\n",
              "      display:flex;\n",
              "      flex-wrap:wrap;\n",
              "      gap: 12px;\n",
              "    }\n",
              "\n",
              "    .colab-df-convert {\n",
              "      background-color: #E8F0FE;\n",
              "      border: none;\n",
              "      border-radius: 50%;\n",
              "      cursor: pointer;\n",
              "      display: none;\n",
              "      fill: #1967D2;\n",
              "      height: 32px;\n",
              "      padding: 0 0 0 0;\n",
              "      width: 32px;\n",
              "    }\n",
              "\n",
              "    .colab-df-convert:hover {\n",
              "      background-color: #E2EBFA;\n",
              "      box-shadow: 0px 1px 2px rgba(60, 64, 67, 0.3), 0px 1px 3px 1px rgba(60, 64, 67, 0.15);\n",
              "      fill: #174EA6;\n",
              "    }\n",
              "\n",
              "    [theme=dark] .colab-df-convert {\n",
              "      background-color: #3B4455;\n",
              "      fill: #D2E3FC;\n",
              "    }\n",
              "\n",
              "    [theme=dark] .colab-df-convert:hover {\n",
              "      background-color: #434B5C;\n",
              "      box-shadow: 0px 1px 3px 1px rgba(0, 0, 0, 0.15);\n",
              "      filter: drop-shadow(0px 1px 2px rgba(0, 0, 0, 0.3));\n",
              "      fill: #FFFFFF;\n",
              "    }\n",
              "  </style>\n",
              "\n",
              "      <script>\n",
              "        const buttonEl =\n",
              "          document.querySelector('#df-c9cdccd8-f5bb-4c7a-882a-4e82e2b3bb0d button.colab-df-convert');\n",
              "        buttonEl.style.display =\n",
              "          google.colab.kernel.accessAllowed ? 'block' : 'none';\n",
              "\n",
              "        async function convertToInteractive(key) {\n",
              "          const element = document.querySelector('#df-c9cdccd8-f5bb-4c7a-882a-4e82e2b3bb0d');\n",
              "          const dataTable =\n",
              "            await google.colab.kernel.invokeFunction('convertToInteractive',\n",
              "                                                     [key], {});\n",
              "          if (!dataTable) return;\n",
              "\n",
              "          const docLinkHtml = 'Like what you see? Visit the ' +\n",
              "            '<a target=\"_blank\" href=https://colab.research.google.com/notebooks/data_table.ipynb>data table notebook</a>'\n",
              "            + ' to learn more about interactive tables.';\n",
              "          element.innerHTML = '';\n",
              "          dataTable['output_type'] = 'display_data';\n",
              "          await google.colab.output.renderOutput(dataTable, element);\n",
              "          const docLink = document.createElement('div');\n",
              "          docLink.innerHTML = docLinkHtml;\n",
              "          element.appendChild(docLink);\n",
              "        }\n",
              "      </script>\n",
              "    </div>\n",
              "  </div>\n",
              "  "
            ]
          },
          "metadata": {},
          "execution_count": 98
        }
      ]
    },
    {
      "cell_type": "markdown",
      "source": [
        "---\n",
        "#### Data augmentation using BERT\n",
        "\n",
        "Here we add new sentences by paraphrasing available text to have reach number of sentences per label to a threshold"
      ],
      "metadata": {
        "id": "6-AwoPrTR85m"
      }
    },
    {
      "cell_type": "code",
      "source": [
        "min_number_per_label = 50  #Minimum number of sentences per label"
      ],
      "metadata": {
        "id": "JWExx_UqSJs0"
      },
      "execution_count": 113,
      "outputs": []
    },
    {
      "cell_type": "code",
      "source": [
        "import nltk\n",
        "nltk.download('punkt')\n",
        "nltk.download('stopwords')\n",
        "nltk.download('wordnet')\n",
        "nltk.download('omw-1.4')"
      ],
      "metadata": {
        "colab": {
          "base_uri": "https://localhost:8080/"
        },
        "id": "Z0oFFtFNCiPP",
        "outputId": "dc2d70a6-592b-4e8f-ae58-414b5cf9a75b"
      },
      "execution_count": 18,
      "outputs": [
        {
          "output_type": "stream",
          "name": "stderr",
          "text": [
            "[nltk_data] Downloading package punkt to /root/nltk_data...\n",
            "[nltk_data]   Package punkt is already up-to-date!\n",
            "[nltk_data] Downloading package stopwords to /root/nltk_data...\n",
            "[nltk_data]   Unzipping corpora/stopwords.zip.\n",
            "[nltk_data] Downloading package wordnet to /root/nltk_data...\n",
            "[nltk_data] Downloading package omw-1.4 to /root/nltk_data...\n"
          ]
        },
        {
          "output_type": "execute_result",
          "data": {
            "text/plain": [
              "True"
            ]
          },
          "metadata": {},
          "execution_count": 18
        }
      ]
    },
    {
      "cell_type": "code",
      "source": [
        "!pip install transformers"
      ],
      "metadata": {
        "colab": {
          "base_uri": "https://localhost:8080/"
        },
        "id": "LasaaK80Du1k",
        "outputId": "78ac06ae-9c6b-4099-d2c8-69163ddac335"
      },
      "execution_count": 30,
      "outputs": [
        {
          "output_type": "stream",
          "name": "stdout",
          "text": [
            "Looking in indexes: https://pypi.org/simple, https://us-python.pkg.dev/colab-wheels/public/simple/\n",
            "Collecting transformers\n",
            "  Downloading transformers-4.26.1-py3-none-any.whl (6.3 MB)\n",
            "\u001b[2K     \u001b[90m━━━━━━━━━━━━━━━━━━━━━━━━━━━━━━━━━━━━━━━━\u001b[0m \u001b[32m6.3/6.3 MB\u001b[0m \u001b[31m100.2 MB/s\u001b[0m eta \u001b[36m0:00:00\u001b[0m\n",
            "\u001b[?25hRequirement already satisfied: packaging>=20.0 in /usr/local/lib/python3.8/dist-packages (from transformers) (23.0)\n",
            "Collecting huggingface-hub<1.0,>=0.11.0\n",
            "  Downloading huggingface_hub-0.12.1-py3-none-any.whl (190 kB)\n",
            "\u001b[2K     \u001b[90m━━━━━━━━━━━━━━━━━━━━━━━━━━━━━━━━━━━━━━\u001b[0m \u001b[32m190.3/190.3 KB\u001b[0m \u001b[31m27.7 MB/s\u001b[0m eta \u001b[36m0:00:00\u001b[0m\n",
            "\u001b[?25hRequirement already satisfied: numpy>=1.17 in /usr/local/lib/python3.8/dist-packages (from transformers) (1.22.4)\n",
            "Requirement already satisfied: requests in /usr/local/lib/python3.8/dist-packages (from transformers) (2.25.1)\n",
            "Requirement already satisfied: tqdm>=4.27 in /usr/local/lib/python3.8/dist-packages (from transformers) (4.64.1)\n",
            "Requirement already satisfied: pyyaml>=5.1 in /usr/local/lib/python3.8/dist-packages (from transformers) (6.0)\n",
            "Collecting tokenizers!=0.11.3,<0.14,>=0.11.1\n",
            "  Downloading tokenizers-0.13.2-cp38-cp38-manylinux_2_17_x86_64.manylinux2014_x86_64.whl (7.6 MB)\n",
            "\u001b[2K     \u001b[90m━━━━━━━━━━━━━━━━━━━━━━━━━━━━━━━━━━━━━━━━\u001b[0m \u001b[32m7.6/7.6 MB\u001b[0m \u001b[31m113.8 MB/s\u001b[0m eta \u001b[36m0:00:00\u001b[0m\n",
            "\u001b[?25hRequirement already satisfied: filelock in /usr/local/lib/python3.8/dist-packages (from transformers) (3.9.0)\n",
            "Requirement already satisfied: regex!=2019.12.17 in /usr/local/lib/python3.8/dist-packages (from transformers) (2022.6.2)\n",
            "Requirement already satisfied: typing-extensions>=3.7.4.3 in /usr/local/lib/python3.8/dist-packages (from huggingface-hub<1.0,>=0.11.0->transformers) (4.5.0)\n",
            "Requirement already satisfied: certifi>=2017.4.17 in /usr/local/lib/python3.8/dist-packages (from requests->transformers) (2022.12.7)\n",
            "Requirement already satisfied: chardet<5,>=3.0.2 in /usr/local/lib/python3.8/dist-packages (from requests->transformers) (4.0.0)\n",
            "Requirement already satisfied: urllib3<1.27,>=1.21.1 in /usr/local/lib/python3.8/dist-packages (from requests->transformers) (1.24.3)\n",
            "Requirement already satisfied: idna<3,>=2.5 in /usr/local/lib/python3.8/dist-packages (from requests->transformers) (2.10)\n",
            "Installing collected packages: tokenizers, huggingface-hub, transformers\n",
            "Successfully installed huggingface-hub-0.12.1 tokenizers-0.13.2 transformers-4.26.1\n"
          ]
        }
      ]
    },
    {
      "cell_type": "code",
      "source": [
        "!pip install nlpaug"
      ],
      "metadata": {
        "colab": {
          "base_uri": "https://localhost:8080/"
        },
        "id": "Iy1shzwGDZx4",
        "outputId": "fc4a4f95-7d7b-4c14-b9f5-887150e5131f"
      },
      "execution_count": 26,
      "outputs": [
        {
          "output_type": "stream",
          "name": "stdout",
          "text": [
            "Looking in indexes: https://pypi.org/simple, https://us-python.pkg.dev/colab-wheels/public/simple/\n",
            "Collecting nlpaug\n",
            "  Downloading nlpaug-1.1.11-py3-none-any.whl (410 kB)\n",
            "\u001b[2K     \u001b[90m━━━━━━━━━━━━━━━━━━━━━━━━━━━━━━━━━━━━━━\u001b[0m \u001b[32m410.5/410.5 KB\u001b[0m \u001b[31m29.3 MB/s\u001b[0m eta \u001b[36m0:00:00\u001b[0m\n",
            "\u001b[?25hRequirement already satisfied: gdown>=4.0.0 in /usr/local/lib/python3.8/dist-packages (from nlpaug) (4.4.0)\n",
            "Requirement already satisfied: requests>=2.22.0 in /usr/local/lib/python3.8/dist-packages (from nlpaug) (2.25.1)\n",
            "Requirement already satisfied: numpy>=1.16.2 in /usr/local/lib/python3.8/dist-packages (from nlpaug) (1.22.4)\n",
            "Requirement already satisfied: pandas>=1.2.0 in /usr/local/lib/python3.8/dist-packages (from nlpaug) (1.3.5)\n",
            "Requirement already satisfied: beautifulsoup4 in /usr/local/lib/python3.8/dist-packages (from gdown>=4.0.0->nlpaug) (4.6.3)\n",
            "Requirement already satisfied: filelock in /usr/local/lib/python3.8/dist-packages (from gdown>=4.0.0->nlpaug) (3.9.0)\n",
            "Requirement already satisfied: tqdm in /usr/local/lib/python3.8/dist-packages (from gdown>=4.0.0->nlpaug) (4.64.1)\n",
            "Requirement already satisfied: six in /usr/local/lib/python3.8/dist-packages (from gdown>=4.0.0->nlpaug) (1.15.0)\n",
            "Requirement already satisfied: pytz>=2017.3 in /usr/local/lib/python3.8/dist-packages (from pandas>=1.2.0->nlpaug) (2022.7.1)\n",
            "Requirement already satisfied: python-dateutil>=2.7.3 in /usr/local/lib/python3.8/dist-packages (from pandas>=1.2.0->nlpaug) (2.8.2)\n",
            "Requirement already satisfied: idna<3,>=2.5 in /usr/local/lib/python3.8/dist-packages (from requests>=2.22.0->nlpaug) (2.10)\n",
            "Requirement already satisfied: certifi>=2017.4.17 in /usr/local/lib/python3.8/dist-packages (from requests>=2.22.0->nlpaug) (2022.12.7)\n",
            "Requirement already satisfied: urllib3<1.27,>=1.21.1 in /usr/local/lib/python3.8/dist-packages (from requests>=2.22.0->nlpaug) (1.24.3)\n",
            "Requirement already satisfied: chardet<5,>=3.0.2 in /usr/local/lib/python3.8/dist-packages (from requests>=2.22.0->nlpaug) (4.0.0)\n",
            "Requirement already satisfied: PySocks!=1.5.7,>=1.5.6 in /usr/local/lib/python3.8/dist-packages (from requests>=2.22.0->nlpaug) (1.7.1)\n",
            "Installing collected packages: nlpaug\n",
            "Successfully installed nlpaug-1.1.11\n"
          ]
        }
      ]
    },
    {
      "cell_type": "code",
      "source": [
        "set_label = list(set(dataset['label_int'].to_list()))"
      ],
      "metadata": {
        "id": "1kb6GlB4FG6c"
      },
      "execution_count": 40,
      "outputs": []
    },
    {
      "cell_type": "code",
      "source": [
        "import pandas as pd\n",
        "import nlpaug.augmenter.word as naw\n",
        "import nlpaug.augmenter.char as nac\n",
        "\n",
        "# load your dataset into a pandas dataframe\n",
        "# df = pd.read_csv('your_dataset.csv')\n",
        "\n",
        "# define a function to apply data augmentation to a single text input\n",
        "def augment_text(text):\n",
        "    augmented_text = text\n",
        "    # apply random word replacement\n",
        "    aug = naw.ContextualWordEmbsAug(model_path='bert-base-uncased', action=\"substitute\")\n",
        "    augmented_text = aug.augment(text)\n",
        "    # apply random character deletion\n",
        "    aug = nac.RandomCharAug(action=\"delete\")\n",
        "    augmented_text = aug.augment(augmented_text)\n",
        "    return augmented_text\n",
        "\n",
        "\n",
        "augmented_sentences=[]\n",
        "augmented_sentences_labels=[]\n",
        "\n",
        "augmented_texts = []\n",
        "\n",
        "for x in set_label:\n",
        "  tmp_data = dataset[dataset['label_int']==x].copy()\n",
        "  while(len(tmp_data)<min_number_per_label):\n",
        "    augmented_texts = []\n",
        "    for text in tmp_data['text']:\n",
        "        augmented_text = augment_text(text)\n",
        "        augmented_texts.append(augmented_text[0])\n",
        "\n",
        "    # create a new dataframe with the augmented texts and their corresponding labels\n",
        "    augmented_df = pd.DataFrame({'text': augmented_texts, 'label': tmp_data['label'], 'label_int': tmp_data['label_int']})\n",
        "\n",
        "    # concatenate the original dataframe and the augmented dataframe\n",
        "    dataset = pd.concat([dataset, augmented_df]).copy()\n",
        "\n",
        "    tmp_data = dataset[dataset['label_int']==x].copy()\n",
        "\n",
        "# train your text classification model on the augmented data\n"
      ],
      "metadata": {
        "id": "l322dBHeQJdb"
      },
      "execution_count": 99,
      "outputs": []
    },
    {
      "cell_type": "markdown",
      "source": [
        "#### End of data augmentation"
      ],
      "metadata": {
        "id": "duHdERmbR0m9"
      }
    },
    {
      "cell_type": "markdown",
      "source": [
        "---"
      ],
      "metadata": {
        "id": "-5hxg-UeR55u"
      }
    },
    {
      "cell_type": "code",
      "source": [
        "# extracting the names of the labels\n",
        "labels_names = list(Counter(dataset['label']).keys())\n",
        "labels_names"
      ],
      "metadata": {
        "colab": {
          "base_uri": "https://localhost:8080/"
        },
        "id": "9uHdTY3p9Xfr",
        "outputId": "492a49ce-904d-42c6-ad78-14626beb4a63"
      },
      "execution_count": 100,
      "outputs": [
        {
          "output_type": "execute_result",
          "data": {
            "text/plain": [
              "['Animals & Pet Supplies',\n",
              " 'Apparel & Accessories',\n",
              " 'Arts & Entertainment',\n",
              " 'Baby & Toddler',\n",
              " 'Business & Industrial',\n",
              " 'Cameras & Optics',\n",
              " 'Electronics',\n",
              " 'Food, Beverages & Tobacco',\n",
              " 'Furniture',\n",
              " 'Hardware',\n",
              " 'Health & Beauty',\n",
              " 'Home & Garden',\n",
              " 'Luggage & Bags',\n",
              " 'Media',\n",
              " 'Office Supplies',\n",
              " 'Religious & Ceremonial',\n",
              " 'Software',\n",
              " 'Sporting Goods',\n",
              " 'Toys & Games',\n",
              " 'Vehicles & Parts']"
            ]
          },
          "metadata": {},
          "execution_count": 100
        }
      ]
    },
    {
      "cell_type": "code",
      "source": [
        "# printing each integer label and its corresponding name label\n",
        "for i, label in enumerate(labels_names):\n",
        "  print(\"Label\", i, \"corresponds to\", label)"
      ],
      "metadata": {
        "colab": {
          "base_uri": "https://localhost:8080/"
        },
        "id": "QXCgd6QTC_k6",
        "outputId": "2e46a6fd-5ef2-4717-f74c-0850e8967f96"
      },
      "execution_count": 101,
      "outputs": [
        {
          "output_type": "stream",
          "name": "stdout",
          "text": [
            "Label 0 corresponds to Animals & Pet Supplies\n",
            "Label 1 corresponds to Apparel & Accessories\n",
            "Label 2 corresponds to Arts & Entertainment\n",
            "Label 3 corresponds to Baby & Toddler\n",
            "Label 4 corresponds to Business & Industrial\n",
            "Label 5 corresponds to Cameras & Optics\n",
            "Label 6 corresponds to Electronics\n",
            "Label 7 corresponds to Food, Beverages & Tobacco\n",
            "Label 8 corresponds to Furniture\n",
            "Label 9 corresponds to Hardware\n",
            "Label 10 corresponds to Health & Beauty\n",
            "Label 11 corresponds to Home & Garden\n",
            "Label 12 corresponds to Luggage & Bags\n",
            "Label 13 corresponds to Media\n",
            "Label 14 corresponds to Office Supplies\n",
            "Label 15 corresponds to Religious & Ceremonial\n",
            "Label 16 corresponds to Software\n",
            "Label 17 corresponds to Sporting Goods\n",
            "Label 18 corresponds to Toys & Games\n",
            "Label 19 corresponds to Vehicles & Parts\n"
          ]
        }
      ]
    },
    {
      "cell_type": "code",
      "source": [
        "# splitting dataset to train, validation, and test dataframes\n",
        "train_df, test_df= train_test_split(dataset, test_size=0.2, random_state=42)\n",
        "val_df = test_df.sample(frac=0.5)\n",
        "test_df.drop(val_df.index, inplace=True)\n",
        "\n",
        "print(f\"Number of samples in training set: {len(train_df)}\")\n",
        "print(f\"Number of samples in validation set: {len(val_df)}\")\n",
        "print(f\"Number of samples in test set: {len(test_df)}\")\n",
        "\n",
        "# extracting texts and labels from dataframes\n",
        "train_texts = train_df['text']\n",
        "train_labels = train_df['label_int']\n",
        "val_texts = val_df['text']\n",
        "val_labels = val_df['label_int']\n",
        "test_texts = test_df['text']\n",
        "test_labels = test_df['label_int']"
      ],
      "metadata": {
        "colab": {
          "base_uri": "https://localhost:8080/"
        },
        "id": "bWd2Rfp69X8g",
        "outputId": "3f9cca88-69ce-40ba-cd81-9959df0a4d91"
      },
      "execution_count": 102,
      "outputs": [
        {
          "output_type": "stream",
          "name": "stdout",
          "text": [
            "Number of samples in training set: 4264\n",
            "Number of samples in validation set: 533\n",
            "Number of samples in test set: 533\n"
          ]
        }
      ]
    },
    {
      "cell_type": "code",
      "source": [
        "# creating data generators with batch size 32\n",
        "batch_size = 32\n",
        "raw_train_batch = tf.data.Dataset.from_tensor_slices((train_texts, train_labels)).batch(batch_size)\n",
        "raw_val_batch = tf.data.Dataset.from_tensor_slices((val_texts, val_labels)).batch(batch_size)\n",
        "raw_test_batch = tf.data.Dataset.from_tensor_slices((test_texts, test_labels)).batch(batch_size)\n",
        "\n",
        "# printing texts and labels of a batch of raw train\n",
        "for text, label in raw_train_batch.take(1):\n",
        "  print('Texts: {}'.format(text))\n",
        "  print('labels: {}'.format(label))"
      ],
      "metadata": {
        "colab": {
          "base_uri": "https://localhost:8080/"
        },
        "id": "C4kA4X60zkC3",
        "outputId": "113eb22f-e17e-4ee3-e55c-981c17638b6a"
      },
      "execution_count": 103,
      "outputs": [
        {
          "output_type": "stream",
          "name": "stdout",
          "text": [
            "Texts: [b'toppik hair fibers black toppik hair fiber '\n",
            " b'sprayground no trespassing backpack sprayground new '\n",
            " b'believe in yourself bleach wash pullover hoodie blackcraft allsweaterhoodie as above so below clothing darkdelicious hoodie location loc 460 meta related collection outerwear meta size chart sizing chart blackcraft womens tees notbf notvip notweighed outerwear ultra wicked '\n",
            " b'beco strong starfish rough tough dog toy beco soft tough toys '\n",
            " b'dalloway john jacobs 136109 136110 360degree sku 136109 360degree sku 136110 black silver color black color gunmetal color silver computer eyeglasses dittoenable eye wear eye sale eyeglasses eyeglasses for men eyeglasses for women eyewear facebroad faceoval faceround frame type full rim frame size 138 frame type fullrim framerectangle frametypefullrim full full rim full rim eyeglasses gender men gender women gunmetal gunmetal black john jacobs large latest eyeglasses latest homepage long name alias pro titanium jj e12738 unisex eyeglasses material titanium material titanium measurement 54 18 43 145 138 men men spectacles metalworks exclusive new arrival eyeglasses price 3000 3999 pro titanium prod name dalloway product name pro titanium jj e12738 pwr rnge 8 5 quiz collection rectangle rectangle eyeglasses sale shape rectangle shape rectangle short name jj e12738 silver silver black size 54 size large spectacles styleclassic titanium unisex unisex eyeglasses women women spectacles '\n",
            " b'polichromy smooth criminal vitasei polichromy '\n",
            " b'woven rattan pendant light chandelier everything props cat. lighting cat1. overhead col. wood tone manu. 2000 2019 mat. wood styl. 2000 2019 styl1. contemporary styl2. modern subcat2. pendant subcat3. '\n",
            " b'maxi shield secret weapon mug maxi shield drag race down under maxi shield mug rupaul drag race '\n",
            " b'pink camo no stink waterproof collar wilderpup camo faire wilderpup '\n",
            " b'soporte de muro para sonos arc wmk sonos '\n",
            " b'stephanie thatcher ka hikoi putangitangi stephanie thatcher author stephanie thatcher books category maoritanga facebook feed facebook ok google type te reo maori '\n",
            " b'circle cold spring saddle circle brand circle color walnut main category saddles main category western tack riding style western saddles style trail style western subcategory saddles subcategory trail saddles trail western '\n",
            " b'neutrogena black head scrub neutrogena face wash and cleanser skin care '\n",
            " b'valere sweet dreamer valere department jewellery jewellery season winter2019 valere '\n",
            " b'baby girl scale print bathing suit trendsi '\n",
            " b'black lydia pocket backpack colette by colette hayman colour black dimensions depth 9 dimensions handledrop 7 dimensions height 28 dimensions width 23 folk dream collection hardware gunmetal no match product type backpacks '\n",
            " b'malmsey brown tan oliver sweeney badge last few colour brown maincats out of stock ygroup malm '\n",
            " b'bioworld comic iron on patch backpack bioworld allow coupons elementary school middle high school school springfever '\n",
            " b'stokke steps children growth chair stokke avg profit 200 avg profit percent 10 baby items baby items promo level 1 furniture not brandsdis not on sale not regular priced parallel price quote stokke '\n",
            " b'cover girl wig by raquel welch huw pelucas pelucascortas pelucasindetectables shortwig shortwigs wig wigs '\n",
            " b'noho bracelet watch versus versace black bracelet employee 70 gold noho quartz time20 versus versace watches watches womens size chart women '\n",
            " b'talia thong sandal maryam nassir zadeh sold out '\n",
            " b'urban color love me matte lipcolor exotic tangerine kk beauty beauty product lip colour makeup matte modicare urban color women worldshopon '\n",
            " b'sbez too small to bail sbez '\n",
            " b'the alchemist bib designer bums spo default spo disabled '\n",
            " b'ravana lankesh evil ramayana ramlila kids adults fancy dress costume without sword bookmycostume 10 12 years 12 14 years 14 16 years adult 2 3 years 3 4 years 4 5 years 5 6 years 6 7 years 7 8 years 8 10 years adult l best baby costumes for rent black black white boys fancy dress childrens fancy dress costume ideas colorful costume sale costumes for rent evil fancy dress competition for kids fancy dress ideas for fancy dress shops fancy dress themes gods mythology golden indian fancy dress kids kids fancy dress costumes male raavan costume raavana ramayan ramayan characters ramayana ramleela ramleela dussehra ramlila fancy dress ravan ravana rawan rent fancy dress rent product '\n",
            " b'stance kids captain america comic socks stance all skateboard brands socks stance '\n",
            " b'dry lite wetsuit bag creatures of leisure accessories backpacks bags bags accessories creatures of leisure spo default spo disabled surf accessories wetsuit accessories wetsuits '\n",
            " b'schwinn bicycle hub road bike front quick release nan '\n",
            " b'tusa snorkel vest children tusa hoods vests scuba '\n",
            " b'adv tent sos ground sheet lone rider adventure blackfriday2020 bmw 1200 gs bmw adventure 1200 bmw 1200 gs gs 1200 logo lone rider motorcycle motorcycle tent mototent tent '\n",
            " b'v studs diamonds havane mostafa hanafy all backpack big sale studs ']\n",
            "labels: [10 12  1  0 10  7 11 11  0  6 13 17 10  1  3 12  1 12  8  1  1  1 10  7\n",
            "  3  1  1 17 17 17 17 12]\n"
          ]
        }
      ]
    },
    {
      "cell_type": "code",
      "source": [
        "# counting how many words are there in the whole texts of the dataset\n",
        "num_of_words = 0\n",
        "for i in dataset['text']: num_of_words += len(i.split())\n",
        "\n",
        "print(num_of_words)"
      ],
      "metadata": {
        "colab": {
          "base_uri": "https://localhost:8080/"
        },
        "id": "P2QpUriFrsU_",
        "outputId": "984bfb5c-15d6-49c2-da1d-1bbffc02079a"
      },
      "execution_count": 104,
      "outputs": [
        {
          "output_type": "stream",
          "name": "stdout",
          "text": [
            "113853\n"
          ]
        }
      ]
    },
    {
      "cell_type": "markdown",
      "source": [
        "There are about 112000 words in the texts.\n",
        "\n"
      ],
      "metadata": {
        "id": "wfw3CqfZsWyT"
      }
    },
    {
      "cell_type": "code",
      "source": [
        "# counting max sequence length and how many non-repetitive words are there in the whole texts of the dataset\n",
        "l = []\n",
        "max_seq_lenght = 0\n",
        "for i in dataset['text']:\n",
        "  lenght = len(i.split())\n",
        "  if lenght > max_seq_lenght: max_seq_lenght = lenght\n",
        "  for j in i.split():\n",
        "    if j not in l: l.append(j)\n",
        "\n",
        "print(max_seq_lenght)\n",
        "print(len(l))"
      ],
      "metadata": {
        "colab": {
          "base_uri": "https://localhost:8080/"
        },
        "id": "2ufQzaF9ncqZ",
        "outputId": "d7325549-12da-4f1f-f59e-8ca27d488ff6"
      },
      "execution_count": 105,
      "outputs": [
        {
          "output_type": "stream",
          "name": "stdout",
          "text": [
            "309\n",
            "19183\n"
          ]
        }
      ]
    },
    {
      "cell_type": "markdown",
      "source": [
        "Maximum sequence length is 309 and There are about 19000 non-repetitive words in the whole dataset texts. So we set max word features to 10000 and sequence length to 350."
      ],
      "metadata": {
        "id": "cGGf8rQorkSR"
      }
    },
    {
      "cell_type": "code",
      "source": [
        "# setting the text vectorization layer with 10000 words and 350 sequence length\n",
        "max_features = 10000\n",
        "sequence_length = 350\n",
        "\n",
        "vectorize_layer = layers.TextVectorization(\n",
        "    max_tokens=max_features,\n",
        "    output_mode='int',\n",
        "    output_sequence_length=sequence_length)\n",
        "\n",
        "# fitting the state of the preprocessing layer to the train set. This will cause the model to build an index of strings to integers.\n",
        "vectorize_layer.adapt(train_texts)\n",
        "\n",
        "# defining the vectorize text function\n",
        "def vectorize_text(text, label):\n",
        "  text = tf.expand_dims(text, -1)\n",
        "  return vectorize_layer(text), label\n",
        "\n",
        "# retrieving a sample from a batch of texts and labels from the train set\n",
        "text_batch, label_batch = next(iter(raw_train_batch))\n",
        "first_review, first_label = text_batch[0], label_batch[0]\n",
        "print(\"Review\", first_review)\n",
        "print(\"Label\", first_label)\n",
        "print(\"Vectorized text\", vectorize_text(first_review, first_label))"
      ],
      "metadata": {
        "colab": {
          "base_uri": "https://localhost:8080/"
        },
        "id": "Ey2QJjO97T9P",
        "outputId": "009012c3-4291-4f93-82e7-3235edbdef1c"
      },
      "execution_count": 106,
      "outputs": [
        {
          "output_type": "stream",
          "name": "stdout",
          "text": [
            "Review tf.Tensor(b'toppik hair fibers black toppik hair fiber ', shape=(), dtype=string)\n",
            "Label tf.Tensor(10, shape=(), dtype=int8)\n",
            "Vectorized text (<tf.Tensor: shape=(1, 350), dtype=int64, numpy=\n",
            "array([[5796,  141,    1,    5, 5796,  141, 1043,    0,    0,    0,    0,\n",
            "           0,    0,    0,    0,    0,    0,    0,    0,    0,    0,    0,\n",
            "           0,    0,    0,    0,    0,    0,    0,    0,    0,    0,    0,\n",
            "           0,    0,    0,    0,    0,    0,    0,    0,    0,    0,    0,\n",
            "           0,    0,    0,    0,    0,    0,    0,    0,    0,    0,    0,\n",
            "           0,    0,    0,    0,    0,    0,    0,    0,    0,    0,    0,\n",
            "           0,    0,    0,    0,    0,    0,    0,    0,    0,    0,    0,\n",
            "           0,    0,    0,    0,    0,    0,    0,    0,    0,    0,    0,\n",
            "           0,    0,    0,    0,    0,    0,    0,    0,    0,    0,    0,\n",
            "           0,    0,    0,    0,    0,    0,    0,    0,    0,    0,    0,\n",
            "           0,    0,    0,    0,    0,    0,    0,    0,    0,    0,    0,\n",
            "           0,    0,    0,    0,    0,    0,    0,    0,    0,    0,    0,\n",
            "           0,    0,    0,    0,    0,    0,    0,    0,    0,    0,    0,\n",
            "           0,    0,    0,    0,    0,    0,    0,    0,    0,    0,    0,\n",
            "           0,    0,    0,    0,    0,    0,    0,    0,    0,    0,    0,\n",
            "           0,    0,    0,    0,    0,    0,    0,    0,    0,    0,    0,\n",
            "           0,    0,    0,    0,    0,    0,    0,    0,    0,    0,    0,\n",
            "           0,    0,    0,    0,    0,    0,    0,    0,    0,    0,    0,\n",
            "           0,    0,    0,    0,    0,    0,    0,    0,    0,    0,    0,\n",
            "           0,    0,    0,    0,    0,    0,    0,    0,    0,    0,    0,\n",
            "           0,    0,    0,    0,    0,    0,    0,    0,    0,    0,    0,\n",
            "           0,    0,    0,    0,    0,    0,    0,    0,    0,    0,    0,\n",
            "           0,    0,    0,    0,    0,    0,    0,    0,    0,    0,    0,\n",
            "           0,    0,    0,    0,    0,    0,    0,    0,    0,    0,    0,\n",
            "           0,    0,    0,    0,    0,    0,    0,    0,    0,    0,    0,\n",
            "           0,    0,    0,    0,    0,    0,    0,    0,    0,    0,    0,\n",
            "           0,    0,    0,    0,    0,    0,    0,    0,    0,    0,    0,\n",
            "           0,    0,    0,    0,    0,    0,    0,    0,    0,    0,    0,\n",
            "           0,    0,    0,    0,    0,    0,    0,    0,    0,    0,    0,\n",
            "           0,    0,    0,    0,    0,    0,    0,    0,    0,    0,    0,\n",
            "           0,    0,    0,    0,    0,    0,    0,    0,    0,    0,    0,\n",
            "           0,    0,    0,    0,    0,    0,    0,    0,    0]])>, <tf.Tensor: shape=(), dtype=int8, numpy=10>)\n"
          ]
        }
      ]
    },
    {
      "cell_type": "code",
      "source": [
        "# getting corresponding word of each integer \n",
        "print(\"1401 ---> \",vectorize_layer.get_vocabulary()[1401])\n",
        "print(\" 313 ---> \",vectorize_layer.get_vocabulary()[313])\n",
        "print('Vocabulary size: {}'.format(len(vectorize_layer.get_vocabulary())))"
      ],
      "metadata": {
        "colab": {
          "base_uri": "https://localhost:8080/"
        },
        "id": "X84dkB768GSx",
        "outputId": "5601b163-e46f-4857-e4f0-88500559f515"
      },
      "execution_count": 107,
      "outputs": [
        {
          "output_type": "stream",
          "name": "stdout",
          "text": [
            "1401 --->  racetracks\n",
            " 313 --->  bundle\n",
            "Vocabulary size: 10000\n"
          ]
        }
      ]
    },
    {
      "cell_type": "code",
      "source": [
        "# creating train, val, and test vectorized dataset and prefetching them\n",
        "train_ds = raw_train_batch.map(vectorize_text)\n",
        "val_ds = raw_val_batch.map(vectorize_text)\n",
        "test_ds = raw_test_batch.map(vectorize_text)\n",
        "\n",
        "AUTOTUNE = tf.data.AUTOTUNE\n",
        "\n",
        "train_ds = train_ds.cache().prefetch(buffer_size=AUTOTUNE)\n",
        "val_ds = val_ds.cache().prefetch(buffer_size=AUTOTUNE)\n",
        "test_ds = test_ds.cache().prefetch(buffer_size=AUTOTUNE)"
      ],
      "metadata": {
        "id": "DiW717GQ_77D"
      },
      "execution_count": 108,
      "outputs": []
    },
    {
      "cell_type": "code",
      "source": [
        "# model configuration\n",
        "embedding_dim = 32\n",
        "num_of_labels = 20\n",
        "\n",
        "model = tf.keras.Sequential([\n",
        "  layers.Embedding(max_features + 1, embedding_dim),\n",
        "  layers.Dropout(0.2),\n",
        "  layers.GlobalAveragePooling1D(),\n",
        "  layers.Dropout(0.2),\n",
        "  layers.Dense(num_of_labels)])\n",
        "\n",
        "model.summary()"
      ],
      "metadata": {
        "colab": {
          "base_uri": "https://localhost:8080/"
        },
        "id": "BBHmGG_SAWhp",
        "outputId": "5d1c146c-a950-4fc4-de3c-28e2b32c8f6b"
      },
      "execution_count": 109,
      "outputs": [
        {
          "output_type": "stream",
          "name": "stdout",
          "text": [
            "Model: \"sequential_1\"\n",
            "_________________________________________________________________\n",
            " Layer (type)                Output Shape              Param #   \n",
            "=================================================================\n",
            " embedding_1 (Embedding)     (None, None, 32)          320032    \n",
            "                                                                 \n",
            " dropout_2 (Dropout)         (None, None, 32)          0         \n",
            "                                                                 \n",
            " global_average_pooling1d_1   (None, 32)               0         \n",
            " (GlobalAveragePooling1D)                                        \n",
            "                                                                 \n",
            " dropout_3 (Dropout)         (None, 32)                0         \n",
            "                                                                 \n",
            " dense_1 (Dense)             (None, 20)                660       \n",
            "                                                                 \n",
            "=================================================================\n",
            "Total params: 320,692\n",
            "Trainable params: 320,692\n",
            "Non-trainable params: 0\n",
            "_________________________________________________________________\n"
          ]
        }
      ]
    },
    {
      "cell_type": "code",
      "source": [
        "# model compilation\n",
        "model.compile(optimizer='adam',\n",
        "              loss=tf.keras.losses.SparseCategoricalCrossentropy(from_logits=True),\n",
        "              metrics=['accuracy'])"
      ],
      "metadata": {
        "id": "uL6c-YGfAwLz"
      },
      "execution_count": 110,
      "outputs": []
    },
    {
      "cell_type": "code",
      "source": [
        "# training the model\n",
        "epochs = 500\n",
        "\n",
        "callback = tf.keras.callbacks.EarlyStopping(monitor='val_loss',\n",
        "                                            patience=5,\n",
        "                                            verbose=1)\n",
        "\n",
        "history = model.fit(train_ds,\n",
        "                    validation_data=val_ds,\n",
        "                    epochs=epochs,\n",
        "                    callbacks=[callback])"
      ],
      "metadata": {
        "colab": {
          "base_uri": "https://localhost:8080/"
        },
        "id": "CIfmPA3SvX4d",
        "outputId": "6df77d51-5ae5-4a1f-f6b1-f3c749f859f2"
      },
      "execution_count": 111,
      "outputs": [
        {
          "output_type": "stream",
          "name": "stdout",
          "text": [
            "Epoch 1/500\n",
            "134/134 [==============================] - 13s 95ms/step - loss: 2.8833 - accuracy: 0.1771 - val_loss: 2.7605 - val_accuracy: 0.1820\n",
            "Epoch 2/500\n",
            "134/134 [==============================] - 1s 6ms/step - loss: 2.7226 - accuracy: 0.1871 - val_loss: 2.6975 - val_accuracy: 0.1820\n",
            "Epoch 3/500\n",
            "134/134 [==============================] - 1s 5ms/step - loss: 2.6977 - accuracy: 0.1871 - val_loss: 2.6888 - val_accuracy: 0.1820\n",
            "Epoch 4/500\n",
            "134/134 [==============================] - 1s 4ms/step - loss: 2.6911 - accuracy: 0.1871 - val_loss: 2.6835 - val_accuracy: 0.1820\n",
            "Epoch 5/500\n",
            "134/134 [==============================] - 1s 4ms/step - loss: 2.6854 - accuracy: 0.1871 - val_loss: 2.6782 - val_accuracy: 0.1820\n",
            "Epoch 6/500\n",
            "134/134 [==============================] - 1s 4ms/step - loss: 2.6782 - accuracy: 0.1871 - val_loss: 2.6730 - val_accuracy: 0.1820\n",
            "Epoch 7/500\n",
            "134/134 [==============================] - 1s 4ms/step - loss: 2.6739 - accuracy: 0.1871 - val_loss: 2.6674 - val_accuracy: 0.1820\n",
            "Epoch 8/500\n",
            "134/134 [==============================] - 1s 4ms/step - loss: 2.6645 - accuracy: 0.1871 - val_loss: 2.6608 - val_accuracy: 0.1820\n",
            "Epoch 9/500\n",
            "134/134 [==============================] - 1s 4ms/step - loss: 2.6564 - accuracy: 0.1871 - val_loss: 2.6537 - val_accuracy: 0.1820\n",
            "Epoch 10/500\n",
            "134/134 [==============================] - 1s 4ms/step - loss: 2.6484 - accuracy: 0.1874 - val_loss: 2.6457 - val_accuracy: 0.1820\n",
            "Epoch 11/500\n",
            "134/134 [==============================] - 1s 4ms/step - loss: 2.6374 - accuracy: 0.1876 - val_loss: 2.6367 - val_accuracy: 0.1820\n",
            "Epoch 12/500\n",
            "134/134 [==============================] - 1s 4ms/step - loss: 2.6245 - accuracy: 0.1876 - val_loss: 2.6260 - val_accuracy: 0.1820\n",
            "Epoch 13/500\n",
            "134/134 [==============================] - 1s 4ms/step - loss: 2.6116 - accuracy: 0.1881 - val_loss: 2.6153 - val_accuracy: 0.1820\n",
            "Epoch 14/500\n",
            "134/134 [==============================] - 1s 4ms/step - loss: 2.5956 - accuracy: 0.1893 - val_loss: 2.6027 - val_accuracy: 0.1820\n",
            "Epoch 15/500\n",
            "134/134 [==============================] - 1s 4ms/step - loss: 2.5816 - accuracy: 0.1904 - val_loss: 2.5888 - val_accuracy: 0.1820\n",
            "Epoch 16/500\n",
            "134/134 [==============================] - 1s 4ms/step - loss: 2.5625 - accuracy: 0.1925 - val_loss: 2.5738 - val_accuracy: 0.1839\n",
            "Epoch 17/500\n",
            "134/134 [==============================] - 1s 4ms/step - loss: 2.5427 - accuracy: 0.1986 - val_loss: 2.5571 - val_accuracy: 0.1895\n",
            "Epoch 18/500\n",
            "134/134 [==============================] - 1s 4ms/step - loss: 2.5233 - accuracy: 0.2038 - val_loss: 2.5386 - val_accuracy: 0.1951\n",
            "Epoch 19/500\n",
            "134/134 [==============================] - 1s 4ms/step - loss: 2.4991 - accuracy: 0.2108 - val_loss: 2.5192 - val_accuracy: 0.2008\n",
            "Epoch 20/500\n",
            "134/134 [==============================] - 1s 4ms/step - loss: 2.4739 - accuracy: 0.2219 - val_loss: 2.4975 - val_accuracy: 0.2026\n",
            "Epoch 21/500\n",
            "134/134 [==============================] - 1s 5ms/step - loss: 2.4463 - accuracy: 0.2371 - val_loss: 2.4744 - val_accuracy: 0.2101\n",
            "Epoch 22/500\n",
            "134/134 [==============================] - 1s 6ms/step - loss: 2.4173 - accuracy: 0.2523 - val_loss: 2.4511 - val_accuracy: 0.2195\n",
            "Epoch 23/500\n",
            "134/134 [==============================] - 1s 7ms/step - loss: 2.3903 - accuracy: 0.2631 - val_loss: 2.4249 - val_accuracy: 0.2270\n",
            "Epoch 24/500\n",
            "134/134 [==============================] - 1s 6ms/step - loss: 2.3574 - accuracy: 0.2805 - val_loss: 2.3983 - val_accuracy: 0.2458\n",
            "Epoch 25/500\n",
            "134/134 [==============================] - 1s 4ms/step - loss: 2.3246 - accuracy: 0.2960 - val_loss: 2.3704 - val_accuracy: 0.2645\n",
            "Epoch 26/500\n",
            "134/134 [==============================] - 1s 4ms/step - loss: 2.2906 - accuracy: 0.3112 - val_loss: 2.3413 - val_accuracy: 0.2720\n",
            "Epoch 27/500\n",
            "134/134 [==============================] - 1s 4ms/step - loss: 2.2532 - accuracy: 0.3358 - val_loss: 2.3115 - val_accuracy: 0.2927\n",
            "Epoch 28/500\n",
            "134/134 [==============================] - 1s 4ms/step - loss: 2.2178 - accuracy: 0.3499 - val_loss: 2.2819 - val_accuracy: 0.3114\n",
            "Epoch 29/500\n",
            "134/134 [==============================] - 1s 4ms/step - loss: 2.1796 - accuracy: 0.3769 - val_loss: 2.2500 - val_accuracy: 0.3302\n",
            "Epoch 30/500\n",
            "134/134 [==============================] - 1s 4ms/step - loss: 2.1396 - accuracy: 0.4029 - val_loss: 2.2176 - val_accuracy: 0.3490\n",
            "Epoch 31/500\n",
            "134/134 [==============================] - 1s 4ms/step - loss: 2.1049 - accuracy: 0.4198 - val_loss: 2.1853 - val_accuracy: 0.3602\n",
            "Epoch 32/500\n",
            "134/134 [==============================] - 1s 4ms/step - loss: 2.0624 - accuracy: 0.4456 - val_loss: 2.1538 - val_accuracy: 0.3771\n",
            "Epoch 33/500\n",
            "134/134 [==============================] - 1s 4ms/step - loss: 2.0205 - accuracy: 0.4735 - val_loss: 2.1208 - val_accuracy: 0.3921\n",
            "Epoch 34/500\n",
            "134/134 [==============================] - 1s 4ms/step - loss: 1.9821 - accuracy: 0.4937 - val_loss: 2.0873 - val_accuracy: 0.4203\n",
            "Epoch 35/500\n",
            "134/134 [==============================] - 1s 4ms/step - loss: 1.9397 - accuracy: 0.5237 - val_loss: 2.0540 - val_accuracy: 0.4296\n",
            "Epoch 36/500\n",
            "134/134 [==============================] - 1s 4ms/step - loss: 1.9018 - accuracy: 0.5352 - val_loss: 2.0217 - val_accuracy: 0.4503\n",
            "Epoch 37/500\n",
            "134/134 [==============================] - 1s 4ms/step - loss: 1.8637 - accuracy: 0.5596 - val_loss: 1.9874 - val_accuracy: 0.4653\n",
            "Epoch 38/500\n",
            "134/134 [==============================] - 1s 4ms/step - loss: 1.8197 - accuracy: 0.5774 - val_loss: 1.9553 - val_accuracy: 0.4972\n",
            "Epoch 39/500\n",
            "134/134 [==============================] - 1s 4ms/step - loss: 1.7801 - accuracy: 0.5985 - val_loss: 1.9224 - val_accuracy: 0.5047\n",
            "Epoch 40/500\n",
            "134/134 [==============================] - 1s 4ms/step - loss: 1.7394 - accuracy: 0.6243 - val_loss: 1.8901 - val_accuracy: 0.5197\n",
            "Epoch 41/500\n",
            "134/134 [==============================] - 1s 4ms/step - loss: 1.6975 - accuracy: 0.6405 - val_loss: 1.8585 - val_accuracy: 0.5403\n",
            "Epoch 42/500\n",
            "134/134 [==============================] - 1s 6ms/step - loss: 1.6636 - accuracy: 0.6611 - val_loss: 1.8273 - val_accuracy: 0.5478\n",
            "Epoch 43/500\n",
            "134/134 [==============================] - 1s 6ms/step - loss: 1.6194 - accuracy: 0.6733 - val_loss: 1.7967 - val_accuracy: 0.5722\n",
            "Epoch 44/500\n",
            "134/134 [==============================] - 1s 6ms/step - loss: 1.5837 - accuracy: 0.6801 - val_loss: 1.7639 - val_accuracy: 0.5910\n",
            "Epoch 45/500\n",
            "134/134 [==============================] - 1s 6ms/step - loss: 1.5421 - accuracy: 0.6991 - val_loss: 1.7362 - val_accuracy: 0.6004\n",
            "Epoch 46/500\n",
            "134/134 [==============================] - 1s 6ms/step - loss: 1.5074 - accuracy: 0.7108 - val_loss: 1.7049 - val_accuracy: 0.6285\n",
            "Epoch 47/500\n",
            "134/134 [==============================] - 1s 6ms/step - loss: 1.4743 - accuracy: 0.7242 - val_loss: 1.6755 - val_accuracy: 0.6567\n",
            "Epoch 48/500\n",
            "134/134 [==============================] - 1s 6ms/step - loss: 1.4389 - accuracy: 0.7362 - val_loss: 1.6487 - val_accuracy: 0.6510\n",
            "Epoch 49/500\n",
            "134/134 [==============================] - 1s 4ms/step - loss: 1.3991 - accuracy: 0.7472 - val_loss: 1.6212 - val_accuracy: 0.6548\n",
            "Epoch 50/500\n",
            "134/134 [==============================] - 1s 4ms/step - loss: 1.3653 - accuracy: 0.7559 - val_loss: 1.5935 - val_accuracy: 0.6642\n",
            "Epoch 51/500\n",
            "134/134 [==============================] - 1s 4ms/step - loss: 1.3342 - accuracy: 0.7608 - val_loss: 1.5672 - val_accuracy: 0.6792\n",
            "Epoch 52/500\n",
            "134/134 [==============================] - 1s 4ms/step - loss: 1.3042 - accuracy: 0.7735 - val_loss: 1.5401 - val_accuracy: 0.6848\n",
            "Epoch 53/500\n",
            "134/134 [==============================] - 1s 4ms/step - loss: 1.2699 - accuracy: 0.7795 - val_loss: 1.5174 - val_accuracy: 0.6942\n",
            "Epoch 54/500\n",
            "134/134 [==============================] - 1s 4ms/step - loss: 1.2367 - accuracy: 0.7859 - val_loss: 1.4934 - val_accuracy: 0.6923\n",
            "Epoch 55/500\n",
            "134/134 [==============================] - 1s 4ms/step - loss: 1.2088 - accuracy: 0.7943 - val_loss: 1.4690 - val_accuracy: 0.6979\n",
            "Epoch 56/500\n",
            "134/134 [==============================] - 1s 4ms/step - loss: 1.1810 - accuracy: 0.7985 - val_loss: 1.4460 - val_accuracy: 0.7036\n",
            "Epoch 57/500\n",
            "134/134 [==============================] - 1s 4ms/step - loss: 1.1497 - accuracy: 0.8028 - val_loss: 1.4250 - val_accuracy: 0.7054\n",
            "Epoch 58/500\n",
            "134/134 [==============================] - 1s 4ms/step - loss: 1.1272 - accuracy: 0.8098 - val_loss: 1.4034 - val_accuracy: 0.7092\n",
            "Epoch 59/500\n",
            "134/134 [==============================] - 1s 4ms/step - loss: 1.0910 - accuracy: 0.8100 - val_loss: 1.3842 - val_accuracy: 0.7073\n",
            "Epoch 60/500\n",
            "134/134 [==============================] - 1s 6ms/step - loss: 1.0706 - accuracy: 0.8197 - val_loss: 1.3607 - val_accuracy: 0.7167\n",
            "Epoch 61/500\n",
            "134/134 [==============================] - 1s 6ms/step - loss: 1.0473 - accuracy: 0.8208 - val_loss: 1.3419 - val_accuracy: 0.7205\n",
            "Epoch 62/500\n",
            "134/134 [==============================] - 1s 6ms/step - loss: 1.0205 - accuracy: 0.8272 - val_loss: 1.3236 - val_accuracy: 0.7242\n",
            "Epoch 63/500\n",
            "134/134 [==============================] - 1s 6ms/step - loss: 0.9928 - accuracy: 0.8321 - val_loss: 1.3040 - val_accuracy: 0.7317\n",
            "Epoch 64/500\n",
            "134/134 [==============================] - 1s 4ms/step - loss: 0.9726 - accuracy: 0.8361 - val_loss: 1.2867 - val_accuracy: 0.7355\n",
            "Epoch 65/500\n",
            "134/134 [==============================] - 1s 4ms/step - loss: 0.9490 - accuracy: 0.8412 - val_loss: 1.2675 - val_accuracy: 0.7317\n",
            "Epoch 66/500\n",
            "134/134 [==============================] - 1s 4ms/step - loss: 0.9266 - accuracy: 0.8447 - val_loss: 1.2500 - val_accuracy: 0.7392\n",
            "Epoch 67/500\n",
            "134/134 [==============================] - 1s 4ms/step - loss: 0.9059 - accuracy: 0.8487 - val_loss: 1.2347 - val_accuracy: 0.7392\n",
            "Epoch 68/500\n",
            "134/134 [==============================] - 1s 4ms/step - loss: 0.8865 - accuracy: 0.8511 - val_loss: 1.2199 - val_accuracy: 0.7448\n",
            "Epoch 69/500\n",
            "134/134 [==============================] - 1s 4ms/step - loss: 0.8628 - accuracy: 0.8541 - val_loss: 1.2046 - val_accuracy: 0.7467\n",
            "Epoch 70/500\n",
            "134/134 [==============================] - 1s 4ms/step - loss: 0.8436 - accuracy: 0.8612 - val_loss: 1.1869 - val_accuracy: 0.7542\n",
            "Epoch 71/500\n",
            "134/134 [==============================] - 1s 4ms/step - loss: 0.8251 - accuracy: 0.8619 - val_loss: 1.1725 - val_accuracy: 0.7542\n",
            "Epoch 72/500\n",
            "134/134 [==============================] - 1s 4ms/step - loss: 0.8052 - accuracy: 0.8635 - val_loss: 1.1603 - val_accuracy: 0.7523\n",
            "Epoch 73/500\n",
            "134/134 [==============================] - 1s 4ms/step - loss: 0.7888 - accuracy: 0.8701 - val_loss: 1.1468 - val_accuracy: 0.7542\n",
            "Epoch 74/500\n",
            "134/134 [==============================] - 1s 4ms/step - loss: 0.7682 - accuracy: 0.8729 - val_loss: 1.1325 - val_accuracy: 0.7542\n",
            "Epoch 75/500\n",
            "134/134 [==============================] - 1s 4ms/step - loss: 0.7531 - accuracy: 0.8722 - val_loss: 1.1205 - val_accuracy: 0.7580\n",
            "Epoch 76/500\n",
            "134/134 [==============================] - 1s 4ms/step - loss: 0.7379 - accuracy: 0.8743 - val_loss: 1.1087 - val_accuracy: 0.7523\n",
            "Epoch 77/500\n",
            "134/134 [==============================] - 1s 4ms/step - loss: 0.7192 - accuracy: 0.8776 - val_loss: 1.0958 - val_accuracy: 0.7655\n",
            "Epoch 78/500\n",
            "134/134 [==============================] - 1s 4ms/step - loss: 0.7058 - accuracy: 0.8844 - val_loss: 1.0848 - val_accuracy: 0.7617\n",
            "Epoch 79/500\n",
            "134/134 [==============================] - 1s 4ms/step - loss: 0.6887 - accuracy: 0.8846 - val_loss: 1.0725 - val_accuracy: 0.7730\n",
            "Epoch 80/500\n",
            "134/134 [==============================] - 1s 4ms/step - loss: 0.6769 - accuracy: 0.8841 - val_loss: 1.0628 - val_accuracy: 0.7692\n",
            "Epoch 81/500\n",
            "134/134 [==============================] - 1s 6ms/step - loss: 0.6615 - accuracy: 0.8884 - val_loss: 1.0527 - val_accuracy: 0.7767\n",
            "Epoch 82/500\n",
            "134/134 [==============================] - 1s 6ms/step - loss: 0.6435 - accuracy: 0.8928 - val_loss: 1.0417 - val_accuracy: 0.7805\n",
            "Epoch 83/500\n",
            "134/134 [==============================] - 1s 6ms/step - loss: 0.6282 - accuracy: 0.8954 - val_loss: 1.0310 - val_accuracy: 0.7824\n",
            "Epoch 84/500\n",
            "134/134 [==============================] - 1s 5ms/step - loss: 0.6151 - accuracy: 0.8985 - val_loss: 1.0217 - val_accuracy: 0.7805\n",
            "Epoch 85/500\n",
            "134/134 [==============================] - 1s 4ms/step - loss: 0.6048 - accuracy: 0.9003 - val_loss: 1.0146 - val_accuracy: 0.7824\n",
            "Epoch 86/500\n",
            "134/134 [==============================] - 1s 4ms/step - loss: 0.5944 - accuracy: 0.9001 - val_loss: 1.0027 - val_accuracy: 0.7842\n",
            "Epoch 87/500\n",
            "134/134 [==============================] - 1s 4ms/step - loss: 0.5798 - accuracy: 0.9071 - val_loss: 0.9963 - val_accuracy: 0.7842\n",
            "Epoch 88/500\n",
            "134/134 [==============================] - 1s 4ms/step - loss: 0.5633 - accuracy: 0.9064 - val_loss: 0.9858 - val_accuracy: 0.7861\n",
            "Epoch 89/500\n",
            "134/134 [==============================] - 1s 4ms/step - loss: 0.5586 - accuracy: 0.9118 - val_loss: 0.9788 - val_accuracy: 0.7861\n",
            "Epoch 90/500\n",
            "134/134 [==============================] - 1s 4ms/step - loss: 0.5447 - accuracy: 0.9114 - val_loss: 0.9720 - val_accuracy: 0.7899\n",
            "Epoch 91/500\n",
            "134/134 [==============================] - 1s 4ms/step - loss: 0.5293 - accuracy: 0.9160 - val_loss: 0.9624 - val_accuracy: 0.7899\n",
            "Epoch 92/500\n",
            "134/134 [==============================] - 1s 4ms/step - loss: 0.5218 - accuracy: 0.9144 - val_loss: 0.9546 - val_accuracy: 0.7899\n",
            "Epoch 93/500\n",
            "134/134 [==============================] - 1s 4ms/step - loss: 0.5119 - accuracy: 0.9186 - val_loss: 0.9488 - val_accuracy: 0.7936\n",
            "Epoch 94/500\n",
            "134/134 [==============================] - 1s 4ms/step - loss: 0.5027 - accuracy: 0.9198 - val_loss: 0.9394 - val_accuracy: 0.7917\n",
            "Epoch 95/500\n",
            "134/134 [==============================] - 1s 4ms/step - loss: 0.4879 - accuracy: 0.9268 - val_loss: 0.9352 - val_accuracy: 0.7955\n",
            "Epoch 96/500\n",
            "134/134 [==============================] - 1s 4ms/step - loss: 0.4806 - accuracy: 0.9264 - val_loss: 0.9273 - val_accuracy: 0.7936\n",
            "Epoch 97/500\n",
            "134/134 [==============================] - 1s 4ms/step - loss: 0.4701 - accuracy: 0.9301 - val_loss: 0.9194 - val_accuracy: 0.7936\n",
            "Epoch 98/500\n",
            "134/134 [==============================] - 1s 4ms/step - loss: 0.4629 - accuracy: 0.9301 - val_loss: 0.9138 - val_accuracy: 0.7955\n",
            "Epoch 99/500\n",
            "134/134 [==============================] - 1s 4ms/step - loss: 0.4495 - accuracy: 0.9332 - val_loss: 0.9089 - val_accuracy: 0.7955\n",
            "Epoch 100/500\n",
            "134/134 [==============================] - 1s 5ms/step - loss: 0.4437 - accuracy: 0.9341 - val_loss: 0.9029 - val_accuracy: 0.7936\n",
            "Epoch 101/500\n",
            "134/134 [==============================] - 1s 6ms/step - loss: 0.4359 - accuracy: 0.9341 - val_loss: 0.8940 - val_accuracy: 0.7936\n",
            "Epoch 102/500\n",
            "134/134 [==============================] - 1s 7ms/step - loss: 0.4243 - accuracy: 0.9369 - val_loss: 0.8923 - val_accuracy: 0.7992\n",
            "Epoch 103/500\n",
            "134/134 [==============================] - 1s 4ms/step - loss: 0.4177 - accuracy: 0.9383 - val_loss: 0.8863 - val_accuracy: 0.8030\n",
            "Epoch 104/500\n",
            "134/134 [==============================] - 1s 4ms/step - loss: 0.4072 - accuracy: 0.9371 - val_loss: 0.8822 - val_accuracy: 0.7974\n",
            "Epoch 105/500\n",
            "134/134 [==============================] - 1s 4ms/step - loss: 0.4003 - accuracy: 0.9409 - val_loss: 0.8791 - val_accuracy: 0.8049\n",
            "Epoch 106/500\n",
            "134/134 [==============================] - 1s 4ms/step - loss: 0.3925 - accuracy: 0.9447 - val_loss: 0.8707 - val_accuracy: 0.7974\n",
            "Epoch 107/500\n",
            "134/134 [==============================] - 1s 4ms/step - loss: 0.3821 - accuracy: 0.9428 - val_loss: 0.8670 - val_accuracy: 0.8030\n",
            "Epoch 108/500\n",
            "134/134 [==============================] - 1s 4ms/step - loss: 0.3755 - accuracy: 0.9477 - val_loss: 0.8627 - val_accuracy: 0.7992\n",
            "Epoch 109/500\n",
            "134/134 [==============================] - 1s 4ms/step - loss: 0.3726 - accuracy: 0.9470 - val_loss: 0.8539 - val_accuracy: 0.8049\n",
            "Epoch 110/500\n",
            "134/134 [==============================] - 1s 4ms/step - loss: 0.3605 - accuracy: 0.9456 - val_loss: 0.8527 - val_accuracy: 0.8068\n",
            "Epoch 111/500\n",
            "134/134 [==============================] - 1s 4ms/step - loss: 0.3553 - accuracy: 0.9491 - val_loss: 0.8481 - val_accuracy: 0.8086\n",
            "Epoch 112/500\n",
            "134/134 [==============================] - 1s 4ms/step - loss: 0.3481 - accuracy: 0.9517 - val_loss: 0.8423 - val_accuracy: 0.8161\n",
            "Epoch 113/500\n",
            "134/134 [==============================] - 1s 4ms/step - loss: 0.3386 - accuracy: 0.9524 - val_loss: 0.8409 - val_accuracy: 0.8068\n",
            "Epoch 114/500\n",
            "134/134 [==============================] - 1s 4ms/step - loss: 0.3344 - accuracy: 0.9517 - val_loss: 0.8366 - val_accuracy: 0.8086\n",
            "Epoch 115/500\n",
            "134/134 [==============================] - 1s 4ms/step - loss: 0.3263 - accuracy: 0.9536 - val_loss: 0.8304 - val_accuracy: 0.8124\n",
            "Epoch 116/500\n",
            "134/134 [==============================] - 1s 4ms/step - loss: 0.3208 - accuracy: 0.9545 - val_loss: 0.8289 - val_accuracy: 0.8124\n",
            "Epoch 117/500\n",
            "134/134 [==============================] - 1s 4ms/step - loss: 0.3165 - accuracy: 0.9536 - val_loss: 0.8247 - val_accuracy: 0.8124\n",
            "Epoch 118/500\n",
            "134/134 [==============================] - 1s 4ms/step - loss: 0.3066 - accuracy: 0.9573 - val_loss: 0.8213 - val_accuracy: 0.8161\n",
            "Epoch 119/500\n",
            "134/134 [==============================] - 1s 4ms/step - loss: 0.3054 - accuracy: 0.9547 - val_loss: 0.8153 - val_accuracy: 0.8161\n",
            "Epoch 120/500\n",
            "134/134 [==============================] - 1s 5ms/step - loss: 0.3011 - accuracy: 0.9547 - val_loss: 0.8089 - val_accuracy: 0.8236\n",
            "Epoch 121/500\n",
            "134/134 [==============================] - 1s 6ms/step - loss: 0.2908 - accuracy: 0.9604 - val_loss: 0.8092 - val_accuracy: 0.8199\n",
            "Epoch 122/500\n",
            "134/134 [==============================] - 1s 6ms/step - loss: 0.2870 - accuracy: 0.9601 - val_loss: 0.8087 - val_accuracy: 0.8218\n",
            "Epoch 123/500\n",
            "134/134 [==============================] - 1s 6ms/step - loss: 0.2805 - accuracy: 0.9622 - val_loss: 0.8020 - val_accuracy: 0.8180\n",
            "Epoch 124/500\n",
            "134/134 [==============================] - 1s 4ms/step - loss: 0.2729 - accuracy: 0.9629 - val_loss: 0.8004 - val_accuracy: 0.8161\n",
            "Epoch 125/500\n",
            "134/134 [==============================] - 1s 4ms/step - loss: 0.2694 - accuracy: 0.9629 - val_loss: 0.7979 - val_accuracy: 0.8199\n",
            "Epoch 126/500\n",
            "134/134 [==============================] - 1s 4ms/step - loss: 0.2639 - accuracy: 0.9679 - val_loss: 0.7932 - val_accuracy: 0.8218\n",
            "Epoch 127/500\n",
            "134/134 [==============================] - 1s 4ms/step - loss: 0.2584 - accuracy: 0.9674 - val_loss: 0.7946 - val_accuracy: 0.8161\n",
            "Epoch 128/500\n",
            "134/134 [==============================] - 1s 4ms/step - loss: 0.2569 - accuracy: 0.9665 - val_loss: 0.7893 - val_accuracy: 0.8255\n",
            "Epoch 129/500\n",
            "134/134 [==============================] - 1s 4ms/step - loss: 0.2481 - accuracy: 0.9665 - val_loss: 0.7882 - val_accuracy: 0.8180\n",
            "Epoch 130/500\n",
            "134/134 [==============================] - 1s 4ms/step - loss: 0.2444 - accuracy: 0.9688 - val_loss: 0.7857 - val_accuracy: 0.8161\n",
            "Epoch 131/500\n",
            "134/134 [==============================] - 1s 4ms/step - loss: 0.2407 - accuracy: 0.9697 - val_loss: 0.7820 - val_accuracy: 0.8236\n",
            "Epoch 132/500\n",
            "134/134 [==============================] - 1s 4ms/step - loss: 0.2351 - accuracy: 0.9712 - val_loss: 0.7773 - val_accuracy: 0.8293\n",
            "Epoch 133/500\n",
            "134/134 [==============================] - 1s 4ms/step - loss: 0.2303 - accuracy: 0.9716 - val_loss: 0.7764 - val_accuracy: 0.8293\n",
            "Epoch 134/500\n",
            "134/134 [==============================] - 1s 4ms/step - loss: 0.2263 - accuracy: 0.9730 - val_loss: 0.7738 - val_accuracy: 0.8311\n",
            "Epoch 135/500\n",
            "134/134 [==============================] - 1s 4ms/step - loss: 0.2228 - accuracy: 0.9751 - val_loss: 0.7717 - val_accuracy: 0.8330\n",
            "Epoch 136/500\n",
            "134/134 [==============================] - 1s 4ms/step - loss: 0.2155 - accuracy: 0.9754 - val_loss: 0.7689 - val_accuracy: 0.8311\n",
            "Epoch 137/500\n",
            "134/134 [==============================] - 1s 4ms/step - loss: 0.2138 - accuracy: 0.9761 - val_loss: 0.7686 - val_accuracy: 0.8330\n",
            "Epoch 138/500\n",
            "134/134 [==============================] - 1s 4ms/step - loss: 0.2092 - accuracy: 0.9747 - val_loss: 0.7644 - val_accuracy: 0.8405\n",
            "Epoch 139/500\n",
            "134/134 [==============================] - 1s 4ms/step - loss: 0.2078 - accuracy: 0.9775 - val_loss: 0.7629 - val_accuracy: 0.8368\n",
            "Epoch 140/500\n",
            "134/134 [==============================] - 1s 4ms/step - loss: 0.2032 - accuracy: 0.9758 - val_loss: 0.7623 - val_accuracy: 0.8368\n",
            "Epoch 141/500\n",
            "134/134 [==============================] - 1s 5ms/step - loss: 0.1974 - accuracy: 0.9763 - val_loss: 0.7597 - val_accuracy: 0.8405\n",
            "Epoch 142/500\n",
            "134/134 [==============================] - 1s 6ms/step - loss: 0.1936 - accuracy: 0.9782 - val_loss: 0.7573 - val_accuracy: 0.8405\n",
            "Epoch 143/500\n",
            "134/134 [==============================] - 1s 6ms/step - loss: 0.1894 - accuracy: 0.9801 - val_loss: 0.7515 - val_accuracy: 0.8424\n",
            "Epoch 144/500\n",
            "134/134 [==============================] - 1s 6ms/step - loss: 0.1884 - accuracy: 0.9791 - val_loss: 0.7522 - val_accuracy: 0.8424\n",
            "Epoch 145/500\n",
            "134/134 [==============================] - 1s 4ms/step - loss: 0.1822 - accuracy: 0.9819 - val_loss: 0.7518 - val_accuracy: 0.8424\n",
            "Epoch 146/500\n",
            "134/134 [==============================] - 1s 4ms/step - loss: 0.1823 - accuracy: 0.9803 - val_loss: 0.7491 - val_accuracy: 0.8405\n",
            "Epoch 147/500\n",
            "134/134 [==============================] - 1s 4ms/step - loss: 0.1747 - accuracy: 0.9819 - val_loss: 0.7488 - val_accuracy: 0.8405\n",
            "Epoch 148/500\n",
            "134/134 [==============================] - 1s 4ms/step - loss: 0.1722 - accuracy: 0.9829 - val_loss: 0.7471 - val_accuracy: 0.8424\n",
            "Epoch 149/500\n",
            "134/134 [==============================] - 1s 4ms/step - loss: 0.1695 - accuracy: 0.9824 - val_loss: 0.7440 - val_accuracy: 0.8462\n",
            "Epoch 150/500\n",
            "134/134 [==============================] - 1s 4ms/step - loss: 0.1682 - accuracy: 0.9833 - val_loss: 0.7419 - val_accuracy: 0.8405\n",
            "Epoch 151/500\n",
            "134/134 [==============================] - 1s 4ms/step - loss: 0.1605 - accuracy: 0.9859 - val_loss: 0.7417 - val_accuracy: 0.8443\n",
            "Epoch 152/500\n",
            "134/134 [==============================] - 1s 4ms/step - loss: 0.1588 - accuracy: 0.9833 - val_loss: 0.7393 - val_accuracy: 0.8443\n",
            "Epoch 153/500\n",
            "134/134 [==============================] - 1s 4ms/step - loss: 0.1580 - accuracy: 0.9852 - val_loss: 0.7394 - val_accuracy: 0.8405\n",
            "Epoch 154/500\n",
            "134/134 [==============================] - 1s 4ms/step - loss: 0.1543 - accuracy: 0.9855 - val_loss: 0.7360 - val_accuracy: 0.8443\n",
            "Epoch 155/500\n",
            "134/134 [==============================] - 1s 4ms/step - loss: 0.1542 - accuracy: 0.9843 - val_loss: 0.7351 - val_accuracy: 0.8424\n",
            "Epoch 156/500\n",
            "134/134 [==============================] - 1s 4ms/step - loss: 0.1477 - accuracy: 0.9862 - val_loss: 0.7382 - val_accuracy: 0.8424\n",
            "Epoch 157/500\n",
            "134/134 [==============================] - 1s 4ms/step - loss: 0.1468 - accuracy: 0.9862 - val_loss: 0.7315 - val_accuracy: 0.8424\n",
            "Epoch 158/500\n",
            "134/134 [==============================] - 1s 4ms/step - loss: 0.1424 - accuracy: 0.9871 - val_loss: 0.7323 - val_accuracy: 0.8443\n",
            "Epoch 159/500\n",
            "134/134 [==============================] - 1s 4ms/step - loss: 0.1397 - accuracy: 0.9876 - val_loss: 0.7295 - val_accuracy: 0.8443\n",
            "Epoch 160/500\n",
            "134/134 [==============================] - 1s 4ms/step - loss: 0.1409 - accuracy: 0.9883 - val_loss: 0.7300 - val_accuracy: 0.8386\n",
            "Epoch 161/500\n",
            "134/134 [==============================] - 1s 4ms/step - loss: 0.1328 - accuracy: 0.9887 - val_loss: 0.7300 - val_accuracy: 0.8424\n",
            "Epoch 162/500\n",
            "134/134 [==============================] - 1s 4ms/step - loss: 0.1336 - accuracy: 0.9871 - val_loss: 0.7232 - val_accuracy: 0.8480\n",
            "Epoch 163/500\n",
            "134/134 [==============================] - 1s 6ms/step - loss: 0.1289 - accuracy: 0.9902 - val_loss: 0.7200 - val_accuracy: 0.8462\n",
            "Epoch 164/500\n",
            "134/134 [==============================] - 1s 6ms/step - loss: 0.1248 - accuracy: 0.9883 - val_loss: 0.7230 - val_accuracy: 0.8480\n",
            "Epoch 165/500\n",
            "134/134 [==============================] - 1s 7ms/step - loss: 0.1261 - accuracy: 0.9894 - val_loss: 0.7223 - val_accuracy: 0.8480\n",
            "Epoch 166/500\n",
            "134/134 [==============================] - 1s 5ms/step - loss: 0.1239 - accuracy: 0.9885 - val_loss: 0.7262 - val_accuracy: 0.8443\n",
            "Epoch 167/500\n",
            "134/134 [==============================] - 1s 4ms/step - loss: 0.1197 - accuracy: 0.9887 - val_loss: 0.7207 - val_accuracy: 0.8462\n",
            "Epoch 168/500\n",
            "134/134 [==============================] - 1s 4ms/step - loss: 0.1145 - accuracy: 0.9894 - val_loss: 0.7169 - val_accuracy: 0.8499\n",
            "Epoch 169/500\n",
            "134/134 [==============================] - 1s 4ms/step - loss: 0.1154 - accuracy: 0.9904 - val_loss: 0.7205 - val_accuracy: 0.8499\n",
            "Epoch 170/500\n",
            "134/134 [==============================] - 1s 4ms/step - loss: 0.1137 - accuracy: 0.9904 - val_loss: 0.7175 - val_accuracy: 0.8499\n",
            "Epoch 171/500\n",
            "134/134 [==============================] - 1s 4ms/step - loss: 0.1117 - accuracy: 0.9894 - val_loss: 0.7141 - val_accuracy: 0.8462\n",
            "Epoch 172/500\n",
            "134/134 [==============================] - 1s 4ms/step - loss: 0.1116 - accuracy: 0.9913 - val_loss: 0.7153 - val_accuracy: 0.8480\n",
            "Epoch 173/500\n",
            "134/134 [==============================] - 1s 4ms/step - loss: 0.1082 - accuracy: 0.9906 - val_loss: 0.7187 - val_accuracy: 0.8518\n",
            "Epoch 174/500\n",
            "134/134 [==============================] - 1s 4ms/step - loss: 0.1046 - accuracy: 0.9927 - val_loss: 0.7193 - val_accuracy: 0.8480\n",
            "Epoch 175/500\n",
            "134/134 [==============================] - 1s 4ms/step - loss: 0.1013 - accuracy: 0.9920 - val_loss: 0.7165 - val_accuracy: 0.8386\n",
            "Epoch 176/500\n",
            "134/134 [==============================] - 1s 4ms/step - loss: 0.1023 - accuracy: 0.9904 - val_loss: 0.7129 - val_accuracy: 0.8462\n",
            "Epoch 177/500\n",
            "134/134 [==============================] - 1s 4ms/step - loss: 0.0998 - accuracy: 0.9937 - val_loss: 0.7163 - val_accuracy: 0.8462\n",
            "Epoch 178/500\n",
            "134/134 [==============================] - 1s 4ms/step - loss: 0.0958 - accuracy: 0.9925 - val_loss: 0.7072 - val_accuracy: 0.8462\n",
            "Epoch 179/500\n",
            "134/134 [==============================] - 1s 4ms/step - loss: 0.0941 - accuracy: 0.9930 - val_loss: 0.7167 - val_accuracy: 0.8443\n",
            "Epoch 180/500\n",
            "134/134 [==============================] - 1s 4ms/step - loss: 0.0936 - accuracy: 0.9937 - val_loss: 0.7148 - val_accuracy: 0.8480\n",
            "Epoch 181/500\n",
            "134/134 [==============================] - 1s 4ms/step - loss: 0.0923 - accuracy: 0.9937 - val_loss: 0.7138 - val_accuracy: 0.8424\n",
            "Epoch 182/500\n",
            "134/134 [==============================] - 1s 4ms/step - loss: 0.0909 - accuracy: 0.9934 - val_loss: 0.7102 - val_accuracy: 0.8462\n",
            "Epoch 183/500\n",
            "134/134 [==============================] - 1s 5ms/step - loss: 0.0890 - accuracy: 0.9941 - val_loss: 0.7105 - val_accuracy: 0.8462\n",
            "Epoch 183: early stopping\n"
          ]
        }
      ]
    },
    {
      "cell_type": "code",
      "source": [
        "# printing loss and accuracy of the model on the test set\n",
        "loss, accuracy = model.evaluate(test_ds)\n",
        "print(\"Loss: \", loss)\n",
        "print(\"Accuracy: \", accuracy)"
      ],
      "metadata": {
        "colab": {
          "base_uri": "https://localhost:8080/"
        },
        "id": "FksY9EwwHDkd",
        "outputId": "03523ff0-05ed-46e7-b63d-23664641d22a"
      },
      "execution_count": 112,
      "outputs": [
        {
          "output_type": "stream",
          "name": "stdout",
          "text": [
            "17/17 [==============================] - 0s 3ms/step - loss: 0.7093 - accuracy: 0.8424\n",
            "Loss:  0.7093449831008911\n",
            "Accuracy:  0.8424015045166016\n"
          ]
        }
      ]
    },
    {
      "cell_type": "code",
      "source": [
        "# extracting the history of training and its keys\n",
        "history_dict = history.history\n",
        "history_dict.keys()"
      ],
      "metadata": {
        "colab": {
          "base_uri": "https://localhost:8080/"
        },
        "id": "cPdyDruxHIv1",
        "outputId": "43550cfa-d0c0-437e-ff9d-cfb1e6a867f8"
      },
      "execution_count": 114,
      "outputs": [
        {
          "output_type": "execute_result",
          "data": {
            "text/plain": [
              "dict_keys(['loss', 'accuracy', 'val_loss', 'val_accuracy'])"
            ]
          },
          "metadata": {},
          "execution_count": 114
        }
      ]
    },
    {
      "cell_type": "code",
      "source": [
        "acc = history_dict['accuracy']\n",
        "val_acc = history_dict['val_accuracy']\n",
        "loss = history_dict['loss']\n",
        "val_loss = history_dict['val_loss']\n",
        "\n",
        "epochs = range(1, len(acc) + 1)"
      ],
      "metadata": {
        "id": "shbF_xRlHDqZ"
      },
      "execution_count": 115,
      "outputs": []
    },
    {
      "cell_type": "code",
      "source": [
        "# ploting of loss\n",
        "plt.plot(epochs, loss, 'b', label='Training loss')\n",
        "plt.plot(epochs, val_loss, 'r', label='Validation loss')\n",
        "plt.title('Training and validation loss')\n",
        "plt.xlabel('Epochs')\n",
        "plt.ylabel('Loss')\n",
        "plt.legend()\n",
        "plt.show()"
      ],
      "metadata": {
        "colab": {
          "base_uri": "https://localhost:8080/",
          "height": 295
        },
        "id": "iLsoTgHGP7Oq",
        "outputId": "17edbecc-11fe-412c-8560-072771572ac6"
      },
      "execution_count": 116,
      "outputs": [
        {
          "output_type": "display_data",
          "data": {
            "text/plain": [
              "<Figure size 432x288 with 1 Axes>"
            ],
            "image/png": "[encoded data removed]"
          },
          "metadata": {
            "needs_background": "light"
          }
        }
      ]
    },
    {
      "cell_type": "code",
      "source": [
        "# plotting of accuracy\n",
        "plt.plot(epochs, acc, 'b', label='Training acc')\n",
        "plt.plot(epochs, val_acc, 'r', label='Validation acc')\n",
        "plt.title('Training and validation accuracy')\n",
        "plt.xlabel('Epochs')\n",
        "plt.ylabel('Accuracy')\n",
        "plt.legend(loc='lower right')\n",
        "plt.show()"
      ],
      "metadata": {
        "colab": {
          "base_uri": "https://localhost:8080/",
          "height": 295
        },
        "id": "1uWqq-CtP-Lq",
        "outputId": "4de1b563-6de6-4ac0-be2b-664ca6c32301"
      },
      "execution_count": 117,
      "outputs": [
        {
          "output_type": "display_data",
          "data": {
            "text/plain": [
              "<Figure size 432x288 with 1 Axes>"
            ],
            "image/png": "[encoded data removed]"
          },
          "metadata": {
            "needs_background": "light"
          }
        }
      ]
    },
    {
      "cell_type": "code",
      "source": [
        "# creating the probability model for testing\n",
        "probability_model = tf.keras.Sequential([model, tf.keras.layers.Softmax()])\n",
        "\n",
        "# predicting test samples\n",
        "predictions = probability_model.predict(raw_test_batch.map(vectorize_text))"
      ],
      "metadata": {
        "id": "YQj61lIMvX-Y"
      },
      "execution_count": null,
      "outputs": []
    },
    {
      "cell_type": "code",
      "source": [
        "# showing the first test sample result label\n",
        "np.argmax(predictions[0])"
      ],
      "metadata": {
        "colab": {
          "base_uri": "https://localhost:8080/"
        },
        "id": "5cbhBKR7NYPQ",
        "outputId": "bef0bf87-3b86-4ce1-ec4a-d28ee596ca16"
      },
      "execution_count": null,
      "outputs": [
        {
          "output_type": "execute_result",
          "data": {
            "text/plain": [
              "12"
            ]
          },
          "metadata": {},
          "execution_count": 28
        }
      ]
    },
    {
      "cell_type": "code",
      "source": [
        "# showing the true label of the first test sample\n",
        "test_df.iloc[0]"
      ],
      "metadata": {
        "colab": {
          "base_uri": "https://localhost:8080/"
        },
        "id": "aNsnTWVuu3xj",
        "outputId": "a5ce8035-f6b0-44b5-95ed-8d30c222029c"
      },
      "execution_count": null,
      "outputs": [
        {
          "output_type": "execute_result",
          "data": {
            "text/plain": [
              "text         herschel sulfur spring olive night reflective ...\n",
              "label                                           Luggage & Bags\n",
              "label_int                                                   12\n",
              "Name: 3686, dtype: object"
            ]
          },
          "metadata": {},
          "execution_count": 29
        }
      ]
    },
    {
      "cell_type": "code",
      "source": [],
      "metadata": {
        "id": "bOt2UPu7NbUW"
      },
      "execution_count": null,
      "outputs": []
    },
    {
      "cell_type": "markdown",
      "source": [
        "**Author:** https://farrokhkarimi.github.io/"
      ],
      "metadata": {
        "id": "CSw7kwIQipyc"
      }
    },
    {
      "cell_type": "code",
      "source": [
        "import nltk\n",
        "import random\n",
        "from nltk.tokenize import word_tokenize\n",
        "from nltk.corpus import wordnet\n",
        "\n",
        "# define a function for synonym replacement\n",
        "def synonym_replacement(text, n=1):\n",
        "    tokens = word_tokenize(text)\n",
        "    new_tokens = list(tokens)\n",
        "    random_word_list = list(set([word for word in tokens if word not in nltk.corpus.stopwords.words('english')]))\n",
        "    random.shuffle(random_word_list)\n",
        "    num_replaced = 0\n",
        "    for random_word in random_word_list:\n",
        "        synonyms = wordnet.synsets(random_word)\n",
        "        if len(synonyms) >= 1:\n",
        "            synonym = synonyms[0].lemmas()[0].name()\n",
        "            if synonym != random_word:\n",
        "                new_tokens = [synonym if token == random_word else token for token in new_tokens]\n",
        "                num_replaced += 1\n",
        "        if num_replaced >= n:\n",
        "            break\n",
        "    new_text = ' '.join(new_tokens)\n",
        "    return new_text\n",
        "\n",
        "# define a function for random insertion\n",
        "def random_insertion(text, n=1):\n",
        "    tokens = word_tokenize(text)\n",
        "    new_tokens = list(tokens)\n",
        "    for i in range(n):\n",
        "        new_word = random.choice(tokens)\n",
        "        new_tokens.insert(random.randint(0, len(new_tokens)-1), new_word)\n",
        "    new_text = ' '.join(new_tokens)\n",
        "    return new_text\n",
        "\n",
        "# # define a function for random deletion\n",
        "# def random_deletion(text, p=0.5):\n",
        "#     tokens = word_tokenize(text)\n",
        "#     new_tokens = list(tokens)\n",
        "#     for i in range(len(tokens)):\n",
        "#         if random.uniform(0, 1) < p:\n",
        "#             del new_tokens[i]\n",
        "#     new_text = ' '.join(new_tokens)\n",
        "#     return new_text\n",
        "\n",
        "# example usage of text data augmentation functions\n",
        "text = \"This is an example sentence for text data augmentation.\"\n",
        "augmented_text = synonym_replacement(text)\n",
        "print(\"Synonym replacement:\", augmented_text)\n",
        "augmented_text = random_insertion(text)\n",
        "print(\"Random insertion:\", augmented_text)\n",
        "\n"
      ],
      "metadata": {
        "colab": {
          "base_uri": "https://localhost:8080/"
        },
        "id": "SO_JEFtaCerG",
        "outputId": "aa4b1e13-dc91-4908-86e0-ebcd26334a43"
      },
      "execution_count": 22,
      "outputs": [
        {
          "output_type": "stream",
          "name": "stdout",
          "text": [
            "Synonym replacement: This is an example sentence for text data augmentation .\n",
            "Random insertion: This sentence is an example sentence for text data augmentation .\n"
          ]
        }
      ]
    }
  ]
}