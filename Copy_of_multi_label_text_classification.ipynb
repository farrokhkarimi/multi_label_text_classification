{
  "nbformat": 4,
  "nbformat_minor": 0,
  "metadata": {
    "colab": {
      "provenance": [],
      "toc_visible": true,
      "include_colab_link": true
    },
    "kernelspec": {
      "name": "python3",
      "display_name": "Python 3"
    },
    "language_info": {
      "name": "python"
    },
    "accelerator": "GPU",
    "gpuClass": "standard"
  },
  "cells": [
    {
      "cell_type": "markdown",
      "metadata": {
        "id": "view-in-github",
        "colab_type": "text"
      },
      "source": [
        "<a href=\"https://colab.research.google.com/github/DelaramRajaei/multi_label_text_classification/blob/main/Copy_of_multi_label_text_classification.ipynb\" target=\"_parent\"><img src=\"https://colab.research.google.com/assets/colab-badge.svg\" alt=\"Open In Colab\"/></a>"
      ]
    },
    {
      "cell_type": "markdown",
      "source": [
        "# Multi-label text classification\n"
      ],
      "metadata": {
        "id": "pJI5jQ-E_R57"
      }
    },
    {
      "cell_type": "markdown",
      "source": [
        "## Information"
      ],
      "metadata": {
        "id": "Si3yCKEc_V1t"
      }
    },
    {
      "cell_type": "markdown",
      "source": [
        "\n",
        "**Author:** [Farrokh Karimi](https://farrokhkarimi.github.io/)  \n",
        "**Edited By:** [Delaram Rajaei](https://delaramrajaei.github.io/)  \n",
        "**Description:** In this notebook, we want to classify the Ronash dataset into 20 category."
      ],
      "metadata": {
        "id": "Bij91pNWQOR5"
      }
    },
    {
      "cell_type": "markdown",
      "source": [
        "## Imports"
      ],
      "metadata": {
        "id": "Nmx2G1SO_Kc3"
      }
    },
    {
      "cell_type": "code",
      "source": [
        "# Imports\n",
        "import matplotlib.pyplot as plt\n",
        "import numpy as np\n",
        "import pandas as pd\n",
        "import re\n",
        "import tensorflow as tf\n",
        "\n",
        "from collections import Counter\n",
        "from sklearn.model_selection import train_test_split\n",
        "from tensorflow.keras import layers"
      ],
      "metadata": {
        "id": "sL739kMAEsU9"
      },
      "execution_count": null,
      "outputs": []
    },
    {
      "cell_type": "markdown",
      "source": [
        "## Download Dataset"
      ],
      "metadata": {
        "id": "YoJXSBbv_zEx"
      }
    },
    {
      "cell_type": "code",
      "source": [
        "# downloading Data from the Google Drive link\n",
        "!gdown 1Yq3XTnACkvaIiNlhX09Zth55nOau7jQy"
      ],
      "metadata": {
        "colab": {
          "base_uri": "https://localhost:8080/"
        },
        "id": "SHa9m3aLEbyP",
        "outputId": "e20e178c-1f22-4e84-a184-a2ab572a7dd6"
      },
      "execution_count": null,
      "outputs": [
        {
          "output_type": "stream",
          "name": "stdout",
          "text": [
            "Downloading...\n",
            "From: https://drive.google.com/uc?id=1Yq3XTnACkvaIiNlhX09Zth55nOau7jQy\n",
            "To: /content/Ronash_DS_Assignment.csv\n",
            "\r  0% 0.00/1.05M [00:00<?, ?B/s]\r100% 1.05M/1.05M [00:00<00:00, 148MB/s]\n"
          ]
        }
      ]
    },
    {
      "cell_type": "code",
      "source": [
        "ls"
      ],
      "metadata": {
        "colab": {
          "base_uri": "https://localhost:8080/"
        },
        "id": "6QpBuoWrC5QS",
        "outputId": "f16a218f-560f-452b-cbf2-94ff466fcdb0"
      },
      "execution_count": null,
      "outputs": [
        {
          "output_type": "stream",
          "name": "stdout",
          "text": [
            "Ronash_DS_Assignment.csv  \u001b[0m\u001b[01;34msample_data\u001b[0m/\n"
          ]
        }
      ]
    },
    {
      "cell_type": "code",
      "source": [
        "# reading the csv file as a dataframe\n",
        "df = pd.read_csv('Ronash_DS_Assignment.csv')\n",
        "df"
      ],
      "metadata": {
        "colab": {
          "base_uri": "https://localhost:8080/",
          "height": 424
        },
        "id": "722bMOmzF4_H",
        "outputId": "8d4371c6-732c-4c53-b0c2-1f7c188cceaa"
      },
      "execution_count": null,
      "outputs": [
        {
          "output_type": "execute_result",
          "data": {
            "text/plain": [
              "         product_id                                              title  \\\n",
              "0     3937721221199    Fidele Super Premium Adult Large Breed Dog Food   \n",
              "1     7353058033889                    Foldable Pet Toys Linen Storage   \n",
              "2     6594773549129                                     Bok Dok Diaper   \n",
              "3     4802008318014                              Tastybone Toy Chicken   \n",
              "4     1779705151539                Leather Leash Tab - Short Dog Leash   \n",
              "...             ...                                                ...   \n",
              "5265  4637089464407                              Candylab MOO Milk Van   \n",
              "5266  4996632444987  Truck - Modern Era Vehicles -- Red, White -  S...   \n",
              "5267  5528541003927  Car Sticker Flags Decal American Flag Sticker for   \n",
              "5268  1395163889730          Lazer Helmets Bayamo Pit Bull - Full Face   \n",
              "5269  3535679324240                             Deutz Agrotron Tractor   \n",
              "\n",
              "                 vendor                                               tags  \\\n",
              "0                Fidele  ['Adult', 'Bangalore', 'Chennai', 'Chicken', '...   \n",
              "1             Cap Point                                                 []   \n",
              "2             Pets Home  ['Brand_Pet Arabia', 'Category_Pets Home', 'Ca...   \n",
              "3             TastyBone                                                 []   \n",
              "4            Mighty Paw                 ['Leash', 'Leash Tab', 'Training']   \n",
              "...                 ...                                                ...   \n",
              "5265           Candylab  ['3 Years +', 'candylab', 'Discount Products',...   \n",
              "5266   Woodland Scenics  ['HO Scale', 'ho-scale-items', 'vehicles', 'wo...   \n",
              "5267        Cyan Selene                                          ['Other']   \n",
              "5268  OPEN BOX BARGAINS  ['65061090', 'Antiscratch Pinlock Ready Visor'...   \n",
              "5269               Siku  ['$0 to $25', 'diecast-models', 'gift-finder',...   \n",
              "\n",
              "                    category  \n",
              "0     Animals & Pet Supplies  \n",
              "1     Animals & Pet Supplies  \n",
              "2     Animals & Pet Supplies  \n",
              "3     Animals & Pet Supplies  \n",
              "4     Animals & Pet Supplies  \n",
              "...                      ...  \n",
              "5265        Vehicles & Parts  \n",
              "5266        Vehicles & Parts  \n",
              "5267        Vehicles & Parts  \n",
              "5268        Vehicles & Parts  \n",
              "5269        Vehicles & Parts  \n",
              "\n",
              "[5270 rows x 5 columns]"
            ],
            "text/html": [
              "\n",
              "  <div id=\"df-f27ce45f-546f-4025-a65d-c4f48d91d00e\">\n",
              "    <div class=\"colab-df-container\">\n",
              "      <div>\n",
              "<style scoped>\n",
              "    .dataframe tbody tr th:only-of-type {\n",
              "        vertical-align: middle;\n",
              "    }\n",
              "\n",
              "    .dataframe tbody tr th {\n",
              "        vertical-align: top;\n",
              "    }\n",
              "\n",
              "    .dataframe thead th {\n",
              "        text-align: right;\n",
              "    }\n",
              "</style>\n",
              "<table border=\"1\" class=\"dataframe\">\n",
              "  <thead>\n",
              "    <tr style=\"text-align: right;\">\n",
              "      <th></th>\n",
              "      <th>product_id</th>\n",
              "      <th>title</th>\n",
              "      <th>vendor</th>\n",
              "      <th>tags</th>\n",
              "      <th>category</th>\n",
              "    </tr>\n",
              "  </thead>\n",
              "  <tbody>\n",
              "    <tr>\n",
              "      <th>0</th>\n",
              "      <td>3937721221199</td>\n",
              "      <td>Fidele Super Premium Adult Large Breed Dog Food</td>\n",
              "      <td>Fidele</td>\n",
              "      <td>['Adult', 'Bangalore', 'Chennai', 'Chicken', '...</td>\n",
              "      <td>Animals &amp; Pet Supplies</td>\n",
              "    </tr>\n",
              "    <tr>\n",
              "      <th>1</th>\n",
              "      <td>7353058033889</td>\n",
              "      <td>Foldable Pet Toys Linen Storage</td>\n",
              "      <td>Cap Point</td>\n",
              "      <td>[]</td>\n",
              "      <td>Animals &amp; Pet Supplies</td>\n",
              "    </tr>\n",
              "    <tr>\n",
              "      <th>2</th>\n",
              "      <td>6594773549129</td>\n",
              "      <td>Bok Dok Diaper</td>\n",
              "      <td>Pets Home</td>\n",
              "      <td>['Brand_Pet Arabia', 'Category_Pets Home', 'Ca...</td>\n",
              "      <td>Animals &amp; Pet Supplies</td>\n",
              "    </tr>\n",
              "    <tr>\n",
              "      <th>3</th>\n",
              "      <td>4802008318014</td>\n",
              "      <td>Tastybone Toy Chicken</td>\n",
              "      <td>TastyBone</td>\n",
              "      <td>[]</td>\n",
              "      <td>Animals &amp; Pet Supplies</td>\n",
              "    </tr>\n",
              "    <tr>\n",
              "      <th>4</th>\n",
              "      <td>1779705151539</td>\n",
              "      <td>Leather Leash Tab - Short Dog Leash</td>\n",
              "      <td>Mighty Paw</td>\n",
              "      <td>['Leash', 'Leash Tab', 'Training']</td>\n",
              "      <td>Animals &amp; Pet Supplies</td>\n",
              "    </tr>\n",
              "    <tr>\n",
              "      <th>...</th>\n",
              "      <td>...</td>\n",
              "      <td>...</td>\n",
              "      <td>...</td>\n",
              "      <td>...</td>\n",
              "      <td>...</td>\n",
              "    </tr>\n",
              "    <tr>\n",
              "      <th>5265</th>\n",
              "      <td>4637089464407</td>\n",
              "      <td>Candylab MOO Milk Van</td>\n",
              "      <td>Candylab</td>\n",
              "      <td>['3 Years +', 'candylab', 'Discount Products',...</td>\n",
              "      <td>Vehicles &amp; Parts</td>\n",
              "    </tr>\n",
              "    <tr>\n",
              "      <th>5266</th>\n",
              "      <td>4996632444987</td>\n",
              "      <td>Truck - Modern Era Vehicles -- Red, White -  S...</td>\n",
              "      <td>Woodland Scenics</td>\n",
              "      <td>['HO Scale', 'ho-scale-items', 'vehicles', 'wo...</td>\n",
              "      <td>Vehicles &amp; Parts</td>\n",
              "    </tr>\n",
              "    <tr>\n",
              "      <th>5267</th>\n",
              "      <td>5528541003927</td>\n",
              "      <td>Car Sticker Flags Decal American Flag Sticker for</td>\n",
              "      <td>Cyan Selene</td>\n",
              "      <td>['Other']</td>\n",
              "      <td>Vehicles &amp; Parts</td>\n",
              "    </tr>\n",
              "    <tr>\n",
              "      <th>5268</th>\n",
              "      <td>1395163889730</td>\n",
              "      <td>Lazer Helmets Bayamo Pit Bull - Full Face</td>\n",
              "      <td>OPEN BOX BARGAINS</td>\n",
              "      <td>['65061090', 'Antiscratch Pinlock Ready Visor'...</td>\n",
              "      <td>Vehicles &amp; Parts</td>\n",
              "    </tr>\n",
              "    <tr>\n",
              "      <th>5269</th>\n",
              "      <td>3535679324240</td>\n",
              "      <td>Deutz Agrotron Tractor</td>\n",
              "      <td>Siku</td>\n",
              "      <td>['$0 to $25', 'diecast-models', 'gift-finder',...</td>\n",
              "      <td>Vehicles &amp; Parts</td>\n",
              "    </tr>\n",
              "  </tbody>\n",
              "</table>\n",
              "<p>5270 rows × 5 columns</p>\n",
              "</div>\n",
              "      <button class=\"colab-df-convert\" onclick=\"convertToInteractive('df-f27ce45f-546f-4025-a65d-c4f48d91d00e')\"\n",
              "              title=\"Convert this dataframe to an interactive table.\"\n",
              "              style=\"display:none;\">\n",
              "        \n",
              "  <svg xmlns=\"http://www.w3.org/2000/svg\" height=\"24px\"viewBox=\"0 0 24 24\"\n",
              "       width=\"24px\">\n",
              "    <path d=\"M0 0h24v24H0V0z\" fill=\"none\"/>\n",
              "    <path d=\"M18.56 5.44l.94 2.06.94-2.06 2.06-.94-2.06-.94-.94-2.06-.94 2.06-2.06.94zm-11 1L8.5 8.5l.94-2.06 2.06-.94-2.06-.94L8.5 2.5l-.94 2.06-2.06.94zm10 10l.94 2.06.94-2.06 2.06-.94-2.06-.94-.94-2.06-.94 2.06-2.06.94z\"/><path d=\"M17.41 7.96l-1.37-1.37c-.4-.4-.92-.59-1.43-.59-.52 0-1.04.2-1.43.59L10.3 9.45l-7.72 7.72c-.78.78-.78 2.05 0 2.83L4 21.41c.39.39.9.59 1.41.59.51 0 1.02-.2 1.41-.59l7.78-7.78 2.81-2.81c.8-.78.8-2.07 0-2.86zM5.41 20L4 18.59l7.72-7.72 1.47 1.35L5.41 20z\"/>\n",
              "  </svg>\n",
              "      </button>\n",
              "      \n",
              "  <style>\n",
              "    .colab-df-container {\n",
              "      display:flex;\n",
              "      flex-wrap:wrap;\n",
              "      gap: 12px;\n",
              "    }\n",
              "\n",
              "    .colab-df-convert {\n",
              "      background-color: #E8F0FE;\n",
              "      border: none;\n",
              "      border-radius: 50%;\n",
              "      cursor: pointer;\n",
              "      display: none;\n",
              "      fill: #1967D2;\n",
              "      height: 32px;\n",
              "      padding: 0 0 0 0;\n",
              "      width: 32px;\n",
              "    }\n",
              "\n",
              "    .colab-df-convert:hover {\n",
              "      background-color: #E2EBFA;\n",
              "      box-shadow: 0px 1px 2px rgba(60, 64, 67, 0.3), 0px 1px 3px 1px rgba(60, 64, 67, 0.15);\n",
              "      fill: #174EA6;\n",
              "    }\n",
              "\n",
              "    [theme=dark] .colab-df-convert {\n",
              "      background-color: #3B4455;\n",
              "      fill: #D2E3FC;\n",
              "    }\n",
              "\n",
              "    [theme=dark] .colab-df-convert:hover {\n",
              "      background-color: #434B5C;\n",
              "      box-shadow: 0px 1px 3px 1px rgba(0, 0, 0, 0.15);\n",
              "      filter: drop-shadow(0px 1px 2px rgba(0, 0, 0, 0.3));\n",
              "      fill: #FFFFFF;\n",
              "    }\n",
              "  </style>\n",
              "\n",
              "      <script>\n",
              "        const buttonEl =\n",
              "          document.querySelector('#df-f27ce45f-546f-4025-a65d-c4f48d91d00e button.colab-df-convert');\n",
              "        buttonEl.style.display =\n",
              "          google.colab.kernel.accessAllowed ? 'block' : 'none';\n",
              "\n",
              "        async function convertToInteractive(key) {\n",
              "          const element = document.querySelector('#df-f27ce45f-546f-4025-a65d-c4f48d91d00e');\n",
              "          const dataTable =\n",
              "            await google.colab.kernel.invokeFunction('convertToInteractive',\n",
              "                                                     [key], {});\n",
              "          if (!dataTable) return;\n",
              "\n",
              "          const docLinkHtml = 'Like what you see? Visit the ' +\n",
              "            '<a target=\"_blank\" href=https://colab.research.google.com/notebooks/data_table.ipynb>data table notebook</a>'\n",
              "            + ' to learn more about interactive tables.';\n",
              "          element.innerHTML = '';\n",
              "          dataTable['output_type'] = 'display_data';\n",
              "          await google.colab.output.renderOutput(dataTable, element);\n",
              "          const docLink = document.createElement('div');\n",
              "          docLink.innerHTML = docLinkHtml;\n",
              "          element.appendChild(docLink);\n",
              "        }\n",
              "      </script>\n",
              "    </div>\n",
              "  </div>\n",
              "  "
            ]
          },
          "metadata": {},
          "execution_count": 4
        }
      ]
    },
    {
      "cell_type": "code",
      "source": [
        "# counting the number of each label\n",
        "df['category'].value_counts()"
      ],
      "metadata": {
        "colab": {
          "base_uri": "https://localhost:8080/"
        },
        "id": "6E1ZDXyPlr6y",
        "outputId": "e0e9e705-4afb-41de-93b5-fd76416c3ffb"
      },
      "execution_count": null,
      "outputs": [
        {
          "output_type": "execute_result",
          "data": {
            "text/plain": [
              "Apparel & Accessories        1000\n",
              "Animals & Pet Supplies        500\n",
              "Food, Beverages & Tobacco     400\n",
              "Sporting Goods                400\n",
              "Luggage & Bags                400\n",
              "Home & Garden                 400\n",
              "Health & Beauty               400\n",
              "Media                         300\n",
              "Toys & Games                  300\n",
              "Furniture                     200\n",
              "Baby & Toddler                200\n",
              "Arts & Entertainment          200\n",
              "Electronics                   100\n",
              "Business & Industrial         100\n",
              "Office Supplies               100\n",
              "Vehicles & Parts              100\n",
              "Hardware                       50\n",
              "Cameras & Optics               50\n",
              "Software                       50\n",
              "Religious & Ceremonial         20\n",
              "Name: category, dtype: int64"
            ]
          },
          "metadata": {},
          "execution_count": 5
        }
      ]
    },
    {
      "cell_type": "code",
      "source": [
        "# counting how many indices are duplicated in each column\n",
        "print(f\"There are {sum(df['title'].duplicated())} duplicate title.\")\n",
        "print(f\"There are {sum(df['vendor'].duplicated())} duplicate vondor.\")\n",
        "print(f\"There are {sum(df['tags'].duplicated())} duplicate tags.\")"
      ],
      "metadata": {
        "colab": {
          "base_uri": "https://localhost:8080/"
        },
        "id": "Un_ggKoLUAEf",
        "outputId": "ae5516f5-2f0e-4d3f-9165-955b0d2dbe95"
      },
      "execution_count": null,
      "outputs": [
        {
          "output_type": "stream",
          "name": "stdout",
          "text": [
            "There are 0 duplicate title.\n",
            "There are 1256 duplicate vondor.\n",
            "There are 716 duplicate tags.\n"
          ]
        }
      ]
    },
    {
      "cell_type": "code",
      "source": [
        "# counting the number of Nan samples\n",
        "df.isnull().values.sum()"
      ],
      "metadata": {
        "colab": {
          "base_uri": "https://localhost:8080/"
        },
        "id": "VD95efZwCRYT",
        "outputId": "fd949b35-c35c-4497-a72a-318aeeac2c0a"
      },
      "execution_count": null,
      "outputs": [
        {
          "output_type": "execute_result",
          "data": {
            "text/plain": [
              "3"
            ]
          },
          "metadata": {},
          "execution_count": 7
        }
      ]
    },
    {
      "cell_type": "markdown",
      "source": [
        "There are just 3 Nan samples in the dataset so we can ignore them."
      ],
      "metadata": {
        "id": "rhPJQuDEb8oN"
      }
    },
    {
      "cell_type": "code",
      "source": [
        "# the function for extracting and standardizing the sentences\n",
        "def text_extraction(dfi):\n",
        "  # in this function, we concatenate text feature parts of the data as a sentence\n",
        "  sentence = ' '.join([dfi['title'], str(dfi['vendor']), dfi['tags']])\n",
        "  # Remove punctuations\n",
        "  sentence = re.sub('[^a-zA-Z0-9$.]', ' ', sentence)\n",
        "  # Single character removal\n",
        "  sentence = re.sub(r\"\\s+[a-zA-Z]\\s+\", ' ', sentence)\n",
        "  # Removing multiple spaces\n",
        "  sentence = re.sub(r'\\s+', ' ', sentence)\n",
        "  # Changint to lowercase\n",
        "  sentence = sentence.lower()\n",
        "  return sentence\n",
        "\n",
        "# printing 10 sample sentences\n",
        "for i in range(10):\n",
        "  print(text_extraction(df.iloc[i]))"
      ],
      "metadata": {
        "colab": {
          "base_uri": "https://localhost:8080/"
        },
        "id": "aH9UzP7-__P2",
        "outputId": "793308a7-644d-425a-e93d-294b7fd6fc2d"
      },
      "execution_count": null,
      "outputs": [
        {
          "output_type": "stream",
          "name": "stdout",
          "text": [
            "fidele super premium adult large breed dog food fidele adult bangalore chennai chicken doberman dog dry foods fidele german shepherd golden retriever great dane highpriority imported labrador less than 1000 less than 2000 less than 500 mastiff orange pet nutrition \n",
            "foldable pet toys linen storage cap point \n",
            "bok dok diaper pets home brand pet arabia category pets home category small pets supplies type pet home type pet supplies \n",
            "tastybone toy chicken tastybone \n",
            "leather leash tab short dog leash mighty paw leash leash tab training \n",
            "pridebites texas guitar dog toy pride bites brand pridebites toy type plush \n",
            "burns sensitive pork potato burns 10 25 25 50 50 75 adult burns coat dog food food delivery jansale18 natural nonsale19 sensitive size 12kg size 2kg size 6kg skin \n",
            "bully sticks dog toy adog.co bully sticks dog chew toys dog toys \n",
            "kazoo tough giraffe dog toy kazoo brand kazoo june2021 kazoo material plush plush \n",
            "orgo dog biscuits fresh milk petku brand orgo category dogs dogs lifestage all lifestages orgo price rp 0 to rp 100.000 subcategory treats treats \n"
          ]
        }
      ]
    },
    {
      "cell_type": "code",
      "source": [
        "# creating the dataset\n",
        "dataset = pd.DataFrame(columns=['text', 'label'])\n",
        "for i in range(len(df)):\n",
        "  dataset = dataset.append({'text':text_extraction(df.iloc[i]), 'label':df.iloc[i]['category']}, ignore_index = True)\n",
        "\n",
        "# creating integer labels for multiclass training\n",
        "dataset['label_int'] = pd.Categorical(dataset['label']).codes\n",
        "dataset"
      ],
      "metadata": {
        "colab": {
          "base_uri": "https://localhost:8080/",
          "height": 424
        },
        "id": "7x4WG7NC9Xz3",
        "outputId": "8343a1e4-6854-4456-fa24-14b5c3e7dfc8"
      },
      "execution_count": null,
      "outputs": [
        {
          "output_type": "execute_result",
          "data": {
            "text/plain": [
              "                                                   text  \\\n",
              "0     fidele super premium adult large breed dog foo...   \n",
              "1            foldable pet toys linen storage cap point    \n",
              "2     bok dok diaper pets home brand pet arabia cate...   \n",
              "3                      tastybone toy chicken tastybone    \n",
              "4     leather leash tab short dog leash mighty paw l...   \n",
              "...                                                 ...   \n",
              "5265  candylab moo milk van candylab 3 years candyla...   \n",
              "5266  truck modern era vehicles red white scale ho w...   \n",
              "5267  car sticker flags decal american flag sticker ...   \n",
              "5268  lazer helmets bayamo pit bull full face open b...   \n",
              "5269  deutz agrotron tractor siku $0 to $25 diecast ...   \n",
              "\n",
              "                       label  label_int  \n",
              "0     Animals & Pet Supplies          0  \n",
              "1     Animals & Pet Supplies          0  \n",
              "2     Animals & Pet Supplies          0  \n",
              "3     Animals & Pet Supplies          0  \n",
              "4     Animals & Pet Supplies          0  \n",
              "...                      ...        ...  \n",
              "5265        Vehicles & Parts         19  \n",
              "5266        Vehicles & Parts         19  \n",
              "5267        Vehicles & Parts         19  \n",
              "5268        Vehicles & Parts         19  \n",
              "5269        Vehicles & Parts         19  \n",
              "\n",
              "[5270 rows x 3 columns]"
            ],
            "text/html": [
              "\n",
              "  <div id=\"df-3095f597-c3be-4ebb-a8ce-29d8bd16c63d\">\n",
              "    <div class=\"colab-df-container\">\n",
              "      <div>\n",
              "<style scoped>\n",
              "    .dataframe tbody tr th:only-of-type {\n",
              "        vertical-align: middle;\n",
              "    }\n",
              "\n",
              "    .dataframe tbody tr th {\n",
              "        vertical-align: top;\n",
              "    }\n",
              "\n",
              "    .dataframe thead th {\n",
              "        text-align: right;\n",
              "    }\n",
              "</style>\n",
              "<table border=\"1\" class=\"dataframe\">\n",
              "  <thead>\n",
              "    <tr style=\"text-align: right;\">\n",
              "      <th></th>\n",
              "      <th>text</th>\n",
              "      <th>label</th>\n",
              "      <th>label_int</th>\n",
              "    </tr>\n",
              "  </thead>\n",
              "  <tbody>\n",
              "    <tr>\n",
              "      <th>0</th>\n",
              "      <td>fidele super premium adult large breed dog foo...</td>\n",
              "      <td>Animals &amp; Pet Supplies</td>\n",
              "      <td>0</td>\n",
              "    </tr>\n",
              "    <tr>\n",
              "      <th>1</th>\n",
              "      <td>foldable pet toys linen storage cap point</td>\n",
              "      <td>Animals &amp; Pet Supplies</td>\n",
              "      <td>0</td>\n",
              "    </tr>\n",
              "    <tr>\n",
              "      <th>2</th>\n",
              "      <td>bok dok diaper pets home brand pet arabia cate...</td>\n",
              "      <td>Animals &amp; Pet Supplies</td>\n",
              "      <td>0</td>\n",
              "    </tr>\n",
              "    <tr>\n",
              "      <th>3</th>\n",
              "      <td>tastybone toy chicken tastybone</td>\n",
              "      <td>Animals &amp; Pet Supplies</td>\n",
              "      <td>0</td>\n",
              "    </tr>\n",
              "    <tr>\n",
              "      <th>4</th>\n",
              "      <td>leather leash tab short dog leash mighty paw l...</td>\n",
              "      <td>Animals &amp; Pet Supplies</td>\n",
              "      <td>0</td>\n",
              "    </tr>\n",
              "    <tr>\n",
              "      <th>...</th>\n",
              "      <td>...</td>\n",
              "      <td>...</td>\n",
              "      <td>...</td>\n",
              "    </tr>\n",
              "    <tr>\n",
              "      <th>5265</th>\n",
              "      <td>candylab moo milk van candylab 3 years candyla...</td>\n",
              "      <td>Vehicles &amp; Parts</td>\n",
              "      <td>19</td>\n",
              "    </tr>\n",
              "    <tr>\n",
              "      <th>5266</th>\n",
              "      <td>truck modern era vehicles red white scale ho w...</td>\n",
              "      <td>Vehicles &amp; Parts</td>\n",
              "      <td>19</td>\n",
              "    </tr>\n",
              "    <tr>\n",
              "      <th>5267</th>\n",
              "      <td>car sticker flags decal american flag sticker ...</td>\n",
              "      <td>Vehicles &amp; Parts</td>\n",
              "      <td>19</td>\n",
              "    </tr>\n",
              "    <tr>\n",
              "      <th>5268</th>\n",
              "      <td>lazer helmets bayamo pit bull full face open b...</td>\n",
              "      <td>Vehicles &amp; Parts</td>\n",
              "      <td>19</td>\n",
              "    </tr>\n",
              "    <tr>\n",
              "      <th>5269</th>\n",
              "      <td>deutz agrotron tractor siku $0 to $25 diecast ...</td>\n",
              "      <td>Vehicles &amp; Parts</td>\n",
              "      <td>19</td>\n",
              "    </tr>\n",
              "  </tbody>\n",
              "</table>\n",
              "<p>5270 rows × 3 columns</p>\n",
              "</div>\n",
              "      <button class=\"colab-df-convert\" onclick=\"convertToInteractive('df-3095f597-c3be-4ebb-a8ce-29d8bd16c63d')\"\n",
              "              title=\"Convert this dataframe to an interactive table.\"\n",
              "              style=\"display:none;\">\n",
              "        \n",
              "  <svg xmlns=\"http://www.w3.org/2000/svg\" height=\"24px\"viewBox=\"0 0 24 24\"\n",
              "       width=\"24px\">\n",
              "    <path d=\"M0 0h24v24H0V0z\" fill=\"none\"/>\n",
              "    <path d=\"M18.56 5.44l.94 2.06.94-2.06 2.06-.94-2.06-.94-.94-2.06-.94 2.06-2.06.94zm-11 1L8.5 8.5l.94-2.06 2.06-.94-2.06-.94L8.5 2.5l-.94 2.06-2.06.94zm10 10l.94 2.06.94-2.06 2.06-.94-2.06-.94-.94-2.06-.94 2.06-2.06.94z\"/><path d=\"M17.41 7.96l-1.37-1.37c-.4-.4-.92-.59-1.43-.59-.52 0-1.04.2-1.43.59L10.3 9.45l-7.72 7.72c-.78.78-.78 2.05 0 2.83L4 21.41c.39.39.9.59 1.41.59.51 0 1.02-.2 1.41-.59l7.78-7.78 2.81-2.81c.8-.78.8-2.07 0-2.86zM5.41 20L4 18.59l7.72-7.72 1.47 1.35L5.41 20z\"/>\n",
              "  </svg>\n",
              "      </button>\n",
              "      \n",
              "  <style>\n",
              "    .colab-df-container {\n",
              "      display:flex;\n",
              "      flex-wrap:wrap;\n",
              "      gap: 12px;\n",
              "    }\n",
              "\n",
              "    .colab-df-convert {\n",
              "      background-color: #E8F0FE;\n",
              "      border: none;\n",
              "      border-radius: 50%;\n",
              "      cursor: pointer;\n",
              "      display: none;\n",
              "      fill: #1967D2;\n",
              "      height: 32px;\n",
              "      padding: 0 0 0 0;\n",
              "      width: 32px;\n",
              "    }\n",
              "\n",
              "    .colab-df-convert:hover {\n",
              "      background-color: #E2EBFA;\n",
              "      box-shadow: 0px 1px 2px rgba(60, 64, 67, 0.3), 0px 1px 3px 1px rgba(60, 64, 67, 0.15);\n",
              "      fill: #174EA6;\n",
              "    }\n",
              "\n",
              "    [theme=dark] .colab-df-convert {\n",
              "      background-color: #3B4455;\n",
              "      fill: #D2E3FC;\n",
              "    }\n",
              "\n",
              "    [theme=dark] .colab-df-convert:hover {\n",
              "      background-color: #434B5C;\n",
              "      box-shadow: 0px 1px 3px 1px rgba(0, 0, 0, 0.15);\n",
              "      filter: drop-shadow(0px 1px 2px rgba(0, 0, 0, 0.3));\n",
              "      fill: #FFFFFF;\n",
              "    }\n",
              "  </style>\n",
              "\n",
              "      <script>\n",
              "        const buttonEl =\n",
              "          document.querySelector('#df-3095f597-c3be-4ebb-a8ce-29d8bd16c63d button.colab-df-convert');\n",
              "        buttonEl.style.display =\n",
              "          google.colab.kernel.accessAllowed ? 'block' : 'none';\n",
              "\n",
              "        async function convertToInteractive(key) {\n",
              "          const element = document.querySelector('#df-3095f597-c3be-4ebb-a8ce-29d8bd16c63d');\n",
              "          const dataTable =\n",
              "            await google.colab.kernel.invokeFunction('convertToInteractive',\n",
              "                                                     [key], {});\n",
              "          if (!dataTable) return;\n",
              "\n",
              "          const docLinkHtml = 'Like what you see? Visit the ' +\n",
              "            '<a target=\"_blank\" href=https://colab.research.google.com/notebooks/data_table.ipynb>data table notebook</a>'\n",
              "            + ' to learn more about interactive tables.';\n",
              "          element.innerHTML = '';\n",
              "          dataTable['output_type'] = 'display_data';\n",
              "          await google.colab.output.renderOutput(dataTable, element);\n",
              "          const docLink = document.createElement('div');\n",
              "          docLink.innerHTML = docLinkHtml;\n",
              "          element.appendChild(docLink);\n",
              "        }\n",
              "      </script>\n",
              "    </div>\n",
              "  </div>\n",
              "  "
            ]
          },
          "metadata": {},
          "execution_count": 9
        }
      ]
    },
    {
      "cell_type": "code",
      "source": [
        "# extracting the names of the labels\n",
        "labels_names = list(Counter(dataset['label']).keys())\n",
        "labels_names"
      ],
      "metadata": {
        "colab": {
          "base_uri": "https://localhost:8080/"
        },
        "id": "9uHdTY3p9Xfr",
        "outputId": "1f8e046e-c16c-4a4c-ad01-d63d108976a7"
      },
      "execution_count": null,
      "outputs": [
        {
          "output_type": "execute_result",
          "data": {
            "text/plain": [
              "['Animals & Pet Supplies',\n",
              " 'Apparel & Accessories',\n",
              " 'Arts & Entertainment',\n",
              " 'Baby & Toddler',\n",
              " 'Business & Industrial',\n",
              " 'Cameras & Optics',\n",
              " 'Electronics',\n",
              " 'Food, Beverages & Tobacco',\n",
              " 'Furniture',\n",
              " 'Hardware',\n",
              " 'Health & Beauty',\n",
              " 'Home & Garden',\n",
              " 'Luggage & Bags',\n",
              " 'Media',\n",
              " 'Office Supplies',\n",
              " 'Religious & Ceremonial',\n",
              " 'Software',\n",
              " 'Sporting Goods',\n",
              " 'Toys & Games',\n",
              " 'Vehicles & Parts']"
            ]
          },
          "metadata": {},
          "execution_count": 10
        }
      ]
    },
    {
      "cell_type": "code",
      "source": [
        "# printing each integer label and its corresponding name label\n",
        "for i, label in enumerate(labels_names):\n",
        "  print(\"Label\", i, \"corresponds to\", label)"
      ],
      "metadata": {
        "colab": {
          "base_uri": "https://localhost:8080/"
        },
        "id": "QXCgd6QTC_k6",
        "outputId": "6b40194d-fb2b-4093-d8e9-8f116bfd154f"
      },
      "execution_count": null,
      "outputs": [
        {
          "output_type": "stream",
          "name": "stdout",
          "text": [
            "Label 0 corresponds to Animals & Pet Supplies\n",
            "Label 1 corresponds to Apparel & Accessories\n",
            "Label 2 corresponds to Arts & Entertainment\n",
            "Label 3 corresponds to Baby & Toddler\n",
            "Label 4 corresponds to Business & Industrial\n",
            "Label 5 corresponds to Cameras & Optics\n",
            "Label 6 corresponds to Electronics\n",
            "Label 7 corresponds to Food, Beverages & Tobacco\n",
            "Label 8 corresponds to Furniture\n",
            "Label 9 corresponds to Hardware\n",
            "Label 10 corresponds to Health & Beauty\n",
            "Label 11 corresponds to Home & Garden\n",
            "Label 12 corresponds to Luggage & Bags\n",
            "Label 13 corresponds to Media\n",
            "Label 14 corresponds to Office Supplies\n",
            "Label 15 corresponds to Religious & Ceremonial\n",
            "Label 16 corresponds to Software\n",
            "Label 17 corresponds to Sporting Goods\n",
            "Label 18 corresponds to Toys & Games\n",
            "Label 19 corresponds to Vehicles & Parts\n"
          ]
        }
      ]
    },
    {
      "cell_type": "code",
      "source": [
        "# splitting dataset to train, validation, and test dataframes\n",
        "train_df, test_df= train_test_split(dataset, test_size=0.2, random_state=42)\n",
        "val_df = test_df.sample(frac=0.5)\n",
        "test_df.drop(val_df.index, inplace=True)\n",
        "\n",
        "print(f\"Number of samples in training set: {len(train_df)}\")\n",
        "print(f\"Number of samples in validation set: {len(val_df)}\")\n",
        "print(f\"Number of samples in test set: {len(test_df)}\")\n",
        "\n",
        "# extracting texts and labels from dataframes\n",
        "train_texts = train_df['text']\n",
        "train_labels = train_df['label_int']\n",
        "val_texts = val_df['text']\n",
        "val_labels = val_df['label_int']\n",
        "test_texts = test_df['text']\n",
        "test_labels = test_df['label_int']"
      ],
      "metadata": {
        "colab": {
          "base_uri": "https://localhost:8080/"
        },
        "id": "bWd2Rfp69X8g",
        "outputId": "693017af-c045-41f9-d237-a7fa1a98e536"
      },
      "execution_count": null,
      "outputs": [
        {
          "output_type": "stream",
          "name": "stdout",
          "text": [
            "Number of samples in training set: 4216\n",
            "Number of samples in validation set: 527\n",
            "Number of samples in test set: 527\n"
          ]
        }
      ]
    },
    {
      "cell_type": "code",
      "source": [
        "# creating data generators with batch size 32\n",
        "batch_size = 32\n",
        "raw_train_batch = tf.data.Dataset.from_tensor_slices((train_texts, train_labels)).batch(batch_size)\n",
        "raw_val_batch = tf.data.Dataset.from_tensor_slices((val_texts, val_labels)).batch(batch_size)\n",
        "raw_test_batch = tf.data.Dataset.from_tensor_slices((test_texts, test_labels)).batch(batch_size)\n",
        "\n",
        "# printing texts and labels of a batch of raw train\n",
        "for text, label in raw_train_batch.take(1):\n",
        "  print('Texts: {}'.format(text))\n",
        "  print('labels: {}'.format(label))"
      ],
      "metadata": {
        "colab": {
          "base_uri": "https://localhost:8080/"
        },
        "id": "C4kA4X60zkC3",
        "outputId": "e5bea56e-beca-4a24-dc35-e00f77aa46c9"
      },
      "execution_count": null,
      "outputs": [
        {
          "output_type": "stream",
          "name": "stdout",
          "text": [
            "Texts: [b'housie tambola game by brands with foldable reusable tickets snooplay 13 17 year olds 18 years above 251 500 8 12 year olds age no bar all time favourite below 1000 below 400 below 500 best selling board games creative games gifts customer favourites diwali family friends night family games friends family nights geek gifts for boys gifts for friends gifts for girls gifts for kids gifts for parents googleshopping nerd or geek new new collection outdoor games party accessories party essentials party freak party games party games for grown ups party games for kids premium unique new toys '\n",
            " b'foldable waterproof raised dog bed dogiti '\n",
            " b'quadrello di bufala cheese cut wrapped by igourmet category cheese cut cheeses milk type buffalo nutrition full set origin italy shipping perishable texture semi soft type stinky and washed rind wholesale cheese collection '\n",
            " b'quay vip pink navy to pink lens quay accessories new summer sunglasses '\n",
            " b'seachem multitest ammonia seachem '\n",
            " b'smart electric cat teasing toy pet clever cat toys cats rr track catproducts rr track cattoys '\n",
            " b'petroleum mixture sign the sign shed black text chemical chemical signs flammable signs general hazard portrait yellow bg '\n",
            " b'scott kingery andrew mccutchen philadelphia phillies ring the bell dual bobblehead foco data athlete andrew mccutchen data athlete scott kingery data city philadelphia data edition exclusive data filter collection no data filter discount yes data league mlb data region pennsylvania data sub category1 bobbleheads data team philadelphia phillies '\n",
            " b'diy personalised dreamcatcher activity kit sea animal doxbox store '\n",
            " b'dainty corduroy bow in lilac sweet first love bow corduroy headband purple spo disabled wos '\n",
            " b'new bts stylish backpack the pocket store '\n",
            " b'planet bike big buck fat front planet bike bicycle fenders bike accessories bikes fenders front fenders full price planet bike unisex '\n",
            " b'ms. better trans canada bitters enterprises jesemi inc. betters canada ms trans '\n",
            " b'drawstring backpack pink zig zag yoobi 10 15 2020 primedaydeal accessories all bags flair back to school backpacks bags bf2019 book bag book bags bookbag bookbags newyear pink pink zig zag sale summer2020 supplybundle zig zags '\n",
            " b'pineapple mini food speaker magnum brands add on birthday gift girl music pos speaker '\n",
            " b'interactive iq treat ball toy for dogs cats cj feeder waterer pet supplies '\n",
            " b'whisper of lord ganesha tarot deck u.s. games '\n",
            " b'handcrafted aasha cuff bracelet colorful cuff bracelet made with wooden beads wrapped with recycled sari fabrics. aasha bracelet comfy fair trade handcrafted handmade jewelry '\n",
            " b'idrop belik facial anti aging wrinkle ultrasonic face massager toothbrush attachment idrop anti aging anti wrinkle electric massager face massage facial massager health health beauty health fitness health care healthcare healthy healthy massager massage massager new ultrasonic '\n",
            " b'wood nativity puzzle mud pie one coas 10760023 baby children christmas gift god jesus kid religion toy '\n",
            " b'p.l.a.y. zoomierex fantastug sea foam dog toy p.l.a.y. brand p.l.a.y. summer collection toy type fetch toy type floating toy type rubber toy type tug twr '\n",
            " b'wallis simpson signed autobiography paul fraser collectibles autographs '\n",
            " b'imperial earring daya jewelry brass flower gold imperial spo default spo disabled spo enabled star tribal '\n",
            " b'armadillo nest charcoal armadillo alfresco armadillo door mats down to earth floor homeware homeware rugs mats labour weekend living modern boho rug rugs mats '\n",
            " b'millie pillow foreside pillows textiles '\n",
            " b'jelly brush aprilskin.us all '\n",
            " b'alarm you re little bitch blue blue blue crew cute exclude feed agegroup adult feed cl0 regularprice womens sassy funny words inappropriate cute profanity swear words exclude rude crude feed color blue feed cond new feed gender feed gender female feed gpc 209 funny inappropriate print profanity red regularprice rude crude sassy socks swear words womens words '\n",
            " b'boutique de paris lashes4today glamorous lashes luxury '\n",
            " b'dog pakiet dnp pc skin support pick me pets brand dolina noteci category pet supplies type dog food '\n",
            " b'plaza weekend diaper bag 7am label final sale addswatchrow adult age adult category diaper bags category weekenders color black color grey diaper diaper diaper ba dipper style plaza bag voyage '\n",
            " b'water sterling silver necklace wear the peace 925 sterling silver all products necklaces new arrivals '\n",
            " b'bain ultra violet rastase adha2020 adjusted assaad back in stock items bahaa black friday 2020 enabled blond absolu blondabsolu ramadan21 btpcat main 132768825422 btpcat other 132768825422 elian dada fadia el mendelek for colored blond hair hair care haircare summerfiesta sale jan 4 2021 price increase july 28th updated july increase ker aprist1st 2021 increase ker august 2021 price increase ker march 1st 2021 price increase ker priceincrease june1st 2021 kerastase ramadan21 rastase loolia2y mahmoud al zarif michel zeytoun non solar october 1st 2020 price increase or or reviews ppd price decrease 16th september 2021 ppd price decrease sept 2021 ppd price increase october1st 2021 ppd pricedecrease midseptember2021 ppd priceincrease 12th october 2021 price updated shampoos shant tawetian shop all stockcount 31 03 2021 weekend summerfiesta sale ']\n",
            "labels: [18  0  7  1  0  0  4  2  0  1 12 17  7 12 18  0 15  1 10 18  0  2  1 11\n",
            "  2  9  1 10  0 12  1 10]\n"
          ]
        }
      ]
    },
    {
      "cell_type": "code",
      "source": [
        "# counting how many words are there in the whole texts of the dataset\n",
        "num_of_words = 0\n",
        "for i in dataset['text']: num_of_words += len(i.split())\n",
        "\n",
        "print(num_of_words)"
      ],
      "metadata": {
        "colab": {
          "base_uri": "https://localhost:8080/"
        },
        "id": "P2QpUriFrsU_",
        "outputId": "93f221ab-f11f-4f94-8f0b-f1b182879c61"
      },
      "execution_count": null,
      "outputs": [
        {
          "output_type": "stream",
          "name": "stdout",
          "text": [
            "112572\n"
          ]
        }
      ]
    },
    {
      "cell_type": "markdown",
      "source": [
        "There are about 112000 words in the texts.\n",
        "\n"
      ],
      "metadata": {
        "id": "wfw3CqfZsWyT"
      }
    },
    {
      "cell_type": "code",
      "source": [
        "# counting max sequence length and how many non-repetitive words are there in the whole texts of the dataset\n",
        "l = []\n",
        "max_seq_lenght = 0\n",
        "for i in dataset['text']:\n",
        "  lenght = len(i.split())\n",
        "  if lenght > max_seq_lenght: max_seq_lenght = lenght\n",
        "  for j in i.split():\n",
        "    if j not in l: l.append(j)\n",
        "\n",
        "print(max_seq_lenght)\n",
        "print(len(l))"
      ],
      "metadata": {
        "colab": {
          "base_uri": "https://localhost:8080/"
        },
        "id": "2ufQzaF9ncqZ",
        "outputId": "b282fd49-7d1c-4dd0-a860-fe133bfaa9a8"
      },
      "execution_count": null,
      "outputs": [
        {
          "output_type": "stream",
          "name": "stdout",
          "text": [
            "309\n",
            "18933\n"
          ]
        }
      ]
    },
    {
      "cell_type": "markdown",
      "source": [
        "Maximum sequence length is 309 and There are about 19000 non-repetitive words in the whole dataset texts. So we set max word features to 10000 and sequence length to 350."
      ],
      "metadata": {
        "id": "cGGf8rQorkSR"
      }
    },
    {
      "cell_type": "code",
      "source": [
        "# setting the text vectorization layer with 10000 words and 350 sequence length\n",
        "max_features = 10000\n",
        "sequence_length = 350\n",
        "\n",
        "vectorize_layer = layers.TextVectorization(\n",
        "    max_tokens=max_features,\n",
        "    output_mode='int',\n",
        "    output_sequence_length=sequence_length)\n",
        "\n",
        "# fitting the state of the preprocessing layer to the train set. This will cause the model to build an index of strings to integers.\n",
        "vectorize_layer.adapt(train_texts)\n",
        "\n",
        "# defining the vectorize text function\n",
        "def vectorize_text(text, label):\n",
        "  text = tf.expand_dims(text, -1)\n",
        "  return vectorize_layer(text), label\n",
        "\n",
        "# retrieving a sample from a batch of texts and labels from the train set\n",
        "text_batch, label_batch = next(iter(raw_train_batch))\n",
        "first_review, first_label = text_batch[0], label_batch[0]\n",
        "print(\"Review\", first_review)\n",
        "print(\"Label\", first_label)\n",
        "print(\"Vectorized text\", vectorize_text(first_review, first_label))"
      ],
      "metadata": {
        "colab": {
          "base_uri": "https://localhost:8080/"
        },
        "id": "Ey2QJjO97T9P",
        "outputId": "dd86b40f-c14b-4696-eb6e-3663672fd87c"
      },
      "execution_count": null,
      "outputs": [
        {
          "output_type": "stream",
          "name": "stdout",
          "text": [
            "Review tf.Tensor(b'housie tambola game by brands with foldable reusable tickets snooplay 13 17 year olds 18 years above 251 500 8 12 year olds age no bar all time favourite below 1000 below 400 below 500 best selling board games creative games gifts customer favourites diwali family friends night family games friends family nights geek gifts for boys gifts for friends gifts for girls gifts for kids gifts for parents googleshopping nerd or geek new new collection outdoor games party accessories party essentials party freak party games party games for grown ups party games for kids premium unique new toys ', shape=(), dtype=string)\n",
            "Label tf.Tensor(18, shape=(), dtype=int8)\n",
            "Vectorized text (<tf.Tensor: shape=(1, 350), dtype=int64, numpy=\n",
            "array([[   1, 9229,  192,   23,  343,   51, 1546, 2392, 9089, 9635,  740,\n",
            "        1609,  275, 2882,  372,   69,  959,    1,  134,  109,   89,  275,\n",
            "        2882,   35,   55,  381,   16,  480, 7346,  783,  181,  783,  961,\n",
            "         783,  134,   79, 2792,  104,   57, 1195,   57,   53, 3072,    1,\n",
            "        5047,  237, 1078,  716,  237,   57, 1078,  237, 6529, 4896,   53,\n",
            "          13,  334,   53,   13, 1078,   53,   13,  179,   53,   13,   62,\n",
            "          53,   13, 3473,    1,    1,  303, 4896,    3,    3,    8,  157,\n",
            "          57,  250,   17,  250,  316,  250, 7261,  250,   57,  250,   57,\n",
            "          13, 1904, 5674,  250,   57,   13,   62,  360,  632,    3,    6,\n",
            "           0,    0,    0,    0,    0,    0,    0,    0,    0,    0,    0,\n",
            "           0,    0,    0,    0,    0,    0,    0,    0,    0,    0,    0,\n",
            "           0,    0,    0,    0,    0,    0,    0,    0,    0,    0,    0,\n",
            "           0,    0,    0,    0,    0,    0,    0,    0,    0,    0,    0,\n",
            "           0,    0,    0,    0,    0,    0,    0,    0,    0,    0,    0,\n",
            "           0,    0,    0,    0,    0,    0,    0,    0,    0,    0,    0,\n",
            "           0,    0,    0,    0,    0,    0,    0,    0,    0,    0,    0,\n",
            "           0,    0,    0,    0,    0,    0,    0,    0,    0,    0,    0,\n",
            "           0,    0,    0,    0,    0,    0,    0,    0,    0,    0,    0,\n",
            "           0,    0,    0,    0,    0,    0,    0,    0,    0,    0,    0,\n",
            "           0,    0,    0,    0,    0,    0,    0,    0,    0,    0,    0,\n",
            "           0,    0,    0,    0,    0,    0,    0,    0,    0,    0,    0,\n",
            "           0,    0,    0,    0,    0,    0,    0,    0,    0,    0,    0,\n",
            "           0,    0,    0,    0,    0,    0,    0,    0,    0,    0,    0,\n",
            "           0,    0,    0,    0,    0,    0,    0,    0,    0,    0,    0,\n",
            "           0,    0,    0,    0,    0,    0,    0,    0,    0,    0,    0,\n",
            "           0,    0,    0,    0,    0,    0,    0,    0,    0,    0,    0,\n",
            "           0,    0,    0,    0,    0,    0,    0,    0,    0,    0,    0,\n",
            "           0,    0,    0,    0,    0,    0,    0,    0,    0,    0,    0,\n",
            "           0,    0,    0,    0,    0,    0,    0,    0,    0,    0,    0,\n",
            "           0,    0,    0,    0,    0,    0,    0,    0,    0,    0,    0,\n",
            "           0,    0,    0,    0,    0,    0,    0,    0,    0,    0,    0,\n",
            "           0,    0,    0,    0,    0,    0,    0,    0,    0]])>, <tf.Tensor: shape=(), dtype=int8, numpy=18>)\n"
          ]
        }
      ]
    },
    {
      "cell_type": "code",
      "source": [
        "# getting corresponding word of each integer \n",
        "print(\"1401 ---> \",vectorize_layer.get_vocabulary()[1401])\n",
        "print(\" 313 ---> \",vectorize_layer.get_vocabulary()[313])\n",
        "print('Vocabulary size: {}'.format(len(vectorize_layer.get_vocabulary())))"
      ],
      "metadata": {
        "colab": {
          "base_uri": "https://localhost:8080/"
        },
        "id": "X84dkB768GSx",
        "outputId": "dc690a74-eeb2-467d-a42c-628be83b0ea9"
      },
      "execution_count": null,
      "outputs": [
        {
          "output_type": "stream",
          "name": "stdout",
          "text": [
            "1401 --->  heel\n",
            " 313 --->  is\n",
            "Vocabulary size: 10000\n"
          ]
        }
      ]
    },
    {
      "cell_type": "code",
      "source": [
        "# creating train, val, and test vectorized dataset and prefetching them\n",
        "train_ds = raw_train_batch.map(vectorize_text)\n",
        "val_ds = raw_val_batch.map(vectorize_text)\n",
        "test_ds = raw_test_batch.map(vectorize_text)\n",
        "\n",
        "AUTOTUNE = tf.data.AUTOTUNE\n",
        "\n",
        "train_ds = train_ds.cache().prefetch(buffer_size=AUTOTUNE)\n",
        "val_ds = val_ds.cache().prefetch(buffer_size=AUTOTUNE)\n",
        "test_ds = test_ds.cache().prefetch(buffer_size=AUTOTUNE)"
      ],
      "metadata": {
        "id": "DiW717GQ_77D"
      },
      "execution_count": null,
      "outputs": []
    },
    {
      "cell_type": "code",
      "source": [
        "# model configuration\n",
        "embedding_dim = 32\n",
        "num_of_labels = 20\n",
        "\n",
        "model = tf.keras.Sequential([\n",
        "  layers.Embedding(max_features + 1, embedding_dim),\n",
        "  layers.Dropout(0.2),\n",
        "  layers.GlobalAveragePooling1D(),\n",
        "  layers.Dropout(0.2),\n",
        "  layers.Dense(num_of_labels)])\n",
        "\n",
        "model.summary()"
      ],
      "metadata": {
        "colab": {
          "base_uri": "https://localhost:8080/"
        },
        "id": "BBHmGG_SAWhp",
        "outputId": "2137a1b3-a828-4a8e-989b-ec6d34d983ad"
      },
      "execution_count": null,
      "outputs": [
        {
          "output_type": "stream",
          "name": "stdout",
          "text": [
            "Model: \"sequential\"\n",
            "_________________________________________________________________\n",
            " Layer (type)                Output Shape              Param #   \n",
            "=================================================================\n",
            " embedding (Embedding)       (None, None, 32)          320032    \n",
            "                                                                 \n",
            " dropout (Dropout)           (None, None, 32)          0         \n",
            "                                                                 \n",
            " global_average_pooling1d (G  (None, 32)               0         \n",
            " lobalAveragePooling1D)                                          \n",
            "                                                                 \n",
            " dropout_1 (Dropout)         (None, 32)                0         \n",
            "                                                                 \n",
            " dense (Dense)               (None, 20)                660       \n",
            "                                                                 \n",
            "=================================================================\n",
            "Total params: 320,692\n",
            "Trainable params: 320,692\n",
            "Non-trainable params: 0\n",
            "_________________________________________________________________\n"
          ]
        }
      ]
    },
    {
      "cell_type": "code",
      "source": [
        "# model compilation\n",
        "model.compile(optimizer='adam',\n",
        "              loss=tf.keras.losses.SparseCategoricalCrossentropy(from_logits=True),\n",
        "              metrics=['accuracy'])"
      ],
      "metadata": {
        "id": "uL6c-YGfAwLz"
      },
      "execution_count": null,
      "outputs": []
    },
    {
      "cell_type": "code",
      "source": [
        "# training the model\n",
        "epochs = 500\n",
        "\n",
        "callback = tf.keras.callbacks.EarlyStopping(monitor='val_loss',\n",
        "                                            patience=5,\n",
        "                                            verbose=1)\n",
        "\n",
        "history = model.fit(train_ds,\n",
        "                    validation_data=val_ds,\n",
        "                    epochs=epochs,\n",
        "                    callbacks=[callback])"
      ],
      "metadata": {
        "colab": {
          "base_uri": "https://localhost:8080/"
        },
        "id": "CIfmPA3SvX4d",
        "outputId": "7d3faecb-fec9-48d0-97ad-8a61cb188c44"
      },
      "execution_count": null,
      "outputs": [
        {
          "output_type": "stream",
          "name": "stdout",
          "text": [
            "Epoch 1/500\n",
            "132/132 [==============================] - 4s 5ms/step - loss: 2.8713 - accuracy: 0.1848 - val_loss: 2.7742 - val_accuracy: 0.1670\n",
            "Epoch 2/500\n",
            "132/132 [==============================] - 1s 4ms/step - loss: 2.7057 - accuracy: 0.1881 - val_loss: 2.7161 - val_accuracy: 0.1670\n",
            "Epoch 3/500\n",
            "132/132 [==============================] - 1s 4ms/step - loss: 2.6778 - accuracy: 0.1881 - val_loss: 2.7041 - val_accuracy: 0.1670\n",
            "Epoch 4/500\n",
            "132/132 [==============================] - 1s 4ms/step - loss: 2.6685 - accuracy: 0.1881 - val_loss: 2.6964 - val_accuracy: 0.1670\n",
            "Epoch 5/500\n",
            "132/132 [==============================] - 1s 4ms/step - loss: 2.6613 - accuracy: 0.1881 - val_loss: 2.6900 - val_accuracy: 0.1670\n",
            "Epoch 6/500\n",
            "132/132 [==============================] - 1s 4ms/step - loss: 2.6537 - accuracy: 0.1881 - val_loss: 2.6840 - val_accuracy: 0.1670\n",
            "Epoch 7/500\n",
            "132/132 [==============================] - 1s 4ms/step - loss: 2.6453 - accuracy: 0.1883 - val_loss: 2.6770 - val_accuracy: 0.1670\n",
            "Epoch 8/500\n",
            "132/132 [==============================] - 1s 4ms/step - loss: 2.6349 - accuracy: 0.1883 - val_loss: 2.6697 - val_accuracy: 0.1670\n",
            "Epoch 9/500\n",
            "132/132 [==============================] - 1s 4ms/step - loss: 2.6283 - accuracy: 0.1883 - val_loss: 2.6610 - val_accuracy: 0.1670\n",
            "Epoch 10/500\n",
            "132/132 [==============================] - 1s 4ms/step - loss: 2.6193 - accuracy: 0.1890 - val_loss: 2.6513 - val_accuracy: 0.1670\n",
            "Epoch 11/500\n",
            "132/132 [==============================] - 1s 4ms/step - loss: 2.6062 - accuracy: 0.1924 - val_loss: 2.6404 - val_accuracy: 0.1670\n",
            "Epoch 12/500\n",
            "132/132 [==============================] - 1s 4ms/step - loss: 2.5896 - accuracy: 0.1938 - val_loss: 2.6295 - val_accuracy: 0.1689\n",
            "Epoch 13/500\n",
            "132/132 [==============================] - 1s 4ms/step - loss: 2.5736 - accuracy: 0.1981 - val_loss: 2.6159 - val_accuracy: 0.1727\n",
            "Epoch 14/500\n",
            "132/132 [==============================] - 1s 4ms/step - loss: 2.5641 - accuracy: 0.2078 - val_loss: 2.6023 - val_accuracy: 0.1765\n",
            "Epoch 15/500\n",
            "132/132 [==============================] - 1s 4ms/step - loss: 2.5407 - accuracy: 0.2113 - val_loss: 2.5873 - val_accuracy: 0.1860\n",
            "Epoch 16/500\n",
            "132/132 [==============================] - 1s 4ms/step - loss: 2.5260 - accuracy: 0.2222 - val_loss: 2.5707 - val_accuracy: 0.1917\n",
            "Epoch 17/500\n",
            "132/132 [==============================] - 1s 4ms/step - loss: 2.5024 - accuracy: 0.2308 - val_loss: 2.5536 - val_accuracy: 0.1935\n",
            "Epoch 18/500\n",
            "132/132 [==============================] - 1s 4ms/step - loss: 2.4798 - accuracy: 0.2365 - val_loss: 2.5351 - val_accuracy: 0.1954\n",
            "Epoch 19/500\n",
            "132/132 [==============================] - 1s 4ms/step - loss: 2.4581 - accuracy: 0.2469 - val_loss: 2.5169 - val_accuracy: 0.1992\n",
            "Epoch 20/500\n",
            "132/132 [==============================] - 1s 4ms/step - loss: 2.4311 - accuracy: 0.2597 - val_loss: 2.4958 - val_accuracy: 0.2201\n",
            "Epoch 21/500\n",
            "132/132 [==============================] - 1s 4ms/step - loss: 2.4076 - accuracy: 0.2623 - val_loss: 2.4746 - val_accuracy: 0.2258\n",
            "Epoch 22/500\n",
            "132/132 [==============================] - 1s 4ms/step - loss: 2.3801 - accuracy: 0.2763 - val_loss: 2.4520 - val_accuracy: 0.2315\n",
            "Epoch 23/500\n",
            "132/132 [==============================] - 1s 4ms/step - loss: 2.3468 - accuracy: 0.2870 - val_loss: 2.4271 - val_accuracy: 0.2391\n",
            "Epoch 24/500\n",
            "132/132 [==============================] - 1s 5ms/step - loss: 2.3196 - accuracy: 0.3010 - val_loss: 2.4027 - val_accuracy: 0.2467\n",
            "Epoch 25/500\n",
            "132/132 [==============================] - 1s 4ms/step - loss: 2.2859 - accuracy: 0.3136 - val_loss: 2.3788 - val_accuracy: 0.2600\n",
            "Epoch 26/500\n",
            "132/132 [==============================] - 1s 4ms/step - loss: 2.2567 - accuracy: 0.3254 - val_loss: 2.3513 - val_accuracy: 0.2676\n",
            "Epoch 27/500\n",
            "132/132 [==============================] - 1s 4ms/step - loss: 2.2223 - accuracy: 0.3456 - val_loss: 2.3238 - val_accuracy: 0.2827\n",
            "Epoch 28/500\n",
            "132/132 [==============================] - 1s 4ms/step - loss: 2.1880 - accuracy: 0.3617 - val_loss: 2.2957 - val_accuracy: 0.2884\n",
            "Epoch 29/500\n",
            "132/132 [==============================] - 1s 4ms/step - loss: 2.1524 - accuracy: 0.3769 - val_loss: 2.2657 - val_accuracy: 0.3036\n",
            "Epoch 30/500\n",
            "132/132 [==============================] - 1s 4ms/step - loss: 2.1155 - accuracy: 0.3954 - val_loss: 2.2369 - val_accuracy: 0.3150\n",
            "Epoch 31/500\n",
            "132/132 [==============================] - 1s 4ms/step - loss: 2.0832 - accuracy: 0.4134 - val_loss: 2.2053 - val_accuracy: 0.3302\n",
            "Epoch 32/500\n",
            "132/132 [==============================] - 1s 4ms/step - loss: 2.0412 - accuracy: 0.4376 - val_loss: 2.1750 - val_accuracy: 0.3340\n",
            "Epoch 33/500\n",
            "132/132 [==============================] - 1s 4ms/step - loss: 2.0072 - accuracy: 0.4547 - val_loss: 2.1434 - val_accuracy: 0.3510\n",
            "Epoch 34/500\n",
            "132/132 [==============================] - 1s 4ms/step - loss: 1.9682 - accuracy: 0.4715 - val_loss: 2.1133 - val_accuracy: 0.3605\n",
            "Epoch 35/500\n",
            "132/132 [==============================] - 1s 4ms/step - loss: 1.9296 - accuracy: 0.4945 - val_loss: 2.0816 - val_accuracy: 0.3738\n",
            "Epoch 36/500\n",
            "132/132 [==============================] - 1s 4ms/step - loss: 1.8881 - accuracy: 0.5157 - val_loss: 2.0495 - val_accuracy: 0.3890\n",
            "Epoch 37/500\n",
            "132/132 [==============================] - 1s 4ms/step - loss: 1.8521 - accuracy: 0.5278 - val_loss: 2.0175 - val_accuracy: 0.4137\n",
            "Epoch 38/500\n",
            "132/132 [==============================] - 1s 4ms/step - loss: 1.8132 - accuracy: 0.5614 - val_loss: 1.9853 - val_accuracy: 0.4402\n",
            "Epoch 39/500\n",
            "132/132 [==============================] - 1s 4ms/step - loss: 1.7737 - accuracy: 0.5716 - val_loss: 1.9543 - val_accuracy: 0.4554\n",
            "Epoch 40/500\n",
            "132/132 [==============================] - 1s 4ms/step - loss: 1.7354 - accuracy: 0.6034 - val_loss: 1.9233 - val_accuracy: 0.4820\n",
            "Epoch 41/500\n",
            "132/132 [==============================] - 1s 4ms/step - loss: 1.6984 - accuracy: 0.6224 - val_loss: 1.8919 - val_accuracy: 0.4972\n",
            "Epoch 42/500\n",
            "132/132 [==============================] - 1s 4ms/step - loss: 1.6586 - accuracy: 0.6376 - val_loss: 1.8603 - val_accuracy: 0.5180\n",
            "Epoch 43/500\n",
            "132/132 [==============================] - 1s 4ms/step - loss: 1.6216 - accuracy: 0.6506 - val_loss: 1.8279 - val_accuracy: 0.5332\n",
            "Epoch 44/500\n",
            "132/132 [==============================] - 1s 4ms/step - loss: 1.5808 - accuracy: 0.6722 - val_loss: 1.7973 - val_accuracy: 0.5408\n",
            "Epoch 45/500\n",
            "132/132 [==============================] - 1s 4ms/step - loss: 1.5455 - accuracy: 0.6886 - val_loss: 1.7687 - val_accuracy: 0.5522\n",
            "Epoch 46/500\n",
            "132/132 [==============================] - 1s 4ms/step - loss: 1.5108 - accuracy: 0.6952 - val_loss: 1.7391 - val_accuracy: 0.5617\n",
            "Epoch 47/500\n",
            "132/132 [==============================] - 1s 4ms/step - loss: 1.4718 - accuracy: 0.7123 - val_loss: 1.7097 - val_accuracy: 0.5693\n",
            "Epoch 48/500\n",
            "132/132 [==============================] - 1s 4ms/step - loss: 1.4369 - accuracy: 0.7222 - val_loss: 1.6812 - val_accuracy: 0.5882\n",
            "Epoch 49/500\n",
            "132/132 [==============================] - 1s 4ms/step - loss: 1.4032 - accuracy: 0.7360 - val_loss: 1.6514 - val_accuracy: 0.6091\n",
            "Epoch 50/500\n",
            "132/132 [==============================] - 1s 4ms/step - loss: 1.3715 - accuracy: 0.7455 - val_loss: 1.6241 - val_accuracy: 0.6224\n",
            "Epoch 51/500\n",
            "132/132 [==============================] - 1s 4ms/step - loss: 1.3412 - accuracy: 0.7581 - val_loss: 1.6010 - val_accuracy: 0.6243\n",
            "Epoch 52/500\n",
            "132/132 [==============================] - 1s 4ms/step - loss: 1.3074 - accuracy: 0.7654 - val_loss: 1.5735 - val_accuracy: 0.6357\n",
            "Epoch 53/500\n",
            "132/132 [==============================] - 1s 4ms/step - loss: 1.2711 - accuracy: 0.7759 - val_loss: 1.5502 - val_accuracy: 0.6376\n",
            "Epoch 54/500\n",
            "132/132 [==============================] - 1s 4ms/step - loss: 1.2409 - accuracy: 0.7759 - val_loss: 1.5225 - val_accuracy: 0.6433\n",
            "Epoch 55/500\n",
            "132/132 [==============================] - 1s 4ms/step - loss: 1.2128 - accuracy: 0.7889 - val_loss: 1.5008 - val_accuracy: 0.6546\n",
            "Epoch 56/500\n",
            "132/132 [==============================] - 1s 4ms/step - loss: 1.1793 - accuracy: 0.7977 - val_loss: 1.4742 - val_accuracy: 0.6622\n",
            "Epoch 57/500\n",
            "132/132 [==============================] - 1s 4ms/step - loss: 1.1536 - accuracy: 0.8000 - val_loss: 1.4521 - val_accuracy: 0.6717\n",
            "Epoch 58/500\n",
            "132/132 [==============================] - 1s 4ms/step - loss: 1.1273 - accuracy: 0.8074 - val_loss: 1.4316 - val_accuracy: 0.6774\n",
            "Epoch 59/500\n",
            "132/132 [==============================] - 1s 4ms/step - loss: 1.0979 - accuracy: 0.8157 - val_loss: 1.4091 - val_accuracy: 0.6755\n",
            "Epoch 60/500\n",
            "132/132 [==============================] - 1s 4ms/step - loss: 1.0752 - accuracy: 0.8204 - val_loss: 1.3886 - val_accuracy: 0.6812\n",
            "Epoch 61/500\n",
            "132/132 [==============================] - 1s 4ms/step - loss: 1.0462 - accuracy: 0.8221 - val_loss: 1.3676 - val_accuracy: 0.6869\n",
            "Epoch 62/500\n",
            "132/132 [==============================] - 1s 4ms/step - loss: 1.0199 - accuracy: 0.8316 - val_loss: 1.3462 - val_accuracy: 0.6926\n",
            "Epoch 63/500\n",
            "132/132 [==============================] - 1s 4ms/step - loss: 1.0009 - accuracy: 0.8290 - val_loss: 1.3266 - val_accuracy: 0.6926\n",
            "Epoch 64/500\n",
            "132/132 [==============================] - 1s 4ms/step - loss: 0.9798 - accuracy: 0.8361 - val_loss: 1.3083 - val_accuracy: 0.7040\n",
            "Epoch 65/500\n",
            "132/132 [==============================] - 1s 4ms/step - loss: 0.9515 - accuracy: 0.8380 - val_loss: 1.2880 - val_accuracy: 0.7116\n",
            "Epoch 66/500\n",
            "132/132 [==============================] - 1s 8ms/step - loss: 0.9281 - accuracy: 0.8425 - val_loss: 1.2749 - val_accuracy: 0.7097\n",
            "Epoch 67/500\n",
            "132/132 [==============================] - 1s 6ms/step - loss: 0.9112 - accuracy: 0.8451 - val_loss: 1.2594 - val_accuracy: 0.7135\n",
            "Epoch 68/500\n",
            "132/132 [==============================] - 1s 7ms/step - loss: 0.8854 - accuracy: 0.8501 - val_loss: 1.2398 - val_accuracy: 0.7154\n",
            "Epoch 69/500\n",
            "132/132 [==============================] - 1s 4ms/step - loss: 0.8710 - accuracy: 0.8510 - val_loss: 1.2233 - val_accuracy: 0.7192\n",
            "Epoch 70/500\n",
            "132/132 [==============================] - 1s 4ms/step - loss: 0.8479 - accuracy: 0.8534 - val_loss: 1.2097 - val_accuracy: 0.7211\n",
            "Epoch 71/500\n",
            "132/132 [==============================] - 1s 4ms/step - loss: 0.8279 - accuracy: 0.8570 - val_loss: 1.1931 - val_accuracy: 0.7230\n",
            "Epoch 72/500\n",
            "132/132 [==============================] - 1s 4ms/step - loss: 0.8123 - accuracy: 0.8631 - val_loss: 1.1765 - val_accuracy: 0.7324\n",
            "Epoch 73/500\n",
            "132/132 [==============================] - 1s 4ms/step - loss: 0.7909 - accuracy: 0.8684 - val_loss: 1.1653 - val_accuracy: 0.7324\n",
            "Epoch 74/500\n",
            "132/132 [==============================] - 1s 4ms/step - loss: 0.7759 - accuracy: 0.8674 - val_loss: 1.1492 - val_accuracy: 0.7362\n",
            "Epoch 75/500\n",
            "132/132 [==============================] - 1s 4ms/step - loss: 0.7533 - accuracy: 0.8729 - val_loss: 1.1385 - val_accuracy: 0.7362\n",
            "Epoch 76/500\n",
            "132/132 [==============================] - 1s 4ms/step - loss: 0.7439 - accuracy: 0.8755 - val_loss: 1.1222 - val_accuracy: 0.7419\n",
            "Epoch 77/500\n",
            "132/132 [==============================] - 1s 4ms/step - loss: 0.7248 - accuracy: 0.8769 - val_loss: 1.1121 - val_accuracy: 0.7438\n",
            "Epoch 78/500\n",
            "132/132 [==============================] - 1s 4ms/step - loss: 0.7096 - accuracy: 0.8800 - val_loss: 1.1025 - val_accuracy: 0.7419\n",
            "Epoch 79/500\n",
            "132/132 [==============================] - 1s 4ms/step - loss: 0.6928 - accuracy: 0.8833 - val_loss: 1.0875 - val_accuracy: 0.7514\n",
            "Epoch 80/500\n",
            "132/132 [==============================] - 1s 4ms/step - loss: 0.6788 - accuracy: 0.8857 - val_loss: 1.0778 - val_accuracy: 0.7495\n",
            "Epoch 81/500\n",
            "132/132 [==============================] - 1s 4ms/step - loss: 0.6632 - accuracy: 0.8899 - val_loss: 1.0678 - val_accuracy: 0.7514\n",
            "Epoch 82/500\n",
            "132/132 [==============================] - 1s 4ms/step - loss: 0.6475 - accuracy: 0.8926 - val_loss: 1.0534 - val_accuracy: 0.7571\n",
            "Epoch 83/500\n",
            "132/132 [==============================] - 1s 4ms/step - loss: 0.6347 - accuracy: 0.8940 - val_loss: 1.0455 - val_accuracy: 0.7552\n",
            "Epoch 84/500\n",
            "132/132 [==============================] - 1s 4ms/step - loss: 0.6213 - accuracy: 0.8994 - val_loss: 1.0354 - val_accuracy: 0.7533\n",
            "Epoch 85/500\n",
            "132/132 [==============================] - 1s 4ms/step - loss: 0.6077 - accuracy: 0.9006 - val_loss: 1.0257 - val_accuracy: 0.7552\n",
            "Epoch 86/500\n",
            "132/132 [==============================] - 1s 4ms/step - loss: 0.5938 - accuracy: 0.9006 - val_loss: 1.0152 - val_accuracy: 0.7647\n",
            "Epoch 87/500\n",
            "132/132 [==============================] - 1s 4ms/step - loss: 0.5843 - accuracy: 0.9035 - val_loss: 1.0097 - val_accuracy: 0.7628\n",
            "Epoch 88/500\n",
            "132/132 [==============================] - 1s 4ms/step - loss: 0.5765 - accuracy: 0.9054 - val_loss: 0.9971 - val_accuracy: 0.7628\n",
            "Epoch 89/500\n",
            "132/132 [==============================] - 1s 4ms/step - loss: 0.5631 - accuracy: 0.9084 - val_loss: 0.9916 - val_accuracy: 0.7666\n",
            "Epoch 90/500\n",
            "132/132 [==============================] - 1s 4ms/step - loss: 0.5504 - accuracy: 0.9077 - val_loss: 0.9801 - val_accuracy: 0.7647\n",
            "Epoch 91/500\n",
            "132/132 [==============================] - 1s 4ms/step - loss: 0.5328 - accuracy: 0.9118 - val_loss: 0.9741 - val_accuracy: 0.7704\n",
            "Epoch 92/500\n",
            "132/132 [==============================] - 1s 4ms/step - loss: 0.5263 - accuracy: 0.9170 - val_loss: 0.9658 - val_accuracy: 0.7704\n",
            "Epoch 93/500\n",
            "132/132 [==============================] - 1s 4ms/step - loss: 0.5152 - accuracy: 0.9198 - val_loss: 0.9596 - val_accuracy: 0.7666\n",
            "Epoch 94/500\n",
            "132/132 [==============================] - 1s 4ms/step - loss: 0.5057 - accuracy: 0.9210 - val_loss: 0.9542 - val_accuracy: 0.7685\n",
            "Epoch 95/500\n",
            "132/132 [==============================] - 1s 4ms/step - loss: 0.4953 - accuracy: 0.9213 - val_loss: 0.9467 - val_accuracy: 0.7742\n",
            "Epoch 96/500\n",
            "132/132 [==============================] - 1s 4ms/step - loss: 0.4828 - accuracy: 0.9234 - val_loss: 0.9405 - val_accuracy: 0.7704\n",
            "Epoch 97/500\n",
            "132/132 [==============================] - 1s 4ms/step - loss: 0.4741 - accuracy: 0.9229 - val_loss: 0.9308 - val_accuracy: 0.7799\n",
            "Epoch 98/500\n",
            "132/132 [==============================] - 1s 4ms/step - loss: 0.4635 - accuracy: 0.9284 - val_loss: 0.9249 - val_accuracy: 0.7704\n",
            "Epoch 99/500\n",
            "132/132 [==============================] - 1s 4ms/step - loss: 0.4515 - accuracy: 0.9300 - val_loss: 0.9229 - val_accuracy: 0.7742\n",
            "Epoch 100/500\n",
            "132/132 [==============================] - 1s 4ms/step - loss: 0.4464 - accuracy: 0.9319 - val_loss: 0.9161 - val_accuracy: 0.7742\n",
            "Epoch 101/500\n",
            "132/132 [==============================] - 1s 4ms/step - loss: 0.4394 - accuracy: 0.9329 - val_loss: 0.9119 - val_accuracy: 0.7723\n",
            "Epoch 102/500\n",
            "132/132 [==============================] - 1s 4ms/step - loss: 0.4303 - accuracy: 0.9343 - val_loss: 0.9043 - val_accuracy: 0.7799\n",
            "Epoch 103/500\n",
            "132/132 [==============================] - 1s 4ms/step - loss: 0.4229 - accuracy: 0.9331 - val_loss: 0.8967 - val_accuracy: 0.7799\n",
            "Epoch 104/500\n",
            "132/132 [==============================] - 1s 4ms/step - loss: 0.4126 - accuracy: 0.9371 - val_loss: 0.8906 - val_accuracy: 0.7780\n",
            "Epoch 105/500\n",
            "132/132 [==============================] - 1s 4ms/step - loss: 0.4029 - accuracy: 0.9393 - val_loss: 0.8849 - val_accuracy: 0.7799\n",
            "Epoch 106/500\n",
            "132/132 [==============================] - 1s 4ms/step - loss: 0.3987 - accuracy: 0.9374 - val_loss: 0.8832 - val_accuracy: 0.7818\n",
            "Epoch 107/500\n",
            "132/132 [==============================] - 1s 4ms/step - loss: 0.3911 - accuracy: 0.9424 - val_loss: 0.8773 - val_accuracy: 0.7818\n",
            "Epoch 108/500\n",
            "132/132 [==============================] - 1s 4ms/step - loss: 0.3795 - accuracy: 0.9438 - val_loss: 0.8752 - val_accuracy: 0.7799\n",
            "Epoch 109/500\n",
            "132/132 [==============================] - 1s 4ms/step - loss: 0.3743 - accuracy: 0.9435 - val_loss: 0.8693 - val_accuracy: 0.7837\n",
            "Epoch 110/500\n",
            "132/132 [==============================] - 1s 4ms/step - loss: 0.3656 - accuracy: 0.9478 - val_loss: 0.8679 - val_accuracy: 0.7818\n",
            "Epoch 111/500\n",
            "132/132 [==============================] - 1s 4ms/step - loss: 0.3612 - accuracy: 0.9481 - val_loss: 0.8595 - val_accuracy: 0.7913\n",
            "Epoch 112/500\n",
            "132/132 [==============================] - 1s 4ms/step - loss: 0.3493 - accuracy: 0.9519 - val_loss: 0.8604 - val_accuracy: 0.7875\n",
            "Epoch 113/500\n",
            "132/132 [==============================] - 1s 4ms/step - loss: 0.3450 - accuracy: 0.9492 - val_loss: 0.8527 - val_accuracy: 0.7894\n",
            "Epoch 114/500\n",
            "132/132 [==============================] - 1s 4ms/step - loss: 0.3403 - accuracy: 0.9511 - val_loss: 0.8482 - val_accuracy: 0.7894\n",
            "Epoch 115/500\n",
            "132/132 [==============================] - 1s 4ms/step - loss: 0.3294 - accuracy: 0.9519 - val_loss: 0.8437 - val_accuracy: 0.7932\n",
            "Epoch 116/500\n",
            "132/132 [==============================] - 1s 4ms/step - loss: 0.3261 - accuracy: 0.9526 - val_loss: 0.8417 - val_accuracy: 0.7951\n",
            "Epoch 117/500\n",
            "132/132 [==============================] - 1s 4ms/step - loss: 0.3210 - accuracy: 0.9523 - val_loss: 0.8372 - val_accuracy: 0.7951\n",
            "Epoch 118/500\n",
            "132/132 [==============================] - 1s 4ms/step - loss: 0.3137 - accuracy: 0.9535 - val_loss: 0.8372 - val_accuracy: 0.7989\n",
            "Epoch 119/500\n",
            "132/132 [==============================] - 1s 4ms/step - loss: 0.3099 - accuracy: 0.9571 - val_loss: 0.8327 - val_accuracy: 0.7970\n",
            "Epoch 120/500\n",
            "132/132 [==============================] - 1s 4ms/step - loss: 0.3019 - accuracy: 0.9573 - val_loss: 0.8327 - val_accuracy: 0.7932\n",
            "Epoch 121/500\n",
            "132/132 [==============================] - 1s 4ms/step - loss: 0.2981 - accuracy: 0.9561 - val_loss: 0.8284 - val_accuracy: 0.7970\n",
            "Epoch 122/500\n",
            "132/132 [==============================] - 1s 4ms/step - loss: 0.2898 - accuracy: 0.9632 - val_loss: 0.8246 - val_accuracy: 0.8008\n",
            "Epoch 123/500\n",
            "132/132 [==============================] - 1s 4ms/step - loss: 0.2831 - accuracy: 0.9613 - val_loss: 0.8176 - val_accuracy: 0.8027\n",
            "Epoch 124/500\n",
            "132/132 [==============================] - 1s 4ms/step - loss: 0.2805 - accuracy: 0.9604 - val_loss: 0.8193 - val_accuracy: 0.7970\n",
            "Epoch 125/500\n",
            "132/132 [==============================] - 1s 4ms/step - loss: 0.2733 - accuracy: 0.9663 - val_loss: 0.8175 - val_accuracy: 0.8008\n",
            "Epoch 126/500\n",
            "132/132 [==============================] - 1s 4ms/step - loss: 0.2676 - accuracy: 0.9656 - val_loss: 0.8139 - val_accuracy: 0.7989\n",
            "Epoch 127/500\n",
            "132/132 [==============================] - 1s 4ms/step - loss: 0.2614 - accuracy: 0.9651 - val_loss: 0.8097 - val_accuracy: 0.8027\n",
            "Epoch 128/500\n",
            "132/132 [==============================] - 1s 4ms/step - loss: 0.2575 - accuracy: 0.9682 - val_loss: 0.8090 - val_accuracy: 0.8008\n",
            "Epoch 129/500\n",
            "132/132 [==============================] - 1s 4ms/step - loss: 0.2556 - accuracy: 0.9687 - val_loss: 0.8057 - val_accuracy: 0.8008\n",
            "Epoch 130/500\n",
            "132/132 [==============================] - 1s 4ms/step - loss: 0.2524 - accuracy: 0.9685 - val_loss: 0.8047 - val_accuracy: 0.7989\n",
            "Epoch 131/500\n",
            "132/132 [==============================] - 1s 4ms/step - loss: 0.2454 - accuracy: 0.9675 - val_loss: 0.8016 - val_accuracy: 0.8046\n",
            "Epoch 132/500\n",
            "132/132 [==============================] - 1s 4ms/step - loss: 0.2377 - accuracy: 0.9706 - val_loss: 0.7981 - val_accuracy: 0.8046\n",
            "Epoch 133/500\n",
            "132/132 [==============================] - 1s 4ms/step - loss: 0.2367 - accuracy: 0.9715 - val_loss: 0.7974 - val_accuracy: 0.8046\n",
            "Epoch 134/500\n",
            "132/132 [==============================] - 1s 4ms/step - loss: 0.2316 - accuracy: 0.9713 - val_loss: 0.7949 - val_accuracy: 0.8065\n",
            "Epoch 135/500\n",
            "132/132 [==============================] - 1s 4ms/step - loss: 0.2258 - accuracy: 0.9701 - val_loss: 0.7912 - val_accuracy: 0.8083\n",
            "Epoch 136/500\n",
            "132/132 [==============================] - 1s 4ms/step - loss: 0.2227 - accuracy: 0.9722 - val_loss: 0.7897 - val_accuracy: 0.8083\n",
            "Epoch 137/500\n",
            "132/132 [==============================] - 1s 4ms/step - loss: 0.2155 - accuracy: 0.9763 - val_loss: 0.7900 - val_accuracy: 0.8065\n",
            "Epoch 138/500\n",
            "132/132 [==============================] - 1s 4ms/step - loss: 0.2126 - accuracy: 0.9751 - val_loss: 0.7876 - val_accuracy: 0.8046\n",
            "Epoch 139/500\n",
            "132/132 [==============================] - 1s 4ms/step - loss: 0.2102 - accuracy: 0.9749 - val_loss: 0.7853 - val_accuracy: 0.8065\n",
            "Epoch 140/500\n",
            "132/132 [==============================] - 1s 4ms/step - loss: 0.2067 - accuracy: 0.9753 - val_loss: 0.7828 - val_accuracy: 0.8102\n",
            "Epoch 141/500\n",
            "132/132 [==============================] - 1s 4ms/step - loss: 0.2038 - accuracy: 0.9760 - val_loss: 0.7831 - val_accuracy: 0.8102\n",
            "Epoch 142/500\n",
            "132/132 [==============================] - 1s 4ms/step - loss: 0.1987 - accuracy: 0.9772 - val_loss: 0.7845 - val_accuracy: 0.8083\n",
            "Epoch 143/500\n",
            "132/132 [==============================] - 1s 4ms/step - loss: 0.1941 - accuracy: 0.9756 - val_loss: 0.7790 - val_accuracy: 0.8121\n",
            "Epoch 144/500\n",
            "132/132 [==============================] - 1s 4ms/step - loss: 0.1905 - accuracy: 0.9798 - val_loss: 0.7776 - val_accuracy: 0.8046\n",
            "Epoch 145/500\n",
            "132/132 [==============================] - 1s 4ms/step - loss: 0.1871 - accuracy: 0.9779 - val_loss: 0.7789 - val_accuracy: 0.8102\n",
            "Epoch 146/500\n",
            "132/132 [==============================] - 1s 4ms/step - loss: 0.1833 - accuracy: 0.9787 - val_loss: 0.7778 - val_accuracy: 0.8065\n",
            "Epoch 147/500\n",
            "132/132 [==============================] - 1s 4ms/step - loss: 0.1778 - accuracy: 0.9827 - val_loss: 0.7770 - val_accuracy: 0.8065\n",
            "Epoch 148/500\n",
            "132/132 [==============================] - 1s 4ms/step - loss: 0.1799 - accuracy: 0.9813 - val_loss: 0.7721 - val_accuracy: 0.8083\n",
            "Epoch 149/500\n",
            "132/132 [==============================] - 1s 4ms/step - loss: 0.1738 - accuracy: 0.9815 - val_loss: 0.7714 - val_accuracy: 0.8102\n",
            "Epoch 150/500\n",
            "132/132 [==============================] - 1s 4ms/step - loss: 0.1729 - accuracy: 0.9824 - val_loss: 0.7695 - val_accuracy: 0.8102\n",
            "Epoch 151/500\n",
            "132/132 [==============================] - 1s 4ms/step - loss: 0.1682 - accuracy: 0.9832 - val_loss: 0.7684 - val_accuracy: 0.8102\n",
            "Epoch 152/500\n",
            "132/132 [==============================] - 1s 4ms/step - loss: 0.1642 - accuracy: 0.9829 - val_loss: 0.7685 - val_accuracy: 0.8102\n",
            "Epoch 153/500\n",
            "132/132 [==============================] - 1s 4ms/step - loss: 0.1606 - accuracy: 0.9843 - val_loss: 0.7705 - val_accuracy: 0.8121\n",
            "Epoch 154/500\n",
            "132/132 [==============================] - 1s 4ms/step - loss: 0.1559 - accuracy: 0.9827 - val_loss: 0.7707 - val_accuracy: 0.8102\n",
            "Epoch 155/500\n",
            "132/132 [==============================] - 1s 4ms/step - loss: 0.1544 - accuracy: 0.9829 - val_loss: 0.7688 - val_accuracy: 0.8102\n",
            "Epoch 156/500\n",
            "132/132 [==============================] - 1s 4ms/step - loss: 0.1508 - accuracy: 0.9843 - val_loss: 0.7647 - val_accuracy: 0.8121\n",
            "Epoch 157/500\n",
            "132/132 [==============================] - 1s 4ms/step - loss: 0.1484 - accuracy: 0.9851 - val_loss: 0.7664 - val_accuracy: 0.8121\n",
            "Epoch 158/500\n",
            "132/132 [==============================] - 1s 4ms/step - loss: 0.1487 - accuracy: 0.9843 - val_loss: 0.7676 - val_accuracy: 0.8140\n",
            "Epoch 159/500\n",
            "132/132 [==============================] - 1s 4ms/step - loss: 0.1437 - accuracy: 0.9853 - val_loss: 0.7658 - val_accuracy: 0.8121\n",
            "Epoch 160/500\n",
            "132/132 [==============================] - 1s 4ms/step - loss: 0.1413 - accuracy: 0.9853 - val_loss: 0.7645 - val_accuracy: 0.8140\n",
            "Epoch 161/500\n",
            "132/132 [==============================] - 1s 4ms/step - loss: 0.1363 - accuracy: 0.9867 - val_loss: 0.7642 - val_accuracy: 0.8178\n",
            "Epoch 162/500\n",
            "132/132 [==============================] - 1s 4ms/step - loss: 0.1348 - accuracy: 0.9881 - val_loss: 0.7613 - val_accuracy: 0.8159\n",
            "Epoch 163/500\n",
            "132/132 [==============================] - 1s 4ms/step - loss: 0.1327 - accuracy: 0.9884 - val_loss: 0.7621 - val_accuracy: 0.8159\n",
            "Epoch 164/500\n",
            "132/132 [==============================] - 1s 4ms/step - loss: 0.1297 - accuracy: 0.9872 - val_loss: 0.7600 - val_accuracy: 0.8159\n",
            "Epoch 165/500\n",
            "132/132 [==============================] - 1s 4ms/step - loss: 0.1284 - accuracy: 0.9889 - val_loss: 0.7599 - val_accuracy: 0.8178\n",
            "Epoch 166/500\n",
            "132/132 [==============================] - 1s 4ms/step - loss: 0.1248 - accuracy: 0.9870 - val_loss: 0.7614 - val_accuracy: 0.8140\n",
            "Epoch 167/500\n",
            "132/132 [==============================] - 1s 4ms/step - loss: 0.1249 - accuracy: 0.9867 - val_loss: 0.7608 - val_accuracy: 0.8178\n",
            "Epoch 168/500\n",
            "132/132 [==============================] - 1s 5ms/step - loss: 0.1189 - accuracy: 0.9903 - val_loss: 0.7595 - val_accuracy: 0.8159\n",
            "Epoch 169/500\n",
            "132/132 [==============================] - 1s 4ms/step - loss: 0.1193 - accuracy: 0.9881 - val_loss: 0.7570 - val_accuracy: 0.8140\n",
            "Epoch 170/500\n",
            "132/132 [==============================] - 1s 4ms/step - loss: 0.1143 - accuracy: 0.9874 - val_loss: 0.7591 - val_accuracy: 0.8197\n",
            "Epoch 171/500\n",
            "132/132 [==============================] - 1s 5ms/step - loss: 0.1118 - accuracy: 0.9896 - val_loss: 0.7551 - val_accuracy: 0.8216\n",
            "Epoch 172/500\n",
            "132/132 [==============================] - 1s 4ms/step - loss: 0.1104 - accuracy: 0.9900 - val_loss: 0.7591 - val_accuracy: 0.8197\n",
            "Epoch 173/500\n",
            "132/132 [==============================] - 1s 5ms/step - loss: 0.1110 - accuracy: 0.9905 - val_loss: 0.7561 - val_accuracy: 0.8159\n",
            "Epoch 174/500\n",
            "132/132 [==============================] - 1s 4ms/step - loss: 0.1080 - accuracy: 0.9881 - val_loss: 0.7569 - val_accuracy: 0.8216\n",
            "Epoch 175/500\n",
            "132/132 [==============================] - 1s 5ms/step - loss: 0.1067 - accuracy: 0.9898 - val_loss: 0.7539 - val_accuracy: 0.8197\n",
            "Epoch 176/500\n",
            "132/132 [==============================] - 1s 5ms/step - loss: 0.1053 - accuracy: 0.9886 - val_loss: 0.7558 - val_accuracy: 0.8216\n",
            "Epoch 177/500\n",
            "132/132 [==============================] - 1s 4ms/step - loss: 0.1006 - accuracy: 0.9905 - val_loss: 0.7544 - val_accuracy: 0.8216\n",
            "Epoch 178/500\n",
            "132/132 [==============================] - 1s 5ms/step - loss: 0.0992 - accuracy: 0.9922 - val_loss: 0.7555 - val_accuracy: 0.8216\n",
            "Epoch 179/500\n",
            "132/132 [==============================] - 1s 4ms/step - loss: 0.0984 - accuracy: 0.9893 - val_loss: 0.7544 - val_accuracy: 0.8197\n",
            "Epoch 180/500\n",
            "132/132 [==============================] - 1s 4ms/step - loss: 0.0966 - accuracy: 0.9917 - val_loss: 0.7545 - val_accuracy: 0.8216\n",
            "Epoch 180: early stopping\n"
          ]
        }
      ]
    },
    {
      "cell_type": "code",
      "source": [
        "# printing loss and accuracy of the model on the test set\n",
        "loss, accuracy = model.evaluate(test_ds)\n",
        "print(\"Loss: \", loss)\n",
        "print(\"Accuracy: \", accuracy)"
      ],
      "metadata": {
        "colab": {
          "base_uri": "https://localhost:8080/"
        },
        "id": "FksY9EwwHDkd",
        "outputId": "c28b26f3-b70d-4a10-867a-fa9be7f38b4f"
      },
      "execution_count": null,
      "outputs": [
        {
          "output_type": "stream",
          "name": "stdout",
          "text": [
            "17/17 [==============================] - 0s 2ms/step - loss: 0.8373 - accuracy: 0.8121\n",
            "Loss:  0.8373170495033264\n",
            "Accuracy:  0.8121442198753357\n"
          ]
        }
      ]
    },
    {
      "cell_type": "code",
      "source": [
        "# extracting the history of training and its keys\n",
        "history_dict = history.history\n",
        "history_dict.keys()"
      ],
      "metadata": {
        "colab": {
          "base_uri": "https://localhost:8080/"
        },
        "id": "cPdyDruxHIv1",
        "outputId": "4ba68292-2df2-4095-b930-86ff471d0733"
      },
      "execution_count": null,
      "outputs": [
        {
          "output_type": "execute_result",
          "data": {
            "text/plain": [
              "dict_keys(['loss', 'accuracy', 'val_loss', 'val_accuracy'])"
            ]
          },
          "metadata": {},
          "execution_count": 23
        }
      ]
    },
    {
      "cell_type": "code",
      "source": [
        "acc = history_dict['accuracy']\n",
        "val_acc = history_dict['val_accuracy']\n",
        "loss = history_dict['loss']\n",
        "val_loss = history_dict['val_loss']\n",
        "\n",
        "epochs = range(1, len(acc) + 1)"
      ],
      "metadata": {
        "id": "shbF_xRlHDqZ"
      },
      "execution_count": null,
      "outputs": []
    },
    {
      "cell_type": "code",
      "source": [
        "# ploting of loss\n",
        "plt.plot(epochs, loss, 'b', label='Training loss')\n",
        "plt.plot(epochs, val_loss, 'r', label='Validation loss')\n",
        "plt.title('Training and validation loss')\n",
        "plt.xlabel('Epochs')\n",
        "plt.ylabel('Loss')\n",
        "plt.legend()\n",
        "plt.show()"
      ],
      "metadata": {
        "colab": {
          "base_uri": "https://localhost:8080/",
          "height": 295
        },
        "id": "iLsoTgHGP7Oq",
        "outputId": "ea2b0880-348b-4632-948f-84e37aa8ae43"
      },
      "execution_count": null,
      "outputs": [
        {
          "output_type": "display_data",
          "data": {
            "text/plain": [
              "<Figure size 432x288 with 1 Axes>"
            ],
            "image/png": "[encoded data removed]"
          },
          "metadata": {
            "needs_background": "light"
          }
        }
      ]
    },
    {
      "cell_type": "code",
      "source": [
        "# plotting of accuracy\n",
        "plt.plot(epochs, acc, 'b', label='Training acc')\n",
        "plt.plot(epochs, val_acc, 'r', label='Validation acc')\n",
        "plt.title('Training and validation accuracy')\n",
        "plt.xlabel('Epochs')\n",
        "plt.ylabel('Accuracy')\n",
        "plt.legend(loc='lower right')\n",
        "plt.show()"
      ],
      "metadata": {
        "colab": {
          "base_uri": "https://localhost:8080/",
          "height": 295
        },
        "id": "1uWqq-CtP-Lq",
        "outputId": "34923af6-93c8-4f41-985c-84034bcbf555"
      },
      "execution_count": null,
      "outputs": [
        {
          "output_type": "display_data",
          "data": {
            "text/plain": [
              "<Figure size 432x288 with 1 Axes>"
            ],
            "image/png": "[encoded data removed]"
          },
          "metadata": {
            "needs_background": "light"
          }
        }
      ]
    },
    {
      "cell_type": "code",
      "source": [
        "# creating the probability model for testing\n",
        "probability_model = tf.keras.Sequential([model, tf.keras.layers.Softmax()])\n",
        "\n",
        "# predicting test samples\n",
        "predictions = probability_model.predict(raw_test_batch.map(vectorize_text))"
      ],
      "metadata": {
        "id": "YQj61lIMvX-Y"
      },
      "execution_count": null,
      "outputs": []
    },
    {
      "cell_type": "code",
      "source": [
        "# showing the first test sample result label\n",
        "np.argmax(predictions[0])"
      ],
      "metadata": {
        "colab": {
          "base_uri": "https://localhost:8080/"
        },
        "id": "5cbhBKR7NYPQ",
        "outputId": "bef0bf87-3b86-4ce1-ec4a-d28ee596ca16"
      },
      "execution_count": null,
      "outputs": [
        {
          "output_type": "execute_result",
          "data": {
            "text/plain": [
              "12"
            ]
          },
          "metadata": {},
          "execution_count": 28
        }
      ]
    },
    {
      "cell_type": "code",
      "source": [
        "# showing the true label of the first test sample\n",
        "test_df.iloc[0]"
      ],
      "metadata": {
        "colab": {
          "base_uri": "https://localhost:8080/"
        },
        "id": "aNsnTWVuu3xj",
        "outputId": "a5ce8035-f6b0-44b5-95ed-8d30c222029c"
      },
      "execution_count": null,
      "outputs": [
        {
          "output_type": "execute_result",
          "data": {
            "text/plain": [
              "text         herschel sulfur spring olive night reflective ...\n",
              "label                                           Luggage & Bags\n",
              "label_int                                                   12\n",
              "Name: 3686, dtype: object"
            ]
          },
          "metadata": {},
          "execution_count": 29
        }
      ]
    },
    {
      "cell_type": "code",
      "source": [],
      "metadata": {
        "id": "bOt2UPu7NbUW"
      },
      "execution_count": null,
      "outputs": []
    },
    {
      "cell_type": "markdown",
      "source": [
        "**Author:** https://farrokhkarimi.github.io/"
      ],
      "metadata": {
        "id": "CSw7kwIQipyc"
      }
    }
  ]
}