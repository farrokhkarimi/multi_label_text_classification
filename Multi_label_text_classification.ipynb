{
  "cells": [
    {
      "cell_type": "markdown",
      "metadata": {
        "id": "view-in-github",
        "colab_type": "text"
      },
      "source": [
        "<a href=\"https://colab.research.google.com/github/aliejabbari/multi_label_text_classification/blob/main/Multi_label_text_classification.ipynb\" target=\"_parent\"><img src=\"https://colab.research.google.com/assets/colab-badge.svg\" alt=\"Open In Colab\"/></a>"
      ]
    },
    {
      "cell_type": "markdown",
      "metadata": {
        "id": "Bij91pNWQOR5"
      },
      "source": [
        "# Multi-label text classification\n",
        "**Author:** [Farrokh Karimi](https://github.com/farrokhkarimi)\n",
        "\n",
        "**Editor:** [Ali Jabbari](https://github.com/aliejabbari)\n",
        "\n",
        "**Description:** In this notebook, we want to improve our model to have better accuracy in classifying new data in multi-label text classification task.\n",
        "I tested different Deeplearning Networks architecture to test which one gives better results on this data set and came up with the following answer with simple network architecture.\n",
        "I obtained accuracy of 84.25% (and 0.654 of loss) , 82.73% and 82.16% from the model using network with dense architecture, deep network with block transformer and deep network with convolutional layer. In all three cases, the accuracy obtained is better than the sample made by the author."
      ]
    },
    {
      "cell_type": "markdown",
      "source": [
        "**Import important laibrary**"
      ],
      "metadata": {
        "id": "WtoYw5HZkdDN"
      }
    },
    {
      "cell_type": "code",
      "execution_count": 1,
      "metadata": {
        "id": "sL739kMAEsU9"
      },
      "outputs": [],
      "source": [
        "import matplotlib.pyplot as plt\n",
        "import numpy as np\n",
        "import pandas as pd\n",
        "import re\n",
        "import tensorflow as tf\n",
        "from collections import Counter\n",
        "from sklearn.model_selection import train_test_split\n",
        "from tensorflow.keras import layers"
      ]
    },
    {
      "cell_type": "markdown",
      "source": [
        "**Download and Read Runash Dataset**\n"
      ],
      "metadata": {
        "id": "AW3Als2NlDCl"
      }
    },
    {
      "cell_type": "code",
      "execution_count": 2,
      "metadata": {
        "colab": {
          "base_uri": "https://localhost:8080/"
        },
        "id": "SHa9m3aLEbyP",
        "outputId": "4ab854d9-1317-44a4-aa02-2b77f503e8da"
      },
      "outputs": [
        {
          "output_type": "stream",
          "name": "stdout",
          "text": [
            "Downloading...\n",
            "From: https://drive.google.com/uc?id=1Yq3XTnACkvaIiNlhX09Zth55nOau7jQy\n",
            "To: /content/Ronash_DS_Assignment.csv\n",
            "\r  0% 0.00/1.05M [00:00<?, ?B/s]\r100% 1.05M/1.05M [00:00<00:00, 133MB/s]\n"
          ]
        }
      ],
      "source": [
        "# downloading Data from the Google Drive link\n",
        "!gdown 1Yq3XTnACkvaIiNlhX09Zth55nOau7jQy"
      ]
    },
    {
      "cell_type": "code",
      "execution_count": 3,
      "metadata": {
        "colab": {
          "base_uri": "https://localhost:8080/"
        },
        "id": "6QpBuoWrC5QS",
        "outputId": "c96a131a-423d-4045-84d6-cfb305655339"
      },
      "outputs": [
        {
          "output_type": "stream",
          "name": "stdout",
          "text": [
            "Ronash_DS_Assignment.csv  \u001b[0m\u001b[01;34msample_data\u001b[0m/\n"
          ]
        }
      ],
      "source": [
        "ls"
      ]
    },
    {
      "cell_type": "code",
      "execution_count": 4,
      "metadata": {
        "colab": {
          "base_uri": "https://localhost:8080/",
          "height": 423
        },
        "id": "722bMOmzF4_H",
        "outputId": "f688f275-832d-46ac-b3aa-4d4939f91dab"
      },
      "outputs": [
        {
          "output_type": "execute_result",
          "data": {
            "text/plain": [
              "         product_id                                              title  \\\n",
              "0     3937721221199    Fidele Super Premium Adult Large Breed Dog Food   \n",
              "1     7353058033889                    Foldable Pet Toys Linen Storage   \n",
              "2     6594773549129                                     Bok Dok Diaper   \n",
              "3     4802008318014                              Tastybone Toy Chicken   \n",
              "4     1779705151539                Leather Leash Tab - Short Dog Leash   \n",
              "...             ...                                                ...   \n",
              "5265  4637089464407                              Candylab MOO Milk Van   \n",
              "5266  4996632444987  Truck - Modern Era Vehicles -- Red, White -  S...   \n",
              "5267  5528541003927  Car Sticker Flags Decal American Flag Sticker for   \n",
              "5268  1395163889730          Lazer Helmets Bayamo Pit Bull - Full Face   \n",
              "5269  3535679324240                             Deutz Agrotron Tractor   \n",
              "\n",
              "                 vendor                                               tags  \\\n",
              "0                Fidele  ['Adult', 'Bangalore', 'Chennai', 'Chicken', '...   \n",
              "1             Cap Point                                                 []   \n",
              "2             Pets Home  ['Brand_Pet Arabia', 'Category_Pets Home', 'Ca...   \n",
              "3             TastyBone                                                 []   \n",
              "4            Mighty Paw                 ['Leash', 'Leash Tab', 'Training']   \n",
              "...                 ...                                                ...   \n",
              "5265           Candylab  ['3 Years +', 'candylab', 'Discount Products',...   \n",
              "5266   Woodland Scenics  ['HO Scale', 'ho-scale-items', 'vehicles', 'wo...   \n",
              "5267        Cyan Selene                                          ['Other']   \n",
              "5268  OPEN BOX BARGAINS  ['65061090', 'Antiscratch Pinlock Ready Visor'...   \n",
              "5269               Siku  ['$0 to $25', 'diecast-models', 'gift-finder',...   \n",
              "\n",
              "                    category  \n",
              "0     Animals & Pet Supplies  \n",
              "1     Animals & Pet Supplies  \n",
              "2     Animals & Pet Supplies  \n",
              "3     Animals & Pet Supplies  \n",
              "4     Animals & Pet Supplies  \n",
              "...                      ...  \n",
              "5265        Vehicles & Parts  \n",
              "5266        Vehicles & Parts  \n",
              "5267        Vehicles & Parts  \n",
              "5268        Vehicles & Parts  \n",
              "5269        Vehicles & Parts  \n",
              "\n",
              "[5270 rows x 5 columns]"
            ],
            "text/html": [
              "\n",
              "  <div id=\"df-9267eed4-7c93-4ff3-a922-c7adcd7dbeca\">\n",
              "    <div class=\"colab-df-container\">\n",
              "      <div>\n",
              "<style scoped>\n",
              "    .dataframe tbody tr th:only-of-type {\n",
              "        vertical-align: middle;\n",
              "    }\n",
              "\n",
              "    .dataframe tbody tr th {\n",
              "        vertical-align: top;\n",
              "    }\n",
              "\n",
              "    .dataframe thead th {\n",
              "        text-align: right;\n",
              "    }\n",
              "</style>\n",
              "<table border=\"1\" class=\"dataframe\">\n",
              "  <thead>\n",
              "    <tr style=\"text-align: right;\">\n",
              "      <th></th>\n",
              "      <th>product_id</th>\n",
              "      <th>title</th>\n",
              "      <th>vendor</th>\n",
              "      <th>tags</th>\n",
              "      <th>category</th>\n",
              "    </tr>\n",
              "  </thead>\n",
              "  <tbody>\n",
              "    <tr>\n",
              "      <th>0</th>\n",
              "      <td>3937721221199</td>\n",
              "      <td>Fidele Super Premium Adult Large Breed Dog Food</td>\n",
              "      <td>Fidele</td>\n",
              "      <td>['Adult', 'Bangalore', 'Chennai', 'Chicken', '...</td>\n",
              "      <td>Animals &amp; Pet Supplies</td>\n",
              "    </tr>\n",
              "    <tr>\n",
              "      <th>1</th>\n",
              "      <td>7353058033889</td>\n",
              "      <td>Foldable Pet Toys Linen Storage</td>\n",
              "      <td>Cap Point</td>\n",
              "      <td>[]</td>\n",
              "      <td>Animals &amp; Pet Supplies</td>\n",
              "    </tr>\n",
              "    <tr>\n",
              "      <th>2</th>\n",
              "      <td>6594773549129</td>\n",
              "      <td>Bok Dok Diaper</td>\n",
              "      <td>Pets Home</td>\n",
              "      <td>['Brand_Pet Arabia', 'Category_Pets Home', 'Ca...</td>\n",
              "      <td>Animals &amp; Pet Supplies</td>\n",
              "    </tr>\n",
              "    <tr>\n",
              "      <th>3</th>\n",
              "      <td>4802008318014</td>\n",
              "      <td>Tastybone Toy Chicken</td>\n",
              "      <td>TastyBone</td>\n",
              "      <td>[]</td>\n",
              "      <td>Animals &amp; Pet Supplies</td>\n",
              "    </tr>\n",
              "    <tr>\n",
              "      <th>4</th>\n",
              "      <td>1779705151539</td>\n",
              "      <td>Leather Leash Tab - Short Dog Leash</td>\n",
              "      <td>Mighty Paw</td>\n",
              "      <td>['Leash', 'Leash Tab', 'Training']</td>\n",
              "      <td>Animals &amp; Pet Supplies</td>\n",
              "    </tr>\n",
              "    <tr>\n",
              "      <th>...</th>\n",
              "      <td>...</td>\n",
              "      <td>...</td>\n",
              "      <td>...</td>\n",
              "      <td>...</td>\n",
              "      <td>...</td>\n",
              "    </tr>\n",
              "    <tr>\n",
              "      <th>5265</th>\n",
              "      <td>4637089464407</td>\n",
              "      <td>Candylab MOO Milk Van</td>\n",
              "      <td>Candylab</td>\n",
              "      <td>['3 Years +', 'candylab', 'Discount Products',...</td>\n",
              "      <td>Vehicles &amp; Parts</td>\n",
              "    </tr>\n",
              "    <tr>\n",
              "      <th>5266</th>\n",
              "      <td>4996632444987</td>\n",
              "      <td>Truck - Modern Era Vehicles -- Red, White -  S...</td>\n",
              "      <td>Woodland Scenics</td>\n",
              "      <td>['HO Scale', 'ho-scale-items', 'vehicles', 'wo...</td>\n",
              "      <td>Vehicles &amp; Parts</td>\n",
              "    </tr>\n",
              "    <tr>\n",
              "      <th>5267</th>\n",
              "      <td>5528541003927</td>\n",
              "      <td>Car Sticker Flags Decal American Flag Sticker for</td>\n",
              "      <td>Cyan Selene</td>\n",
              "      <td>['Other']</td>\n",
              "      <td>Vehicles &amp; Parts</td>\n",
              "    </tr>\n",
              "    <tr>\n",
              "      <th>5268</th>\n",
              "      <td>1395163889730</td>\n",
              "      <td>Lazer Helmets Bayamo Pit Bull - Full Face</td>\n",
              "      <td>OPEN BOX BARGAINS</td>\n",
              "      <td>['65061090', 'Antiscratch Pinlock Ready Visor'...</td>\n",
              "      <td>Vehicles &amp; Parts</td>\n",
              "    </tr>\n",
              "    <tr>\n",
              "      <th>5269</th>\n",
              "      <td>3535679324240</td>\n",
              "      <td>Deutz Agrotron Tractor</td>\n",
              "      <td>Siku</td>\n",
              "      <td>['$0 to $25', 'diecast-models', 'gift-finder',...</td>\n",
              "      <td>Vehicles &amp; Parts</td>\n",
              "    </tr>\n",
              "  </tbody>\n",
              "</table>\n",
              "<p>5270 rows × 5 columns</p>\n",
              "</div>\n",
              "      <button class=\"colab-df-convert\" onclick=\"convertToInteractive('df-9267eed4-7c93-4ff3-a922-c7adcd7dbeca')\"\n",
              "              title=\"Convert this dataframe to an interactive table.\"\n",
              "              style=\"display:none;\">\n",
              "        \n",
              "  <svg xmlns=\"http://www.w3.org/2000/svg\" height=\"24px\"viewBox=\"0 0 24 24\"\n",
              "       width=\"24px\">\n",
              "    <path d=\"M0 0h24v24H0V0z\" fill=\"none\"/>\n",
              "    <path d=\"M18.56 5.44l.94 2.06.94-2.06 2.06-.94-2.06-.94-.94-2.06-.94 2.06-2.06.94zm-11 1L8.5 8.5l.94-2.06 2.06-.94-2.06-.94L8.5 2.5l-.94 2.06-2.06.94zm10 10l.94 2.06.94-2.06 2.06-.94-2.06-.94-.94-2.06-.94 2.06-2.06.94z\"/><path d=\"M17.41 7.96l-1.37-1.37c-.4-.4-.92-.59-1.43-.59-.52 0-1.04.2-1.43.59L10.3 9.45l-7.72 7.72c-.78.78-.78 2.05 0 2.83L4 21.41c.39.39.9.59 1.41.59.51 0 1.02-.2 1.41-.59l7.78-7.78 2.81-2.81c.8-.78.8-2.07 0-2.86zM5.41 20L4 18.59l7.72-7.72 1.47 1.35L5.41 20z\"/>\n",
              "  </svg>\n",
              "      </button>\n",
              "      \n",
              "  <style>\n",
              "    .colab-df-container {\n",
              "      display:flex;\n",
              "      flex-wrap:wrap;\n",
              "      gap: 12px;\n",
              "    }\n",
              "\n",
              "    .colab-df-convert {\n",
              "      background-color: #E8F0FE;\n",
              "      border: none;\n",
              "      border-radius: 50%;\n",
              "      cursor: pointer;\n",
              "      display: none;\n",
              "      fill: #1967D2;\n",
              "      height: 32px;\n",
              "      padding: 0 0 0 0;\n",
              "      width: 32px;\n",
              "    }\n",
              "\n",
              "    .colab-df-convert:hover {\n",
              "      background-color: #E2EBFA;\n",
              "      box-shadow: 0px 1px 2px rgba(60, 64, 67, 0.3), 0px 1px 3px 1px rgba(60, 64, 67, 0.15);\n",
              "      fill: #174EA6;\n",
              "    }\n",
              "\n",
              "    [theme=dark] .colab-df-convert {\n",
              "      background-color: #3B4455;\n",
              "      fill: #D2E3FC;\n",
              "    }\n",
              "\n",
              "    [theme=dark] .colab-df-convert:hover {\n",
              "      background-color: #434B5C;\n",
              "      box-shadow: 0px 1px 3px 1px rgba(0, 0, 0, 0.15);\n",
              "      filter: drop-shadow(0px 1px 2px rgba(0, 0, 0, 0.3));\n",
              "      fill: #FFFFFF;\n",
              "    }\n",
              "  </style>\n",
              "\n",
              "      <script>\n",
              "        const buttonEl =\n",
              "          document.querySelector('#df-9267eed4-7c93-4ff3-a922-c7adcd7dbeca button.colab-df-convert');\n",
              "        buttonEl.style.display =\n",
              "          google.colab.kernel.accessAllowed ? 'block' : 'none';\n",
              "\n",
              "        async function convertToInteractive(key) {\n",
              "          const element = document.querySelector('#df-9267eed4-7c93-4ff3-a922-c7adcd7dbeca');\n",
              "          const dataTable =\n",
              "            await google.colab.kernel.invokeFunction('convertToInteractive',\n",
              "                                                     [key], {});\n",
              "          if (!dataTable) return;\n",
              "\n",
              "          const docLinkHtml = 'Like what you see? Visit the ' +\n",
              "            '<a target=\"_blank\" href=https://colab.research.google.com/notebooks/data_table.ipynb>data table notebook</a>'\n",
              "            + ' to learn more about interactive tables.';\n",
              "          element.innerHTML = '';\n",
              "          dataTable['output_type'] = 'display_data';\n",
              "          await google.colab.output.renderOutput(dataTable, element);\n",
              "          const docLink = document.createElement('div');\n",
              "          docLink.innerHTML = docLinkHtml;\n",
              "          element.appendChild(docLink);\n",
              "        }\n",
              "      </script>\n",
              "    </div>\n",
              "  </div>\n",
              "  "
            ]
          },
          "metadata": {},
          "execution_count": 4
        }
      ],
      "source": [
        "# reading the csv file as a dataframe\n",
        "df = pd.read_csv('Ronash_DS_Assignment.csv')\n",
        "df"
      ]
    },
    {
      "cell_type": "markdown",
      "source": [
        "**Data prerpocessing**"
      ],
      "metadata": {
        "id": "-_A85TiKlRr4"
      }
    },
    {
      "cell_type": "code",
      "execution_count": 5,
      "metadata": {
        "colab": {
          "base_uri": "https://localhost:8080/"
        },
        "id": "6E1ZDXyPlr6y",
        "outputId": "ef112cb9-a2b2-49b7-b2f9-40316b5d5238"
      },
      "outputs": [
        {
          "output_type": "execute_result",
          "data": {
            "text/plain": [
              "Apparel & Accessories        1000\n",
              "Animals & Pet Supplies        500\n",
              "Food, Beverages & Tobacco     400\n",
              "Sporting Goods                400\n",
              "Luggage & Bags                400\n",
              "Home & Garden                 400\n",
              "Health & Beauty               400\n",
              "Media                         300\n",
              "Toys & Games                  300\n",
              "Furniture                     200\n",
              "Baby & Toddler                200\n",
              "Arts & Entertainment          200\n",
              "Electronics                   100\n",
              "Business & Industrial         100\n",
              "Office Supplies               100\n",
              "Vehicles & Parts              100\n",
              "Hardware                       50\n",
              "Cameras & Optics               50\n",
              "Software                       50\n",
              "Religious & Ceremonial         20\n",
              "Name: category, dtype: int64"
            ]
          },
          "metadata": {},
          "execution_count": 5
        }
      ],
      "source": [
        "# counting the number of each label\n",
        "df['category'].value_counts()"
      ]
    },
    {
      "cell_type": "code",
      "execution_count": 6,
      "metadata": {
        "colab": {
          "base_uri": "https://localhost:8080/"
        },
        "id": "Un_ggKoLUAEf",
        "outputId": "df57a08b-6fbf-4bf3-9571-2a884a394adb"
      },
      "outputs": [
        {
          "output_type": "stream",
          "name": "stdout",
          "text": [
            "There are 0 duplicate title.\n",
            "There are 1256 duplicate vondor.\n",
            "There are 716 duplicate tags.\n"
          ]
        }
      ],
      "source": [
        "# counting how many indices are duplicated in each column\n",
        "print(f\"There are {sum(df['title'].duplicated())} duplicate title.\")\n",
        "print(f\"There are {sum(df['vendor'].duplicated())} duplicate vondor.\")\n",
        "print(f\"There are {sum(df['tags'].duplicated())} duplicate tags.\")"
      ]
    },
    {
      "cell_type": "code",
      "execution_count": 7,
      "metadata": {
        "colab": {
          "base_uri": "https://localhost:8080/"
        },
        "id": "VD95efZwCRYT",
        "outputId": "f9a15cd3-dcac-4892-98c9-dab645a9131d"
      },
      "outputs": [
        {
          "output_type": "execute_result",
          "data": {
            "text/plain": [
              "3"
            ]
          },
          "metadata": {},
          "execution_count": 7
        }
      ],
      "source": [
        "# counting the number of Nan samples\n",
        "df.isnull().values.sum()"
      ]
    },
    {
      "cell_type": "markdown",
      "metadata": {
        "id": "rhPJQuDEb8oN"
      },
      "source": [
        "There are just 3 Nan samples in the dataset so we can ignore them."
      ]
    },
    {
      "cell_type": "code",
      "execution_count": 8,
      "metadata": {
        "colab": {
          "base_uri": "https://localhost:8080/"
        },
        "id": "aH9UzP7-__P2",
        "outputId": "9db7864e-550b-41fc-dcc9-1a371b1eac3c"
      },
      "outputs": [
        {
          "output_type": "stream",
          "name": "stdout",
          "text": [
            "fidele super premium adult large breed dog food fidele adult bangalore chennai chicken doberman dog dry foods fidele german shepherd golden retriever great dane highpriority imported labrador less than 1000 less than 2000 less than 500 mastiff orange pet nutrition \n",
            "foldable pet toys linen storage cap point \n",
            "bok dok diaper pets home brand pet arabia category pets home category small pets supplies type pet home type pet supplies \n",
            "tastybone toy chicken tastybone \n",
            "leather leash tab short dog leash mighty paw leash leash tab training \n",
            "pridebites texas guitar dog toy pride bites brand pridebites toy type plush \n",
            "burns sensitive pork potato burns 10 25 25 50 50 75 adult burns coat dog food food delivery jansale18 natural nonsale19 sensitive size 12kg size 2kg size 6kg skin \n",
            "bully sticks dog toy adog.co bully sticks dog chew toys dog toys \n",
            "kazoo tough giraffe dog toy kazoo brand kazoo june2021 kazoo material plush plush \n",
            "orgo dog biscuits fresh milk petku brand orgo category dogs dogs lifestage all lifestages orgo price rp 0 to rp 100.000 subcategory treats treats \n"
          ]
        }
      ],
      "source": [
        "# the function for extracting and standardizing the sentences\n",
        "def text_extraction(dfi):\n",
        "  # in this function, we concatenate text feature parts of the data as a sentence\n",
        "  sentence = ' '.join([dfi['title'], str(dfi['vendor']), dfi['tags']])\n",
        "  # Remove punctuations\n",
        "  sentence = re.sub('[^a-zA-Z0-9$.]', ' ', sentence)\n",
        "  # Single character removal\n",
        "  sentence = re.sub(r\"\\s+[a-zA-Z]\\s+\", ' ', sentence)\n",
        "  # Removing multiple spaces\n",
        "  sentence = re.sub(r'\\s+', ' ', sentence)\n",
        "  # Changint to lowercase\n",
        "  sentence = sentence.lower()\n",
        "  return sentence\n",
        "\n",
        "# printing 10 sample sentences\n",
        "for i in range(10):\n",
        "  print(text_extraction(df.iloc[i]))"
      ]
    },
    {
      "cell_type": "code",
      "execution_count": 9,
      "metadata": {
        "colab": {
          "base_uri": "https://localhost:8080/",
          "height": 423
        },
        "id": "7x4WG7NC9Xz3",
        "outputId": "fd98f869-5e9d-48be-a492-2c838ebe030a"
      },
      "outputs": [
        {
          "output_type": "execute_result",
          "data": {
            "text/plain": [
              "                                                   text  \\\n",
              "0     fidele super premium adult large breed dog foo...   \n",
              "1            foldable pet toys linen storage cap point    \n",
              "2     bok dok diaper pets home brand pet arabia cate...   \n",
              "3                      tastybone toy chicken tastybone    \n",
              "4     leather leash tab short dog leash mighty paw l...   \n",
              "...                                                 ...   \n",
              "5265  candylab moo milk van candylab 3 years candyla...   \n",
              "5266  truck modern era vehicles red white scale ho w...   \n",
              "5267  car sticker flags decal american flag sticker ...   \n",
              "5268  lazer helmets bayamo pit bull full face open b...   \n",
              "5269  deutz agrotron tractor siku $0 to $25 diecast ...   \n",
              "\n",
              "                       label  label_int  \n",
              "0     Animals & Pet Supplies          0  \n",
              "1     Animals & Pet Supplies          0  \n",
              "2     Animals & Pet Supplies          0  \n",
              "3     Animals & Pet Supplies          0  \n",
              "4     Animals & Pet Supplies          0  \n",
              "...                      ...        ...  \n",
              "5265        Vehicles & Parts         19  \n",
              "5266        Vehicles & Parts         19  \n",
              "5267        Vehicles & Parts         19  \n",
              "5268        Vehicles & Parts         19  \n",
              "5269        Vehicles & Parts         19  \n",
              "\n",
              "[5270 rows x 3 columns]"
            ],
            "text/html": [
              "\n",
              "  <div id=\"df-da52851b-1297-4ad9-be96-2e70f42262f3\">\n",
              "    <div class=\"colab-df-container\">\n",
              "      <div>\n",
              "<style scoped>\n",
              "    .dataframe tbody tr th:only-of-type {\n",
              "        vertical-align: middle;\n",
              "    }\n",
              "\n",
              "    .dataframe tbody tr th {\n",
              "        vertical-align: top;\n",
              "    }\n",
              "\n",
              "    .dataframe thead th {\n",
              "        text-align: right;\n",
              "    }\n",
              "</style>\n",
              "<table border=\"1\" class=\"dataframe\">\n",
              "  <thead>\n",
              "    <tr style=\"text-align: right;\">\n",
              "      <th></th>\n",
              "      <th>text</th>\n",
              "      <th>label</th>\n",
              "      <th>label_int</th>\n",
              "    </tr>\n",
              "  </thead>\n",
              "  <tbody>\n",
              "    <tr>\n",
              "      <th>0</th>\n",
              "      <td>fidele super premium adult large breed dog foo...</td>\n",
              "      <td>Animals &amp; Pet Supplies</td>\n",
              "      <td>0</td>\n",
              "    </tr>\n",
              "    <tr>\n",
              "      <th>1</th>\n",
              "      <td>foldable pet toys linen storage cap point</td>\n",
              "      <td>Animals &amp; Pet Supplies</td>\n",
              "      <td>0</td>\n",
              "    </tr>\n",
              "    <tr>\n",
              "      <th>2</th>\n",
              "      <td>bok dok diaper pets home brand pet arabia cate...</td>\n",
              "      <td>Animals &amp; Pet Supplies</td>\n",
              "      <td>0</td>\n",
              "    </tr>\n",
              "    <tr>\n",
              "      <th>3</th>\n",
              "      <td>tastybone toy chicken tastybone</td>\n",
              "      <td>Animals &amp; Pet Supplies</td>\n",
              "      <td>0</td>\n",
              "    </tr>\n",
              "    <tr>\n",
              "      <th>4</th>\n",
              "      <td>leather leash tab short dog leash mighty paw l...</td>\n",
              "      <td>Animals &amp; Pet Supplies</td>\n",
              "      <td>0</td>\n",
              "    </tr>\n",
              "    <tr>\n",
              "      <th>...</th>\n",
              "      <td>...</td>\n",
              "      <td>...</td>\n",
              "      <td>...</td>\n",
              "    </tr>\n",
              "    <tr>\n",
              "      <th>5265</th>\n",
              "      <td>candylab moo milk van candylab 3 years candyla...</td>\n",
              "      <td>Vehicles &amp; Parts</td>\n",
              "      <td>19</td>\n",
              "    </tr>\n",
              "    <tr>\n",
              "      <th>5266</th>\n",
              "      <td>truck modern era vehicles red white scale ho w...</td>\n",
              "      <td>Vehicles &amp; Parts</td>\n",
              "      <td>19</td>\n",
              "    </tr>\n",
              "    <tr>\n",
              "      <th>5267</th>\n",
              "      <td>car sticker flags decal american flag sticker ...</td>\n",
              "      <td>Vehicles &amp; Parts</td>\n",
              "      <td>19</td>\n",
              "    </tr>\n",
              "    <tr>\n",
              "      <th>5268</th>\n",
              "      <td>lazer helmets bayamo pit bull full face open b...</td>\n",
              "      <td>Vehicles &amp; Parts</td>\n",
              "      <td>19</td>\n",
              "    </tr>\n",
              "    <tr>\n",
              "      <th>5269</th>\n",
              "      <td>deutz agrotron tractor siku $0 to $25 diecast ...</td>\n",
              "      <td>Vehicles &amp; Parts</td>\n",
              "      <td>19</td>\n",
              "    </tr>\n",
              "  </tbody>\n",
              "</table>\n",
              "<p>5270 rows × 3 columns</p>\n",
              "</div>\n",
              "      <button class=\"colab-df-convert\" onclick=\"convertToInteractive('df-da52851b-1297-4ad9-be96-2e70f42262f3')\"\n",
              "              title=\"Convert this dataframe to an interactive table.\"\n",
              "              style=\"display:none;\">\n",
              "        \n",
              "  <svg xmlns=\"http://www.w3.org/2000/svg\" height=\"24px\"viewBox=\"0 0 24 24\"\n",
              "       width=\"24px\">\n",
              "    <path d=\"M0 0h24v24H0V0z\" fill=\"none\"/>\n",
              "    <path d=\"M18.56 5.44l.94 2.06.94-2.06 2.06-.94-2.06-.94-.94-2.06-.94 2.06-2.06.94zm-11 1L8.5 8.5l.94-2.06 2.06-.94-2.06-.94L8.5 2.5l-.94 2.06-2.06.94zm10 10l.94 2.06.94-2.06 2.06-.94-2.06-.94-.94-2.06-.94 2.06-2.06.94z\"/><path d=\"M17.41 7.96l-1.37-1.37c-.4-.4-.92-.59-1.43-.59-.52 0-1.04.2-1.43.59L10.3 9.45l-7.72 7.72c-.78.78-.78 2.05 0 2.83L4 21.41c.39.39.9.59 1.41.59.51 0 1.02-.2 1.41-.59l7.78-7.78 2.81-2.81c.8-.78.8-2.07 0-2.86zM5.41 20L4 18.59l7.72-7.72 1.47 1.35L5.41 20z\"/>\n",
              "  </svg>\n",
              "      </button>\n",
              "      \n",
              "  <style>\n",
              "    .colab-df-container {\n",
              "      display:flex;\n",
              "      flex-wrap:wrap;\n",
              "      gap: 12px;\n",
              "    }\n",
              "\n",
              "    .colab-df-convert {\n",
              "      background-color: #E8F0FE;\n",
              "      border: none;\n",
              "      border-radius: 50%;\n",
              "      cursor: pointer;\n",
              "      display: none;\n",
              "      fill: #1967D2;\n",
              "      height: 32px;\n",
              "      padding: 0 0 0 0;\n",
              "      width: 32px;\n",
              "    }\n",
              "\n",
              "    .colab-df-convert:hover {\n",
              "      background-color: #E2EBFA;\n",
              "      box-shadow: 0px 1px 2px rgba(60, 64, 67, 0.3), 0px 1px 3px 1px rgba(60, 64, 67, 0.15);\n",
              "      fill: #174EA6;\n",
              "    }\n",
              "\n",
              "    [theme=dark] .colab-df-convert {\n",
              "      background-color: #3B4455;\n",
              "      fill: #D2E3FC;\n",
              "    }\n",
              "\n",
              "    [theme=dark] .colab-df-convert:hover {\n",
              "      background-color: #434B5C;\n",
              "      box-shadow: 0px 1px 3px 1px rgba(0, 0, 0, 0.15);\n",
              "      filter: drop-shadow(0px 1px 2px rgba(0, 0, 0, 0.3));\n",
              "      fill: #FFFFFF;\n",
              "    }\n",
              "  </style>\n",
              "\n",
              "      <script>\n",
              "        const buttonEl =\n",
              "          document.querySelector('#df-da52851b-1297-4ad9-be96-2e70f42262f3 button.colab-df-convert');\n",
              "        buttonEl.style.display =\n",
              "          google.colab.kernel.accessAllowed ? 'block' : 'none';\n",
              "\n",
              "        async function convertToInteractive(key) {\n",
              "          const element = document.querySelector('#df-da52851b-1297-4ad9-be96-2e70f42262f3');\n",
              "          const dataTable =\n",
              "            await google.colab.kernel.invokeFunction('convertToInteractive',\n",
              "                                                     [key], {});\n",
              "          if (!dataTable) return;\n",
              "\n",
              "          const docLinkHtml = 'Like what you see? Visit the ' +\n",
              "            '<a target=\"_blank\" href=https://colab.research.google.com/notebooks/data_table.ipynb>data table notebook</a>'\n",
              "            + ' to learn more about interactive tables.';\n",
              "          element.innerHTML = '';\n",
              "          dataTable['output_type'] = 'display_data';\n",
              "          await google.colab.output.renderOutput(dataTable, element);\n",
              "          const docLink = document.createElement('div');\n",
              "          docLink.innerHTML = docLinkHtml;\n",
              "          element.appendChild(docLink);\n",
              "        }\n",
              "      </script>\n",
              "    </div>\n",
              "  </div>\n",
              "  "
            ]
          },
          "metadata": {},
          "execution_count": 9
        }
      ],
      "source": [
        "# creating the dataset\n",
        "dataset = pd.DataFrame(columns=['text', 'label'])\n",
        "for i in range(len(df)):\n",
        "  dataset = dataset.append({'text':text_extraction(df.iloc[i]), 'label':df.iloc[i]['category']}, ignore_index = True)\n",
        "\n",
        "# creating integer labels for multiclass training\n",
        "dataset['label_int'] = pd.Categorical(dataset['label']).codes\n",
        "dataset"
      ]
    },
    {
      "cell_type": "code",
      "execution_count": 10,
      "metadata": {
        "colab": {
          "base_uri": "https://localhost:8080/"
        },
        "id": "9uHdTY3p9Xfr",
        "outputId": "7874e0b8-b5ef-4343-e258-169545c6d72f"
      },
      "outputs": [
        {
          "output_type": "execute_result",
          "data": {
            "text/plain": [
              "['Animals & Pet Supplies',\n",
              " 'Apparel & Accessories',\n",
              " 'Arts & Entertainment',\n",
              " 'Baby & Toddler',\n",
              " 'Business & Industrial',\n",
              " 'Cameras & Optics',\n",
              " 'Electronics',\n",
              " 'Food, Beverages & Tobacco',\n",
              " 'Furniture',\n",
              " 'Hardware',\n",
              " 'Health & Beauty',\n",
              " 'Home & Garden',\n",
              " 'Luggage & Bags',\n",
              " 'Media',\n",
              " 'Office Supplies',\n",
              " 'Religious & Ceremonial',\n",
              " 'Software',\n",
              " 'Sporting Goods',\n",
              " 'Toys & Games',\n",
              " 'Vehicles & Parts']"
            ]
          },
          "metadata": {},
          "execution_count": 10
        }
      ],
      "source": [
        "# extracting the names of the labels\n",
        "labels_names = list(Counter(dataset['label']).keys())\n",
        "labels_names"
      ]
    },
    {
      "cell_type": "code",
      "execution_count": 11,
      "metadata": {
        "colab": {
          "base_uri": "https://localhost:8080/"
        },
        "id": "QXCgd6QTC_k6",
        "outputId": "b4b53c33-c708-43a4-d7f5-9012280165f9"
      },
      "outputs": [
        {
          "output_type": "stream",
          "name": "stdout",
          "text": [
            "Label 0 corresponds to Animals & Pet Supplies\n",
            "Label 1 corresponds to Apparel & Accessories\n",
            "Label 2 corresponds to Arts & Entertainment\n",
            "Label 3 corresponds to Baby & Toddler\n",
            "Label 4 corresponds to Business & Industrial\n",
            "Label 5 corresponds to Cameras & Optics\n",
            "Label 6 corresponds to Electronics\n",
            "Label 7 corresponds to Food, Beverages & Tobacco\n",
            "Label 8 corresponds to Furniture\n",
            "Label 9 corresponds to Hardware\n",
            "Label 10 corresponds to Health & Beauty\n",
            "Label 11 corresponds to Home & Garden\n",
            "Label 12 corresponds to Luggage & Bags\n",
            "Label 13 corresponds to Media\n",
            "Label 14 corresponds to Office Supplies\n",
            "Label 15 corresponds to Religious & Ceremonial\n",
            "Label 16 corresponds to Software\n",
            "Label 17 corresponds to Sporting Goods\n",
            "Label 18 corresponds to Toys & Games\n",
            "Label 19 corresponds to Vehicles & Parts\n"
          ]
        }
      ],
      "source": [
        "# printing each integer label and its corresponding name label\n",
        "for i, label in enumerate(labels_names):\n",
        "  print(\"Label\", i, \"corresponds to\", label)"
      ]
    },
    {
      "cell_type": "markdown",
      "source": [
        "**Creat train_df and test_df from train test split**"
      ],
      "metadata": {
        "id": "vsZMwhhsl4CU"
      }
    },
    {
      "cell_type": "code",
      "execution_count": 12,
      "metadata": {
        "colab": {
          "base_uri": "https://localhost:8080/"
        },
        "id": "bWd2Rfp69X8g",
        "outputId": "41f770b4-8f40-411f-edcd-d6f0531068c2"
      },
      "outputs": [
        {
          "output_type": "stream",
          "name": "stdout",
          "text": [
            "Number of samples in training set: 4216\n",
            "Number of samples in validation set: 527\n",
            "Number of samples in test set: 527\n"
          ]
        }
      ],
      "source": [
        "# splitting dataset to train, validation, and test dataframes\n",
        "train_df, test_df= train_test_split(dataset, test_size=0.2, random_state=42)\n",
        "val_df = test_df.sample(frac=0.5)\n",
        "test_df.drop(val_df.index, inplace=True)\n",
        "\n",
        "print(f\"Number of samples in training set: {len(train_df)}\")\n",
        "print(f\"Number of samples in validation set: {len(val_df)}\")\n",
        "print(f\"Number of samples in test set: {len(test_df)}\")\n",
        "\n",
        "# extracting texts and labels from dataframes\n",
        "train_texts = train_df['text']\n",
        "train_labels = train_df['label_int']\n",
        "val_texts = val_df['text']\n",
        "val_labels = val_df['label_int']\n",
        "test_texts = test_df['text']\n",
        "test_labels = test_df['label_int']"
      ]
    },
    {
      "cell_type": "code",
      "execution_count": 13,
      "metadata": {
        "colab": {
          "base_uri": "https://localhost:8080/"
        },
        "id": "C4kA4X60zkC3",
        "outputId": "3de3c3b3-3344-4794-d071-b46be8104383"
      },
      "outputs": [
        {
          "output_type": "stream",
          "name": "stdout",
          "text": [
            "Texts: [b'housie tambola game by brands with foldable reusable tickets snooplay 13 17 year olds 18 years above 251 500 8 12 year olds age no bar all time favourite below 1000 below 400 below 500 best selling board games creative games gifts customer favourites diwali family friends night family games friends family nights geek gifts for boys gifts for friends gifts for girls gifts for kids gifts for parents googleshopping nerd or geek new new collection outdoor games party accessories party essentials party freak party games party games for grown ups party games for kids premium unique new toys '\n",
            " b'foldable waterproof raised dog bed dogiti '\n",
            " b'quadrello di bufala cheese cut wrapped by igourmet category cheese cut cheeses milk type buffalo nutrition full set origin italy shipping perishable texture semi soft type stinky and washed rind wholesale cheese collection '\n",
            " b'quay vip pink navy to pink lens quay accessories new summer sunglasses '\n",
            " b'seachem multitest ammonia seachem '\n",
            " b'smart electric cat teasing toy pet clever cat toys cats rr track catproducts rr track cattoys '\n",
            " b'petroleum mixture sign the sign shed black text chemical chemical signs flammable signs general hazard portrait yellow bg '\n",
            " b'scott kingery andrew mccutchen philadelphia phillies ring the bell dual bobblehead foco data athlete andrew mccutchen data athlete scott kingery data city philadelphia data edition exclusive data filter collection no data filter discount yes data league mlb data region pennsylvania data sub category1 bobbleheads data team philadelphia phillies '\n",
            " b'diy personalised dreamcatcher activity kit sea animal doxbox store '\n",
            " b'dainty corduroy bow in lilac sweet first love bow corduroy headband purple spo disabled wos '\n",
            " b'new bts stylish backpack the pocket store '\n",
            " b'planet bike big buck fat front planet bike bicycle fenders bike accessories bikes fenders front fenders full price planet bike unisex '\n",
            " b'ms. better trans canada bitters enterprises jesemi inc. betters canada ms trans '\n",
            " b'drawstring backpack pink zig zag yoobi 10 15 2020 primedaydeal accessories all bags flair back to school backpacks bags bf2019 book bag book bags bookbag bookbags newyear pink pink zig zag sale summer2020 supplybundle zig zags '\n",
            " b'pineapple mini food speaker magnum brands add on birthday gift girl music pos speaker '\n",
            " b'interactive iq treat ball toy for dogs cats cj feeder waterer pet supplies '\n",
            " b'whisper of lord ganesha tarot deck u.s. games '\n",
            " b'handcrafted aasha cuff bracelet colorful cuff bracelet made with wooden beads wrapped with recycled sari fabrics. aasha bracelet comfy fair trade handcrafted handmade jewelry '\n",
            " b'idrop belik facial anti aging wrinkle ultrasonic face massager toothbrush attachment idrop anti aging anti wrinkle electric massager face massage facial massager health health beauty health fitness health care healthcare healthy healthy massager massage massager new ultrasonic '\n",
            " b'wood nativity puzzle mud pie one coas 10760023 baby children christmas gift god jesus kid religion toy '\n",
            " b'p.l.a.y. zoomierex fantastug sea foam dog toy p.l.a.y. brand p.l.a.y. summer collection toy type fetch toy type floating toy type rubber toy type tug twr '\n",
            " b'wallis simpson signed autobiography paul fraser collectibles autographs '\n",
            " b'imperial earring daya jewelry brass flower gold imperial spo default spo disabled spo enabled star tribal '\n",
            " b'armadillo nest charcoal armadillo alfresco armadillo door mats down to earth floor homeware homeware rugs mats labour weekend living modern boho rug rugs mats '\n",
            " b'millie pillow foreside pillows textiles '\n",
            " b'jelly brush aprilskin.us all '\n",
            " b'alarm you re little bitch blue blue blue crew cute exclude feed agegroup adult feed cl0 regularprice womens sassy funny words inappropriate cute profanity swear words exclude rude crude feed color blue feed cond new feed gender feed gender female feed gpc 209 funny inappropriate print profanity red regularprice rude crude sassy socks swear words womens words '\n",
            " b'boutique de paris lashes4today glamorous lashes luxury '\n",
            " b'dog pakiet dnp pc skin support pick me pets brand dolina noteci category pet supplies type dog food '\n",
            " b'plaza weekend diaper bag 7am label final sale addswatchrow adult age adult category diaper bags category weekenders color black color grey diaper diaper diaper ba dipper style plaza bag voyage '\n",
            " b'water sterling silver necklace wear the peace 925 sterling silver all products necklaces new arrivals '\n",
            " b'bain ultra violet rastase adha2020 adjusted assaad back in stock items bahaa black friday 2020 enabled blond absolu blondabsolu ramadan21 btpcat main 132768825422 btpcat other 132768825422 elian dada fadia el mendelek for colored blond hair hair care haircare summerfiesta sale jan 4 2021 price increase july 28th updated july increase ker aprist1st 2021 increase ker august 2021 price increase ker march 1st 2021 price increase ker priceincrease june1st 2021 kerastase ramadan21 rastase loolia2y mahmoud al zarif michel zeytoun non solar october 1st 2020 price increase or or reviews ppd price decrease 16th september 2021 ppd price decrease sept 2021 ppd price increase october1st 2021 ppd pricedecrease midseptember2021 ppd priceincrease 12th october 2021 price updated shampoos shant tawetian shop all stockcount 31 03 2021 weekend summerfiesta sale '\n",
            " b'braided bone orange tall tails brand tall tails pet dogs price $20.00 $29.99 type interactive toys '\n",
            " b'police digital cuddle blue line lincoln lexi fabric sale fabric '\n",
            " b'the bystander dvd cchf children dvd dvd childrens ntbita '\n",
            " b'men canvas tri fold short wallet coin holder card holder textured wallet bg men bags wallets '\n",
            " b'ndur mini cookware kit alcohol burner proforce equipment alcohol stove bushcraft cooking kit bushcraft cookware camp cooking kit camp cookware cook kit cook set cooking pot cookware survival cooking survival cooking kit survival cookware '\n",
            " b'indoor silent stationary spinning bike clearance private label age group null brand private label category cardio category cardio machines category exercise fitness category exercise bikes category sporting goods color condition new open box return config automatic warranties config clearance discount gender is bundle false multipack 0 nav category sporting goods exercise fitness cardio cardio machines exercise bikes nav clearance nav first cat sporting goods nav last chance no po box over 100 pattern size warranty 30 days '\n",
            " b'ken ultra premium egg yolk flake ken fish food flake food kens kens ultra '\n",
            " b'tillak soto regulator stove pouch shella cup storage case durable and water resistant cordura fabric compatible with iwatani junior compact burners black goods of japan camp kitchen '\n",
            " b'ic berlin thomas a. men eyeglasses ic berlin eyeglasses ic berlin men eyeglasses '\n",
            " b'assam silk feel maroon colour digital village print fabric 2222 assam silk feel prints attribute set name migration fabric base unit cm base unit min 100 by prints types by silk premium category by prints types category by prints types design category by prints types design village category by prints types prints category by prints types prints silk prints category by prints types type category by prints types type digital category by silk premium category by silk premium premium prints category by silk premium premium prints assam silk feel prints colour maroon design digital dimension width 1.12 meter 44 inches display colour maroon display unit meter ex pdm fabric weight light weight gender women generic name fabric googleproductcategory apparel accessories clothing gst inclusive 5 id 2222 lining suggested yes material assam silk feel mm1 maroon fabrics maroon shades tones new root category occassion festival social events premium prints prints product hsn code 520811 quality pure silk prints sold by length type type digital type printed unit meter usage anarkali usage blouse usage crop top usage female shirt usage kimono shirt usage kurta usage kurti usage palazzo usage saree usage saree pallu usage skirt usage top usage tunic village washing care gentle wash in cold water width 1.12 meter 44 inches '\n",
            " b'burgundy miniature backpack mostafa hanafy all backpack mini backpacks new arrivals sale '\n",
            " b'otay toque black kriscollins black otay pre order swatch navy otay toque navy swatch royalblue otay toque royal '\n",
            " b'dukes county international cricket ball dukes brand dukes brand dukes '\n",
            " b'instant foot spa spray amazing lola foot health health beauty instant spa spray '\n",
            " b'fleece midlayer top simms fall 19 fishing fishing clothing fishing ls shirts locally simms orange unisex '\n",
            " b'horseshoe bit serving tray vagabond house 1 10 2011 equestrian equestrian 1 feed cl0 equestrian setof1 trays vagabond house '\n",
            " b'custom match point volleyball baden sports any indoor outdoor machine stitched official synthetic leather '\n",
            " b'soft book teether set petit collage soft book soft toy wooden '\n",
            " b'tantrik sambhog aur samadhi empty canvas books book contemporary fiction hindi paperback penguin random house spreadr hidden unedit '\n",
            " b'microsoft filler license open license microsoft '\n",
            " b'nfl rico industries bling chrome license plate frame with glitter accent new... rico industries 12.25 inches accent afco afco au afco aub00j10lv9o bling chrome color fcgl1401 featured from research featured item frame giants glitter industries license new nfl plate price 20 rico ship to us team with york '\n",
            " b'sunrise bow tie puccissime pet couture handmade dog accessories luxury dog products pet supplies '\n",
            " b'cape verde framed canvas iluka road category art category clearance category decor category paintings free freight latest item range contemporary furniture '\n",
            " b'various small books referencing various small books by ed ruscha lacma store '\n",
            " b'smartykat tassel and ball thwapper teaser cat toy smartykat adult cat toys catnip toys flitz green less than 1000 less than 2000 less than 500 marketing smartykat '\n",
            " b'gouguenheim sparkling malbec ros mutual distributing argentina easter 21 malbec rose sparkling summer2020 '\n",
            " b'magical symbols alphabets by sandra kynes skull barrel co. bmagsym books mystical books paperback books symbology books '\n",
            " b'no orange blue shampoo or mask fanola concerns brass favorites hair style balayage babylights ombre highlights hair type coily curly straight wavy thick fine virgin brunette ingredients cruelty free shampoo type shampoo '\n",
            " b'stamped silver hair forks tiffany stone dendritic opal jasper or lace agate la femme boheme hair fork ooak ready to ship '\n",
            " b'north fork ripstop series alpine division duffle grey jetti '\n",
            " b'modernist pencil set rifle paper co. non sale '\n",
            " b'comfortable donut cuddler round dog bed dogiti '\n",
            " b'cheesy jalape popcorn jody popcorn bags cheesy jalapeno flavor savory savory size bag '\n",
            " b'lettia memory foam clik all purpose girth lettia dropship union girths horse new tack '\n",
            " b'saltygirl beauty multi stick melissa saltygirl beauty '\n",
            " b'bommalata hathi earrings zola accessories bharmiben jeevan fashion earrings fashion jewelry hand wash jewellery jewelry under 1500 necklace rs.501 rs.1000 zola '\n",
            " b'gemma nutella wedge bootie cecelia boots booties cecelia wedges '\n",
            " b'cat laser toys 8blue automatic cat laser toy cat laser toy haley interactive laser cat toy '\n",
            " b'oligarch vodka oligarch category spirits oligarch region russia size 750ml vodka '\n",
            " b'amelia dome ring kinn anniversary sale 10.21 diamond collection dome ring eligible for discount faire gemstone herringbone collection holiday 2021 kinn classics ring '\n",
            " b'leopard hoodie dog sweater dogo brown dog sweaters dogo m under $100 under $150 under $200 under $250 under $50 under $75 xl xs xxl xxs '\n",
            " b'island mimosa body wash hand in hand soap no dropship '\n",
            " b'bravado designs plunge nursing bra antique white bravado designs hospital mama new mom price hk$401 hk$500 product type hands free pumping product type pumping bra '\n",
            " b'shopping bag tote pouch women travel storage handbag shoulder bag stripes canvas shopping bags bg handbags women bags '\n",
            " b'charcoal bedford felt backpack graf lantz back to felt backpack charcoal family bedford gender womens jetti material felt normal shipping 2 3 weeks the accessories edit waitlist ygroup bedfordbackpackfelt '\n",
            " b'green plant bronx flower delivery add plants size '\n",
            " b'wtn rotting in pestilence cd album nm or leora colby album cd death metal grindcore rock '\n",
            " b'aurelia ladies technical riding jacket premier equine int. collection ladies waterproof riding coats jackets gilets collection equestrian clothing collection ladies riding fleeces hoodies colour blue colour grey hs2code 6202930000 hs2codeus 6202.93.0911 icon breathable icon ykk zip sizeguide jackets gilets6up tradepriceexvat 2200 tradepriceincvat 2640 '\n",
            " b'tribeca ottoman charcoal with dark base medium darcy and duke category chairs and seating category furniture category ottomans and footstools latest item range contemporary furniture range manhattan apartment '\n",
            " b'rumi pants army lozyhijab bahan cotton color green kategori pants '\n",
            " b'urban color love me matte lipcolor exotic tangerine kk beauty beauty product lip colour makeup matte modicare urban color women worldshopon '\n",
            " b'royal princess pink wooden dresser toy with make up set my aashis furniture kids furniture kids playroom furniture '\n",
            " b'end cap billet grooved chrome for harley davidson supertrapp custom chrome escapes harley davidson '\n",
            " b'yoke dress virgo lilac oliphantdesign dresses favorite things featured collection size xl size xxs ss2021 vacation women '\n",
            " b'astronaut jellyfish wall hanging tapestry minideals store astronaut jellyfish space tapestry wall hanging '\n",
            " b'pioneer children sang as they walked marvin goldstein single cedar fort publishing media '\n",
            " b'sphero ultimate lightning mcqueen sphero mob remote sphero '\n",
            " b'shibari you can use more shibari you can use two book set the twisted monk books intermediate starting out '\n",
            " b'kitsu earrings sunflower hoops kitsu '\n",
            " b'waterproof triangle bike bicycle bag cycling front bag bicycle pouch frame bags bicycle accessories not include water bottle nz outdoors '\n",
            " b'banarasee brocade fabric with zari resham jaal blue banarasee art silk blue '\n",
            " b'gorsedd dining table acme furniture dining room dining table home '\n",
            " b'keepcup ly th tinh gi nhi longplay banksia keepcup clear edition keepcup longplay banksia 16oz mugs reuseable cup '\n",
            " b'mirage created emerald and black diamond set stud earrings in sterling silver bevilles buying for her category earrings department diamond diamond clarity i2 3 diamond colour i discount product earring style stud eligible for last chance discount eligible for last wow club eligible for new member discount fastdelivery gemstone diamond gemstone emerald metal sterling silver mirage personality traditional sku 9s19001 skuadded spend and save vipprice wgproducts '\n",
            " b'elizabeth sand indoor outdoor rug dash and albert beige rug beige rugs brown dash albert dash and albert dropship geometric geometric rug geometric rugs indoor ivory ivory rug ivory rugs khaki rug khaki rugs mc rugs neutral neutral rug neutral rugs outdoor outdoor rug outdoor rugs rug sand '\n",
            " b'chelsea casual suede top boots jonally boots shoes '\n",
            " b'easyrest microplush quilt easyrest bedding quilts duvets easyrest microfibre size double size single summer '\n",
            " b'becca cosmetics liquid light highlight kit becca cosmetics becca cosmetics cosmetics gift bar gifts gifts palettes holiday holiday sets lip gloss '\n",
            " b'aquatopia led air volcano aquatopia '\n",
            " b'oliver goldsmith cole oliver goldsmith acetate men progressive friendly rectangular rx lens suitable 200 to 400 '\n",
            " b'dpa fine single ear wireless headset microphone rental beige dpa corporate event rentals lavalier mic microphone rentals seminar conference '\n",
            " b'heartbreaking dawns jalape pineapple heartbreaking dawns all fruit based citrus fruit based gluten free habanero heartbreaking dawns jalapeno lime mild pineapple '\n",
            " b'chloe crystal clutch chloe bag bead beads bejeweled black black gold black white chain chloe chloe clutch chloe crystal clutch cloe club clubbing clutch couture cross body crossbody crystal crystal clutch crystals elegance elegant evening evening wear favorite feminine girl girls girly glitter glittery glitz gold golden handbag jewels leather luxurious luxury new years nye party pearl pearls purse shoulder bag silver sophisticated sophistication strap synthetic leather tassel tassels zipped zipper '\n",
            " b'naisha at the museum bibliophiles 12 18 months 18 24 months 24 months bibliophiles others paperback picture books '\n",
            " b'rubber tire chew toy chetitay official store dog pet toy '\n",
            " b'b swiss wisdom star bb face spoon set swiss brand h swiss avg profit 20 avg profit percent 40 h swiss baby items baby items dahsing level 1 baby toddler not brandsdis not on sale not regular priced optimise 8off overseas ads price quote '\n",
            " b'craig portable power bank with dual usb charging port craig '\n",
            " b'oriflamme ablaze pre order studio availability pre order newproduct product type board games '\n",
            " b'callum short navy blazer diesel mens shorts ss22 '\n",
            " b'led safety blinkers knuckle lights '\n",
            " b'baozi shearling span t.di.moro dark grey span elleme baozi '\n",
            " b'neutral stripe contemporary rug modernica props contemporary grey wool '\n",
            " b'aviation movie creators pack alan walker store asia all digital '\n",
            " b'women burton talent scout camber snowboard burton cf size 141 cf size 146 cf size 152 cf vendor burton '\n",
            " b'nevy lace front wig free part love for bling boutique '\n",
            " b'convertible leather briefcase backpack handmade world backpack book bag casual daypack crossbody bag ipad tablet bag knapsack laptop bag messenger bag satchel bag '\n",
            " b'profusion cosmetics highlight contour palette ii profusion cosmetics normal price '\n",
            " b'gaming chair with footrest green faux leather vidaxl 250 500 green ']\n",
            "labels: [18  0  7  1  0  0  4  2  0  1 12 17  7 12 18  0 15  1 10 18  0  2  1 11\n",
            "  2  9  1 10  0 12  1 10  0  3  6 12 11 17  0 17 10  2 12  1 17 10 17 17\n",
            " 17 18 13 16 17  0 11 13  0  7 13 10  1 12 14  0  7 17 10  1  1  0  7  1\n",
            "  0 10  3 12 12 11 13  1  8  1 10  8 19  1 11 13  6 13  1 17  2  8 11  1\n",
            " 11  1 11 10  0 10  6  7 12 13  0  3  6 18  1 17  1  2 16 17  1 12 10  8]\n"
          ]
        }
      ],
      "source": [
        "# creating data generators with batch size 32\n",
        "batch_size = 120\n",
        "raw_train_batch = tf.data.Dataset.from_tensor_slices((train_texts, train_labels)).batch(batch_size)\n",
        "raw_val_batch = tf.data.Dataset.from_tensor_slices((val_texts, val_labels)).batch(batch_size)\n",
        "raw_test_batch = tf.data.Dataset.from_tensor_slices((test_texts, test_labels)).batch(batch_size)\n",
        "\n",
        "# printing texts and labels of a batch of raw train\n",
        "for text, label in raw_train_batch.take(1):\n",
        "  print('Texts: {}'.format(text))\n",
        "  print('labels: {}'.format(label))"
      ]
    },
    {
      "cell_type": "code",
      "execution_count": 14,
      "metadata": {
        "colab": {
          "base_uri": "https://localhost:8080/"
        },
        "id": "P2QpUriFrsU_",
        "outputId": "47a60ecd-6655-4276-8da5-08cf05ff4069"
      },
      "outputs": [
        {
          "output_type": "stream",
          "name": "stdout",
          "text": [
            "112572\n"
          ]
        }
      ],
      "source": [
        "# counting how many words are there in the whole texts of the dataset\n",
        "num_of_words = 0\n",
        "for i in dataset['text']: num_of_words += len(i.split())\n",
        "print(num_of_words)"
      ]
    },
    {
      "cell_type": "markdown",
      "metadata": {
        "id": "wfw3CqfZsWyT"
      },
      "source": [
        "There are about 112000 words in the texts.\n",
        "\n"
      ]
    },
    {
      "cell_type": "code",
      "execution_count": 15,
      "metadata": {
        "colab": {
          "base_uri": "https://localhost:8080/"
        },
        "id": "2ufQzaF9ncqZ",
        "outputId": "fb1fcce0-cd32-428b-ea14-397d174838d3"
      },
      "outputs": [
        {
          "output_type": "stream",
          "name": "stdout",
          "text": [
            "309\n",
            "18933\n"
          ]
        }
      ],
      "source": [
        "# counting max sequence length and how many non-repetitive words are there in the whole texts of the dataset\n",
        "l = []\n",
        "max_seq_lenght = 0\n",
        "for i in dataset['text']:\n",
        "  lenght = len(i.split())\n",
        "  if lenght > max_seq_lenght: max_seq_lenght = lenght\n",
        "  for j in i.split():\n",
        "    if j not in l: l.append(j)\n",
        "\n",
        "print(max_seq_lenght)\n",
        "print(len(l))"
      ]
    },
    {
      "cell_type": "markdown",
      "metadata": {
        "id": "cGGf8rQorkSR"
      },
      "source": [
        "Maximum sequence length is 309 and There are about 19000 non-repetitive words in the whole dataset texts. So we set max word features to 10000 and sequence length to 350."
      ]
    },
    {
      "cell_type": "code",
      "execution_count": 16,
      "metadata": {
        "colab": {
          "base_uri": "https://localhost:8080/"
        },
        "id": "Ey2QJjO97T9P",
        "outputId": "f8697d0f-2c87-4a41-d0e7-1d062fb0a7d3"
      },
      "outputs": [
        {
          "output_type": "stream",
          "name": "stdout",
          "text": [
            "Review tf.Tensor(b'housie tambola game by brands with foldable reusable tickets snooplay 13 17 year olds 18 years above 251 500 8 12 year olds age no bar all time favourite below 1000 below 400 below 500 best selling board games creative games gifts customer favourites diwali family friends night family games friends family nights geek gifts for boys gifts for friends gifts for girls gifts for kids gifts for parents googleshopping nerd or geek new new collection outdoor games party accessories party essentials party freak party games party games for grown ups party games for kids premium unique new toys ', shape=(), dtype=string)\n",
            "Label tf.Tensor(18, shape=(), dtype=int8)\n",
            "Vectorized text (<tf.Tensor: shape=(1, 309), dtype=int64, numpy=\n",
            "array([[12501,  9229,   192,    23,   343,    51,  1546,  2392,  9089,\n",
            "         9635,   740,  1609,   275,  2882,   372,    69,   959, 15878,\n",
            "          134,   109,    89,   275,  2882,    35,    55,   381,    16,\n",
            "          480,  7346,   783,   181,   783,   961,   783,   134,    79,\n",
            "         2792,   104,    57,  1195,    57,    53,  3072, 13287,  5047,\n",
            "          237,  1078,   716,   237,    57,  1078,   237,  6529,  4896,\n",
            "           53,    13,   334,    53,    13,  1078,    53,    13,   179,\n",
            "           53,    13,    62,    53,    13,  3473, 12859, 11174,   303,\n",
            "         4896,     3,     3,     8,   157,    57,   250,    17,   250,\n",
            "          316,   250,  7261,   250,    57,   250,    57,    13,  1904,\n",
            "         5674,   250,    57,    13,    62,   360,   632,     3,     6,\n",
            "            0,     0,     0,     0,     0,     0,     0,     0,     0,\n",
            "            0,     0,     0,     0,     0,     0,     0,     0,     0,\n",
            "            0,     0,     0,     0,     0,     0,     0,     0,     0,\n",
            "            0,     0,     0,     0,     0,     0,     0,     0,     0,\n",
            "            0,     0,     0,     0,     0,     0,     0,     0,     0,\n",
            "            0,     0,     0,     0,     0,     0,     0,     0,     0,\n",
            "            0,     0,     0,     0,     0,     0,     0,     0,     0,\n",
            "            0,     0,     0,     0,     0,     0,     0,     0,     0,\n",
            "            0,     0,     0,     0,     0,     0,     0,     0,     0,\n",
            "            0,     0,     0,     0,     0,     0,     0,     0,     0,\n",
            "            0,     0,     0,     0,     0,     0,     0,     0,     0,\n",
            "            0,     0,     0,     0,     0,     0,     0,     0,     0,\n",
            "            0,     0,     0,     0,     0,     0,     0,     0,     0,\n",
            "            0,     0,     0,     0,     0,     0,     0,     0,     0,\n",
            "            0,     0,     0,     0,     0,     0,     0,     0,     0,\n",
            "            0,     0,     0,     0,     0,     0,     0,     0,     0,\n",
            "            0,     0,     0,     0,     0,     0,     0,     0,     0,\n",
            "            0,     0,     0,     0,     0,     0,     0,     0,     0,\n",
            "            0,     0,     0,     0,     0,     0,     0,     0,     0,\n",
            "            0,     0,     0,     0,     0,     0,     0,     0,     0,\n",
            "            0,     0,     0,     0,     0,     0,     0,     0,     0,\n",
            "            0,     0,     0,     0,     0,     0,     0,     0,     0,\n",
            "            0,     0,     0,     0,     0,     0,     0,     0,     0,\n",
            "            0,     0,     0]])>, <tf.Tensor: shape=(), dtype=int8, numpy=18>)\n"
          ]
        }
      ],
      "source": [
        "# setting the text vectorization layer with 10000 words and 350 sequence length\n",
        "max_features = 19000\n",
        "sequence_length = 309\n",
        "\n",
        "vectorize_layer = layers.TextVectorization(\n",
        "    max_tokens=max_features,\n",
        "    output_mode='int',\n",
        "    output_sequence_length=sequence_length)\n",
        "\n",
        "# fitting the state of the preprocessing layer to the train set. This will cause the model to build an index of strings to integers.\n",
        "vectorize_layer.adapt(train_texts)\n",
        "\n",
        "# defining the vectorize text function\n",
        "def vectorize_text(text, label):\n",
        "  text = tf.expand_dims(text, -1)\n",
        "  return vectorize_layer(text), label\n",
        "\n",
        "# retrieving a sample from a batch of texts and labels from the train set\n",
        "text_batch, label_batch = next(iter(raw_train_batch))\n",
        "first_review, first_label = text_batch[0], label_batch[0]\n",
        "print(\"Review\", first_review)\n",
        "print(\"Label\", first_label)\n",
        "print(\"Vectorized text\", vectorize_text(first_review, first_label))"
      ]
    },
    {
      "cell_type": "code",
      "execution_count": 17,
      "metadata": {
        "colab": {
          "base_uri": "https://localhost:8080/"
        },
        "id": "X84dkB768GSx",
        "outputId": "36180e2f-ef4b-42de-d1ff-a4fd1435aa5b"
      },
      "outputs": [
        {
          "metadata": {
            "tags": null
          },
          "name": "stdout",
          "output_type": "stream",
          "text": [
            "1401 --->  heel\n",
            " 313 --->  is\n",
            "Vocabulary size: 16230\n"
          ]
        }
      ],
      "source": [
        "# getting corresponding word of each integer \n",
        "print(\"1401 ---> \",vectorize_layer.get_vocabulary()[1401])\n",
        "print(\" 313 ---> \",vectorize_layer.get_vocabulary()[313])\n",
        "print('Vocabulary size: {}'.format(len(vectorize_layer.get_vocabulary())))"
      ]
    },
    {
      "cell_type": "code",
      "execution_count": 18,
      "metadata": {
        "id": "DiW717GQ_77D"
      },
      "outputs": [],
      "source": [
        "# creating train, val, and test vectorized dataset and prefetching them\n",
        "train_ds = raw_train_batch.map(vectorize_text)\n",
        "val_ds = raw_val_batch.map(vectorize_text)\n",
        "test_ds = raw_test_batch.map(vectorize_text)\n",
        "\n",
        "AUTOTUNE = tf.data.AUTOTUNE\n",
        "\n",
        "train_ds = train_ds.cache().prefetch(buffer_size=AUTOTUNE)\n",
        "val_ds = val_ds.cache().prefetch(buffer_size=AUTOTUNE)\n",
        "test_ds = test_ds.cache().prefetch(buffer_size=AUTOTUNE)"
      ]
    },
    {
      "cell_type": "markdown",
      "source": [
        "**Generating the model**\n",
        "\n",
        "---\n",
        "\n",
        "\n",
        "\n",
        "---\n",
        "\n",
        "At firs we generate a simple model with Embedding and GlobalAveragePooling1D and a dense.\n",
        "\n",
        "This is the best model with 84% accuracy "
      ],
      "metadata": {
        "id": "4LHRKwm8mPKT"
      }
    },
    {
      "cell_type": "code",
      "execution_count": 19,
      "metadata": {
        "id": "BBHmGG_SAWhp"
      },
      "outputs": [],
      "source": [
        "# model configuration\n",
        "embedding_dim = 256 #embeding_dim changed to 256 \n",
        "num_of_labels = 20\n",
        "\n",
        "model = tf.keras.Sequential([\n",
        "  layers.Embedding(max_features + 1, embedding_dim),\n",
        "  layers.Dropout(0.15),#dropout rate chenged to 0.15\n",
        "  layers.GlobalAveragePooling1D(),\n",
        "  layers.Dropout(0.20),#dropout rate chenged to 0.20\n",
        "  layers.Dense(num_of_labels)])\n"
      ]
    },
    {
      "cell_type": "code",
      "execution_count": 20,
      "metadata": {
        "id": "uL6c-YGfAwLz"
      },
      "outputs": [],
      "source": [
        "# model compilation\n",
        "model.compile(optimizer='adam',\n",
        "              loss=tf.keras.losses.SparseCategoricalCrossentropy(from_logits=True),\n",
        "              metrics=['accuracy'])"
      ]
    },
    {
      "cell_type": "code",
      "execution_count": 21,
      "metadata": {
        "colab": {
          "base_uri": "https://localhost:8080/"
        },
        "id": "CIfmPA3SvX4d",
        "outputId": "7e69c9ff-6330-447d-9ba7-459dd979ada9"
      },
      "outputs": [
        {
          "output_type": "stream",
          "name": "stdout",
          "text": [
            "Epoch 1/500\n",
            "36/36 [==============================] - 19s 359ms/step - loss: 2.8840 - accuracy: 0.1743 - val_loss: 2.7719 - val_accuracy: 0.1879\n",
            "Epoch 2/500\n",
            "36/36 [==============================] - 0s 9ms/step - loss: 2.7136 - accuracy: 0.1881 - val_loss: 2.6716 - val_accuracy: 0.1879\n",
            "Epoch 3/500\n",
            "36/36 [==============================] - 0s 8ms/step - loss: 2.6705 - accuracy: 0.1881 - val_loss: 2.6525 - val_accuracy: 0.1879\n",
            "Epoch 4/500\n",
            "36/36 [==============================] - 0s 8ms/step - loss: 2.6565 - accuracy: 0.1883 - val_loss: 2.6428 - val_accuracy: 0.1879\n",
            "Epoch 5/500\n",
            "36/36 [==============================] - 0s 8ms/step - loss: 2.6466 - accuracy: 0.1883 - val_loss: 2.6342 - val_accuracy: 0.1879\n",
            "Epoch 6/500\n",
            "36/36 [==============================] - 0s 9ms/step - loss: 2.6360 - accuracy: 0.1883 - val_loss: 2.6247 - val_accuracy: 0.1879\n",
            "Epoch 7/500\n",
            "36/36 [==============================] - 0s 9ms/step - loss: 2.6229 - accuracy: 0.1886 - val_loss: 2.6144 - val_accuracy: 0.1879\n",
            "Epoch 8/500\n",
            "36/36 [==============================] - 0s 9ms/step - loss: 2.6081 - accuracy: 0.1893 - val_loss: 2.6021 - val_accuracy: 0.1898\n",
            "Epoch 9/500\n",
            "36/36 [==============================] - 0s 9ms/step - loss: 2.5899 - accuracy: 0.1905 - val_loss: 2.5876 - val_accuracy: 0.1898\n",
            "Epoch 10/500\n",
            "36/36 [==============================] - 0s 9ms/step - loss: 2.5674 - accuracy: 0.1928 - val_loss: 2.5707 - val_accuracy: 0.1898\n",
            "Epoch 11/500\n",
            "36/36 [==============================] - 0s 8ms/step - loss: 2.5435 - accuracy: 0.1995 - val_loss: 2.5509 - val_accuracy: 0.1954\n",
            "Epoch 12/500\n",
            "36/36 [==============================] - 0s 8ms/step - loss: 2.5147 - accuracy: 0.2083 - val_loss: 2.5283 - val_accuracy: 0.1973\n",
            "Epoch 13/500\n",
            "36/36 [==============================] - 0s 8ms/step - loss: 2.4832 - accuracy: 0.2204 - val_loss: 2.5026 - val_accuracy: 0.2030\n",
            "Epoch 14/500\n",
            "36/36 [==============================] - 0s 7ms/step - loss: 2.4468 - accuracy: 0.2320 - val_loss: 2.4745 - val_accuracy: 0.2163\n",
            "Epoch 15/500\n",
            "36/36 [==============================] - 0s 8ms/step - loss: 2.4076 - accuracy: 0.2495 - val_loss: 2.4431 - val_accuracy: 0.2296\n",
            "Epoch 16/500\n",
            "36/36 [==============================] - 0s 8ms/step - loss: 2.3655 - accuracy: 0.2671 - val_loss: 2.4096 - val_accuracy: 0.2505\n",
            "Epoch 17/500\n",
            "36/36 [==============================] - 0s 8ms/step - loss: 2.3197 - accuracy: 0.2872 - val_loss: 2.3739 - val_accuracy: 0.2676\n",
            "Epoch 18/500\n",
            "36/36 [==============================] - 0s 8ms/step - loss: 2.2752 - accuracy: 0.3117 - val_loss: 2.3359 - val_accuracy: 0.2846\n",
            "Epoch 19/500\n",
            "36/36 [==============================] - 0s 8ms/step - loss: 2.2243 - accuracy: 0.3411 - val_loss: 2.2966 - val_accuracy: 0.2903\n",
            "Epoch 20/500\n",
            "36/36 [==============================] - 0s 7ms/step - loss: 2.1743 - accuracy: 0.3660 - val_loss: 2.2563 - val_accuracy: 0.3112\n",
            "Epoch 21/500\n",
            "36/36 [==============================] - 0s 8ms/step - loss: 2.1216 - accuracy: 0.3978 - val_loss: 2.2152 - val_accuracy: 0.3378\n",
            "Epoch 22/500\n",
            "36/36 [==============================] - 0s 8ms/step - loss: 2.0677 - accuracy: 0.4288 - val_loss: 2.1733 - val_accuracy: 0.3662\n",
            "Epoch 23/500\n",
            "36/36 [==============================] - 0s 8ms/step - loss: 2.0126 - accuracy: 0.4656 - val_loss: 2.1323 - val_accuracy: 0.3852\n",
            "Epoch 24/500\n",
            "36/36 [==============================] - 0s 8ms/step - loss: 1.9600 - accuracy: 0.5014 - val_loss: 2.0902 - val_accuracy: 0.4326\n",
            "Epoch 25/500\n",
            "36/36 [==============================] - 0s 7ms/step - loss: 1.9053 - accuracy: 0.5325 - val_loss: 2.0491 - val_accuracy: 0.4535\n",
            "Epoch 26/500\n",
            "36/36 [==============================] - 0s 8ms/step - loss: 1.8495 - accuracy: 0.5636 - val_loss: 2.0078 - val_accuracy: 0.4706\n",
            "Epoch 27/500\n",
            "36/36 [==============================] - 0s 8ms/step - loss: 1.7936 - accuracy: 0.5970 - val_loss: 1.9677 - val_accuracy: 0.4877\n",
            "Epoch 28/500\n",
            "36/36 [==============================] - 0s 8ms/step - loss: 1.7412 - accuracy: 0.6226 - val_loss: 1.9283 - val_accuracy: 0.5104\n",
            "Epoch 29/500\n",
            "36/36 [==============================] - 0s 8ms/step - loss: 1.6906 - accuracy: 0.6452 - val_loss: 1.8899 - val_accuracy: 0.5313\n",
            "Epoch 30/500\n",
            "36/36 [==============================] - 0s 7ms/step - loss: 1.6361 - accuracy: 0.6715 - val_loss: 1.8520 - val_accuracy: 0.5541\n",
            "Epoch 31/500\n",
            "36/36 [==============================] - 0s 8ms/step - loss: 1.5871 - accuracy: 0.6881 - val_loss: 1.8157 - val_accuracy: 0.5674\n",
            "Epoch 32/500\n",
            "36/36 [==============================] - 0s 7ms/step - loss: 1.5375 - accuracy: 0.7104 - val_loss: 1.7812 - val_accuracy: 0.5844\n",
            "Epoch 33/500\n",
            "36/36 [==============================] - 0s 7ms/step - loss: 1.4859 - accuracy: 0.7317 - val_loss: 1.7453 - val_accuracy: 0.5920\n",
            "Epoch 34/500\n",
            "36/36 [==============================] - 0s 8ms/step - loss: 1.4374 - accuracy: 0.7498 - val_loss: 1.7125 - val_accuracy: 0.6148\n",
            "Epoch 35/500\n",
            "36/36 [==============================] - 0s 8ms/step - loss: 1.3928 - accuracy: 0.7623 - val_loss: 1.6800 - val_accuracy: 0.6281\n",
            "Epoch 36/500\n",
            "36/36 [==============================] - 0s 7ms/step - loss: 1.3495 - accuracy: 0.7744 - val_loss: 1.6483 - val_accuracy: 0.6546\n",
            "Epoch 37/500\n",
            "36/36 [==============================] - 0s 7ms/step - loss: 1.3051 - accuracy: 0.7858 - val_loss: 1.6187 - val_accuracy: 0.6546\n",
            "Epoch 38/500\n",
            "36/36 [==============================] - 0s 7ms/step - loss: 1.2603 - accuracy: 0.7972 - val_loss: 1.5892 - val_accuracy: 0.6736\n",
            "Epoch 39/500\n",
            "36/36 [==============================] - 0s 8ms/step - loss: 1.2207 - accuracy: 0.8062 - val_loss: 1.5610 - val_accuracy: 0.6755\n",
            "Epoch 40/500\n",
            "36/36 [==============================] - 0s 7ms/step - loss: 1.1802 - accuracy: 0.8140 - val_loss: 1.5326 - val_accuracy: 0.6869\n",
            "Epoch 41/500\n",
            "36/36 [==============================] - 0s 7ms/step - loss: 1.1459 - accuracy: 0.8238 - val_loss: 1.5072 - val_accuracy: 0.6926\n",
            "Epoch 42/500\n",
            "36/36 [==============================] - 0s 8ms/step - loss: 1.1050 - accuracy: 0.8323 - val_loss: 1.4811 - val_accuracy: 0.6945\n",
            "Epoch 43/500\n",
            "36/36 [==============================] - 0s 7ms/step - loss: 1.0697 - accuracy: 0.8359 - val_loss: 1.4569 - val_accuracy: 0.7040\n",
            "Epoch 44/500\n",
            "36/36 [==============================] - 0s 8ms/step - loss: 1.0364 - accuracy: 0.8472 - val_loss: 1.4336 - val_accuracy: 0.7078\n",
            "Epoch 45/500\n",
            "36/36 [==============================] - 0s 9ms/step - loss: 1.0030 - accuracy: 0.8522 - val_loss: 1.4104 - val_accuracy: 0.7173\n",
            "Epoch 46/500\n",
            "36/36 [==============================] - 0s 9ms/step - loss: 0.9713 - accuracy: 0.8560 - val_loss: 1.3882 - val_accuracy: 0.7192\n",
            "Epoch 47/500\n",
            "36/36 [==============================] - 0s 7ms/step - loss: 0.9401 - accuracy: 0.8634 - val_loss: 1.3688 - val_accuracy: 0.7230\n",
            "Epoch 48/500\n",
            "36/36 [==============================] - 0s 8ms/step - loss: 0.9099 - accuracy: 0.8648 - val_loss: 1.3477 - val_accuracy: 0.7287\n",
            "Epoch 49/500\n",
            "36/36 [==============================] - 0s 8ms/step - loss: 0.8810 - accuracy: 0.8681 - val_loss: 1.3290 - val_accuracy: 0.7362\n",
            "Epoch 50/500\n",
            "36/36 [==============================] - 0s 7ms/step - loss: 0.8526 - accuracy: 0.8743 - val_loss: 1.3096 - val_accuracy: 0.7343\n",
            "Epoch 51/500\n",
            "36/36 [==============================] - 0s 8ms/step - loss: 0.8239 - accuracy: 0.8788 - val_loss: 1.2923 - val_accuracy: 0.7400\n",
            "Epoch 52/500\n",
            "36/36 [==============================] - 0s 8ms/step - loss: 0.8001 - accuracy: 0.8850 - val_loss: 1.2752 - val_accuracy: 0.7457\n",
            "Epoch 53/500\n",
            "36/36 [==============================] - 0s 8ms/step - loss: 0.7745 - accuracy: 0.8866 - val_loss: 1.2576 - val_accuracy: 0.7419\n",
            "Epoch 54/500\n",
            "36/36 [==============================] - 0s 8ms/step - loss: 0.7516 - accuracy: 0.8909 - val_loss: 1.2417 - val_accuracy: 0.7514\n",
            "Epoch 55/500\n",
            "36/36 [==============================] - 0s 8ms/step - loss: 0.7266 - accuracy: 0.8975 - val_loss: 1.2263 - val_accuracy: 0.7533\n",
            "Epoch 56/500\n",
            "36/36 [==============================] - 0s 8ms/step - loss: 0.7039 - accuracy: 0.9025 - val_loss: 1.2112 - val_accuracy: 0.7609\n",
            "Epoch 57/500\n",
            "36/36 [==============================] - 0s 8ms/step - loss: 0.6819 - accuracy: 0.9077 - val_loss: 1.1971 - val_accuracy: 0.7609\n",
            "Epoch 58/500\n",
            "36/36 [==============================] - 0s 7ms/step - loss: 0.6632 - accuracy: 0.9118 - val_loss: 1.1832 - val_accuracy: 0.7609\n",
            "Epoch 59/500\n",
            "36/36 [==============================] - 0s 8ms/step - loss: 0.6401 - accuracy: 0.9141 - val_loss: 1.1687 - val_accuracy: 0.7609\n",
            "Epoch 60/500\n",
            "36/36 [==============================] - 0s 8ms/step - loss: 0.6227 - accuracy: 0.9189 - val_loss: 1.1556 - val_accuracy: 0.7647\n",
            "Epoch 61/500\n",
            "36/36 [==============================] - 0s 8ms/step - loss: 0.6029 - accuracy: 0.9203 - val_loss: 1.1431 - val_accuracy: 0.7647\n",
            "Epoch 62/500\n",
            "36/36 [==============================] - 0s 8ms/step - loss: 0.5861 - accuracy: 0.9250 - val_loss: 1.1304 - val_accuracy: 0.7704\n",
            "Epoch 63/500\n",
            "36/36 [==============================] - 0s 8ms/step - loss: 0.5670 - accuracy: 0.9296 - val_loss: 1.1186 - val_accuracy: 0.7723\n",
            "Epoch 64/500\n",
            "36/36 [==============================] - 0s 8ms/step - loss: 0.5492 - accuracy: 0.9303 - val_loss: 1.1084 - val_accuracy: 0.7704\n",
            "Epoch 65/500\n",
            "36/36 [==============================] - 0s 7ms/step - loss: 0.5336 - accuracy: 0.9360 - val_loss: 1.0968 - val_accuracy: 0.7761\n",
            "Epoch 66/500\n",
            "36/36 [==============================] - 0s 8ms/step - loss: 0.5167 - accuracy: 0.9395 - val_loss: 1.0856 - val_accuracy: 0.7780\n",
            "Epoch 67/500\n",
            "36/36 [==============================] - 0s 8ms/step - loss: 0.5024 - accuracy: 0.9407 - val_loss: 1.0757 - val_accuracy: 0.7780\n",
            "Epoch 68/500\n",
            "36/36 [==============================] - 0s 7ms/step - loss: 0.4859 - accuracy: 0.9452 - val_loss: 1.0662 - val_accuracy: 0.7780\n",
            "Epoch 69/500\n",
            "36/36 [==============================] - 0s 8ms/step - loss: 0.4709 - accuracy: 0.9457 - val_loss: 1.0569 - val_accuracy: 0.7799\n",
            "Epoch 70/500\n",
            "36/36 [==============================] - 0s 8ms/step - loss: 0.4597 - accuracy: 0.9490 - val_loss: 1.0474 - val_accuracy: 0.7818\n",
            "Epoch 71/500\n",
            "36/36 [==============================] - 0s 8ms/step - loss: 0.4446 - accuracy: 0.9528 - val_loss: 1.0386 - val_accuracy: 0.7818\n",
            "Epoch 72/500\n",
            "36/36 [==============================] - 0s 8ms/step - loss: 0.4310 - accuracy: 0.9542 - val_loss: 1.0294 - val_accuracy: 0.7837\n",
            "Epoch 73/500\n",
            "36/36 [==============================] - 0s 8ms/step - loss: 0.4196 - accuracy: 0.9566 - val_loss: 1.0206 - val_accuracy: 0.7913\n",
            "Epoch 74/500\n",
            "36/36 [==============================] - 0s 7ms/step - loss: 0.4070 - accuracy: 0.9578 - val_loss: 1.0134 - val_accuracy: 0.7837\n",
            "Epoch 75/500\n",
            "36/36 [==============================] - 0s 8ms/step - loss: 0.3926 - accuracy: 0.9623 - val_loss: 1.0046 - val_accuracy: 0.7894\n",
            "Epoch 76/500\n",
            "36/36 [==============================] - 0s 8ms/step - loss: 0.3824 - accuracy: 0.9647 - val_loss: 0.9977 - val_accuracy: 0.7913\n",
            "Epoch 77/500\n",
            "36/36 [==============================] - 0s 7ms/step - loss: 0.3707 - accuracy: 0.9647 - val_loss: 0.9900 - val_accuracy: 0.7913\n",
            "Epoch 78/500\n",
            "36/36 [==============================] - 0s 8ms/step - loss: 0.3606 - accuracy: 0.9673 - val_loss: 0.9825 - val_accuracy: 0.7894\n",
            "Epoch 79/500\n",
            "36/36 [==============================] - 0s 8ms/step - loss: 0.3494 - accuracy: 0.9677 - val_loss: 0.9761 - val_accuracy: 0.7913\n",
            "Epoch 80/500\n",
            "36/36 [==============================] - 0s 8ms/step - loss: 0.3398 - accuracy: 0.9708 - val_loss: 0.9688 - val_accuracy: 0.7913\n",
            "Epoch 81/500\n",
            "36/36 [==============================] - 0s 8ms/step - loss: 0.3295 - accuracy: 0.9746 - val_loss: 0.9622 - val_accuracy: 0.7913\n",
            "Epoch 82/500\n",
            "36/36 [==============================] - 0s 8ms/step - loss: 0.3195 - accuracy: 0.9749 - val_loss: 0.9564 - val_accuracy: 0.8008\n",
            "Epoch 83/500\n",
            "36/36 [==============================] - 0s 9ms/step - loss: 0.3100 - accuracy: 0.9753 - val_loss: 0.9494 - val_accuracy: 0.8008\n",
            "Epoch 84/500\n",
            "36/36 [==============================] - 0s 9ms/step - loss: 0.3009 - accuracy: 0.9763 - val_loss: 0.9444 - val_accuracy: 0.7970\n",
            "Epoch 85/500\n",
            "36/36 [==============================] - 0s 8ms/step - loss: 0.2920 - accuracy: 0.9784 - val_loss: 0.9377 - val_accuracy: 0.8008\n",
            "Epoch 86/500\n",
            "36/36 [==============================] - 0s 8ms/step - loss: 0.2848 - accuracy: 0.9813 - val_loss: 0.9323 - val_accuracy: 0.8008\n",
            "Epoch 87/500\n",
            "36/36 [==============================] - 0s 8ms/step - loss: 0.2755 - accuracy: 0.9801 - val_loss: 0.9264 - val_accuracy: 0.8008\n",
            "Epoch 88/500\n",
            "36/36 [==============================] - 0s 8ms/step - loss: 0.2674 - accuracy: 0.9817 - val_loss: 0.9206 - val_accuracy: 0.8046\n",
            "Epoch 89/500\n",
            "36/36 [==============================] - 0s 8ms/step - loss: 0.2605 - accuracy: 0.9829 - val_loss: 0.9160 - val_accuracy: 0.8046\n",
            "Epoch 90/500\n",
            "36/36 [==============================] - 0s 8ms/step - loss: 0.2521 - accuracy: 0.9832 - val_loss: 0.9105 - val_accuracy: 0.8046\n",
            "Epoch 91/500\n",
            "36/36 [==============================] - 0s 8ms/step - loss: 0.2457 - accuracy: 0.9851 - val_loss: 0.9055 - val_accuracy: 0.8046\n",
            "Epoch 92/500\n",
            "36/36 [==============================] - 0s 7ms/step - loss: 0.2385 - accuracy: 0.9855 - val_loss: 0.9003 - val_accuracy: 0.8027\n",
            "Epoch 93/500\n",
            "36/36 [==============================] - 0s 7ms/step - loss: 0.2318 - accuracy: 0.9858 - val_loss: 0.8960 - val_accuracy: 0.8046\n",
            "Epoch 94/500\n",
            "36/36 [==============================] - 0s 8ms/step - loss: 0.2248 - accuracy: 0.9865 - val_loss: 0.8920 - val_accuracy: 0.8065\n",
            "Epoch 95/500\n",
            "36/36 [==============================] - 0s 8ms/step - loss: 0.2182 - accuracy: 0.9891 - val_loss: 0.8872 - val_accuracy: 0.8027\n",
            "Epoch 96/500\n",
            "36/36 [==============================] - 0s 8ms/step - loss: 0.2123 - accuracy: 0.9881 - val_loss: 0.8828 - val_accuracy: 0.8046\n",
            "Epoch 97/500\n",
            "36/36 [==============================] - 0s 8ms/step - loss: 0.2053 - accuracy: 0.9896 - val_loss: 0.8785 - val_accuracy: 0.8046\n",
            "Epoch 98/500\n",
            "36/36 [==============================] - 0s 8ms/step - loss: 0.1993 - accuracy: 0.9889 - val_loss: 0.8740 - val_accuracy: 0.8046\n",
            "Epoch 99/500\n",
            "36/36 [==============================] - 0s 8ms/step - loss: 0.1917 - accuracy: 0.9910 - val_loss: 0.8697 - val_accuracy: 0.8046\n",
            "Epoch 100/500\n",
            "36/36 [==============================] - 0s 8ms/step - loss: 0.1885 - accuracy: 0.9903 - val_loss: 0.8665 - val_accuracy: 0.8046\n",
            "Epoch 101/500\n",
            "36/36 [==============================] - 0s 8ms/step - loss: 0.1831 - accuracy: 0.9905 - val_loss: 0.8626 - val_accuracy: 0.8027\n",
            "Epoch 102/500\n",
            "36/36 [==============================] - 0s 8ms/step - loss: 0.1777 - accuracy: 0.9917 - val_loss: 0.8575 - val_accuracy: 0.8046\n",
            "Epoch 103/500\n",
            "36/36 [==============================] - 0s 8ms/step - loss: 0.1722 - accuracy: 0.9919 - val_loss: 0.8547 - val_accuracy: 0.8046\n",
            "Epoch 104/500\n",
            "36/36 [==============================] - 0s 8ms/step - loss: 0.1680 - accuracy: 0.9917 - val_loss: 0.8516 - val_accuracy: 0.8027\n",
            "Epoch 105/500\n",
            "36/36 [==============================] - 0s 8ms/step - loss: 0.1627 - accuracy: 0.9936 - val_loss: 0.8480 - val_accuracy: 0.8027\n",
            "Epoch 106/500\n",
            "36/36 [==============================] - 0s 8ms/step - loss: 0.1584 - accuracy: 0.9934 - val_loss: 0.8446 - val_accuracy: 0.8027\n",
            "Epoch 107/500\n",
            "36/36 [==============================] - 0s 8ms/step - loss: 0.1530 - accuracy: 0.9931 - val_loss: 0.8415 - val_accuracy: 0.8027\n",
            "Epoch 108/500\n",
            "36/36 [==============================] - 0s 8ms/step - loss: 0.1489 - accuracy: 0.9945 - val_loss: 0.8383 - val_accuracy: 0.8027\n",
            "Epoch 109/500\n",
            "36/36 [==============================] - 0s 8ms/step - loss: 0.1442 - accuracy: 0.9938 - val_loss: 0.8352 - val_accuracy: 0.8027\n",
            "Epoch 110/500\n",
            "36/36 [==============================] - 0s 7ms/step - loss: 0.1413 - accuracy: 0.9948 - val_loss: 0.8324 - val_accuracy: 0.8027\n",
            "Epoch 111/500\n",
            "36/36 [==============================] - 0s 8ms/step - loss: 0.1358 - accuracy: 0.9950 - val_loss: 0.8289 - val_accuracy: 0.8027\n",
            "Epoch 112/500\n",
            "36/36 [==============================] - 0s 8ms/step - loss: 0.1331 - accuracy: 0.9948 - val_loss: 0.8260 - val_accuracy: 0.8027\n",
            "Epoch 113/500\n",
            "36/36 [==============================] - 0s 8ms/step - loss: 0.1286 - accuracy: 0.9957 - val_loss: 0.8227 - val_accuracy: 0.8027\n",
            "Epoch 114/500\n",
            "36/36 [==============================] - 0s 8ms/step - loss: 0.1255 - accuracy: 0.9962 - val_loss: 0.8203 - val_accuracy: 0.8046\n",
            "Epoch 115/500\n",
            "36/36 [==============================] - 0s 7ms/step - loss: 0.1218 - accuracy: 0.9957 - val_loss: 0.8180 - val_accuracy: 0.8065\n",
            "Epoch 116/500\n",
            "36/36 [==============================] - 0s 8ms/step - loss: 0.1179 - accuracy: 0.9953 - val_loss: 0.8147 - val_accuracy: 0.8065\n",
            "Epoch 117/500\n",
            "36/36 [==============================] - 0s 7ms/step - loss: 0.1151 - accuracy: 0.9962 - val_loss: 0.8119 - val_accuracy: 0.8065\n",
            "Epoch 118/500\n",
            "36/36 [==============================] - 0s 9ms/step - loss: 0.1117 - accuracy: 0.9964 - val_loss: 0.8095 - val_accuracy: 0.8046\n",
            "Epoch 119/500\n",
            "36/36 [==============================] - 0s 9ms/step - loss: 0.1092 - accuracy: 0.9967 - val_loss: 0.8081 - val_accuracy: 0.8065\n",
            "Epoch 120/500\n",
            "36/36 [==============================] - 0s 9ms/step - loss: 0.1052 - accuracy: 0.9960 - val_loss: 0.8049 - val_accuracy: 0.8046\n",
            "Epoch 121/500\n",
            "36/36 [==============================] - 0s 9ms/step - loss: 0.1029 - accuracy: 0.9960 - val_loss: 0.8030 - val_accuracy: 0.8065\n",
            "Epoch 122/500\n",
            "36/36 [==============================] - 0s 8ms/step - loss: 0.0996 - accuracy: 0.9967 - val_loss: 0.8010 - val_accuracy: 0.8046\n",
            "Epoch 123/500\n",
            "36/36 [==============================] - 0s 8ms/step - loss: 0.0967 - accuracy: 0.9969 - val_loss: 0.7986 - val_accuracy: 0.8065\n",
            "Epoch 124/500\n",
            "36/36 [==============================] - 0s 8ms/step - loss: 0.0936 - accuracy: 0.9969 - val_loss: 0.7959 - val_accuracy: 0.8065\n",
            "Epoch 125/500\n",
            "36/36 [==============================] - 0s 8ms/step - loss: 0.0920 - accuracy: 0.9967 - val_loss: 0.7951 - val_accuracy: 0.8083\n",
            "Epoch 126/500\n",
            "36/36 [==============================] - 0s 7ms/step - loss: 0.0893 - accuracy: 0.9972 - val_loss: 0.7935 - val_accuracy: 0.8083\n",
            "Epoch 127/500\n",
            "36/36 [==============================] - 0s 8ms/step - loss: 0.0871 - accuracy: 0.9972 - val_loss: 0.7919 - val_accuracy: 0.8065\n",
            "Epoch 128/500\n",
            "36/36 [==============================] - 0s 8ms/step - loss: 0.0838 - accuracy: 0.9974 - val_loss: 0.7895 - val_accuracy: 0.8102\n",
            "Epoch 129/500\n",
            "36/36 [==============================] - 0s 8ms/step - loss: 0.0817 - accuracy: 0.9969 - val_loss: 0.7871 - val_accuracy: 0.8083\n",
            "Epoch 130/500\n",
            "36/36 [==============================] - 0s 8ms/step - loss: 0.0801 - accuracy: 0.9981 - val_loss: 0.7853 - val_accuracy: 0.8083\n",
            "Epoch 131/500\n",
            "36/36 [==============================] - 0s 8ms/step - loss: 0.0779 - accuracy: 0.9976 - val_loss: 0.7837 - val_accuracy: 0.8102\n",
            "Epoch 132/500\n",
            "36/36 [==============================] - 0s 7ms/step - loss: 0.0747 - accuracy: 0.9986 - val_loss: 0.7819 - val_accuracy: 0.8102\n",
            "Epoch 133/500\n",
            "36/36 [==============================] - 0s 8ms/step - loss: 0.0734 - accuracy: 0.9981 - val_loss: 0.7802 - val_accuracy: 0.8102\n",
            "Epoch 134/500\n",
            "36/36 [==============================] - 0s 8ms/step - loss: 0.0708 - accuracy: 0.9983 - val_loss: 0.7788 - val_accuracy: 0.8083\n",
            "Epoch 135/500\n",
            "36/36 [==============================] - 0s 8ms/step - loss: 0.0697 - accuracy: 0.9983 - val_loss: 0.7773 - val_accuracy: 0.8102\n",
            "Epoch 136/500\n",
            "36/36 [==============================] - 0s 8ms/step - loss: 0.0677 - accuracy: 0.9983 - val_loss: 0.7764 - val_accuracy: 0.8083\n",
            "Epoch 137/500\n",
            "36/36 [==============================] - 0s 8ms/step - loss: 0.0656 - accuracy: 0.9993 - val_loss: 0.7747 - val_accuracy: 0.8083\n",
            "Epoch 138/500\n",
            "36/36 [==============================] - 0s 8ms/step - loss: 0.0641 - accuracy: 0.9983 - val_loss: 0.7741 - val_accuracy: 0.8083\n",
            "Epoch 139/500\n",
            "36/36 [==============================] - 0s 8ms/step - loss: 0.0621 - accuracy: 0.9991 - val_loss: 0.7724 - val_accuracy: 0.8083\n",
            "Epoch 140/500\n",
            "36/36 [==============================] - 0s 8ms/step - loss: 0.0607 - accuracy: 0.9991 - val_loss: 0.7706 - val_accuracy: 0.8083\n",
            "Epoch 141/500\n",
            "36/36 [==============================] - 0s 8ms/step - loss: 0.0593 - accuracy: 0.9986 - val_loss: 0.7692 - val_accuracy: 0.8121\n",
            "Epoch 142/500\n",
            "36/36 [==============================] - 0s 8ms/step - loss: 0.0573 - accuracy: 0.9995 - val_loss: 0.7674 - val_accuracy: 0.8121\n",
            "Epoch 143/500\n",
            "36/36 [==============================] - 0s 8ms/step - loss: 0.0556 - accuracy: 0.9991 - val_loss: 0.7663 - val_accuracy: 0.8102\n",
            "Epoch 144/500\n",
            "36/36 [==============================] - 0s 8ms/step - loss: 0.0538 - accuracy: 0.9995 - val_loss: 0.7654 - val_accuracy: 0.8121\n",
            "Epoch 145/500\n",
            "36/36 [==============================] - 0s 8ms/step - loss: 0.0529 - accuracy: 0.9995 - val_loss: 0.7646 - val_accuracy: 0.8102\n",
            "Epoch 146/500\n",
            "36/36 [==============================] - 0s 8ms/step - loss: 0.0514 - accuracy: 0.9998 - val_loss: 0.7638 - val_accuracy: 0.8102\n",
            "Epoch 147/500\n",
            "36/36 [==============================] - 0s 8ms/step - loss: 0.0502 - accuracy: 0.9998 - val_loss: 0.7630 - val_accuracy: 0.8102\n",
            "Epoch 148/500\n",
            "36/36 [==============================] - 0s 8ms/step - loss: 0.0487 - accuracy: 0.9998 - val_loss: 0.7616 - val_accuracy: 0.8102\n",
            "Epoch 149/500\n",
            "36/36 [==============================] - 0s 8ms/step - loss: 0.0475 - accuracy: 0.9998 - val_loss: 0.7600 - val_accuracy: 0.8102\n",
            "Epoch 150/500\n",
            "36/36 [==============================] - 0s 8ms/step - loss: 0.0463 - accuracy: 1.0000 - val_loss: 0.7605 - val_accuracy: 0.8121\n",
            "Epoch 151/500\n",
            "36/36 [==============================] - 0s 8ms/step - loss: 0.0451 - accuracy: 0.9998 - val_loss: 0.7584 - val_accuracy: 0.8102\n",
            "Epoch 152/500\n",
            "36/36 [==============================] - 0s 8ms/step - loss: 0.0436 - accuracy: 0.9998 - val_loss: 0.7579 - val_accuracy: 0.8102\n",
            "Epoch 153/500\n",
            "36/36 [==============================] - 0s 10ms/step - loss: 0.0426 - accuracy: 1.0000 - val_loss: 0.7574 - val_accuracy: 0.8102\n",
            "Epoch 154/500\n",
            "36/36 [==============================] - 0s 12ms/step - loss: 0.0413 - accuracy: 1.0000 - val_loss: 0.7567 - val_accuracy: 0.8102\n",
            "Epoch 155/500\n",
            "36/36 [==============================] - 1s 17ms/step - loss: 0.0403 - accuracy: 1.0000 - val_loss: 0.7554 - val_accuracy: 0.8159\n",
            "Epoch 156/500\n",
            "36/36 [==============================] - 1s 24ms/step - loss: 0.0392 - accuracy: 1.0000 - val_loss: 0.7550 - val_accuracy: 0.8121\n",
            "Epoch 157/500\n",
            "36/36 [==============================] - 0s 11ms/step - loss: 0.0378 - accuracy: 1.0000 - val_loss: 0.7541 - val_accuracy: 0.8140\n",
            "Epoch 158/500\n",
            "36/36 [==============================] - 1s 17ms/step - loss: 0.0375 - accuracy: 0.9998 - val_loss: 0.7542 - val_accuracy: 0.8121\n",
            "Epoch 159/500\n",
            "36/36 [==============================] - 0s 8ms/step - loss: 0.0361 - accuracy: 1.0000 - val_loss: 0.7526 - val_accuracy: 0.8140\n",
            "Epoch 160/500\n",
            "36/36 [==============================] - 0s 8ms/step - loss: 0.0354 - accuracy: 1.0000 - val_loss: 0.7516 - val_accuracy: 0.8121\n",
            "Epoch 161/500\n",
            "36/36 [==============================] - 0s 8ms/step - loss: 0.0342 - accuracy: 1.0000 - val_loss: 0.7514 - val_accuracy: 0.8159\n",
            "Epoch 162/500\n",
            "36/36 [==============================] - 0s 8ms/step - loss: 0.0334 - accuracy: 1.0000 - val_loss: 0.7512 - val_accuracy: 0.8140\n",
            "Epoch 163/500\n",
            "36/36 [==============================] - 0s 8ms/step - loss: 0.0329 - accuracy: 1.0000 - val_loss: 0.7493 - val_accuracy: 0.8159\n",
            "Epoch 164/500\n",
            "36/36 [==============================] - 0s 8ms/step - loss: 0.0322 - accuracy: 0.9998 - val_loss: 0.7505 - val_accuracy: 0.8140\n",
            "Epoch 165/500\n",
            "36/36 [==============================] - 0s 8ms/step - loss: 0.0312 - accuracy: 1.0000 - val_loss: 0.7486 - val_accuracy: 0.8178\n",
            "Epoch 166/500\n",
            "36/36 [==============================] - 0s 8ms/step - loss: 0.0305 - accuracy: 1.0000 - val_loss: 0.7475 - val_accuracy: 0.8159\n",
            "Epoch 167/500\n",
            "36/36 [==============================] - 0s 7ms/step - loss: 0.0295 - accuracy: 1.0000 - val_loss: 0.7477 - val_accuracy: 0.8159\n",
            "Epoch 168/500\n",
            "36/36 [==============================] - 0s 8ms/step - loss: 0.0286 - accuracy: 1.0000 - val_loss: 0.7478 - val_accuracy: 0.8159\n",
            "Epoch 169/500\n",
            "36/36 [==============================] - 0s 8ms/step - loss: 0.0277 - accuracy: 1.0000 - val_loss: 0.7464 - val_accuracy: 0.8159\n",
            "Epoch 170/500\n",
            "36/36 [==============================] - 0s 8ms/step - loss: 0.0270 - accuracy: 1.0000 - val_loss: 0.7464 - val_accuracy: 0.8178\n",
            "Epoch 171/500\n",
            "36/36 [==============================] - 0s 8ms/step - loss: 0.0264 - accuracy: 1.0000 - val_loss: 0.7464 - val_accuracy: 0.8178\n",
            "Epoch 172/500\n",
            "36/36 [==============================] - 0s 8ms/step - loss: 0.0258 - accuracy: 1.0000 - val_loss: 0.7462 - val_accuracy: 0.8178\n",
            "Epoch 173/500\n",
            "36/36 [==============================] - 0s 8ms/step - loss: 0.0254 - accuracy: 1.0000 - val_loss: 0.7450 - val_accuracy: 0.8197\n",
            "Epoch 174/500\n",
            "36/36 [==============================] - 0s 8ms/step - loss: 0.0244 - accuracy: 1.0000 - val_loss: 0.7459 - val_accuracy: 0.8178\n",
            "Epoch 175/500\n",
            "36/36 [==============================] - 0s 8ms/step - loss: 0.0242 - accuracy: 1.0000 - val_loss: 0.7455 - val_accuracy: 0.8178\n",
            "Epoch 176/500\n",
            "36/36 [==============================] - 0s 7ms/step - loss: 0.0233 - accuracy: 1.0000 - val_loss: 0.7451 - val_accuracy: 0.8197\n",
            "Epoch 177/500\n",
            "36/36 [==============================] - 0s 8ms/step - loss: 0.0233 - accuracy: 1.0000 - val_loss: 0.7438 - val_accuracy: 0.8197\n",
            "Epoch 178/500\n",
            "36/36 [==============================] - 0s 8ms/step - loss: 0.0224 - accuracy: 1.0000 - val_loss: 0.7447 - val_accuracy: 0.8178\n",
            "Epoch 179/500\n",
            "36/36 [==============================] - 0s 8ms/step - loss: 0.0218 - accuracy: 1.0000 - val_loss: 0.7446 - val_accuracy: 0.8159\n",
            "Epoch 180/500\n",
            "36/36 [==============================] - 0s 8ms/step - loss: 0.0213 - accuracy: 1.0000 - val_loss: 0.7424 - val_accuracy: 0.8197\n",
            "Epoch 181/500\n",
            "36/36 [==============================] - 0s 7ms/step - loss: 0.0208 - accuracy: 1.0000 - val_loss: 0.7434 - val_accuracy: 0.8159\n",
            "Epoch 182/500\n",
            "36/36 [==============================] - 0s 8ms/step - loss: 0.0204 - accuracy: 1.0000 - val_loss: 0.7432 - val_accuracy: 0.8197\n",
            "Epoch 183/500\n",
            "36/36 [==============================] - 0s 8ms/step - loss: 0.0199 - accuracy: 1.0000 - val_loss: 0.7429 - val_accuracy: 0.8197\n",
            "Epoch 184/500\n",
            "36/36 [==============================] - 0s 8ms/step - loss: 0.0193 - accuracy: 1.0000 - val_loss: 0.7439 - val_accuracy: 0.8178\n",
            "Epoch 185/500\n",
            "36/36 [==============================] - 0s 8ms/step - loss: 0.0189 - accuracy: 1.0000 - val_loss: 0.7423 - val_accuracy: 0.8197\n",
            "Epoch 186/500\n",
            "36/36 [==============================] - 0s 8ms/step - loss: 0.0187 - accuracy: 1.0000 - val_loss: 0.7438 - val_accuracy: 0.8197\n",
            "Epoch 187/500\n",
            "36/36 [==============================] - 0s 8ms/step - loss: 0.0177 - accuracy: 1.0000 - val_loss: 0.7422 - val_accuracy: 0.8216\n",
            "Epoch 188/500\n",
            "36/36 [==============================] - 0s 8ms/step - loss: 0.0175 - accuracy: 1.0000 - val_loss: 0.7430 - val_accuracy: 0.8197\n",
            "Epoch 189/500\n",
            "36/36 [==============================] - 0s 9ms/step - loss: 0.0171 - accuracy: 1.0000 - val_loss: 0.7422 - val_accuracy: 0.8216\n",
            "Epoch 190/500\n",
            "36/36 [==============================] - 0s 10ms/step - loss: 0.0165 - accuracy: 1.0000 - val_loss: 0.7424 - val_accuracy: 0.8216\n",
            "Epoch 191/500\n",
            "36/36 [==============================] - 0s 9ms/step - loss: 0.0165 - accuracy: 1.0000 - val_loss: 0.7430 - val_accuracy: 0.8235\n",
            "Epoch 192/500\n",
            "36/36 [==============================] - 0s 9ms/step - loss: 0.0161 - accuracy: 1.0000 - val_loss: 0.7437 - val_accuracy: 0.8216\n",
            "Epoch 193/500\n",
            "36/36 [==============================] - 0s 8ms/step - loss: 0.0154 - accuracy: 1.0000 - val_loss: 0.7414 - val_accuracy: 0.8216\n",
            "Epoch 194/500\n",
            "36/36 [==============================] - 0s 8ms/step - loss: 0.0152 - accuracy: 1.0000 - val_loss: 0.7421 - val_accuracy: 0.8216\n",
            "Epoch 195/500\n",
            "36/36 [==============================] - 0s 8ms/step - loss: 0.0146 - accuracy: 1.0000 - val_loss: 0.7425 - val_accuracy: 0.8216\n",
            "Epoch 196/500\n",
            "36/36 [==============================] - 0s 8ms/step - loss: 0.0143 - accuracy: 1.0000 - val_loss: 0.7427 - val_accuracy: 0.8216\n",
            "Epoch 197/500\n",
            "36/36 [==============================] - 0s 8ms/step - loss: 0.0141 - accuracy: 1.0000 - val_loss: 0.7434 - val_accuracy: 0.8216\n",
            "Epoch 198/500\n",
            "36/36 [==============================] - 0s 8ms/step - loss: 0.0136 - accuracy: 1.0000 - val_loss: 0.7432 - val_accuracy: 0.8216\n",
            "Epoch 199/500\n",
            "36/36 [==============================] - 0s 8ms/step - loss: 0.0136 - accuracy: 1.0000 - val_loss: 0.7420 - val_accuracy: 0.8216\n",
            "Epoch 200/500\n",
            "36/36 [==============================] - 0s 8ms/step - loss: 0.0132 - accuracy: 1.0000 - val_loss: 0.7429 - val_accuracy: 0.8216\n",
            "Epoch 201/500\n",
            "36/36 [==============================] - 0s 8ms/step - loss: 0.0127 - accuracy: 1.0000 - val_loss: 0.7425 - val_accuracy: 0.8197\n",
            "Epoch 202/500\n",
            "36/36 [==============================] - 0s 8ms/step - loss: 0.0126 - accuracy: 1.0000 - val_loss: 0.7435 - val_accuracy: 0.8216\n",
            "Epoch 203/500\n",
            "36/36 [==============================] - 0s 8ms/step - loss: 0.0122 - accuracy: 1.0000 - val_loss: 0.7431 - val_accuracy: 0.8216\n",
            "Epoch 204/500\n",
            "36/36 [==============================] - 0s 8ms/step - loss: 0.0119 - accuracy: 1.0000 - val_loss: 0.7433 - val_accuracy: 0.8216\n",
            "Epoch 205/500\n",
            "36/36 [==============================] - 0s 8ms/step - loss: 0.0118 - accuracy: 1.0000 - val_loss: 0.7444 - val_accuracy: 0.8216\n",
            "Epoch 206/500\n",
            "36/36 [==============================] - 0s 8ms/step - loss: 0.0114 - accuracy: 1.0000 - val_loss: 0.7438 - val_accuracy: 0.8197\n",
            "Epoch 207/500\n",
            "36/36 [==============================] - 0s 8ms/step - loss: 0.0110 - accuracy: 1.0000 - val_loss: 0.7449 - val_accuracy: 0.8216\n",
            "Epoch 208/500\n",
            "36/36 [==============================] - 0s 8ms/step - loss: 0.0108 - accuracy: 1.0000 - val_loss: 0.7440 - val_accuracy: 0.8216\n",
            "Epoch 208: early stopping\n"
          ]
        }
      ],
      "source": [
        "# training the model\n",
        "epochs = 500\n",
        "callback = tf.keras.callbacks.EarlyStopping(monitor='val_loss',\n",
        "                                            patience=15,\n",
        "                                            verbose=1)\n",
        "history = model.fit(train_ds,\n",
        "                    validation_data=val_ds,\n",
        "                    epochs=epochs,\n",
        "                    callbacks=[callback])"
      ]
    },
    {
      "cell_type": "markdown",
      "source": [
        "Validation of the model"
      ],
      "metadata": {
        "id": "ky5q5SiimdpF"
      }
    },
    {
      "cell_type": "code",
      "execution_count": 22,
      "metadata": {
        "colab": {
          "base_uri": "https://localhost:8080/"
        },
        "id": "FksY9EwwHDkd",
        "outputId": "984c9419-8c7a-4256-f5da-81b9189576cf"
      },
      "outputs": [
        {
          "output_type": "stream",
          "name": "stdout",
          "text": [
            "5/5 [==============================] - 0s 4ms/step - loss: 0.6540 - accuracy: 0.8425\n",
            "Loss:  0.6540117263793945\n",
            "Accuracy:  0.8425047397613525\n"
          ]
        }
      ],
      "source": [
        "# printing loss and accuracy of the model on the test set\n",
        "loss, accuracy = model.evaluate(test_ds)\n",
        "print(\"Loss: \", loss)\n",
        "print(\"Accuracy: \", accuracy)"
      ]
    },
    {
      "cell_type": "code",
      "execution_count": 23,
      "metadata": {
        "id": "cPdyDruxHIv1",
        "outputId": "debc5c7d-b2f9-405c-c67e-9039f1185e7e",
        "colab": {
          "base_uri": "https://localhost:8080/"
        }
      },
      "outputs": [
        {
          "output_type": "execute_result",
          "data": {
            "text/plain": [
              "dict_keys(['loss', 'accuracy', 'val_loss', 'val_accuracy'])"
            ]
          },
          "metadata": {},
          "execution_count": 23
        }
      ],
      "source": [
        "# extracting the history of training and its keys\n",
        "history_dict = history.history\n",
        "history_dict.keys()"
      ]
    },
    {
      "cell_type": "code",
      "execution_count": 24,
      "metadata": {
        "id": "shbF_xRlHDqZ"
      },
      "outputs": [],
      "source": [
        "acc = history_dict['accuracy']\n",
        "val_acc = history_dict['val_accuracy']\n",
        "loss = history_dict['loss']\n",
        "val_loss = history_dict['val_loss']\n",
        "\n",
        "epochs = range(1, len(acc) + 1)"
      ]
    },
    {
      "cell_type": "code",
      "execution_count": 25,
      "metadata": {
        "id": "iLsoTgHGP7Oq",
        "colab": {
          "base_uri": "https://localhost:8080/",
          "height": 573
        },
        "outputId": "f659c49c-d582-4006-be2b-980cb4cf48bc"
      },
      "outputs": [
        {
          "output_type": "display_data",
          "data": {
            "text/plain": [
              "<Figure size 432x288 with 1 Axes>"
            ],
            "image/png": "[encoded data removed]"
          },
          "metadata": {
            "needs_background": "light"
          }
        },
        {
          "output_type": "display_data",
          "data": {
            "text/plain": [
              "<Figure size 432x288 with 1 Axes>"
            ],
            "image/png": "[encoded data removed]"
          },
          "metadata": {
            "needs_background": "light"
          }
        }
      ],
      "source": [
        "# ploting of loss\n",
        "plt.plot(epochs, loss, 'b', label='Training loss')\n",
        "plt.plot(epochs, val_loss, 'r', label='Validation loss')\n",
        "plt.title('Training and validation loss')\n",
        "plt.xlabel('Epochs')\n",
        "plt.ylabel('Loss')\n",
        "plt.legend()\n",
        "plt.show()\n",
        "# plotting of accuracy\n",
        "plt.plot(epochs, acc, 'b', label='Training acc')\n",
        "plt.plot(epochs, val_acc, 'r', label='Validation acc')\n",
        "plt.title('Training and validation accuracy')\n",
        "plt.xlabel('Epochs')\n",
        "plt.ylabel('Accuracy')\n",
        "plt.legend(loc='lower right')\n",
        "plt.show()"
      ]
    },
    {
      "cell_type": "markdown",
      "source": [
        "\n",
        "\n",
        "---\n",
        "**Second one is a CNN model** with 0.8216318488121033 accuracy\n"
      ],
      "metadata": {
        "id": "Ykk8nS3go4ez"
      }
    },
    {
      "cell_type": "code",
      "source": [
        "# model configuration\n",
        "embedding_dim = 4096\n",
        "num_of_labels = 20\n",
        "\n",
        "model_1 = tf.keras.Sequential([\n",
        "    layers.Embedding(max_features + 1, embedding_dim),\n",
        "    layers.Conv1D(32, 3, activation='relu'),\n",
        "    layers.MaxPooling1D(5),\n",
        "    layers.Dropout(0.15),\n",
        "    layers.Conv1D(64, 3, activation='relu'),\n",
        "    layers.GlobalMaxPooling1D(),\n",
        "    layers.Dropout(0.15),\n",
        "    layers.Dense(num_of_labels, activation='softmax')\n",
        "])"
      ],
      "metadata": {
        "id": "mQpdSp9so9m0"
      },
      "execution_count": 26,
      "outputs": []
    },
    {
      "cell_type": "code",
      "source": [
        "# model compilation\n",
        "model_1.compile(optimizer='adam',\n",
        "              loss=tf.keras.losses.SparseCategoricalCrossentropy(from_logits=True),\n",
        "              metrics=['accuracy'])\n",
        "# training the model\n",
        "epochs = 500\n",
        "callback = tf.keras.callbacks.EarlyStopping(monitor='val_loss',\n",
        "                                            patience=30,\n",
        "                                            verbose=1)\n",
        "history_1 = model_1.fit(train_ds,\n",
        "                    validation_data=val_ds,\n",
        "                    epochs=epochs,\n",
        "                    callbacks=[callback])"
      ],
      "metadata": {
        "id": "GrVG1SkLpb8E",
        "colab": {
          "base_uri": "https://localhost:8080/"
        },
        "outputId": "224a5481-a30d-43fb-fdb6-b1aba8518b0a"
      },
      "execution_count": 27,
      "outputs": [
        {
          "output_type": "stream",
          "name": "stdout",
          "text": [
            "Epoch 1/500\n"
          ]
        },
        {
          "output_type": "stream",
          "name": "stderr",
          "text": [
            "/usr/local/lib/python3.8/dist-packages/keras/backend.py:5585: UserWarning: \"`sparse_categorical_crossentropy` received `from_logits=True`, but the `output` argument was produced by a Softmax activation and thus does not represent logits. Was this intended?\n",
            "  output, from_logits = _get_logits(\n"
          ]
        },
        {
          "output_type": "stream",
          "name": "stdout",
          "text": [
            "36/36 [==============================] - 16s 238ms/step - loss: 2.7621 - accuracy: 0.1592 - val_loss: 2.5084 - val_accuracy: 0.2884\n",
            "Epoch 2/500\n",
            "36/36 [==============================] - 3s 83ms/step - loss: 2.1624 - accuracy: 0.3722 - val_loss: 1.7193 - val_accuracy: 0.5199\n",
            "Epoch 3/500\n",
            "36/36 [==============================] - 3s 81ms/step - loss: 1.2222 - accuracy: 0.6864 - val_loss: 1.1408 - val_accuracy: 0.7381\n",
            "Epoch 4/500\n",
            "36/36 [==============================] - 3s 81ms/step - loss: 0.5593 - accuracy: 0.8520 - val_loss: 0.9715 - val_accuracy: 0.7647\n",
            "Epoch 5/500\n",
            "36/36 [==============================] - 3s 84ms/step - loss: 0.2732 - accuracy: 0.9319 - val_loss: 0.9160 - val_accuracy: 0.7761\n",
            "Epoch 6/500\n",
            "36/36 [==============================] - 3s 83ms/step - loss: 0.1474 - accuracy: 0.9680 - val_loss: 0.9267 - val_accuracy: 0.7894\n",
            "Epoch 7/500\n",
            "36/36 [==============================] - 3s 82ms/step - loss: 0.0777 - accuracy: 0.9846 - val_loss: 0.9243 - val_accuracy: 0.7951\n",
            "Epoch 8/500\n",
            "36/36 [==============================] - 3s 83ms/step - loss: 0.0560 - accuracy: 0.9886 - val_loss: 0.9392 - val_accuracy: 0.8027\n",
            "Epoch 9/500\n",
            "36/36 [==============================] - 3s 84ms/step - loss: 0.0402 - accuracy: 0.9905 - val_loss: 0.9534 - val_accuracy: 0.7932\n",
            "Epoch 10/500\n",
            "36/36 [==============================] - 3s 83ms/step - loss: 0.0316 - accuracy: 0.9929 - val_loss: 0.9811 - val_accuracy: 0.7989\n",
            "Epoch 11/500\n",
            "36/36 [==============================] - 3s 83ms/step - loss: 0.0223 - accuracy: 0.9969 - val_loss: 0.9832 - val_accuracy: 0.7875\n",
            "Epoch 12/500\n",
            "36/36 [==============================] - 3s 84ms/step - loss: 0.0212 - accuracy: 0.9945 - val_loss: 1.0161 - val_accuracy: 0.7970\n",
            "Epoch 13/500\n",
            "36/36 [==============================] - 3s 84ms/step - loss: 0.0162 - accuracy: 0.9967 - val_loss: 1.0076 - val_accuracy: 0.7932\n",
            "Epoch 14/500\n",
            "36/36 [==============================] - 3s 84ms/step - loss: 0.0172 - accuracy: 0.9964 - val_loss: 1.0010 - val_accuracy: 0.8008\n",
            "Epoch 15/500\n",
            "36/36 [==============================] - 3s 83ms/step - loss: 0.0132 - accuracy: 0.9981 - val_loss: 1.0455 - val_accuracy: 0.7856\n",
            "Epoch 16/500\n",
            "36/36 [==============================] - 3s 83ms/step - loss: 0.0092 - accuracy: 0.9983 - val_loss: 1.0619 - val_accuracy: 0.7951\n",
            "Epoch 17/500\n",
            "36/36 [==============================] - 3s 83ms/step - loss: 0.0100 - accuracy: 0.9981 - val_loss: 1.0826 - val_accuracy: 0.7989\n",
            "Epoch 18/500\n",
            "36/36 [==============================] - 3s 85ms/step - loss: 0.0086 - accuracy: 0.9983 - val_loss: 1.0883 - val_accuracy: 0.8065\n",
            "Epoch 19/500\n",
            "36/36 [==============================] - 3s 83ms/step - loss: 0.0103 - accuracy: 0.9979 - val_loss: 1.0915 - val_accuracy: 0.8027\n",
            "Epoch 20/500\n",
            "36/36 [==============================] - 3s 84ms/step - loss: 0.0106 - accuracy: 0.9964 - val_loss: 1.0883 - val_accuracy: 0.7989\n",
            "Epoch 21/500\n",
            "36/36 [==============================] - 3s 83ms/step - loss: 0.0082 - accuracy: 0.9983 - val_loss: 1.0984 - val_accuracy: 0.8027\n",
            "Epoch 22/500\n",
            "36/36 [==============================] - 3s 85ms/step - loss: 0.0073 - accuracy: 0.9986 - val_loss: 1.1335 - val_accuracy: 0.7970\n",
            "Epoch 23/500\n",
            "36/36 [==============================] - 3s 84ms/step - loss: 0.0052 - accuracy: 0.9993 - val_loss: 1.1766 - val_accuracy: 0.7913\n",
            "Epoch 24/500\n",
            "36/36 [==============================] - 3s 84ms/step - loss: 0.0065 - accuracy: 0.9983 - val_loss: 1.1801 - val_accuracy: 0.7894\n",
            "Epoch 25/500\n",
            "36/36 [==============================] - 3s 84ms/step - loss: 0.0082 - accuracy: 0.9976 - val_loss: 1.1707 - val_accuracy: 0.7856\n",
            "Epoch 26/500\n",
            "36/36 [==============================] - 3s 85ms/step - loss: 0.0058 - accuracy: 0.9979 - val_loss: 1.1831 - val_accuracy: 0.7989\n",
            "Epoch 27/500\n",
            "36/36 [==============================] - 3s 85ms/step - loss: 0.0045 - accuracy: 0.9998 - val_loss: 1.1729 - val_accuracy: 0.7932\n",
            "Epoch 28/500\n",
            "36/36 [==============================] - 3s 86ms/step - loss: 0.0043 - accuracy: 0.9995 - val_loss: 1.2081 - val_accuracy: 0.7932\n",
            "Epoch 29/500\n",
            "36/36 [==============================] - 3s 84ms/step - loss: 0.0036 - accuracy: 0.9993 - val_loss: 1.2092 - val_accuracy: 0.8140\n",
            "Epoch 30/500\n",
            "36/36 [==============================] - 3s 84ms/step - loss: 0.0043 - accuracy: 0.9991 - val_loss: 1.2141 - val_accuracy: 0.8083\n",
            "Epoch 31/500\n",
            "36/36 [==============================] - 3s 85ms/step - loss: 0.0052 - accuracy: 0.9991 - val_loss: 1.2332 - val_accuracy: 0.8102\n",
            "Epoch 32/500\n",
            "36/36 [==============================] - 3s 85ms/step - loss: 0.0044 - accuracy: 0.9991 - val_loss: 1.2536 - val_accuracy: 0.8027\n",
            "Epoch 33/500\n",
            "36/36 [==============================] - 3s 85ms/step - loss: 0.0027 - accuracy: 0.9995 - val_loss: 1.2469 - val_accuracy: 0.7875\n",
            "Epoch 34/500\n",
            "36/36 [==============================] - 3s 86ms/step - loss: 0.0042 - accuracy: 0.9993 - val_loss: 1.2612 - val_accuracy: 0.7932\n",
            "Epoch 35/500\n",
            "36/36 [==============================] - 3s 84ms/step - loss: 0.0055 - accuracy: 0.9991 - val_loss: 1.3026 - val_accuracy: 0.7837\n",
            "Epoch 35: early stopping\n"
          ]
        }
      ]
    },
    {
      "cell_type": "code",
      "source": [
        "# printing loss and accuracy of the model on the test set\n",
        "loss, accuracy = model_1.evaluate(test_ds)\n",
        "print(\"Loss: \", loss)\n",
        "print(\"Accuracy: \", accuracy)"
      ],
      "metadata": {
        "id": "lHvAxoFhqyk_",
        "colab": {
          "base_uri": "https://localhost:8080/"
        },
        "outputId": "2375d628-79cc-4043-ca7f-914831795e6b"
      },
      "execution_count": 28,
      "outputs": [
        {
          "output_type": "stream",
          "name": "stdout",
          "text": [
            "5/5 [==============================] - 0s 33ms/step - loss: 1.1318 - accuracy: 0.8216\n",
            "Loss:  1.131848931312561\n",
            "Accuracy:  0.8216318488121033\n"
          ]
        }
      ]
    },
    {
      "cell_type": "code",
      "execution_count": 31,
      "metadata": {
        "id": "YQj61lIMvX-Y",
        "colab": {
          "base_uri": "https://localhost:8080/"
        },
        "outputId": "db2d30e2-0b45-4e4a-84fa-2659c36af436"
      },
      "outputs": [
        {
          "output_type": "stream",
          "name": "stdout",
          "text": [
            "5/5 [==============================] - 0s 33ms/step\n"
          ]
        }
      ],
      "source": [
        "# creating the probability model for testing\n",
        "probability_model = tf.keras.Sequential([model_1, tf.keras.layers.Softmax()])\n",
        "\n",
        "# predicting test samples\n",
        "predictions = probability_model.predict(raw_test_batch.map(vectorize_text))\n"
      ]
    },
    {
      "cell_type": "code",
      "source": [
        "# extracting the history of training and its keys\n",
        "history_dict = history_1.history\n",
        "history_dict.keys()"
      ],
      "metadata": {
        "id": "K7ecnSu5qW3A",
        "colab": {
          "base_uri": "https://localhost:8080/"
        },
        "outputId": "3d23f388-a660-4ffc-ea7e-a377524b7ec4"
      },
      "execution_count": 32,
      "outputs": [
        {
          "output_type": "execute_result",
          "data": {
            "text/plain": [
              "dict_keys(['loss', 'accuracy', 'val_loss', 'val_accuracy'])"
            ]
          },
          "metadata": {},
          "execution_count": 32
        }
      ]
    },
    {
      "cell_type": "code",
      "execution_count": 33,
      "metadata": {
        "id": "eFiMW-S_qG8_"
      },
      "outputs": [],
      "source": [
        "acc = history_dict['accuracy']\n",
        "val_acc = history_dict['val_accuracy']\n",
        "loss = history_dict['loss']\n",
        "val_loss = history_dict['val_loss']\n",
        "\n",
        "epochs = range(1, len(acc) + 1)"
      ]
    },
    {
      "cell_type": "code",
      "execution_count": 34,
      "metadata": {
        "id": "KODp0kqoqG9A",
        "colab": {
          "base_uri": "https://localhost:8080/",
          "height": 573
        },
        "outputId": "2bdd5c4f-0fcd-4500-ccc9-7bb800cd8e43"
      },
      "outputs": [
        {
          "output_type": "display_data",
          "data": {
            "text/plain": [
              "<Figure size 432x288 with 1 Axes>"
            ],
            "image/png": "[encoded data removed]"
          },
          "metadata": {
            "needs_background": "light"
          }
        },
        {
          "output_type": "display_data",
          "data": {
            "text/plain": [
              "<Figure size 432x288 with 1 Axes>"
            ],
            "image/png": "[encoded data removed]"
          },
          "metadata": {
            "needs_background": "light"
          }
        }
      ],
      "source": [
        "# ploting of loss\n",
        "plt.plot(epochs, loss, 'b', label='Training loss')\n",
        "plt.plot(epochs, val_loss, 'r', label='Validation loss')\n",
        "plt.title('Training and validation loss')\n",
        "plt.xlabel('Epochs')\n",
        "plt.ylabel('Loss')\n",
        "plt.legend()\n",
        "plt.show()\n",
        "# plotting of accuracy\n",
        "plt.plot(epochs, acc, 'b', label='Training acc')\n",
        "plt.plot(epochs, val_acc, 'r', label='Validation acc')\n",
        "plt.title('Training and validation accuracy')\n",
        "plt.xlabel('Epochs')\n",
        "plt.ylabel('Accuracy')\n",
        "plt.legend(loc='lower right')\n",
        "plt.show()"
      ]
    },
    {
      "cell_type": "markdown",
      "source": [
        "\n",
        "\n",
        "---\n",
        "**Genarete a model with Transformer block** with 0.8273244500160217 accuracy \n"
      ],
      "metadata": {
        "id": "lv_YywOWt9x3"
      }
    },
    {
      "cell_type": "code",
      "source": [
        "class TransformerBlock(layers.Layer):\n",
        "    def __init__(self, embed_dim, num_heads, ff_dim, rate=0.1):\n",
        "        super(TransformerBlock, self).__init__()\n",
        "        self.att = layers.MultiHeadAttention(num_heads=num_heads, key_dim=embed_dim)\n",
        "        self.ffn = tf.keras.Sequential([\n",
        "            layers.Dense(ff_dim, activation=\"relu\"),\n",
        "            layers.Dense(embed_dim),\n",
        "        ])\n",
        "        self.layernorm1 = layers.LayerNormalization(epsilon=1e-6)\n",
        "        self.layernorm2 = layers.LayerNormalization(epsilon=1e-6)\n",
        "        self.dropout1 = layers.Dropout(rate)\n",
        "        self.dropout2 = layers.Dropout(rate)\n",
        "\n",
        "    def call(self, inputs, training):\n",
        "        attn_output = self.att(inputs, inputs)\n",
        "        attn_output = self.dropout1(attn_output, training=training)\n",
        "        out1 = self.layernorm1(inputs + attn_output)\n",
        "        ffn_output = self.ffn(out1)\n",
        "        ffn_output = self.dropout2(ffn_output, training=training)\n",
        "        return self.layernorm2(out1 + ffn_output)\n"
      ],
      "metadata": {
        "id": "5al0qMdQuIXe"
      },
      "execution_count": 35,
      "outputs": []
    },
    {
      "cell_type": "code",
      "source": [
        "embedding_dim = 128\n",
        "num_heads = 4\n",
        "ff_dim = 128\n",
        "dropout_rate = 0.20\n",
        "num_of_labels = 20\n",
        "\n",
        "inputs = layers.Input(shape=(309,))\n",
        "embedding_layer = layers.Embedding(max_features + 1, embedding_dim)(inputs)\n",
        "transformer_layer = TransformerBlock(embedding_dim, num_heads, ff_dim, dropout_rate)(embedding_layer)\n",
        "pooling_layer = layers.GlobalAveragePooling1D()(transformer_layer)\n",
        "dropout_layer = layers.Dropout(0.15)(pooling_layer)\n",
        "outputs = layers.Dense(num_of_labels, activation=\"softmax\")(dropout_layer)\n",
        "\n",
        "model_2 = tf.keras.Model(inputs=inputs, outputs=outputs)"
      ],
      "metadata": {
        "id": "v3FapF4WuKpu"
      },
      "execution_count": 36,
      "outputs": []
    },
    {
      "cell_type": "code",
      "source": [
        "# model compilation\n",
        "model_2.compile(optimizer='adam',\n",
        "              loss=tf.keras.losses.SparseCategoricalCrossentropy(from_logits=True),\n",
        "              metrics=['accuracy'])\n",
        "# training the model\n",
        "epochs = 500\n",
        "callback = tf.keras.callbacks.EarlyStopping(monitor='val_loss',\n",
        "                                            patience=30,\n",
        "                                            verbose=1)\n",
        "history_2 = model_2.fit(train_ds,\n",
        "                    validation_data=val_ds,\n",
        "                    epochs=epochs,\n",
        "                    callbacks=[callback])"
      ],
      "metadata": {
        "id": "cYLd7jBTue3v",
        "outputId": "076af546-e332-485f-f8a2-95bfcc5c4d25",
        "colab": {
          "base_uri": "https://localhost:8080/"
        }
      },
      "execution_count": 37,
      "outputs": [
        {
          "output_type": "stream",
          "name": "stdout",
          "text": [
            "Epoch 1/500\n",
            "36/36 [==============================] - 12s 211ms/step - loss: 2.8723 - accuracy: 0.1383 - val_loss: 2.6829 - val_accuracy: 0.1879\n",
            "Epoch 2/500\n",
            "36/36 [==============================] - 3s 85ms/step - loss: 2.7393 - accuracy: 0.1622 - val_loss: 2.6476 - val_accuracy: 0.2334\n",
            "Epoch 3/500\n",
            "36/36 [==============================] - 3s 87ms/step - loss: 2.5453 - accuracy: 0.2367 - val_loss: 2.3817 - val_accuracy: 0.2543\n",
            "Epoch 4/500\n",
            "36/36 [==============================] - 3s 86ms/step - loss: 1.6460 - accuracy: 0.5199 - val_loss: 1.1455 - val_accuracy: 0.7249\n",
            "Epoch 5/500\n",
            "36/36 [==============================] - 3s 87ms/step - loss: 0.4371 - accuracy: 0.8895 - val_loss: 1.0007 - val_accuracy: 0.7837\n",
            "Epoch 6/500\n",
            "36/36 [==============================] - 3s 89ms/step - loss: 0.0949 - accuracy: 0.9791 - val_loss: 1.0543 - val_accuracy: 0.7989\n",
            "Epoch 7/500\n",
            "36/36 [==============================] - 3s 89ms/step - loss: 0.0226 - accuracy: 0.9972 - val_loss: 1.1205 - val_accuracy: 0.8102\n",
            "Epoch 8/500\n",
            "36/36 [==============================] - 3s 89ms/step - loss: 0.0079 - accuracy: 0.9995 - val_loss: 1.1451 - val_accuracy: 0.8102\n",
            "Epoch 9/500\n",
            "36/36 [==============================] - 3s 91ms/step - loss: 0.0041 - accuracy: 0.9998 - val_loss: 1.1702 - val_accuracy: 0.8178\n",
            "Epoch 10/500\n",
            "36/36 [==============================] - 3s 92ms/step - loss: 0.0028 - accuracy: 1.0000 - val_loss: 1.1966 - val_accuracy: 0.8159\n",
            "Epoch 11/500\n",
            "36/36 [==============================] - 3s 91ms/step - loss: 0.0023 - accuracy: 1.0000 - val_loss: 1.2181 - val_accuracy: 0.8140\n",
            "Epoch 12/500\n",
            "36/36 [==============================] - 3s 92ms/step - loss: 0.0019 - accuracy: 1.0000 - val_loss: 1.2359 - val_accuracy: 0.8102\n",
            "Epoch 13/500\n",
            "36/36 [==============================] - 3s 91ms/step - loss: 0.0017 - accuracy: 1.0000 - val_loss: 1.2501 - val_accuracy: 0.8121\n",
            "Epoch 14/500\n",
            "36/36 [==============================] - 3s 90ms/step - loss: 0.0014 - accuracy: 1.0000 - val_loss: 1.2641 - val_accuracy: 0.8121\n",
            "Epoch 15/500\n",
            "36/36 [==============================] - 3s 89ms/step - loss: 0.0013 - accuracy: 1.0000 - val_loss: 1.2755 - val_accuracy: 0.8121\n",
            "Epoch 16/500\n",
            "36/36 [==============================] - 4s 98ms/step - loss: 0.0011 - accuracy: 1.0000 - val_loss: 1.2856 - val_accuracy: 0.8121\n",
            "Epoch 17/500\n",
            "36/36 [==============================] - 4s 99ms/step - loss: 0.0010 - accuracy: 1.0000 - val_loss: 1.2969 - val_accuracy: 0.8140\n",
            "Epoch 18/500\n",
            "36/36 [==============================] - 3s 87ms/step - loss: 9.5076e-04 - accuracy: 1.0000 - val_loss: 1.3070 - val_accuracy: 0.8121\n",
            "Epoch 19/500\n",
            "36/36 [==============================] - 3s 88ms/step - loss: 8.6675e-04 - accuracy: 1.0000 - val_loss: 1.3171 - val_accuracy: 0.8121\n",
            "Epoch 20/500\n",
            "36/36 [==============================] - 3s 86ms/step - loss: 7.9408e-04 - accuracy: 1.0000 - val_loss: 1.3270 - val_accuracy: 0.8121\n",
            "Epoch 21/500\n",
            "36/36 [==============================] - 3s 87ms/step - loss: 7.3079e-04 - accuracy: 1.0000 - val_loss: 1.3365 - val_accuracy: 0.8121\n",
            "Epoch 22/500\n",
            "36/36 [==============================] - 3s 88ms/step - loss: 7.0266e-04 - accuracy: 1.0000 - val_loss: 1.3459 - val_accuracy: 0.8121\n",
            "Epoch 23/500\n",
            "36/36 [==============================] - 3s 86ms/step - loss: 6.4231e-04 - accuracy: 1.0000 - val_loss: 1.3547 - val_accuracy: 0.8102\n",
            "Epoch 24/500\n",
            "36/36 [==============================] - 3s 87ms/step - loss: 5.9180e-04 - accuracy: 1.0000 - val_loss: 1.3638 - val_accuracy: 0.8102\n",
            "Epoch 25/500\n",
            "36/36 [==============================] - 3s 88ms/step - loss: 5.5634e-04 - accuracy: 1.0000 - val_loss: 1.3718 - val_accuracy: 0.8102\n",
            "Epoch 26/500\n",
            "36/36 [==============================] - 3s 87ms/step - loss: 5.2066e-04 - accuracy: 1.0000 - val_loss: 1.3792 - val_accuracy: 0.8102\n",
            "Epoch 27/500\n",
            "36/36 [==============================] - 3s 88ms/step - loss: 4.9380e-04 - accuracy: 1.0000 - val_loss: 1.3864 - val_accuracy: 0.8102\n",
            "Epoch 28/500\n",
            "36/36 [==============================] - 3s 88ms/step - loss: 4.6915e-04 - accuracy: 1.0000 - val_loss: 1.3937 - val_accuracy: 0.8102\n",
            "Epoch 29/500\n",
            "36/36 [==============================] - 3s 93ms/step - loss: 4.3361e-04 - accuracy: 1.0000 - val_loss: 1.4012 - val_accuracy: 0.8102\n",
            "Epoch 30/500\n",
            "36/36 [==============================] - 3s 89ms/step - loss: 4.1702e-04 - accuracy: 1.0000 - val_loss: 1.4074 - val_accuracy: 0.8102\n",
            "Epoch 31/500\n",
            "36/36 [==============================] - 3s 89ms/step - loss: 4.0762e-04 - accuracy: 1.0000 - val_loss: 1.4130 - val_accuracy: 0.8102\n",
            "Epoch 32/500\n",
            "36/36 [==============================] - 3s 89ms/step - loss: 3.8072e-04 - accuracy: 1.0000 - val_loss: 1.4193 - val_accuracy: 0.8083\n",
            "Epoch 33/500\n",
            "36/36 [==============================] - 3s 90ms/step - loss: 3.5630e-04 - accuracy: 1.0000 - val_loss: 1.4251 - val_accuracy: 0.8083\n",
            "Epoch 34/500\n",
            "36/36 [==============================] - 3s 89ms/step - loss: 3.3542e-04 - accuracy: 1.0000 - val_loss: 1.4305 - val_accuracy: 0.8083\n",
            "Epoch 35/500\n",
            "36/36 [==============================] - 3s 89ms/step - loss: 3.3137e-04 - accuracy: 1.0000 - val_loss: 1.4363 - val_accuracy: 0.8083\n",
            "Epoch 35: early stopping\n"
          ]
        }
      ]
    },
    {
      "cell_type": "code",
      "source": [
        "# printing loss and accuracy of the model on the test set\n",
        "loss, accuracy = model_2.evaluate(test_ds)\n",
        "print(\"Loss: \", loss)\n",
        "print(\"Accuracy: \", accuracy)"
      ],
      "metadata": {
        "id": "p6WXmc1GulzN",
        "outputId": "2fe8f47f-1412-4359-b31e-e2d1ea46bb4b",
        "colab": {
          "base_uri": "https://localhost:8080/"
        }
      },
      "execution_count": 38,
      "outputs": [
        {
          "output_type": "stream",
          "name": "stdout",
          "text": [
            "5/5 [==============================] - 0s 37ms/step - loss: 1.2518 - accuracy: 0.8273\n",
            "Loss:  1.2517801523208618\n",
            "Accuracy:  0.8273244500160217\n"
          ]
        }
      ]
    },
    {
      "cell_type": "code",
      "execution_count": 39,
      "metadata": {
        "colab": {
          "base_uri": "https://localhost:8080/"
        },
        "id": "5cbhBKR7NYPQ",
        "outputId": "0fb8074f-719c-4922-b457-a828d3ddea69"
      },
      "outputs": [
        {
          "output_type": "execute_result",
          "data": {
            "text/plain": [
              "2"
            ]
          },
          "metadata": {},
          "execution_count": 39
        }
      ],
      "source": [
        "# showing the first test sample result label\n",
        "np.argmax(predictions[0])"
      ]
    },
    {
      "cell_type": "code",
      "execution_count": 40,
      "metadata": {
        "colab": {
          "base_uri": "https://localhost:8080/"
        },
        "id": "aNsnTWVuu3xj",
        "outputId": "c6bf6eac-4b73-488f-a2f0-d609acb9cfb7"
      },
      "outputs": [
        {
          "output_type": "execute_result",
          "data": {
            "text/plain": [
              "text         dk twist jaded dreams mad tosh 2020 dk dk twis...\n",
              "label                                     Arts & Entertainment\n",
              "label_int                                                    2\n",
              "Name: 1536, dtype: object"
            ]
          },
          "metadata": {},
          "execution_count": 40
        }
      ],
      "source": [
        "# showing the true label of the first test sample\n",
        "test_df.iloc[0]"
      ]
    },
    {
      "cell_type": "code",
      "source": [
        "!pip install -q -U keras-tuner"
      ],
      "metadata": {
        "id": "YItRF2vK_Yt0",
        "outputId": "1ff39854-1371-4940-85da-3d49e045c031",
        "colab": {
          "base_uri": "https://localhost:8080/"
        }
      },
      "execution_count": 41,
      "outputs": [
        {
          "output_type": "stream",
          "name": "stdout",
          "text": [
            "\u001b[2K     \u001b[90m━━━━━━━━━━━━━━━━━━━━━━━━━━━━━━━━━━━━━━━\u001b[0m \u001b[32m167.3/167.3 KB\u001b[0m \u001b[31m6.3 MB/s\u001b[0m eta \u001b[36m0:00:00\u001b[0m\n",
            "\u001b[2K     \u001b[90m━━━━━━━━━━━━━━━━━━━━━━━━━━━━━━━━━━━━━━━━\u001b[0m \u001b[32m1.6/1.6 MB\u001b[0m \u001b[31m43.7 MB/s\u001b[0m eta \u001b[36m0:00:00\u001b[0m\n",
            "\u001b[?25h"
          ]
        }
      ]
    },
    {
      "cell_type": "markdown",
      "source": [
        "\n",
        "\n",
        "---\n",
        "\n",
        "**TUNING CNN Model**"
      ],
      "metadata": {
        "id": "iP4qQyuL-sEi"
      }
    },
    {
      "cell_type": "code",
      "source": [
        "import tensorflow as tf\n",
        "from tensorflow import keras\n",
        "from tensorflow.keras import layers\n",
        "from tensorflow.keras.layers.experimental.preprocessing import TextVectorization\n",
        "from kerastuner.tuners import RandomSearch\n",
        "\n",
        "# Define hyperparameters\n",
        "embedding_dim = 128\n",
        "num_filters = 64\n",
        "kernel_size = 5\n",
        "dense_units = 128\n",
        "dropout_rate = 0.5\n",
        "max_features = 10000\n",
        "\n",
        "# Define the text vectorization layer\n",
        "vectorize_layer = TextVectorization(\n",
        "    max_tokens=max_features,\n",
        "    output_mode='int',\n",
        "    output_sequence_length=500)\n",
        "\n",
        "# Define the model builder function for hyperparameter tuning\n",
        "def build_model(hp):\n",
        "    # Define hyperparameters\n",
        "    embedding_dim = hp.Int('embedding_dim', min_value=3, max_value=4096, step=64)\n",
        "    num_filters = hp.Int('num_filters', min_value=32, max_value=128, step=4)\n",
        "    kernel_size = hp.Int('kernel_size', min_value=3, max_value=9, step=2)\n",
        "    dense_units = hp.Int('dense_units', min_value=64, max_value=256, step=64)\n",
        "    dropout_rate = hp.Float('dropout_rate', min_value=0.1, max_value=0.5, step=0.05)\n",
        "\n",
        "    # Define the model architecture\n",
        "    model_3 = keras.Sequential([\n",
        "        layers.Embedding(max_features+1, embedding_dim),\n",
        "        layers.Conv1D(num_filters, kernel_size, activation='relu'),\n",
        "        layers.MaxPooling1D(),\n",
        "        layers.Conv1D(num_filters, kernel_size, activation='relu'),\n",
        "        layers.GlobalMaxPooling1D(),\n",
        "        layers.Dropout(dropout_rate),\n",
        "        layers.Dense(20)\n",
        "    ])\n",
        "\n",
        "    # Compile the model\n",
        "    model_3.compile(loss=tf.keras.losses.SparseCategoricalCrossentropy(from_logits=True),\n",
        "                  optimizer='adam',\n",
        "                  metrics=['accuracy'])\n",
        "    \n",
        "    return model_3\n",
        "\n",
        "# Instantiate the tuner\n",
        "tuner = RandomSearch(\n",
        "    build_model,\n",
        "    objective='val_accuracy',\n",
        "    max_trials=20,\n",
        "    executions_per_trial=1,\n",
        "    directory='my_dir',\n",
        "    project_name='my_project')\n",
        "\n",
        "# Fit the tuner to the data\n",
        "tuner.search(train_ds,\n",
        "             validation_data=val_ds,\n",
        "             epochs=400,\n",
        "             callbacks=[tf.keras.callbacks.EarlyStopping(\n",
        "                        monitor='val_loss', patience=10)])\n",
        "\n",
        "# Get the best model\n",
        "best_model = tuner.get_best_models(num_models=1)[0]"
      ],
      "metadata": {
        "id": "lH5WY_cn-rnV",
        "outputId": "5ac75732-9b9c-49a4-cf86-ad2e5d5158eb",
        "colab": {
          "base_uri": "https://localhost:8080/"
        }
      },
      "execution_count": 42,
      "outputs": [
        {
          "output_type": "stream",
          "name": "stdout",
          "text": [
            "Trial 20 Complete [00h 01m 23s]\n",
            "val_accuracy: 0.8007590174674988\n",
            "\n",
            "Best val_accuracy So Far: 0.8159393072128296\n",
            "Total elapsed time: 00h 22m 28s\n"
          ]
        }
      ]
    },
    {
      "cell_type": "code",
      "execution_count": 43,
      "metadata": {
        "id": "bOt2UPu7NbUW",
        "outputId": "8130848a-89ee-4472-a74b-f88312212b4b",
        "colab": {
          "base_uri": "https://localhost:8080/"
        }
      },
      "outputs": [
        {
          "output_type": "stream",
          "name": "stdout",
          "text": [
            "Epoch 1/500\n",
            "36/36 [==============================] - 8s 188ms/step - loss: 0.0123 - accuracy: 0.9960 - val_loss: 0.9240 - val_accuracy: 0.8102\n",
            "Epoch 2/500\n",
            "36/36 [==============================] - 5s 128ms/step - loss: 0.0056 - accuracy: 0.9988 - val_loss: 1.0005 - val_accuracy: 0.8046\n",
            "Epoch 3/500\n",
            "36/36 [==============================] - 5s 133ms/step - loss: 0.0065 - accuracy: 0.9981 - val_loss: 1.0596 - val_accuracy: 0.8083\n",
            "Epoch 4/500\n",
            "36/36 [==============================] - 5s 130ms/step - loss: 0.0048 - accuracy: 0.9986 - val_loss: 1.1881 - val_accuracy: 0.8065\n",
            "Epoch 5/500\n",
            "36/36 [==============================] - 5s 131ms/step - loss: 0.0096 - accuracy: 0.9964 - val_loss: 1.3152 - val_accuracy: 0.7628\n",
            "Epoch 6/500\n",
            "36/36 [==============================] - 5s 133ms/step - loss: 0.0198 - accuracy: 0.9957 - val_loss: 1.2913 - val_accuracy: 0.7723\n",
            "Epoch 7/500\n",
            "36/36 [==============================] - 5s 133ms/step - loss: 0.0086 - accuracy: 0.9983 - val_loss: 1.3168 - val_accuracy: 0.7818\n",
            "Epoch 8/500\n",
            "36/36 [==============================] - 5s 134ms/step - loss: 0.0071 - accuracy: 0.9981 - val_loss: 1.4287 - val_accuracy: 0.7704\n",
            "Epoch 9/500\n",
            "36/36 [==============================] - 5s 133ms/step - loss: 0.0073 - accuracy: 0.9983 - val_loss: 1.3803 - val_accuracy: 0.7780\n",
            "Epoch 10/500\n",
            "36/36 [==============================] - 5s 130ms/step - loss: 0.0026 - accuracy: 0.9995 - val_loss: 1.3601 - val_accuracy: 0.7894\n",
            "Epoch 11/500\n",
            "36/36 [==============================] - 5s 130ms/step - loss: 0.0013 - accuracy: 0.9998 - val_loss: 1.3894 - val_accuracy: 0.7761\n",
            "Epoch 12/500\n",
            "36/36 [==============================] - 5s 134ms/step - loss: 0.0011 - accuracy: 1.0000 - val_loss: 1.4111 - val_accuracy: 0.7742\n",
            "Epoch 13/500\n",
            "36/36 [==============================] - 5s 128ms/step - loss: 0.0021 - accuracy: 0.9995 - val_loss: 1.4673 - val_accuracy: 0.7780\n",
            "Epoch 14/500\n",
            "36/36 [==============================] - 5s 129ms/step - loss: 9.8152e-04 - accuracy: 1.0000 - val_loss: 1.5447 - val_accuracy: 0.7761\n",
            "Epoch 15/500\n",
            "36/36 [==============================] - 5s 128ms/step - loss: 0.0011 - accuracy: 0.9995 - val_loss: 1.5258 - val_accuracy: 0.7780\n",
            "Epoch 16/500\n",
            "36/36 [==============================] - 5s 133ms/step - loss: 0.0038 - accuracy: 0.9988 - val_loss: 1.5735 - val_accuracy: 0.7856\n",
            "Epoch 17/500\n",
            "36/36 [==============================] - 5s 128ms/step - loss: 8.1430e-04 - accuracy: 1.0000 - val_loss: 1.5844 - val_accuracy: 0.7799\n",
            "Epoch 18/500\n",
            "36/36 [==============================] - 5s 127ms/step - loss: 6.6442e-04 - accuracy: 1.0000 - val_loss: 1.5856 - val_accuracy: 0.7799\n",
            "Epoch 19/500\n",
            "36/36 [==============================] - 5s 128ms/step - loss: 4.8596e-04 - accuracy: 1.0000 - val_loss: 1.5802 - val_accuracy: 0.7932\n",
            "Epoch 20/500\n",
            "36/36 [==============================] - 5s 129ms/step - loss: 6.6598e-04 - accuracy: 1.0000 - val_loss: 1.6276 - val_accuracy: 0.7799\n",
            "Epoch 21/500\n",
            "36/36 [==============================] - 5s 133ms/step - loss: 4.3196e-04 - accuracy: 1.0000 - val_loss: 1.6723 - val_accuracy: 0.7704\n",
            "Epoch 22/500\n",
            "36/36 [==============================] - 5s 130ms/step - loss: 0.0014 - accuracy: 0.9995 - val_loss: 1.6731 - val_accuracy: 0.7875\n",
            "Epoch 23/500\n",
            "36/36 [==============================] - 5s 130ms/step - loss: 0.0022 - accuracy: 0.9998 - val_loss: 1.7231 - val_accuracy: 0.7761\n",
            "Epoch 24/500\n",
            "36/36 [==============================] - 5s 132ms/step - loss: 0.0078 - accuracy: 0.9972 - val_loss: 1.8635 - val_accuracy: 0.7647\n",
            "Epoch 25/500\n",
            "36/36 [==============================] - 5s 130ms/step - loss: 0.0036 - accuracy: 0.9995 - val_loss: 1.7707 - val_accuracy: 0.7894\n",
            "Epoch 26/500\n",
            "36/36 [==============================] - 5s 130ms/step - loss: 0.0058 - accuracy: 0.9988 - val_loss: 2.0616 - val_accuracy: 0.7666\n",
            "Epoch 27/500\n",
            "36/36 [==============================] - 5s 130ms/step - loss: 0.0158 - accuracy: 0.9957 - val_loss: 2.0010 - val_accuracy: 0.7685\n",
            "Epoch 28/500\n",
            "36/36 [==============================] - 5s 130ms/step - loss: 0.0168 - accuracy: 0.9960 - val_loss: 2.5248 - val_accuracy: 0.7438\n",
            "Epoch 29/500\n",
            "36/36 [==============================] - 5s 130ms/step - loss: 0.0219 - accuracy: 0.9945 - val_loss: 2.4935 - val_accuracy: 0.7324\n",
            "Epoch 30/500\n",
            "36/36 [==============================] - 5s 129ms/step - loss: 0.0280 - accuracy: 0.9945 - val_loss: 2.5018 - val_accuracy: 0.7495\n",
            "Epoch 31/500\n",
            "36/36 [==============================] - 5s 129ms/step - loss: 0.0229 - accuracy: 0.9960 - val_loss: 2.5616 - val_accuracy: 0.7324\n",
            "Epoch 31: early stopping\n"
          ]
        }
      ],
      "source": [
        " # model compilation\n",
        "best_model.compile(optimizer='adam',\n",
        "              loss=tf.keras.losses.SparseCategoricalCrossentropy(from_logits=True),\n",
        "              metrics=['accuracy'])\n",
        "# training the model\n",
        "epochs = 500\n",
        "callback = tf.keras.callbacks.EarlyStopping(monitor='val_loss',\n",
        "                                            patience=30,\n",
        "                                            verbose=1)\n",
        "history_best = best_model.fit(train_ds,\n",
        "                    validation_data=val_ds,\n",
        "                    epochs=epochs,\n",
        "                    callbacks=[callback])"
      ]
    },
    {
      "cell_type": "code",
      "source": [
        " # printing loss and accuracy of the model on the test set\n",
        "loss, accuracy = best_model.evaluate(test_ds)\n",
        "print(\"Loss: \", loss)\n",
        "print(\"Accuracy: \", accuracy)"
      ],
      "metadata": {
        "id": "64DIpuXAkZz4",
        "outputId": "f1016574-ddef-484a-8edd-224a4333b443",
        "colab": {
          "base_uri": "https://localhost:8080/"
        }
      },
      "execution_count": 44,
      "outputs": [
        {
          "output_type": "stream",
          "name": "stdout",
          "text": [
            "5/5 [==============================] - 0s 42ms/step - loss: 1.7301 - accuracy: 0.8140\n",
            "Loss:  1.7301099300384521\n",
            "Accuracy:  0.8140417337417603\n"
          ]
        }
      ]
    },
    {
      "cell_type": "markdown",
      "source": [
        "\n",
        "\n",
        "---\n",
        "\n",
        "**TUNING Dense Model**"
      ],
      "metadata": {
        "id": "L7J_jwr7IcYd"
      }
    },
    {
      "cell_type": "code",
      "source": [
        "import tensorflow as tf\n",
        "from tensorflow import keras\n",
        "from tensorflow.keras import layers\n",
        "from tensorflow.keras.layers.experimental.preprocessing import TextVectorization\n",
        "from kerastuner.tuners import RandomSearch\n",
        "\n",
        "# Define hyperparameters\n",
        "embedding_dim = 128\n",
        "num_filters = 64\n",
        "kernel_size = 5\n",
        "dense_units = 128\n",
        "dropout_rate = 0.5\n",
        "max_features = 10000\n",
        "\n",
        "# Define the model builder function for hyperparameter tuning\n",
        "def build_model(hp):\n",
        "    # Define hyperparameters\n",
        "    embedding_dim = hp.Int('embedding_dim', min_value=3, max_value=4096, step=64)\n",
        "    num_filters = hp.Int('num_filters', min_value=32, max_value=128, step=4)\n",
        "    kernel_size = hp.Int('kernel_size', min_value=3, max_value=9, step=2)\n",
        "    dense_units = hp.Int('dense_units', min_value=64, max_value=256, step=64)\n",
        "    dropout_rate = hp.Float('dropout_rate', min_value=0.1, max_value=0.5, step=0.05)\n",
        "\n",
        "    # Define the model architecture\n",
        "    model_4 = keras.Sequential([\n",
        "        layers.Embedding(max_features+1, embedding_dim),\n",
        "        layers.Dropout(0.15),\n",
        "        layers.GlobalAveragePooling1D(),\n",
        "        layers.Dropout(dropout_rate),\n",
        "        layers.Dense(20)\n",
        "    ])\n",
        "\n",
        "    # Compile the model\n",
        "    model_4.compile(loss=tf.keras.losses.SparseCategoricalCrossentropy(from_logits=True),\n",
        "                  optimizer='adam',\n",
        "                  metrics=['accuracy'])\n",
        "    \n",
        "    return model_4\n",
        "\n",
        "# Instantiate the tuner\n",
        "tuner = RandomSearch(\n",
        "    build_model,\n",
        "    objective='val_accuracy',\n",
        "    max_trials=20,\n",
        "    executions_per_trial=1,\n",
        "    directory='',\n",
        "    project_name='')\n",
        "\n",
        "# Fit the tuner to the data\n",
        "tuner.search(train_ds,\n",
        "             validation_data=val_ds,\n",
        "             epochs=400,\n",
        "             callbacks=[tf.keras.callbacks.EarlyStopping(\n",
        "                        monitor='val_loss', patience=10)])\n",
        "# Get the best model\n"
      ],
      "metadata": {
        "colab": {
          "base_uri": "https://localhost:8080/"
        },
        "outputId": "1585fc55-b4e9-469a-bbb9-b02afc4929a6",
        "id": "Pa21X2iKIcYs"
      },
      "execution_count": 45,
      "outputs": [
        {
          "output_type": "stream",
          "name": "stdout",
          "text": [
            "Trial 20 Complete [00h 03m 56s]\n",
            "val_accuracy: 0.8159393072128296\n",
            "\n",
            "Best val_accuracy So Far: 0.8197343349456787\n",
            "Total elapsed time: 00h 58m 07s\n"
          ]
        }
      ]
    },
    {
      "cell_type": "code",
      "source": [
        "best_model_2 = tuner.get_best_models(num_models=1)[0]"
      ],
      "metadata": {
        "id": "uLvEKegUIcYs"
      },
      "execution_count": 46,
      "outputs": []
    },
    {
      "cell_type": "code",
      "execution_count": 47,
      "metadata": {
        "colab": {
          "base_uri": "https://localhost:8080/"
        },
        "outputId": "52f13554-564f-4eb2-9fcc-ef2fc6117802",
        "id": "QEJmHNqJIcYs"
      },
      "outputs": [
        {
          "output_type": "stream",
          "name": "stdout",
          "text": [
            "Epoch 1/500\n",
            "36/36 [==============================] - 6s 145ms/step - loss: 0.0318 - accuracy: 0.9988 - val_loss: 0.7879 - val_accuracy: 0.8083\n",
            "Epoch 2/500\n",
            "36/36 [==============================] - 2s 56ms/step - loss: 0.0277 - accuracy: 0.9991 - val_loss: 0.7899 - val_accuracy: 0.8159\n",
            "Epoch 3/500\n",
            "36/36 [==============================] - 2s 57ms/step - loss: 0.0250 - accuracy: 0.9991 - val_loss: 0.7934 - val_accuracy: 0.8159\n",
            "Epoch 4/500\n",
            "36/36 [==============================] - 2s 56ms/step - loss: 0.0228 - accuracy: 0.9988 - val_loss: 0.7968 - val_accuracy: 0.8140\n",
            "Epoch 5/500\n",
            "36/36 [==============================] - 2s 56ms/step - loss: 0.0208 - accuracy: 0.9993 - val_loss: 0.7976 - val_accuracy: 0.8102\n",
            "Epoch 6/500\n",
            "36/36 [==============================] - 2s 56ms/step - loss: 0.0191 - accuracy: 0.9991 - val_loss: 0.8028 - val_accuracy: 0.8197\n",
            "Epoch 7/500\n",
            "36/36 [==============================] - 2s 56ms/step - loss: 0.0176 - accuracy: 0.9993 - val_loss: 0.8026 - val_accuracy: 0.8159\n",
            "Epoch 8/500\n",
            "36/36 [==============================] - 2s 56ms/step - loss: 0.0163 - accuracy: 0.9993 - val_loss: 0.8071 - val_accuracy: 0.8159\n",
            "Epoch 9/500\n",
            "36/36 [==============================] - 2s 58ms/step - loss: 0.0151 - accuracy: 0.9995 - val_loss: 0.8095 - val_accuracy: 0.8121\n",
            "Epoch 10/500\n",
            "36/36 [==============================] - 2s 56ms/step - loss: 0.0142 - accuracy: 0.9993 - val_loss: 0.8145 - val_accuracy: 0.8140\n",
            "Epoch 11/500\n",
            "36/36 [==============================] - 2s 56ms/step - loss: 0.0135 - accuracy: 0.9993 - val_loss: 0.8133 - val_accuracy: 0.8216\n",
            "Epoch 12/500\n",
            "36/36 [==============================] - 2s 56ms/step - loss: 0.0127 - accuracy: 0.9993 - val_loss: 0.8149 - val_accuracy: 0.8140\n",
            "Epoch 13/500\n",
            "36/36 [==============================] - 2s 56ms/step - loss: 0.0121 - accuracy: 0.9993 - val_loss: 0.8164 - val_accuracy: 0.8102\n",
            "Epoch 14/500\n",
            "36/36 [==============================] - 2s 57ms/step - loss: 0.0113 - accuracy: 0.9993 - val_loss: 0.8209 - val_accuracy: 0.8197\n",
            "Epoch 15/500\n",
            "36/36 [==============================] - 2s 56ms/step - loss: 0.0108 - accuracy: 0.9993 - val_loss: 0.8248 - val_accuracy: 0.8159\n",
            "Epoch 16/500\n",
            "36/36 [==============================] - 2s 56ms/step - loss: 0.0104 - accuracy: 0.9993 - val_loss: 0.8271 - val_accuracy: 0.8159\n",
            "Epoch 17/500\n",
            "36/36 [==============================] - 2s 56ms/step - loss: 0.0095 - accuracy: 0.9993 - val_loss: 0.8334 - val_accuracy: 0.8083\n",
            "Epoch 18/500\n",
            "36/36 [==============================] - 2s 56ms/step - loss: 0.0092 - accuracy: 0.9993 - val_loss: 0.8317 - val_accuracy: 0.8121\n",
            "Epoch 19/500\n",
            "36/36 [==============================] - 2s 56ms/step - loss: 0.0089 - accuracy: 0.9993 - val_loss: 0.8360 - val_accuracy: 0.8159\n",
            "Epoch 20/500\n",
            "36/36 [==============================] - 2s 58ms/step - loss: 0.0085 - accuracy: 0.9993 - val_loss: 0.8378 - val_accuracy: 0.8102\n",
            "Epoch 21/500\n",
            "36/36 [==============================] - 2s 56ms/step - loss: 0.0082 - accuracy: 0.9993 - val_loss: 0.8482 - val_accuracy: 0.8140\n",
            "Epoch 22/500\n",
            "36/36 [==============================] - 2s 56ms/step - loss: 0.0080 - accuracy: 0.9993 - val_loss: 0.8536 - val_accuracy: 0.8102\n",
            "Epoch 23/500\n",
            "36/36 [==============================] - 2s 56ms/step - loss: 0.0078 - accuracy: 0.9993 - val_loss: 0.8531 - val_accuracy: 0.8102\n",
            "Epoch 24/500\n",
            "36/36 [==============================] - 2s 56ms/step - loss: 0.0073 - accuracy: 0.9993 - val_loss: 0.8619 - val_accuracy: 0.8121\n",
            "Epoch 25/500\n",
            "36/36 [==============================] - 2s 57ms/step - loss: 0.0071 - accuracy: 0.9993 - val_loss: 0.8653 - val_accuracy: 0.8140\n",
            "Epoch 26/500\n",
            "36/36 [==============================] - 2s 59ms/step - loss: 0.0068 - accuracy: 0.9993 - val_loss: 0.8674 - val_accuracy: 0.8102\n",
            "Epoch 27/500\n",
            "36/36 [==============================] - 2s 56ms/step - loss: 0.0066 - accuracy: 0.9993 - val_loss: 0.8670 - val_accuracy: 0.8083\n",
            "Epoch 28/500\n",
            "36/36 [==============================] - 2s 56ms/step - loss: 0.0066 - accuracy: 0.9993 - val_loss: 0.8776 - val_accuracy: 0.8140\n",
            "Epoch 29/500\n",
            "36/36 [==============================] - 2s 57ms/step - loss: 0.0064 - accuracy: 0.9993 - val_loss: 0.8807 - val_accuracy: 0.8083\n",
            "Epoch 30/500\n",
            "36/36 [==============================] - 2s 56ms/step - loss: 0.0061 - accuracy: 0.9993 - val_loss: 0.8819 - val_accuracy: 0.8102\n",
            "Epoch 31/500\n",
            "36/36 [==============================] - 2s 56ms/step - loss: 0.0062 - accuracy: 0.9993 - val_loss: 0.8899 - val_accuracy: 0.8121\n",
            "Epoch 31: early stopping\n"
          ]
        }
      ],
      "source": [
        "# model compilation\n",
        "best_model_2.compile(optimizer='adam',\n",
        "              loss=tf.keras.losses.SparseCategoricalCrossentropy(from_logits=True),\n",
        "              metrics=['accuracy'])\n",
        "# training the model\n",
        "epochs = 500\n",
        "callback = tf.keras.callbacks.EarlyStopping(monitor='val_loss',\n",
        "                                            patience=30,\n",
        "                                            verbose=1)\n",
        "history_best_2 = best_model_2.fit(train_ds,\n",
        "                    validation_data=val_ds,\n",
        "                    epochs=epochs,\n",
        "                    callbacks=[callback])"
      ]
    },
    {
      "cell_type": "code",
      "source": [
        " # printing loss and accuracy of the model on the test set\n",
        "loss, accuracy = best_model_2 .evaluate(test_ds)\n",
        "print(\"Loss: \", loss)\n",
        "print(\"Accuracy: \", accuracy)"
      ],
      "metadata": {
        "colab": {
          "base_uri": "https://localhost:8080/"
        },
        "id": "nvV_Ca0MBzxH",
        "outputId": "cdf721a8-81c7-4fe4-845c-3382787f04bd"
      },
      "execution_count": 48,
      "outputs": [
        {
          "output_type": "stream",
          "name": "stdout",
          "text": [
            "5/5 [==============================] - 0s 9ms/step - loss: 0.7885 - accuracy: 0.8273\n",
            "Loss:  0.7885050177574158\n",
            "Accuracy:  0.8273244500160217\n"
          ]
        }
      ]
    },
    {
      "cell_type": "markdown",
      "metadata": {
        "id": "ETyqjODJBfZQ"
      },
      "source": [
        "**Author:** https://Aliejabbari.github.io/"
      ]
    },
    {
      "cell_type": "code",
      "source": [],
      "metadata": {
        "id": "OVD8BOB6nWbb"
      },
      "execution_count": null,
      "outputs": []
    },
    {
      "cell_type": "markdown",
      "metadata": {
        "id": "CSw7kwIQipyc"
      },
      "source": [
        "**Author:** https://Aliejabbari.github.io/"
      ]
    }
  ],
  "metadata": {
    "accelerator": "GPU",
    "colab": {
      "provenance": [],
      "include_colab_link": true
    },
    "gpuClass": "standard",
    "kernelspec": {
      "display_name": "Python 3",
      "name": "python3"
    },
    "language_info": {
      "name": "python"
    }
  },
  "nbformat": 4,
  "nbformat_minor": 0
}